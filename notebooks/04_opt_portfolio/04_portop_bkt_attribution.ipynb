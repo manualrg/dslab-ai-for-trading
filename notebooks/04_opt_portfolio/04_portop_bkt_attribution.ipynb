{
 "cells": [
  {
   "cell_type": "markdown",
   "metadata": {},
   "source": [
    "<font size=\"6\"> **Portfolio Optimization: Attribution and Results** </font>"
   ]
  },
  {
   "cell_type": "code",
   "execution_count": 1,
   "metadata": {},
   "outputs": [],
   "source": [
    "%%capture\n",
    "%run 00_portopt_data.ipynb"
   ]
  },
  {
   "cell_type": "code",
   "execution_count": 2,
   "metadata": {},
   "outputs": [],
   "source": [
    "import datetime as dt\n",
    "\n",
    "from tqdm import tqdm\n",
    "\n",
    "from src.mle_quant_utils import portopt_utils\n",
    "from src.portfolio_opt import cvx_opt_port"
   ]
  },
  {
   "cell_type": "code",
   "execution_count": 3,
   "metadata": {},
   "outputs": [],
   "source": [
    "N_DAYS_DELAY = cfg['backtesting']['n_days_delay']\n",
    "OPT_CONST = cfg['backtesting']['opt_port']\n",
    "LAMBDA_REG = OPT_CONST['lambda_reg']"
   ]
  },
  {
   "cell_type": "code",
   "execution_count": 4,
   "metadata": {},
   "outputs": [
    {
     "name": "stdout",
     "output_type": "stream",
     "text": [
      "n_days_delay: 2\n",
      "opt constraints params: {'risk_aversion': '1e-6', 'min_mkt_cap': '1e8', 'lambda_reg': '0.5', 'risk_cap': '0.05', 'factor_max': '10.0', 'factor_min': '-10.0', 'weights_max': '0.55', 'weights_min': '-0.55'}\n"
     ]
    }
   ],
   "source": [
    "print('n_days_delay:', N_DAYS_DELAY)\n",
    "print('opt constraints params:', OPT_CONST)"
   ]
  },
  {
   "cell_type": "code",
   "execution_count": 5,
   "metadata": {},
   "outputs": [
    {
     "name": "stdout",
     "output_type": "stream",
     "text": [
      "True True\n"
     ]
    }
   ],
   "source": [
    "INPATH1 =  os.path.join(io_utils.processed_path, cfg['output']['opt_portfolio']['folder'], OPT_MODEL_VERSION, \"\")\n",
    "INPATH2 =  os.path.join(io_utils.models_path, cfg['output']['opt_portfolio']['folder'], OPT_MODEL_VERSION, \"\")\n",
    "print(os.path.isdir(INPATH1), os.path.isdir(INPATH2))"
   ]
  },
  {
   "cell_type": "code",
   "execution_count": 6,
   "metadata": {},
   "outputs": [],
   "source": [
    "INFILE1 = cfg['output']['opt_portfolio']['pnl_results']\n",
    "INFILE2 = cfg['output']['opt_portfolio']['model']\n",
    "INFILE3 = cfg['output']['opt_portfolio']['model_metadata']"
   ]
  },
  {
   "cell_type": "markdown",
   "metadata": {},
   "source": [
    "# Load Data"
   ]
  },
  {
   "cell_type": "markdown",
   "metadata": {},
   "source": [
    "## Statistical Risk Model"
   ]
  },
  {
   "cell_type": "code",
   "execution_count": 7,
   "metadata": {},
   "outputs": [
    {
     "data": {
      "text/plain": [
       "dict_keys(['idiosyncratic_var_vector', 'factor_var_vector', 'factor_betas', 'factor_returns'])"
      ]
     },
     "execution_count": 7,
     "metadata": {},
     "output_type": "execute_result"
    }
   ],
   "source": [
    "risk_model.keys()"
   ]
  },
  {
   "cell_type": "code",
   "execution_count": 8,
   "metadata": {},
   "outputs": [
    {
     "data": {
      "text/plain": [
       "(490, 20)"
      ]
     },
     "execution_count": 8,
     "metadata": {},
     "output_type": "execute_result"
    }
   ],
   "source": [
    "risk_model['factor_betas'].shape"
   ]
  },
  {
   "cell_type": "code",
   "execution_count": 9,
   "metadata": {},
   "outputs": [
    {
     "data": {
      "text/plain": [
       "(20, 20)"
      ]
     },
     "execution_count": 9,
     "metadata": {},
     "output_type": "execute_result"
    }
   ],
   "source": [
    "risk_model['factor_cov_matrix'] = np.diag(risk_model['factor_var_vector']['0'].values)\n",
    "risk_model['factor_cov_matrix'].shape"
   ]
  },
  {
   "cell_type": "code",
   "execution_count": 10,
   "metadata": {},
   "outputs": [
    {
     "data": {
      "text/plain": [
       "(490, 1)"
      ]
     },
     "execution_count": 10,
     "metadata": {},
     "output_type": "execute_result"
    }
   ],
   "source": [
    "risk_model['idiosyncratic_var_vector'].shape"
   ]
  },
  {
   "cell_type": "markdown",
   "metadata": {},
   "source": [
    "## Alpha Factors"
   ]
  },
  {
   "cell_type": "code",
   "execution_count": 11,
   "metadata": {},
   "outputs": [
    {
     "data": {
      "text/html": [
       "<div>\n",
       "<style scoped>\n",
       "    .dataframe tbody tr th:only-of-type {\n",
       "        vertical-align: middle;\n",
       "    }\n",
       "\n",
       "    .dataframe tbody tr th {\n",
       "        vertical-align: top;\n",
       "    }\n",
       "\n",
       "    .dataframe thead th {\n",
       "        text-align: right;\n",
       "    }\n",
       "</style>\n",
       "<table border=\"1\" class=\"dataframe\">\n",
       "  <thead>\n",
       "    <tr style=\"text-align: right;\">\n",
       "      <th></th>\n",
       "      <th></th>\n",
       "      <th>Mean_Reversion_Sector_Neutral_Smoothed</th>\n",
       "      <th>Momentum_1YR_Smoothed</th>\n",
       "      <th>Overnight_Sentiment_Smoothed</th>\n",
       "      <th>avg_combi_alpha</th>\n",
       "      <th>ml_alpha</th>\n",
       "    </tr>\n",
       "    <tr>\n",
       "      <th>date</th>\n",
       "      <th>asset</th>\n",
       "      <th></th>\n",
       "      <th></th>\n",
       "      <th></th>\n",
       "      <th></th>\n",
       "      <th></th>\n",
       "    </tr>\n",
       "  </thead>\n",
       "  <tbody>\n",
       "    <tr>\n",
       "      <th rowspan=\"2\" valign=\"top\">2015-05-26 00:00:00+00:00</th>\n",
       "      <th>A</th>\n",
       "      <td>1.534003</td>\n",
       "      <td>-1.233543</td>\n",
       "      <td>1.149941</td>\n",
       "      <td>0.483467</td>\n",
       "      <td>1.508204</td>\n",
       "    </tr>\n",
       "    <tr>\n",
       "      <th>AAL</th>\n",
       "      <td>1.692444</td>\n",
       "      <td>0.236520</td>\n",
       "      <td>1.664201</td>\n",
       "      <td>1.197722</td>\n",
       "      <td>2.995088</td>\n",
       "    </tr>\n",
       "    <tr>\n",
       "      <th rowspan=\"2\" valign=\"top\">2015-12-28 00:00:00+00:00</th>\n",
       "      <th>ZION</th>\n",
       "      <td>0.773366</td>\n",
       "      <td>-0.188031</td>\n",
       "      <td>1.325552</td>\n",
       "      <td>0.636962</td>\n",
       "      <td>1.059585</td>\n",
       "    </tr>\n",
       "    <tr>\n",
       "      <th>ZTS</th>\n",
       "      <td>-0.944433</td>\n",
       "      <td>0.209727</td>\n",
       "      <td>0.441851</td>\n",
       "      <td>-0.097619</td>\n",
       "      <td>-0.273877</td>\n",
       "    </tr>\n",
       "  </tbody>\n",
       "</table>\n",
       "</div>"
      ],
      "text/plain": [
       "                                 Mean_Reversion_Sector_Neutral_Smoothed  \\\n",
       "date                      asset                                           \n",
       "2015-05-26 00:00:00+00:00 A                                    1.534003   \n",
       "                          AAL                                  1.692444   \n",
       "2015-12-28 00:00:00+00:00 ZION                                 0.773366   \n",
       "                          ZTS                                 -0.944433   \n",
       "\n",
       "                                 Momentum_1YR_Smoothed  \\\n",
       "date                      asset                          \n",
       "2015-05-26 00:00:00+00:00 A                  -1.233543   \n",
       "                          AAL                 0.236520   \n",
       "2015-12-28 00:00:00+00:00 ZION               -0.188031   \n",
       "                          ZTS                 0.209727   \n",
       "\n",
       "                                 Overnight_Sentiment_Smoothed  \\\n",
       "date                      asset                                 \n",
       "2015-05-26 00:00:00+00:00 A                          1.149941   \n",
       "                          AAL                        1.664201   \n",
       "2015-12-28 00:00:00+00:00 ZION                       1.325552   \n",
       "                          ZTS                        0.441851   \n",
       "\n",
       "                                 avg_combi_alpha  ml_alpha  \n",
       "date                      asset                             \n",
       "2015-05-26 00:00:00+00:00 A             0.483467  1.508204  \n",
       "                          AAL           1.197722  2.995088  \n",
       "2015-12-28 00:00:00+00:00 ZION          0.636962  1.059585  \n",
       "                          ZTS          -0.097619 -0.273877  "
      ]
     },
     "execution_count": 11,
     "metadata": {},
     "output_type": "execute_result"
    }
   ],
   "source": [
    "pd.concat([B_alpha.head(2), B_alpha.tail(2)], axis=0)\n"
   ]
  },
  {
   "cell_type": "markdown",
   "metadata": {},
   "source": [
    "## PnL Data"
   ]
  },
  {
   "cell_type": "code",
   "execution_count": 12,
   "metadata": {},
   "outputs": [
    {
     "data": {
      "text/html": [
       "<div>\n",
       "<style scoped>\n",
       "    .dataframe tbody tr th:only-of-type {\n",
       "        vertical-align: middle;\n",
       "    }\n",
       "\n",
       "    .dataframe tbody tr th {\n",
       "        vertical-align: top;\n",
       "    }\n",
       "\n",
       "    .dataframe thead th {\n",
       "        text-align: right;\n",
       "    }\n",
       "</style>\n",
       "<table border=\"1\" class=\"dataframe\">\n",
       "  <thead>\n",
       "    <tr style=\"text-align: right;\">\n",
       "      <th></th>\n",
       "      <th></th>\n",
       "      <th>returns_date</th>\n",
       "      <th>daily_pnl</th>\n",
       "      <th>daily_transaction_cost</th>\n",
       "      <th>daily_total</th>\n",
       "      <th>accum_total</th>\n",
       "      <th>accum_transaction_cost</th>\n",
       "    </tr>\n",
       "    <tr>\n",
       "      <th>date</th>\n",
       "      <th>port_name</th>\n",
       "      <th></th>\n",
       "      <th></th>\n",
       "      <th></th>\n",
       "      <th></th>\n",
       "      <th></th>\n",
       "      <th></th>\n",
       "    </tr>\n",
       "  </thead>\n",
       "  <tbody>\n",
       "    <tr>\n",
       "      <th>2015-05-26 00:00:00+00:00</th>\n",
       "      <th>simple_ml</th>\n",
       "      <td>2015-05-28 00:00:00+00:00</td>\n",
       "      <td>0.001652</td>\n",
       "      <td>0.000000e+00</td>\n",
       "      <td>0.001652</td>\n",
       "      <td>0.001652</td>\n",
       "      <td>0.000000</td>\n",
       "    </tr>\n",
       "    <tr>\n",
       "      <th>2015-05-27 00:00:00+00:00</th>\n",
       "      <th>simple_ml</th>\n",
       "      <td>2015-05-29 00:00:00+00:00</td>\n",
       "      <td>0.001363</td>\n",
       "      <td>0.000000e+00</td>\n",
       "      <td>0.001363</td>\n",
       "      <td>0.003015</td>\n",
       "      <td>0.000000</td>\n",
       "    </tr>\n",
       "    <tr>\n",
       "      <th>2015-12-22 00:00:00+00:00</th>\n",
       "      <th>tc_avg_combi</th>\n",
       "      <td>2015-12-24 00:00:00+00:00</td>\n",
       "      <td>-0.001911</td>\n",
       "      <td>4.571629e-07</td>\n",
       "      <td>-0.001911</td>\n",
       "      <td>0.038125</td>\n",
       "      <td>0.000070</td>\n",
       "    </tr>\n",
       "    <tr>\n",
       "      <th>2015-12-23 00:00:00+00:00</th>\n",
       "      <th>tc_avg_combi</th>\n",
       "      <td>2015-12-28 00:00:00+00:00</td>\n",
       "      <td>0.003345</td>\n",
       "      <td>3.887931e-07</td>\n",
       "      <td>0.003345</td>\n",
       "      <td>0.041470</td>\n",
       "      <td>0.000071</td>\n",
       "    </tr>\n",
       "  </tbody>\n",
       "</table>\n",
       "</div>"
      ],
      "text/plain": [
       "                                                     returns_date  daily_pnl  \\\n",
       "date                      port_name                                            \n",
       "2015-05-26 00:00:00+00:00 simple_ml     2015-05-28 00:00:00+00:00   0.001652   \n",
       "2015-05-27 00:00:00+00:00 simple_ml     2015-05-29 00:00:00+00:00   0.001363   \n",
       "2015-12-22 00:00:00+00:00 tc_avg_combi  2015-12-24 00:00:00+00:00  -0.001911   \n",
       "2015-12-23 00:00:00+00:00 tc_avg_combi  2015-12-28 00:00:00+00:00   0.003345   \n",
       "\n",
       "                                        daily_transaction_cost  daily_total  \\\n",
       "date                      port_name                                           \n",
       "2015-05-26 00:00:00+00:00 simple_ml               0.000000e+00     0.001652   \n",
       "2015-05-27 00:00:00+00:00 simple_ml               0.000000e+00     0.001363   \n",
       "2015-12-22 00:00:00+00:00 tc_avg_combi            4.571629e-07    -0.001911   \n",
       "2015-12-23 00:00:00+00:00 tc_avg_combi            3.887931e-07     0.003345   \n",
       "\n",
       "                                        accum_total  accum_transaction_cost  \n",
       "date                      port_name                                          \n",
       "2015-05-26 00:00:00+00:00 simple_ml        0.001652                0.000000  \n",
       "2015-05-27 00:00:00+00:00 simple_ml        0.003015                0.000000  \n",
       "2015-12-22 00:00:00+00:00 tc_avg_combi     0.038125                0.000070  \n",
       "2015-12-23 00:00:00+00:00 tc_avg_combi     0.041470                0.000071  "
      ]
     },
     "execution_count": 12,
     "metadata": {},
     "output_type": "execute_result"
    }
   ],
   "source": [
    "pnl_app = pd.read_csv(INPATH1 + INFILE1, parse_dates=['date'])\n",
    "pnl_app.set_index(inplace=True, keys=['date', 'port_name'])\n",
    "pd.concat([pnl_app.head(2), pnl_app.tail(2)], axis=0)"
   ]
  },
  {
   "cell_type": "code",
   "execution_count": 13,
   "metadata": {},
   "outputs": [
    {
     "data": {
      "text/html": [
       "<div>\n",
       "<style scoped>\n",
       "    .dataframe tbody tr th:only-of-type {\n",
       "        vertical-align: middle;\n",
       "    }\n",
       "\n",
       "    .dataframe tbody tr th {\n",
       "        vertical-align: top;\n",
       "    }\n",
       "\n",
       "    .dataframe thead tr th {\n",
       "        text-align: left;\n",
       "    }\n",
       "\n",
       "    .dataframe thead tr:last-of-type th {\n",
       "        text-align: right;\n",
       "    }\n",
       "</style>\n",
       "<table border=\"1\" class=\"dataframe\">\n",
       "  <thead>\n",
       "    <tr>\n",
       "      <th></th>\n",
       "      <th colspan=\"8\" halign=\"left\">daily_pnl</th>\n",
       "      <th colspan=\"8\" halign=\"left\">daily_transaction_cost</th>\n",
       "    </tr>\n",
       "    <tr>\n",
       "      <th></th>\n",
       "      <th>count</th>\n",
       "      <th>mean</th>\n",
       "      <th>std</th>\n",
       "      <th>min</th>\n",
       "      <th>25%</th>\n",
       "      <th>50%</th>\n",
       "      <th>75%</th>\n",
       "      <th>max</th>\n",
       "      <th>count</th>\n",
       "      <th>mean</th>\n",
       "      <th>std</th>\n",
       "      <th>min</th>\n",
       "      <th>25%</th>\n",
       "      <th>50%</th>\n",
       "      <th>75%</th>\n",
       "      <th>max</th>\n",
       "    </tr>\n",
       "    <tr>\n",
       "      <th>port_name</th>\n",
       "      <th></th>\n",
       "      <th></th>\n",
       "      <th></th>\n",
       "      <th></th>\n",
       "      <th></th>\n",
       "      <th></th>\n",
       "      <th></th>\n",
       "      <th></th>\n",
       "      <th></th>\n",
       "      <th></th>\n",
       "      <th></th>\n",
       "      <th></th>\n",
       "      <th></th>\n",
       "      <th></th>\n",
       "      <th></th>\n",
       "      <th></th>\n",
       "    </tr>\n",
       "  </thead>\n",
       "  <tbody>\n",
       "    <tr>\n",
       "      <th>simple_avg_combi</th>\n",
       "      <td>149.0</td>\n",
       "      <td>0.000279</td>\n",
       "      <td>0.003982</td>\n",
       "      <td>-0.011773</td>\n",
       "      <td>-0.002395</td>\n",
       "      <td>0.000589</td>\n",
       "      <td>0.003313</td>\n",
       "      <td>0.009001</td>\n",
       "      <td>149.0</td>\n",
       "      <td>0.000000e+00</td>\n",
       "      <td>0.000000e+00</td>\n",
       "      <td>0.000000e+00</td>\n",
       "      <td>0.000000e+00</td>\n",
       "      <td>0.000000e+00</td>\n",
       "      <td>0.000000e+00</td>\n",
       "      <td>0.000000e+00</td>\n",
       "    </tr>\n",
       "    <tr>\n",
       "      <th>simple_ml</th>\n",
       "      <td>149.0</td>\n",
       "      <td>0.000293</td>\n",
       "      <td>0.003797</td>\n",
       "      <td>-0.009261</td>\n",
       "      <td>-0.002145</td>\n",
       "      <td>0.000057</td>\n",
       "      <td>0.003133</td>\n",
       "      <td>0.010148</td>\n",
       "      <td>149.0</td>\n",
       "      <td>0.000000e+00</td>\n",
       "      <td>0.000000e+00</td>\n",
       "      <td>0.000000e+00</td>\n",
       "      <td>0.000000e+00</td>\n",
       "      <td>0.000000e+00</td>\n",
       "      <td>0.000000e+00</td>\n",
       "      <td>0.000000e+00</td>\n",
       "    </tr>\n",
       "    <tr>\n",
       "      <th>tc_avg_combi</th>\n",
       "      <td>149.0</td>\n",
       "      <td>0.000279</td>\n",
       "      <td>0.003982</td>\n",
       "      <td>-0.011773</td>\n",
       "      <td>-0.002395</td>\n",
       "      <td>0.000589</td>\n",
       "      <td>0.003313</td>\n",
       "      <td>0.009001</td>\n",
       "      <td>149.0</td>\n",
       "      <td>4.746810e-07</td>\n",
       "      <td>9.378328e-08</td>\n",
       "      <td>2.959222e-07</td>\n",
       "      <td>4.071318e-07</td>\n",
       "      <td>4.647332e-07</td>\n",
       "      <td>5.214970e-07</td>\n",
       "      <td>8.493941e-07</td>\n",
       "    </tr>\n",
       "    <tr>\n",
       "      <th>tc_ml</th>\n",
       "      <td>149.0</td>\n",
       "      <td>0.000293</td>\n",
       "      <td>0.003797</td>\n",
       "      <td>-0.009261</td>\n",
       "      <td>-0.002145</td>\n",
       "      <td>0.000057</td>\n",
       "      <td>0.003133</td>\n",
       "      <td>0.010148</td>\n",
       "      <td>149.0</td>\n",
       "      <td>6.516188e-07</td>\n",
       "      <td>2.018261e-07</td>\n",
       "      <td>3.515013e-07</td>\n",
       "      <td>5.333180e-07</td>\n",
       "      <td>6.213590e-07</td>\n",
       "      <td>7.062863e-07</td>\n",
       "      <td>1.624114e-06</td>\n",
       "    </tr>\n",
       "  </tbody>\n",
       "</table>\n",
       "</div>"
      ],
      "text/plain": [
       "                 daily_pnl                                                    \\\n",
       "                     count      mean       std       min       25%       50%   \n",
       "port_name                                                                      \n",
       "simple_avg_combi     149.0  0.000279  0.003982 -0.011773 -0.002395  0.000589   \n",
       "simple_ml            149.0  0.000293  0.003797 -0.009261 -0.002145  0.000057   \n",
       "tc_avg_combi         149.0  0.000279  0.003982 -0.011773 -0.002395  0.000589   \n",
       "tc_ml                149.0  0.000293  0.003797 -0.009261 -0.002145  0.000057   \n",
       "\n",
       "                                     daily_transaction_cost                \\\n",
       "                       75%       max                  count          mean   \n",
       "port_name                                                                   \n",
       "simple_avg_combi  0.003313  0.009001                  149.0  0.000000e+00   \n",
       "simple_ml         0.003133  0.010148                  149.0  0.000000e+00   \n",
       "tc_avg_combi      0.003313  0.009001                  149.0  4.746810e-07   \n",
       "tc_ml             0.003133  0.010148                  149.0  6.516188e-07   \n",
       "\n",
       "                                                                          \\\n",
       "                           std           min           25%           50%   \n",
       "port_name                                                                  \n",
       "simple_avg_combi  0.000000e+00  0.000000e+00  0.000000e+00  0.000000e+00   \n",
       "simple_ml         0.000000e+00  0.000000e+00  0.000000e+00  0.000000e+00   \n",
       "tc_avg_combi      9.378328e-08  2.959222e-07  4.071318e-07  4.647332e-07   \n",
       "tc_ml             2.018261e-07  3.515013e-07  5.333180e-07  6.213590e-07   \n",
       "\n",
       "                                              \n",
       "                           75%           max  \n",
       "port_name                                     \n",
       "simple_avg_combi  0.000000e+00  0.000000e+00  \n",
       "simple_ml         0.000000e+00  0.000000e+00  \n",
       "tc_avg_combi      5.214970e-07  8.493941e-07  \n",
       "tc_ml             7.062863e-07  1.624114e-06  "
      ]
     },
     "execution_count": 13,
     "metadata": {},
     "output_type": "execute_result"
    }
   ],
   "source": [
    "pnl_app.groupby(level=1)[['daily_pnl', 'daily_transaction_cost']].describe()"
   ]
  },
  {
   "cell_type": "code",
   "execution_count": 14,
   "metadata": {},
   "outputs": [],
   "source": [
    "pnl_app['total_transaction_cost'] = pnl_app.groupby(level=0)['daily_transaction_cost'].cumsum()"
   ]
  },
  {
   "cell_type": "code",
   "execution_count": 15,
   "metadata": {},
   "outputs": [],
   "source": [
    "pnl_tc_ml = pnl_app.xs(level=1, key='tc_ml').copy()\n",
    "pnl_tc_avg_combi = pnl_app.xs(level=1, key='tc_avg_combi').copy()"
   ]
  },
  {
   "cell_type": "code",
   "execution_count": 16,
   "metadata": {},
   "outputs": [
    {
     "data": {
      "text/html": [
       "<div>\n",
       "<style scoped>\n",
       "    .dataframe tbody tr th:only-of-type {\n",
       "        vertical-align: middle;\n",
       "    }\n",
       "\n",
       "    .dataframe tbody tr th {\n",
       "        vertical-align: top;\n",
       "    }\n",
       "\n",
       "    .dataframe thead th {\n",
       "        text-align: right;\n",
       "    }\n",
       "</style>\n",
       "<table border=\"1\" class=\"dataframe\">\n",
       "  <thead>\n",
       "    <tr style=\"text-align: right;\">\n",
       "      <th></th>\n",
       "      <th>returns_date</th>\n",
       "      <th>daily_pnl</th>\n",
       "      <th>daily_transaction_cost</th>\n",
       "      <th>daily_total</th>\n",
       "      <th>accum_total</th>\n",
       "      <th>accum_transaction_cost</th>\n",
       "      <th>total_transaction_cost</th>\n",
       "    </tr>\n",
       "    <tr>\n",
       "      <th>date</th>\n",
       "      <th></th>\n",
       "      <th></th>\n",
       "      <th></th>\n",
       "      <th></th>\n",
       "      <th></th>\n",
       "      <th></th>\n",
       "      <th></th>\n",
       "    </tr>\n",
       "  </thead>\n",
       "  <tbody>\n",
       "    <tr>\n",
       "      <th>2015-05-26 00:00:00+00:00</th>\n",
       "      <td>2015-05-28 00:00:00+00:00</td>\n",
       "      <td>0.001652</td>\n",
       "      <td>6.792129e-07</td>\n",
       "      <td>0.001651</td>\n",
       "      <td>0.001651</td>\n",
       "      <td>6.792129e-07</td>\n",
       "      <td>6.792129e-07</td>\n",
       "    </tr>\n",
       "    <tr>\n",
       "      <th>2015-05-27 00:00:00+00:00</th>\n",
       "      <td>2015-05-29 00:00:00+00:00</td>\n",
       "      <td>0.001363</td>\n",
       "      <td>6.123120e-07</td>\n",
       "      <td>0.001362</td>\n",
       "      <td>0.003014</td>\n",
       "      <td>1.291525e-06</td>\n",
       "      <td>6.123120e-07</td>\n",
       "    </tr>\n",
       "    <tr>\n",
       "      <th>2015-05-28 00:00:00+00:00</th>\n",
       "      <td>2015-06-01 00:00:00+00:00</td>\n",
       "      <td>0.003884</td>\n",
       "      <td>5.147963e-07</td>\n",
       "      <td>0.003884</td>\n",
       "      <td>0.006897</td>\n",
       "      <td>1.806321e-06</td>\n",
       "      <td>5.147963e-07</td>\n",
       "    </tr>\n",
       "    <tr>\n",
       "      <th>2015-05-29 00:00:00+00:00</th>\n",
       "      <td>2015-06-02 00:00:00+00:00</td>\n",
       "      <td>-0.001204</td>\n",
       "      <td>6.036218e-07</td>\n",
       "      <td>-0.001205</td>\n",
       "      <td>0.005693</td>\n",
       "      <td>2.409943e-06</td>\n",
       "      <td>6.036218e-07</td>\n",
       "    </tr>\n",
       "    <tr>\n",
       "      <th>2015-06-01 00:00:00+00:00</th>\n",
       "      <td>2015-06-03 00:00:00+00:00</td>\n",
       "      <td>0.002147</td>\n",
       "      <td>7.060076e-07</td>\n",
       "      <td>0.002146</td>\n",
       "      <td>0.007839</td>\n",
       "      <td>3.115950e-06</td>\n",
       "      <td>7.060076e-07</td>\n",
       "    </tr>\n",
       "    <tr>\n",
       "      <th>...</th>\n",
       "      <td>...</td>\n",
       "      <td>...</td>\n",
       "      <td>...</td>\n",
       "      <td>...</td>\n",
       "      <td>...</td>\n",
       "      <td>...</td>\n",
       "      <td>...</td>\n",
       "    </tr>\n",
       "    <tr>\n",
       "      <th>2015-12-17 00:00:00+00:00</th>\n",
       "      <td>2015-12-21 00:00:00+00:00</td>\n",
       "      <td>0.006552</td>\n",
       "      <td>3.561081e-07</td>\n",
       "      <td>0.006551</td>\n",
       "      <td>0.052298</td>\n",
       "      <td>9.513537e-05</td>\n",
       "      <td>3.561081e-07</td>\n",
       "    </tr>\n",
       "    <tr>\n",
       "      <th>2015-12-18 00:00:00+00:00</th>\n",
       "      <td>2015-12-22 00:00:00+00:00</td>\n",
       "      <td>-0.005209</td>\n",
       "      <td>3.954979e-07</td>\n",
       "      <td>-0.005209</td>\n",
       "      <td>0.047088</td>\n",
       "      <td>9.553087e-05</td>\n",
       "      <td>3.954979e-07</td>\n",
       "    </tr>\n",
       "    <tr>\n",
       "      <th>2015-12-21 00:00:00+00:00</th>\n",
       "      <td>2015-12-23 00:00:00+00:00</td>\n",
       "      <td>0.000883</td>\n",
       "      <td>3.771029e-07</td>\n",
       "      <td>0.000883</td>\n",
       "      <td>0.047971</td>\n",
       "      <td>9.590798e-05</td>\n",
       "      <td>3.771029e-07</td>\n",
       "    </tr>\n",
       "    <tr>\n",
       "      <th>2015-12-22 00:00:00+00:00</th>\n",
       "      <td>2015-12-24 00:00:00+00:00</td>\n",
       "      <td>-0.002580</td>\n",
       "      <td>5.618656e-07</td>\n",
       "      <td>-0.002581</td>\n",
       "      <td>0.045390</td>\n",
       "      <td>9.646984e-05</td>\n",
       "      <td>5.618656e-07</td>\n",
       "    </tr>\n",
       "    <tr>\n",
       "      <th>2015-12-23 00:00:00+00:00</th>\n",
       "      <td>2015-12-28 00:00:00+00:00</td>\n",
       "      <td>-0.001830</td>\n",
       "      <td>6.213590e-07</td>\n",
       "      <td>-0.001830</td>\n",
       "      <td>0.043560</td>\n",
       "      <td>9.709120e-05</td>\n",
       "      <td>6.213590e-07</td>\n",
       "    </tr>\n",
       "  </tbody>\n",
       "</table>\n",
       "<p>149 rows × 7 columns</p>\n",
       "</div>"
      ],
      "text/plain": [
       "                                        returns_date  daily_pnl  \\\n",
       "date                                                              \n",
       "2015-05-26 00:00:00+00:00  2015-05-28 00:00:00+00:00   0.001652   \n",
       "2015-05-27 00:00:00+00:00  2015-05-29 00:00:00+00:00   0.001363   \n",
       "2015-05-28 00:00:00+00:00  2015-06-01 00:00:00+00:00   0.003884   \n",
       "2015-05-29 00:00:00+00:00  2015-06-02 00:00:00+00:00  -0.001204   \n",
       "2015-06-01 00:00:00+00:00  2015-06-03 00:00:00+00:00   0.002147   \n",
       "...                                              ...        ...   \n",
       "2015-12-17 00:00:00+00:00  2015-12-21 00:00:00+00:00   0.006552   \n",
       "2015-12-18 00:00:00+00:00  2015-12-22 00:00:00+00:00  -0.005209   \n",
       "2015-12-21 00:00:00+00:00  2015-12-23 00:00:00+00:00   0.000883   \n",
       "2015-12-22 00:00:00+00:00  2015-12-24 00:00:00+00:00  -0.002580   \n",
       "2015-12-23 00:00:00+00:00  2015-12-28 00:00:00+00:00  -0.001830   \n",
       "\n",
       "                           daily_transaction_cost  daily_total  accum_total  \\\n",
       "date                                                                          \n",
       "2015-05-26 00:00:00+00:00            6.792129e-07     0.001651     0.001651   \n",
       "2015-05-27 00:00:00+00:00            6.123120e-07     0.001362     0.003014   \n",
       "2015-05-28 00:00:00+00:00            5.147963e-07     0.003884     0.006897   \n",
       "2015-05-29 00:00:00+00:00            6.036218e-07    -0.001205     0.005693   \n",
       "2015-06-01 00:00:00+00:00            7.060076e-07     0.002146     0.007839   \n",
       "...                                           ...          ...          ...   \n",
       "2015-12-17 00:00:00+00:00            3.561081e-07     0.006551     0.052298   \n",
       "2015-12-18 00:00:00+00:00            3.954979e-07    -0.005209     0.047088   \n",
       "2015-12-21 00:00:00+00:00            3.771029e-07     0.000883     0.047971   \n",
       "2015-12-22 00:00:00+00:00            5.618656e-07    -0.002581     0.045390   \n",
       "2015-12-23 00:00:00+00:00            6.213590e-07    -0.001830     0.043560   \n",
       "\n",
       "                           accum_transaction_cost  total_transaction_cost  \n",
       "date                                                                       \n",
       "2015-05-26 00:00:00+00:00            6.792129e-07            6.792129e-07  \n",
       "2015-05-27 00:00:00+00:00            1.291525e-06            6.123120e-07  \n",
       "2015-05-28 00:00:00+00:00            1.806321e-06            5.147963e-07  \n",
       "2015-05-29 00:00:00+00:00            2.409943e-06            6.036218e-07  \n",
       "2015-06-01 00:00:00+00:00            3.115950e-06            7.060076e-07  \n",
       "...                                           ...                     ...  \n",
       "2015-12-17 00:00:00+00:00            9.513537e-05            3.561081e-07  \n",
       "2015-12-18 00:00:00+00:00            9.553087e-05            3.954979e-07  \n",
       "2015-12-21 00:00:00+00:00            9.590798e-05            3.771029e-07  \n",
       "2015-12-22 00:00:00+00:00            9.646984e-05            5.618656e-07  \n",
       "2015-12-23 00:00:00+00:00            9.709120e-05            6.213590e-07  \n",
       "\n",
       "[149 rows x 7 columns]"
      ]
     },
     "execution_count": 16,
     "metadata": {},
     "output_type": "execute_result"
    }
   ],
   "source": [
    "pnl_tc_ml"
   ]
  },
  {
   "cell_type": "markdown",
   "metadata": {},
   "source": [
    "## Daily Portfolio weights"
   ]
  },
  {
   "cell_type": "code",
   "execution_count": 17,
   "metadata": {},
   "outputs": [],
   "source": [
    "with open(INPATH2 + f'{INFILE2}', 'rb') as file:\n",
    "    models_dict = pickle.load(file)\n",
    "models_dict.keys()\n",
    "simple_ml_avg_combi  = models_dict['simple_ml_avg_combi']\n",
    "simple_ml = models_dict['simple_ml']\n",
    "tc_avg_combi = models_dict['tc_avg_combi']\n",
    "tc_ml = models_dict['tc_ml']"
   ]
  },
  {
   "cell_type": "code",
   "execution_count": 18,
   "metadata": {},
   "outputs": [
    {
     "data": {
      "text/plain": [
       "{'alpha_model': 'v01',\n",
       " 'risk_model': 'v01',\n",
       " 'opt_constraints': {'risk_aversion': '1e-6',\n",
       "  'min_mkt_cap': '1e8',\n",
       "  'lambda_reg': '0.5',\n",
       "  'risk_cap': '0.05',\n",
       "  'factor_max': '10.0',\n",
       "  'factor_min': '-10.0',\n",
       "  'weights_max': '0.55',\n",
       "  'weights_min': '-0.55'},\n",
       " 'backtesting_start_dt': '2015-05-26',\n",
       " 'backtesting_end_dt': '2015-12-28',\n",
       " 'n_days_delay': 2}"
      ]
     },
     "execution_count": 18,
     "metadata": {},
     "output_type": "execute_result"
    }
   ],
   "source": [
    "with open(INPATH2 + f'{INFILE3}', 'rb') as file:\n",
    "    opt_metadata = pickle.load(file)\n",
    "opt_metadata"
   ]
  },
  {
   "cell_type": "markdown",
   "metadata": {},
   "source": [
    "# Bencharking"
   ]
  },
  {
   "cell_type": "code",
   "execution_count": 46,
   "metadata": {},
   "outputs": [
    {
     "data": {
      "image/png": "[encoded data removed]",
      "text/plain": [
       "<Figure size 1152x576 with 1 Axes>"
      ]
     },
     "metadata": {},
     "output_type": "display_data"
    }
   ],
   "source": [
    "ax = pnl_tc_ml.plot(y='accum_total', label='ml-alpha')\n",
    "pnl_tc_avg_combi.plot(ax=ax, y='accum_total', label='avg-combi-alpha')\n",
    "\n",
    "# manipulate\n",
    "\n",
    "ax.set_yticklabels([int(x) for x in ax.get_yticks()*1e4])\n",
    "\n",
    "plt.ylabel(\"Portfolio returns (bps)\")\n",
    "plt.show()"
   ]
  },
  {
   "cell_type": "code",
   "execution_count": 47,
   "metadata": {},
   "outputs": [
    {
     "data": {
      "text/plain": [
       "port_name\n",
       "simple_avg_combi    1.111504\n",
       "simple_ml           1.224815\n",
       "tc_avg_combi        1.109611\n",
       "tc_ml               1.222112\n",
       "Name: daily_total, dtype: float64"
      ]
     },
     "execution_count": 47,
     "metadata": {},
     "output_type": "execute_result"
    }
   ],
   "source": [
    "pnl_sharpe = pnl_app.groupby(level=1)['daily_total'].apply(lambda grp: portopt_utils.sharpe_ratio(grp, ann_period=252))\n",
    "pnl_sharpe"
   ]
  },
  {
   "cell_type": "code",
   "execution_count": null,
   "metadata": {},
   "outputs": [],
   "source": []
  }
 ],
 "metadata": {
  "kernelspec": {
   "display_name": "Python 3",
   "language": "python",
   "name": "python3"
  },
  "language_info": {
   "codemirror_mode": {
    "name": "ipython",
    "version": 3
   },
   "file_extension": ".py",
   "mimetype": "text/x-python",
   "name": "python",
   "nbconvert_exporter": "python",
   "pygments_lexer": "ipython3",
   "version": "3.7.7"
  },
  "toc-autonumbering": true,
  "varInspector": {
   "cols": {
    "lenName": 16,
    "lenType": 16,
    "lenVar": 40
   },
   "kernels_config": {
    "python": {
     "delete_cmd_postfix": "",
     "delete_cmd_prefix": "del ",
     "library": "var_list.py",
     "varRefreshCmd": "print(var_dic_list())"
    },
    "r": {
     "delete_cmd_postfix": ") ",
     "delete_cmd_prefix": "rm(",
     "library": "var_list.r",
     "varRefreshCmd": "cat(var_dic_list()) "
    }
   },
   "types_to_exclude": [
    "module",
    "function",
    "builtin_function_or_method",
    "instance",
    "_Feature"
   ],
   "window_display": false
  }
 },
 "nbformat": 4,
 "nbformat_minor": 4
}
