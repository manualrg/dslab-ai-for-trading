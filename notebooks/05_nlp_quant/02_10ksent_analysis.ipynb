{
 "cells": [
  {
   "cell_type": "markdown",
   "metadata": {},
   "source": [
    "<font size=\"6\"> **Donwload SEC 10-K Fillings** </font>"
   ]
  },
  {
   "cell_type": "code",
   "execution_count": 3,
   "metadata": {},
   "outputs": [],
   "source": [
    "%load_ext autoreload\n",
    "%autoreload 2"
   ]
  },
  {
   "cell_type": "code",
   "execution_count": 4,
   "metadata": {},
   "outputs": [],
   "source": [
    "%run ../nb_config.py"
   ]
  },
  {
   "cell_type": "code",
   "execution_count": 5,
   "metadata": {},
   "outputs": [],
   "source": [
    "import nltk\n",
    "import numpy as np\n",
    "import pandas as pd\n",
    "import scipy\n",
    "import pickle\n",
    "import pprint\n",
    "\n",
    "import os\n",
    "\n",
    "from tqdm import tqdm"
   ]
  },
  {
   "cell_type": "code",
   "execution_count": 8,
   "metadata": {},
   "outputs": [],
   "source": [
    "from src import utils\n",
    "from src.load_data import load_sec10k, io_utils\n",
    "from src.nlp_quant import bow_sent"
   ]
  },
  {
   "cell_type": "code",
   "execution_count": 37,
   "metadata": {},
   "outputs": [],
   "source": [
    "cfg = utils.read_conf()"
   ]
  },
  {
   "cell_type": "code",
   "execution_count": 53,
   "metadata": {},
   "outputs": [
    {
     "data": {
      "text/plain": [
       "(True, True)"
      ]
     },
     "execution_count": 53,
     "metadata": {},
     "output_type": "execute_result"
    }
   ],
   "source": [
    "INPATH1 = os.path.join(io_utils.interim_path, 'sec_10k', '')\n",
    "INPATH2 = os.path.join(io_utils.raw_path, 'market_data', cfg['quantopian']['dataset4']['folder'],'')\n",
    "os.path.isdir(INPATH1), os.path.isdir(INPATH2)"
   ]
  },
  {
   "cell_type": "code",
   "execution_count": 55,
   "metadata": {},
   "outputs": [],
   "source": [
    "INFILE1 = 'metadata.pkl'\n",
    "INFILE2 = 'sec_10k.pkl'\n",
    "INFILE3 =  'parsed_sentiment_loughran_mcdonald.csv'\n",
    "INFILE4 = cfg['quantopian']['dataset4']['prices']"
   ]
  },
  {
   "cell_type": "code",
   "execution_count": 133,
   "metadata": {},
   "outputs": [
    {
     "data": {
      "text/plain": [
       "True"
      ]
     },
     "execution_count": 133,
     "metadata": {},
     "output_type": "execute_result"
    }
   ],
   "source": [
    "OUTPATH =  os.path.join(io_utils.processed_path, 'sec_10k', '')\n",
    "os.path.isdir(OUTPATH)"
   ]
  },
  {
   "cell_type": "code",
   "execution_count": 134,
   "metadata": {},
   "outputs": [],
   "source": [
    "OUTFILE = 'sec_10k_cos_similarities.csv'"
   ]
  },
  {
   "cell_type": "markdown",
   "metadata": {},
   "source": [
    "# Load SEC 10-K Processed fillings"
   ]
  },
  {
   "cell_type": "code",
   "execution_count": 12,
   "metadata": {},
   "outputs": [],
   "source": [
    "with open(INPATH1 + INFILE1, 'rb') as file:\n",
    "    metadata = pickle.load(file)"
   ]
  },
  {
   "cell_type": "code",
   "execution_count": 13,
   "metadata": {},
   "outputs": [],
   "source": [
    "with open(INPATH1 + INFILE2, 'rb') as file:\n",
    "    ten_ks_by_ticker = pickle.load(file)"
   ]
  },
  {
   "cell_type": "code",
   "execution_count": 14,
   "metadata": {},
   "outputs": [],
   "source": [
    "example_ticker = 'AMZN'"
   ]
  },
  {
   "cell_type": "code",
   "execution_count": 16,
   "metadata": {},
   "outputs": [],
   "source": [
    "file_dates = metadata['file_dates']"
   ]
  },
  {
   "cell_type": "code",
   "execution_count": null,
   "metadata": {},
   "outputs": [],
   "source": [
    "sentiment_df =  pd.read_csv(OUTPATH + INFILE3)"
   ]
  },
  {
   "cell_type": "code",
   "execution_count": 60,
   "metadata": {},
   "outputs": [
    {
     "name": "stdout",
     "output_type": "stream",
     "text": [
      "<class 'pandas.core.frame.DataFrame'>\n",
      "DatetimeIndex: 57 entries, 1962-01-01 to 2018-01-01\n",
      "Columns: 11941 entries, A to ZZZ\n",
      "dtypes: float64(11941)\n",
      "memory usage: 5.2 MB\n"
     ]
    }
   ],
   "source": [
    "# Yearly pricing\n",
    "pricing = pd.read_csv(INPATH2 + INFILE4, parse_dates=['date'])\n",
    "pricing = pricing.pivot(index='date', columns='ticker', values='adj_close')\n",
    "pricing.info()"
   ]
  },
  {
   "cell_type": "code",
   "execution_count": 62,
   "metadata": {},
   "outputs": [
    {
     "data": {
      "text/html": [
       "<div>\n",
       "<style scoped>\n",
       "    .dataframe tbody tr th:only-of-type {\n",
       "        vertical-align: middle;\n",
       "    }\n",
       "\n",
       "    .dataframe tbody tr th {\n",
       "        vertical-align: top;\n",
       "    }\n",
       "\n",
       "    .dataframe thead th {\n",
       "        text-align: right;\n",
       "    }\n",
       "</style>\n",
       "<table border=\"1\" class=\"dataframe\">\n",
       "  <thead>\n",
       "    <tr style=\"text-align: right;\">\n",
       "      <th>ticker</th>\n",
       "      <th>A</th>\n",
       "      <th>AA</th>\n",
       "      <th>AAAP</th>\n",
       "      <th>AABA</th>\n",
       "      <th>AAC</th>\n",
       "      <th>AADR</th>\n",
       "      <th>AAIT</th>\n",
       "      <th>AAL</th>\n",
       "      <th>AAMC</th>\n",
       "      <th>AAME</th>\n",
       "      <th>AAN</th>\n",
       "      <th>AAOI</th>\n",
       "      <th>AAON</th>\n",
       "      <th>AAP</th>\n",
       "      <th>AAPC</th>\n",
       "      <th>AAPL</th>\n",
       "      <th>AAT</th>\n",
       "      <th>AAU</th>\n",
       "      <th>AAV</th>\n",
       "      <th>AAVL</th>\n",
       "      <th>AAWW</th>\n",
       "      <th>AAXJ</th>\n",
       "      <th>AAXN</th>\n",
       "      <th>AA_P_B</th>\n",
       "      <th>AA_W</th>\n",
       "      <th>...</th>\n",
       "      <th>ZOES</th>\n",
       "      <th>ZOM</th>\n",
       "      <th>ZOOM</th>\n",
       "      <th>ZPIN</th>\n",
       "      <th>ZQK</th>\n",
       "      <th>ZROZ</th>\n",
       "      <th>ZS</th>\n",
       "      <th>ZSAN</th>\n",
       "      <th>ZSL</th>\n",
       "      <th>ZSML</th>\n",
       "      <th>ZSPH</th>\n",
       "      <th>ZTO</th>\n",
       "      <th>ZTR</th>\n",
       "      <th>ZTS</th>\n",
       "      <th>ZU</th>\n",
       "      <th>ZUMZ</th>\n",
       "      <th>ZUO</th>\n",
       "      <th>ZVZZC</th>\n",
       "      <th>ZVZZCNX</th>\n",
       "      <th>ZX</th>\n",
       "      <th>ZXYZ_A</th>\n",
       "      <th>ZYME</th>\n",
       "      <th>ZYNE</th>\n",
       "      <th>ZZK</th>\n",
       "      <th>ZZZ</th>\n",
       "    </tr>\n",
       "    <tr>\n",
       "      <th>date</th>\n",
       "      <th></th>\n",
       "      <th></th>\n",
       "      <th></th>\n",
       "      <th></th>\n",
       "      <th></th>\n",
       "      <th></th>\n",
       "      <th></th>\n",
       "      <th></th>\n",
       "      <th></th>\n",
       "      <th></th>\n",
       "      <th></th>\n",
       "      <th></th>\n",
       "      <th></th>\n",
       "      <th></th>\n",
       "      <th></th>\n",
       "      <th></th>\n",
       "      <th></th>\n",
       "      <th></th>\n",
       "      <th></th>\n",
       "      <th></th>\n",
       "      <th></th>\n",
       "      <th></th>\n",
       "      <th></th>\n",
       "      <th></th>\n",
       "      <th></th>\n",
       "      <th></th>\n",
       "      <th></th>\n",
       "      <th></th>\n",
       "      <th></th>\n",
       "      <th></th>\n",
       "      <th></th>\n",
       "      <th></th>\n",
       "      <th></th>\n",
       "      <th></th>\n",
       "      <th></th>\n",
       "      <th></th>\n",
       "      <th></th>\n",
       "      <th></th>\n",
       "      <th></th>\n",
       "      <th></th>\n",
       "      <th></th>\n",
       "      <th></th>\n",
       "      <th></th>\n",
       "      <th></th>\n",
       "      <th></th>\n",
       "      <th></th>\n",
       "      <th></th>\n",
       "      <th></th>\n",
       "      <th></th>\n",
       "      <th></th>\n",
       "      <th></th>\n",
       "    </tr>\n",
       "  </thead>\n",
       "  <tbody>\n",
       "    <tr>\n",
       "      <th>1962-01-01</th>\n",
       "      <td>NaN</td>\n",
       "      <td>NaN</td>\n",
       "      <td>NaN</td>\n",
       "      <td>NaN</td>\n",
       "      <td>NaN</td>\n",
       "      <td>NaN</td>\n",
       "      <td>NaN</td>\n",
       "      <td>NaN</td>\n",
       "      <td>NaN</td>\n",
       "      <td>NaN</td>\n",
       "      <td>NaN</td>\n",
       "      <td>NaN</td>\n",
       "      <td>NaN</td>\n",
       "      <td>NaN</td>\n",
       "      <td>NaN</td>\n",
       "      <td>NaN</td>\n",
       "      <td>NaN</td>\n",
       "      <td>NaN</td>\n",
       "      <td>NaN</td>\n",
       "      <td>NaN</td>\n",
       "      <td>NaN</td>\n",
       "      <td>NaN</td>\n",
       "      <td>NaN</td>\n",
       "      <td>NaN</td>\n",
       "      <td>NaN</td>\n",
       "      <td>...</td>\n",
       "      <td>NaN</td>\n",
       "      <td>NaN</td>\n",
       "      <td>NaN</td>\n",
       "      <td>NaN</td>\n",
       "      <td>NaN</td>\n",
       "      <td>NaN</td>\n",
       "      <td>NaN</td>\n",
       "      <td>NaN</td>\n",
       "      <td>NaN</td>\n",
       "      <td>NaN</td>\n",
       "      <td>NaN</td>\n",
       "      <td>NaN</td>\n",
       "      <td>NaN</td>\n",
       "      <td>NaN</td>\n",
       "      <td>NaN</td>\n",
       "      <td>NaN</td>\n",
       "      <td>NaN</td>\n",
       "      <td>NaN</td>\n",
       "      <td>NaN</td>\n",
       "      <td>NaN</td>\n",
       "      <td>NaN</td>\n",
       "      <td>NaN</td>\n",
       "      <td>NaN</td>\n",
       "      <td>NaN</td>\n",
       "      <td>NaN</td>\n",
       "    </tr>\n",
       "    <tr>\n",
       "      <th>1963-01-01</th>\n",
       "      <td>NaN</td>\n",
       "      <td>NaN</td>\n",
       "      <td>NaN</td>\n",
       "      <td>NaN</td>\n",
       "      <td>NaN</td>\n",
       "      <td>NaN</td>\n",
       "      <td>NaN</td>\n",
       "      <td>NaN</td>\n",
       "      <td>NaN</td>\n",
       "      <td>NaN</td>\n",
       "      <td>NaN</td>\n",
       "      <td>NaN</td>\n",
       "      <td>NaN</td>\n",
       "      <td>NaN</td>\n",
       "      <td>NaN</td>\n",
       "      <td>NaN</td>\n",
       "      <td>NaN</td>\n",
       "      <td>NaN</td>\n",
       "      <td>NaN</td>\n",
       "      <td>NaN</td>\n",
       "      <td>NaN</td>\n",
       "      <td>NaN</td>\n",
       "      <td>NaN</td>\n",
       "      <td>NaN</td>\n",
       "      <td>NaN</td>\n",
       "      <td>...</td>\n",
       "      <td>NaN</td>\n",
       "      <td>NaN</td>\n",
       "      <td>NaN</td>\n",
       "      <td>NaN</td>\n",
       "      <td>NaN</td>\n",
       "      <td>NaN</td>\n",
       "      <td>NaN</td>\n",
       "      <td>NaN</td>\n",
       "      <td>NaN</td>\n",
       "      <td>NaN</td>\n",
       "      <td>NaN</td>\n",
       "      <td>NaN</td>\n",
       "      <td>NaN</td>\n",
       "      <td>NaN</td>\n",
       "      <td>NaN</td>\n",
       "      <td>NaN</td>\n",
       "      <td>NaN</td>\n",
       "      <td>NaN</td>\n",
       "      <td>NaN</td>\n",
       "      <td>NaN</td>\n",
       "      <td>NaN</td>\n",
       "      <td>NaN</td>\n",
       "      <td>NaN</td>\n",
       "      <td>NaN</td>\n",
       "      <td>NaN</td>\n",
       "    </tr>\n",
       "    <tr>\n",
       "      <th>2017-01-01</th>\n",
       "      <td>66.653918</td>\n",
       "      <td>53.87</td>\n",
       "      <td>81.62</td>\n",
       "      <td>69.85</td>\n",
       "      <td>9.00</td>\n",
       "      <td>58.835707</td>\n",
       "      <td>NaN</td>\n",
       "      <td>51.803585</td>\n",
       "      <td>81.6</td>\n",
       "      <td>3.378882</td>\n",
       "      <td>39.797356</td>\n",
       "      <td>37.82</td>\n",
       "      <td>36.522919</td>\n",
       "      <td>99.593649</td>\n",
       "      <td>10.6</td>\n",
       "      <td>167.90118</td>\n",
       "      <td>37.654925</td>\n",
       "      <td>1.03</td>\n",
       "      <td>4.3</td>\n",
       "      <td>NaN</td>\n",
       "      <td>58.65</td>\n",
       "      <td>75.858764</td>\n",
       "      <td>26.50</td>\n",
       "      <td>NaN</td>\n",
       "      <td>NaN</td>\n",
       "      <td>...</td>\n",
       "      <td>16.72</td>\n",
       "      <td>1.9771</td>\n",
       "      <td>NaN</td>\n",
       "      <td>18.2</td>\n",
       "      <td>NaN</td>\n",
       "      <td>120.593382</td>\n",
       "      <td>NaN</td>\n",
       "      <td>10.40</td>\n",
       "      <td>31.40</td>\n",
       "      <td>26.9</td>\n",
       "      <td>NaN</td>\n",
       "      <td>15.641173</td>\n",
       "      <td>12.643875</td>\n",
       "      <td>71.815333</td>\n",
       "      <td>NaN</td>\n",
       "      <td>20.825</td>\n",
       "      <td>NaN</td>\n",
       "      <td>100.1</td>\n",
       "      <td>NaN</td>\n",
       "      <td>1.2165</td>\n",
       "      <td>NaN</td>\n",
       "      <td>7.5931</td>\n",
       "      <td>12.52</td>\n",
       "      <td>25.0</td>\n",
       "      <td>0.01</td>\n",
       "    </tr>\n",
       "    <tr>\n",
       "      <th>2018-01-01</th>\n",
       "      <td>61.800000</td>\n",
       "      <td>46.88</td>\n",
       "      <td>81.63</td>\n",
       "      <td>73.35</td>\n",
       "      <td>9.81</td>\n",
       "      <td>52.880000</td>\n",
       "      <td>NaN</td>\n",
       "      <td>37.990000</td>\n",
       "      <td>67.9</td>\n",
       "      <td>2.575000</td>\n",
       "      <td>43.740000</td>\n",
       "      <td>46.00</td>\n",
       "      <td>35.250000</td>\n",
       "      <td>135.860000</td>\n",
       "      <td>NaN</td>\n",
       "      <td>185.40000</td>\n",
       "      <td>38.860000</td>\n",
       "      <td>0.71</td>\n",
       "      <td>3.1</td>\n",
       "      <td>NaN</td>\n",
       "      <td>71.45</td>\n",
       "      <td>70.250000</td>\n",
       "      <td>64.98</td>\n",
       "      <td>NaN</td>\n",
       "      <td>NaN</td>\n",
       "      <td>...</td>\n",
       "      <td>10.16</td>\n",
       "      <td>2.2100</td>\n",
       "      <td>NaN</td>\n",
       "      <td>NaN</td>\n",
       "      <td>NaN</td>\n",
       "      <td>115.750000</td>\n",
       "      <td>36.67</td>\n",
       "      <td>4.68</td>\n",
       "      <td>34.91</td>\n",
       "      <td>NaN</td>\n",
       "      <td>NaN</td>\n",
       "      <td>19.450000</td>\n",
       "      <td>11.450000</td>\n",
       "      <td>86.150000</td>\n",
       "      <td>NaN</td>\n",
       "      <td>24.300</td>\n",
       "      <td>26.74</td>\n",
       "      <td>NaN</td>\n",
       "      <td>NaN</td>\n",
       "      <td>1.3800</td>\n",
       "      <td>NaN</td>\n",
       "      <td>15.3400</td>\n",
       "      <td>9.17</td>\n",
       "      <td>NaN</td>\n",
       "      <td>NaN</td>\n",
       "    </tr>\n",
       "  </tbody>\n",
       "</table>\n",
       "<p>4 rows × 11941 columns</p>\n",
       "</div>"
      ],
      "text/plain": [
       "ticker              A     AA   AAAP   AABA   AAC       AADR  AAIT        AAL  \\\n",
       "date                                                                           \n",
       "1962-01-01        NaN    NaN    NaN    NaN   NaN        NaN   NaN        NaN   \n",
       "1963-01-01        NaN    NaN    NaN    NaN   NaN        NaN   NaN        NaN   \n",
       "2017-01-01  66.653918  53.87  81.62  69.85  9.00  58.835707   NaN  51.803585   \n",
       "2018-01-01  61.800000  46.88  81.63  73.35  9.81  52.880000   NaN  37.990000   \n",
       "\n",
       "ticker      AAMC      AAME        AAN   AAOI       AAON         AAP  AAPC  \\\n",
       "date                                                                        \n",
       "1962-01-01   NaN       NaN        NaN    NaN        NaN         NaN   NaN   \n",
       "1963-01-01   NaN       NaN        NaN    NaN        NaN         NaN   NaN   \n",
       "2017-01-01  81.6  3.378882  39.797356  37.82  36.522919   99.593649  10.6   \n",
       "2018-01-01  67.9  2.575000  43.740000  46.00  35.250000  135.860000   NaN   \n",
       "\n",
       "ticker           AAPL        AAT   AAU  AAV  AAVL   AAWW       AAXJ   AAXN  \\\n",
       "date                                                                         \n",
       "1962-01-01        NaN        NaN   NaN  NaN   NaN    NaN        NaN    NaN   \n",
       "1963-01-01        NaN        NaN   NaN  NaN   NaN    NaN        NaN    NaN   \n",
       "2017-01-01  167.90118  37.654925  1.03  4.3   NaN  58.65  75.858764  26.50   \n",
       "2018-01-01  185.40000  38.860000  0.71  3.1   NaN  71.45  70.250000  64.98   \n",
       "\n",
       "ticker      AA_P_B  AA_W  ...   ZOES     ZOM  ZOOM  ZPIN  ZQK        ZROZ  \\\n",
       "date                      ...                                               \n",
       "1962-01-01     NaN   NaN  ...    NaN     NaN   NaN   NaN  NaN         NaN   \n",
       "1963-01-01     NaN   NaN  ...    NaN     NaN   NaN   NaN  NaN         NaN   \n",
       "2017-01-01     NaN   NaN  ...  16.72  1.9771   NaN  18.2  NaN  120.593382   \n",
       "2018-01-01     NaN   NaN  ...  10.16  2.2100   NaN   NaN  NaN  115.750000   \n",
       "\n",
       "ticker         ZS   ZSAN    ZSL  ZSML  ZSPH        ZTO        ZTR        ZTS  \\\n",
       "date                                                                           \n",
       "1962-01-01    NaN    NaN    NaN   NaN   NaN        NaN        NaN        NaN   \n",
       "1963-01-01    NaN    NaN    NaN   NaN   NaN        NaN        NaN        NaN   \n",
       "2017-01-01    NaN  10.40  31.40  26.9   NaN  15.641173  12.643875  71.815333   \n",
       "2018-01-01  36.67   4.68  34.91   NaN   NaN  19.450000  11.450000  86.150000   \n",
       "\n",
       "ticker      ZU    ZUMZ    ZUO  ZVZZC  ZVZZCNX      ZX  ZXYZ_A     ZYME   ZYNE  \\\n",
       "date                                                                            \n",
       "1962-01-01 NaN     NaN    NaN    NaN      NaN     NaN     NaN      NaN    NaN   \n",
       "1963-01-01 NaN     NaN    NaN    NaN      NaN     NaN     NaN      NaN    NaN   \n",
       "2017-01-01 NaN  20.825    NaN  100.1      NaN  1.2165     NaN   7.5931  12.52   \n",
       "2018-01-01 NaN  24.300  26.74    NaN      NaN  1.3800     NaN  15.3400   9.17   \n",
       "\n",
       "ticker       ZZK   ZZZ  \n",
       "date                    \n",
       "1962-01-01   NaN   NaN  \n",
       "1963-01-01   NaN   NaN  \n",
       "2017-01-01  25.0  0.01  \n",
       "2018-01-01   NaN   NaN  \n",
       "\n",
       "[4 rows x 11941 columns]"
      ]
     },
     "execution_count": 62,
     "metadata": {},
     "output_type": "execute_result"
    }
   ],
   "source": [
    "pd.concat([pricing.head(2), pricing.tail(2)], axis=0)"
   ]
  },
  {
   "cell_type": "markdown",
   "metadata": {},
   "source": [
    "# Compute Document Sentiment"
   ]
  },
  {
   "cell_type": "code",
   "execution_count": 17,
   "metadata": {},
   "outputs": [
    {
     "data": {
      "text/plain": [
       "dict_keys(['cik', 'file', 'file_date', 'file_clean', 'file_lemma'])"
      ]
     },
     "execution_count": 17,
     "metadata": {},
     "output_type": "execute_result"
    }
   ],
   "source": [
    "ten_ks_by_ticker['AMZN'][0].keys()"
   ]
  },
  {
   "cell_type": "code",
   "execution_count": 18,
   "metadata": {},
   "outputs": [
    {
     "data": {
      "text/plain": [
       "Index(['negative', 'positive', 'uncertainty', 'litigious', 'constraining',\n",
       "       'interesting', 'word'],\n",
       "      dtype='object')"
      ]
     },
     "execution_count": 18,
     "metadata": {},
     "output_type": "execute_result"
    }
   ],
   "source": [
    "sentiment_df.columns"
   ]
  },
  {
   "cell_type": "code",
   "execution_count": 19,
   "metadata": {},
   "outputs": [
    {
     "data": {
      "text/plain": [
       "['negative',\n",
       " 'positive',\n",
       " 'uncertainty',\n",
       " 'litigious',\n",
       " 'constraining',\n",
       " 'interesting']"
      ]
     },
     "execution_count": 19,
     "metadata": {},
     "output_type": "execute_result"
    }
   ],
   "source": [
    "sentiments = sentiment_df.columns.tolist()[:-1]\n",
    "sentiments"
   ]
  },
  {
   "cell_type": "code",
   "execution_count": 20,
   "metadata": {},
   "outputs": [
    {
     "data": {
      "text/plain": [
       "('2017-02-10', '1999-03-05')"
      ]
     },
     "execution_count": 20,
     "metadata": {},
     "output_type": "execute_result"
    }
   ],
   "source": [
    "ten_ks_by_ticker[example_ticker][0]['file_date'], ten_ks_by_ticker[example_ticker][-1]['file_date']"
   ]
  },
  {
   "cell_type": "code",
   "execution_count": 21,
   "metadata": {},
   "outputs": [
    {
     "data": {
      "text/plain": [
       "('2017-02-10', '1999-03-05')"
      ]
     },
     "execution_count": 21,
     "metadata": {},
     "output_type": "execute_result"
    }
   ],
   "source": [
    "file_dates[example_ticker][0], file_dates[example_ticker][-1]"
   ]
  },
  {
   "cell_type": "markdown",
   "metadata": {},
   "source": [
    "## Sentiment BoW and TF-IDF Representations"
   ]
  },
  {
   "cell_type": "code",
   "execution_count": 22,
   "metadata": {},
   "outputs": [],
   "source": [
    "sentiment_bow_ten_ks = {}\n",
    "sentiment_tfidf_ten_ks = {}\n",
    "\n",
    "for ticker, ten_ks in ten_ks_by_ticker.items():\n",
    "    lemma_docs = [' '.join(ten_k['file_lemma']) for ten_k in ten_ks]\n",
    "    sentiment_bow_ten_ks[ticker] = {}\n",
    "    sentiment_tfidf_ten_ks[ticker] = {}\n",
    "    for sentiment in sentiments:\n",
    "        sentiment_vocab = sentiment_df[sentiment_df[sentiment]]['word']\n",
    "        sentiment_bow_ten_ks[ticker][sentiment] = bow_sent.get_bag_of_words(sentiment_vocab, lemma_docs)\n",
    "        sentiment_tfidf_ten_ks[ticker][sentiment] = bow_sent.get_tfidf(sentiment_vocab, lemma_docs)"
   ]
  },
  {
   "cell_type": "code",
   "execution_count": 23,
   "metadata": {},
   "outputs": [
    {
     "data": {
      "text/plain": [
       "(17, 716)"
      ]
     },
     "execution_count": 23,
     "metadata": {},
     "output_type": "execute_result"
    }
   ],
   "source": [
    "sentiment_bow_ten_ks[example_ticker]['litigious'].shape  # N_docs, vocab_size"
   ]
  },
  {
   "cell_type": "code",
   "execution_count": 24,
   "metadata": {},
   "outputs": [
    {
     "data": {
      "text/plain": [
       "(17, 1515)"
      ]
     },
     "execution_count": 24,
     "metadata": {},
     "output_type": "execute_result"
    }
   ],
   "source": [
    "sentiment_bow_ten_ks[example_ticker]['negative'].shape  # N_docs, vocab_size"
   ]
  },
  {
   "cell_type": "markdown",
   "metadata": {},
   "source": [
    "## Compute Similarities\n",
    "\n",
    "For each sentiment, starting off from the first document, compute sequential distances dist(doc[t], doc[t+1])"
   ]
  },
  {
   "cell_type": "code",
   "execution_count": 25,
   "metadata": {},
   "outputs": [],
   "source": [
    "jaccard_similarities =  { # dict{ticker: {sentiment_word: [jac_scores]}}\n",
    "    ticker: {\n",
    "        sentiment_name: bow_sent.get_jaccard_similarity(sentiment_values)\n",
    "        for sentiment_name, sentiment_values in ten_k_sentiments.items()\n",
    "            }\n",
    "    for ticker, ten_k_sentiments in sentiment_bow_ten_ks.items()\n",
    "    }"
   ]
  },
  {
   "cell_type": "code",
   "execution_count": 26,
   "metadata": {},
   "outputs": [],
   "source": [
    "cosine_similarities = {\n",
    "    ticker: {\n",
    "        sentiment_name: bow_sent.get_cosine_similarity(sentiment_values)\n",
    "        for sentiment_name, sentiment_values in ten_k_sentiments.items()}\n",
    "    for ticker, ten_k_sentiments in sentiment_tfidf_ten_ks.items()}\n"
   ]
  },
  {
   "cell_type": "code",
   "execution_count": 27,
   "metadata": {},
   "outputs": [
    {
     "data": {
      "text/plain": [
       "[0.9242424242424242,\n",
       " 0.9696969696969697,\n",
       " 0.9285714285714286,\n",
       " 0.8933333333333333,\n",
       " 0.8571428571428571]"
      ]
     },
     "execution_count": 27,
     "metadata": {},
     "output_type": "execute_result"
    }
   ],
   "source": [
    "jaccard_similarities[example_ticker]['litigious'][:5]"
   ]
  },
  {
   "cell_type": "code",
   "execution_count": 28,
   "metadata": {},
   "outputs": [
    {
     "data": {
      "text/plain": [
       "6"
      ]
     },
     "execution_count": 28,
     "metadata": {},
     "output_type": "execute_result"
    }
   ],
   "source": [
    "len(jaccard_similarities[example_ticker])  # N_sentiments"
   ]
  },
  {
   "cell_type": "code",
   "execution_count": 29,
   "metadata": {},
   "outputs": [
    {
     "data": {
      "text/plain": [
       "16"
      ]
     },
     "execution_count": 29,
     "metadata": {},
     "output_type": "execute_result"
    }
   ],
   "source": [
    "len(jaccard_similarities[example_ticker]['litigious'])  # N_docs = N_dates"
   ]
  },
  {
   "cell_type": "code",
   "execution_count": 30,
   "metadata": {},
   "outputs": [
    {
     "data": {
      "text/plain": [
       "[0.9873617651579193,\n",
       " 0.9816376738333554,\n",
       " 0.985114567304071,\n",
       " 0.975604010054072,\n",
       " 0.9777154731676194]"
      ]
     },
     "execution_count": 30,
     "metadata": {},
     "output_type": "execute_result"
    }
   ],
   "source": [
    "cosine_similarities[example_ticker]['litigious'][:5]"
   ]
  },
  {
   "cell_type": "code",
   "execution_count": 76,
   "metadata": {},
   "outputs": [],
   "source": [
    "def build_distances_df(dict_to_df):\n",
    "    cosine_similarities_df_dict = {'date': [], 'ticker': [], 'sentiment': [], 'value': []}\n",
    "\n",
    "\n",
    "    for ticker, ten_k_sentiments in cosine_similarities.items():\n",
    "        for sentiment_name, sentiment_values in ten_k_sentiments.items():\n",
    "            for sentiment_values, sentiment_value in enumerate(sentiment_values):\n",
    "                cosine_similarities_df_dict['ticker'].append(ticker)\n",
    "                cosine_similarities_df_dict['sentiment'].append(sentiment_name)\n",
    "                cosine_similarities_df_dict['value'].append(sentiment_value)\n",
    "                cosine_similarities_df_dict['date'].append(file_dates[ticker][1:][sentiment_values])\n",
    "\n",
    "    cosine_similarities_df = pd.DataFrame(cosine_similarities_df_dict)\n",
    "    cosine_similarities_df['date'] = pd.DatetimeIndex(cosine_similarities_df['date']).year\n",
    "    cosine_similarities_df['date'] = pd.to_datetime(cosine_similarities_df['date'], format='%Y')\n",
    "    \n",
    "    cosine_similarities_df.index.freq = None\n",
    "    \n",
    "    return cosine_similarities_df"
   ]
  },
  {
   "cell_type": "code",
   "execution_count": 85,
   "metadata": {},
   "outputs": [],
   "source": [
    "jaccard_similarities_df = build_distances_df(jaccard_similarities)\n",
    "cosine_similarities_df = build_distances_df(cosine_similarities)"
   ]
  },
  {
   "cell_type": "code",
   "execution_count": 86,
   "metadata": {},
   "outputs": [
    {
     "data": {
      "text/html": [
       "<div>\n",
       "<style scoped>\n",
       "    .dataframe tbody tr th:only-of-type {\n",
       "        vertical-align: middle;\n",
       "    }\n",
       "\n",
       "    .dataframe tbody tr th {\n",
       "        vertical-align: top;\n",
       "    }\n",
       "\n",
       "    .dataframe thead th {\n",
       "        text-align: right;\n",
       "    }\n",
       "</style>\n",
       "<table border=\"1\" class=\"dataframe\">\n",
       "  <thead>\n",
       "    <tr style=\"text-align: right;\">\n",
       "      <th></th>\n",
       "      <th>date</th>\n",
       "      <th>ticker</th>\n",
       "      <th>sentiment</th>\n",
       "      <th>value</th>\n",
       "    </tr>\n",
       "  </thead>\n",
       "  <tbody>\n",
       "    <tr>\n",
       "      <th>0</th>\n",
       "      <td>2016-01-01</td>\n",
       "      <td>AMZN</td>\n",
       "      <td>negative</td>\n",
       "      <td>0.980651</td>\n",
       "    </tr>\n",
       "    <tr>\n",
       "      <th>1</th>\n",
       "      <td>2015-01-01</td>\n",
       "      <td>AMZN</td>\n",
       "      <td>negative</td>\n",
       "      <td>0.959517</td>\n",
       "    </tr>\n",
       "    <tr>\n",
       "      <th>2</th>\n",
       "      <td>2014-01-01</td>\n",
       "      <td>AMZN</td>\n",
       "      <td>negative</td>\n",
       "      <td>0.988386</td>\n",
       "    </tr>\n",
       "    <tr>\n",
       "      <th>3</th>\n",
       "      <td>2013-01-01</td>\n",
       "      <td>AMZN</td>\n",
       "      <td>negative</td>\n",
       "      <td>0.974724</td>\n",
       "    </tr>\n",
       "    <tr>\n",
       "      <th>4</th>\n",
       "      <td>2012-01-01</td>\n",
       "      <td>AMZN</td>\n",
       "      <td>negative</td>\n",
       "      <td>0.975851</td>\n",
       "    </tr>\n",
       "  </tbody>\n",
       "</table>\n",
       "</div>"
      ],
      "text/plain": [
       "        date ticker sentiment     value\n",
       "0 2016-01-01   AMZN  negative  0.980651\n",
       "1 2015-01-01   AMZN  negative  0.959517\n",
       "2 2014-01-01   AMZN  negative  0.988386\n",
       "3 2013-01-01   AMZN  negative  0.974724\n",
       "4 2012-01-01   AMZN  negative  0.975851"
      ]
     },
     "execution_count": 86,
     "metadata": {},
     "output_type": "execute_result"
    }
   ],
   "source": [
    "cosine_similarities_df.head()"
   ]
  },
  {
   "cell_type": "code",
   "execution_count": 79,
   "metadata": {},
   "outputs": [
    {
     "data": {
      "image/png": "[encoded data removed]",
      "text/plain": [
       "<Figure size 1152x576 with 2 Axes>"
      ]
     },
     "metadata": {},
     "output_type": "display_data"
    }
   ],
   "source": [
    "fig, axs = plt.subplots(2,1, sharex=True, sharey=True)\n",
    "\n",
    "sns.lineplot(ax=axs[0], data=cosine_similarities_df[jaccard_similarities_df['ticker']==example_ticker],\n",
    "             x='date', y='value', hue='sentiment')\n",
    "\n",
    "sns.lineplot(ax=axs[1], data=cosine_similarities_df[cosine_similarities_df['ticker']==example_ticker],\n",
    "             x='date', y='value', hue='sentiment')\n",
    "\n",
    "plt.show()"
   ]
  },
  {
   "cell_type": "code",
   "execution_count": 136,
   "metadata": {},
   "outputs": [],
   "source": [
    "cosine_similarities_df.to_csv(OUTPATH + OUTFILE, index=False)"
   ]
  },
  {
   "cell_type": "code",
   "execution_count": null,
   "metadata": {},
   "outputs": [],
   "source": []
  }
 ],
 "metadata": {
  "kernelspec": {
   "display_name": "Python 3",
   "language": "python",
   "name": "python3"
  },
  "language_info": {
   "codemirror_mode": {
    "name": "ipython",
    "version": 3
   },
   "file_extension": ".py",
   "mimetype": "text/x-python",
   "name": "python",
   "nbconvert_exporter": "python",
   "pygments_lexer": "ipython3",
   "version": "3.7.7"
  }
 },
 "nbformat": 4,
 "nbformat_minor": 4
}
