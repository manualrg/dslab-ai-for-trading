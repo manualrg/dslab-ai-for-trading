{
 "cells": [
  {
   "cell_type": "markdown",
   "metadata": {},
   "source": [
    "<font size=\"6\"> **Portfolio Optimization** </font>\n",
    "\n",
    "$$ \\vec{r}(N,T) = \\vec{\\beta}(N,K) · \\vec{f}(K,T) + \\vec{s}(N,T)$$\n",
    "\n",
    "* from $\\vec{f}$ compute `factor covariance matrix`: $\\vec{F}$\n",
    "* from $\\vec{s}$ compute `idiosyncratic covariance matrix` $\\vec{S}$ and extract diagonal\n",
    "\n",
    "Use  $\\vec{\\beta}$, $\\vec{F}$ and $\\vec{S}$ to estimate portfolio risk: $\\sigma_{r_{p}}$"
   ]
  },
  {
   "cell_type": "code",
   "execution_count": 1,
   "metadata": {},
   "outputs": [],
   "source": [
    "%%capture\n",
    "%run 01_portopt_data.ipynb"
   ]
  },
  {
   "cell_type": "code",
   "execution_count": 2,
   "metadata": {},
   "outputs": [],
   "source": [
    "import matplotlib.pyplot as plt\n",
    "import scipy\n",
    "import pickle\n",
    "import datetime as dt\n",
    "\n",
    "from mle_quant_utils import portopt_utils\n",
    "from tqdm import tqdm\n",
    "\n",
    "%matplotlib inline\n",
    "plt.style.use('ggplot')\n",
    "plt.rcParams['figure.figsize'] = (14, 8)"
   ]
  },
  {
   "cell_type": "code",
   "execution_count": 3,
   "metadata": {},
   "outputs": [],
   "source": [
    "import yaml\n",
    "import os\n",
    "\n",
    "# Retrieve parameters from configuration file\n",
    "with open(\"../conf.yml\", \"r\") as ymlfile:\n",
    "    cfg = yaml.load(ymlfile)"
   ]
  },
  {
   "cell_type": "raw",
   "metadata": {},
   "source": [
    "OUTPATH =  \"../data/\" + cfg['output']['main'] + \"/\" + cfg['output']['risk_factors']['folder'] + \"/\" + MODEL_VERSION + \"/\"\n",
    "OUTFILE1 = cfg['output']['risk_factors']['model']\n",
    "OUTFILE2 = cfg['output']['risk_factors']['model_metadata']"
   ]
  },
  {
   "cell_type": "code",
   "execution_count": 4,
   "metadata": {},
   "outputs": [],
   "source": [
    "RND_SEED = 123\n",
    "STR_DATE_FMT = \"%Y%m%d\"\n",
    "\n",
    "universe_start_date = test_dates[0]\n",
    "universe_end_date = test_dates[-1]\n",
    "min_mkt_cap = float(cfg['backtesting']['min_mkt_cap'])\n",
    "risk_aversion = float(cfg['backtesting']['risk_aversion'])\n"
   ]
  },
  {
   "cell_type": "code",
   "execution_count": 5,
   "metadata": {},
   "outputs": [
    {
     "data": {
      "text/html": [
       "<div>\n",
       "<style scoped>\n",
       "    .dataframe tbody tr th:only-of-type {\n",
       "        vertical-align: middle;\n",
       "    }\n",
       "\n",
       "    .dataframe tbody tr th {\n",
       "        vertical-align: top;\n",
       "    }\n",
       "\n",
       "    .dataframe thead th {\n",
       "        text-align: right;\n",
       "    }\n",
       "</style>\n",
       "<table border=\"1\" class=\"dataframe\">\n",
       "  <thead>\n",
       "    <tr style=\"text-align: right;\">\n",
       "      <th></th>\n",
       "      <th>A</th>\n",
       "      <th>AAL</th>\n",
       "      <th>AAP</th>\n",
       "      <th>AAPL</th>\n",
       "      <th>ABBV</th>\n",
       "      <th>ABC</th>\n",
       "      <th>ABT</th>\n",
       "      <th>ACN</th>\n",
       "      <th>ADBE</th>\n",
       "      <th>ADI</th>\n",
       "      <th>...</th>\n",
       "      <th>XL</th>\n",
       "      <th>XLNX</th>\n",
       "      <th>XOM</th>\n",
       "      <th>XRAY</th>\n",
       "      <th>XRX</th>\n",
       "      <th>XYL</th>\n",
       "      <th>YUM</th>\n",
       "      <th>ZBH</th>\n",
       "      <th>ZION</th>\n",
       "      <th>ZTS</th>\n",
       "    </tr>\n",
       "    <tr>\n",
       "      <th>date</th>\n",
       "      <th></th>\n",
       "      <th></th>\n",
       "      <th></th>\n",
       "      <th></th>\n",
       "      <th></th>\n",
       "      <th></th>\n",
       "      <th></th>\n",
       "      <th></th>\n",
       "      <th></th>\n",
       "      <th></th>\n",
       "      <th></th>\n",
       "      <th></th>\n",
       "      <th></th>\n",
       "      <th></th>\n",
       "      <th></th>\n",
       "      <th></th>\n",
       "      <th></th>\n",
       "      <th></th>\n",
       "      <th></th>\n",
       "      <th></th>\n",
       "      <th></th>\n",
       "    </tr>\n",
       "  </thead>\n",
       "  <tbody>\n",
       "    <tr>\n",
       "      <th>2015-05-28 00:00:00+00:00</th>\n",
       "      <td>-0.004683</td>\n",
       "      <td>-0.006383</td>\n",
       "      <td>-0.005534</td>\n",
       "      <td>-0.002000</td>\n",
       "      <td>0.001341</td>\n",
       "      <td>-0.004308</td>\n",
       "      <td>0.005088</td>\n",
       "      <td>0.001448</td>\n",
       "      <td>-0.001809</td>\n",
       "      <td>0.000284</td>\n",
       "      <td>...</td>\n",
       "      <td>-0.004758</td>\n",
       "      <td>0.002820</td>\n",
       "      <td>0.000000</td>\n",
       "      <td>0.005400</td>\n",
       "      <td>0.006105</td>\n",
       "      <td>0.005479</td>\n",
       "      <td>-0.001949</td>\n",
       "      <td>-0.007701</td>\n",
       "      <td>-0.004797</td>\n",
       "      <td>-0.006864</td>\n",
       "    </tr>\n",
       "    <tr>\n",
       "      <th>2015-05-29 00:00:00+00:00</th>\n",
       "      <td>-0.012719</td>\n",
       "      <td>0.009538</td>\n",
       "      <td>-0.020019</td>\n",
       "      <td>-0.011390</td>\n",
       "      <td>-0.013042</td>\n",
       "      <td>-0.004782</td>\n",
       "      <td>-0.013383</td>\n",
       "      <td>-0.008980</td>\n",
       "      <td>-0.011560</td>\n",
       "      <td>-0.005119</td>\n",
       "      <td>...</td>\n",
       "      <td>0.001594</td>\n",
       "      <td>-0.007940</td>\n",
       "      <td>0.001050</td>\n",
       "      <td>-0.002207</td>\n",
       "      <td>-0.006944</td>\n",
       "      <td>-0.003519</td>\n",
       "      <td>-0.018412</td>\n",
       "      <td>0.006169</td>\n",
       "      <td>-0.008223</td>\n",
       "      <td>0.013427</td>\n",
       "    </tr>\n",
       "    <tr>\n",
       "      <th>2015-12-24 00:00:00+00:00</th>\n",
       "      <td>-0.003682</td>\n",
       "      <td>0.012022</td>\n",
       "      <td>0.000465</td>\n",
       "      <td>-0.005341</td>\n",
       "      <td>-0.002041</td>\n",
       "      <td>0.000090</td>\n",
       "      <td>0.000000</td>\n",
       "      <td>-0.001820</td>\n",
       "      <td>-0.004224</td>\n",
       "      <td>0.005673</td>\n",
       "      <td>...</td>\n",
       "      <td>0.009623</td>\n",
       "      <td>-0.000620</td>\n",
       "      <td>-0.010724</td>\n",
       "      <td>-0.002127</td>\n",
       "      <td>0.005553</td>\n",
       "      <td>-0.001614</td>\n",
       "      <td>-0.001620</td>\n",
       "      <td>0.001364</td>\n",
       "      <td>0.003975</td>\n",
       "      <td>0.003121</td>\n",
       "    </tr>\n",
       "    <tr>\n",
       "      <th>2015-12-28 00:00:00+00:00</th>\n",
       "      <td>0.007040</td>\n",
       "      <td>-0.013259</td>\n",
       "      <td>0.009526</td>\n",
       "      <td>-0.011204</td>\n",
       "      <td>0.004953</td>\n",
       "      <td>0.002309</td>\n",
       "      <td>-0.001550</td>\n",
       "      <td>-0.001441</td>\n",
       "      <td>-0.001060</td>\n",
       "      <td>-0.006164</td>\n",
       "      <td>...</td>\n",
       "      <td>0.000503</td>\n",
       "      <td>-0.001064</td>\n",
       "      <td>-0.007439</td>\n",
       "      <td>0.004930</td>\n",
       "      <td>-0.021138</td>\n",
       "      <td>-0.003484</td>\n",
       "      <td>-0.002177</td>\n",
       "      <td>-0.006413</td>\n",
       "      <td>-0.005033</td>\n",
       "      <td>-0.004784</td>\n",
       "    </tr>\n",
       "  </tbody>\n",
       "</table>\n",
       "<p>4 rows × 490 columns</p>\n",
       "</div>"
      ],
      "text/plain": [
       "                                  A       AAL       AAP      AAPL      ABBV  \\\n",
       "date                                                                          \n",
       "2015-05-28 00:00:00+00:00 -0.004683 -0.006383 -0.005534 -0.002000  0.001341   \n",
       "2015-05-29 00:00:00+00:00 -0.012719  0.009538 -0.020019 -0.011390 -0.013042   \n",
       "2015-12-24 00:00:00+00:00 -0.003682  0.012022  0.000465 -0.005341 -0.002041   \n",
       "2015-12-28 00:00:00+00:00  0.007040 -0.013259  0.009526 -0.011204  0.004953   \n",
       "\n",
       "                                ABC       ABT       ACN      ADBE       ADI  \\\n",
       "date                                                                          \n",
       "2015-05-28 00:00:00+00:00 -0.004308  0.005088  0.001448 -0.001809  0.000284   \n",
       "2015-05-29 00:00:00+00:00 -0.004782 -0.013383 -0.008980 -0.011560 -0.005119   \n",
       "2015-12-24 00:00:00+00:00  0.000090  0.000000 -0.001820 -0.004224  0.005673   \n",
       "2015-12-28 00:00:00+00:00  0.002309 -0.001550 -0.001441 -0.001060 -0.006164   \n",
       "\n",
       "                             ...           XL      XLNX       XOM      XRAY  \\\n",
       "date                         ...                                              \n",
       "2015-05-28 00:00:00+00:00    ...    -0.004758  0.002820  0.000000  0.005400   \n",
       "2015-05-29 00:00:00+00:00    ...     0.001594 -0.007940  0.001050 -0.002207   \n",
       "2015-12-24 00:00:00+00:00    ...     0.009623 -0.000620 -0.010724 -0.002127   \n",
       "2015-12-28 00:00:00+00:00    ...     0.000503 -0.001064 -0.007439  0.004930   \n",
       "\n",
       "                                XRX       XYL       YUM       ZBH      ZION  \\\n",
       "date                                                                          \n",
       "2015-05-28 00:00:00+00:00  0.006105  0.005479 -0.001949 -0.007701 -0.004797   \n",
       "2015-05-29 00:00:00+00:00 -0.006944 -0.003519 -0.018412  0.006169 -0.008223   \n",
       "2015-12-24 00:00:00+00:00  0.005553 -0.001614 -0.001620  0.001364  0.003975   \n",
       "2015-12-28 00:00:00+00:00 -0.021138 -0.003484 -0.002177 -0.006413 -0.005033   \n",
       "\n",
       "                                ZTS  \n",
       "date                                 \n",
       "2015-05-28 00:00:00+00:00 -0.006864  \n",
       "2015-05-29 00:00:00+00:00  0.013427  \n",
       "2015-12-24 00:00:00+00:00  0.003121  \n",
       "2015-12-28 00:00:00+00:00 -0.004784  \n",
       "\n",
       "[4 rows x 490 columns]"
      ]
     },
     "execution_count": 5,
     "metadata": {},
     "output_type": "execute_result"
    }
   ],
   "source": [
    "daily_returns = daily_returns[universe_start_date:universe_end_date].copy()\n",
    "pd.concat([daily_returns.head(2), daily_returns.tail(2)],axis=0)"
   ]
  },
  {
   "cell_type": "code",
   "execution_count": 6,
   "metadata": {},
   "outputs": [],
   "source": [
    "def get_obj_func(h0, risk_aversion, Q, specVar, alpha_vec, Lambda): \n",
    "    def obj_func(h):\n",
    "        _h0 = h0.values\n",
    "        factor_risk = 0.5*risk_aversion*np.sum( np.matmul(Q,h)**2 )\n",
    "        idiosyncratic_risk = 0.5*risk_aversion*np.dot(h**2, specVar)  # specVar is diag\n",
    "        exp_port_ret = np.dot(h, alpha_vec)\n",
    "        trans_costs = np.dot((h-_h0)**2, Lambda)\n",
    "        obj_f = factor_risk + idiosyncratic_risk - exp_port_ret + trans_costs\n",
    "        return(obj_f)\n",
    "    \n",
    "    return obj_func"
   ]
  },
  {
   "cell_type": "code",
   "execution_count": 7,
   "metadata": {},
   "outputs": [],
   "source": [
    "def get_grad_func(h0, risk_aversion, Q, QT, specVar, alpha_vec, Lambda):\n",
    "    def grad_func(h):\n",
    "        \n",
    "        grad_factor_risk = risk_aversion*np.matmul(QT, np.matmul(Q,h))\n",
    "        grad_idiosyncratic_risk = risk_aversion*specVar*h\n",
    "        grad_exp_port_ret =  alpha_vec\n",
    "        grad_trans_costs = 2*(h-h0)*Lambda\n",
    "        \n",
    "        g = grad_factor_risk + grad_idiosyncratic_risk - grad_exp_port_ret + grad_trans_costs\n",
    "        return(np.asarray(g))\n",
    "    \n",
    "    return grad_func"
   ]
  },
  {
   "cell_type": "code",
   "execution_count": 8,
   "metadata": {},
   "outputs": [],
   "source": [
    "def get_h_star(risk_aversion, Q, QT, specVar, alpha_vec, h0, Lambda):\n",
    "    \"\"\"\n",
    "    Optimize the objective function\n",
    "\n",
    "    Parameters\n",
    "    ----------        \n",
    "    risk_aversion : int or float \n",
    "        Trader's risk aversion\n",
    "        \n",
    "    Q : patsy.design_info.DesignMatrix \n",
    "        Q Matrix\n",
    "        \n",
    "    QT : patsy.design_info.DesignMatrix \n",
    "        Transpose of the Q Matrix\n",
    "        \n",
    "    specVar: Pandas Series \n",
    "        Specific Variance\n",
    "        \n",
    "    alpha_vec: patsy.design_info.DesignMatrix \n",
    "        alpha vector\n",
    "        \n",
    "    h0 : Pandas Series  \n",
    "        initial holdings\n",
    "        \n",
    "    Lambda : Pandas Series  \n",
    "        Lambda\n",
    "        \n",
    "    Returns\n",
    "    -------\n",
    "    optimizer_result[0]: Numpy ndarray \n",
    "        optimized holdings\n",
    "    \"\"\"\n",
    "    obj_func = get_obj_func(h0, risk_aversion, Q, specVar, alpha_vec, Lambda)\n",
    "    grad_func = get_grad_func(h0, risk_aversion, Q, QT, specVar, alpha_vec, Lambda)\n",
    "\n",
    "\n",
    "    optimizer_result = scipy.optimize.fmin_l_bfgs_b(\n",
    "        func=obj_func, x0=h0, fprime=grad_func\n",
    "    )\n",
    "    return optimizer_result[0]"
   ]
  },
  {
   "cell_type": "code",
   "execution_count": 9,
   "metadata": {},
   "outputs": [
    {
     "data": {
      "text/plain": [
       "dict_keys(['factor_betas', 'factor_var_vector', 'factor_returns', 'idiosyncratic_var_vector'])"
      ]
     },
     "execution_count": 9,
     "metadata": {},
     "output_type": "execute_result"
    }
   ],
   "source": [
    "risk_model.keys()"
   ]
  },
  {
   "cell_type": "code",
   "execution_count": 10,
   "metadata": {},
   "outputs": [],
   "source": [
    "risk_facret = risk_model['factor_returns']\n",
    "#alpha_facret"
   ]
  },
  {
   "cell_type": "code",
   "execution_count": 11,
   "metadata": {},
   "outputs": [
    {
     "data": {
      "text/plain": [
       "(490, 20)"
      ]
     },
     "execution_count": 11,
     "metadata": {},
     "output_type": "execute_result"
    }
   ],
   "source": [
    "B = risk_model['factor_betas']\n",
    "B.shape"
   ]
  },
  {
   "cell_type": "code",
   "execution_count": 12,
   "metadata": {},
   "outputs": [
    {
     "data": {
      "text/plain": [
       "(20, 20)"
      ]
     },
     "execution_count": 12,
     "metadata": {},
     "output_type": "execute_result"
    }
   ],
   "source": [
    "Fvar = np.diag(risk_model['factor_var_vector'].values[:,0])\n",
    "Fvar.shape"
   ]
  },
  {
   "cell_type": "code",
   "execution_count": 13,
   "metadata": {},
   "outputs": [],
   "source": [
    "ml_alpha_rank = ml_alpha.groupby(level=0).apply(\n",
    "    lambda grp: pd.cut(grp, bins=np.linspace(start=grp.min(), stop=grp.max(), num=11), labels=False, include_lowest=True))\n",
    "#ml_alpha_rank = ml_alpha.groupby(level=0).transform(lambda x: scipy.stats.rankdata(x))\n",
    "mu = ml_alpha_rank.groupby(level=0).transform(np.mean)\n",
    "std = ml_alpha_rank.groupby(level=0).transform(np.std)\n",
    "ml_alpha_rank_zscore = (ml_alpha_rank - mu)/std"
   ]
  },
  {
   "cell_type": "code",
   "execution_count": 14,
   "metadata": {},
   "outputs": [
    {
     "data": {
      "image/png": "[encoded data removed]",
      "text/plain": [
       "<Figure size 432x288 with 1 Axes>"
      ]
     },
     "metadata": {
      "needs_background": "light"
     },
     "output_type": "display_data"
    }
   ],
   "source": [
    "# Fit a normal distribution to the data:\n",
    "mu, std = scipy.stats.norm.fit(ml_alpha_rank_zscore)\n",
    "\n",
    "# Plot the histogram.\n",
    "ml_alpha_rank_zscore.plot.hist(bins=25, density=True, alpha=0.6)\n",
    "\n",
    "# Plot the PDF.\n",
    "xmin, xmax = plt.xlim()\n",
    "x = np.linspace(xmin, xmax, 100)\n",
    "p =  scipy.stats.norm.pdf(x, mu, std)\n",
    "plt.plot(x, p, 'k', linewidth=2)\n",
    "title = \"Fit results: mu = %.2f,  std = %.2f\" % (mu, std)\n",
    "plt.title(title)\n",
    "plt.legend()\n",
    "plt.show()"
   ]
  },
  {
   "cell_type": "code",
   "execution_count": 15,
   "metadata": {},
   "outputs": [
    {
     "data": {
      "text/plain": [
       "count    485.000000\n",
       "mean       4.876289\n",
       "std        1.675404\n",
       "min        0.000000\n",
       "25%        4.000000\n",
       "50%        5.000000\n",
       "75%        6.000000\n",
       "max        9.000000\n",
       "dtype: float64"
      ]
     },
     "execution_count": 15,
     "metadata": {},
     "output_type": "execute_result"
    }
   ],
   "source": [
    "ml_alpha_rank.xs(level=0, key=universe_start_date).describe()"
   ]
  },
  {
   "cell_type": "code",
   "execution_count": 16,
   "metadata": {},
   "outputs": [],
   "source": [
    "# alphas\n",
    "alpha_factors = ['Mean_Reversion_Sector_Neutral_Smoothed', 'Momentum_1YR_Smoothed',\n",
    "       'Overnight_Sentiment_Smoothed']\n",
    "B_alpha = features_df[alpha_factors].copy()\n",
    "B_alpha['ML_FACTOR'] = ml_alpha\n",
    "B_alpha['ML_FACTOR_RZ'] = ml_alpha_rank_zscore\n",
    "B_alpha['COMBI_FACTOR'] = B_alpha[alpha_factors].mean(axis=1)"
   ]
  },
  {
   "cell_type": "code",
   "execution_count": 17,
   "metadata": {},
   "outputs": [
    {
     "data": {
      "text/html": [
       "<div>\n",
       "<style scoped>\n",
       "    .dataframe tbody tr th:only-of-type {\n",
       "        vertical-align: middle;\n",
       "    }\n",
       "\n",
       "    .dataframe tbody tr th {\n",
       "        vertical-align: top;\n",
       "    }\n",
       "\n",
       "    .dataframe thead th {\n",
       "        text-align: right;\n",
       "    }\n",
       "</style>\n",
       "<table border=\"1\" class=\"dataframe\">\n",
       "  <thead>\n",
       "    <tr style=\"text-align: right;\">\n",
       "      <th></th>\n",
       "      <th>count</th>\n",
       "      <th>mean</th>\n",
       "      <th>std</th>\n",
       "      <th>min</th>\n",
       "      <th>25%</th>\n",
       "      <th>50%</th>\n",
       "      <th>75%</th>\n",
       "      <th>max</th>\n",
       "    </tr>\n",
       "  </thead>\n",
       "  <tbody>\n",
       "    <tr>\n",
       "      <th>ML_FACTOR</th>\n",
       "      <td>72685.0</td>\n",
       "      <td>9.505026e-03</td>\n",
       "      <td>0.009540</td>\n",
       "      <td>-0.006877</td>\n",
       "      <td>0.003090</td>\n",
       "      <td>0.007066</td>\n",
       "      <td>0.013481</td>\n",
       "      <td>0.037049</td>\n",
       "    </tr>\n",
       "    <tr>\n",
       "      <th>ML_FACTOR_RZ</th>\n",
       "      <td>72685.0</td>\n",
       "      <td>2.016227e-19</td>\n",
       "      <td>0.998981</td>\n",
       "      <td>-3.361165</td>\n",
       "      <td>-0.701219</td>\n",
       "      <td>-0.032392</td>\n",
       "      <td>0.692174</td>\n",
       "      <td>3.411370</td>\n",
       "    </tr>\n",
       "    <tr>\n",
       "      <th>COMBI_FACTOR</th>\n",
       "      <td>72685.0</td>\n",
       "      <td>-2.336870e-03</td>\n",
       "      <td>0.511739</td>\n",
       "      <td>-1.711771</td>\n",
       "      <td>-0.358187</td>\n",
       "      <td>-0.003912</td>\n",
       "      <td>0.354386</td>\n",
       "      <td>1.706674</td>\n",
       "    </tr>\n",
       "    <tr>\n",
       "      <th>Momentum_1YR_Smoothed</th>\n",
       "      <td>72685.0</td>\n",
       "      <td>-7.505632e-03</td>\n",
       "      <td>0.994504</td>\n",
       "      <td>-1.728439</td>\n",
       "      <td>-0.860603</td>\n",
       "      <td>-0.021696</td>\n",
       "      <td>0.853371</td>\n",
       "      <td>1.728439</td>\n",
       "    </tr>\n",
       "  </tbody>\n",
       "</table>\n",
       "</div>"
      ],
      "text/plain": [
       "                         count          mean       std       min       25%  \\\n",
       "ML_FACTOR              72685.0  9.505026e-03  0.009540 -0.006877  0.003090   \n",
       "ML_FACTOR_RZ           72685.0  2.016227e-19  0.998981 -3.361165 -0.701219   \n",
       "COMBI_FACTOR           72685.0 -2.336870e-03  0.511739 -1.711771 -0.358187   \n",
       "Momentum_1YR_Smoothed  72685.0 -7.505632e-03  0.994504 -1.728439 -0.860603   \n",
       "\n",
       "                            50%       75%       max  \n",
       "ML_FACTOR              0.007066  0.013481  0.037049  \n",
       "ML_FACTOR_RZ          -0.032392  0.692174  3.411370  \n",
       "COMBI_FACTOR          -0.003912  0.354386  1.706674  \n",
       "Momentum_1YR_Smoothed -0.021696  0.853371  1.728439  "
      ]
     },
     "execution_count": 17,
     "metadata": {},
     "output_type": "execute_result"
    }
   ],
   "source": [
    "test_alphas = B_alpha.loc[(test_dates, slice(None)), ['ML_FACTOR', 'ML_FACTOR_RZ','COMBI_FACTOR', 'Momentum_1YR_Smoothed']]\n",
    "test_alphas.describe().T"
   ]
  },
  {
   "cell_type": "code",
   "execution_count": 18,
   "metadata": {},
   "outputs": [
    {
     "data": {
      "text/html": [
       "<div>\n",
       "<style scoped>\n",
       "    .dataframe tbody tr th:only-of-type {\n",
       "        vertical-align: middle;\n",
       "    }\n",
       "\n",
       "    .dataframe tbody tr th {\n",
       "        vertical-align: top;\n",
       "    }\n",
       "\n",
       "    .dataframe thead th {\n",
       "        text-align: right;\n",
       "    }\n",
       "</style>\n",
       "<table border=\"1\" class=\"dataframe\">\n",
       "  <thead>\n",
       "    <tr style=\"text-align: right;\">\n",
       "      <th></th>\n",
       "      <th>ML_FACTOR</th>\n",
       "      <th>ML_FACTOR_RZ</th>\n",
       "      <th>COMBI_FACTOR</th>\n",
       "      <th>Momentum_1YR_Smoothed</th>\n",
       "    </tr>\n",
       "  </thead>\n",
       "  <tbody>\n",
       "    <tr>\n",
       "      <th>ML_FACTOR</th>\n",
       "      <td>1.000000</td>\n",
       "      <td>0.116332</td>\n",
       "      <td>0.047137</td>\n",
       "      <td>-0.002370</td>\n",
       "    </tr>\n",
       "    <tr>\n",
       "      <th>ML_FACTOR_RZ</th>\n",
       "      <td>0.116332</td>\n",
       "      <td>1.000000</td>\n",
       "      <td>0.392648</td>\n",
       "      <td>-0.014870</td>\n",
       "    </tr>\n",
       "    <tr>\n",
       "      <th>COMBI_FACTOR</th>\n",
       "      <td>0.047137</td>\n",
       "      <td>0.392648</td>\n",
       "      <td>1.000000</td>\n",
       "      <td>0.590506</td>\n",
       "    </tr>\n",
       "    <tr>\n",
       "      <th>Momentum_1YR_Smoothed</th>\n",
       "      <td>-0.002370</td>\n",
       "      <td>-0.014870</td>\n",
       "      <td>0.590506</td>\n",
       "      <td>1.000000</td>\n",
       "    </tr>\n",
       "  </tbody>\n",
       "</table>\n",
       "</div>"
      ],
      "text/plain": [
       "                       ML_FACTOR  ML_FACTOR_RZ  COMBI_FACTOR  \\\n",
       "ML_FACTOR               1.000000      0.116332      0.047137   \n",
       "ML_FACTOR_RZ            0.116332      1.000000      0.392648   \n",
       "COMBI_FACTOR            0.047137      0.392648      1.000000   \n",
       "Momentum_1YR_Smoothed  -0.002370     -0.014870      0.590506   \n",
       "\n",
       "                       Momentum_1YR_Smoothed  \n",
       "ML_FACTOR                          -0.002370  \n",
       "ML_FACTOR_RZ                       -0.014870  \n",
       "COMBI_FACTOR                        0.590506  \n",
       "Momentum_1YR_Smoothed               1.000000  "
      ]
     },
     "execution_count": 18,
     "metadata": {},
     "output_type": "execute_result"
    }
   ],
   "source": [
    "test_alphas.corr()"
   ]
  },
  {
   "cell_type": "code",
   "execution_count": 19,
   "metadata": {},
   "outputs": [
    {
     "data": {
      "image/png": "[encoded data removed]",
      "text/plain": [
       "<Figure size 1152x432 with 2 Axes>"
      ]
     },
     "metadata": {
      "needs_background": "light"
     },
     "output_type": "display_data"
    }
   ],
   "source": [
    "fig, axs = plt.subplots(1,2, figsize=(16,6), sharey=True)\n",
    "ax1, ax2 = axs\n",
    "B_alpha[['Momentum_1YR_Smoothed', 'COMBI_FACTOR']].plot(ax=ax1, alpha=0.5)\n",
    "B_alpha[['Momentum_1YR_Smoothed', 'COMBI_FACTOR']].plot.hist(ax=ax2, bins=50, alpha=0.5, density=True, orientation='horizontal')\n",
    "plt.show()"
   ]
  },
  {
   "cell_type": "code",
   "execution_count": 20,
   "metadata": {},
   "outputs": [
    {
     "data": {
      "image/png": "[encoded data removed]",
      "text/plain": [
       "<Figure size 1152x432 with 2 Axes>"
      ]
     },
     "metadata": {
      "needs_background": "light"
     },
     "output_type": "display_data"
    }
   ],
   "source": [
    "fig, axs = plt.subplots(1,2, figsize=(16,6), sharey=True)\n",
    "ax1, ax2 = axs\n",
    "\n",
    "B_alpha[['ML_FACTOR', 'ML_FACTOR_RZ', 'COMBI_FACTOR']].plot(ax=ax1, alpha=0.5)\n",
    "B_alpha[['ML_FACTOR', 'ML_FACTOR_RZ', 'COMBI_FACTOR']].plot.hist(ax=ax2, bins=50, alpha=0.5, density=True, orientation='horizontal')\n",
    "\n",
    "plt.show()"
   ]
  },
  {
   "cell_type": "code",
   "execution_count": 21,
   "metadata": {},
   "outputs": [
    {
     "data": {
      "text/plain": [
       "ML_FACTOR       0\n",
       "ML_FACTOR_RZ    0\n",
       "COMBI_FACTOR    0\n",
       "dtype: int64"
      ]
     },
     "execution_count": 21,
     "metadata": {},
     "output_type": "execute_result"
    }
   ],
   "source": [
    "B_alpha[['ML_FACTOR', 'ML_FACTOR_RZ', 'COMBI_FACTOR']].isna().sum()"
   ]
  },
  {
   "cell_type": "code",
   "execution_count": 22,
   "metadata": {},
   "outputs": [],
   "source": [
    "alpha_vec = B_alpha['ML_FACTOR_RZ'].copy()"
   ]
  },
  {
   "cell_type": "code",
   "execution_count": 23,
   "metadata": {},
   "outputs": [
    {
     "data": {
      "text/html": [
       "<div>\n",
       "<style scoped>\n",
       "    .dataframe tbody tr th:only-of-type {\n",
       "        vertical-align: middle;\n",
       "    }\n",
       "\n",
       "    .dataframe tbody tr th {\n",
       "        vertical-align: top;\n",
       "    }\n",
       "\n",
       "    .dataframe thead th {\n",
       "        text-align: right;\n",
       "    }\n",
       "</style>\n",
       "<table border=\"1\" class=\"dataframe\">\n",
       "  <thead>\n",
       "    <tr style=\"text-align: right;\">\n",
       "      <th></th>\n",
       "      <th>h.opt.previous</th>\n",
       "    </tr>\n",
       "    <tr>\n",
       "      <th>asset</th>\n",
       "      <th></th>\n",
       "    </tr>\n",
       "  </thead>\n",
       "  <tbody>\n",
       "    <tr>\n",
       "      <th>A</th>\n",
       "      <td>0</td>\n",
       "    </tr>\n",
       "  </tbody>\n",
       "</table>\n",
       "</div>"
      ],
      "text/plain": [
       "       h.opt.previous\n",
       "asset                \n",
       "A                   0"
      ]
     },
     "execution_count": 23,
     "metadata": {},
     "output_type": "execute_result"
    }
   ],
   "source": [
    "previous_holdings = pd.DataFrame(data = {\"asset\" : [\"A\"], \"h.opt.previous\" : np.array(0)}).set_index('asset')\n",
    "previous_holdings"
   ]
  },
  {
   "cell_type": "code",
   "execution_count": 24,
   "metadata": {},
   "outputs": [],
   "source": [
    "def get_universe(adv, min_adv, h_prev, dt_idx):\n",
    "    universe = adv.loc[dt_idx] > min_adv\n",
    "    universe = universe[universe]\n",
    "    universe = universe.index.union(h_prev.index)\n",
    "    universe.name = 'asset'\n",
    "    return universe\n",
    "    "
   ]
  },
  {
   "cell_type": "code",
   "execution_count": 25,
   "metadata": {},
   "outputs": [
    {
     "data": {
      "text/plain": [
       "490"
      ]
     },
     "execution_count": 25,
     "metadata": {},
     "output_type": "execute_result"
    }
   ],
   "source": [
    "len(set(alpha_vec.index.get_level_values(1).unique()).intersection(set(universe_tickers)))"
   ]
  },
  {
   "cell_type": "code",
   "execution_count": 26,
   "metadata": {},
   "outputs": [
    {
     "data": {
      "text/plain": [
       "490"
      ]
     },
     "execution_count": 26,
     "metadata": {},
     "output_type": "execute_result"
    }
   ],
   "source": [
    "len(universe_tickers)"
   ]
  },
  {
   "cell_type": "code",
   "execution_count": 27,
   "metadata": {},
   "outputs": [],
   "source": [
    "# data alignment: static frame\n",
    "bkt_dates = mkt_cap.loc[universe_start_date:universe_end_date].index\n",
    "\n",
    "mkt_caps = {}\n",
    "betas_exp = {}\n",
    "alphas_vec = {}\n",
    "# factor_cov = {}\n",
    "spec_var = {}\n",
    "lambdas = {}\n",
    "\n",
    "for dt_idx in bkt_dates:\n",
    "    dt_idx_str = dt.datetime.strftime(dt_idx, STR_DATE_FMT)\n",
    "    universe = pd.Index(universe_tickers)\n",
    "    betas_exp[dt_idx_str] = B.loc[universe]\n",
    "    spec_var[dt_idx_str] = risk_model['idiosyncratic_var_vector'].loc[universe, '0']\n",
    "    alphas_vec[dt_idx_str] = alpha_vec.loc[dt_idx][universe]*1e-4\n",
    "    lambdas[dt_idx_str] = 0.1 / adv.loc[dt_idx, universe]\n",
    "    lambdas[dt_idx_str] = lambdas[dt_idx_str].fillna(lambdas[dt_idx_str].median())"
   ]
  },
  {
   "cell_type": "code",
   "execution_count": 28,
   "metadata": {},
   "outputs": [],
   "source": [
    "example_dt = dt.datetime.strftime(universe_start_date, STR_DATE_FMT)\n",
    "\n",
    "# universe\n",
    "ex_universe = pd.Index(['AMZN', 'MSFT', 'AAPL', 'GOOG'])\n",
    "ex_universe.name = 'asset'\n",
    "# alpha\n",
    "current_alpha_vec = alphas_vec[example_dt].loc[ex_universe]\n",
    "# risk\n",
    "BT = betas_exp[example_dt].loc[ex_universe].T\n",
    "Q = np.matmul(scipy.linalg.sqrtm(Fvar), BT)\n",
    "QT = Q.transpose()\n",
    "specVar = spec_var[example_dt].loc[ex_universe]\n",
    "# cost\n",
    "Lambda = lambdas[example_dt].loc[ex_universe]\n",
    "# previous holidng\n",
    "h0 = pd.Series(index=current_alpha_vec.index, data=np.zeros(len(current_alpha_vec)))"
   ]
  },
  {
   "cell_type": "code",
   "execution_count": 29,
   "metadata": {},
   "outputs": [
    {
     "data": {
      "text/plain": [
       "((20, 4), (20, 4), (4,))"
      ]
     },
     "execution_count": 29,
     "metadata": {},
     "output_type": "execute_result"
    }
   ],
   "source": [
    "BT.shape, Q.shape, specVar.shape"
   ]
  },
  {
   "cell_type": "code",
   "execution_count": 30,
   "metadata": {},
   "outputs": [
    {
     "data": {
      "text/html": [
       "<div>\n",
       "<style scoped>\n",
       "    .dataframe tbody tr th:only-of-type {\n",
       "        vertical-align: middle;\n",
       "    }\n",
       "\n",
       "    .dataframe tbody tr th {\n",
       "        vertical-align: top;\n",
       "    }\n",
       "\n",
       "    .dataframe thead th {\n",
       "        text-align: right;\n",
       "    }\n",
       "</style>\n",
       "<table border=\"1\" class=\"dataframe\">\n",
       "  <thead>\n",
       "    <tr style=\"text-align: right;\">\n",
       "      <th></th>\n",
       "      <th></th>\n",
       "      <th>Mean_Reversion_Sector_Neutral_Smoothed</th>\n",
       "      <th>Momentum_1YR_Smoothed</th>\n",
       "      <th>Overnight_Sentiment_Smoothed</th>\n",
       "      <th>ML_FACTOR</th>\n",
       "      <th>ML_FACTOR_RZ</th>\n",
       "      <th>COMBI_FACTOR</th>\n",
       "    </tr>\n",
       "    <tr>\n",
       "      <th>date</th>\n",
       "      <th>asset</th>\n",
       "      <th></th>\n",
       "      <th></th>\n",
       "      <th></th>\n",
       "      <th></th>\n",
       "      <th></th>\n",
       "      <th></th>\n",
       "    </tr>\n",
       "  </thead>\n",
       "  <tbody>\n",
       "    <tr>\n",
       "      <th rowspan=\"4\" valign=\"top\">2015-05-28 00:00:00+00:00</th>\n",
       "      <th>AAPL</th>\n",
       "      <td>-1.296340</td>\n",
       "      <td>1.524645</td>\n",
       "      <td>1.321361</td>\n",
       "      <td>0.001930</td>\n",
       "      <td>0.670711</td>\n",
       "      <td>0.516555</td>\n",
       "    </tr>\n",
       "    <tr>\n",
       "      <th>AMZN</th>\n",
       "      <td>-0.662574</td>\n",
       "      <td>1.262653</td>\n",
       "      <td>0.392837</td>\n",
       "      <td>0.001770</td>\n",
       "      <td>0.670711</td>\n",
       "      <td>0.330972</td>\n",
       "    </tr>\n",
       "    <tr>\n",
       "      <th>GOOG</th>\n",
       "      <td>-1.163105</td>\n",
       "      <td>-1.528283</td>\n",
       "      <td>-0.135707</td>\n",
       "      <td>-0.002308</td>\n",
       "      <td>-2.910515</td>\n",
       "      <td>-0.942365</td>\n",
       "    </tr>\n",
       "    <tr>\n",
       "      <th>MSFT</th>\n",
       "      <td>1.512397</td>\n",
       "      <td>-0.025471</td>\n",
       "      <td>-1.585633</td>\n",
       "      <td>0.002217</td>\n",
       "      <td>0.670711</td>\n",
       "      <td>-0.032903</td>\n",
       "    </tr>\n",
       "  </tbody>\n",
       "</table>\n",
       "</div>"
      ],
      "text/plain": [
       "                                 Mean_Reversion_Sector_Neutral_Smoothed  \\\n",
       "date                      asset                                           \n",
       "2015-05-28 00:00:00+00:00 AAPL                                -1.296340   \n",
       "                          AMZN                                -0.662574   \n",
       "                          GOOG                                -1.163105   \n",
       "                          MSFT                                 1.512397   \n",
       "\n",
       "                                 Momentum_1YR_Smoothed  \\\n",
       "date                      asset                          \n",
       "2015-05-28 00:00:00+00:00 AAPL                1.524645   \n",
       "                          AMZN                1.262653   \n",
       "                          GOOG               -1.528283   \n",
       "                          MSFT               -0.025471   \n",
       "\n",
       "                                 Overnight_Sentiment_Smoothed  ML_FACTOR  \\\n",
       "date                      asset                                            \n",
       "2015-05-28 00:00:00+00:00 AAPL                       1.321361   0.001930   \n",
       "                          AMZN                       0.392837   0.001770   \n",
       "                          GOOG                      -0.135707  -0.002308   \n",
       "                          MSFT                      -1.585633   0.002217   \n",
       "\n",
       "                                 ML_FACTOR_RZ  COMBI_FACTOR  \n",
       "date                      asset                              \n",
       "2015-05-28 00:00:00+00:00 AAPL       0.670711      0.516555  \n",
       "                          AMZN       0.670711      0.330972  \n",
       "                          GOOG      -2.910515     -0.942365  \n",
       "                          MSFT       0.670711     -0.032903  "
      ]
     },
     "execution_count": 30,
     "metadata": {},
     "output_type": "execute_result"
    }
   ],
   "source": [
    "B_alpha.loc[(universe_start_date, ['AMZN', 'MSFT', 'AAPL', 'GOOG']), :]"
   ]
  },
  {
   "cell_type": "code",
   "execution_count": 31,
   "metadata": {},
   "outputs": [
    {
     "data": {
      "text/plain": [
       "array([  618.06625877,   864.80816365,   819.22933988, -3384.39927802])"
      ]
     },
     "execution_count": 31,
     "metadata": {},
     "output_type": "execute_result"
    }
   ],
   "source": [
    "h_star = get_h_star(risk_aversion, Q, QT, specVar, current_alpha_vec, h0, Lambda)\n",
    "h_star[:5]"
   ]
  },
  {
   "cell_type": "code",
   "execution_count": 32,
   "metadata": {},
   "outputs": [
    {
     "data": {
      "text/plain": [
       "-1082.29551571123"
      ]
     },
     "execution_count": 32,
     "metadata": {},
     "output_type": "execute_result"
    }
   ],
   "source": [
    "h_star.sum()"
   ]
  },
  {
   "cell_type": "code",
   "execution_count": 33,
   "metadata": {},
   "outputs": [],
   "source": [
    "def get_total_transaction_costs(h0, h_star, Lambda):\n",
    "    \"\"\"\n",
    "    Calculate Total Transaction Costs\n",
    "\n",
    "    Parameters\n",
    "    ----------\n",
    "    h0 : Pandas Series\n",
    "        initial holdings (before optimization)\n",
    "        \n",
    "    h_star: Numpy ndarray \n",
    "        optimized holdings\n",
    "        \n",
    "    Lambda : Pandas Series  \n",
    "        Lambda\n",
    "        \n",
    "    Returns\n",
    "    -------\n",
    "    total_transaction_costs : float\n",
    "        Total Transaction Costs\n",
    "    \"\"\"\n",
    "    \n",
    "    return np.dot(Lambda, (h_star-h0)**2)"
   ]
  },
  {
   "cell_type": "code",
   "execution_count": 34,
   "metadata": {},
   "outputs": [
    {
     "data": {
      "text/plain": [
       "0.0012366475728485323"
      ]
     },
     "execution_count": 34,
     "metadata": {},
     "output_type": "execute_result"
    }
   ],
   "source": [
    "total_transaction_costs = get_total_transaction_costs(h0, h_star, Lambda)\n",
    "total_transaction_costs"
   ]
  },
  {
   "cell_type": "code",
   "execution_count": 35,
   "metadata": {},
   "outputs": [],
   "source": [
    "def get_risk_exposures(BT, h_star):\n",
    "    \"\"\"\n",
    "    Calculate portfolio's Risk Exposure\n",
    "\n",
    "    Parameters\n",
    "    ----------\n",
    "    B : patsy.design_info.DesignMatrix \n",
    "        Matrix of Risk Factors\n",
    "        \n",
    "    BT : patsy.design_info.DesignMatrix \n",
    "        Transpose of Matrix of Risk Factors\n",
    "        \n",
    "    h_star: Numpy ndarray \n",
    "        optimized holdings\n",
    "        \n",
    "    Returns\n",
    "    -------\n",
    "    risk_exposures : Pandas Series\n",
    "        Risk Exposures\n",
    "    \"\"\"\n",
    "    factor_names = BT.index\n",
    "    risk_exposures = np.dot(BT, h_star)\n",
    "    return pd.Series(index=factor_names, data=risk_exposures)\n",
    "\n"
   ]
  },
  {
   "cell_type": "code",
   "execution_count": 36,
   "metadata": {},
   "outputs": [
    {
     "data": {
      "text/plain": [
       "0   -63.345310\n",
       "1   -21.026938\n",
       "2   -20.913354\n",
       "3   -16.078836\n",
       "4   -57.092781\n",
       "dtype: float64"
      ]
     },
     "execution_count": 36,
     "metadata": {},
     "output_type": "execute_result"
    }
   ],
   "source": [
    "risk_exposures = get_risk_exposures(BT, h_star)\n",
    "risk_exposures[:5]"
   ]
  },
  {
   "cell_type": "code",
   "execution_count": 37,
   "metadata": {},
   "outputs": [],
   "source": [
    "def get_portfolio_alpha_exposure(B_alpha, h_star):\n",
    "    \"\"\"\n",
    "    Calculate portfolio's Alpha Exposure\n",
    "\n",
    "    Parameters\n",
    "    ----------\n",
    "    B_alpha : patsy.design_info.DesignMatrix \n",
    "        Matrix of Alpha Factors\n",
    "        \n",
    "    h_star: Numpy ndarray \n",
    "        optimized holdings\n",
    "        \n",
    "    Returns\n",
    "    -------\n",
    "    alpha_exposures : Pandas Series\n",
    "        Alpha Exposures\n",
    "    \"\"\"\n",
    "    if isinstance(B_alpha, pd.Series):\n",
    "        alpha_factor_names = [B_alpha.name]\n",
    "    elif isinstance(B_alpha, pd.DataFrame):\n",
    "        alpha_factor_names = B_alpha.columns\n",
    "    else:\n",
    "        alpha_factor_names = range(0,B_alpha.shape[1])\n",
    "    return pd.Series(np.matmul(B_alpha.transpose(), h_star), index=alpha_factor_names)\n",
    "    "
   ]
  },
  {
   "cell_type": "code",
   "execution_count": 38,
   "metadata": {},
   "outputs": [
    {
     "data": {
      "text/plain": [
       "ML_FACTOR_RZ    1.139439\n",
       "dtype: float64"
      ]
     },
     "execution_count": 38,
     "metadata": {},
     "output_type": "execute_result"
    }
   ],
   "source": [
    "portfolio_alpha_exposure = get_portfolio_alpha_exposure(current_alpha_vec, h_star)\n",
    "portfolio_alpha_exposure[:5]"
   ]
  },
  {
   "cell_type": "code",
   "execution_count": 39,
   "metadata": {},
   "outputs": [],
   "source": [
    "def form_optimal_portfolio(universe, previous_holdings, risk_aversion, Fvar, betas_exp, alphas_vec, spec_var, lambdas, dt_idx):\n",
    "    dt_idx_str = dt.datetime.strftime(dt_idx, STR_DATE_FMT)\n",
    "    \n",
    "    #universe = pd.Index(['AMZN', 'MSFT', 'AAPL', 'GOOG'])\n",
    "    #universe.name = 'asset'\n",
    "    universe_s = pd.DataFrame(index=universe, data= np.zeros(len(universe)), columns=['universe'])\n",
    "    h_prev = universe_s.join(previous_holdings, how='outer').fillna(0.0)['h.opt.previous']\n",
    "    \n",
    "    # Beta exposures\n",
    "    B = betas_exp[dt_idx_str].loc[universe]\n",
    "    BT = B.transpose()\n",
    "    # Factor covariance matrix\n",
    "    # Fvar as argument\n",
    "    # Specific variance\n",
    "    specVar = spec_var[dt_idx_str].loc[universe]\n",
    "    # Transaction costs\n",
    "    Lambda = lambdas[dt_idx_str].loc[universe]\n",
    "    # alpha factor\n",
    "    alpha_vec = alphas_vec[dt_idx_str].loc[universe]\n",
    "    Q = np.matmul(scipy.linalg.sqrtm(Fvar), BT)\n",
    "    QT = Q.transpose()\n",
    "    #print(universe.shape, BT.shape, Fvar.shape, specVar.shape, alpha_vec.shape, Lambda.shape)\n",
    "    #print(alpha_vec.isna().sum())\n",
    "    alpha_vec = alpha_vec.fillna(alpha_vec.median())\n",
    "    Lambda = Lambda.fillna(Lambda.median())\n",
    "    nans = alpha_vec.isna()\n",
    "    if any(nans):\n",
    "        print(dt_idx_str)\n",
    "        print(nans.sum())\n",
    "        print(alpha_vec[nans])\n",
    "    h_star = get_h_star(risk_aversion, Q, QT, specVar, alpha_vec, h_prev, Lambda)\n",
    "\n",
    "\n",
    "    opt_portfolio = pd.DataFrame(data = {\"asset\" : universe, \"h.opt\" : h_star}).set_index('asset')\n",
    "    \n",
    "    risk_exposures = get_risk_exposures(BT, h_star)\n",
    "    portfolio_alpha_exposure = get_portfolio_alpha_exposure(alpha_vec, h_star)\n",
    "    total_transaction_costs = get_total_transaction_costs(h_prev, h_star, Lambda)\n",
    "    \n",
    "    result = {\n",
    "        \"opt.portfolio\" : opt_portfolio, \n",
    "        \"risk.exposures\" : risk_exposures, \n",
    "        \"alpha.exposures\" : portfolio_alpha_exposure,\n",
    "        \"total.cost\" : total_transaction_costs}\n",
    "    return result"
   ]
  },
  {
   "cell_type": "code",
   "execution_count": 40,
   "metadata": {},
   "outputs": [],
   "source": [
    "def convert_to_previous(result): \n",
    "    prev = result['opt.portfolio']\n",
    "    prev = prev.rename(index=str, columns={\"h.opt\": \"h.opt.previous\"}, copy=True, inplace=False)\n",
    "    return prev"
   ]
  },
  {
   "cell_type": "code",
   "execution_count": 41,
   "metadata": {},
   "outputs": [],
   "source": [
    "def build_tradelist(prev_holdings, opt_result):\n",
    "    tmp = opt_result['opt.portfolio'].join(prev_holdings, how='outer')\n",
    "    tmp['h.opt.previous'] = np.nan_to_num(tmp['h.opt.previous'])\n",
    "    tmp['h.opt'] = np.nan_to_num(tmp['h.opt'])\n",
    "    return tmp"
   ]
  },
  {
   "cell_type": "code",
   "execution_count": 42,
   "metadata": {},
   "outputs": [
    {
     "name": "stderr",
     "output_type": "stream",
     "text": [
      "Optimizing Portfolio: 100%|██████████| 149/149 [00:09<00:00, 16.30day/s]\n"
     ]
    }
   ],
   "source": [
    "trades = {}\n",
    "port = {}\n",
    "\n",
    "bkt_dates = mkt_cap.loc[universe_start_date:universe_end_date].index\n",
    "previous_holdings = h0\n",
    "previous_holdings.name = 'h.opt.previous'\n",
    "\n",
    "for dt_idx in tqdm(bkt_dates, desc='Optimizing Portfolio', unit='day'):\n",
    "    dt_idx_str = dt.datetime.strftime(dt_idx, STR_DATE_FMT)\n",
    "    universe = get_universe(mkt_cap, min_mkt_cap, previous_holdings, dt_idx)\n",
    "    result = form_optimal_portfolio(universe, previous_holdings,  risk_aversion, Fvar, betas_exp, alphas_vec, spec_var, lambdas, dt_idx)\n",
    "    trades[dt_idx_str] = build_tradelist(previous_holdings, result)\n",
    "    port[dt_idx_str] = result\n",
    "    previous_holdings = convert_to_previous(result)"
   ]
  },
  {
   "cell_type": "code",
   "execution_count": 43,
   "metadata": {},
   "outputs": [],
   "source": [
    "# Fix NaNs"
   ]
  },
  {
   "cell_type": "code",
   "execution_count": 44,
   "metadata": {},
   "outputs": [
    {
     "data": {
      "text/plain": [
       "dict_keys(['total.cost', 'alpha.exposures', 'opt.portfolio', 'risk.exposures'])"
      ]
     },
     "execution_count": 44,
     "metadata": {},
     "output_type": "execute_result"
    }
   ],
   "source": [
    "result.keys()"
   ]
  },
  {
   "cell_type": "code",
   "execution_count": 45,
   "metadata": {},
   "outputs": [
    {
     "data": {
      "text/html": [
       "<div>\n",
       "<style scoped>\n",
       "    .dataframe tbody tr th:only-of-type {\n",
       "        vertical-align: middle;\n",
       "    }\n",
       "\n",
       "    .dataframe tbody tr th {\n",
       "        vertical-align: top;\n",
       "    }\n",
       "\n",
       "    .dataframe thead th {\n",
       "        text-align: right;\n",
       "    }\n",
       "</style>\n",
       "<table border=\"1\" class=\"dataframe\">\n",
       "  <thead>\n",
       "    <tr style=\"text-align: right;\">\n",
       "      <th></th>\n",
       "      <th>h.opt</th>\n",
       "    </tr>\n",
       "    <tr>\n",
       "      <th>asset</th>\n",
       "      <th></th>\n",
       "    </tr>\n",
       "  </thead>\n",
       "  <tbody>\n",
       "    <tr>\n",
       "      <th>ILMN</th>\n",
       "      <td>-947.857355</td>\n",
       "    </tr>\n",
       "    <tr>\n",
       "      <th>ADBE</th>\n",
       "      <td>742.969812</td>\n",
       "    </tr>\n",
       "    <tr>\n",
       "      <th>WYN</th>\n",
       "      <td>-3523.590848</td>\n",
       "    </tr>\n",
       "    <tr>\n",
       "      <th>DLR</th>\n",
       "      <td>-5432.293313</td>\n",
       "    </tr>\n",
       "    <tr>\n",
       "      <th>UNH</th>\n",
       "      <td>4131.344737</td>\n",
       "    </tr>\n",
       "  </tbody>\n",
       "</table>\n",
       "</div>"
      ],
      "text/plain": [
       "             h.opt\n",
       "asset             \n",
       "ILMN   -947.857355\n",
       "ADBE    742.969812\n",
       "WYN   -3523.590848\n",
       "DLR   -5432.293313\n",
       "UNH    4131.344737"
      ]
     },
     "execution_count": 45,
     "metadata": {},
     "output_type": "execute_result"
    }
   ],
   "source": [
    "port['20151028']['opt.portfolio'].sample(5)"
   ]
  },
  {
   "cell_type": "code",
   "execution_count": 46,
   "metadata": {},
   "outputs": [
    {
     "data": {
      "text/html": [
       "<div>\n",
       "<style scoped>\n",
       "    .dataframe tbody tr th:only-of-type {\n",
       "        vertical-align: middle;\n",
       "    }\n",
       "\n",
       "    .dataframe tbody tr th {\n",
       "        vertical-align: top;\n",
       "    }\n",
       "\n",
       "    .dataframe thead th {\n",
       "        text-align: right;\n",
       "    }\n",
       "</style>\n",
       "<table border=\"1\" class=\"dataframe\">\n",
       "  <thead>\n",
       "    <tr style=\"text-align: right;\">\n",
       "      <th></th>\n",
       "      <th>Mean_Reversion_Sector_Neutral_Smoothed</th>\n",
       "      <th>Overnight_Sentiment_Smoothed</th>\n",
       "      <th>ML_FACTOR</th>\n",
       "      <th>Momentum_1YR_Smoothed</th>\n",
       "    </tr>\n",
       "    <tr>\n",
       "      <th>date</th>\n",
       "      <th></th>\n",
       "      <th></th>\n",
       "      <th></th>\n",
       "      <th></th>\n",
       "    </tr>\n",
       "  </thead>\n",
       "  <tbody>\n",
       "    <tr>\n",
       "      <th>2015-05-28 00:00:00+00:00</th>\n",
       "      <td>0.000753</td>\n",
       "      <td>0.001902</td>\n",
       "      <td>0.005999</td>\n",
       "      <td>-0.001104</td>\n",
       "    </tr>\n",
       "    <tr>\n",
       "      <th>2015-05-29 00:00:00+00:00</th>\n",
       "      <td>-0.000807</td>\n",
       "      <td>0.000579</td>\n",
       "      <td>0.005643</td>\n",
       "      <td>-0.001996</td>\n",
       "    </tr>\n",
       "  </tbody>\n",
       "</table>\n",
       "</div>"
      ],
      "text/plain": [
       "                           Mean_Reversion_Sector_Neutral_Smoothed  \\\n",
       "date                                                                \n",
       "2015-05-28 00:00:00+00:00                                0.000753   \n",
       "2015-05-29 00:00:00+00:00                               -0.000807   \n",
       "\n",
       "                           Overnight_Sentiment_Smoothed  ML_FACTOR  \\\n",
       "date                                                                 \n",
       "2015-05-28 00:00:00+00:00                      0.001902   0.005999   \n",
       "2015-05-29 00:00:00+00:00                      0.000579   0.005643   \n",
       "\n",
       "                           Momentum_1YR_Smoothed  \n",
       "date                                              \n",
       "2015-05-28 00:00:00+00:00              -0.001104  \n",
       "2015-05-29 00:00:00+00:00              -0.001996  "
      ]
     },
     "execution_count": 46,
     "metadata": {},
     "output_type": "execute_result"
    }
   ],
   "source": [
    "alpha_facret = pd.read_csv(INPATH_ALPHA + INFILE3, parse_dates=['date'])\n",
    "alpha_facret['date'] = alpha_facret['date'].dt.tz_localize('utc')\n",
    "alpha_facret.set_index('date', inplace=True)\n",
    "alpha_facret[:2]"
   ]
  },
  {
   "cell_type": "code",
   "execution_count": 47,
   "metadata": {},
   "outputs": [
    {
     "data": {
      "text/plain": [
       "A      -0.003908\n",
       "AAL    -0.012905\n",
       "AAP     0.005226\n",
       "AAPL    0.041206\n",
       "ABBV    0.012933\n",
       "Name: 2015-10-28 00:00:00+00:00, dtype: float64"
      ]
     },
     "execution_count": 47,
     "metadata": {},
     "output_type": "execute_result"
    }
   ],
   "source": [
    "daily_returns.loc['2015-10-28'].head()"
   ]
  },
  {
   "cell_type": "code",
   "execution_count": 48,
   "metadata": {},
   "outputs": [
    {
     "data": {
      "text/html": [
       "<div>\n",
       "<style scoped>\n",
       "    .dataframe tbody tr th:only-of-type {\n",
       "        vertical-align: middle;\n",
       "    }\n",
       "\n",
       "    .dataframe tbody tr th {\n",
       "        vertical-align: top;\n",
       "    }\n",
       "\n",
       "    .dataframe thead th {\n",
       "        text-align: right;\n",
       "    }\n",
       "</style>\n",
       "<table border=\"1\" class=\"dataframe\">\n",
       "  <thead>\n",
       "    <tr style=\"text-align: right;\">\n",
       "      <th></th>\n",
       "      <th>h.opt</th>\n",
       "    </tr>\n",
       "    <tr>\n",
       "      <th>asset</th>\n",
       "      <th></th>\n",
       "    </tr>\n",
       "  </thead>\n",
       "  <tbody>\n",
       "    <tr>\n",
       "      <th>A</th>\n",
       "      <td>4686.432751</td>\n",
       "    </tr>\n",
       "    <tr>\n",
       "      <th>AAL</th>\n",
       "      <td>-3315.385159</td>\n",
       "    </tr>\n",
       "    <tr>\n",
       "      <th>AAP</th>\n",
       "      <td>1036.072153</td>\n",
       "    </tr>\n",
       "    <tr>\n",
       "      <th>AAPL</th>\n",
       "      <td>-1098.692753</td>\n",
       "    </tr>\n",
       "    <tr>\n",
       "      <th>ABBV</th>\n",
       "      <td>3027.199075</td>\n",
       "    </tr>\n",
       "  </tbody>\n",
       "</table>\n",
       "</div>"
      ],
      "text/plain": [
       "             h.opt\n",
       "asset             \n",
       "A      4686.432751\n",
       "AAL   -3315.385159\n",
       "AAP    1036.072153\n",
       "AAPL  -1098.692753\n",
       "ABBV   3027.199075"
      ]
     },
     "execution_count": 48,
     "metadata": {},
     "output_type": "execute_result"
    }
   ],
   "source": [
    "port['20151028']['opt.portfolio'].head()"
   ]
  },
  {
   "cell_type": "code",
   "execution_count": 49,
   "metadata": {},
   "outputs": [],
   "source": [
    "## assumes v, w are pandas Series \n",
    "def partial_dot_product(v, w):\n",
    "    common = v.index.intersection(w.index)\n",
    "    return np.sum(v[common] * w[common])\n",
    "\n",
    "def build_pnl_attribution(): \n",
    "    wins_ret = 0.5\n",
    "    df = pd.DataFrame(index = bkt_dates)\n",
    "    # Static factor returns\n",
    "    risk_fr = risk_model['factor_returns']\n",
    "    #alpha_fr = alpha_facret\n",
    "        \n",
    "    for dt_idx in bkt_dates:\n",
    "        dt_idx_str = dt.datetime.strftime(dt_idx, STR_DATE_FMT)\n",
    "        p = port[dt_idx_str]\n",
    "        wins_returns = np.clip(daily_returns.loc[dt_idx],-wins_ret,wins_ret).to_frame('DlyReturn')\n",
    "        mf = p['opt.portfolio'].join(wins_returns, how = 'left')\n",
    "        df.at[dt_idx,\"daily.pnl\"] = partial_dot_product(mf['h.opt'], mf['DlyReturn'] )\n",
    "        \n",
    "        #df.at[dt_idx,\"attribution.alpha.pnl\"] = partial_dot_product(alpha_fr, p['alpha.exposures'])\n",
    "        #df.at[dt_idx,\"attribution.risk.pnl\"] = partial_dot_product(risk_fr, p['risk.exposures'])\n",
    "        df.at[dt_idx,\"attribution.cost\"] = p['total.cost']\n",
    "        \n",
    "    return df"
   ]
  },
  {
   "cell_type": "code",
   "execution_count": 50,
   "metadata": {},
   "outputs": [
    {
     "data": {
      "image/png": "[encoded data removed]",
      "text/plain": [
       "<Figure size 432x288 with 1 Axes>"
      ]
     },
     "metadata": {
      "needs_background": "light"
     },
     "output_type": "display_data"
    }
   ],
   "source": [
    "attr = build_pnl_attribution()\n",
    "\n",
    "for column in attr.columns:\n",
    "        plt.plot(attr[column].cumsum(), label=column)\n",
    "plt.legend(loc='upper left')\n",
    "plt.xlabel('Date')\n",
    "plt.ylabel('PnL Attribution')\n",
    "plt.show()"
   ]
  },
  {
   "cell_type": "code",
   "execution_count": null,
   "metadata": {},
   "outputs": [],
   "source": []
  }
 ],
 "metadata": {
  "kernelspec": {
   "display_name": "Python 3",
   "language": "python",
   "name": "python3"
  },
  "language_info": {
   "codemirror_mode": {
    "name": "ipython",
    "version": 3
   },
   "file_extension": ".py",
   "mimetype": "text/x-python",
   "name": "python",
   "nbconvert_exporter": "python",
   "pygments_lexer": "ipython3",
   "version": "3.5.6"
  },
  "toc-autonumbering": true,
  "varInspector": {
   "cols": {
    "lenName": 16,
    "lenType": 16,
    "lenVar": 40
   },
   "kernels_config": {
    "python": {
     "delete_cmd_postfix": "",
     "delete_cmd_prefix": "del ",
     "library": "var_list.py",
     "varRefreshCmd": "print(var_dic_list())"
    },
    "r": {
     "delete_cmd_postfix": ") ",
     "delete_cmd_prefix": "rm(",
     "library": "var_list.r",
     "varRefreshCmd": "cat(var_dic_list()) "
    }
   },
   "types_to_exclude": [
    "module",
    "function",
    "builtin_function_or_method",
    "instance",
    "_Feature"
   ],
   "window_display": false
  }
 },
 "nbformat": 4,
 "nbformat_minor": 4
}
