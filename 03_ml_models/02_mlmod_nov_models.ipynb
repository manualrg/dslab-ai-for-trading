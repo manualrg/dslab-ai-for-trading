{
 "cells": [
  {
   "cell_type": "markdown",
   "metadata": {},
   "source": [
    "<font size=\"6\"> **Model Building** </font>"
   ]
  },
  {
   "cell_type": "code",
   "execution_count": 1,
   "metadata": {},
   "outputs": [],
   "source": [
    "%%capture\n",
    "%run 00_mlmod_load_data.ipynb"
   ]
  },
  {
   "cell_type": "code",
   "execution_count": 2,
   "metadata": {},
   "outputs": [],
   "source": [
    "RND_SEED = 123\n",
    "KFOLDS = 3\n",
    "pd.set_option('precision', 4)\n"
   ]
  },
  {
   "cell_type": "code",
   "execution_count": 25,
   "metadata": {},
   "outputs": [],
   "source": [
    "from sklearn.model_selection import GridSearchCV, ParameterGrid\n",
    "from sklearn.linear_model import LinearRegression, Ridge\n",
    "from sklearn.metrics import make_scorer\n",
    "from sklearn.ensemble import RandomForestRegressor, StackingRegressor"
   ]
  },
  {
   "cell_type": "markdown",
   "metadata": {},
   "source": [
    "# Ridge Model"
   ]
  },
  {
   "cell_type": "code",
   "execution_count": 4,
   "metadata": {},
   "outputs": [],
   "source": [
    "hparams_ridge = {'alpha': 0.1}"
   ]
  },
  {
   "cell_type": "code",
   "execution_count": 5,
   "metadata": {},
   "outputs": [],
   "source": [
    "ridge = Ridge(fit_intercept=False, random_state=RND_SEED, **hparams_ridge)"
   ]
  },
  {
   "cell_type": "code",
   "execution_count": 6,
   "metadata": {},
   "outputs": [
    {
     "data": {
      "text/plain": [
       "NoOverlapVoterRegressor(base_estimator=Ridge(alpha=0.1, copy_X=True,\n",
       "                                             fit_intercept=False, max_iter=None,\n",
       "                                             normalize=False, random_state=123,\n",
       "                                             solver='auto', tol=0.001),\n",
       "                        n_skip_samples=4)"
      ]
     },
     "execution_count": 6,
     "metadata": {},
     "output_type": "execute_result"
    }
   ],
   "source": [
    "ridge_nov = mle_utils.NoOverlapVoterRegressor(base_estimator=ridge, n_skip_samples=4)\n",
    "ridge_nov.fit(X_train_full, y_train_full)"
   ]
  },
  {
   "cell_type": "code",
   "execution_count": 17,
   "metadata": {},
   "outputs": [
    {
     "data": {
      "text/plain": [
       "<matplotlib.axes._subplots.AxesSubplot at 0x23ec1967160>"
      ]
     },
     "execution_count": 17,
     "metadata": {},
     "output_type": "execute_result"
    },
    {
     "data": {
      "image/png": "[encoded data removed]",
      "text/plain": [
       "<Figure size 432x288 with 1 Axes>"
      ]
     },
     "metadata": {
      "needs_background": "light"
     },
     "output_type": "display_data"
    }
   ],
   "source": [
    "p_train_ridge_nov = pd.Series(index=y_train_full.index, data=ridge_nov.predict(X_train_full))\n",
    "p_test_ridge_nov = pd.Series(index=y_test_full.index, data=ridge_nov.predict(X_test_full))\n",
    "p_test_ridge_nov.hist()"
   ]
  },
  {
   "cell_type": "code",
   "execution_count": 8,
   "metadata": {},
   "outputs": [
    {
     "data": {
      "text/plain": [
       "train_pmean           0.0040\n",
       "train_score           0.0008\n",
       "valid_pmean           0.0108\n",
       "valid_score           0.0016\n",
       "train_acc_target<0    0.3154\n",
       "train_acc_target>0    0.7695\n",
       "train_acc             0.5708\n",
       "valid_acc             0.5125\n",
       "valid_acc_target<0    0.1538\n",
       "valid_acc_target>0    0.8644\n",
       "dtype: float64"
      ]
     },
     "execution_count": 8,
     "metadata": {},
     "output_type": "execute_result"
    }
   ],
   "source": [
    "ridge_nov_sum_df = mle_utils.predict_and_score(ridge_nov,\n",
    "                                        X_train_full, y_train_full,\n",
    "                                        X_test_full, y_test_full, kind='reg')\n",
    "ridge_nov_sum_df"
   ]
  },
  {
   "cell_type": "markdown",
   "metadata": {},
   "source": [
    "# Random Forest Model"
   ]
  },
  {
   "cell_type": "code",
   "execution_count": 9,
   "metadata": {},
   "outputs": [],
   "source": [
    "hparams_rf = {'max_samples': 0.75,\n",
    "            'max_features': 0.75,\n",
    "            'min_samples_leaf': 500}"
   ]
  },
  {
   "cell_type": "code",
   "execution_count": 10,
   "metadata": {},
   "outputs": [],
   "source": [
    "rf = RandomForestRegressor(n_estimators=200, criterion='mse',\n",
    "                            bootstrap=True,oob_score=True,\n",
    "                            n_jobs=-1, random_state=RND_SEED, **hparams_rf)"
   ]
  },
  {
   "cell_type": "code",
   "execution_count": 11,
   "metadata": {},
   "outputs": [
    {
     "data": {
      "text/plain": [
       "NoOverlapVoterRegressor(base_estimator=RandomForestRegressor(bootstrap=True,\n",
       "                                                             ccp_alpha=0.0,\n",
       "                                                             criterion='mse',\n",
       "                                                             max_depth=None,\n",
       "                                                             max_features=0.75,\n",
       "                                                             max_leaf_nodes=None,\n",
       "                                                             max_samples=0.75,\n",
       "                                                             min_impurity_decrease=0.0,\n",
       "                                                             min_impurity_split=None,\n",
       "                                                             min_samples_leaf=500,\n",
       "                                                             min_samples_split=2,\n",
       "                                                             min_weight_fraction_leaf=0.0,\n",
       "                                                             n_estimators=200,\n",
       "                                                             n_jobs=-1,\n",
       "                                                             oob_score=True,\n",
       "                                                             random_state=123,\n",
       "                                                             verbose=0,\n",
       "                                                             warm_start=False),\n",
       "                        n_skip_samples=4)"
      ]
     },
     "execution_count": 11,
     "metadata": {},
     "output_type": "execute_result"
    }
   ],
   "source": [
    "rf_nov = mle_utils.NoOverlapVoterRegressor(base_estimator=rf, n_skip_samples=4)\n",
    "rf_nov.fit(X_train_full, y_train_full)"
   ]
  },
  {
   "cell_type": "code",
   "execution_count": 14,
   "metadata": {},
   "outputs": [
    {
     "data": {
      "text/plain": [
       "<matplotlib.axes._subplots.AxesSubplot at 0x23ec21d47b8>"
      ]
     },
     "execution_count": 14,
     "metadata": {},
     "output_type": "execute_result"
    },
    {
     "data": {
      "image/png": "[encoded data removed]",
      "text/plain": [
       "<Figure size 432x288 with 1 Axes>"
      ]
     },
     "metadata": {
      "needs_background": "light"
     },
     "output_type": "display_data"
    }
   ],
   "source": [
    "p_train_rf_nov = pd.Series(index=y_train_full.index, data=rf_nov.predict(X_train_full))\n",
    "p_test_rf_nov = pd.Series(index=y_test_full.index, data=rf_nov.predict(X_test_full))\n",
    "p_test_rf_nov.hist()"
   ]
  },
  {
   "cell_type": "code",
   "execution_count": 13,
   "metadata": {},
   "outputs": [
    {
     "data": {
      "text/plain": [
       "train_pmean           0.0034\n",
       "train_score           0.0007\n",
       "valid_pmean           0.0070\n",
       "valid_score           0.0014\n",
       "oob_score             0.2250\n",
       "train_acc_target<0    0.4971\n",
       "train_acc_target>0    0.7908\n",
       "train_acc             0.6623\n",
       "valid_acc             0.5165\n",
       "valid_acc_target<0    0.0741\n",
       "valid_acc_target>0    0.9504\n",
       "dtype: float64"
      ]
     },
     "execution_count": 13,
     "metadata": {},
     "output_type": "execute_result"
    }
   ],
   "source": [
    "rf_nov_sum_df = mle_utils.predict_and_score(rf_nov,\n",
    "                                        X_train_full, y_train_full,\n",
    "                                        X_test_full, y_test_full, kind='reg')\n",
    "rf_nov_sum_df"
   ]
  },
  {
   "cell_type": "markdown",
   "metadata": {},
   "source": [
    "# Final Assessment"
   ]
  },
  {
   "cell_type": "code",
   "execution_count": 19,
   "metadata": {},
   "outputs": [
    {
     "data": {
      "text/html": [
       "<div>\n",
       "<style scoped>\n",
       "    .dataframe tbody tr th:only-of-type {\n",
       "        vertical-align: middle;\n",
       "    }\n",
       "\n",
       "    .dataframe tbody tr th {\n",
       "        vertical-align: top;\n",
       "    }\n",
       "\n",
       "    .dataframe thead th {\n",
       "        text-align: right;\n",
       "    }\n",
       "</style>\n",
       "<table border=\"1\" class=\"dataframe\">\n",
       "  <thead>\n",
       "    <tr style=\"text-align: right;\">\n",
       "      <th></th>\n",
       "      <th>rf_nov</th>\n",
       "      <th>ridge_nov</th>\n",
       "    </tr>\n",
       "  </thead>\n",
       "  <tbody>\n",
       "    <tr>\n",
       "      <th>rf_nov</th>\n",
       "      <td>1.0000</td>\n",
       "      <td>0.5817</td>\n",
       "    </tr>\n",
       "    <tr>\n",
       "      <th>ridge_nov</th>\n",
       "      <td>0.5817</td>\n",
       "      <td>1.0000</td>\n",
       "    </tr>\n",
       "  </tbody>\n",
       "</table>\n",
       "</div>"
      ],
      "text/plain": [
       "           rf_nov  ridge_nov\n",
       "rf_nov     1.0000     0.5817\n",
       "ridge_nov  0.5817     1.0000"
      ]
     },
     "execution_count": 19,
     "metadata": {},
     "output_type": "execute_result"
    }
   ],
   "source": [
    "p_train = p_train_rf_nov.to_frame('rf_nov')\n",
    "p_train['ridge_nov'] = p_train_ridge_nov\n",
    "p_train.corr()"
   ]
  },
  {
   "cell_type": "code",
   "execution_count": 29,
   "metadata": {},
   "outputs": [
    {
     "data": {
      "text/html": [
       "<div>\n",
       "<style scoped>\n",
       "    .dataframe tbody tr th:only-of-type {\n",
       "        vertical-align: middle;\n",
       "    }\n",
       "\n",
       "    .dataframe tbody tr th {\n",
       "        vertical-align: top;\n",
       "    }\n",
       "\n",
       "    .dataframe thead th {\n",
       "        text-align: right;\n",
       "    }\n",
       "</style>\n",
       "<table border=\"1\" class=\"dataframe\">\n",
       "  <thead>\n",
       "    <tr style=\"text-align: right;\">\n",
       "      <th></th>\n",
       "      <th>rf_nov</th>\n",
       "      <th>ridge_nov</th>\n",
       "    </tr>\n",
       "  </thead>\n",
       "  <tbody>\n",
       "    <tr>\n",
       "      <th>rf_nov</th>\n",
       "      <td>1.0000</td>\n",
       "      <td>0.7639</td>\n",
       "    </tr>\n",
       "    <tr>\n",
       "      <th>ridge_nov</th>\n",
       "      <td>0.7639</td>\n",
       "      <td>1.0000</td>\n",
       "    </tr>\n",
       "  </tbody>\n",
       "</table>\n",
       "</div>"
      ],
      "text/plain": [
       "           rf_nov  ridge_nov\n",
       "rf_nov     1.0000     0.7639\n",
       "ridge_nov  0.7639     1.0000"
      ]
     },
     "execution_count": 29,
     "metadata": {},
     "output_type": "execute_result"
    }
   ],
   "source": [
    "p_test = p_test_rf_nov.to_frame('rf_nov')\n",
    "p_test['ridge_nov'] = p_test_ridge_nov\n",
    "p_test.corr()"
   ]
  },
  {
   "cell_type": "code",
   "execution_count": null,
   "metadata": {},
   "outputs": [],
   "source": []
  }
 ],
 "metadata": {
  "kernelspec": {
   "display_name": "Python 3",
   "language": "python",
   "name": "python3"
  },
  "language_info": {
   "codemirror_mode": {
    "name": "ipython",
    "version": 3
   },
   "file_extension": ".py",
   "mimetype": "text/x-python",
   "name": "python",
   "nbconvert_exporter": "python",
   "pygments_lexer": "ipython3",
   "version": "3.6.10"
  },
  "toc-autonumbering": true
 },
 "nbformat": 4,
 "nbformat_minor": 4
}
