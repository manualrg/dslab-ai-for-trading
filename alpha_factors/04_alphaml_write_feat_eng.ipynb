{
 "cells": [
  {
   "cell_type": "markdown",
   "metadata": {},
   "source": [
    "<font size=\"6\"> **Feature Engineering and Targets** </font>"
   ]
  },
  {
   "cell_type": "code",
   "execution_count": 1,
   "metadata": {},
   "outputs": [],
   "source": [
    "%%capture\n",
    "%run 04_alphaml_feat_eng.ipynb"
   ]
  },
  {
   "cell_type": "code",
   "execution_count": 2,
   "metadata": {},
   "outputs": [],
   "source": [
    "from mle_quant_utils import mle_utils"
   ]
  },
  {
   "cell_type": "code",
   "execution_count": 3,
   "metadata": {},
   "outputs": [],
   "source": [
    "OUTPATH =  \"../data/\" + cfg['output']['main'] + \"/\" + cfg['output']['raw']['folder'] + \"/\"\n",
    "OUTFILE1 = cfg['output']['alpha_factors_ml']['features']\n",
    "OUTFILE2 = cfg['output']['alpha_factors_ml']['targets']"
   ]
  },
  {
   "cell_type": "code",
   "execution_count": 4,
   "metadata": {},
   "outputs": [],
   "source": [
    "splits = cfg['models']['alpha_ml']['splits']\n",
    "split_col = cfg['models']['alpha_ml']['split_col']"
   ]
  },
  {
   "cell_type": "code",
   "execution_count": 5,
   "metadata": {},
   "outputs": [],
   "source": [
    "TAU = cfg['models']['alpha_ml']['tau']\n",
    "target_col = cfg['models']['alpha_ml']['target_col']"
   ]
  },
  {
   "cell_type": "code",
   "execution_count": 6,
   "metadata": {},
   "outputs": [],
   "source": [
    "X_train, X_valid, X_test, y_train, y_valid, y_test = mle_utils.train_valid_test_split(all_factors, targets_df[target_col],\n",
    "                                                                                      splits['train'], splits['valid'], splits['test'])"
   ]
  },
  {
   "cell_type": "code",
   "execution_count": 7,
   "metadata": {},
   "outputs": [
    {
     "data": {
      "text/plain": [
       "train    0.599157\n",
       "test     0.201185\n",
       "valid    0.199657\n",
       "Name: split, dtype: float64"
      ]
     },
     "execution_count": 7,
     "metadata": {},
     "output_type": "execute_result"
    }
   ],
   "source": [
    "all_factors[split_col] = 'train'\n",
    "all_factors.loc[X_valid.index, split_col] = 'valid'\n",
    "all_factors.loc[X_test.index, split_col] = 'test'\n",
    "all_factors[split_col].value_counts(normalize=True)"
   ]
  },
  {
   "cell_type": "code",
   "execution_count": 8,
   "metadata": {},
   "outputs": [],
   "source": [
    "all_factors_cast = quant_helper.cast_zipline_multidx_to_symbol(all_factors[features + [split_col]])\n",
    "all_factors_cast.to_csv(OUTPATH + OUTFILE1)"
   ]
  },
  {
   "cell_type": "code",
   "execution_count": 9,
   "metadata": {},
   "outputs": [],
   "source": [
    "targets_df_cast = quant_helper.cast_zipline_multidx_to_symbol(targets_df[['return_5d_raw', target_col]])\n",
    "targets_df_cast.to_csv(OUTPATH + OUTFILE2)"
   ]
  }
 ],
 "metadata": {
  "kernelspec": {
   "display_name": "Python 3",
   "language": "python",
   "name": "python3"
  },
  "language_info": {
   "codemirror_mode": {
    "name": "ipython",
    "version": 3
   },
   "file_extension": ".py",
   "mimetype": "text/x-python",
   "name": "python",
   "nbconvert_exporter": "python",
   "pygments_lexer": "ipython3",
   "version": "3.5.6"
  }
 },
 "nbformat": 4,
 "nbformat_minor": 4
}
