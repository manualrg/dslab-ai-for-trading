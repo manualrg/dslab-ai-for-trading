{
 "cells": [
  {
   "cell_type": "markdown",
   "metadata": {},
   "source": [
    "# Feature Engineering and Targets\n",
    "\n",
    "* Alpha Factors\n",
    "* Universal Quant Features\n",
    "* Time-based features\n",
    "* Sector"
   ]
  },
  {
   "cell_type": "code",
   "execution_count": 1,
   "metadata": {},
   "outputs": [
    {
     "data": {
      "text/plain": [
       "True"
      ]
     },
     "execution_count": 1,
     "metadata": {},
     "output_type": "execute_result"
    }
   ],
   "source": [
    "import yaml\n",
    "import os\n",
    "\n",
    "# Retrieve parameters from configuration file\n",
    "with open(\"../conf.yml\", \"r\") as ymlfile:\n",
    "    cfg = yaml.load(ymlfile)\n",
    "\n",
    "BUNDLE_FOLDER = cfg['quantopian']['dataset3']['bundle_folder']\n",
    "BUNDLE_NAME = cfg['quantopian']['dataset3']['bundle_name']\n",
    "SECTOR_FOLDER = cfg['quantopian']['dataset3']['sector_folder']\n",
    "SECTOR_DATA = cfg['quantopian']['dataset3']['sector_data']\n",
    "SECTOR_NAMES = cfg['quantopian']['dataset3']['sector_names']\n",
    "\n",
    "# Specify the bundle path\n",
    "bundle_path = os.path.join(os.getcwd(), '..', 'data', BUNDLE_FOLDER)\n",
    "sector_path = os.path.join(os.getcwd(), '..', 'data', SECTOR_FOLDER, SECTOR_DATA)\n",
    "sector_file = os.path.join(os.getcwd(), '..', 'data', SECTOR_FOLDER, SECTOR_NAMES)\n",
    "os.path.isdir(bundle_path)"
   ]
  },
  {
   "cell_type": "code",
   "execution_count": 2,
   "metadata": {},
   "outputs": [],
   "source": [
    "import numpy as np\n",
    "import pandas as pd\n",
    "import matplotlib.pyplot as plt\n",
    "\n",
    "import quant_helper, quant_factors"
   ]
  },
  {
   "cell_type": "code",
   "execution_count": 3,
   "metadata": {},
   "outputs": [],
   "source": [
    "from zipline.data import bundles\n",
    "from zipline.utils.calendars import get_calendar\n",
    "from zipline.pipeline.factors import AverageDollarVolume, Returns, SimpleMovingAverage, AnnualizedVolatility, DailyReturns, CustomFactor, RSI, MACDSignal\n",
    "from zipline.pipeline import Pipeline\n",
    "from zipline.data.data_portal import DataPortal\n",
    "from zipline.pipeline.data import USEquityPricing"
   ]
  },
  {
   "cell_type": "code",
   "execution_count": 4,
   "metadata": {},
   "outputs": [],
   "source": [
    "import alphalens as al"
   ]
  },
  {
   "cell_type": "code",
   "execution_count": 5,
   "metadata": {},
   "outputs": [],
   "source": [
    "%matplotlib inline\n",
    "plt.style.use('ggplot')\n",
    "plt.rcParams['figure.figsize'] = (14, 8)"
   ]
  },
  {
   "cell_type": "code",
   "execution_count": 6,
   "metadata": {},
   "outputs": [
    {
     "name": "stdout",
     "output_type": "stream",
     "text": [
      "Data Registered\n"
     ]
    }
   ],
   "source": [
    "# Data Bundle\n",
    "os.environ['ZIPLINE_ROOT'] = bundle_path\n",
    "ingest_func = bundles.csvdir.csvdir_equities(['daily'], BUNDLE_NAME)\n",
    "bundles.register(BUNDLE_NAME, ingest_func)\n",
    "print('Data Registered')"
   ]
  },
  {
   "cell_type": "code",
   "execution_count": 7,
   "metadata": {},
   "outputs": [],
   "source": [
    "sector = quant_helper.get_sectors(sector_path)"
   ]
  },
  {
   "cell_type": "code",
   "execution_count": 8,
   "metadata": {},
   "outputs": [],
   "source": [
    "universe = AverageDollarVolume(window_length=120).top(500) \n",
    "trading_calendar = get_calendar('NYSE') \n",
    "bundle_data = bundles.load(BUNDLE_NAME)\n",
    "engine =  quant_helper.build_pipeline_engine(bundle_data, trading_calendar)"
   ]
  },
  {
   "cell_type": "code",
   "execution_count": 9,
   "metadata": {},
   "outputs": [],
   "source": [
    "universe_end_date = pd.Timestamp('2016-01-05', tz='UTC')\n",
    "factor_start_date = universe_end_date - pd.DateOffset(years=3, days=2)"
   ]
  },
  {
   "cell_type": "code",
   "execution_count": 87,
   "metadata": {},
   "outputs": [],
   "source": [
    "pipeline = Pipeline(screen=universe)"
   ]
  },
  {
   "cell_type": "markdown",
   "metadata": {},
   "source": [
    "## Alpha Factors\n",
    "* 1 year momentum\n",
    "* 5 day momentum\n",
    "* overnight returns"
   ]
  },
  {
   "cell_type": "code",
   "execution_count": 88,
   "metadata": {},
   "outputs": [],
   "source": [
    "# 1yr returns\n",
    "def momentum(window_length, universe, sector):\n",
    "    \"\"\"\n",
    "    Higher past 12-month (252 days) returns are proportional to future return\n",
    "    \n",
    "    Parameters\n",
    "    ----------\n",
    "    window_length : int\n",
    "        Returns window length\n",
    "    universe : Zipline Filter\n",
    "        Universe of stocks filter\n",
    "    sector : Zipline Classifier\n",
    "        Sector classifier\n",
    "\n",
    "    Returns\n",
    "    -------\n",
    "    factor : Zipline Factor\n",
    "        Mean reversion 5 day sector neutral factor\n",
    "    \"\"\"\n",
    "    return Returns(window_length=window_length, mask=universe) \\\n",
    "        .demean(groupby=sector) \\\n",
    "        .rank() \\\n",
    "        .zscore()\n",
    "\n",
    "def momentum_smoothed(window_length, smooth_window_length, universe, sector):\n",
    "    \"\"\"\n",
    "    Smoothed version of momentum. window_lenghth is used in returns and smoothing computations\n",
    "     Parameters\n",
    "    ----------\n",
    "    smooth_window_length : int\n",
    "        smoothing factor to applie to SimpleMovingAverage\n",
    "    \"\"\"\n",
    "    unsmoothed_factor = mean_reversion_sector_neutral(window_length, universe, sector)\n",
    "    return SimpleMovingAverage(inputs=[unsmoothed_factor], window_length=smooth_window_length) \\\n",
    "        .rank() \\\n",
    "        .zscore()"
   ]
  },
  {
   "cell_type": "code",
   "execution_count": 89,
   "metadata": {},
   "outputs": [],
   "source": [
    "# 5d returns\n",
    "def mean_reversion_sector_neutral(window_length, universe, sector):\n",
    "    \"\"\"\n",
    "    Short-term outperformers(underperformers) compared to their sector will revert.\n",
    "    Generate the mean reversion 5 day sector neutral factor\n",
    "\n",
    "    Parameters\n",
    "    ----------\n",
    "    window_length : int\n",
    "        Returns window length\n",
    "    universe : Zipline Filter\n",
    "        Universe of stocks filter\n",
    "    sector : Zipline Classifier\n",
    "        Sector classifier\n",
    "\n",
    "    Returns\n",
    "    -------\n",
    "    factor : Zipline Factor\n",
    "        Mean reversion 5 day sector neutral factor\n",
    "    \"\"\"\n",
    "    return -Returns(window_length=window_length, mask=universe) \\\n",
    "        .demean(groupby=sector) \\\n",
    "        .rank(method='ordinal', ascending=True) \\\n",
    "        .zscore()\n",
    "\n",
    "\n",
    "def mean_reversion_sector_neutral_smoothed(window_length, universe, sector):\n",
    "    \"\"\"\n",
    "    Smoothed version of mean_reversion_5day_sector_neutral. window_lenghth is used in returns and smoothing computations\n",
    "    \"\"\"\n",
    "    unsmoothed_factor = mean_reversion_sector_neutral(window_length, universe, sector)\n",
    "    return SimpleMovingAverage(inputs=[unsmoothed_factor], window_length=window_length) \\\n",
    "        .rank() \\\n",
    "        .zscore()\n"
   ]
  },
  {
   "cell_type": "code",
   "execution_count": 90,
   "metadata": {},
   "outputs": [],
   "source": [
    "# Overnight returns\n",
    "class CTO(Returns):\n",
    "    \"\"\"\n",
    "    Computes the overnight return, per hypothesis from\n",
    "    https://papers.ssrn.com/sol3/papers.cfm?abstract_id=2554010\n",
    "    \"\"\"\n",
    "    inputs = [USEquityPricing.open, USEquityPricing.close]\n",
    "    \n",
    "    def compute(self, today, assets, out, opens, closes):\n",
    "        \"\"\"\n",
    "        The opens and closes matrix is 2 rows x N assets, with the most recent at the bottom.\n",
    "        As such, opens[-1] is the most recent open, and closes[0] is the earlier close\n",
    "        \"\"\"\n",
    "        out[:] = (opens[-1] - closes[0]) / closes[0]\n",
    "\n",
    "class TrailingOvernightReturns(Returns):\n",
    "    \"\"\"\n",
    "    Sum of trailing 1m O/N returns\n",
    "    \"\"\"\n",
    "    window_safe = True\n",
    "    \n",
    "    def compute(self, today, asset_ids, out, cto):\n",
    "        out[:] = np.nansum(cto, axis=0)\n",
    "        \n",
    "def overnight_sentiment(cto_window_length, trail_overnight_returns_window_length, universe):\n",
    "    cto_out = CTO(mask=universe, window_length=cto_window_length)\n",
    "    return TrailingOvernightReturns(inputs=[cto_out], window_length=trail_overnight_returns_window_length) \\\n",
    "        .rank() \\\n",
    "        .zscore()\n",
    "\n",
    "def overnight_sentiment_smoothed(cto_window_length, trail_overnight_returns_window_length, universe):\n",
    "    unsmoothed_factor = overnight_sentiment(cto_window_length, trail_overnight_returns_window_length, universe)\n",
    "    return SimpleMovingAverage(inputs=[unsmoothed_factor], window_length=trail_overnight_returns_window_length) \\\n",
    "        .rank() \\\n",
    "        .zscore()\n"
   ]
  },
  {
   "cell_type": "code",
   "execution_count": 91,
   "metadata": {},
   "outputs": [],
   "source": [
    "pipeline.add(\n",
    "    momentum_1yr(252, universe, sector),\n",
    "    'Momentum_1YR')\n",
    "\n",
    "pipeline.add(\n",
    "    momentum_smoothed(252, 5, universe, sector),\n",
    "    'Momentum_1YR_Smoothed')"
   ]
  },
  {
   "cell_type": "code",
   "execution_count": 92,
   "metadata": {},
   "outputs": [],
   "source": [
    "pipeline.add(\n",
    "    mean_reversion_sector_neutral(5, universe, sector),\n",
    "    'Mean_Reversion_Sector_Neutral')\n",
    "\n",
    "pipeline.add(\n",
    "    mean_reversion_sector_neutral_smoothed(5, universe, sector),\n",
    "    'Mean_Reversion_Sector_Neutral_Smoothed')"
   ]
  },
  {
   "cell_type": "code",
   "execution_count": 93,
   "metadata": {},
   "outputs": [],
   "source": [
    "pipeline.add(\n",
    "    overnight_sentiment(2, 5, universe),\n",
    "    'Overnight_Sentiment')\n",
    "pipeline.add(\n",
    "    overnight_sentiment_smoothed(2, 5, universe),\n",
    "    'Overnight_Sentiment_Smoothed')"
   ]
  },
  {
   "cell_type": "markdown",
   "metadata": {},
   "source": [
    "## Technical Indicators"
   ]
  },
  {
   "cell_type": "code",
   "execution_count": 94,
   "metadata": {},
   "outputs": [],
   "source": [
    "from zipline.pipeline.factors.technical import BollingerBands\n",
    "\n",
    "class customBB(BollingerBands):\n",
    "\n",
    "    inputs = (USEquityPricing.close,)\n",
    "    outputs = 'lower', 'middle', 'upper', 'ind_upper' ,'ind_lower'\n",
    "    \n",
    "    def compute(self, today, assets, out, close, k):\n",
    "        std = np.nanstd(close, axis=0)\n",
    "        difference = k * std\n",
    "        out.middle = middle = np.nanmean(close, axis=0)\n",
    "        out.upper = middle + difference\n",
    "        out.lower = middle - difference\n",
    "        out.close = close[-1,:]\n",
    "        out.ind_upper = np.where(out.close>out.upper,1,0)\n",
    "        out.ind_lower = np.where(out.close<out.lower,1,0)\n",
    "        \n",
    "class lower_bb(CustomFactor):\n",
    "\n",
    "    params=('k',)\n",
    "    inputs = (USEquityPricing.close,)\n",
    "    window_length = 60\n",
    "    window_safe = True\n",
    "    \n",
    "    def compute(self, today, assets, out, close, k):\n",
    "        std = np.nanstd(close, axis=0)\n",
    "        difference = k * std\n",
    "        middle = middle = np.nanmean(close, axis=0)\n",
    "        lower = middle - difference\n",
    "        out[:] = np.where(close[-1,:]<lower,1,0)\n",
    "        \n",
    "class upper_bb(CustomFactor):\n",
    "\n",
    "    params=('k',)\n",
    "    inputs = (USEquityPricing.close,)\n",
    "    window_length = 60\n",
    "    window_safe = True\n",
    "    \n",
    "    def compute(self, today, assets, out, close, k):\n",
    "        std = np.nanstd(close, axis=0)\n",
    "        difference = k * std\n",
    "        middle = middle = np.nanmean(close, axis=0)\n",
    "        upper = middle + difference\n",
    "        out[:] = np.where(close[-1,:]>upper,1,0)"
   ]
  },
  {
   "cell_type": "code",
   "execution_count": 95,
   "metadata": {},
   "outputs": [],
   "source": [
    "tech_pl = Pipeline(screen=universe)"
   ]
  },
  {
   "cell_type": "code",
   "execution_count": 96,
   "metadata": {},
   "outputs": [],
   "source": [
    "tech_pl.add(\n",
    "    customBB(window_length=60, mask=universe,k =2),\n",
    "    'customBB_60d')\n",
    "\n",
    "tech_pl.add(\n",
    "    upper_bb(window_length=60, mask=universe,k =2),\n",
    "    'upperBB_60d')\n",
    "\n",
    "tech_pl.add(\n",
    "    lower_bb(window_length=60, mask=universe,k =2),\n",
    "    'lowerBB_60d')"
   ]
  },
  {
   "cell_type": "code",
   "execution_count": 97,
   "metadata": {},
   "outputs": [
    {
     "data": {
      "text/plain": [
       "array([[(59.979418203347045, 63.57166666666667, 67.1639151299863, 0.0, 0.0),\n",
       "        0.0, 0.0],\n",
       "       [(10.73721382067231, 11.979116666666668, 13.221019512661027, 1.0, 0.0),\n",
       "        0.0, 1.0],\n",
       "       [(64.04825398510597, 72.33553333333333, 80.62281268156069, 0.0, 0.0),\n",
       "        0.0, 0.0],\n",
       "       [(62.286520296786996, 73.31343333333334, 84.34034636987967, 0.0, 0.0),\n",
       "        0.0, 0.0],\n",
       "       [(28.865000000000002, 28.865000000000002, 28.865000000000002, 0.0, 0.0),\n",
       "        0.0, 0.0]], dtype=object)"
      ]
     },
     "execution_count": 97,
     "metadata": {},
     "output_type": "execute_result"
    }
   ],
   "source": [
    "tech_factors = engine.run_pipeline(tech_pl, factor_start_date, universe_end_date)\n",
    "tech_factors.values[0:5]"
   ]
  },
  {
   "cell_type": "code",
   "execution_count": 98,
   "metadata": {},
   "outputs": [],
   "source": [
    "pipeline.add(\n",
    "    RSI(window_length=15, mask=universe).rank().zscore(),\n",
    "    'RSI_15')\n",
    "pipeline.add(\n",
    "    MACDSignal(fast_period=12, slow_period=26, signal_period=9).rank().zscore(),\n",
    "    'MACD')\n",
    "\n",
    "pipeline.add(\n",
    "    upper_bb(window_length=60, mask=universe,k=2),\n",
    "    'upperBB_60d')\n",
    "pipeline.add(\n",
    "    lower_bb(window_length=60, mask=universe,k=2),\n",
    "    'lowerBB_60d')"
   ]
  },
  {
   "cell_type": "markdown",
   "metadata": {},
   "source": [
    "## Quant Features\n",
    "* Stock volatility\n",
    "* Average dollar volume"
   ]
  },
  {
   "cell_type": "markdown",
   "metadata": {},
   "source": [
    "Stock volatility: zipline has a custom factor called AnnualizedVolatility.  The [source code is here](https://github.com/quantopian/zipline/blob/master/zipline/pipeline/factors/basic.py) and also pasted below:\n",
    "\n",
    "```python \n",
    "class AnnualizedVolatility(CustomFactor):\n",
    "    \"\"\"\n",
    "    Volatility. The degree of variation of a series over time as measured by\n",
    "    the standard deviation of daily returns.\n",
    "    https://en.wikipedia.org/wiki/Volatility_(finance)\n",
    "    **Default Inputs:** :data:`zipline.pipeline.factors.Returns(window_length=2)`  # noqa\n",
    "    Parameters\n",
    "    ----------\n",
    "    annualization_factor : float, optional\n",
    "        The number of time units per year. Defaults is 252, the number of NYSE\n",
    "        trading days in a normal year.\n",
    "    \"\"\"\n",
    "    inputs = [Returns(window_length=2)]\n",
    "    params = {'annualization_factor': 252.0}\n",
    "    window_length = 252\n",
    "\n",
    "    def compute(self, today, assets, out, returns, annualization_factor):\n",
    "        out[:] = nanstd(returns, axis=0) * (annualization_factor ** .5)\n",
    "```"
   ]
  },
  {
   "cell_type": "code",
   "execution_count": 99,
   "metadata": {},
   "outputs": [],
   "source": [
    "pipeline.add(AnnualizedVolatility(window_length=20, mask=universe).rank().zscore(), 'volatility_20d')\n",
    "pipeline.add(AnnualizedVolatility(window_length=120, mask=universe).rank().zscore(), 'volatility_120d')\n",
    "pipeline.add(AverageDollarVolume(window_length=20, mask=universe).rank().zscore(), 'adv_20d')\n",
    "pipeline.add(AverageDollarVolume(window_length=120, mask=universe).rank().zscore(), 'adv_120d')"
   ]
  },
  {
   "cell_type": "markdown",
   "metadata": {},
   "source": [
    "## Regime Features\n",
    "* Market dispersion\n",
    "* Market volatility\n",
    "\n",
    "Capture market-wide regimes (look at the aggregate movement of the universe of stocks)\n",
    "\n",
    "High and low dispersion: dispersion is looking at the dispersion (standard deviation) of the cross section of all stocks at each period of time (on each day).  We'll inherit from [CustomFactor](http://www.zipline.io/appendix.html?highlight=customfactor#zipline.pipeline.CustomFactor).  Feed in [DailyReturns](http://www.zipline.io/appendix.html?highlight=dailyreturns#zipline.pipeline.factors.DailyReturns) as the `inputs`.  "
   ]
  },
  {
   "cell_type": "markdown",
   "metadata": {},
   "source": [
    "### Market dispersion feature\n",
    "Create a class that inherits from `CustomFactor`.  Override the `compute` function to calculate the population standard deviation of all the stocks over a specified window of time.\n",
    "\n",
    "$$\\mu = \\sum_{t=0}^{T}\\sum_{i=1}^{N}r_{i,t}$$\n",
    "\n",
    "$$\\sqrt{\\frac{1}{T} \\sum_{t=0}^{T}  \\frac{1}{N}\\sum_{i=1}^{N}(r_{i,t} - \\mu)^2}$$\n",
    "\n",
    "Use [numpy.nanmean](https://docs.scipy.org/doc/numpy-1.15.0/reference/generated/numpy.nanmean.html) to calculate the average market return $\\mu$ and to calculate the average of the squared differences.\n"
   ]
  },
  {
   "cell_type": "code",
   "execution_count": 100,
   "metadata": {},
   "outputs": [],
   "source": [
    "class MarketDispersion(CustomFactor):\n",
    "    inputs = [DailyReturns()]\n",
    "    window_length = 1\n",
    "    window_safe = True\n",
    "\n",
    "    def compute(self, today, assets, out, returns):\n",
    "        \n",
    "        # calculate average returns to simulate market as an equal weighted portfolio\n",
    "        mean_returns = np.nanmean(returns)\n",
    "        \n",
    "        # calculate standard deviation of returns\n",
    "        out[:] = np.sqrt(np.nanmean((returns - mean_returns)**2))"
   ]
  },
  {
   "cell_type": "code",
   "execution_count": 101,
   "metadata": {},
   "outputs": [],
   "source": [
    "pipeline.add(SimpleMovingAverage(inputs=[MarketDispersion(mask=universe)], window_length=20), 'dispersion_20d')\n",
    "pipeline.add(SimpleMovingAverage(inputs=[MarketDispersion(mask=universe)], window_length=120), 'dispersion_120d')\n"
   ]
  },
  {
   "cell_type": "markdown",
   "metadata": {},
   "source": [
    "### Market volatility feature \n",
    "Class for market volatility, which inherits from [CustomFactor](http://www.zipline.io/appendix.html?highlight=customfactor#zipline.pipeline.CustomFactor).  This will measure the standard deviation of the returns of the \"market\".  In this case, \"market\" is approximated as the equal weighted average return of all the stocks in the stock universe.\n",
    "\n",
    "#### Market return\n",
    "$$r_{m,t} = \\frac{1}{N}\\sum_{i=1}^{N}r_{i,t}$$ for each day $t$ in `window_length`.  \n",
    "\n",
    "#### Average market return\n",
    "Also calculate the average market return over the `window_length` $T$ of days:  \n",
    "$$\\mu_{m} = \\frac{1}{T}\\sum_{t=1}^{T} r_{m,t}$$\n",
    "\n",
    "#### Standard deviation of market return\n",
    "Then calculate the standard deviation of the market return  \n",
    "$$\\sigma_{m,t} = \\sqrt{252 \\times \\frac{1}{N} \\sum_{t=1}^{T}(r_{m,t} - \\mu_{m})^2 } $$"
   ]
  },
  {
   "cell_type": "code",
   "execution_count": 102,
   "metadata": {},
   "outputs": [],
   "source": [
    "class MarketVolatility(CustomFactor):\n",
    "    inputs = [DailyReturns()]\n",
    "    window_length = 1\n",
    "    window_safe = True\n",
    "    params = {'annualization_factor': 252.0}\n",
    "    \n",
    "    def compute(self, today, assets, out, returns, annualization_factor):\n",
    "        \n",
    "        \"\"\" \n",
    "        For each row (each row represents one day of returns), \n",
    "        calculate the average of the cross-section of stock returns\n",
    "        So that market_returns has one value for each day in the window_length\n",
    "        So choose the appropriate axis (please see hints above)\n",
    "        \"\"\"\n",
    "        mkt_returns = np.nanmean(returns, axis=1) \n",
    "        \n",
    "        # Calculate the mean of market returns\n",
    "        mkt_returns_mu = np.nanmean(mkt_returns)\n",
    "\n",
    "        # Calculate the standard deviation of the market returns, then annualize them.\n",
    "        out[:] = np.sqrt(annualization_factor * np.nanmean((mkt_returns-mkt_returns_mu)**2))"
   ]
  },
  {
   "cell_type": "code",
   "execution_count": 103,
   "metadata": {},
   "outputs": [],
   "source": [
    "pipeline.add(MarketVolatility(window_length=20), 'market_vol_20d')\n",
    "pipeline.add(MarketVolatility(window_length=120), 'market_vol_120d')"
   ]
  },
  {
   "cell_type": "code",
   "execution_count": 104,
   "metadata": {},
   "outputs": [
    {
     "name": "stdout",
     "output_type": "stream",
     "text": [
      "<class 'pandas.core.frame.DataFrame'>\n",
      "MultiIndex: 363734 entries, (2013-01-03 00:00:00+00:00, Equity(0 [A])) to (2016-01-05 00:00:00+00:00, Equity(490 [ZTS]))\n",
      "Data columns (total 18 columns):\n",
      "MACD                                      363083 non-null float64\n",
      "Mean_Reversion_Sector_Neutral             361060 non-null float64\n",
      "Mean_Reversion_Sector_Neutral_Smoothed    361060 non-null float64\n",
      "Momentum_1YR                              357288 non-null float64\n",
      "Momentum_1YR_Smoothed                     357288 non-null float64\n",
      "Overnight_Sentiment                       363734 non-null float64\n",
      "Overnight_Sentiment_Smoothed              363734 non-null float64\n",
      "RSI_15                                    363711 non-null float64\n",
      "adv_120d                                  363734 non-null float64\n",
      "adv_20d                                   363734 non-null float64\n",
      "dispersion_120d                           363734 non-null float64\n",
      "dispersion_20d                            363734 non-null float64\n",
      "lowerBB_60d                               363734 non-null float64\n",
      "market_vol_120d                           363734 non-null float64\n",
      "market_vol_20d                            363734 non-null float64\n",
      "upperBB_60d                               363734 non-null float64\n",
      "volatility_120d                           363714 non-null float64\n",
      "volatility_20d                            363714 non-null float64\n",
      "dtypes: float64(18)\n",
      "memory usage: 51.3+ MB\n"
     ]
    }
   ],
   "source": [
    "all_factors = engine.run_pipeline(pipeline, factor_start_date, universe_end_date)\n",
    "all_factors.info()"
   ]
  },
  {
   "cell_type": "markdown",
   "metadata": {},
   "source": [
    "## Evaluation\n",
    "* Clean factor and Forward returns\n",
    "* Compute evaluation metrics"
   ]
  },
  {
   "cell_type": "code",
   "execution_count": 105,
   "metadata": {},
   "outputs": [],
   "source": [
    "data_portal = DataPortal(\n",
    "    bundle_data.asset_finder,\n",
    "    trading_calendar=trading_calendar,\n",
    "    first_trading_day=bundle_data.equity_daily_bar_reader.first_trading_day,\n",
    "    equity_minute_reader=None,\n",
    "    equity_daily_reader=bundle_data.equity_daily_bar_reader,\n",
    "    adjustment_reader=bundle_data.adjustment_reader)"
   ]
  },
  {
   "cell_type": "code",
   "execution_count": 106,
   "metadata": {},
   "outputs": [],
   "source": [
    "universe_tickers = engine\\\n",
    "    .run_pipeline(\n",
    "        Pipeline(screen=universe),\n",
    "        universe_end_date,\n",
    "        universe_end_date)\\\n",
    "    .index.get_level_values(1)\\\n",
    "    .values.tolist()"
   ]
  },
  {
   "cell_type": "code",
   "execution_count": 107,
   "metadata": {},
   "outputs": [
    {
     "name": "stderr",
     "output_type": "stream",
     "text": [
      "C:\\Users\\manua\\Documents\\repos\\dslab-ai-for-trading\\alpha-factors\\quant_helper.py:54: FutureWarning: offset is deprecated. Use freq instead\n",
      "  end_dt = pd.Timestamp(end_date.strftime('%Y-%m-%d'), tz='UTC', offset='C')\n",
      "C:\\Users\\manua\\Documents\\repos\\dslab-ai-for-trading\\alpha-factors\\quant_helper.py:55: FutureWarning: offset is deprecated. Use freq instead\n",
      "  start_dt = pd.Timestamp(start_date.strftime('%Y-%m-%d'), tz='UTC', offset='C')\n"
     ]
    }
   ],
   "source": [
    "pricing = quant_helper.get_pricing(\n",
    "        data_portal,\n",
    "        trading_calendar,\n",
    "        universe_tickers,\n",
    "        factor_start_date,\n",
    "        universe_end_date)"
   ]
  },
  {
   "cell_type": "code",
   "execution_count": 112,
   "metadata": {},
   "outputs": [],
   "source": [
    "factor_names = ['Momentum_1YR', 'Momentum_1YR_Smoothed',\n",
    "                'Mean_Reversion_Sector_Neutral', 'Mean_Reversion_Sector_Neutral_Smoothed',\n",
    "                'Overnight_Sentiment', 'Overnight_Sentiment_Smoothed',\n",
    "                'volatility_20d', 'volatility_120d', 'adv_20d', 'adv_120d',\n",
    "                'RSI_15', 'MACD']"
   ]
  },
  {
   "cell_type": "code",
   "execution_count": 113,
   "metadata": {},
   "outputs": [
    {
     "name": "stdout",
     "output_type": "stream",
     "text": [
      "The factor names are ['Momentum_1YR', 'Momentum_1YR_Smoothed', 'Mean_Reversion_Sector_Neutral', 'Mean_Reversion_Sector_Neutral_Smoothed', 'Overnight_Sentiment', 'Overnight_Sentiment_Smoothed', 'volatility_20d', 'volatility_120d', 'adv_20d', 'adv_120d', 'RSI_15', 'MACD']\n",
      "Formatting factor data for: Momentum_1YR\n",
      "Dropped 2.6% entries from factor data: 2.6% in forward returns computation and 0.0% in binning phase (set max_loss=0 to see potentially suppressed Exceptions).\n",
      "max_loss is 35.0%, not exceeded: OK!\n",
      "Formatting factor data for: Momentum_1YR_Smoothed\n",
      "Dropped 2.6% entries from factor data: 2.6% in forward returns computation and 0.0% in binning phase (set max_loss=0 to see potentially suppressed Exceptions).\n",
      "max_loss is 35.0%, not exceeded: OK!\n",
      "Formatting factor data for: Mean_Reversion_Sector_Neutral\n",
      "Dropped 1.5% entries from factor data: 1.5% in forward returns computation and 0.0% in binning phase (set max_loss=0 to see potentially suppressed Exceptions).\n",
      "max_loss is 35.0%, not exceeded: OK!\n",
      "Formatting factor data for: Mean_Reversion_Sector_Neutral_Smoothed\n",
      "Dropped 1.5% entries from factor data: 1.5% in forward returns computation and 0.0% in binning phase (set max_loss=0 to see potentially suppressed Exceptions).\n",
      "max_loss is 35.0%, not exceeded: OK!\n",
      "Formatting factor data for: Overnight_Sentiment\n",
      "Dropped 0.8% entries from factor data: 0.8% in forward returns computation and 0.0% in binning phase (set max_loss=0 to see potentially suppressed Exceptions).\n",
      "max_loss is 35.0%, not exceeded: OK!\n",
      "Formatting factor data for: Overnight_Sentiment_Smoothed\n",
      "Dropped 0.8% entries from factor data: 0.8% in forward returns computation and 0.0% in binning phase (set max_loss=0 to see potentially suppressed Exceptions).\n",
      "max_loss is 35.0%, not exceeded: OK!\n",
      "Formatting factor data for: volatility_20d\n",
      "Dropped 0.8% entries from factor data: 0.8% in forward returns computation and 0.0% in binning phase (set max_loss=0 to see potentially suppressed Exceptions).\n",
      "max_loss is 35.0%, not exceeded: OK!\n",
      "Formatting factor data for: volatility_120d\n",
      "Dropped 0.8% entries from factor data: 0.8% in forward returns computation and 0.0% in binning phase (set max_loss=0 to see potentially suppressed Exceptions).\n",
      "max_loss is 35.0%, not exceeded: OK!\n",
      "Formatting factor data for: adv_20d\n",
      "Dropped 0.8% entries from factor data: 0.8% in forward returns computation and 0.0% in binning phase (set max_loss=0 to see potentially suppressed Exceptions).\n",
      "max_loss is 35.0%, not exceeded: OK!\n",
      "Formatting factor data for: adv_120d\n",
      "Dropped 0.8% entries from factor data: 0.8% in forward returns computation and 0.0% in binning phase (set max_loss=0 to see potentially suppressed Exceptions).\n",
      "max_loss is 35.0%, not exceeded: OK!\n",
      "Formatting factor data for: RSI_15\n",
      "Dropped 0.8% entries from factor data: 0.8% in forward returns computation and 0.0% in binning phase (set max_loss=0 to see potentially suppressed Exceptions).\n",
      "max_loss is 35.0%, not exceeded: OK!\n",
      "Formatting factor data for: MACD\n",
      "Dropped 1.0% entries from factor data: 1.0% in forward returns computation and 0.0% in binning phase (set max_loss=0 to see potentially suppressed Exceptions).\n",
      "max_loss is 35.0%, not exceeded: OK!\n"
     ]
    }
   ],
   "source": [
    "print(\"The factor names are {}\".format(factor_names))\n",
    "\n",
    "# Use a dictionary to store each dataframe, one for each factor and its associated forward returns\n",
    "factor_data = {}\n",
    "for factor_name in factor_names:\n",
    "    print(\"Formatting factor data for: \" + factor_name)\n",
    "    factor_data[factor_name] = al.utils.get_clean_factor_and_forward_returns(\n",
    "        factor=all_factors[factor_name],\n",
    "        prices=pricing,\n",
    "        periods=[5])"
   ]
  },
  {
   "cell_type": "code",
   "execution_count": 114,
   "metadata": {},
   "outputs": [
    {
     "name": "stdout",
     "output_type": "stream",
     "text": [
      "Calculating the factor weighted returns and sharpe-ratio for: Momentum_1YR\n",
      "Calculating the Ranked IC for: Momentum_1YR\n",
      "Calculating the FRA for: Momentum_1YR\n",
      "Calculating Quantile returns for: Momentum_1YR\n",
      "Calculating the factor weighted returns and sharpe-ratio for: Momentum_1YR_Smoothed\n",
      "Calculating the Ranked IC for: Momentum_1YR_Smoothed\n",
      "Calculating the FRA for: Momentum_1YR_Smoothed\n",
      "Calculating Quantile returns for: Momentum_1YR_Smoothed\n",
      "Calculating the factor weighted returns and sharpe-ratio for: Mean_Reversion_Sector_Neutral\n",
      "Calculating the Ranked IC for: Mean_Reversion_Sector_Neutral\n",
      "Calculating the FRA for: Mean_Reversion_Sector_Neutral\n",
      "Calculating Quantile returns for: Mean_Reversion_Sector_Neutral\n",
      "Calculating the factor weighted returns and sharpe-ratio for: Mean_Reversion_Sector_Neutral_Smoothed\n",
      "Calculating the Ranked IC for: Mean_Reversion_Sector_Neutral_Smoothed\n",
      "Calculating the FRA for: Mean_Reversion_Sector_Neutral_Smoothed\n",
      "Calculating Quantile returns for: Mean_Reversion_Sector_Neutral_Smoothed\n",
      "Calculating the factor weighted returns and sharpe-ratio for: Overnight_Sentiment\n",
      "Calculating the Ranked IC for: Overnight_Sentiment\n",
      "Calculating the FRA for: Overnight_Sentiment\n",
      "Calculating Quantile returns for: Overnight_Sentiment\n",
      "Calculating the factor weighted returns and sharpe-ratio for: Overnight_Sentiment_Smoothed\n",
      "Calculating the Ranked IC for: Overnight_Sentiment_Smoothed\n",
      "Calculating the FRA for: Overnight_Sentiment_Smoothed\n",
      "Calculating Quantile returns for: Overnight_Sentiment_Smoothed\n",
      "Calculating the factor weighted returns and sharpe-ratio for: volatility_20d\n",
      "Calculating the Ranked IC for: volatility_20d\n",
      "Calculating the FRA for: volatility_20d\n",
      "Calculating Quantile returns for: volatility_20d\n",
      "Calculating the factor weighted returns and sharpe-ratio for: volatility_120d\n",
      "Calculating the Ranked IC for: volatility_120d\n",
      "Calculating the FRA for: volatility_120d\n",
      "Calculating Quantile returns for: volatility_120d\n",
      "Calculating the factor weighted returns and sharpe-ratio for: adv_20d\n",
      "Calculating the Ranked IC for: adv_20d\n",
      "Calculating the FRA for: adv_20d\n",
      "Calculating Quantile returns for: adv_20d\n",
      "Calculating the factor weighted returns and sharpe-ratio for: adv_120d\n",
      "Calculating the Ranked IC for: adv_120d\n",
      "Calculating the FRA for: adv_120d\n",
      "Calculating Quantile returns for: adv_120d\n",
      "Calculating the factor weighted returns and sharpe-ratio for: RSI_15\n",
      "Calculating the Ranked IC for: RSI_15\n",
      "Calculating the FRA for: RSI_15\n",
      "Calculating Quantile returns for: RSI_15\n",
      "Calculating the factor weighted returns and sharpe-ratio for: MACD\n",
      "Calculating the Ranked IC for: MACD\n",
      "Calculating the FRA for: MACD\n",
      "Calculating Quantile returns for: MACD\n"
     ]
    }
   ],
   "source": [
    "df_factor_return, df_sharpe, df_rank_ic, df_fra, df_qr = quant_factors.factor_evaluation(factor_data, factor_names)"
   ]
  },
  {
   "cell_type": "markdown",
   "metadata": {},
   "source": [
    "### Sharpe Ratio"
   ]
  },
  {
   "cell_type": "code",
   "execution_count": 115,
   "metadata": {},
   "outputs": [
    {
     "data": {
      "text/html": [
       "<div>\n",
       "<style scoped>\n",
       "    .dataframe tbody tr th:only-of-type {\n",
       "        vertical-align: middle;\n",
       "    }\n",
       "\n",
       "    .dataframe tbody tr th {\n",
       "        vertical-align: top;\n",
       "    }\n",
       "\n",
       "    .dataframe thead th {\n",
       "        text-align: right;\n",
       "    }\n",
       "</style>\n",
       "<table border=\"1\" class=\"dataframe\">\n",
       "  <thead>\n",
       "    <tr style=\"text-align: right;\">\n",
       "      <th></th>\n",
       "      <th>Sharpe ratio</th>\n",
       "    </tr>\n",
       "  </thead>\n",
       "  <tbody>\n",
       "    <tr>\n",
       "      <th>Mean_Reversion_Sector_Neutral</th>\n",
       "      <td>2.852028</td>\n",
       "    </tr>\n",
       "    <tr>\n",
       "      <th>Mean_Reversion_Sector_Neutral_Smoothed</th>\n",
       "      <td>2.393873</td>\n",
       "    </tr>\n",
       "    <tr>\n",
       "      <th>Momentum_1YR</th>\n",
       "      <td>1.975041</td>\n",
       "    </tr>\n",
       "    <tr>\n",
       "      <th>Overnight_Sentiment</th>\n",
       "      <td>1.304768</td>\n",
       "    </tr>\n",
       "    <tr>\n",
       "      <th>Overnight_Sentiment_Smoothed</th>\n",
       "      <td>0.912366</td>\n",
       "    </tr>\n",
       "    <tr>\n",
       "      <th>volatility_120d</th>\n",
       "      <td>0.725823</td>\n",
       "    </tr>\n",
       "    <tr>\n",
       "      <th>volatility_20d</th>\n",
       "      <td>0.326006</td>\n",
       "    </tr>\n",
       "    <tr>\n",
       "      <th>RSI_15</th>\n",
       "      <td>-0.623971</td>\n",
       "    </tr>\n",
       "    <tr>\n",
       "      <th>adv_120d</th>\n",
       "      <td>-1.038613</td>\n",
       "    </tr>\n",
       "    <tr>\n",
       "      <th>MACD</th>\n",
       "      <td>-1.055240</td>\n",
       "    </tr>\n",
       "    <tr>\n",
       "      <th>adv_20d</th>\n",
       "      <td>-1.297176</td>\n",
       "    </tr>\n",
       "    <tr>\n",
       "      <th>Momentum_1YR_Smoothed</th>\n",
       "      <td>-2.063816</td>\n",
       "    </tr>\n",
       "  </tbody>\n",
       "</table>\n",
       "</div>"
      ],
      "text/plain": [
       "                                        Sharpe ratio\n",
       "Mean_Reversion_Sector_Neutral               2.852028\n",
       "Mean_Reversion_Sector_Neutral_Smoothed      2.393873\n",
       "Momentum_1YR                                1.975041\n",
       "Overnight_Sentiment                         1.304768\n",
       "Overnight_Sentiment_Smoothed                0.912366\n",
       "volatility_120d                             0.725823\n",
       "volatility_20d                              0.326006\n",
       "RSI_15                                     -0.623971\n",
       "adv_120d                                   -1.038613\n",
       "MACD                                       -1.055240\n",
       "adv_20d                                    -1.297176\n",
       "Momentum_1YR_Smoothed                      -2.063816"
      ]
     },
     "execution_count": 115,
     "metadata": {},
     "output_type": "execute_result"
    }
   ],
   "source": [
    "df_sharpe.sort_values(by='Sharpe ratio', ascending=False)"
   ]
  },
  {
   "cell_type": "markdown",
   "metadata": {},
   "source": [
    "### Forward Returns"
   ]
  },
  {
   "cell_type": "markdown",
   "metadata": {},
   "source": [
    "### Quantile Analysis"
   ]
  },
  {
   "cell_type": "markdown",
   "metadata": {},
   "source": [
    "### Turnover (FRA)"
   ]
  },
  {
   "cell_type": "code",
   "execution_count": null,
   "metadata": {},
   "outputs": [],
   "source": []
  }
 ],
 "metadata": {
  "kernelspec": {
   "display_name": "Python 3",
   "language": "python",
   "name": "python3"
  },
  "language_info": {
   "codemirror_mode": {
    "name": "ipython",
    "version": 3
   },
   "file_extension": ".py",
   "mimetype": "text/x-python",
   "name": "python",
   "nbconvert_exporter": "python",
   "pygments_lexer": "ipython3",
   "version": "3.5.6"
  }
 },
 "nbformat": 4,
 "nbformat_minor": 4
}
