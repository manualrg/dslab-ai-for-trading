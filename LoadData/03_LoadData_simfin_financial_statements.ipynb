{
 "cells": [
  {
   "cell_type": "markdown",
   "metadata": {},
   "source": [
    "# Download Finantial Data from SimFin"
   ]
  },
  {
   "cell_type": "code",
   "execution_count": 4,
   "metadata": {},
   "outputs": [],
   "source": [
    "import pandas as pd"
   ]
  },
  {
   "cell_type": "code",
   "execution_count": 5,
   "metadata": {},
   "outputs": [],
   "source": [
    "# Import the simfin package and the Python shortcuts for the columns\n",
    "import simfin as sf\n",
    "from simfin.names import *"
   ]
  },
  {
   "cell_type": "code",
   "execution_count": 6,
   "metadata": {},
   "outputs": [],
   "source": [
    "sf.set_api_key('free')"
   ]
  },
  {
   "cell_type": "code",
   "execution_count": 7,
   "metadata": {},
   "outputs": [],
   "source": [
    "# Set the local directory where data-files are stored.\n",
    "# The dir will be created if it does not already exist.\n",
    "IN_PATH = \"../data/\"\n",
    "sf.set_data_dir(IN_PATH + 'simfin_data/')"
   ]
  },
  {
   "cell_type": "code",
   "execution_count": 8,
   "metadata": {},
   "outputs": [
    {
     "name": "stdout",
     "output_type": "stream",
     "text": [
      "Dataset \"us-companies\" on disk (0 days old).\n",
      "- Loading from disk ... Done!\n",
      "Dataset \"industries\" on disk (0 days old).\n",
      "- Loading from disk ... Done!\n",
      "Dataset \"us-income-quarterly\" on disk (0 days old).\n",
      "- Loading from disk ... Done!\n",
      "Dataset \"us-balance-quarterly\" on disk (0 days old).\n",
      "- Loading from disk ... Done!\n",
      "Dataset \"us-cashflow-quarterly\" on disk (0 days old).\n",
      "- Loading from disk ... Done!\n"
     ]
    }
   ],
   "source": [
    "# Load the full list of companies in the selected market (United States).\n",
    "df_companies = sf.load_companies(market='us')\n",
    "\n",
    "# Load all the industries that are available.\n",
    "df_industries = sf.load_industries()\n",
    "\n",
    "# Load the quarterly Income Statements for all companies in the selected market.\n",
    "df_income = sf.load_income(variant='quarterly', market='us')\n",
    "\n",
    "# Load the quarterly Balance Sheet data for all companies in the selected market.\n",
    "df_balance = sf.load_balance(variant='quarterly', market='us')\n",
    "\n",
    "# Load the quarterly Balance Sheet data for all companies in the selected market.\n",
    "df_cashflow = sf.load_cashflow(variant='quarterly', market='us')"
   ]
  },
  {
   "cell_type": "code",
   "execution_count": null,
   "metadata": {},
   "outputs": [],
   "source": []
  }
 ],
 "metadata": {
  "kernelspec": {
   "display_name": "Python 3",
   "language": "python",
   "name": "python3"
  },
  "language_info": {
   "codemirror_mode": {
    "name": "ipython",
    "version": 3
   },
   "file_extension": ".py",
   "mimetype": "text/x-python",
   "name": "python",
   "nbconvert_exporter": "python",
   "pygments_lexer": "ipython3",
   "version": "3.5.6"
  }
 },
 "nbformat": 4,
 "nbformat_minor": 4
}
