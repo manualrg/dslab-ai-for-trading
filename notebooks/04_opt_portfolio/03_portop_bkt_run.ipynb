{
 "cells": [
  {
   "cell_type": "markdown",
   "metadata": {},
   "source": [
    "<font size=\"6\"> **Portfolio Optimization** </font>"
   ]
  },
  {
   "cell_type": "code",
   "execution_count": 1,
   "metadata": {},
   "outputs": [],
   "source": [
    "%%capture\n",
    "%run 00_portopt_data.ipynb"
   ]
  },
  {
   "cell_type": "code",
   "execution_count": 2,
   "metadata": {},
   "outputs": [],
   "source": [
    "import datetime as dt\n",
    "\n",
    "from tqdm import tqdm\n",
    "\n",
    "from src.mle_quant_utils import portopt_utils\n",
    "from src.portfolio_opt import cvx_opt_port"
   ]
  },
  {
   "cell_type": "code",
   "execution_count": 3,
   "metadata": {},
   "outputs": [],
   "source": [
    "N_DAYS_DELAY = int(cfg['backtesting']['n_days_delay'])\n",
    "OPT_CONST = cfg['backtesting']['opt_port']\n",
    "LAMBDA_REG = float(OPT_CONST['lambda_reg'])"
   ]
  },
  {
   "cell_type": "code",
   "execution_count": 4,
   "metadata": {},
   "outputs": [
    {
     "name": "stdout",
     "output_type": "stream",
     "text": [
      "n_days_delay: 2\n",
      "opt constraints params: {'risk_aversion': '1e-6', 'min_mkt_cap': '1e8', 'lambda_reg': '0.5', 'risk_cap': '0.05', 'factor_max': '10.0', 'factor_min': '-10.0', 'weights_max': '0.55', 'weights_min': '-0.55'}\n"
     ]
    }
   ],
   "source": [
    "print('n_days_delay:', N_DAYS_DELAY)\n",
    "print('opt constraints params:', OPT_CONST)"
   ]
  },
  {
   "cell_type": "code",
   "execution_count": null,
   "metadata": {},
   "outputs": [],
   "source": []
  },
  {
   "cell_type": "markdown",
   "metadata": {},
   "source": [
    "# Statistical Risk Model"
   ]
  },
  {
   "cell_type": "code",
   "execution_count": 5,
   "metadata": {},
   "outputs": [
    {
     "data": {
      "text/plain": [
       "dict_keys(['idiosyncratic_var_vector', 'factor_var_vector', 'factor_betas', 'factor_returns'])"
      ]
     },
     "execution_count": 5,
     "metadata": {},
     "output_type": "execute_result"
    }
   ],
   "source": [
    "risk_model.keys()"
   ]
  },
  {
   "cell_type": "code",
   "execution_count": 6,
   "metadata": {},
   "outputs": [
    {
     "data": {
      "text/plain": [
       "(490, 20)"
      ]
     },
     "execution_count": 6,
     "metadata": {},
     "output_type": "execute_result"
    }
   ],
   "source": [
    "risk_model['factor_betas'].shape"
   ]
  },
  {
   "cell_type": "code",
   "execution_count": 7,
   "metadata": {},
   "outputs": [
    {
     "data": {
      "text/plain": [
       "(20, 20)"
      ]
     },
     "execution_count": 7,
     "metadata": {},
     "output_type": "execute_result"
    }
   ],
   "source": [
    "risk_model['factor_cov_matrix'] = np.diag(risk_model['factor_var_vector']['0'].values)\n",
    "risk_model['factor_cov_matrix'].shape"
   ]
  },
  {
   "cell_type": "code",
   "execution_count": 8,
   "metadata": {},
   "outputs": [
    {
     "data": {
      "text/plain": [
       "(490, 1)"
      ]
     },
     "execution_count": 8,
     "metadata": {},
     "output_type": "execute_result"
    }
   ],
   "source": [
    "risk_model['idiosyncratic_var_vector'].shape"
   ]
  },
  {
   "cell_type": "markdown",
   "metadata": {},
   "source": [
    "# Portfolio Optimization"
   ]
  },
  {
   "cell_type": "markdown",
   "metadata": {},
   "source": [
    "## No Transaction Costs"
   ]
  },
  {
   "cell_type": "code",
   "execution_count": 9,
   "metadata": {},
   "outputs": [],
   "source": [
    "opt_engine = cvx_opt_port.OptimalHoldingsRegualization(lambda_reg=LAMBDA_REG)"
   ]
  },
  {
   "cell_type": "code",
   "execution_count": 10,
   "metadata": {},
   "outputs": [],
   "source": [
    "bkt_dates = test_dates.unique()\n",
    "bkt_daily_returns = daily_returns.loc[bkt_dates].copy()\n",
    "bkt_daily_adv = adv.loc[bkt_dates].copy()"
   ]
  },
  {
   "cell_type": "code",
   "execution_count": 11,
   "metadata": {},
   "outputs": [
    {
     "name": "stderr",
     "output_type": "stream",
     "text": [
      "Opt portfolio: 100%|██████████| 149/149 [00:45<00:00,  3.24portfolio/s]\n"
     ]
    }
   ],
   "source": [
    "res_simple_avg_combi = portopt_utils.run_backtesting(opt_engine, False, B_alpha['avg_combi_alpha'], risk_model, bkt_daily_returns, bkt_daily_adv,\n",
    "                                                     n_days_delay=N_DAYS_DELAY)\n",
    "pnl_simple_avg_combi, w_simple_avg_combi = res_simple_avg_combi"
   ]
  },
  {
   "cell_type": "code",
   "execution_count": 12,
   "metadata": {},
   "outputs": [
    {
     "name": "stderr",
     "output_type": "stream",
     "text": [
      "Opt portfolio: 100%|██████████| 149/149 [00:45<00:00,  3.26portfolio/s]\n"
     ]
    }
   ],
   "source": [
    "res_simple_ml = portopt_utils.run_backtesting(opt_engine, False, B_alpha['ml_alpha'], risk_model, bkt_daily_returns, bkt_daily_adv,\n",
    "                                              n_days_delay=N_DAYS_DELAY)\n",
    "pnl_simple_ml, w_simple_ml = res_simple_ml"
   ]
  },
  {
   "cell_type": "code",
   "execution_count": 13,
   "metadata": {},
   "outputs": [
    {
     "name": "stderr",
     "output_type": "stream",
     "text": [
      "Opt portfolio: 100%|██████████| 149/149 [00:47<00:00,  3.16portfolio/s]\n"
     ]
    }
   ],
   "source": [
    "res_simple_1yrmon = portopt_utils.run_backtesting(opt_engine, False, B_alpha['Momentum_1YR_Smoothed'], risk_model, bkt_daily_returns, bkt_daily_adv, n_days_delay=N_DAYS_DELAY)\n",
    "pnl_simple_1yrmon, w_simple_1yrmon = res_simple_1yrmon"
   ]
  },
  {
   "cell_type": "code",
   "execution_count": 14,
   "metadata": {},
   "outputs": [
    {
     "name": "stderr",
     "output_type": "stream",
     "text": [
      "Opt portfolio: 100%|██████████| 149/149 [01:00<00:00,  2.46portfolio/s]\n"
     ]
    }
   ],
   "source": [
    "res_simple_5dmrev = portopt_utils.run_backtesting(opt_engine, False, B_alpha['Mean_Reversion_Sector_Neutral_Smoothed'], risk_model, bkt_daily_returns, bkt_daily_adv, n_days_delay=N_DAYS_DELAY)\n",
    "pnl_simple_5dmrev, w_simple_5dmrev = res_simple_5dmrev"
   ]
  },
  {
   "cell_type": "code",
   "execution_count": 15,
   "metadata": {},
   "outputs": [],
   "source": [
    "pnl_simple_avg_combi['port_name'] = 'simple_avg_combi'\n",
    "pnl_simple_5dmrev['port_name'] = 'Mean_Reversion_Sector_Neutral_Smoothed'\n",
    "pnl_simple_1yrmon['port_name'] = 'Momentum_1YR_Smoothed'\n",
    "pnl_simple_ml['port_name'] = 'simple_ml'\n",
    "pnl_simple_app = pd.concat([ pnl_simple_1yrmon, pnl_simple_5dmrev, pnl_simple_avg_combi, pnl_simple_ml ], axis=0)"
   ]
  },
  {
   "cell_type": "code",
   "execution_count": 16,
   "metadata": {},
   "outputs": [
    {
     "data": {
      "text/html": [
       "<div>\n",
       "<style scoped>\n",
       "    .dataframe tbody tr th:only-of-type {\n",
       "        vertical-align: middle;\n",
       "    }\n",
       "\n",
       "    .dataframe tbody tr th {\n",
       "        vertical-align: top;\n",
       "    }\n",
       "\n",
       "    .dataframe thead th {\n",
       "        text-align: right;\n",
       "    }\n",
       "</style>\n",
       "<table border=\"1\" class=\"dataframe\">\n",
       "  <thead>\n",
       "    <tr style=\"text-align: right;\">\n",
       "      <th></th>\n",
       "      <th>accum_total</th>\n",
       "      <th>accum_transaction_cost</th>\n",
       "    </tr>\n",
       "    <tr>\n",
       "      <th>port_name</th>\n",
       "      <th></th>\n",
       "      <th></th>\n",
       "    </tr>\n",
       "  </thead>\n",
       "  <tbody>\n",
       "    <tr>\n",
       "      <th>Mean_Reversion_Sector_Neutral_Smoothed</th>\n",
       "      <td>-0.006041</td>\n",
       "      <td>0.0</td>\n",
       "    </tr>\n",
       "    <tr>\n",
       "      <th>Momentum_1YR_Smoothed</th>\n",
       "      <td>0.072770</td>\n",
       "      <td>0.0</td>\n",
       "    </tr>\n",
       "    <tr>\n",
       "      <th>simple_avg_combi</th>\n",
       "      <td>0.041541</td>\n",
       "      <td>0.0</td>\n",
       "    </tr>\n",
       "    <tr>\n",
       "      <th>simple_ml</th>\n",
       "      <td>0.043656</td>\n",
       "      <td>0.0</td>\n",
       "    </tr>\n",
       "  </tbody>\n",
       "</table>\n",
       "</div>"
      ],
      "text/plain": [
       "                                        accum_total  accum_transaction_cost\n",
       "port_name                                                                  \n",
       "Mean_Reversion_Sector_Neutral_Smoothed    -0.006041                     0.0\n",
       "Momentum_1YR_Smoothed                      0.072770                     0.0\n",
       "simple_avg_combi                           0.041541                     0.0\n",
       "simple_ml                                  0.043656                     0.0"
      ]
     },
     "execution_count": 16,
     "metadata": {},
     "output_type": "execute_result"
    }
   ],
   "source": [
    "pnl_simple_app.groupby('port_name')[['accum_total', 'accum_transaction_cost']].last()"
   ]
  },
  {
   "cell_type": "code",
   "execution_count": 17,
   "metadata": {},
   "outputs": [
    {
     "data": {
      "text/html": [
       "<div>\n",
       "<style scoped>\n",
       "    .dataframe tbody tr th:only-of-type {\n",
       "        vertical-align: middle;\n",
       "    }\n",
       "\n",
       "    .dataframe tbody tr th {\n",
       "        vertical-align: top;\n",
       "    }\n",
       "\n",
       "    .dataframe thead th {\n",
       "        text-align: right;\n",
       "    }\n",
       "</style>\n",
       "<table border=\"1\" class=\"dataframe\">\n",
       "  <thead>\n",
       "    <tr style=\"text-align: right;\">\n",
       "      <th></th>\n",
       "      <th>count</th>\n",
       "      <th>mean</th>\n",
       "      <th>std</th>\n",
       "      <th>min</th>\n",
       "      <th>25%</th>\n",
       "      <th>50%</th>\n",
       "      <th>75%</th>\n",
       "      <th>max</th>\n",
       "    </tr>\n",
       "    <tr>\n",
       "      <th>port_name</th>\n",
       "      <th></th>\n",
       "      <th></th>\n",
       "      <th></th>\n",
       "      <th></th>\n",
       "      <th></th>\n",
       "      <th></th>\n",
       "      <th></th>\n",
       "      <th></th>\n",
       "    </tr>\n",
       "  </thead>\n",
       "  <tbody>\n",
       "    <tr>\n",
       "      <th>Mean_Reversion_Sector_Neutral_Smoothed</th>\n",
       "      <td>149.0</td>\n",
       "      <td>-0.000041</td>\n",
       "      <td>0.003892</td>\n",
       "      <td>-0.012430</td>\n",
       "      <td>-0.002523</td>\n",
       "      <td>-0.000054</td>\n",
       "      <td>0.001998</td>\n",
       "      <td>0.014663</td>\n",
       "    </tr>\n",
       "    <tr>\n",
       "      <th>Momentum_1YR_Smoothed</th>\n",
       "      <td>149.0</td>\n",
       "      <td>0.000488</td>\n",
       "      <td>0.005876</td>\n",
       "      <td>-0.017641</td>\n",
       "      <td>-0.002813</td>\n",
       "      <td>0.001022</td>\n",
       "      <td>0.004125</td>\n",
       "      <td>0.014700</td>\n",
       "    </tr>\n",
       "    <tr>\n",
       "      <th>simple_avg_combi</th>\n",
       "      <td>149.0</td>\n",
       "      <td>0.000279</td>\n",
       "      <td>0.003982</td>\n",
       "      <td>-0.011773</td>\n",
       "      <td>-0.002395</td>\n",
       "      <td>0.000589</td>\n",
       "      <td>0.003313</td>\n",
       "      <td>0.009001</td>\n",
       "    </tr>\n",
       "    <tr>\n",
       "      <th>simple_ml</th>\n",
       "      <td>149.0</td>\n",
       "      <td>0.000293</td>\n",
       "      <td>0.003797</td>\n",
       "      <td>-0.009261</td>\n",
       "      <td>-0.002145</td>\n",
       "      <td>0.000057</td>\n",
       "      <td>0.003133</td>\n",
       "      <td>0.010148</td>\n",
       "    </tr>\n",
       "  </tbody>\n",
       "</table>\n",
       "</div>"
      ],
      "text/plain": [
       "                                        count      mean       std       min  \\\n",
       "port_name                                                                     \n",
       "Mean_Reversion_Sector_Neutral_Smoothed  149.0 -0.000041  0.003892 -0.012430   \n",
       "Momentum_1YR_Smoothed                   149.0  0.000488  0.005876 -0.017641   \n",
       "simple_avg_combi                        149.0  0.000279  0.003982 -0.011773   \n",
       "simple_ml                               149.0  0.000293  0.003797 -0.009261   \n",
       "\n",
       "                                             25%       50%       75%       max  \n",
       "port_name                                                                       \n",
       "Mean_Reversion_Sector_Neutral_Smoothed -0.002523 -0.000054  0.001998  0.014663  \n",
       "Momentum_1YR_Smoothed                  -0.002813  0.001022  0.004125  0.014700  \n",
       "simple_avg_combi                       -0.002395  0.000589  0.003313  0.009001  \n",
       "simple_ml                              -0.002145  0.000057  0.003133  0.010148  "
      ]
     },
     "execution_count": 17,
     "metadata": {},
     "output_type": "execute_result"
    }
   ],
   "source": [
    "pnl_simple_app.groupby('port_name')['daily_pnl'].describe()"
   ]
  },
  {
   "cell_type": "markdown",
   "metadata": {},
   "source": [
    "## Transaction Costs"
   ]
  },
  {
   "cell_type": "code",
   "execution_count": 18,
   "metadata": {},
   "outputs": [],
   "source": [
    "from src.mle_quant_utils import portopt_utils\n",
    "from src.portfolio_opt import cvx_opt_port\n",
    "\n",
    "opt_engine = cvx_opt_port.OptimalHoldingsRegualization(lambda_reg=LAMBDA_REG)"
   ]
  },
  {
   "cell_type": "code",
   "execution_count": 19,
   "metadata": {},
   "outputs": [
    {
     "name": "stderr",
     "output_type": "stream",
     "text": [
      "Opt portfolio: 100%|██████████| 149/149 [00:52<00:00,  2.83portfolio/s]\n"
     ]
    }
   ],
   "source": [
    "res_tc_avg_combi = portopt_utils.run_backtesting(opt_engine, True, B_alpha['avg_combi_alpha'], risk_model, bkt_daily_returns, bkt_daily_adv,\n",
    "                                                 n_days_delay=N_DAYS_DELAY)\n",
    "pnl_tc_avg_combi, w_tc_avg_combi = res_tc_avg_combi"
   ]
  },
  {
   "cell_type": "code",
   "execution_count": 20,
   "metadata": {},
   "outputs": [
    {
     "name": "stderr",
     "output_type": "stream",
     "text": [
      "Opt portfolio: 100%|██████████| 149/149 [00:50<00:00,  2.93portfolio/s]\n"
     ]
    }
   ],
   "source": [
    "res_tc_ml = portopt_utils.run_backtesting(opt_engine, True, B_alpha['ml_alpha'], risk_model, bkt_daily_returns, bkt_daily_adv, n_days_delay=N_DAYS_DELAY)\n",
    "pnl_tc_ml, w_tc_ml = res_tc_ml"
   ]
  },
  {
   "cell_type": "code",
   "execution_count": 21,
   "metadata": {},
   "outputs": [],
   "source": [
    "pnl_tc_avg_combi['port_name'] = 'tc_avg_combi'\n",
    "pnl_tc_ml['port_name'] = 'tc_ml'"
   ]
  },
  {
   "cell_type": "code",
   "execution_count": 22,
   "metadata": {},
   "outputs": [],
   "source": [
    "pnl_tc_app = pd.concat([ pnl_tc_avg_combi, pnl_tc_ml], axis=0)\n",
    "pnl_simple_app = pd.concat([pnl_simple_avg_combi, pnl_simple_ml], axis=0)"
   ]
  },
  {
   "cell_type": "code",
   "execution_count": 23,
   "metadata": {},
   "outputs": [
    {
     "data": {
      "text/html": [
       "<div>\n",
       "<style scoped>\n",
       "    .dataframe tbody tr th:only-of-type {\n",
       "        vertical-align: middle;\n",
       "    }\n",
       "\n",
       "    .dataframe tbody tr th {\n",
       "        vertical-align: top;\n",
       "    }\n",
       "\n",
       "    .dataframe thead th {\n",
       "        text-align: right;\n",
       "    }\n",
       "</style>\n",
       "<table border=\"1\" class=\"dataframe\">\n",
       "  <thead>\n",
       "    <tr style=\"text-align: right;\">\n",
       "      <th></th>\n",
       "      <th>accum_total</th>\n",
       "      <th>accum_transaction_cost</th>\n",
       "    </tr>\n",
       "    <tr>\n",
       "      <th>port_name</th>\n",
       "      <th></th>\n",
       "      <th></th>\n",
       "    </tr>\n",
       "  </thead>\n",
       "  <tbody>\n",
       "    <tr>\n",
       "      <th>tc_avg_combi</th>\n",
       "      <td>0.04147</td>\n",
       "      <td>0.000071</td>\n",
       "    </tr>\n",
       "    <tr>\n",
       "      <th>tc_ml</th>\n",
       "      <td>0.04356</td>\n",
       "      <td>0.000097</td>\n",
       "    </tr>\n",
       "  </tbody>\n",
       "</table>\n",
       "</div>"
      ],
      "text/plain": [
       "              accum_total  accum_transaction_cost\n",
       "port_name                                        \n",
       "tc_avg_combi      0.04147                0.000071\n",
       "tc_ml             0.04356                0.000097"
      ]
     },
     "execution_count": 23,
     "metadata": {},
     "output_type": "execute_result"
    }
   ],
   "source": [
    "pnl_tc_app.groupby('port_name')[['accum_total', 'accum_transaction_cost']].last()"
   ]
  },
  {
   "cell_type": "code",
   "execution_count": 24,
   "metadata": {},
   "outputs": [
    {
     "data": {
      "text/html": [
       "<div>\n",
       "<style scoped>\n",
       "    .dataframe tbody tr th:only-of-type {\n",
       "        vertical-align: middle;\n",
       "    }\n",
       "\n",
       "    .dataframe tbody tr th {\n",
       "        vertical-align: top;\n",
       "    }\n",
       "\n",
       "    .dataframe thead th {\n",
       "        text-align: right;\n",
       "    }\n",
       "</style>\n",
       "<table border=\"1\" class=\"dataframe\">\n",
       "  <thead>\n",
       "    <tr style=\"text-align: right;\">\n",
       "      <th></th>\n",
       "      <th>count</th>\n",
       "      <th>mean</th>\n",
       "      <th>std</th>\n",
       "      <th>min</th>\n",
       "      <th>25%</th>\n",
       "      <th>50%</th>\n",
       "      <th>75%</th>\n",
       "      <th>max</th>\n",
       "    </tr>\n",
       "    <tr>\n",
       "      <th>port_name</th>\n",
       "      <th></th>\n",
       "      <th></th>\n",
       "      <th></th>\n",
       "      <th></th>\n",
       "      <th></th>\n",
       "      <th></th>\n",
       "      <th></th>\n",
       "      <th></th>\n",
       "    </tr>\n",
       "  </thead>\n",
       "  <tbody>\n",
       "    <tr>\n",
       "      <th>tc_avg_combi</th>\n",
       "      <td>149.0</td>\n",
       "      <td>0.000279</td>\n",
       "      <td>0.003982</td>\n",
       "      <td>-0.011773</td>\n",
       "      <td>-0.002395</td>\n",
       "      <td>0.000589</td>\n",
       "      <td>0.003313</td>\n",
       "      <td>0.009001</td>\n",
       "    </tr>\n",
       "    <tr>\n",
       "      <th>tc_ml</th>\n",
       "      <td>149.0</td>\n",
       "      <td>0.000293</td>\n",
       "      <td>0.003797</td>\n",
       "      <td>-0.009261</td>\n",
       "      <td>-0.002145</td>\n",
       "      <td>0.000057</td>\n",
       "      <td>0.003133</td>\n",
       "      <td>0.010148</td>\n",
       "    </tr>\n",
       "  </tbody>\n",
       "</table>\n",
       "</div>"
      ],
      "text/plain": [
       "              count      mean       std       min       25%       50%  \\\n",
       "port_name                                                               \n",
       "tc_avg_combi  149.0  0.000279  0.003982 -0.011773 -0.002395  0.000589   \n",
       "tc_ml         149.0  0.000293  0.003797 -0.009261 -0.002145  0.000057   \n",
       "\n",
       "                   75%       max  \n",
       "port_name                         \n",
       "tc_avg_combi  0.003313  0.009001  \n",
       "tc_ml         0.003133  0.010148  "
      ]
     },
     "execution_count": 24,
     "metadata": {},
     "output_type": "execute_result"
    }
   ],
   "source": [
    "pnl_tc_app.groupby('port_name')['daily_pnl'].describe()"
   ]
  },
  {
   "cell_type": "markdown",
   "metadata": {},
   "source": [
    "# Write Results"
   ]
  },
  {
   "cell_type": "markdown",
   "metadata": {},
   "source": [
    "## PnL Results"
   ]
  },
  {
   "cell_type": "code",
   "execution_count": 25,
   "metadata": {},
   "outputs": [
    {
     "data": {
      "text/html": [
       "<div>\n",
       "<style scoped>\n",
       "    .dataframe tbody tr th:only-of-type {\n",
       "        vertical-align: middle;\n",
       "    }\n",
       "\n",
       "    .dataframe tbody tr th {\n",
       "        vertical-align: top;\n",
       "    }\n",
       "\n",
       "    .dataframe thead th {\n",
       "        text-align: right;\n",
       "    }\n",
       "</style>\n",
       "<table border=\"1\" class=\"dataframe\">\n",
       "  <thead>\n",
       "    <tr style=\"text-align: right;\">\n",
       "      <th></th>\n",
       "      <th>returns_date</th>\n",
       "      <th>daily_pnl</th>\n",
       "      <th>daily_transaction_cost</th>\n",
       "      <th>daily_total</th>\n",
       "      <th>accum_total</th>\n",
       "      <th>accum_transaction_cost</th>\n",
       "      <th>port_name</th>\n",
       "    </tr>\n",
       "    <tr>\n",
       "      <th>date</th>\n",
       "      <th></th>\n",
       "      <th></th>\n",
       "      <th></th>\n",
       "      <th></th>\n",
       "      <th></th>\n",
       "      <th></th>\n",
       "      <th></th>\n",
       "    </tr>\n",
       "  </thead>\n",
       "  <tbody>\n",
       "    <tr>\n",
       "      <th>2015-05-26 00:00:00+00:00</th>\n",
       "      <td>2015-05-28 00:00:00+00:00</td>\n",
       "      <td>0.001652</td>\n",
       "      <td>0.000000e+00</td>\n",
       "      <td>0.001652</td>\n",
       "      <td>0.001652</td>\n",
       "      <td>0.000000</td>\n",
       "      <td>simple_ml</td>\n",
       "    </tr>\n",
       "    <tr>\n",
       "      <th>2015-05-27 00:00:00+00:00</th>\n",
       "      <td>2015-05-29 00:00:00+00:00</td>\n",
       "      <td>0.001363</td>\n",
       "      <td>0.000000e+00</td>\n",
       "      <td>0.001363</td>\n",
       "      <td>0.003015</td>\n",
       "      <td>0.000000</td>\n",
       "      <td>simple_ml</td>\n",
       "    </tr>\n",
       "    <tr>\n",
       "      <th>2015-12-22 00:00:00+00:00</th>\n",
       "      <td>2015-12-24 00:00:00+00:00</td>\n",
       "      <td>-0.001911</td>\n",
       "      <td>4.571629e-07</td>\n",
       "      <td>-0.001911</td>\n",
       "      <td>0.038125</td>\n",
       "      <td>0.000070</td>\n",
       "      <td>tc_avg_combi</td>\n",
       "    </tr>\n",
       "    <tr>\n",
       "      <th>2015-12-23 00:00:00+00:00</th>\n",
       "      <td>2015-12-28 00:00:00+00:00</td>\n",
       "      <td>0.003345</td>\n",
       "      <td>3.887931e-07</td>\n",
       "      <td>0.003345</td>\n",
       "      <td>0.041470</td>\n",
       "      <td>0.000071</td>\n",
       "      <td>tc_avg_combi</td>\n",
       "    </tr>\n",
       "  </tbody>\n",
       "</table>\n",
       "</div>"
      ],
      "text/plain": [
       "                                       returns_date  daily_pnl  \\\n",
       "date                                                             \n",
       "2015-05-26 00:00:00+00:00 2015-05-28 00:00:00+00:00   0.001652   \n",
       "2015-05-27 00:00:00+00:00 2015-05-29 00:00:00+00:00   0.001363   \n",
       "2015-12-22 00:00:00+00:00 2015-12-24 00:00:00+00:00  -0.001911   \n",
       "2015-12-23 00:00:00+00:00 2015-12-28 00:00:00+00:00   0.003345   \n",
       "\n",
       "                           daily_transaction_cost  daily_total  accum_total  \\\n",
       "date                                                                          \n",
       "2015-05-26 00:00:00+00:00            0.000000e+00     0.001652     0.001652   \n",
       "2015-05-27 00:00:00+00:00            0.000000e+00     0.001363     0.003015   \n",
       "2015-12-22 00:00:00+00:00            4.571629e-07    -0.001911     0.038125   \n",
       "2015-12-23 00:00:00+00:00            3.887931e-07     0.003345     0.041470   \n",
       "\n",
       "                           accum_transaction_cost     port_name  \n",
       "date                                                             \n",
       "2015-05-26 00:00:00+00:00                0.000000     simple_ml  \n",
       "2015-05-27 00:00:00+00:00                0.000000     simple_ml  \n",
       "2015-12-22 00:00:00+00:00                0.000070  tc_avg_combi  \n",
       "2015-12-23 00:00:00+00:00                0.000071  tc_avg_combi  "
      ]
     },
     "execution_count": 25,
     "metadata": {},
     "output_type": "execute_result"
    }
   ],
   "source": [
    "pnl_app = pd.concat([pnl_simple_ml, pnl_simple_avg_combi, pnl_tc_ml, pnl_tc_avg_combi], axis=0)\n",
    "pd.concat([pnl_app.head(2), pnl_app.tail(2)])"
   ]
  },
  {
   "cell_type": "code",
   "execution_count": 26,
   "metadata": {},
   "outputs": [],
   "source": [
    "pnl_app.to_csv(OUTPATH1 + OUTFILE1)"
   ]
  },
  {
   "cell_type": "markdown",
   "metadata": {},
   "source": [
    "## Daily Portfolio Weights Dictionary"
   ]
  },
  {
   "cell_type": "code",
   "execution_count": 27,
   "metadata": {},
   "outputs": [],
   "source": [
    "models_dict = {'simple_ml_avg_combi': w_simple_avg_combi,\n",
    "               'simple_ml': w_simple_ml,\n",
    "               'tc_avg_combi': w_tc_avg_combi,\n",
    "               'tc_ml': w_tc_ml}\n",
    "\n",
    "with open(OUTPATH2 + OUTFILE2, 'wb') as file:\n",
    "    pickle.dump(models_dict, file)"
   ]
  },
  {
   "cell_type": "markdown",
   "metadata": {},
   "source": [
    "## Portfolio Optimization Metadata"
   ]
  },
  {
   "cell_type": "code",
   "execution_count": 28,
   "metadata": {},
   "outputs": [],
   "source": [
    "opt_metadata = {\"alpha_model\": RISK_MODEL_VERSION,\n",
    "               \"risk_model\": MLALPHA_MODEL_VERSION,\n",
    "                \"opt_constraints\": OPT_CONST,\n",
    "                \"backtesting_start_dt\": test_start,\n",
    "                \"backtesting_end_dt\": test_end,\n",
    "                \"n_days_delay\": N_DAYS_DELAY\n",
    "               }\n",
    "\n",
    "with open(OUTPATH2 + f'{OUTFILE3}', 'wb') as file:\n",
    "    pickle.dump(opt_metadata, file)"
   ]
  },
  {
   "cell_type": "code",
   "execution_count": null,
   "metadata": {},
   "outputs": [],
   "source": []
  }
 ],
 "metadata": {
  "kernelspec": {
   "display_name": "Python 3",
   "language": "python",
   "name": "python3"
  },
  "language_info": {
   "codemirror_mode": {
    "name": "ipython",
    "version": 3
   },
   "file_extension": ".py",
   "mimetype": "text/x-python",
   "name": "python",
   "nbconvert_exporter": "python",
   "pygments_lexer": "ipython3",
   "version": "3.7.7"
  },
  "toc-autonumbering": true,
  "varInspector": {
   "cols": {
    "lenName": 16,
    "lenType": 16,
    "lenVar": 40
   },
   "kernels_config": {
    "python": {
     "delete_cmd_postfix": "",
     "delete_cmd_prefix": "del ",
     "library": "var_list.py",
     "varRefreshCmd": "print(var_dic_list())"
    },
    "r": {
     "delete_cmd_postfix": ") ",
     "delete_cmd_prefix": "rm(",
     "library": "var_list.r",
     "varRefreshCmd": "cat(var_dic_list()) "
    }
   },
   "types_to_exclude": [
    "module",
    "function",
    "builtin_function_or_method",
    "instance",
    "_Feature"
   ],
   "window_display": false
  }
 },
 "nbformat": 4,
 "nbformat_minor": 4
}
