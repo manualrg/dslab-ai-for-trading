{
 "cells": [
  {
   "cell_type": "markdown",
   "metadata": {},
   "source": [
    "<font size=\"6\"> **Model Building** </font>\n",
    "\n",
    "Apply advanced Random Forest like models to overcome the issues formerly detected. Decide which methodology is the best performant and fit the champion model"
   ]
  },
  {
   "cell_type": "code",
   "execution_count": 1,
   "metadata": {},
   "outputs": [],
   "source": [
    "%%capture\n",
    "%run 04_alphaml_feat_eng.ipynb"
   ]
  },
  {
   "cell_type": "code",
   "execution_count": 2,
   "metadata": {},
   "outputs": [
    {
     "name": "stdout",
     "output_type": "stream",
     "text": [
      "Model version:  v01\n"
     ]
    }
   ],
   "source": [
    "MODEL_VERSION = 'v01'\n",
    "print('Model version: ', MODEL_VERSION)"
   ]
  },
  {
   "cell_type": "code",
   "execution_count": 3,
   "metadata": {},
   "outputs": [],
   "source": [
    "import matplotlib.pyplot as plt\n",
    "import seaborn as sns\n",
    "\n",
    "from sklearn.ensemble import RandomForestClassifier\n",
    "from sklearn.model_selection import ParameterGrid"
   ]
  },
  {
   "cell_type": "code",
   "execution_count": 4,
   "metadata": {},
   "outputs": [],
   "source": [
    "from mle_quant_utils import mle_utils"
   ]
  },
  {
   "cell_type": "code",
   "execution_count": 26,
   "metadata": {},
   "outputs": [],
   "source": [
    "split_col = cfg['models']['alpha_ml']['split_col']"
   ]
  },
  {
   "cell_type": "code",
   "execution_count": 6,
   "metadata": {},
   "outputs": [],
   "source": [
    "OUTPATH =  \"../data/\" + cfg['output']['main'] + \"/\" + cfg['output']['alpha_factors_ml']['folder'] + \"/\" + MODEL_VERSION +\"/\"\n",
    "OUTFILE1 = cfg['output']['alpha_factors_ml']['features']\n",
    "OUTFILE2 = cfg['output']['alpha_factors_ml']['targets']\n",
    "OUTFILE3 = cfg['output']['alpha_factors_ml']['model']"
   ]
  },
  {
   "cell_type": "markdown",
   "metadata": {},
   "source": [
    "# Data Partitioning"
   ]
  },
  {
   "cell_type": "code",
   "execution_count": 7,
   "metadata": {},
   "outputs": [],
   "source": [
    "X_train, X_valid, X_test, y_train, y_valid, y_test = mle_utils.train_valid_test_split(all_factors, targets_df[target_col],\n",
    "                                                                                      splits['train'], splits['valid'], splits['test'])"
   ]
  },
  {
   "cell_type": "markdown",
   "metadata": {},
   "source": [
    "# Model Building"
   ]
  },
  {
   "cell_type": "code",
   "execution_count": 8,
   "metadata": {},
   "outputs": [],
   "source": [
    "results = pd.DataFrame(index=['rf_raw', 'rf_smp', 'rf_bag', 'rf_nov'],\n",
    "                       columns=['train_pmean', 'train_score', 'valid_pmean', 'valid_score', 'oob_score'])"
   ]
  },
  {
   "cell_type": "code",
   "execution_count": 9,
   "metadata": {},
   "outputs": [],
   "source": [
    "n_days = 5\n",
    "n_stocks = 500\n",
    "clf_random_state = 123\n",
    "\n",
    "clf_parameters = {\n",
    "    'criterion': 'entropy',\n",
    "    'n_estimators': 100,\n",
    "    'min_samples_leaf': n_stocks * n_days,\n",
    "    'oob_score': True,\n",
    "    'n_jobs': -1,\n",
    "    'random_state': clf_random_state}"
   ]
  },
  {
   "cell_type": "code",
   "execution_count": 10,
   "metadata": {},
   "outputs": [],
   "source": [
    "results = pd.DataFrame(index=['rf_raw', 'rf_smp', 'rf_bag', 'rf_nov'],\n",
    "                       columns=['train_pmean', 'train_score', 'valid_pmean', 'valid_score', 'oob_score'])"
   ]
  },
  {
   "cell_type": "markdown",
   "metadata": {},
   "source": [
    "## Raw Random Forest"
   ]
  },
  {
   "cell_type": "code",
   "execution_count": 11,
   "metadata": {},
   "outputs": [],
   "source": [
    "clf_raw = RandomForestClassifier(**clf_parameters)\n",
    "\n",
    "clf_raw.fit(X_train, y_train)\n",
    "results.loc['rf_raw', :] =  mle_utils.predict_and_score(clf_raw,  X_train, y_train, X_valid, y_valid)"
   ]
  },
  {
   "cell_type": "markdown",
   "metadata": {},
   "source": [
    "## Advanced models\n",
    "* Non-overlap sampling: Only fetch 1 out of every 5 days in train dataset, therefore samples does not overlap\n",
    "* Bagging: For each tree, only a subset of observations are sampled, this ratio is adjusted to match our expectation of 1 out of every 5 obs, but it is not assured\n",
    "* Non-overlap Voting Ensembling: Fit a RandomForest to each non-overlapping sample and then build a voting ensemble"
   ]
  },
  {
   "cell_type": "code",
   "execution_count": 12,
   "metadata": {},
   "outputs": [],
   "source": [
    "X_train_smp, y_train_smp = mle_utils.non_overlapping_samples(X_train, y_train, 4)\n",
    "clf_smp = RandomForestClassifier(**clf_parameters)\n",
    "clf_smp.fit(X_train_smp, y_train_smp)\n",
    "results.loc['rf_smp', :] =  mle_utils.predict_and_score(clf_smp,  X_train, y_train, X_valid, y_valid)"
   ]
  },
  {
   "cell_type": "code",
   "execution_count": 13,
   "metadata": {},
   "outputs": [],
   "source": [
    "clf_bagging = mle_utils.bagging_classifier(max_samples=0.2, max_features=1.0, parameters=clf_parameters)\n",
    "clf_bagging.fit(X_train, y_train)\n",
    "results.loc['rf_bag', :] =  mle_utils.predict_and_score(clf_bagging,  X_train, y_train, X_valid, y_valid)"
   ]
  },
  {
   "cell_type": "code",
   "execution_count": 14,
   "metadata": {},
   "outputs": [],
   "source": [
    "clf_base = RandomForestClassifier(max_features=1.0, **clf_parameters)\n",
    "clf_nov = mle_utils.NoOverlapVoter(clf_base, n_skip_samples=4)\n",
    "clf_nov.fit(X_train, y_train)\n",
    "results.loc['rf_nov', :] =  mle_utils.predict_and_score(clf_nov,  X_train, y_train, X_valid, y_valid)"
   ]
  },
  {
   "cell_type": "markdown",
   "metadata": {},
   "source": [
    "### Benchmarking"
   ]
  },
  {
   "cell_type": "code",
   "execution_count": 15,
   "metadata": {},
   "outputs": [
    {
     "data": {
      "text/html": [
       "<div>\n",
       "<style scoped>\n",
       "    .dataframe tbody tr th:only-of-type {\n",
       "        vertical-align: middle;\n",
       "    }\n",
       "\n",
       "    .dataframe tbody tr th {\n",
       "        vertical-align: top;\n",
       "    }\n",
       "\n",
       "    .dataframe thead th {\n",
       "        text-align: right;\n",
       "    }\n",
       "</style>\n",
       "<table border=\"1\" class=\"dataframe\">\n",
       "  <thead>\n",
       "    <tr style=\"text-align: right;\">\n",
       "      <th></th>\n",
       "      <th>train_pmean</th>\n",
       "      <th>train_score</th>\n",
       "      <th>valid_pmean</th>\n",
       "      <th>valid_score</th>\n",
       "      <th>oob_score</th>\n",
       "    </tr>\n",
       "  </thead>\n",
       "  <tbody>\n",
       "    <tr>\n",
       "      <th>rf_raw</th>\n",
       "      <td>0.77586</td>\n",
       "      <td>0.656477</td>\n",
       "      <td>0.983819</td>\n",
       "      <td>0.560977</td>\n",
       "      <td>0.652988</td>\n",
       "    </tr>\n",
       "    <tr>\n",
       "      <th>rf_smp</th>\n",
       "      <td>0.76529</td>\n",
       "      <td>0.594476</td>\n",
       "      <td>0.891487</td>\n",
       "      <td>0.563855</td>\n",
       "      <td>0.616342</td>\n",
       "    </tr>\n",
       "    <tr>\n",
       "      <th>rf_bag</th>\n",
       "      <td>0.663101</td>\n",
       "      <td>0.651891</td>\n",
       "      <td>0.77708</td>\n",
       "      <td>0.54923</td>\n",
       "      <td>0.651867</td>\n",
       "    </tr>\n",
       "    <tr>\n",
       "      <th>rf_nov</th>\n",
       "      <td>0.698441</td>\n",
       "      <td>0.616523</td>\n",
       "      <td>0.80666</td>\n",
       "      <td>0.571126</td>\n",
       "      <td>0.649645</td>\n",
       "    </tr>\n",
       "  </tbody>\n",
       "</table>\n",
       "</div>"
      ],
      "text/plain": [
       "       train_pmean train_score valid_pmean valid_score oob_score\n",
       "rf_raw     0.77586    0.656477    0.983819    0.560977  0.652988\n",
       "rf_smp     0.76529    0.594476    0.891487    0.563855  0.616342\n",
       "rf_bag    0.663101    0.651891     0.77708     0.54923  0.651867\n",
       "rf_nov    0.698441    0.616523     0.80666    0.571126  0.649645"
      ]
     },
     "execution_count": 15,
     "metadata": {},
     "output_type": "execute_result"
    }
   ],
   "source": [
    "results"
   ]
  },
  {
   "cell_type": "code",
   "execution_count": 16,
   "metadata": {},
   "outputs": [
    {
     "name": "stderr",
     "output_type": "stream",
     "text": [
      "C:\\ProgramData\\Anaconda3\\envs\\quant-ai4trading\\lib\\site-packages\\pandas\\plotting\\_core.py:1716: UserWarning: Pandas doesn't allow columns to be created via a new attribute name - see https://pandas.pydata.org/pandas-docs/stable/indexing.html#attribute-access\n",
      "  series.name = label\n"
     ]
    },
    {
     "data": {
      "image/png": "[encoded data removed]",
      "text/plain": [
       "<Figure size 432x288 with 2 Axes>"
      ]
     },
     "metadata": {
      "needs_background": "light"
     },
     "output_type": "display_data"
    }
   ],
   "source": [
    "fig, axs = plt.subplots(2, 1, sharex=True)\n",
    "ax1, ax2 = axs\n",
    "\n",
    "results.sort_values(by='valid_score').plot.bar(y='valid_score', ax=ax1)\n",
    "ax1.set_ylabel('Validation (%)')\n",
    "ax1.legend('')\n",
    "results.sort_values(by='valid_score').plot(y=['train_score','oob_score', 'valid_score'], marker='*', ax=ax2)\n",
    "ax2.set_ylabel('Train and OOB (%)')\n",
    "plt.suptitle('Model Benchmark: Accuracy by dataset')\n",
    "plt.show()"
   ]
  },
  {
   "cell_type": "markdown",
   "metadata": {},
   "source": [
    "# HyperParameter Tunning"
   ]
  },
  {
   "cell_type": "markdown",
   "metadata": {},
   "source": [
    "To fit final model, let's firstly screen our features set. Decision Trees in scikit-learn treat categorical variables as OHE, then populating a lot of this variables may lead to a change in recommended max_features vale (percentage of features considered at each split in a decision tree)\n",
    "\n",
    "In addition, as non-overlap sampling is carried out, weekday variables can be dropped; quarter variables seem to be an efficient features. A proper feature screening exercise will analyze distribution, correlantion and sparsity systematically of the entire set of features."
   ]
  },
  {
   "cell_type": "code",
   "execution_count": 17,
   "metadata": {},
   "outputs": [],
   "source": [
    "features = [x for x in features if not x.startswith(\"weekday_\") ]"
   ]
  },
  {
   "cell_type": "code",
   "execution_count": 18,
   "metadata": {},
   "outputs": [],
   "source": [
    "X_train = X_train[features].copy()\n",
    "X_valid = X_valid[features].copy()\n",
    "X_test = X_test[features].copy()"
   ]
  },
  {
   "cell_type": "markdown",
   "metadata": {},
   "source": [
    "## Grid Search"
   ]
  },
  {
   "cell_type": "code",
   "execution_count": 19,
   "metadata": {},
   "outputs": [],
   "source": [
    "nov_clf_parameters = ParameterGrid({\n",
    "    'min_samples_leaf': np.array([5, 10, 20])*n_stocks,\n",
    "    'n_estimators': [100],\n",
    "    'criterion': ['entropy'],\n",
    "    'max_features': [0.5, 0.75, 1.0],\n",
    "    'oob_score': [True],\n",
    "    'n_jobs': [-1],\n",
    "    'random_state': [clf_random_state]})"
   ]
  },
  {
   "cell_type": "code",
   "execution_count": 20,
   "metadata": {},
   "outputs": [
    {
     "name": "stderr",
     "output_type": "stream",
     "text": [
      "Training Models: 100%|██████████| 9/9 [02:16<00:00, 15.19s/Model]\n"
     ]
    }
   ],
   "source": [
    "nov_models, nov_results = mle_utils.votrf_train_val_grid_search(nov_clf_parameters, X_train, y_train, X_valid, y_valid, 4)"
   ]
  },
  {
   "cell_type": "code",
   "execution_count": 21,
   "metadata": {},
   "outputs": [
    {
     "data": {
      "text/html": [
       "<div>\n",
       "<style scoped>\n",
       "    .dataframe tbody tr th:only-of-type {\n",
       "        vertical-align: middle;\n",
       "    }\n",
       "\n",
       "    .dataframe tbody tr th {\n",
       "        vertical-align: top;\n",
       "    }\n",
       "\n",
       "    .dataframe thead th {\n",
       "        text-align: right;\n",
       "    }\n",
       "</style>\n",
       "<table border=\"1\" class=\"dataframe\">\n",
       "  <thead>\n",
       "    <tr style=\"text-align: right;\">\n",
       "      <th></th>\n",
       "      <th>max_features</th>\n",
       "      <th>min_samples_leaf</th>\n",
       "      <th>train_pmean</th>\n",
       "      <th>train_score</th>\n",
       "      <th>valid_pmean</th>\n",
       "      <th>valid_score</th>\n",
       "      <th>oob_score</th>\n",
       "    </tr>\n",
       "  </thead>\n",
       "  <tbody>\n",
       "    <tr>\n",
       "      <th>4</th>\n",
       "      <td>0.75</td>\n",
       "      <td>5000</td>\n",
       "      <td>0.799188</td>\n",
       "      <td>0.590613</td>\n",
       "      <td>0.940208</td>\n",
       "      <td>0.576083</td>\n",
       "      <td>0.612212</td>\n",
       "    </tr>\n",
       "    <tr>\n",
       "      <th>7</th>\n",
       "      <td>1.00</td>\n",
       "      <td>5000</td>\n",
       "      <td>0.765816</td>\n",
       "      <td>0.590807</td>\n",
       "      <td>0.933432</td>\n",
       "      <td>0.573191</td>\n",
       "      <td>0.604441</td>\n",
       "    </tr>\n",
       "    <tr>\n",
       "      <th>1</th>\n",
       "      <td>0.50</td>\n",
       "      <td>5000</td>\n",
       "      <td>0.845263</td>\n",
       "      <td>0.585635</td>\n",
       "      <td>0.956636</td>\n",
       "      <td>0.568964</td>\n",
       "      <td>0.609484</td>\n",
       "    </tr>\n",
       "    <tr>\n",
       "      <th>8</th>\n",
       "      <td>1.00</td>\n",
       "      <td>10000</td>\n",
       "      <td>0.54392</td>\n",
       "      <td>0.565538</td>\n",
       "      <td>0.766711</td>\n",
       "      <td>0.559434</td>\n",
       "      <td>0.583801</td>\n",
       "    </tr>\n",
       "    <tr>\n",
       "      <th>2</th>\n",
       "      <td>0.50</td>\n",
       "      <td>10000</td>\n",
       "      <td>1</td>\n",
       "      <td>0.569254</td>\n",
       "      <td>1</td>\n",
       "      <td>0.55763</td>\n",
       "      <td>0.578519</td>\n",
       "    </tr>\n",
       "    <tr>\n",
       "      <th>5</th>\n",
       "      <td>0.75</td>\n",
       "      <td>10000</td>\n",
       "      <td>1</td>\n",
       "      <td>0.569254</td>\n",
       "      <td>1</td>\n",
       "      <td>0.55763</td>\n",
       "      <td>0.583262</td>\n",
       "    </tr>\n",
       "    <tr>\n",
       "      <th>0</th>\n",
       "      <td>0.50</td>\n",
       "      <td>2500</td>\n",
       "      <td>0.805115</td>\n",
       "      <td>0.604903</td>\n",
       "      <td>0.979482</td>\n",
       "      <td>0.553499</td>\n",
       "      <td>0.651443</td>\n",
       "    </tr>\n",
       "    <tr>\n",
       "      <th>3</th>\n",
       "      <td>0.75</td>\n",
       "      <td>2500</td>\n",
       "      <td>0.749623</td>\n",
       "      <td>0.61419</td>\n",
       "      <td>0.881131</td>\n",
       "      <td>0.551599</td>\n",
       "      <td>0.652839</td>\n",
       "    </tr>\n",
       "    <tr>\n",
       "      <th>6</th>\n",
       "      <td>1.00</td>\n",
       "      <td>2500</td>\n",
       "      <td>0.694029</td>\n",
       "      <td>0.622722</td>\n",
       "      <td>0.826476</td>\n",
       "      <td>0.540128</td>\n",
       "      <td>0.645593</td>\n",
       "    </tr>\n",
       "  </tbody>\n",
       "</table>\n",
       "</div>"
      ],
      "text/plain": [
       "   max_features  min_samples_leaf train_pmean train_score valid_pmean  \\\n",
       "4          0.75              5000    0.799188    0.590613    0.940208   \n",
       "7          1.00              5000    0.765816    0.590807    0.933432   \n",
       "1          0.50              5000    0.845263    0.585635    0.956636   \n",
       "8          1.00             10000     0.54392    0.565538    0.766711   \n",
       "2          0.50             10000           1    0.569254           1   \n",
       "5          0.75             10000           1    0.569254           1   \n",
       "0          0.50              2500    0.805115    0.604903    0.979482   \n",
       "3          0.75              2500    0.749623     0.61419    0.881131   \n",
       "6          1.00              2500    0.694029    0.622722    0.826476   \n",
       "\n",
       "  valid_score oob_score  \n",
       "4    0.576083  0.612212  \n",
       "7    0.573191  0.604441  \n",
       "1    0.568964  0.609484  \n",
       "8    0.559434  0.583801  \n",
       "2     0.55763  0.578519  \n",
       "5     0.55763  0.583262  \n",
       "0    0.553499  0.651443  \n",
       "3    0.551599  0.652839  \n",
       "6    0.540128  0.645593  "
      ]
     },
     "execution_count": 21,
     "metadata": {},
     "output_type": "execute_result"
    }
   ],
   "source": [
    "select_cols = ['max_features', 'min_samples_leaf', 'train_pmean', 'train_score', 'valid_pmean', 'valid_score', 'oob_score']\n",
    "nov_results.sort_values(by='valid_score', ascending=False)[select_cols]"
   ]
  },
  {
   "cell_type": "markdown",
   "metadata": {},
   "source": [
    "## Fit final model"
   ]
  },
  {
   "cell_type": "code",
   "execution_count": 22,
   "metadata": {},
   "outputs": [],
   "source": [
    "fin_nov_clf_parameters = ParameterGrid({\n",
    "    'min_samples_leaf': [5000],\n",
    "    'n_estimators': [100],\n",
    "    'criterion': ['entropy'],\n",
    "    'max_features': [0.75],\n",
    "    'oob_score': [True],\n",
    "    'n_jobs': [-1],\n",
    "    'random_state': [clf_random_state]})"
   ]
  },
  {
   "cell_type": "code",
   "execution_count": 23,
   "metadata": {},
   "outputs": [
    {
     "name": "stderr",
     "output_type": "stream",
     "text": [
      "Training Models: 100%|██████████| 1/1 [00:22<00:00, 22.54s/Model]\n"
     ]
    }
   ],
   "source": [
    "fin_nov_models, fin_nov_results = mle_utils.votrf_train_val_grid_search(fin_nov_clf_parameters,\n",
    "                                                                        pd.concat([X_train, X_valid]),\n",
    "                                                                        pd.concat([y_train, y_valid]),\n",
    "                                                                        X_test, y_test, 4)"
   ]
  },
  {
   "cell_type": "code",
   "execution_count": 24,
   "metadata": {},
   "outputs": [
    {
     "data": {
      "text/html": [
       "<div>\n",
       "<style scoped>\n",
       "    .dataframe tbody tr th:only-of-type {\n",
       "        vertical-align: middle;\n",
       "    }\n",
       "\n",
       "    .dataframe tbody tr th {\n",
       "        vertical-align: top;\n",
       "    }\n",
       "\n",
       "    .dataframe thead th {\n",
       "        text-align: right;\n",
       "    }\n",
       "</style>\n",
       "<table border=\"1\" class=\"dataframe\">\n",
       "  <thead>\n",
       "    <tr style=\"text-align: right;\">\n",
       "      <th></th>\n",
       "      <th>train_pmean</th>\n",
       "      <th>train_score</th>\n",
       "      <th>valid_pmean</th>\n",
       "      <th>valid_score</th>\n",
       "      <th>oob_score</th>\n",
       "      <th>criterion</th>\n",
       "      <th>max_features</th>\n",
       "      <th>min_samples_leaf</th>\n",
       "      <th>n_estimators</th>\n",
       "      <th>n_jobs</th>\n",
       "      <th>oob_score_hp</th>\n",
       "      <th>random_state</th>\n",
       "    </tr>\n",
       "  </thead>\n",
       "  <tbody>\n",
       "    <tr>\n",
       "      <th>0</th>\n",
       "      <td>0.777837</td>\n",
       "      <td>0.591476</td>\n",
       "      <td>0.986517</td>\n",
       "      <td>0.506363</td>\n",
       "      <td>0.622812</td>\n",
       "      <td>entropy</td>\n",
       "      <td>0.75</td>\n",
       "      <td>5000</td>\n",
       "      <td>100</td>\n",
       "      <td>-1</td>\n",
       "      <td>True</td>\n",
       "      <td>123</td>\n",
       "    </tr>\n",
       "  </tbody>\n",
       "</table>\n",
       "</div>"
      ],
      "text/plain": [
       "  train_pmean train_score valid_pmean valid_score oob_score criterion  \\\n",
       "0    0.777837    0.591476    0.986517    0.506363  0.622812   entropy   \n",
       "\n",
       "   max_features  min_samples_leaf  n_estimators  n_jobs  oob_score_hp  \\\n",
       "0          0.75              5000           100      -1          True   \n",
       "\n",
       "   random_state  \n",
       "0           123  "
      ]
     },
     "execution_count": 24,
     "metadata": {},
     "output_type": "execute_result"
    }
   ],
   "source": [
    "fin_nov_results = fin_nov_results.rename(columns={'test_pmean': 'test_pmean',\n",
    "                               'test_score': 'test_score'})\n",
    "fin_nov_results"
   ]
  },
  {
   "cell_type": "markdown",
   "metadata": {},
   "source": [
    "## Considerations\n",
    "\n",
    "Taking into account that alpha factors and other regular features are quite simple, an accuracy slightly above in test set is a solid figure. There are many steps towards a better model, for example:\n",
    "* Advanced encoding for categorical variables\n",
    "* Advanced Hyperparameter tunning and more powerfull algorithms, like XGBoost or Neural Nets\n",
    "* Add more alpha factors and features relative to finantial statements, for example"
   ]
  },
  {
   "cell_type": "markdown",
   "metadata": {},
   "source": [
    "# Write Data"
   ]
  },
  {
   "cell_type": "code",
   "execution_count": 27,
   "metadata": {},
   "outputs": [
    {
     "data": {
      "text/plain": [
       "train    0.599157\n",
       "test     0.201185\n",
       "valid    0.199657\n",
       "Name: split, dtype: float64"
      ]
     },
     "execution_count": 27,
     "metadata": {},
     "output_type": "execute_result"
    }
   ],
   "source": [
    "all_factors[split_col] = 'train'\n",
    "all_factors.loc[X_valid.index, split_col] = 'valid'\n",
    "all_factors.loc[X_test.index, split_col] = 'test'\n",
    "all_factors[split_col].value_counts(normalize=True)"
   ]
  },
  {
   "cell_type": "code",
   "execution_count": null,
   "metadata": {},
   "outputs": [],
   "source": []
  },
  {
   "cell_type": "code",
   "execution_count": 28,
   "metadata": {},
   "outputs": [],
   "source": [
    "all_factors_cast = quant_helper.cast_zipline_multidx_to_symbol(all_factors[features])\n",
    "all_factors_cast.to_csv(OUTPATH + OUTFILE1)"
   ]
  },
  {
   "cell_type": "code",
   "execution_count": 29,
   "metadata": {},
   "outputs": [],
   "source": [
    "targets_df_cast = quant_helper.cast_zipline_multidx_to_symbol(targets_df[['return_5d_raw', target_col, split_col]])\n",
    "targets_df_cast.to_csv(OUTPATH + OUTFILE2)"
   ]
  },
  {
   "cell_type": "code",
   "execution_count": 30,
   "metadata": {},
   "outputs": [],
   "source": [
    "import pickle\n",
    "nov_final = fin_nov_models[0]\n",
    "with open(OUTPATH + OUTFILE3, 'wb') as file:\n",
    "    pickle.dump(nov_final, file)"
   ]
  },
  {
   "cell_type": "code",
   "execution_count": null,
   "metadata": {},
   "outputs": [],
   "source": []
  }
 ],
 "metadata": {
  "kernelspec": {
   "display_name": "Python 3",
   "language": "python",
   "name": "python3"
  },
  "language_info": {
   "codemirror_mode": {
    "name": "ipython",
    "version": 3
   },
   "file_extension": ".py",
   "mimetype": "text/x-python",
   "name": "python",
   "nbconvert_exporter": "python",
   "pygments_lexer": "ipython3",
   "version": "3.5.6"
  },
  "toc-autonumbering": true,
  "toc-showmarkdowntxt": false
 },
 "nbformat": 4,
 "nbformat_minor": 4
}
