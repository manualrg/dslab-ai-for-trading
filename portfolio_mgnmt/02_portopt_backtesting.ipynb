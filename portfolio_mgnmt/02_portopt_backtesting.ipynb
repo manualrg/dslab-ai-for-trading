{
 "cells": [
  {
   "cell_type": "markdown",
   "metadata": {},
   "source": [
    "<font size=\"6\"> **Statistical Risk Model** </font>\n",
    "\n",
    "$$ \\vec{r}(N,T) = \\vec{\\beta}(N,K) · \\vec{f}(K,T) + \\vec{s}(N,T)$$\n",
    "\n",
    "* from $\\vec{f}$ compute `factor covariance matrix`: $\\vec{F}$\n",
    "* from $\\vec{s}$ compute `idiosyncratic covariance matrix` $\\vec{S}$ and extract diagonal\n",
    "\n",
    "Use  $\\vec{\\beta}$, $\\vec{F}$ and $\\vec{S}$ to estimate portfolio risk: $\\sigma_{r_{p}}$"
   ]
  },
  {
   "cell_type": "code",
   "execution_count": 12,
   "metadata": {},
   "outputs": [],
   "source": [
    "%%capture\n",
    "%run 01_portopt_data.ipynb"
   ]
  },
  {
   "cell_type": "code",
   "execution_count": 99,
   "metadata": {},
   "outputs": [],
   "source": [
    "import matplotlib.pyplot as plt\n",
    "import scipy\n",
    "import pickle\n",
    "import datetime as dt\n",
    "\n",
    "from mle_quant_utils import portopt_utils\n",
    "from tqdm import tqdm\n",
    "\n",
    "%matplotlib inline\n",
    "plt.style.use('ggplot')\n",
    "plt.rcParams['figure.figsize'] = (14, 8)"
   ]
  },
  {
   "cell_type": "code",
   "execution_count": 14,
   "metadata": {},
   "outputs": [],
   "source": [
    "import yaml\n",
    "import os\n",
    "\n",
    "# Retrieve parameters from configuration file\n",
    "with open(\"../conf.yml\", \"r\") as ymlfile:\n",
    "    cfg = yaml.load(ymlfile)"
   ]
  },
  {
   "cell_type": "raw",
   "metadata": {},
   "source": [
    "OUTPATH =  \"../data/\" + cfg['output']['main'] + \"/\" + cfg['output']['risk_factors']['folder'] + \"/\" + MODEL_VERSION + \"/\"\n",
    "OUTFILE1 = cfg['output']['risk_factors']['model']\n",
    "OUTFILE2 = cfg['output']['risk_factors']['model_metadata']"
   ]
  },
  {
   "cell_type": "code",
   "execution_count": 15,
   "metadata": {},
   "outputs": [],
   "source": [
    "RND_SEED = 123\n",
    "risk_aversion = 1.0e-6"
   ]
  },
  {
   "cell_type": "code",
   "execution_count": 16,
   "metadata": {},
   "outputs": [
    {
     "data": {
      "text/html": [
       "<div>\n",
       "<style scoped>\n",
       "    .dataframe tbody tr th:only-of-type {\n",
       "        vertical-align: middle;\n",
       "    }\n",
       "\n",
       "    .dataframe tbody tr th {\n",
       "        vertical-align: top;\n",
       "    }\n",
       "\n",
       "    .dataframe thead th {\n",
       "        text-align: right;\n",
       "    }\n",
       "</style>\n",
       "<table border=\"1\" class=\"dataframe\">\n",
       "  <thead>\n",
       "    <tr style=\"text-align: right;\">\n",
       "      <th></th>\n",
       "      <th>A</th>\n",
       "      <th>AAL</th>\n",
       "      <th>AAP</th>\n",
       "      <th>AAPL</th>\n",
       "      <th>ABBV</th>\n",
       "      <th>ABC</th>\n",
       "      <th>ABT</th>\n",
       "      <th>ACN</th>\n",
       "      <th>ADBE</th>\n",
       "      <th>ADI</th>\n",
       "      <th>...</th>\n",
       "      <th>XL</th>\n",
       "      <th>XLNX</th>\n",
       "      <th>XOM</th>\n",
       "      <th>XRAY</th>\n",
       "      <th>XRX</th>\n",
       "      <th>XYL</th>\n",
       "      <th>YUM</th>\n",
       "      <th>ZBH</th>\n",
       "      <th>ZION</th>\n",
       "      <th>ZTS</th>\n",
       "    </tr>\n",
       "  </thead>\n",
       "  <tbody>\n",
       "    <tr>\n",
       "      <th>2015-05-28 00:00:00+00:00</th>\n",
       "      <td>-0.004683</td>\n",
       "      <td>-0.006383</td>\n",
       "      <td>-0.005534</td>\n",
       "      <td>-0.002000</td>\n",
       "      <td>0.001341</td>\n",
       "      <td>-0.004308</td>\n",
       "      <td>0.005088</td>\n",
       "      <td>0.001448</td>\n",
       "      <td>-0.001809</td>\n",
       "      <td>0.000284</td>\n",
       "      <td>...</td>\n",
       "      <td>-0.004758</td>\n",
       "      <td>0.002820</td>\n",
       "      <td>0.000000</td>\n",
       "      <td>0.005400</td>\n",
       "      <td>0.006105</td>\n",
       "      <td>0.005479</td>\n",
       "      <td>-0.001949</td>\n",
       "      <td>-0.007701</td>\n",
       "      <td>-0.004797</td>\n",
       "      <td>-0.006864</td>\n",
       "    </tr>\n",
       "    <tr>\n",
       "      <th>2015-05-29 00:00:00+00:00</th>\n",
       "      <td>-0.012719</td>\n",
       "      <td>0.009538</td>\n",
       "      <td>-0.020019</td>\n",
       "      <td>-0.011390</td>\n",
       "      <td>-0.013042</td>\n",
       "      <td>-0.004782</td>\n",
       "      <td>-0.013383</td>\n",
       "      <td>-0.008980</td>\n",
       "      <td>-0.011560</td>\n",
       "      <td>-0.005119</td>\n",
       "      <td>...</td>\n",
       "      <td>0.001594</td>\n",
       "      <td>-0.007940</td>\n",
       "      <td>0.001050</td>\n",
       "      <td>-0.002207</td>\n",
       "      <td>-0.006944</td>\n",
       "      <td>-0.003519</td>\n",
       "      <td>-0.018412</td>\n",
       "      <td>0.006169</td>\n",
       "      <td>-0.008223</td>\n",
       "      <td>0.013427</td>\n",
       "    </tr>\n",
       "    <tr>\n",
       "      <th>2015-12-24 00:00:00+00:00</th>\n",
       "      <td>-0.003682</td>\n",
       "      <td>0.012022</td>\n",
       "      <td>0.000465</td>\n",
       "      <td>-0.005341</td>\n",
       "      <td>-0.002041</td>\n",
       "      <td>0.000090</td>\n",
       "      <td>0.000000</td>\n",
       "      <td>-0.001820</td>\n",
       "      <td>-0.004224</td>\n",
       "      <td>0.005673</td>\n",
       "      <td>...</td>\n",
       "      <td>0.009623</td>\n",
       "      <td>-0.000620</td>\n",
       "      <td>-0.010724</td>\n",
       "      <td>-0.002127</td>\n",
       "      <td>0.005553</td>\n",
       "      <td>-0.001614</td>\n",
       "      <td>-0.001620</td>\n",
       "      <td>0.001364</td>\n",
       "      <td>0.003975</td>\n",
       "      <td>0.003121</td>\n",
       "    </tr>\n",
       "    <tr>\n",
       "      <th>2015-12-28 00:00:00+00:00</th>\n",
       "      <td>0.007040</td>\n",
       "      <td>-0.013259</td>\n",
       "      <td>0.009526</td>\n",
       "      <td>-0.011204</td>\n",
       "      <td>0.004953</td>\n",
       "      <td>0.002309</td>\n",
       "      <td>-0.001550</td>\n",
       "      <td>-0.001441</td>\n",
       "      <td>-0.001060</td>\n",
       "      <td>-0.006164</td>\n",
       "      <td>...</td>\n",
       "      <td>0.000503</td>\n",
       "      <td>-0.001064</td>\n",
       "      <td>-0.007439</td>\n",
       "      <td>0.004930</td>\n",
       "      <td>-0.021138</td>\n",
       "      <td>-0.003484</td>\n",
       "      <td>-0.002177</td>\n",
       "      <td>-0.006413</td>\n",
       "      <td>-0.005033</td>\n",
       "      <td>-0.004784</td>\n",
       "    </tr>\n",
       "  </tbody>\n",
       "</table>\n",
       "<p>4 rows × 490 columns</p>\n",
       "</div>"
      ],
      "text/plain": [
       "                                  A       AAL       AAP      AAPL      ABBV  \\\n",
       "2015-05-28 00:00:00+00:00 -0.004683 -0.006383 -0.005534 -0.002000  0.001341   \n",
       "2015-05-29 00:00:00+00:00 -0.012719  0.009538 -0.020019 -0.011390 -0.013042   \n",
       "2015-12-24 00:00:00+00:00 -0.003682  0.012022  0.000465 -0.005341 -0.002041   \n",
       "2015-12-28 00:00:00+00:00  0.007040 -0.013259  0.009526 -0.011204  0.004953   \n",
       "\n",
       "                                ABC       ABT       ACN      ADBE       ADI  \\\n",
       "2015-05-28 00:00:00+00:00 -0.004308  0.005088  0.001448 -0.001809  0.000284   \n",
       "2015-05-29 00:00:00+00:00 -0.004782 -0.013383 -0.008980 -0.011560 -0.005119   \n",
       "2015-12-24 00:00:00+00:00  0.000090  0.000000 -0.001820 -0.004224  0.005673   \n",
       "2015-12-28 00:00:00+00:00  0.002309 -0.001550 -0.001441 -0.001060 -0.006164   \n",
       "\n",
       "                             ...           XL      XLNX       XOM      XRAY  \\\n",
       "2015-05-28 00:00:00+00:00    ...    -0.004758  0.002820  0.000000  0.005400   \n",
       "2015-05-29 00:00:00+00:00    ...     0.001594 -0.007940  0.001050 -0.002207   \n",
       "2015-12-24 00:00:00+00:00    ...     0.009623 -0.000620 -0.010724 -0.002127   \n",
       "2015-12-28 00:00:00+00:00    ...     0.000503 -0.001064 -0.007439  0.004930   \n",
       "\n",
       "                                XRX       XYL       YUM       ZBH      ZION  \\\n",
       "2015-05-28 00:00:00+00:00  0.006105  0.005479 -0.001949 -0.007701 -0.004797   \n",
       "2015-05-29 00:00:00+00:00 -0.006944 -0.003519 -0.018412  0.006169 -0.008223   \n",
       "2015-12-24 00:00:00+00:00  0.005553 -0.001614 -0.001620  0.001364  0.003975   \n",
       "2015-12-28 00:00:00+00:00 -0.021138 -0.003484 -0.002177 -0.006413 -0.005033   \n",
       "\n",
       "                                ZTS  \n",
       "2015-05-28 00:00:00+00:00 -0.006864  \n",
       "2015-05-29 00:00:00+00:00  0.013427  \n",
       "2015-12-24 00:00:00+00:00  0.003121  \n",
       "2015-12-28 00:00:00+00:00 -0.004784  \n",
       "\n",
       "[4 rows x 490 columns]"
      ]
     },
     "execution_count": 16,
     "metadata": {},
     "output_type": "execute_result"
    }
   ],
   "source": [
    "pd.concat([daily_returns.head(2), daily_returns.tail(2)],axis=0)"
   ]
  },
  {
   "cell_type": "code",
   "execution_count": 17,
   "metadata": {},
   "outputs": [],
   "source": [
    "def get_obj_func(h0, risk_aversion, Q, specVar, alpha_vec, Lambda): \n",
    "    def obj_func(h):\n",
    "        _h0 = h0.values\n",
    "        factor_risk = 0.5*risk_aversion*np.sum( np.matmul(Q,h)**2 )\n",
    "        idiosyncratic_risk = 0.5*risk_aversion*np.dot(h**2, specVar)  # specVar is diag\n",
    "        exp_port_ret = np.dot(h, alpha_vec)\n",
    "        trans_costs = np.dot((h-_h0)**2, Lambda)\n",
    "        obj_f = factor_risk + idiosyncratic_risk - exp_port_ret + trans_costs\n",
    "        return(obj_f)\n",
    "    \n",
    "    return obj_func"
   ]
  },
  {
   "cell_type": "code",
   "execution_count": 18,
   "metadata": {},
   "outputs": [],
   "source": [
    "def get_grad_func(h0, risk_aversion, Q, QT, specVar, alpha_vec, Lambda):\n",
    "    def grad_func(h):\n",
    "        \n",
    "        grad_factor_risk = risk_aversion*np.matmul(QT, np.matmul(Q,h))\n",
    "        grad_idiosyncratic_risk = risk_aversion*specVar*h\n",
    "        grad_exp_port_ret =  alpha_vec\n",
    "        grad_trans_costs = 2*(h-h0)*Lambda\n",
    "        \n",
    "        g = grad_factor_risk + grad_idiosyncratic_risk - grad_exp_port_ret + grad_trans_costs\n",
    "        \n",
    "        return(np.asarray(g))\n",
    "    \n",
    "    return grad_func"
   ]
  },
  {
   "cell_type": "code",
   "execution_count": 19,
   "metadata": {},
   "outputs": [],
   "source": [
    "def get_h_star(risk_aversion, Q, QT, specVar, alpha_vec, h0, Lambda):\n",
    "    \"\"\"\n",
    "    Optimize the objective function\n",
    "\n",
    "    Parameters\n",
    "    ----------        \n",
    "    risk_aversion : int or float \n",
    "        Trader's risk aversion\n",
    "        \n",
    "    Q : patsy.design_info.DesignMatrix \n",
    "        Q Matrix\n",
    "        \n",
    "    QT : patsy.design_info.DesignMatrix \n",
    "        Transpose of the Q Matrix\n",
    "        \n",
    "    specVar: Pandas Series \n",
    "        Specific Variance\n",
    "        \n",
    "    alpha_vec: patsy.design_info.DesignMatrix \n",
    "        alpha vector\n",
    "        \n",
    "    h0 : Pandas Series  \n",
    "        initial holdings\n",
    "        \n",
    "    Lambda : Pandas Series  \n",
    "        Lambda\n",
    "        \n",
    "    Returns\n",
    "    -------\n",
    "    optimizer_result[0]: Numpy ndarray \n",
    "        optimized holdings\n",
    "    \"\"\"\n",
    "    obj_func = get_obj_func(h0, risk_aversion, Q, specVar, alpha_vec, Lambda)\n",
    "    grad_func = get_grad_func(h0, risk_aversion, Q, QT, specVar, alpha_vec, Lambda)\n",
    "\n",
    "\n",
    "    optimizer_result = scipy.optimize.fmin_l_bfgs_b(\n",
    "        func=obj_func, x0=h0, fprime=grad_func\n",
    "    )\n",
    "    return optimizer_result[0]"
   ]
  },
  {
   "cell_type": "code",
   "execution_count": 20,
   "metadata": {},
   "outputs": [
    {
     "data": {
      "text/plain": [
       "dict_keys(['factor_var_vector', 'factor_betas', 'idiosyncratic_var_vector', 'factor_returns'])"
      ]
     },
     "execution_count": 20,
     "metadata": {},
     "output_type": "execute_result"
    }
   ],
   "source": [
    "risk_model.keys()"
   ]
  },
  {
   "cell_type": "code",
   "execution_count": 21,
   "metadata": {},
   "outputs": [],
   "source": [
    "risk_facret = risk_model['factor_returns']\n",
    "#alpha_facret"
   ]
  },
  {
   "cell_type": "code",
   "execution_count": 22,
   "metadata": {},
   "outputs": [
    {
     "data": {
      "text/plain": [
       "(490, 20)"
      ]
     },
     "execution_count": 22,
     "metadata": {},
     "output_type": "execute_result"
    }
   ],
   "source": [
    "B = risk_model['factor_betas']\n",
    "B.shape"
   ]
  },
  {
   "cell_type": "code",
   "execution_count": 23,
   "metadata": {},
   "outputs": [
    {
     "data": {
      "text/plain": [
       "(20, 20)"
      ]
     },
     "execution_count": 23,
     "metadata": {},
     "output_type": "execute_result"
    }
   ],
   "source": [
    "Fvar = np.diag(risk_model['factor_var_vector'].values[:,0])\n",
    "Fvar.shape"
   ]
  },
  {
   "cell_type": "code",
   "execution_count": 58,
   "metadata": {},
   "outputs": [
    {
     "data": {
      "text/plain": [
       "date                       asset\n",
       "2013-01-03 00:00:00+00:00  A       -3.327787\n",
       "                           AAL      0.639552\n",
       "                           AAP     -1.567522\n",
       "                           AAPL     0.085905\n",
       "                           ABBV    -1.949210\n",
       "dtype: float64"
      ]
     },
     "execution_count": 58,
     "metadata": {},
     "output_type": "execute_result"
    }
   ],
   "source": [
    "# alphas\n",
    "alpha_factors = ['Mean_Reversion_Sector_Neutral_Smoothed', 'Momentum_1YR_Smoothed',\n",
    "       'Overnight_Sentiment_Smoothed']\n",
    "B_alpha = features_df[alpha_factors]\n",
    "alpha_vec = B_alpha.mean(axis=1)\n",
    "alpha_vec[:5]"
   ]
  },
  {
   "cell_type": "code",
   "execution_count": 59,
   "metadata": {},
   "outputs": [],
   "source": [
    "# data alignment: static frame\n",
    "str_date_fmt = \"%Y%m%d\"\n",
    "betas_exp = {}\n",
    "# factor_cov = {}\n",
    "spec_var = {}\n",
    "lambdas = {}\n",
    "\n",
    "for dt_idx in daily_returns.index:\n",
    "    dt_idx_str = dt.datetime.strftime(dt_idx, str_date_fmt)\n",
    "    universe = ml_alpha.loc[dt_idx].index\n",
    "    betas_exp[dt_idx_str] = B.loc[universe]\n",
    "    \n",
    "    spec_var[dt_idx_str] = risk_model['idiosyncratic_var_vector'].loc[universe, '0']\n",
    "    lambdas[dt_idx_str] = adv.loc[dt_idx, universe] * 0.1"
   ]
  },
  {
   "cell_type": "code",
   "execution_count": 60,
   "metadata": {},
   "outputs": [],
   "source": [
    "example_dt = dt.datetime.strftime(universe_start_date, str_date_fmt)\n",
    "\n",
    "# risk\n",
    "BT = betas_exp[example_dt].T\n",
    "Q = np.matmul(scipy.linalg.sqrtm(Fvar), BT)\n",
    "QT = Q.transpose()\n",
    "specVar = spec_var[example_dt]\n",
    "# cost\n",
    "Lambda = lambdas[example_dt]\n"
   ]
  },
  {
   "cell_type": "code",
   "execution_count": 90,
   "metadata": {},
   "outputs": [],
   "source": [
    "\n",
    "current_alpha_vec = alpha_vec.loc[universe_start_date]#*1e-4\n",
    "h0 = pd.Series(index=current_alpha_vec.index, data=np.zeros(len(current_alpha_vec)))"
   ]
  },
  {
   "cell_type": "code",
   "execution_count": 65,
   "metadata": {},
   "outputs": [
    {
     "data": {
      "text/plain": [
       "array([ 1.99208082e-06,  1.28711123e-06, -1.00943631e-05,  1.48217371e-07,\n",
       "       -5.35634591e-08])"
      ]
     },
     "execution_count": 65,
     "metadata": {},
     "output_type": "execute_result"
    }
   ],
   "source": [
    "h_star = get_h_star(risk_aversion, Q, QT, specVar, current_alpha_vec, h0, Lambda)\n",
    "h_star[:5]"
   ]
  },
  {
   "cell_type": "code",
   "execution_count": 66,
   "metadata": {},
   "outputs": [
    {
     "data": {
      "text/plain": [
       "0.00010361872733426135"
      ]
     },
     "execution_count": 66,
     "metadata": {},
     "output_type": "execute_result"
    }
   ],
   "source": [
    "h_star.sum()"
   ]
  },
  {
   "cell_type": "code",
   "execution_count": 57,
   "metadata": {},
   "outputs": [
    {
     "data": {
      "text/plain": [
       "[<matplotlib.lines.Line2D at 0x19dbff5e908>]"
      ]
     },
     "execution_count": 57,
     "metadata": {},
     "output_type": "execute_result"
    },
    {
     "data": {
      "image/png": "[encoded data removed]",
      "text/plain": [
       "<Figure size 1008x576 with 1 Axes>"
      ]
     },
     "metadata": {},
     "output_type": "display_data"
    }
   ],
   "source": [
    "plt.plot(h_star)"
   ]
  },
  {
   "cell_type": "code",
   "execution_count": 67,
   "metadata": {},
   "outputs": [],
   "source": [
    "def get_total_transaction_costs(h0, h_star, Lambda):\n",
    "    \"\"\"\n",
    "    Calculate Total Transaction Costs\n",
    "\n",
    "    Parameters\n",
    "    ----------\n",
    "    h0 : Pandas Series\n",
    "        initial holdings (before optimization)\n",
    "        \n",
    "    h_star: Numpy ndarray \n",
    "        optimized holdings\n",
    "        \n",
    "    Lambda : Pandas Series  \n",
    "        Lambda\n",
    "        \n",
    "    Returns\n",
    "    -------\n",
    "    total_transaction_costs : float\n",
    "        Total Transaction Costs\n",
    "    \"\"\"\n",
    "    \n",
    "    return np.dot(Lambda, (h_star-h0)**2)"
   ]
  },
  {
   "cell_type": "code",
   "execution_count": 68,
   "metadata": {},
   "outputs": [
    {
     "data": {
      "text/plain": [
       "0.001854258353670916"
      ]
     },
     "execution_count": 68,
     "metadata": {},
     "output_type": "execute_result"
    }
   ],
   "source": [
    "total_transaction_costs = get_total_transaction_costs(h0, h_star, Lambda)\n",
    "total_transaction_costs"
   ]
  },
  {
   "cell_type": "code",
   "execution_count": 69,
   "metadata": {},
   "outputs": [],
   "source": [
    "def get_risk_exposures(BT, h_star):\n",
    "    \"\"\"\n",
    "    Calculate portfolio's Risk Exposure\n",
    "\n",
    "    Parameters\n",
    "    ----------\n",
    "    B : patsy.design_info.DesignMatrix \n",
    "        Matrix of Risk Factors\n",
    "        \n",
    "    BT : patsy.design_info.DesignMatrix \n",
    "        Transpose of Matrix of Risk Factors\n",
    "        \n",
    "    h_star: Numpy ndarray \n",
    "        optimized holdings\n",
    "        \n",
    "    Returns\n",
    "    -------\n",
    "    risk_exposures : Pandas Series\n",
    "        Risk Exposures\n",
    "    \"\"\"\n",
    "    \n",
    "    # TODO: Implement\n",
    "    factor_names = BT.index\n",
    "    risk_exposures = np.dot(BT, h_star)\n",
    "    return pd.Series(index=factor_names, data=risk_exposures)\n",
    "\n"
   ]
  },
  {
   "cell_type": "code",
   "execution_count": 70,
   "metadata": {},
   "outputs": [
    {
     "data": {
      "text/plain": [
       "0   -0.000004\n",
       "1    0.000032\n",
       "2   -0.000015\n",
       "3   -0.000007\n",
       "4   -0.000005\n",
       "dtype: float64"
      ]
     },
     "execution_count": 70,
     "metadata": {},
     "output_type": "execute_result"
    }
   ],
   "source": [
    "risk_exposures = get_risk_exposures(BT, h_star)\n",
    "risk_exposures[:5]"
   ]
  },
  {
   "cell_type": "code",
   "execution_count": 82,
   "metadata": {},
   "outputs": [],
   "source": [
    "def get_portfolio_alpha_exposure(B_alpha, h_star):\n",
    "    \"\"\"\n",
    "    Calculate portfolio's Alpha Exposure\n",
    "\n",
    "    Parameters\n",
    "    ----------\n",
    "    B_alpha : patsy.design_info.DesignMatrix \n",
    "        Matrix of Alpha Factors\n",
    "        \n",
    "    h_star: Numpy ndarray \n",
    "        optimized holdings\n",
    "        \n",
    "    Returns\n",
    "    -------\n",
    "    alpha_exposures : Pandas Series\n",
    "        Alpha Exposures\n",
    "    \"\"\"\n",
    "    alpha_factor_cols = B_alpha.columns\n",
    "    return pd.Series(np.matmul(B_alpha.transpose(), h_star), index=alpha_factor_cols)"
   ]
  },
  {
   "cell_type": "code",
   "execution_count": 83,
   "metadata": {},
   "outputs": [
    {
     "data": {
      "text/plain": [
       "ML_ALPHA    0.00371\n",
       "dtype: float64"
      ]
     },
     "execution_count": 83,
     "metadata": {},
     "output_type": "execute_result"
    }
   ],
   "source": [
    "portfolio_alpha_exposure = get_portfolio_alpha_exposure(current_alpha_vec.to_frame('ML_ALPHA'), h_star)\n",
    "portfolio_alpha_exposure[:5]"
   ]
  },
  {
   "cell_type": "code",
   "execution_count": 112,
   "metadata": {},
   "outputs": [],
   "source": [
    "def form_optimal_portfolio(universe_returns, h_prev, risk_aversion, Fvar, betas_exp, alpha_fac, spec_var, lambdas, dt_idx):\n",
    "    dt_idx_str = dt.datetime.strftime(dt_idx, str_date_fmt)\n",
    "\n",
    "    # universe\n",
    "    universe = universe_returns.loc[dt_idx].index\n",
    "    h_prev_cp = h_prev.loc[universe].copy()\n",
    "    \n",
    "    # Beta exposures\n",
    "    B = betas_exp[dt_idx_str]\n",
    "    BT = B.transpose()\n",
    "    # Factor covariance matrix\n",
    "    # Fvar as argument\n",
    "    # Specific variance\n",
    "    specVar = spec_var[dt_idx_str]\n",
    "    # Transaction costs\n",
    "    Lambda = lambdas[dt_idx_str]\n",
    "    # alpha factor\n",
    "    alpha_vec = alpha_fac.loc[dt_idx]#*1e-4\n",
    "    \n",
    "    Q = np.matmul(scipy.linalg.sqrtm(Fvar), BT)\n",
    "    QT = Q.transpose()\n",
    "    \n",
    "    h_star = get_h_star(risk_aversion, Q, QT, specVar, alpha_vec, h_prev, Lambda)\n",
    "    #opt_portfolio = pd.DataFrame(data = {\"asset\" : universe, \"h.opt\" : h_star})\n",
    "    \n",
    "    #risk_exposures = get_risk_exposures(BT, h_star)\n",
    "    #portfolio_alpha_exposure = get_portfolio_alpha_exposure(B_alpha, h_star)\n",
    "    #total_transaction_costs = get_total_transaction_costs(h0, h_star, Lambda)\n",
    "    #\n",
    "    #results = {\n",
    "    #    \"opt.portfolio\" : opt_portfolio, \n",
    "    #    \"risk.exposures\" : risk_exposures, \n",
    "    #    \"alpha.exposures\" : portfolio_alpha_exposure,\n",
    "    #    \"total.cost\" : total_transaction_costs}\n",
    "    return h_star"
   ]
  },
  {
   "cell_type": "code",
   "execution_count": 113,
   "metadata": {},
   "outputs": [],
   "source": [
    "def convert_to_previous(result): \n",
    "    prev = result['opt.portfolio']\n",
    "    prev = prev.rename(index=str, columns={\"h.opt\": \"h.opt.previous\"}, copy=True, inplace=False)\n",
    "    return prev"
   ]
  },
  {
   "cell_type": "code",
   "execution_count": null,
   "metadata": {},
   "outputs": [],
   "source": [
    "def build_tradelist(prev_holdings, opt_result):\n",
    "    tmp = prev_holdings.merge(opt_result['opt.portfolio'], how='outer', on = 'Barrid')\n",
    "    tmp['h.opt.previous'] = np.nan_to_num(tmp['h.opt.previous'])\n",
    "    tmp['h.opt'] = np.nan_to_num(tmp['h.opt'])\n",
    "    return tmp"
   ]
  },
  {
   "cell_type": "code",
   "execution_count": 115,
   "metadata": {},
   "outputs": [
    {
     "name": "stderr",
     "output_type": "stream",
     "text": [
      "Optimizing Portfolio:   0%|          | 0/1 [00:00<?, ?day/s]C:\\ProgramData\\Anaconda3\\envs\\quant-ai4trading\\lib\\site-packages\\ipykernel_launcher.py:6: FutureWarning: \n",
      "Passing list-likes to .loc or [] with any missing label will raise\n",
      "KeyError in the future, you can use .reindex() as an alternative.\n",
      "\n",
      "See the documentation here:\n",
      "http://pandas.pydata.org/pandas-docs/stable/indexing.html#deprecate-loc-reindex-listlike\n",
      "  \n",
      "Optimizing Portfolio: 100%|██████████| 1/1 [00:00<00:00, 14.32day/s]\n"
     ]
    }
   ],
   "source": [
    "trades = {}\n",
    "port = {}\n",
    "\n",
    "bkt_dates = [universe_start_date]\n",
    "h_prev = h0\n",
    "for dt_idx in tqdm(bkt_dates, desc='Optimizing Portfolio', unit='day'):\n",
    "    h_current = form_optimal_portfolio(daily_returns, h_prev,  risk_aversion, Fvar, betas_exp, alpha_vec, spec_var, lambdas, dt_idx)\n",
    "    h_prev = h_current.copy()"
   ]
  },
  {
   "cell_type": "code",
   "execution_count": 116,
   "metadata": {},
   "outputs": [
    {
     "data": {
      "text/plain": [
       "array([ 1.99208082e-06,  1.28711123e-06, -1.00943631e-05,  1.48217371e-07,\n",
       "       -5.35634591e-08,  5.52213103e-06, -8.87876170e-08,  3.15371041e-06,\n",
       "        4.79197841e-07,  1.60040943e-06, -2.00855715e-06,  7.41409361e-06,\n",
       "        9.13057188e-06, -1.67470270e-06, -1.24078655e-06, -1.40391419e-06,\n",
       "        2.28405652e-07,  3.23753791e-06, -3.17180862e-07,  2.57449845e-06,\n",
       "       -5.40410891e-07, -2.70713675e-06, -1.81707176e-05, -5.70204559e-06,\n",
       "        2.49026751e-06, -5.51611582e-06, -7.96957721e-06,  1.84413878e-05,\n",
       "        2.79595520e-07,  1.25764089e-05, -7.40668934e-06, -1.69025155e-07,\n",
       "        5.31887848e-07, -5.67356935e-06, -6.82826810e-06,  3.06929045e-06,\n",
       "        4.27993074e-07, -2.99170815e-06,  1.35289412e-06,  4.14451653e-06,\n",
       "        4.67156454e-06,  4.17455691e-06, -7.33108520e-06,  1.93988423e-06,\n",
       "       -2.07642932e-06, -3.79908170e-06,  2.27965542e-06,  1.00216329e-06,\n",
       "       -1.33754894e-05,  7.60735809e-07,  7.75852874e-08,  7.23508372e-06,\n",
       "        2.83910298e-06, -5.11560469e-06,  8.88488549e-06, -8.01655783e-07,\n",
       "        4.16649168e-05,  4.05123416e-05,  2.47240837e-06, -4.22498782e-08,\n",
       "        1.62054883e-06, -9.52438021e-07,  3.21933560e-06,  1.60952466e-07,\n",
       "       -4.83144419e-06, -2.09790252e-06, -5.25297702e-06,  1.05430923e-07,\n",
       "        2.34161307e-05,  4.87298939e-06,  5.95684775e-07,  5.15310749e-07,\n",
       "       -3.02611204e-06, -8.29186419e-07, -3.36207082e-07,  3.17778062e-07,\n",
       "       -1.90444222e-06,  4.90080736e-07, -2.25897641e-06, -3.03480356e-07,\n",
       "        5.23420083e-06,  1.21657169e-05, -2.16489041e-06, -6.74898035e-07,\n",
       "        2.10590144e-06,  1.08313793e-06, -6.08438633e-07,  8.55790704e-07,\n",
       "       -3.50519263e-06, -6.82035177e-06, -9.89131634e-07,  2.29018532e-07,\n",
       "        6.40991626e-06, -1.49530084e-06,  1.09103206e-05, -6.78882708e-07,\n",
       "       -9.22128233e-07, -7.53856283e-06,  1.35413776e-08,  1.35123727e-05,\n",
       "        8.30232819e-06, -5.35096663e-06, -4.54240604e-07,  4.13775163e-06,\n",
       "        6.23082982e-07,  6.64809747e-07, -1.45445891e-07,  1.84889765e-05,\n",
       "        1.91233149e-05, -5.31896457e-07,  4.67195818e-06,  3.64847212e-06,\n",
       "       -4.06065961e-06,  1.41076749e-06,  4.37436184e-07, -6.14764109e-07,\n",
       "       -6.30297643e-06,  1.64388672e-06, -3.00872302e-07, -9.99449494e-07,\n",
       "        4.30243767e-07,  7.09513763e-07, -1.25225526e-05,  6.35963266e-08,\n",
       "        1.24603090e-06, -2.49312296e-06, -4.97791337e-07,  3.35430322e-05,\n",
       "       -6.98701845e-06,  1.10061349e-06,  1.72473466e-07,  2.19831382e-06,\n",
       "       -3.75382081e-06, -1.37613579e-06, -2.25055660e-06, -5.70043716e-06,\n",
       "        2.21121254e-06, -9.84910259e-06,  8.38546111e-06, -4.05399388e-06,\n",
       "        3.98788145e-06, -4.19564930e-06, -5.09428623e-07, -9.62481271e-06,\n",
       "       -4.55382191e-06,  9.24914503e-07,  9.62528554e-07,  9.90081412e-07,\n",
       "       -1.03460355e-06, -2.16597960e-06, -1.69187584e-07, -3.02914848e-06,\n",
       "       -5.97107420e-06, -2.75590407e-06, -4.76432951e-07,  6.91271048e-06,\n",
       "       -3.54147507e-06, -2.40654825e-06, -4.42194499e-06, -2.33471066e-06,\n",
       "        2.65881900e-05,  2.95064813e-06, -4.88087611e-06, -8.40533517e-06,\n",
       "       -1.38337440e-05,  2.63800759e-06, -7.44372932e-07, -7.85779032e-07,\n",
       "        4.82992943e-06,  1.08555236e-05, -1.00914148e-06, -3.19669347e-06,\n",
       "        2.89308033e-07,  1.99362325e-07, -4.64602746e-07,  2.10112476e-06,\n",
       "       -1.69402358e-06,  5.93594146e-06,  3.86825622e-06,  6.90476555e-07,\n",
       "        4.00123122e-07,  4.26796745e-06, -9.03339185e-06, -4.78728318e-06,\n",
       "       -1.00759978e-05, -1.39535243e-05, -1.26131017e-06,  4.94576627e-08,\n",
       "       -1.81548682e-05, -6.06988939e-06,  1.66341474e-06, -3.52230677e-07,\n",
       "       -1.43412126e-06, -4.02534288e-07, -1.97011067e-06, -2.77608398e-07,\n",
       "       -1.97589668e-06, -7.75665982e-06, -7.26431053e-06,  6.41604238e-06,\n",
       "       -4.00744068e-06, -1.27789507e-06,  9.18922325e-07, -1.70644390e-06,\n",
       "        4.67941104e-07, -1.50205138e-05, -8.90343968e-07,  4.70590664e-06,\n",
       "        8.55741342e-08,  7.65932833e-07,  2.18334346e-07,  1.29736563e-06,\n",
       "       -1.17605531e-06,  3.87405958e-06, -4.53061292e-06,  2.33387755e-06,\n",
       "        5.56575891e-06, -2.33093022e-06,  2.43983610e-07,  1.86922653e-07,\n",
       "        6.53907409e-06, -6.24097476e-07, -1.14698003e-06,  4.61727704e-07,\n",
       "       -5.38252140e-06,  9.40986658e-07,  3.70790564e-07,  2.27415806e-06,\n",
       "       -3.73826287e-06, -7.80815389e-07,  4.15535479e-06, -6.26150359e-06,\n",
       "       -2.50479774e-05, -2.65314149e-06,  1.57550158e-05, -1.45029895e-05,\n",
       "       -3.06596673e-07,  5.28446217e-06, -7.09741897e-07,  2.77915468e-06,\n",
       "        6.73301945e-06,  5.92950372e-06,  1.10861137e-05,  3.59220983e-06,\n",
       "        2.42079544e-06,  4.02291449e-06,  6.75675626e-06, -6.45393387e-06,\n",
       "       -9.52829356e-06,  9.10719172e-07, -3.13073471e-07,  1.48166680e-07,\n",
       "        1.12534634e-06, -8.04723193e-06, -3.62151266e-08, -4.33347576e-07,\n",
       "        1.50287545e-06,  1.23895885e-06,  7.81443506e-07,  1.11842261e-05,\n",
       "       -6.41436376e-07, -3.50481906e-07, -4.43925548e-07,  2.41877219e-06,\n",
       "       -9.34536155e-06,  3.22425065e-06, -6.55938524e-06,  1.26518417e-05,\n",
       "        3.50033258e-06, -2.03720810e-06, -2.91828447e-06, -5.26186217e-06,\n",
       "       -2.08381684e-06,  5.49833052e-06,  3.24592548e-06, -4.32529858e-06,\n",
       "        1.13232510e-06,  1.47331710e-06, -7.00165498e-06,  2.70197234e-06,\n",
       "        8.70435162e-06, -1.56255355e-06, -1.96257766e-06, -7.56293658e-06,\n",
       "       -1.76057944e-05,  2.31064290e-06,  7.60572169e-06,  1.51111081e-06,\n",
       "       -8.22974925e-08, -6.64172626e-07,  2.58475065e-06,  6.74290476e-06,\n",
       "        2.99685262e-06, -5.52137108e-07,  1.40474330e-06,  1.31422320e-07,\n",
       "       -1.95578536e-06,  8.56775934e-06, -3.59061956e-06,  6.41276151e-06,\n",
       "       -2.19292577e-06,  2.37924579e-06,  2.04278593e-06, -1.02468785e-06,\n",
       "       -1.02260440e-06,  1.66053238e-06,  5.31966106e-07, -2.85507678e-06,\n",
       "       -2.07822618e-06, -3.50470707e-08, -3.07836929e-06, -9.22895490e-06,\n",
       "        7.63513571e-06, -4.44814276e-07,  3.44927047e-07,  2.63851161e-06,\n",
       "       -9.24214673e-07,  7.40846425e-06, -8.23619839e-07,  4.21542578e-08,\n",
       "        5.23626184e-07, -2.34215867e-06, -3.36980255e-06,  3.44191386e-06,\n",
       "       -4.27558970e-06,  6.82805117e-06, -2.38420719e-06, -2.24690864e-06,\n",
       "       -3.23443209e-06, -1.50784911e-06,  5.08852949e-06, -2.47861901e-06,\n",
       "        8.81834864e-07,  4.52541001e-06, -2.27024173e-06, -1.22937376e-06,\n",
       "        3.22418245e-07, -3.33339955e-06,  9.65442565e-06, -2.63451836e-07,\n",
       "        1.46640499e-05, -3.38648324e-06,  2.86029788e-06, -1.06036543e-06,\n",
       "       -4.50365864e-06, -2.03487083e-06,  1.28669477e-06, -2.73098529e-06,\n",
       "       -3.63575500e-08, -2.16851957e-07,  2.16677141e-07, -1.37428189e-06,\n",
       "        1.75291339e-06, -3.06711920e-06,  1.16171779e-06, -2.95803070e-06,\n",
       "       -6.85736473e-06, -2.31061255e-06, -1.01002708e-06, -2.39719470e-06,\n",
       "       -5.83718785e-06, -1.13476500e-05,  9.66299747e-08, -2.56266274e-06,\n",
       "        3.83790304e-06,  1.11251237e-06,  3.37455683e-06,  1.22843998e-06,\n",
       "       -1.30268860e-05, -3.86965381e-06, -8.73541035e-06, -5.39527953e-06,\n",
       "       -1.90717552e-07, -6.38411167e-06,  8.61034023e-06, -1.26128547e-06,\n",
       "       -6.98072276e-07,  7.26429146e-06, -4.65599720e-07,  2.50730798e-06,\n",
       "        3.13809349e-06,  3.13741692e-06,  1.02021938e-06, -1.20034465e-05,\n",
       "       -1.21738968e-05, -3.75245352e-06,  8.02163434e-06, -2.54213706e-06,\n",
       "        1.88007330e-06,  3.78128738e-06,  9.11952548e-07,  1.12013523e-06,\n",
       "       -4.95530709e-06,  1.28317444e-06,  5.85717283e-06,  2.52800357e-05,\n",
       "       -1.07190430e-06, -1.16587089e-05, -9.40208131e-07, -1.42594545e-06,\n",
       "       -1.56331620e-05, -6.56164837e-06, -1.89058266e-05, -8.22364531e-07,\n",
       "        1.58294351e-06,  9.05357434e-07,  4.01265071e-07, -1.45639851e-06,\n",
       "       -3.11460149e-06, -2.34645624e-06, -1.35050714e-06,  1.35120858e-05,\n",
       "        5.04685425e-06,  2.59277311e-06,  2.01814414e-06, -1.39881729e-07,\n",
       "        3.33812790e-07,  2.37574702e-08,  2.13234063e-06,  3.64682913e-06,\n",
       "        2.30760623e-05,  4.86410497e-07,  1.10687729e-06, -8.87460126e-07,\n",
       "        3.19728432e-06, -9.78701276e-06, -2.18224948e-06,  4.48929185e-06,\n",
       "       -2.70934650e-07,  4.04443239e-06,  1.22507021e-05, -2.50808131e-06,\n",
       "        1.85312279e-05,  1.86560991e-06,  9.44327454e-07,  3.47551344e-06,\n",
       "        6.57494410e-06,  3.41869076e-06, -2.67165390e-06,  2.90959144e-06,\n",
       "        7.20134881e-06,  2.96403188e-06,  4.82029937e-07, -2.49112552e-06,\n",
       "        2.56745986e-07, -4.37904873e-06,  1.33500353e-06,  4.66166249e-07,\n",
       "        1.64328077e-06,  1.32580893e-07,  5.11118990e-06, -4.71628844e-06,\n",
       "       -6.15090853e-07,  1.16651234e-05, -1.55818370e-05,  1.02661050e-06,\n",
       "        4.15869974e-06,  3.72458705e-06, -2.21720458e-06,  4.34698984e-06,\n",
       "        1.42630563e-06, -9.40409908e-07,  4.78370954e-06, -6.58865627e-06,\n",
       "        2.03197293e-08,  6.55883908e-07, -1.69155319e-06,  1.81032459e-06,\n",
       "       -7.13442425e-07, -1.02221470e-06, -2.54077367e-06,  1.21124927e-05,\n",
       "       -9.91820557e-07, -1.26760057e-05, -7.35023883e-07, -1.25107711e-06,\n",
       "       -2.00183581e-06,  1.94285723e-07,  6.75515886e-07, -2.86601219e-06,\n",
       "       -1.04003344e-05,  3.63922179e-06, -2.04032432e-06, -5.39519057e-06,\n",
       "        1.52468255e-06])"
      ]
     },
     "execution_count": 116,
     "metadata": {},
     "output_type": "execute_result"
    }
   ],
   "source": [
    "h_current"
   ]
  },
  {
   "cell_type": "code",
   "execution_count": 87,
   "metadata": {},
   "outputs": [],
   "source": []
  },
  {
   "cell_type": "code",
   "execution_count": 88,
   "metadata": {},
   "outputs": [
    {
     "name": "stderr",
     "output_type": "stream",
     "text": [
      "Optimizing Portfolio:   0%|          | 0/1 [00:00<?, ?day/s]\n"
     ]
    },
    {
     "ename": "NameError",
     "evalue": "name 'frames' is not defined",
     "output_type": "error",
     "traceback": [
      "\u001b[1;31m---------------------------------------------------------------------------\u001b[0m",
      "\u001b[1;31mNameError\u001b[0m                                 Traceback (most recent call last)",
      "\u001b[1;32m<ipython-input-88-10fa3c19b537>\u001b[0m in \u001b[0;36m<module>\u001b[1;34m()\u001b[0m\n\u001b[0;32m      6\u001b[0m     \u001b[0mdate\u001b[0m \u001b[1;33m=\u001b[0m \u001b[0mdt\u001b[0m\u001b[1;33m.\u001b[0m\u001b[0mstrftime\u001b[0m\u001b[1;33m(\u001b[0m\u001b[0mstr_date_fmt\u001b[0m\u001b[1;33m)\u001b[0m\u001b[1;33m\u001b[0m\u001b[0m\n\u001b[0;32m      7\u001b[0m \u001b[1;33m\u001b[0m\u001b[0m\n\u001b[1;32m----> 8\u001b[1;33m     \u001b[0mresult\u001b[0m \u001b[1;33m=\u001b[0m \u001b[0mform_optimal_portfolio\u001b[0m\u001b[1;33m(\u001b[0m\u001b[0mframes\u001b[0m\u001b[1;33m[\u001b[0m\u001b[0mdate\u001b[0m\u001b[1;33m]\u001b[0m\u001b[1;33m,\u001b[0m \u001b[0mprevious_holdings\u001b[0m\u001b[1;33m,\u001b[0m \u001b[0mrisk_aversion\u001b[0m\u001b[1;33m)\u001b[0m\u001b[1;33m\u001b[0m\u001b[0m\n\u001b[0m\u001b[0;32m      9\u001b[0m     \u001b[1;31m#trades[date] = build_tradelist(previous_holdings, result)\u001b[0m\u001b[1;33m\u001b[0m\u001b[1;33m\u001b[0m\u001b[0m\n\u001b[0;32m     10\u001b[0m     \u001b[0mport\u001b[0m\u001b[1;33m[\u001b[0m\u001b[0mdate\u001b[0m\u001b[1;33m]\u001b[0m \u001b[1;33m=\u001b[0m \u001b[0mresult\u001b[0m\u001b[1;33m\u001b[0m\u001b[0m\n",
      "\u001b[1;31mNameError\u001b[0m: name 'frames' is not defined"
     ]
    }
   ],
   "source": [
    "trades = {}\n",
    "port = {}\n",
    "\n",
    "for dt in tqdm(bkt_dates, desc='Optimizing Portfolio', unit='day'):\n",
    "    date = dt.strftime(str_date_fmt)\n",
    "    # h0 = pd.Series(index=current_alpha_vec.index, data=np.zeros(len(current_alpha_vec)))\n",
    "    result = form_optimal_portfolio(frames[date], previous_holdings, risk_aversion)\n",
    "    #trades[date] = build_tradelist(previous_holdings, result)\n",
    "    port[date] = result\n",
    "    previous_holdings = convert_to_previous(result)"
   ]
  },
  {
   "cell_type": "code",
   "execution_count": null,
   "metadata": {},
   "outputs": [],
   "source": []
  }
 ],
 "metadata": {
  "kernelspec": {
   "display_name": "Python 3",
   "language": "python",
   "name": "python3"
  },
  "language_info": {
   "codemirror_mode": {
    "name": "ipython",
    "version": 3
   },
   "file_extension": ".py",
   "mimetype": "text/x-python",
   "name": "python",
   "nbconvert_exporter": "python",
   "pygments_lexer": "ipython3",
   "version": "3.5.6"
  },
  "toc-autonumbering": true,
  "varInspector": {
   "cols": {
    "lenName": 16,
    "lenType": 16,
    "lenVar": 40
   },
   "kernels_config": {
    "python": {
     "delete_cmd_postfix": "",
     "delete_cmd_prefix": "del ",
     "library": "var_list.py",
     "varRefreshCmd": "print(var_dic_list())"
    },
    "r": {
     "delete_cmd_postfix": ") ",
     "delete_cmd_prefix": "rm(",
     "library": "var_list.r",
     "varRefreshCmd": "cat(var_dic_list()) "
    }
   },
   "types_to_exclude": [
    "module",
    "function",
    "builtin_function_or_method",
    "instance",
    "_Feature"
   ],
   "window_display": false
  }
 },
 "nbformat": 4,
 "nbformat_minor": 4
}
