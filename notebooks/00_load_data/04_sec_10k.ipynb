{
 "cells": [
  {
   "cell_type": "markdown",
   "metadata": {},
   "source": [
    "<font size=\"6\"> **Donwload SEC 10-K Fillings** </font>"
   ]
  },
  {
   "cell_type": "code",
   "execution_count": 1,
   "metadata": {},
   "outputs": [],
   "source": [
    "%load_ext autoreload\n",
    "%autoreload 2"
   ]
  },
  {
   "cell_type": "code",
   "execution_count": 2,
   "metadata": {},
   "outputs": [],
   "source": [
    "%run ../nb_config.py"
   ]
  },
  {
   "cell_type": "code",
   "execution_count": 141,
   "metadata": {},
   "outputs": [],
   "source": [
    "import os\n",
    "import numpy as np\n",
    "import pandas as pd\n",
    "import datetime as dt\n",
    "import scipy\n",
    "import pickle\n",
    "import pprint\n",
    "from tqdm import tqdm\n",
    "\n",
    "from src import utils\n",
    "from src.load_data import load_sec10k, io_utils\n",
    "from src.nlp_quant import parse_sec_fillings"
   ]
  },
  {
   "cell_type": "code",
   "execution_count": 4,
   "metadata": {},
   "outputs": [],
   "source": [
    "cfg = utils.read_conf()"
   ]
  },
  {
   "cell_type": "code",
   "execution_count": 76,
   "metadata": {},
   "outputs": [
    {
     "data": {
      "text/plain": [
       "(True, True, True)"
      ]
     },
     "execution_count": 76,
     "metadata": {},
     "output_type": "execute_result"
    }
   ],
   "source": [
    "INPATH =  os.path.join(io_utils.interim_path, '')\n",
    "OUTPATH1 = os.path.join(io_utils.raw_path, 'sec_fillings', '')\n",
    "OUTPATH2 = os.path.join(OUTPATH1, 'ten_ks', '')\n",
    "OUTPATH3 = os.path.join(io_utils.interim_path, 'sec_fillings', '')\n",
    "OUTPATH4 = os.path.join(OUTPATH3, 'ten_ks', '')\n",
    "os.path.isdir(INPATH), os.path.isdir(OUTPATH2), os.path.isdir(OUTPATH4)"
   ]
  },
  {
   "cell_type": "code",
   "execution_count": 6,
   "metadata": {},
   "outputs": [],
   "source": [
    "INFILE1 = cfg['output']['interim']['sector_factors']\n",
    "OUTFILE1 = 'metadata.pkl'\n",
    "OUTFILE2 = 'sec_10k.pkl'"
   ]
  },
  {
   "cell_type": "markdown",
   "metadata": {},
   "source": [
    "# Get target tickers"
   ]
  },
  {
   "cell_type": "code",
   "execution_count": 9,
   "metadata": {},
   "outputs": [
    {
     "data": {
      "text/html": [
       "<div>\n",
       "<style scoped>\n",
       "    .dataframe tbody tr th:only-of-type {\n",
       "        vertical-align: middle;\n",
       "    }\n",
       "\n",
       "    .dataframe tbody tr th {\n",
       "        vertical-align: top;\n",
       "    }\n",
       "\n",
       "    .dataframe thead th {\n",
       "        text-align: right;\n",
       "    }\n",
       "</style>\n",
       "<table border=\"1\" class=\"dataframe\">\n",
       "  <thead>\n",
       "    <tr style=\"text-align: right;\">\n",
       "      <th></th>\n",
       "      <th>cik</th>\n",
       "    </tr>\n",
       "    <tr>\n",
       "      <th>ticker</th>\n",
       "      <th></th>\n",
       "    </tr>\n",
       "  </thead>\n",
       "  <tbody>\n",
       "    <tr>\n",
       "      <th>AAPL</th>\n",
       "      <td>0000320193</td>\n",
       "    </tr>\n",
       "    <tr>\n",
       "      <th>MSFT</th>\n",
       "      <td>0000789019</td>\n",
       "    </tr>\n",
       "  </tbody>\n",
       "</table>\n",
       "</div>"
      ],
      "text/plain": [
       "               cik\n",
       "ticker            \n",
       "AAPL    0000320193\n",
       "MSFT    0000789019"
      ]
     },
     "execution_count": 9,
     "metadata": {},
     "output_type": "execute_result"
    }
   ],
   "source": [
    "tickers_to_cik = load_sec10k.get_cik_mapping().set_index('ticker')\n",
    "tickers_to_cik.head(2)"
   ]
  },
  {
   "cell_type": "code",
   "execution_count": 10,
   "metadata": {},
   "outputs": [
    {
     "data": {
      "text/html": [
       "<div>\n",
       "<style scoped>\n",
       "    .dataframe tbody tr th:only-of-type {\n",
       "        vertical-align: middle;\n",
       "    }\n",
       "\n",
       "    .dataframe tbody tr th {\n",
       "        vertical-align: top;\n",
       "    }\n",
       "\n",
       "    .dataframe thead th {\n",
       "        text-align: right;\n",
       "    }\n",
       "</style>\n",
       "<table border=\"1\" class=\"dataframe\">\n",
       "  <thead>\n",
       "    <tr style=\"text-align: right;\">\n",
       "      <th></th>\n",
       "      <th>sector_code</th>\n",
       "    </tr>\n",
       "    <tr>\n",
       "      <th>ticker</th>\n",
       "      <th></th>\n",
       "    </tr>\n",
       "  </thead>\n",
       "  <tbody>\n",
       "    <tr>\n",
       "      <th>A</th>\n",
       "      <td>0</td>\n",
       "    </tr>\n",
       "    <tr>\n",
       "      <th>AAL</th>\n",
       "      <td>3</td>\n",
       "    </tr>\n",
       "  </tbody>\n",
       "</table>\n",
       "</div>"
      ],
      "text/plain": [
       "        sector_code\n",
       "ticker             \n",
       "A                 0\n",
       "AAL               3"
      ]
     },
     "execution_count": 10,
     "metadata": {},
     "output_type": "execute_result"
    }
   ],
   "source": [
    "tickers_univ = pd.read_csv(INPATH + INFILE1, parse_dates=['date'])\n",
    "tickers_univ = tickers_univ[['asset', 'sector_code']].drop_duplicates().rename(columns={'asset': 'ticker'}).set_index('ticker')\n",
    "tickers_univ.head(2)"
   ]
  },
  {
   "cell_type": "code",
   "execution_count": 11,
   "metadata": {},
   "outputs": [],
   "source": [
    "cik_lookup_df = tickers_univ.join(tickers_to_cik)\n"
   ]
  },
  {
   "cell_type": "code",
   "execution_count": 12,
   "metadata": {},
   "outputs": [
    {
     "data": {
      "text/plain": [
       "(32, 2)"
      ]
     },
     "execution_count": 12,
     "metadata": {},
     "output_type": "execute_result"
    }
   ],
   "source": [
    "cik_lookup_nans = cik_lookup_df[cik_lookup_df['cik'].isna()]\n",
    "cik_lookup_nans.shape"
   ]
  },
  {
   "cell_type": "code",
   "execution_count": 13,
   "metadata": {},
   "outputs": [
    {
     "data": {
      "text/html": [
       "<div>\n",
       "<style scoped>\n",
       "    .dataframe tbody tr th:only-of-type {\n",
       "        vertical-align: middle;\n",
       "    }\n",
       "\n",
       "    .dataframe tbody tr th {\n",
       "        vertical-align: top;\n",
       "    }\n",
       "\n",
       "    .dataframe thead th {\n",
       "        text-align: right;\n",
       "    }\n",
       "</style>\n",
       "<table border=\"1\" class=\"dataframe\">\n",
       "  <thead>\n",
       "    <tr style=\"text-align: right;\">\n",
       "      <th></th>\n",
       "      <th>sector_code</th>\n",
       "      <th>cik</th>\n",
       "    </tr>\n",
       "    <tr>\n",
       "      <th>ticker</th>\n",
       "      <th></th>\n",
       "      <th></th>\n",
       "    </tr>\n",
       "  </thead>\n",
       "  <tbody>\n",
       "    <tr>\n",
       "      <th>TWX</th>\n",
       "      <td>8</td>\n",
       "      <td>NaN</td>\n",
       "    </tr>\n",
       "    <tr>\n",
       "      <th>GGP</th>\n",
       "      <td>6</td>\n",
       "      <td>NaN</td>\n",
       "    </tr>\n",
       "    <tr>\n",
       "      <th>SPLS</th>\n",
       "      <td>8</td>\n",
       "      <td>NaN</td>\n",
       "    </tr>\n",
       "    <tr>\n",
       "      <th>APC</th>\n",
       "      <td>9</td>\n",
       "      <td>NaN</td>\n",
       "    </tr>\n",
       "    <tr>\n",
       "      <th>PX</th>\n",
       "      <td>10</td>\n",
       "      <td>NaN</td>\n",
       "    </tr>\n",
       "  </tbody>\n",
       "</table>\n",
       "</div>"
      ],
      "text/plain": [
       "        sector_code  cik\n",
       "ticker                  \n",
       "TWX               8  NaN\n",
       "GGP               6  NaN\n",
       "SPLS              8  NaN\n",
       "APC               9  NaN\n",
       "PX               10  NaN"
      ]
     },
     "execution_count": 13,
     "metadata": {},
     "output_type": "execute_result"
    }
   ],
   "source": [
    "cik_lookup_nans.sample(5)"
   ]
  },
  {
   "cell_type": "code",
   "execution_count": 14,
   "metadata": {},
   "outputs": [
    {
     "data": {
      "text/plain": [
       "458"
      ]
     },
     "execution_count": 14,
     "metadata": {},
     "output_type": "execute_result"
    }
   ],
   "source": [
    "cik_lookup = cik_lookup_df['cik'].dropna().to_dict()\n",
    "len(cik_lookup)"
   ]
  },
  {
   "cell_type": "markdown",
   "metadata": {},
   "source": [
    "# Get 10ks\n",
    "We'll be running NLP analysis on 10-k documents. To do that, we first need to download the documents. For this project, we'll download 10-ks for a few companies. To lookup documents for these companies, we'll use their CIK. If you would like to run this against other stocks, we've provided the dict `additional_cik` for more stocks. However, the more stocks you try, the long it will take to run."
   ]
  },
  {
   "cell_type": "code",
   "execution_count": 43,
   "metadata": {},
   "outputs": [],
   "source": [
    "DOC_TYPE = '10-K'\n",
    "START_DT = '1998-01-01'"
   ]
  },
  {
   "cell_type": "code",
   "execution_count": 20,
   "metadata": {},
   "outputs": [],
   "source": [
    "example_ticker = 'AMZN'"
   ]
  },
  {
   "cell_type": "markdown",
   "metadata": {},
   "source": [
    "## Get list of 10-ks urls\n",
    "The SEC has a limit on the number of calls that can be made to the website per second. The `SecAPI` class, will cache data from the SEC and prevent you from going over the limit."
   ]
  },
  {
   "cell_type": "code",
   "execution_count": 16,
   "metadata": {},
   "outputs": [],
   "source": [
    "sec_api = load_sec10k.SecAPI()"
   ]
  },
  {
   "cell_type": "markdown",
   "metadata": {},
   "source": [
    "With the class constructed, let's pull a list of filled 10-ks from the SEC for each company."
   ]
  },
  {
   "cell_type": "markdown",
   "metadata": {},
   "source": [
    "Let's pull the list using the `get_sec_data` function, then display some of the results. For displaying some of the data, we'll use Amazon as an example. "
   ]
  },
  {
   "cell_type": "code",
   "execution_count": null,
   "metadata": {},
   "outputs": [],
   "source": []
  },
  {
   "cell_type": "code",
   "execution_count": 65,
   "metadata": {},
   "outputs": [],
   "source": [
    "sec_data = {}\n",
    "sec_dates = {}\n",
    "for ticker, cik in cik_lookup.items():\n",
    "    sec_data[ticker] = load_sec10k.get_sec_data(sec_api=sec_api, cik=cik, doc_type=DOC_TYPE)\n",
    "    sec_dates[ticker] = [x[2] for x in sec_data[ticker]]"
   ]
  },
  {
   "cell_type": "code",
   "execution_count": 66,
   "metadata": {},
   "outputs": [
    {
     "data": {
      "text/plain": [
       "['2020-01-31',\n",
       " '2019-02-01',\n",
       " '2018-02-02',\n",
       " '2017-02-10',\n",
       " '2016-01-29',\n",
       " '2015-01-30',\n",
       " '2014-01-31',\n",
       " '2013-01-30',\n",
       " '2012-02-01',\n",
       " '2011-02-28',\n",
       " '2011-01-28',\n",
       " '2010-01-29',\n",
       " '2009-01-30',\n",
       " '2008-02-11',\n",
       " '2007-02-16',\n",
       " '2006-02-17',\n",
       " '2005-03-11',\n",
       " '2004-02-25',\n",
       " '2003-02-19',\n",
       " '2002-01-24',\n",
       " '2001-03-23',\n",
       " '2000-09-08',\n",
       " '2000-03-29',\n",
       " '1999-03-05',\n",
       " '1998-03-30']"
      ]
     },
     "execution_count": 66,
     "metadata": {},
     "output_type": "execute_result"
    }
   ],
   "source": [
    "sec_dates[example_ticker]"
   ]
  },
  {
   "cell_type": "code",
   "execution_count": 67,
   "metadata": {},
   "outputs": [
    {
     "name": "stdout",
     "output_type": "stream",
     "text": [
      "[('https://www.sec.gov/Archives/edgar/data/1018724/000101872420000004/0001018724-20-000004-index.htm',\n",
      "  '10-K',\n",
      "  '2020-01-31'),\n",
      " ('https://www.sec.gov/Archives/edgar/data/1018724/000101872419000004/0001018724-19-000004-index.htm',\n",
      "  '10-K',\n",
      "  '2019-02-01'),\n",
      " ('https://www.sec.gov/Archives/edgar/data/1018724/000101872418000005/0001018724-18-000005-index.htm',\n",
      "  '10-K',\n",
      "  '2018-02-02'),\n",
      " ('https://www.sec.gov/Archives/edgar/data/1018724/000101872417000011/0001018724-17-000011-index.htm',\n",
      "  '10-K',\n",
      "  '2017-02-10'),\n",
      " ('https://www.sec.gov/Archives/edgar/data/1018724/000101872416000172/0001018724-16-000172-index.htm',\n",
      "  '10-K',\n",
      "  '2016-01-29')]\n"
     ]
    }
   ],
   "source": [
    "pprint.pprint(sec_data[example_ticker][:5])"
   ]
  },
  {
   "cell_type": "code",
   "execution_count": 68,
   "metadata": {},
   "outputs": [
    {
     "data": {
      "text/plain": [
       "458"
      ]
     },
     "execution_count": 68,
     "metadata": {},
     "output_type": "execute_result"
    }
   ],
   "source": [
    "len(sec_data)"
   ]
  },
  {
   "cell_type": "markdown",
   "metadata": {},
   "source": [
    "## Download 10-ks\n",
    "As you see, this is a list of urls. These urls point to a file that contains metadata related to each filling. Since we don't care about the metadata, we'll pull the filling by replacing the url with the filling url."
   ]
  },
  {
   "cell_type": "code",
   "execution_count": 69,
   "metadata": {},
   "outputs": [
    {
     "name": "stderr",
     "output_type": "stream",
     "text": [
      "Downloading A Fillings: 100%|██████████| 22/22 [00:13<00:00,  1.57filling/s]\n",
      "Downloading AAL Fillings: 100%|██████████| 31/31 [00:13<00:00,  2.33filling/s]\n",
      "Downloading AAP Fillings: 100%|██████████| 19/19 [00:13<00:00,  1.45filling/s]\n",
      "Downloading AAPL Fillings: 100%|██████████| 28/28 [00:09<00:00,  2.83filling/s]\n",
      "Downloading ABBV Fillings: 100%|██████████| 9/9 [00:04<00:00,  1.95filling/s]\n",
      "Downloading ABC Fillings: 100%|██████████| 20/20 [00:08<00:00,  2.36filling/s]\n",
      "Downloading ABT Fillings: 100%|██████████| 28/28 [00:10<00:00,  2.66filling/s]\n",
      "Downloading ACN Fillings: 100%|██████████| 12/12 [00:05<00:00,  2.36filling/s]\n",
      "Downloading ADBE Fillings: 100%|██████████| 29/29 [00:12<00:00,  2.40filling/s]\n",
      "Downloading ADI Fillings: 100%|██████████| 26/26 [00:12<00:00,  2.15filling/s]\n",
      "Downloading ADM Fillings: 100%|██████████| 32/32 [00:13<00:00,  2.29filling/s]\n",
      "Downloading ADP Fillings: 100%|██████████| 27/27 [00:11<00:00,  2.31filling/s]\n",
      "Downloading ADS Fillings: 100%|██████████| 20/20 [00:11<00:00,  1.81filling/s]\n",
      "Downloading ADSK Fillings: 100%|██████████| 29/29 [00:10<00:00,  2.74filling/s]\n",
      "Downloading AEE Fillings: 100%|██████████| 24/24 [00:13<00:00,  1.84filling/s]\n",
      "Downloading AEP Fillings: 100%|██████████| 29/29 [00:25<00:00,  1.16filling/s]\n",
      "Downloading AES Fillings: 100%|██████████| 28/28 [00:14<00:00,  2.00filling/s]\n",
      "Downloading AET Fillings: 100%|██████████| 18/18 [00:07<00:00,  2.44filling/s]\n",
      "Downloading AFL Fillings: 100%|██████████| 27/27 [00:15<00:00,  1.70filling/s]\n",
      "Downloading AGN Fillings: 100%|██████████| 9/9 [00:06<00:00,  1.30filling/s]\n",
      "Downloading AIG Fillings: 100%|██████████| 39/39 [00:17<00:00,  2.20filling/s]\n",
      "Downloading AIV Fillings: 100%|██████████| 26/26 [00:10<00:00,  2.55filling/s]\n",
      "Downloading AIZ Fillings: 100%|██████████| 18/18 [00:09<00:00,  1.89filling/s]\n",
      "Downloading AJG Fillings: 100%|██████████| 27/27 [00:09<00:00,  2.80filling/s]\n",
      "Downloading AKAM Fillings: 100%|██████████| 22/22 [00:07<00:00,  3.01filling/s]\n",
      "Downloading ALB Fillings: 100%|██████████| 27/27 [00:09<00:00,  2.70filling/s]\n",
      "Downloading ALGN Fillings: 100%|██████████| 23/23 [00:07<00:00,  2.92filling/s]\n",
      "Downloading ALK Fillings: 100%|██████████| 30/30 [00:09<00:00,  3.16filling/s]\n",
      "Downloading ALL Fillings: 100%|██████████| 26/26 [00:12<00:00,  2.03filling/s]\n",
      "Downloading ALLE Fillings: 100%|██████████| 7/7 [00:04<00:00,  1.53filling/s]\n",
      "Downloading ALXN Fillings: 100%|██████████| 32/32 [00:09<00:00,  3.28filling/s]\n",
      "Downloading AMAT Fillings: 100%|██████████| 27/27 [00:08<00:00,  3.09filling/s]\n",
      "Downloading AMD Fillings: 100%|██████████| 40/40 [00:09<00:00,  4.11filling/s]\n",
      "Downloading AME Fillings: 100%|██████████| 21/21 [00:07<00:00,  2.83filling/s]\n",
      "Downloading AMG Fillings: 100%|██████████| 31/31 [00:09<00:00,  3.38filling/s]\n",
      "Downloading AMGN Fillings: 100%|██████████| 29/29 [00:10<00:00,  2.79filling/s]\n",
      "Downloading AMP Fillings: 100%|██████████| 15/15 [00:09<00:00,  1.53filling/s]\n",
      "Downloading AMT Fillings: 100%|██████████| 26/26 [00:09<00:00,  2.67filling/s]\n",
      "Downloading AMZN Fillings: 100%|██████████| 25/25 [00:06<00:00,  4.11filling/s]\n",
      "Downloading ANSS Fillings: 100%|██████████| 27/27 [00:07<00:00,  3.56filling/s]\n",
      "Downloading ANTM Fillings: 100%|██████████| 19/19 [00:09<00:00,  2.06filling/s]\n",
      "Downloading AON Fillings: 100%|██████████| 27/27 [00:10<00:00,  2.63filling/s]\n",
      "Downloading AOS Fillings: 100%|██████████| 27/27 [00:07<00:00,  3.49filling/s]\n",
      "Downloading APA Fillings: 100%|██████████| 34/34 [00:11<00:00,  2.96filling/s]\n",
      "Downloading APD Fillings: 100%|██████████| 27/27 [00:07<00:00,  3.40filling/s]\n",
      "Downloading APH Fillings: 100%|██████████| 31/31 [00:10<00:00,  3.09filling/s]\n",
      "Downloading ARE Fillings: 100%|██████████| 23/23 [00:20<00:00,  1.14filling/s]\n",
      "Downloading ARNC Fillings: 100%|██████████| 1/1 [00:00<00:00,  2.19filling/s]\n",
      "Downloading ATVI Fillings: 100%|██████████| 29/29 [00:09<00:00,  2.90filling/s]\n",
      "Downloading AVB Fillings: 100%|██████████| 28/28 [00:08<00:00,  3.13filling/s]\n",
      "Downloading AVGO Fillings: 100%|██████████| 2/2 [00:01<00:00,  1.57filling/s]\n",
      "Downloading AVY Fillings: 100%|██████████| 28/28 [00:08<00:00,  3.12filling/s]\n",
      "Downloading AWK Fillings: 100%|██████████| 13/13 [00:06<00:00,  2.05filling/s]\n",
      "Downloading AXP Fillings: 100%|██████████| 31/31 [00:10<00:00,  2.98filling/s]\n",
      "Downloading AYI Fillings: 100%|██████████| 18/18 [00:08<00:00,  2.22filling/s]\n",
      "Downloading AZO Fillings: 100%|██████████| 30/30 [00:08<00:00,  3.63filling/s]\n",
      "Downloading BA Fillings: 100%|██████████| 29/29 [00:11<00:00,  2.52filling/s]\n",
      "Downloading BAC Fillings: 100%|██████████| 28/28 [00:19<00:00,  1.44filling/s]\n",
      "Downloading BAX Fillings: 100%|██████████| 30/30 [00:10<00:00,  2.93filling/s]\n",
      "Downloading BBY Fillings: 100%|██████████| 29/29 [00:08<00:00,  3.32filling/s]\n",
      "Downloading BCR Fillings: 100%|██████████| 34/34 [00:08<00:00,  4.19filling/s]\n",
      "Downloading BDX Fillings: 100%|██████████| 29/29 [00:08<00:00,  3.60filling/s]\n",
      "Downloading BEN Fillings: 100%|██████████| 29/29 [00:10<00:00,  2.71filling/s]\n",
      "Downloading BIIB Fillings: 100%|██████████| 28/28 [00:08<00:00,  3.14filling/s]\n",
      "Downloading BK Fillings: 100%|██████████| 15/15 [00:07<00:00,  2.00filling/s]\n",
      "Downloading BLK Fillings: 100%|██████████| 14/14 [00:07<00:00,  1.78filling/s]\n",
      "Downloading BLL Fillings: 100%|██████████| 30/30 [00:13<00:00,  2.25filling/s]\n",
      "Downloading BMY Fillings: 100%|██████████| 30/30 [00:08<00:00,  3.64filling/s]\n",
      "Downloading BSX Fillings: 100%|██████████| 29/29 [00:09<00:00,  3.13filling/s]\n",
      "Downloading BWA Fillings: 100%|██████████| 35/35 [00:10<00:00,  3.46filling/s]\n",
      "Downloading BXP Fillings: 100%|██████████| 24/24 [00:09<00:00,  2.51filling/s]\n",
      "Downloading C Fillings: 100%|██████████| 38/38 [00:15<00:00,  2.41filling/s]\n",
      "Downloading CA Fillings: 100%|██████████| 27/27 [00:09<00:00,  2.90filling/s]\n",
      "Downloading CAG Fillings: 100%|██████████| 30/30 [00:11<00:00,  2.67filling/s]\n",
      "Downloading CAH Fillings: 100%|██████████| 31/31 [00:10<00:00,  2.89filling/s]\n",
      "Downloading CAT Fillings: 100%|██████████| 40/40 [00:11<00:00,  3.44filling/s]\n",
      "Downloading CB Fillings: 100%|██████████| 29/29 [00:13<00:00,  2.15filling/s]\n",
      "Downloading CBOE Fillings: 100%|██████████| 11/11 [00:04<00:00,  2.40filling/s]\n",
      "Downloading CBS Fillings: 100%|██████████| 29/29 [00:11<00:00,  2.59filling/s]\n",
      "Downloading CCI Fillings: 100%|██████████| 27/27 [00:08<00:00,  3.04filling/s]\n",
      "Downloading CCL Fillings: 100%|██████████| 32/32 [00:10<00:00,  2.91filling/s]\n",
      "Downloading CERN Fillings: 100%|██████████| 26/26 [00:09<00:00,  2.67filling/s]\n",
      "Downloading CF Fillings: 100%|██████████| 15/15 [00:08<00:00,  1.85filling/s]\n",
      "Downloading CFG Fillings: 100%|██████████| 7/7 [00:04<00:00,  1.43filling/s]\n",
      "Downloading CHD Fillings: 100%|██████████| 27/27 [00:09<00:00,  2.81filling/s]\n",
      "Downloading CHRW Fillings: 100%|██████████| 23/23 [00:21<00:00,  1.05filling/s]\n",
      "Downloading CHTR Fillings: 100%|██████████| 22/22 [00:44<00:00,  2.02s/filling]\n",
      "Downloading CI Fillings: 100%|██████████| 2/2 [00:08<00:00,  4.16s/filling]\n",
      "Downloading CINF Fillings: 100%|██████████| 28/28 [00:50<00:00,  1.79s/filling]\n",
      "Downloading CL Fillings: 100%|██████████| 28/28 [00:36<00:00,  1.29s/filling]\n",
      "Downloading CLX Fillings: 100%|██████████| 30/30 [00:29<00:00,  1.00filling/s]\n",
      "Downloading CMA Fillings: 100%|██████████| 27/27 [00:52<00:00,  1.93s/filling]\n",
      "Downloading CMCSA Fillings: 100%|██████████| 18/18 [00:40<00:00,  2.27s/filling]\n",
      "Downloading CME Fillings: 100%|██████████| 21/21 [00:29<00:00,  1.39s/filling]\n",
      "Downloading CMG Fillings: 100%|██████████| 15/15 [00:17<00:00,  1.20s/filling]\n",
      "Downloading CMI Fillings: 100%|██████████| 32/32 [00:45<00:00,  1.43s/filling]\n",
      "Downloading CMS Fillings: 100%|██████████| 33/33 [01:08<00:00,  2.09s/filling]\n",
      "Downloading CNC Fillings: 100%|██████████| 20/20 [00:33<00:00,  1.66s/filling]\n",
      "Downloading CNP Fillings: 100%|██████████| 22/22 [00:40<00:00,  1.85s/filling]\n",
      "Downloading COF Fillings: 100%|██████████| 30/30 [01:08<00:00,  2.30s/filling]\n",
      "Downloading COG Fillings: 100%|██████████| 37/37 [00:34<00:00,  1.08filling/s]\n",
      "Downloading COO Fillings: 100%|██████████| 33/33 [00:27<00:00,  1.20filling/s]\n",
      "Downloading COP Fillings: 100%|██████████| 21/21 [00:45<00:00,  2.18s/filling]\n",
      "Downloading COST Fillings: 100%|██████████| 31/31 [00:23<00:00,  1.33filling/s]\n",
      "Downloading COTY Fillings: 100%|██████████| 8/8 [00:23<00:00,  2.92s/filling]\n",
      "Downloading CPB Fillings: 100%|██████████| 29/29 [00:33<00:00,  1.15s/filling]\n",
      "Downloading CRM Fillings: 100%|██████████| 17/17 [00:26<00:00,  1.58s/filling]\n",
      "Downloading CSCO Fillings: 100%|██████████| 28/28 [00:40<00:00,  1.45s/filling]\n",
      "Downloading CSX Fillings: 100%|██████████| 28/28 [00:37<00:00,  1.34s/filling]\n",
      "Downloading CTAS Fillings: 100%|██████████| 30/30 [00:36<00:00,  1.21s/filling]\n",
      "Downloading CTL Fillings: 100%|██████████| 28/28 [00:37<00:00,  1.34s/filling]\n",
      "Downloading CTSH Fillings: 100%|██████████| 22/22 [00:30<00:00,  1.40s/filling]\n",
      "Downloading CTXS Fillings: 100%|██████████| 27/27 [00:33<00:00,  1.23s/filling]\n",
      "Downloading CVS Fillings: 100%|██████████| 29/29 [00:27<00:00,  1.06filling/s]\n",
      "Downloading CVX Fillings: 100%|██████████| 28/28 [00:49<00:00,  1.78s/filling]\n",
      "Downloading CXO Fillings: 100%|██████████| 13/13 [00:29<00:00,  2.30s/filling]\n",
      "Downloading D Fillings: 100%|██████████| 34/34 [00:57<00:00,  1.70s/filling]\n",
      "Downloading DAL Fillings: 100%|██████████| 32/32 [00:32<00:00,  1.01s/filling]\n",
      "Downloading DE Fillings: 100%|██████████| 32/32 [00:44<00:00,  1.39s/filling]\n",
      "Downloading DFS Fillings: 100%|██████████| 14/14 [00:42<00:00,  3.02s/filling]\n",
      "Downloading DG Fillings: 100%|██████████| 29/29 [00:29<00:00,  1.03s/filling]\n",
      "Downloading DGX Fillings: 100%|██████████| 26/26 [00:34<00:00,  1.33s/filling]\n",
      "Downloading DHI Fillings: 100%|██████████| 24/24 [00:34<00:00,  1.42s/filling]\n",
      "Downloading DHR Fillings: 100%|██████████| 32/32 [00:32<00:00,  1.02s/filling]\n",
      "Downloading DIS Fillings: 100%|██████████| 1/1 [00:03<00:00,  3.54s/filling]\n",
      "Downloading DISCA Fillings: 100%|██████████| 13/13 [00:38<00:00,  2.97s/filling]\n",
      "Downloading DISCK Fillings: 100%|██████████| 13/13 [00:35<00:00,  2.70s/filling]\n",
      "Downloading DISH Fillings: 100%|██████████| 33/33 [00:40<00:00,  1.22s/filling]\n",
      "Downloading DLR Fillings: 100%|██████████| 20/20 [00:46<00:00,  2.34s/filling]\n",
      "Downloading DLTR Fillings: 100%|██████████| 28/28 [00:31<00:00,  1.11s/filling]\n",
      "Downloading DOV Fillings: 100%|██████████| 38/38 [00:38<00:00,  1.02s/filling]\n",
      "Downloading DRE Fillings: 100%|██████████| 28/28 [01:02<00:00,  2.25s/filling]\n",
      "Downloading DRI Fillings: 100%|██████████| 29/29 [00:28<00:00,  1.00filling/s]\n",
      "Downloading DTE Fillings: 100%|██████████| 27/27 [00:44<00:00,  1.64s/filling]\n",
      "Downloading DUK Fillings: 100%|██████████| 17/17 [01:28<00:00,  5.22s/filling]\n",
      "Downloading DVA Fillings: 100%|██████████| 31/31 [00:38<00:00,  1.25s/filling]\n",
      "Downloading DVN Fillings: 100%|██████████| 24/24 [00:43<00:00,  1.82s/filling]\n",
      "Downloading EA Fillings: 100%|██████████| 28/28 [00:35<00:00,  1.25s/filling]\n",
      "Downloading EBAY Fillings: 100%|██████████| 25/25 [00:33<00:00,  1.35s/filling]\n",
      "Downloading ECL Fillings: 100%|██████████| 28/28 [00:39<00:00,  1.42s/filling]\n",
      "Downloading ED Fillings: 100%|██████████| 23/23 [00:49<00:00,  2.15s/filling]\n",
      "Downloading EFX Fillings: 100%|██████████| 32/32 [00:32<00:00,  1.03s/filling]\n",
      "Downloading EIX Fillings: 100%|██████████| 29/29 [00:49<00:00,  1.71s/filling]\n",
      "Downloading EL Fillings: 100%|██████████| 25/25 [00:41<00:00,  1.65s/filling]\n",
      "Downloading EMN Fillings: 100%|██████████| 27/27 [00:39<00:00,  1.45s/filling]\n",
      "Downloading EMR Fillings: 100%|██████████| 27/27 [00:26<00:00,  1.04filling/s]\n",
      "Downloading EOG Fillings: 100%|██████████| 28/28 [00:40<00:00,  1.44s/filling]\n",
      "Downloading EQIX Fillings: 100%|██████████| 21/21 [00:36<00:00,  1.76s/filling]\n",
      "Downloading EQR Fillings: 100%|██████████| 27/27 [01:18<00:00,  2.90s/filling]\n",
      "Downloading EQT Fillings: 100%|██████████| 32/32 [00:43<00:00,  1.36s/filling]\n",
      "Downloading ES Fillings: 100%|██████████| 31/31 [01:00<00:00,  1.95s/filling]\n",
      "Downloading ESS Fillings: 100%|██████████| 26/26 [00:42<00:00,  1.65s/filling]\n",
      "Downloading ETFC Fillings: 100%|██████████| 30/30 [00:47<00:00,  1.59s/filling]\n",
      "Downloading ETN Fillings: 100%|██████████| 8/8 [00:22<00:00,  2.86s/filling]\n",
      "Downloading ETR Fillings: 100%|██████████| 29/29 [01:25<00:00,  2.95s/filling]\n",
      "Downloading EW Fillings: 100%|██████████| 21/21 [00:08<00:00,  2.34filling/s]\n",
      "Downloading EXC Fillings: 100%|██████████| 24/24 [00:17<00:00,  1.38filling/s]\n",
      "Downloading EXPD Fillings: 100%|██████████| 25/25 [00:07<00:00,  3.44filling/s]\n",
      "Downloading EXPE Fillings: 100%|██████████| 20/20 [00:06<00:00,  3.16filling/s]\n",
      "Downloading EXR Fillings: 100%|██████████| 17/17 [00:07<00:00,  2.25filling/s]\n",
      "Downloading F Fillings: 100%|██████████| 32/32 [00:15<00:00,  2.07filling/s]\n",
      "Downloading FAST Fillings: 100%|██████████| 27/27 [00:09<00:00,  2.71filling/s]\n",
      "Downloading FB Fillings: 100%|██████████| 10/10 [00:03<00:00,  2.98filling/s]\n",
      "Downloading FBHS Fillings: 100%|██████████| 9/9 [00:03<00:00,  2.26filling/s]\n",
      "Downloading FCX Fillings: 100%|██████████| 33/33 [00:13<00:00,  2.37filling/s]\n",
      "Downloading FDX Fillings: 100%|██████████| 27/27 [00:10<00:00,  2.67filling/s]\n",
      "Downloading FE Fillings: 100%|██████████| 32/32 [00:12<00:00,  2.59filling/s]\n",
      "Downloading FFIV Fillings: 100%|██████████| 26/26 [00:07<00:00,  3.65filling/s]\n",
      "Downloading FIS Fillings: 100%|██████████| 22/22 [00:08<00:00,  2.46filling/s]\n",
      "Downloading FISV Fillings: 100%|██████████| 26/26 [00:07<00:00,  3.31filling/s]\n",
      "Downloading FITB Fillings: 100%|██████████| 32/32 [00:13<00:00,  2.35filling/s]\n",
      "Downloading FL Fillings: 100%|██████████| 25/25 [00:06<00:00,  3.65filling/s]\n",
      "Downloading FLIR Fillings: 100%|██████████| 26/26 [00:07<00:00,  3.67filling/s]\n",
      "Downloading FLR Fillings: 100%|██████████| 22/22 [00:08<00:00,  2.63filling/s]\n",
      "Downloading FLS Fillings: 100%|██████████| 29/29 [00:07<00:00,  3.84filling/s]\n",
      "Downloading FMC Fillings: 100%|██████████| 32/32 [00:10<00:00,  2.96filling/s]\n",
      "Downloading FOX Fillings: 100%|██████████| 2/2 [00:01<00:00,  1.59filling/s]\n",
      "Downloading FOXA Fillings: 100%|██████████| 2/2 [00:00<00:00,  3.17filling/s]\n",
      "Downloading FRT Fillings: 100%|██████████| 32/32 [00:08<00:00,  3.88filling/s]\n",
      "Downloading FTI Fillings: 100%|██████████| 4/4 [00:01<00:00,  2.35filling/s]\n",
      "Downloading GD Fillings: 100%|██████████| 36/36 [00:09<00:00,  3.70filling/s]\n",
      "Downloading GE Fillings: 100%|██████████| 29/29 [00:12<00:00,  2.26filling/s]\n",
      "Downloading GILD Fillings: 100%|██████████| 28/28 [00:08<00:00,  3.46filling/s]\n",
      "Downloading GIS Fillings: 100%|██████████| 31/31 [00:08<00:00,  3.57filling/s]\n",
      "Downloading GLW Fillings: 100%|██████████| 33/33 [00:11<00:00,  2.81filling/s]\n",
      "Downloading GM Fillings: 100%|██████████| 11/11 [00:07<00:00,  1.51filling/s]\n",
      "Downloading GOOG Fillings: 100%|██████████| 7/7 [00:02<00:00,  2.76filling/s]\n",
      "Downloading GPC Fillings: 100%|██████████| 28/28 [00:13<00:00,  2.02filling/s]\n",
      "Downloading GPN Fillings: 100%|██████████| 21/21 [00:13<00:00,  1.57filling/s]\n",
      "Downloading GPS Fillings: 100%|██████████| 28/28 [00:15<00:00,  1.80filling/s]\n",
      "Downloading GRMN Fillings: 100%|██████████| 21/21 [00:12<00:00,  1.71filling/s]\n",
      "Downloading GS Fillings: 100%|██████████| 23/23 [00:23<00:00,  1.01s/filling]\n",
      "Downloading GT Fillings: 100%|██████████| 29/29 [00:15<00:00,  1.88filling/s]\n",
      "Downloading GWW Fillings: 100%|██████████| 27/27 [00:08<00:00,  3.08filling/s]\n",
      "Downloading HAL Fillings: 100%|██████████| 33/33 [00:16<00:00,  2.00filling/s]\n",
      "Downloading HAS Fillings: 100%|██████████| 27/27 [00:13<00:00,  1.99filling/s]\n",
      "Downloading HBAN Fillings: 100%|██████████| 30/30 [00:26<00:00,  1.15filling/s]\n",
      "Downloading HBI Fillings: 100%|██████████| 16/16 [00:10<00:00,  1.55filling/s]\n",
      "Downloading HCA Fillings: 100%|██████████| 29/29 [00:09<00:00,  2.90filling/s]\n",
      "Downloading HD Fillings: 100%|██████████| 27/27 [00:08<00:00,  3.04filling/s]\n",
      "Downloading HES Fillings: 100%|██████████| 29/29 [00:11<00:00,  2.46filling/s]\n",
      "Downloading HIG Fillings: 100%|██████████| 26/26 [00:15<00:00,  1.66filling/s]\n",
      "Downloading HLT Fillings: 100%|██████████| 7/7 [00:05<00:00,  1.18filling/s]\n",
      "Downloading HOG Fillings: 100%|██████████| 29/29 [00:21<00:00,  1.37filling/s]\n",
      "Downloading HOLX Fillings: 100%|██████████| 28/28 [00:08<00:00,  3.31filling/s]\n",
      "Downloading HON Fillings: 100%|██████████| 28/28 [00:09<00:00,  3.08filling/s]\n",
      "Downloading HP Fillings: 100%|██████████| 32/32 [00:12<00:00,  2.63filling/s]\n",
      "Downloading HPE Fillings: 100%|██████████| 5/5 [00:03<00:00,  1.46filling/s]\n",
      "Downloading HPQ Fillings: 100%|██████████| 32/32 [00:11<00:00,  2.70filling/s]\n",
      "Downloading HRB Fillings: 100%|██████████| 32/32 [00:09<00:00,  3.54filling/s]\n",
      "Downloading HRL Fillings: 100%|██████████| 29/29 [00:09<00:00,  3.11filling/s]\n",
      "Downloading HSIC Fillings: 100%|██████████| 26/26 [00:09<00:00,  2.76filling/s]\n",
      "Downloading HST Fillings: 100%|██████████| 23/23 [00:11<00:00,  2.05filling/s]\n",
      "Downloading HSY Fillings: 100%|██████████| 28/28 [00:09<00:00,  2.80filling/s]\n",
      "Downloading HUM Fillings: 100%|██████████| 30/30 [00:09<00:00,  3.26filling/s]\n",
      "Downloading IBM Fillings: 100%|██████████| 27/27 [00:10<00:00,  2.66filling/s]\n",
      "Downloading ICE Fillings: 100%|██████████| 7/7 [00:04<00:00,  1.67filling/s]\n",
      "Downloading IDXX Fillings: 100%|██████████| 25/25 [00:09<00:00,  2.60filling/s]\n",
      "Downloading IFF Fillings: 100%|██████████| 26/26 [00:12<00:00,  2.12filling/s]\n",
      "Downloading ILMN Fillings: 100%|██████████| 23/23 [00:08<00:00,  2.66filling/s]\n",
      "Downloading INCY Fillings: 100%|██████████| 28/28 [00:10<00:00,  2.73filling/s]\n",
      "Downloading INFO Fillings: 100%|██████████| 5/5 [00:02<00:00,  2.10filling/s]\n",
      "Downloading INTC Fillings: 100%|██████████| 28/28 [00:33<00:00,  1.20s/filling]\n",
      "Downloading INTU Fillings: 100%|██████████| 26/26 [00:08<00:00,  2.90filling/s]\n",
      "Downloading IP Fillings: 100%|██████████| 32/32 [00:21<00:00,  1.50filling/s]\n",
      "Downloading IPG Fillings: 100%|██████████| 35/35 [00:19<00:00,  1.76filling/s]\n",
      "Downloading IR Fillings: 100%|██████████| 3/3 [00:02<00:00,  1.34filling/s]\n",
      "Downloading IRM Fillings: 100%|██████████| 25/25 [00:10<00:00,  2.31filling/s]\n",
      "Downloading ISRG Fillings: 100%|██████████| 22/22 [00:07<00:00,  2.83filling/s]\n",
      "Downloading IT Fillings: 100%|██████████| 28/28 [00:09<00:00,  3.03filling/s]\n",
      "Downloading ITW Fillings: 100%|██████████| 32/32 [00:09<00:00,  3.22filling/s]\n",
      "Downloading IVZ Fillings: 100%|██████████| 14/14 [00:07<00:00,  1.88filling/s]\n",
      "Downloading JBHT Fillings: 100%|██████████| 30/30 [00:08<00:00,  3.38filling/s]\n",
      "Downloading JCI Fillings: 100%|██████████| 33/33 [00:11<00:00,  2.99filling/s]\n",
      "Downloading JEC Fillings: 100%|██████████| 27/27 [00:08<00:00,  3.03filling/s]\n",
      "Downloading JNJ Fillings: 100%|██████████| 37/37 [00:08<00:00,  4.46filling/s]\n",
      "Downloading JNPR Fillings: 100%|██████████| 21/21 [00:09<00:00,  2.30filling/s]\n",
      "Downloading JPM Fillings: 100%|██████████| 37/37 [00:18<00:00,  1.97filling/s]\n",
      "Downloading JWN Fillings: 100%|██████████| 30/30 [00:16<00:00,  1.79filling/s]\n",
      "Downloading K Fillings: 100%|██████████| 27/27 [00:11<00:00,  2.40filling/s]\n",
      "Downloading KEY Fillings: 100%|██████████| 28/28 [00:12<00:00,  2.22filling/s]\n",
      "Downloading KHC Fillings: 100%|██████████| 5/5 [00:03<00:00,  1.50filling/s]\n",
      "Downloading KIM Fillings: 100%|██████████| 27/27 [00:11<00:00,  2.42filling/s]\n",
      "Downloading KLAC Fillings: 100%|██████████| 30/30 [00:10<00:00,  2.89filling/s]\n",
      "Downloading KMB Fillings: 100%|██████████| 28/28 [00:10<00:00,  2.68filling/s]\n",
      "Downloading KMI Fillings: 100%|██████████| 10/10 [00:07<00:00,  1.27filling/s]\n",
      "Downloading KMX Fillings: 100%|██████████| 20/20 [00:07<00:00,  2.82filling/s]\n",
      "Downloading KO Fillings: 100%|██████████| 28/28 [00:12<00:00,  2.30filling/s]\n",
      "Downloading KR Fillings: 100%|██████████| 40/40 [00:10<00:00,  3.93filling/s]\n",
      "Downloading KSS Fillings: 100%|██████████| 26/26 [00:07<00:00,  3.67filling/s]\n",
      "Downloading KSU Fillings: 100%|██████████| 35/35 [00:15<00:00,  2.31filling/s]\n",
      "Downloading L Fillings: 100%|██████████| 32/32 [00:25<00:00,  1.27filling/s]\n",
      "Downloading LB Fillings: 100%|██████████| 30/30 [00:20<00:00,  1.44filling/s]\n",
      "Downloading LEG Fillings: 100%|██████████| 27/27 [00:09<00:00,  2.87filling/s]\n",
      "Downloading LEN Fillings: 100%|██████████| 28/28 [00:11<00:00,  2.52filling/s]\n",
      "Downloading LH Fillings: 100%|██████████| 33/33 [00:08<00:00,  3.73filling/s]\n",
      "Downloading LKQ Fillings: 100%|██████████| 20/20 [00:08<00:00,  2.48filling/s]\n",
      "Downloading LLY Fillings: 100%|██████████| 28/28 [00:10<00:00,  2.74filling/s]\n",
      "Downloading LMT Fillings: 100%|██████████| 27/27 [00:11<00:00,  2.41filling/s]\n",
      "Downloading LNC Fillings: 100%|██████████| 31/31 [00:19<00:00,  1.58filling/s]\n",
      "Downloading LNT Fillings: 100%|██████████| 33/33 [00:23<00:00,  1.40filling/s]\n",
      "Downloading LOW Fillings: 100%|██████████| 34/34 [00:09<00:00,  3.74filling/s]\n",
      "Downloading LRCX Fillings: 100%|██████████| 28/28 [00:15<00:00,  1.85filling/s]\n",
      "Downloading LUV Fillings: 100%|██████████| 31/31 [00:08<00:00,  3.47filling/s]\n",
      "Downloading LYB Fillings: 100%|██████████| 10/10 [00:05<00:00,  1.70filling/s]\n",
      "Downloading M Fillings: 100%|██████████| 28/28 [00:18<00:00,  1.55filling/s]\n",
      "Downloading MA Fillings: 100%|██████████| 20/20 [00:12<00:00,  1.66filling/s]\n",
      "Downloading MAA Fillings: 100%|██████████| 28/28 [00:10<00:00,  2.68filling/s]\n",
      "Downloading MAC Fillings: 100%|██████████| 27/27 [00:11<00:00,  2.45filling/s]\n",
      "Downloading MAR Fillings: 100%|██████████| 24/24 [00:10<00:00,  2.30filling/s]\n",
      "Downloading MAS Fillings: 100%|██████████| 28/28 [00:09<00:00,  2.84filling/s]\n",
      "Downloading MAT Fillings: 100%|██████████| 30/30 [00:27<00:00,  1.09filling/s]\n",
      "Downloading MCD Fillings: 100%|██████████| 29/29 [00:22<00:00,  1.31filling/s]\n",
      "Downloading MCHP Fillings: 100%|██████████| 26/26 [00:09<00:00,  2.74filling/s]\n",
      "Downloading MCK Fillings: 100%|██████████| 30/30 [00:09<00:00,  3.15filling/s]\n",
      "Downloading MCO Fillings: 100%|██████████| 23/23 [00:08<00:00,  2.59filling/s]\n",
      "Downloading MDLZ Fillings: 100%|██████████| 21/21 [00:10<00:00,  1.91filling/s]\n",
      "Downloading MDT Fillings: 100%|██████████| 6/6 [00:05<00:00,  1.17filling/s]\n",
      "Downloading MET Fillings: 100%|██████████| 22/22 [00:39<00:00,  1.78s/filling]\n",
      "Downloading MGM Fillings: 100%|██████████| 30/30 [00:21<00:00,  1.43filling/s]\n",
      "Downloading MHK Fillings: 100%|██████████| 31/31 [00:14<00:00,  2.13filling/s]\n",
      "Downloading MKC Fillings: 100%|██████████| 40/40 [00:17<00:00,  2.32filling/s]\n",
      "Downloading MLM Fillings: 100%|██████████| 25/25 [00:08<00:00,  3.04filling/s]\n",
      "Downloading MMC Fillings: 100%|██████████| 27/27 [00:12<00:00,  2.17filling/s]\n",
      "Downloading MNST Fillings: 100%|██████████| 27/27 [00:09<00:00,  2.82filling/s]\n",
      "Downloading MO Fillings: 100%|██████████| 34/34 [00:10<00:00,  3.33filling/s]\n",
      "Downloading MOS Fillings: 100%|██████████| 17/17 [00:08<00:00,  1.91filling/s]\n",
      "Downloading MPC Fillings: 100%|██████████| 9/9 [00:05<00:00,  1.71filling/s]\n",
      "Downloading MRK Fillings: 100%|██████████| 35/35 [00:11<00:00,  3.16filling/s]\n",
      "Downloading MRO Fillings: 100%|██████████| 32/32 [00:13<00:00,  2.41filling/s]\n",
      "Downloading MS Fillings: 100%|██████████| 26/26 [00:15<00:00,  1.66filling/s]\n",
      "Downloading MSFT Fillings: 100%|██████████| 27/27 [00:17<00:00,  1.55filling/s]\n",
      "Downloading MSI Fillings: 100%|██████████| 32/32 [00:11<00:00,  2.67filling/s]\n",
      "Downloading MTB Fillings: 100%|██████████| 28/28 [00:32<00:00,  1.16s/filling]\n",
      "Downloading MTD Fillings: 100%|██████████| 24/24 [00:15<00:00,  1.51filling/s]\n",
      "Downloading MU Fillings: 100%|██████████| 28/28 [00:19<00:00,  1.45filling/s]\n",
      "Downloading MYL Fillings: 100%|██████████| 10/10 [00:05<00:00,  1.74filling/s]\n",
      "Downloading NAVI Fillings: 100%|██████████| 6/6 [00:10<00:00,  1.69s/filling]\n",
      "Downloading NBL Fillings: 100%|██████████| 36/36 [00:11<00:00,  3.11filling/s]\n",
      "Downloading NDAQ Fillings: 100%|██████████| 20/20 [00:08<00:00,  2.31filling/s]\n",
      "Downloading NEE Fillings: 100%|██████████| 29/29 [00:14<00:00,  1.98filling/s]\n",
      "Downloading NEM Fillings: 100%|██████████| 24/24 [00:12<00:00,  1.85filling/s]\n",
      "Downloading NFLX Fillings: 100%|██████████| 20/20 [00:07<00:00,  2.74filling/s]\n",
      "Downloading NI Fillings: 100%|██████████| 24/24 [00:08<00:00,  2.78filling/s]\n",
      "Downloading NKE Fillings: 100%|██████████| 29/29 [00:10<00:00,  2.83filling/s]\n",
      "Downloading NLSN Fillings: 100%|██████████| 12/12 [00:07<00:00,  1.62filling/s]\n",
      "Downloading NOC Fillings: 100%|██████████| 19/19 [00:26<00:00,  1.38s/filling]\n",
      "Downloading NOV Fillings: 100%|██████████| 33/33 [00:09<00:00,  3.36filling/s]\n",
      "Downloading NRG Fillings: 100%|██████████| 36/36 [00:15<00:00,  2.34filling/s]\n",
      "Downloading NSC Fillings: 100%|██████████| 28/28 [00:18<00:00,  1.53filling/s]\n",
      "Downloading NTAP Fillings: 100%|██████████| 29/29 [00:13<00:00,  2.17filling/s]\n",
      "Downloading NTRS Fillings: 100%|██████████| 29/29 [00:28<00:00,  1.03filling/s]\n",
      "Downloading NUE Fillings: 100%|██████████| 28/28 [00:13<00:00,  2.12filling/s]\n",
      "Downloading NVDA Fillings: 100%|██████████| 25/25 [00:08<00:00,  2.85filling/s]\n",
      "Downloading NWL Fillings: 100%|██████████| 31/31 [00:17<00:00,  1.76filling/s]\n",
      "Downloading NWS Fillings: 100%|██████████| 8/8 [00:04<00:00,  1.74filling/s]\n",
      "Downloading NWSA Fillings: 100%|██████████| 8/8 [00:03<00:00,  2.13filling/s]\n",
      "Downloading O Fillings: 100%|██████████| 27/27 [01:01<00:00,  2.29s/filling]\n",
      "Downloading OKE Fillings: 100%|██████████| 25/25 [00:19<00:00,  1.27filling/s]\n",
      "Downloading OMC Fillings: 100%|██████████| 29/29 [00:17<00:00,  1.63filling/s]\n",
      "Downloading ORCL Fillings: 100%|██████████| 15/15 [00:07<00:00,  2.12filling/s]\n",
      "Downloading ORLY Fillings: 100%|██████████| 26/26 [00:09<00:00,  2.66filling/s]\n",
      "Downloading OXY Fillings: 100%|██████████| 27/27 [00:21<00:00,  1.28filling/s]\n",
      "Downloading PAYX Fillings: 100%|██████████| 27/27 [00:15<00:00,  1.74filling/s]\n",
      "Downloading PBCT Fillings: 100%|██████████| 14/14 [00:20<00:00,  1.46s/filling]\n",
      "Downloading PCAR Fillings: 100%|██████████| 28/28 [00:12<00:00,  2.30filling/s]\n",
      "Downloading PCG Fillings: 100%|██████████| 31/31 [00:13<00:00,  2.25filling/s]\n",
      "Downloading PDCO Fillings: 100%|██████████| 25/25 [00:07<00:00,  3.20filling/s]\n",
      "Downloading PEG Fillings: 100%|██████████| 28/28 [00:29<00:00,  1.06s/filling]\n",
      "Downloading PEP Fillings: 100%|██████████| 28/28 [00:21<00:00,  1.28filling/s]\n",
      "Downloading PFE Fillings: 100%|██████████| 28/28 [00:26<00:00,  1.05filling/s]\n",
      "Downloading PFG Fillings: 100%|██████████| 19/19 [00:12<00:00,  1.55filling/s]\n",
      "Downloading PG Fillings: 100%|██████████| 29/29 [00:22<00:00,  1.28filling/s]\n",
      "Downloading PGR Fillings: 100%|██████████| 30/30 [00:23<00:00,  1.30filling/s]\n",
      "Downloading PH Fillings: 100%|██████████| 29/29 [00:15<00:00,  1.90filling/s]\n",
      "Downloading PHM Fillings: 100%|██████████| 25/25 [00:17<00:00,  1.40filling/s]\n",
      "Downloading PKG Fillings: 100%|██████████| 22/22 [00:17<00:00,  1.23filling/s]\n",
      "Downloading PKI Fillings: 100%|██████████| 27/27 [00:20<00:00,  1.33filling/s]\n",
      "Downloading PLD Fillings: 100%|██████████| 29/29 [00:13<00:00,  2.18filling/s]\n",
      "Downloading PM Fillings: 100%|██████████| 12/12 [00:14<00:00,  1.19s/filling]\n",
      "Downloading PNC Fillings: 100%|██████████| 40/40 [00:26<00:00,  1.50filling/s]\n",
      "Downloading PNR Fillings: 100%|██████████| 29/29 [00:17<00:00,  1.63filling/s]\n",
      "Downloading PNW Fillings: 100%|██████████| 27/27 [00:25<00:00,  1.06filling/s]\n",
      "Downloading PPG Fillings: 100%|██████████| 28/28 [00:13<00:00,  2.07filling/s]\n",
      "Downloading PPL Fillings: 100%|██████████| 26/26 [00:16<00:00,  1.57filling/s]\n",
      "Downloading PRGO Fillings: 100%|██████████| 7/7 [00:09<00:00,  1.36s/filling]\n",
      "Downloading PRU Fillings: 100%|██████████| 22/22 [00:24<00:00,  1.10s/filling]\n",
      "Downloading PSA Fillings: 100%|██████████| 13/13 [00:29<00:00,  2.24s/filling]\n",
      "Downloading PSX Fillings: 100%|██████████| 8/8 [00:13<00:00,  1.67s/filling]\n",
      "Downloading PVH Fillings: 100%|██████████| 29/29 [00:18<00:00,  1.56filling/s]\n",
      "Downloading PWR Fillings: 100%|██████████| 26/26 [00:10<00:00,  2.47filling/s]\n",
      "Downloading PXD Fillings: 100%|██████████| 26/26 [00:16<00:00,  1.57filling/s]\n",
      "Downloading PYPL Fillings: 100%|██████████| 5/5 [00:05<00:00,  1.01s/filling]\n",
      "Downloading QCOM Fillings: 100%|██████████| 27/27 [00:16<00:00,  1.59filling/s]\n",
      "Downloading QRVO Fillings: 100%|██████████| 6/6 [00:03<00:00,  1.84filling/s]\n",
      "Downloading RCL Fillings: 100%|██████████| 16/16 [00:16<00:00,  1.02s/filling]\n",
      "Downloading RE Fillings: 100%|██████████| 24/24 [00:23<00:00,  1.00filling/s]\n",
      "Downloading REG Fillings: 100%|██████████| 29/29 [00:12<00:00,  2.37filling/s]\n",
      "Downloading REGN Fillings: 100%|██████████| 28/28 [00:17<00:00,  1.59filling/s]\n",
      "Downloading RF Fillings: 100%|██████████| 19/19 [00:10<00:00,  1.88filling/s]\n",
      "Downloading RHI Fillings: 100%|██████████| 30/30 [00:06<00:00,  4.43filling/s]\n",
      "Downloading RHT Fillings: 100%|██████████| 23/23 [00:07<00:00,  3.01filling/s]\n",
      "Downloading RJF Fillings: 100%|██████████| 29/29 [00:33<00:00,  1.15s/filling]\n",
      "Downloading RL Fillings: 100%|██████████| 23/23 [00:22<00:00,  1.02filling/s]\n",
      "Downloading RMD Fillings: 100%|██████████| 27/27 [00:09<00:00,  2.97filling/s]\n",
      "Downloading ROK Fillings: 100%|██████████| 24/24 [00:15<00:00,  1.52filling/s]\n",
      "Downloading ROP Fillings: 100%|██████████| 27/27 [00:14<00:00,  1.93filling/s]\n",
      "Downloading ROST Fillings: 100%|██████████| 27/27 [00:13<00:00,  2.03filling/s]\n",
      "Downloading RRC Fillings: 100%|██████████| 36/36 [00:08<00:00,  4.16filling/s]\n",
      "Downloading RSG Fillings: 100%|██████████| 23/23 [00:09<00:00,  2.44filling/s]\n",
      "Downloading RTN Fillings: 100%|██████████| 31/31 [00:11<00:00,  2.81filling/s]\n",
      "Downloading SBAC Fillings: 100%|██████████| 23/23 [00:14<00:00,  1.62filling/s]\n",
      "Downloading SBUX Fillings: 100%|██████████| 30/30 [00:17<00:00,  1.70filling/s]\n",
      "Downloading SCHW Fillings: 100%|██████████| 28/28 [00:11<00:00,  2.44filling/s]\n",
      "Downloading SEE Fillings: 100%|██████████| 26/26 [00:12<00:00,  2.10filling/s]\n",
      "Downloading SHW Fillings: 100%|██████████| 27/27 [00:24<00:00,  1.08filling/s]\n",
      "Downloading SIG Fillings: 100%|██████████| 11/11 [00:18<00:00,  1.72s/filling]\n",
      "Downloading SJM Fillings: 100%|██████████| 28/28 [00:14<00:00,  1.87filling/s]\n",
      "Downloading SLB Fillings: 100%|██████████| 26/26 [00:12<00:00,  2.10filling/s]\n",
      "Downloading SLG Fillings: 100%|██████████| 30/30 [00:23<00:00,  1.27filling/s]\n",
      "Downloading SNA Fillings: 100%|██████████| 29/29 [00:09<00:00,  3.00filling/s]\n",
      "Downloading SNI Fillings: 100%|██████████| 11/11 [00:05<00:00,  2.17filling/s]\n",
      "Downloading SNPS Fillings: 100%|██████████| 36/36 [00:15<00:00,  2.32filling/s]\n",
      "Downloading SO Fillings: 100%|██████████| 29/29 [00:54<00:00,  1.88s/filling]\n",
      "Downloading SPG Fillings: 100%|██████████| 24/24 [00:10<00:00,  2.25filling/s]\n",
      "Downloading SRCL Fillings: 100%|██████████| 29/29 [00:15<00:00,  1.88filling/s]\n",
      "Downloading SRE Fillings: 100%|██████████| 25/25 [00:14<00:00,  1.76filling/s]\n",
      "Downloading STI Fillings: 100%|██████████| 28/28 [00:15<00:00,  1.80filling/s]\n",
      "Downloading STT Fillings: 100%|██████████| 29/29 [00:31<00:00,  1.10s/filling]\n",
      "Downloading STX Fillings: 100%|██████████| 21/21 [00:16<00:00,  1.27filling/s]\n",
      "Downloading STZ Fillings: 100%|██████████| 34/34 [00:14<00:00,  2.30filling/s]\n",
      "Downloading SWK Fillings: 100%|██████████| 30/30 [00:19<00:00,  1.53filling/s]\n",
      "Downloading SWKS Fillings: 100%|██████████| 38/38 [00:12<00:00,  3.00filling/s]\n",
      "Downloading SYF Fillings: 100%|██████████| 6/6 [00:07<00:00,  1.26s/filling]\n",
      "Downloading SYK Fillings: 100%|██████████| 32/32 [00:10<00:00,  3.04filling/s]\n",
      "Downloading SYY Fillings: 100%|██████████| 29/29 [00:19<00:00,  1.49filling/s]\n",
      "Downloading T Fillings: 100%|██████████| 40/40 [00:11<00:00,  3.39filling/s]\n",
      "Downloading TAP Fillings: 100%|██████████| 29/29 [00:27<00:00,  1.07filling/s]\n",
      "Downloading TDG Fillings: 100%|██████████| 17/17 [00:11<00:00,  1.52filling/s]\n",
      "Downloading TEL Fillings: 100%|██████████| 14/14 [00:07<00:00,  1.90filling/s]\n",
      "Downloading TGT Fillings: 100%|██████████| 28/28 [00:17<00:00,  1.62filling/s]\n",
      "Downloading TIF Fillings: 100%|██████████| 29/29 [00:14<00:00,  2.02filling/s]\n",
      "Downloading TJX Fillings: 100%|██████████| 27/27 [00:07<00:00,  3.40filling/s]\n",
      "Downloading TMO Fillings: 100%|██████████| 36/36 [00:23<00:00,  1.51filling/s]\n",
      "Downloading TRIP Fillings: 100%|██████████| 11/11 [00:09<00:00,  1.16filling/s]\n",
      "Downloading TROW Fillings: 100%|██████████| 20/20 [00:11<00:00,  1.71filling/s]\n",
      "Downloading TRV Fillings: 100%|██████████| 30/30 [00:26<00:00,  1.13filling/s]\n",
      "Downloading TSCO Fillings: 100%|██████████| 25/25 [00:08<00:00,  2.91filling/s]\n",
      "Downloading TSN Fillings: 100%|██████████| 29/29 [00:15<00:00,  1.88filling/s]\n",
      "Downloading TXN Fillings: 100%|██████████| 30/30 [00:10<00:00,  2.89filling/s]\n",
      "Downloading TXT Fillings: 100%|██████████| 31/31 [00:11<00:00,  2.77filling/s]\n",
      "Downloading UAA Fillings: 100%|██████████| 16/16 [00:10<00:00,  1.49filling/s]\n",
      "Downloading UAL Fillings: 100%|██████████| 33/33 [00:20<00:00,  1.63filling/s]\n",
      "Downloading UDR Fillings: 100%|██████████| 32/32 [00:29<00:00,  1.08filling/s]\n",
      "Downloading UHS Fillings: 100%|██████████| 28/28 [00:19<00:00,  1.44filling/s]\n",
      "Downloading ULTA Fillings: 100%|██████████| 13/13 [00:08<00:00,  1.60filling/s]\n",
      "Downloading UNH Fillings: 100%|██████████| 30/30 [00:16<00:00,  1.86filling/s]\n",
      "Downloading UNM Fillings: 100%|██████████| 25/25 [00:28<00:00,  1.15s/filling]\n",
      "Downloading UNP Fillings: 100%|██████████| 38/38 [00:18<00:00,  2.02filling/s]\n",
      "Downloading UPS Fillings: 100%|██████████| 21/21 [00:10<00:00,  1.98filling/s]\n",
      "Downloading URI Fillings: 100%|██████████| 26/26 [00:17<00:00,  1.51filling/s]\n",
      "Downloading USB Fillings: 100%|██████████| 30/30 [00:24<00:00,  1.22filling/s]\n",
      "Downloading UTX Fillings: 100%|██████████| 30/30 [00:09<00:00,  3.01filling/s]\n",
      "Downloading V Fillings: 100%|██████████| 15/15 [00:11<00:00,  1.34filling/s]\n",
      "Downloading VAR Fillings: 100%|██████████| 29/29 [00:10<00:00,  2.89filling/s]\n",
      "Downloading VFC Fillings: 100%|██████████| 30/30 [00:10<00:00,  2.87filling/s]\n",
      "Downloading VLO Fillings: 100%|██████████| 23/23 [00:11<00:00,  2.03filling/s]\n",
      "Downloading VMC Fillings: 100%|██████████| 13/13 [00:07<00:00,  1.72filling/s]\n",
      "Downloading VNO Fillings: 100%|██████████| 40/40 [00:15<00:00,  2.52filling/s]\n",
      "Downloading VRSK Fillings: 100%|██████████| 11/11 [00:12<00:00,  1.15s/filling]\n",
      "Downloading VRSN Fillings: 100%|██████████| 23/23 [00:09<00:00,  2.41filling/s]\n",
      "Downloading VRTX Fillings: 100%|██████████| 25/25 [00:17<00:00,  1.43filling/s]\n",
      "Downloading VTR Fillings: 100%|██████████| 29/29 [00:37<00:00,  1.30s/filling]\n",
      "Downloading VZ Fillings: 100%|██████████| 33/33 [00:15<00:00,  2.13filling/s]\n",
      "Downloading WAT Fillings: 100%|██████████| 25/25 [00:13<00:00,  1.85filling/s]\n",
      "Downloading WBA Fillings: 100%|██████████| 5/5 [00:05<00:00,  1.13s/filling]\n",
      "Downloading WDC Fillings: 100%|██████████| 27/27 [00:10<00:00,  2.46filling/s]\n",
      "Downloading WEC Fillings: 100%|██████████| 34/34 [00:23<00:00,  1.45filling/s]\n",
      "Downloading WFC Fillings: 100%|██████████| 31/31 [00:40<00:00,  1.32s/filling]\n",
      "Downloading WHR Fillings: 100%|██████████| 29/29 [00:10<00:00,  2.81filling/s]\n",
      "Downloading WM Fillings: 100%|██████████| 27/27 [00:19<00:00,  1.42filling/s]\n",
      "Downloading WMB Fillings: 100%|██████████| 33/33 [00:11<00:00,  2.83filling/s]\n",
      "Downloading WMT Fillings: 100%|██████████| 29/29 [00:10<00:00,  2.85filling/s]\n",
      "Downloading WRK Fillings: 100%|██████████| 2/2 [00:01<00:00,  1.29filling/s]\n",
      "Downloading WU Fillings: 100%|██████████| 14/14 [00:14<00:00,  1.03s/filling]\n",
      "Downloading WY Fillings: 100%|██████████| 30/30 [00:12<00:00,  2.33filling/s]\n",
      "Downloading WYNN Fillings: 100%|██████████| 21/21 [00:14<00:00,  1.43filling/s]\n",
      "Downloading XEC Fillings: 100%|██████████| 24/24 [00:13<00:00,  1.80filling/s]\n",
      "Downloading XEL Fillings: 100%|██████████| 28/28 [00:28<00:00,  1.01s/filling]\n",
      "Downloading XLNX Fillings: 100%|██████████| 26/26 [00:08<00:00,  2.93filling/s]\n",
      "Downloading XOM Fillings: 100%|██████████| 28/28 [00:10<00:00,  2.58filling/s]\n",
      "Downloading XRAY Fillings: 100%|██████████| 27/27 [00:22<00:00,  1.20filling/s]\n",
      "Downloading XRX Fillings: 100%|██████████| 1/1 [00:00<00:00,  1.16filling/s]\n",
      "Downloading XYL Fillings: 100%|██████████| 9/9 [00:05<00:00,  1.78filling/s]\n",
      "Downloading YUM Fillings: 100%|██████████| 26/26 [00:09<00:00,  2.64filling/s]\n",
      "Downloading ZBH Fillings: 100%|██████████| 19/19 [00:14<00:00,  1.32filling/s]\n",
      "Downloading ZION Fillings: 100%|██████████| 30/30 [00:13<00:00,  2.23filling/s]\n",
      "Downloading ZTS Fillings: 100%|██████████| 8/8 [00:09<00:00,  1.19s/filling]\n"
     ]
    }
   ],
   "source": [
    "load_sec10k.run_download_and_parse(sec_data, sec_api, OUTPATH2, doc_type=DOC_TYPE, oldest_filling_date = START_DT)"
   ]
  },
  {
   "cell_type": "markdown",
   "metadata": {},
   "source": [
    "# Parse Documents"
   ]
  },
  {
   "cell_type": "code",
   "execution_count": 138,
   "metadata": {},
   "outputs": [],
   "source": [
    "import re\n",
    "re_risk = re.compile(r'(>Item(\\s|&#160;|&nbsp;)(1A|7A|7)\\.{0,1})|(ITEM\\s(1A|7A|7))')\n",
    "matches = re_risk.finditer('asdr')"
   ]
  },
  {
   "cell_type": "code",
   "execution_count": 140,
   "metadata": {},
   "outputs": [
    {
     "data": {
      "text/plain": [
       "[]"
      ]
     },
     "execution_count": 140,
     "metadata": {},
     "output_type": "execute_result"
    }
   ],
   "source": [
    "[(x.group(), x.start(), x.end()) for x in matches]"
   ]
  },
  {
   "cell_type": "code",
   "execution_count": 163,
   "metadata": {},
   "outputs": [
    {
     "data": {
      "text/plain": [
       "('aal', '10k', '20030415.gz')"
      ]
     },
     "execution_count": 163,
     "metadata": {},
     "output_type": "execute_result"
    }
   ],
   "source": [
    "ticker, doc, date = os.listdir(OUTPATH2)[0].split(\"_\")\n",
    "ticker, doc, date"
   ]
  },
  {
   "cell_type": "code",
   "execution_count": 172,
   "metadata": {},
   "outputs": [],
   "source": [
    "def get_risk_sections_and_parse(inpath, outpath, write_gzip = True):\n",
    "    in_listdir = os.listdir(inpath)[:10]\n",
    "    \n",
    "    control_lst = []\n",
    "    for file in in_listdir:\n",
    "        ticker, doc_type, date = file.split(\"_\")\n",
    "        date = date.split(\".\")[0]\n",
    "        with gzip.open(inpath + file, \"rb\") as f:\n",
    "            doc = f.read()\n",
    "        doc = doc.decode()\n",
    "\n",
    "        tenk_risk_pos_dat = parse_sec_fillings.get_10k_risk_sections_df(text=doc)\n",
    "        tenk_risk_sections = parse_sec_fillings.get_section_text(text=doc,\n",
    "            pos_dat=tenk_risk_pos_dat)\n",
    "        \n",
    "        sections = []\n",
    "        for item, section in tenk_risk_sections.items():\n",
    "            section_clean = parse_sec_fillings.clean_text(section)\n",
    "            sections.append(section)\n",
    "\n",
    "        doc_clean = \" \".join(sections)\n",
    "        print(len(doc), len(doc_clean))\n",
    "        \n",
    "        if write_gzip:\n",
    "            with gzip.GzipFile(outpath + file, \"wb\") as gzip_text_file:\n",
    "                gzip_text_file.write(doc_clean.encode())\n",
    "        else:\n",
    "            with open(outpath + file.split(\".\")[0] + \".txt\", \"w\") as text_file:\n",
    "                text_file.write(doc_clean)\n",
    "        \n",
    "        tenk_risk_pos_dat['ticker'] = ticker\n",
    "        tenk_risk_pos_dat['doc_type'] = doc_type\n",
    "        tenk_risk_pos_dat['date'] = dt.datetime.strptime(date, \"%Y%m%d\")\n",
    "        \n",
    "        control_lst.append(tenk_risk_pos_dat)\n",
    "        \n",
    "    return pd.concat(control_lst, axis=0)\n",
    "        "
   ]
  },
  {
   "cell_type": "code",
   "execution_count": 177,
   "metadata": {},
   "outputs": [
    {
     "name": "stdout",
     "output_type": "stream",
     "text": [
      "870154 590475\n",
      "843334 535976\n",
      "919571 607539\n",
      "894119 825319\n",
      "906911 840161\n",
      "2471099 1710876\n",
      "2759974 2640788\n",
      "2581059 1792606\n",
      "No match!\n",
      "1471040 1471040\n",
      "No match!\n",
      "2630469 2630469\n"
     ]
    }
   ],
   "source": [
    "control_df = parse_sec_fillings.get_risk_sections_and_parse(inpath=OUTPATH2, outpath=OUTPATH4, write_gzip=True)"
   ]
  },
  {
   "cell_type": "code",
   "execution_count": 178,
   "metadata": {},
   "outputs": [
    {
     "data": {
      "text/html": [
       "<div>\n",
       "<style scoped>\n",
       "    .dataframe tbody tr th:only-of-type {\n",
       "        vertical-align: middle;\n",
       "    }\n",
       "\n",
       "    .dataframe tbody tr th {\n",
       "        vertical-align: top;\n",
       "    }\n",
       "\n",
       "    .dataframe thead th {\n",
       "        text-align: right;\n",
       "    }\n",
       "</style>\n",
       "<table border=\"1\" class=\"dataframe\">\n",
       "  <thead>\n",
       "    <tr style=\"text-align: right;\">\n",
       "      <th></th>\n",
       "      <th>start</th>\n",
       "      <th>end</th>\n",
       "      <th>next_start</th>\n",
       "      <th>ticker</th>\n",
       "      <th>doc_type</th>\n",
       "      <th>date</th>\n",
       "    </tr>\n",
       "    <tr>\n",
       "      <th>item</th>\n",
       "      <th></th>\n",
       "      <th></th>\n",
       "      <th></th>\n",
       "      <th></th>\n",
       "      <th></th>\n",
       "      <th></th>\n",
       "    </tr>\n",
       "  </thead>\n",
       "  <tbody>\n",
       "    <tr>\n",
       "      <th>item7</th>\n",
       "      <td>279673</td>\n",
       "      <td>279679</td>\n",
       "      <td>870154.0</td>\n",
       "      <td>aal</td>\n",
       "      <td>10k</td>\n",
       "      <td>2003-04-15</td>\n",
       "    </tr>\n",
       "    <tr>\n",
       "      <th>item7</th>\n",
       "      <td>307352</td>\n",
       "      <td>307358</td>\n",
       "      <td>843334.0</td>\n",
       "      <td>aal</td>\n",
       "      <td>10k</td>\n",
       "      <td>2004-02-27</td>\n",
       "    </tr>\n",
       "    <tr>\n",
       "      <th>item7</th>\n",
       "      <td>312026</td>\n",
       "      <td>312032</td>\n",
       "      <td>919571.0</td>\n",
       "      <td>aal</td>\n",
       "      <td>10k</td>\n",
       "      <td>2005-02-25</td>\n",
       "    </tr>\n",
       "    <tr>\n",
       "      <th>item1a</th>\n",
       "      <td>68794</td>\n",
       "      <td>68801</td>\n",
       "      <td>322221.0</td>\n",
       "      <td>aal</td>\n",
       "      <td>10k</td>\n",
       "      <td>2006-02-24</td>\n",
       "    </tr>\n",
       "    <tr>\n",
       "      <th>item7</th>\n",
       "      <td>322215</td>\n",
       "      <td>322221</td>\n",
       "      <td>894119.0</td>\n",
       "      <td>aal</td>\n",
       "      <td>10k</td>\n",
       "      <td>2006-02-24</td>\n",
       "    </tr>\n",
       "    <tr>\n",
       "      <th>item1a</th>\n",
       "      <td>66744</td>\n",
       "      <td>66751</td>\n",
       "      <td>310408.0</td>\n",
       "      <td>aal</td>\n",
       "      <td>10k</td>\n",
       "      <td>2007-02-23</td>\n",
       "    </tr>\n",
       "    <tr>\n",
       "      <th>item7</th>\n",
       "      <td>310402</td>\n",
       "      <td>310408</td>\n",
       "      <td>906911.0</td>\n",
       "      <td>aal</td>\n",
       "      <td>10k</td>\n",
       "      <td>2007-02-23</td>\n",
       "    </tr>\n",
       "    <tr>\n",
       "      <th>item\\n7</th>\n",
       "      <td>760217</td>\n",
       "      <td>760223</td>\n",
       "      <td>2471099.0</td>\n",
       "      <td>aal</td>\n",
       "      <td>10k</td>\n",
       "      <td>2008-02-20</td>\n",
       "    </tr>\n",
       "    <tr>\n",
       "      <th>item\\n1a</th>\n",
       "      <td>119180</td>\n",
       "      <td>119187</td>\n",
       "      <td>851156.0</td>\n",
       "      <td>aal</td>\n",
       "      <td>10k</td>\n",
       "      <td>2009-02-19</td>\n",
       "    </tr>\n",
       "    <tr>\n",
       "      <th>item\\n7</th>\n",
       "      <td>851150</td>\n",
       "      <td>851156</td>\n",
       "      <td>2759974.0</td>\n",
       "      <td>aal</td>\n",
       "      <td>10k</td>\n",
       "      <td>2009-02-19</td>\n",
       "    </tr>\n",
       "    <tr>\n",
       "      <th>item7</th>\n",
       "      <td>788447</td>\n",
       "      <td>788453</td>\n",
       "      <td>2581059.0</td>\n",
       "      <td>aal</td>\n",
       "      <td>10k</td>\n",
       "      <td>2010-02-17</td>\n",
       "    </tr>\n",
       "    <tr>\n",
       "      <th>all</th>\n",
       "      <td>0</td>\n",
       "      <td>0</td>\n",
       "      <td>1471040.0</td>\n",
       "      <td>aal</td>\n",
       "      <td>10k</td>\n",
       "      <td>2011-02-16</td>\n",
       "    </tr>\n",
       "    <tr>\n",
       "      <th>all</th>\n",
       "      <td>0</td>\n",
       "      <td>0</td>\n",
       "      <td>2630469.0</td>\n",
       "      <td>aal</td>\n",
       "      <td>10k</td>\n",
       "      <td>2012-02-15</td>\n",
       "    </tr>\n",
       "  </tbody>\n",
       "</table>\n",
       "</div>"
      ],
      "text/plain": [
       "           start     end  next_start ticker doc_type       date\n",
       "item                                                           \n",
       "item7     279673  279679    870154.0    aal      10k 2003-04-15\n",
       "item7     307352  307358    843334.0    aal      10k 2004-02-27\n",
       "item7     312026  312032    919571.0    aal      10k 2005-02-25\n",
       "item1a     68794   68801    322221.0    aal      10k 2006-02-24\n",
       "item7     322215  322221    894119.0    aal      10k 2006-02-24\n",
       "item1a     66744   66751    310408.0    aal      10k 2007-02-23\n",
       "item7     310402  310408    906911.0    aal      10k 2007-02-23\n",
       "item\\n7   760217  760223   2471099.0    aal      10k 2008-02-20\n",
       "item\\n1a  119180  119187    851156.0    aal      10k 2009-02-19\n",
       "item\\n7   851150  851156   2759974.0    aal      10k 2009-02-19\n",
       "item7     788447  788453   2581059.0    aal      10k 2010-02-17\n",
       "all            0       0   1471040.0    aal      10k 2011-02-16\n",
       "all            0       0   2630469.0    aal      10k 2012-02-15"
      ]
     },
     "execution_count": 178,
     "metadata": {},
     "output_type": "execute_result"
    }
   ],
   "source": [
    "control_df.head()"
   ]
  },
  {
   "cell_type": "code",
   "execution_count": null,
   "metadata": {},
   "outputs": [],
   "source": [
    "raw_fillings_by_ticker = {}\n",
    "\n",
    "for ticker, data in sec_data.items():\n",
    "    path = OUTPATH\n",
    "    doc_type = DOC_TYPE\n",
    "    raw_fillings_by_ticker = {}\n",
    "    for index_url, file_type, file_date in tqdm(data, desc='Downloading {} Fillings'.format(ticker), unit='filling'):\n",
    "        if (file_type == DOC_TYPE):\n",
    "            file_url = index_url.replace('-index.htm', '.txt').replace('.txtl', '.txt')            \n",
    "            \n",
    "            raw_filling = sec_api.get(file_url)\n",
    "            raw_extracted_docs = load_sec10k.get_documents(raw_filling)\n",
    "            for document in raw_extracted_docs:\n",
    "                if load_sec10k.get_document_type(document) == DOC_TYPE:\n",
    "                    with open(f\"{path}{ticker}_{DOC_TYPE}_{.replace('-', '_')}.txt\", \"w\") as text_file:\n",
    "                        document.write(raw_fillings)"
   ]
  },
  {
   "cell_type": "code",
   "execution_count": null,
   "metadata": {},
   "outputs": [],
   "source": [
    "print('Example Document:\\n\\n{}...'.format(next(iter(raw_fillings_by_ticker[example_ticker].values()))[:1000]))"
   ]
  },
  {
   "cell_type": "markdown",
   "metadata": {},
   "source": [
    "# Parse Documents"
   ]
  },
  {
   "cell_type": "markdown",
   "metadata": {},
   "source": [
    "## Get Documents\n",
    "Each filling is broken into several associated documents, sectioned off in the fillings with the tags:\n",
    "      <DOCUMENT> </DOCUMENT> There's no overlap with these documents, so each `</DOCUMENT>` tag should come after the `<DOCUMENT>` with no `<DOCUMENT>` tag in between.\n"
   ]
  },
  {
   "cell_type": "code",
   "execution_count": null,
   "metadata": {},
   "outputs": [],
   "source": [
    "filling_documents_by_ticker = {}\n",
    "\n",
    "for ticker, raw_fillings in raw_fillings_by_ticker.items():\n",
    "    filling_documents_by_ticker[ticker] = {}\n",
    "    for file_date, filling in tqdm(raw_fillings.items(), desc='Getting Documents from {} Fillings'.format(ticker), unit='filling'):\n",
    "        filling_documents_by_ticker[ticker][file_date] = load_sec10k.get_documents(filling)"
   ]
  },
  {
   "cell_type": "code",
   "execution_count": null,
   "metadata": {},
   "outputs": [],
   "source": [
    "print('\\n\\n'.join([\n",
    "    'Document {} Filed on {}:\\n{}...'.format(doc_i, file_date, doc[:200])\n",
    "    for file_date, docs in filling_documents_by_ticker[example_ticker].items()\n",
    "    for doc_i, doc in enumerate(docs)][:3]))"
   ]
  },
  {
   "cell_type": "markdown",
   "metadata": {},
   "source": [
    "## Get Document Types\n",
    "Now that we have all the documents, we want to find the 10-k form in this 10-k filing. Implement the `get_document_type` function to return the type of document given. The document type is located on a line with the `<TYPE>` tag. For example, a form of type \"TEST\" would have the line `<TYPE>TEST`. Make sure to return the type as lowercase, so this example would be returned as \"test\"."
   ]
  },
  {
   "cell_type": "markdown",
   "metadata": {},
   "source": [
    "With the `get_document_type` function, we'll filter out all non 10-k documents."
   ]
  },
  {
   "cell_type": "code",
   "execution_count": null,
   "metadata": {},
   "outputs": [],
   "source": [
    "ten_ks_by_ticker = {}\n",
    "tenk_dates = {}\n",
    "\n",
    "for ticker, filling_documents in filling_documents_by_ticker.items():\n",
    "    ten_ks_by_ticker[ticker] = []\n",
    "    tenk_dates[ticker] = []\n",
    "    for file_date, documents in filling_documents.items():\n",
    "        for document in documents:\n",
    "            if load_sec10k.get_document_type(document) == DOC_TYPE:\n",
    "                ten_ks_by_ticker[ticker].append({\n",
    "                    'cik': load_sec10k.cik_lookup[ticker],\n",
    "                    'file': document,\n",
    "                    'file_date': file_date})\n",
    "                tenk_dates[ticker].append(file_date)\n",
    "                "
   ]
  },
  {
   "cell_type": "code",
   "execution_count": null,
   "metadata": {},
   "outputs": [],
   "source": [
    "load_sec10k.print_ten_k_data(ten_ks_by_ticker[example_ticker][:5], ['cik', 'file', 'file_date'])"
   ]
  },
  {
   "cell_type": "code",
   "execution_count": null,
   "metadata": {},
   "outputs": [],
   "source": [
    "len(tenk_dates[example_ticker]) == len(sec_dates[example_ticker])  # some fillings does not have 10-Ks"
   ]
  },
  {
   "cell_type": "code",
   "execution_count": null,
   "metadata": {},
   "outputs": [],
   "source": [
    "ten_ks_by_ticker[example_ticker][0]['file_date'], ten_ks_by_ticker[example_ticker][-1]['file_date']"
   ]
  },
  {
   "cell_type": "code",
   "execution_count": null,
   "metadata": {},
   "outputs": [],
   "source": [
    "tenk_dates[example_ticker][0], tenk_dates[example_ticker][-1]"
   ]
  },
  {
   "cell_type": "code",
   "execution_count": null,
   "metadata": {},
   "outputs": [],
   "source": [
    "sec_dates[example_ticker][0], sec_dates[example_ticker][-1]"
   ]
  },
  {
   "cell_type": "code",
   "execution_count": null,
   "metadata": {},
   "outputs": [],
   "source": [
    "ten_ks_by_ticker[example_ticker][4]['file'][:1000]"
   ]
  },
  {
   "cell_type": "markdown",
   "metadata": {},
   "source": [
    "# Write Raw 10Ks"
   ]
  },
  {
   "cell_type": "code",
   "execution_count": null,
   "metadata": {},
   "outputs": [],
   "source": [
    "metadata = {'doc_type': DOC_TYPE,\n",
    "            'file_dates': tenk_dates,\n",
    "           'tickers': cik_lookup}"
   ]
  },
  {
   "cell_type": "code",
   "execution_count": null,
   "metadata": {},
   "outputs": [],
   "source": [
    "with open(OUTPATH + OUTFILE1, 'wb') as file:\n",
    "    pickle.dump(metadata, file)"
   ]
  },
  {
   "cell_type": "code",
   "execution_count": null,
   "metadata": {},
   "outputs": [],
   "source": [
    "with open(OUTPATH + OUTFILE2, 'wb') as file:\n",
    "    pickle.dump(ten_ks_by_ticker, file)"
   ]
  },
  {
   "cell_type": "code",
   "execution_count": null,
   "metadata": {},
   "outputs": [],
   "source": []
  }
 ],
 "metadata": {
  "kernelspec": {
   "display_name": "Python 3",
   "language": "python",
   "name": "python3"
  },
  "language_info": {
   "codemirror_mode": {
    "name": "ipython",
    "version": 3
   },
   "file_extension": ".py",
   "mimetype": "text/x-python",
   "name": "python",
   "nbconvert_exporter": "python",
   "pygments_lexer": "ipython3",
   "version": "3.7.7"
  },
  "toc-autonumbering": true
 },
 "nbformat": 4,
 "nbformat_minor": 4
}
