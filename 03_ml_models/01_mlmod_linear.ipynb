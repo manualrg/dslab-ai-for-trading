{
 "cells": [
  {
   "cell_type": "markdown",
   "metadata": {},
   "source": [
    "<font size=\"6\"> **Model Building** </font>"
   ]
  },
  {
   "cell_type": "code",
   "execution_count": 18,
   "metadata": {},
   "outputs": [],
   "source": [
    "%%capture\n",
    "%run 00_mlmod_load_data.ipynb"
   ]
  },
  {
   "cell_type": "code",
   "execution_count": 19,
   "metadata": {},
   "outputs": [],
   "source": [
    "RND_SEED = 123\n",
    "KFOLDS = 3\n",
    "pd.set_option('precision', 4)\n"
   ]
  },
  {
   "cell_type": "code",
   "execution_count": 20,
   "metadata": {},
   "outputs": [],
   "source": [
    "from sklearn.model_selection import GridSearchCV, ParameterGrid\n",
    "from sklearn.linear_model import Ridge\n",
    "from sklearn.metrics import make_scorer\n",
    "from sklearn.ensemble import RandomForestRegressor"
   ]
  },
  {
   "cell_type": "code",
   "execution_count": null,
   "metadata": {},
   "outputs": [],
   "source": []
  },
  {
   "cell_type": "code",
   "execution_count": 302,
   "metadata": {},
   "outputs": [],
   "source": [
    "def direction_accuracy_func(y_true, y_pred, **kwargs):\n",
    "    kind = kwargs.get('kind', 'global')\n",
    "    w_fp = kwargs.get('w_fp', 2)\n",
    "    w_fn = kwargs.get('w_fn', 2)\n",
    "    nobs = len(y_true)\n",
    "    y_true_pos = (y_true>0).astype(int)\n",
    "    y_pred_pos = (y_pred>0).astype(int)\n",
    "    xtab = pd.crosstab(index=y_true_pos, columns=y_pred_pos)\n",
    "    try:\n",
    "        tp = xtab.loc[0,0]\n",
    "    except:\n",
    "        tp = 0\n",
    "    try:\n",
    "        tn = xtab.loc[1,1]\n",
    "    except:\n",
    "        tn = 0\n",
    "    try:\n",
    "        fp = xtab.loc[0,1]\n",
    "    except:\n",
    "        fp = 0\n",
    "    try:\n",
    "        fn = xtab.loc[1,0]\n",
    "    except:\n",
    "        fn = 0\n",
    "    if kind == 'global':\n",
    "        acc = (tp + tn)/nobs\n",
    "    elif kind == 'upwards':\n",
    "        acc = tp/(tp + fn)\n",
    "    elif kind == 'downwards':\n",
    "        acc = tn/(tn + fp)\n",
    "    elif kind == 'weighted':\n",
    "        acc = (tp + tn)/(tp + tn + fp*w_fp + fn*w_fn)\n",
    "    else:\n",
    "        raise ValueError(\"kind must be: global, upwards, downwards or weighted\")\n",
    "        \n",
    "    return acc\n",
    "direction_accuracy = make_scorer(direction_accuracy_func, greater_is_better=True, kind='global')\n",
    "upwards_direction_accuracy = make_scorer(direction_accuracy_func, greater_is_better=True, kind='upwards')\n",
    "downwards_direction_accuracy = make_scorer(direction_accuracy_func, greater_is_better=True, kind='downwards')\n",
    "weighted_direction_accuracy = make_scorer(direction_accuracy_func, greater_is_better=True, kind='weighted', w_fp=2., w_fn=1.)"
   ]
  },
  {
   "cell_type": "code",
   "execution_count": 303,
   "metadata": {},
   "outputs": [
    {
     "data": {
      "text/plain": [
       "0.5"
      ]
     },
     "execution_count": 303,
     "metadata": {},
     "output_type": "execute_result"
    }
   ],
   "source": [
    "y_true = np.array([0.1, -0.1, 0.2, -0.2])\n",
    "y_pred = np.array([0.01, 0.01, -0.02, -0.02])\n",
    "direction_accuracy_func(y_true, y_pred)"
   ]
  },
  {
   "cell_type": "code",
   "execution_count": 304,
   "metadata": {},
   "outputs": [
    {
     "data": {
      "text/plain": [
       "0.5"
      ]
     },
     "execution_count": 304,
     "metadata": {},
     "output_type": "execute_result"
    }
   ],
   "source": [
    "direction_accuracy_func(y_true, y_pred, kind='upwards')"
   ]
  },
  {
   "cell_type": "code",
   "execution_count": 305,
   "metadata": {},
   "outputs": [
    {
     "data": {
      "text/plain": [
       "0.5"
      ]
     },
     "execution_count": 305,
     "metadata": {},
     "output_type": "execute_result"
    }
   ],
   "source": [
    "direction_accuracy_func(y_true, y_pred, kind='downwards')"
   ]
  },
  {
   "cell_type": "code",
   "execution_count": 306,
   "metadata": {},
   "outputs": [
    {
     "data": {
      "text/plain": [
       "0.36363636363636365"
      ]
     },
     "execution_count": 306,
     "metadata": {},
     "output_type": "execute_result"
    }
   ],
   "source": [
    "direction_accuracy_func(y_true, y_pred, kind='weighted', w_fp=2, w_fn=1.5)"
   ]
  },
  {
   "cell_type": "code",
   "execution_count": 307,
   "metadata": {},
   "outputs": [],
   "source": [
    "scoring = {'neg_root_mean_squared_error':'neg_root_mean_squared_error',\n",
    "           'w_accuracy': weighted_direction_accuracy,\n",
    "           'accuracy': direction_accuracy,\n",
    "          'up_accuracy': upwards_direction_accuracy,\n",
    "          'down_accuracy': downwards_direction_accuracy}"
   ]
  },
  {
   "cell_type": "code",
   "execution_count": 308,
   "metadata": {},
   "outputs": [],
   "source": [
    "tscv_smp = TimeSeriesSplit(n_splits=KFOLDS).split(y_train_smp)"
   ]
  },
  {
   "cell_type": "code",
   "execution_count": 309,
   "metadata": {},
   "outputs": [],
   "source": [
    "hpgrid_ridge = {'alpha': [10.0**x for x in range(-3,3)]}\n",
    "ridge = Ridge(fit_intercept=False, random_state=RND_SEED)"
   ]
  },
  {
   "cell_type": "code",
   "execution_count": 310,
   "metadata": {},
   "outputs": [],
   "source": [
    "ridge_cv = GridSearchCV(ridge, hpgrid_ridge, scoring=scoring,\n",
    "                        n_jobs=-1, refit='w_accuracy',\n",
    "                        cv=tscv_smp, return_train_score=True)\n",
    "res_ridge_cv = ridge_cv.fit(X_train_smp[features], y_train_smp)"
   ]
  },
  {
   "cell_type": "code",
   "execution_count": 311,
   "metadata": {},
   "outputs": [
    {
     "data": {
      "text/plain": [
       "True     32378\n",
       "False    25131\n",
       "Name: target, dtype: int64"
      ]
     },
     "execution_count": 311,
     "metadata": {},
     "output_type": "execute_result"
    }
   ],
   "source": [
    "(y_train_smp>0).value_counts()"
   ]
  },
  {
   "cell_type": "code",
   "execution_count": 312,
   "metadata": {},
   "outputs": [],
   "source": [
    "res_ridge_cv_df = pd.DataFrame(res_ridge_cv.cv_results_)"
   ]
  },
  {
   "cell_type": "code",
   "execution_count": 313,
   "metadata": {},
   "outputs": [
    {
     "data": {
      "text/html": [
       "<div>\n",
       "<style scoped>\n",
       "    .dataframe tbody tr th:only-of-type {\n",
       "        vertical-align: middle;\n",
       "    }\n",
       "\n",
       "    .dataframe tbody tr th {\n",
       "        vertical-align: top;\n",
       "    }\n",
       "\n",
       "    .dataframe thead th {\n",
       "        text-align: right;\n",
       "    }\n",
       "</style>\n",
       "<table border=\"1\" class=\"dataframe\">\n",
       "  <thead>\n",
       "    <tr style=\"text-align: right;\">\n",
       "      <th></th>\n",
       "      <th>params</th>\n",
       "      <th>std_test_w_accuracy</th>\n",
       "      <th>mean_test_w_accuracy</th>\n",
       "      <th>mean_test_accuracy</th>\n",
       "      <th>mean_test_down_accuracy</th>\n",
       "      <th>mean_test_up_accuracy</th>\n",
       "    </tr>\n",
       "  </thead>\n",
       "  <tbody>\n",
       "    <tr>\n",
       "      <th>0</th>\n",
       "      <td>{'alpha': 0.001}</td>\n",
       "      <td>0.0527</td>\n",
       "      <td>0.2922</td>\n",
       "      <td>0.5513</td>\n",
       "      <td>0.6016</td>\n",
       "      <td>0.5045</td>\n",
       "    </tr>\n",
       "    <tr>\n",
       "      <th>1</th>\n",
       "      <td>{'alpha': 0.01}</td>\n",
       "      <td>0.0308</td>\n",
       "      <td>0.2697</td>\n",
       "      <td>0.5602</td>\n",
       "      <td>0.5892</td>\n",
       "      <td>0.5138</td>\n",
       "    </tr>\n",
       "    <tr>\n",
       "      <th>2</th>\n",
       "      <td>{'alpha': 0.1}</td>\n",
       "      <td>0.0274</td>\n",
       "      <td>0.2665</td>\n",
       "      <td>0.5623</td>\n",
       "      <td>0.5882</td>\n",
       "      <td>0.5158</td>\n",
       "    </tr>\n",
       "    <tr>\n",
       "      <th>3</th>\n",
       "      <td>{'alpha': 1.0}</td>\n",
       "      <td>0.0260</td>\n",
       "      <td>0.2647</td>\n",
       "      <td>0.5623</td>\n",
       "      <td>0.5872</td>\n",
       "      <td>0.5156</td>\n",
       "    </tr>\n",
       "    <tr>\n",
       "      <th>4</th>\n",
       "      <td>{'alpha': 10.0}</td>\n",
       "      <td>0.0154</td>\n",
       "      <td>0.2437</td>\n",
       "      <td>0.5662</td>\n",
       "      <td>0.5779</td>\n",
       "      <td>0.5282</td>\n",
       "    </tr>\n",
       "    <tr>\n",
       "      <th>5</th>\n",
       "      <td>{'alpha': 100.0}</td>\n",
       "      <td>0.0086</td>\n",
       "      <td>0.2062</td>\n",
       "      <td>0.5588</td>\n",
       "      <td>0.5599</td>\n",
       "      <td>0.5279</td>\n",
       "    </tr>\n",
       "  </tbody>\n",
       "</table>\n",
       "</div>"
      ],
      "text/plain": [
       "             params  std_test_w_accuracy  mean_test_w_accuracy  \\\n",
       "0  {'alpha': 0.001}               0.0527                0.2922   \n",
       "1   {'alpha': 0.01}               0.0308                0.2697   \n",
       "2    {'alpha': 0.1}               0.0274                0.2665   \n",
       "3    {'alpha': 1.0}               0.0260                0.2647   \n",
       "4   {'alpha': 10.0}               0.0154                0.2437   \n",
       "5  {'alpha': 100.0}               0.0086                0.2062   \n",
       "\n",
       "   mean_test_accuracy  mean_test_down_accuracy  mean_test_up_accuracy  \n",
       "0              0.5513                   0.6016                 0.5045  \n",
       "1              0.5602                   0.5892                 0.5138  \n",
       "2              0.5623                   0.5882                 0.5158  \n",
       "3              0.5623                   0.5872                 0.5156  \n",
       "4              0.5662                   0.5779                 0.5282  \n",
       "5              0.5588                   0.5599                 0.5279  "
      ]
     },
     "execution_count": 313,
     "metadata": {},
     "output_type": "execute_result"
    }
   ],
   "source": [
    "res_ridge_cv_df[['params', 'std_test_w_accuracy', 'mean_test_w_accuracy', 'mean_test_accuracy',\n",
    "                 'mean_test_down_accuracy',\n",
    "                 'mean_test_up_accuracy']]"
   ]
  },
  {
   "cell_type": "code",
   "execution_count": 314,
   "metadata": {},
   "outputs": [
    {
     "data": {
      "text/plain": [
       "0.2921914978301902"
      ]
     },
     "execution_count": 314,
     "metadata": {},
     "output_type": "execute_result"
    }
   ],
   "source": [
    "res_ridge_cv.best_score_"
   ]
  },
  {
   "cell_type": "code",
   "execution_count": 322,
   "metadata": {},
   "outputs": [
    {
     "data": {
      "text/plain": [
       "Ridge(alpha=0.1, copy_X=True, fit_intercept=False, max_iter=None,\n",
       "      normalize=False, random_state=123, solver='auto', tol=0.001)"
      ]
     },
     "execution_count": 322,
     "metadata": {},
     "output_type": "execute_result"
    }
   ],
   "source": [
    "champ_ridge_hparms = res_ridge_cv.cv_results_['params'][2]\n",
    "champ_ridge = Ridge(fit_intercept=False, random_state=RND_SEED)\n",
    "champ_ridge.set_params(**champ_ridge_hparms)\n",
    "champ_ridge.fit(X_train_smp[features], y_train_smp)"
   ]
  },
  {
   "cell_type": "code",
   "execution_count": 323,
   "metadata": {},
   "outputs": [],
   "source": [
    "p_test = pd.Series(index=y_test_full.index, data=champ_ridge.predict(X_test_full[features]))"
   ]
  },
  {
   "cell_type": "code",
   "execution_count": 324,
   "metadata": {},
   "outputs": [
    {
     "data": {
      "text/plain": [
       "train_pmean           0.0035\n",
       "train_score           0.0008\n",
       "valid_pmean           0.0083\n",
       "valid_score           0.0015\n",
       "train_acc_target<0    0.3061\n",
       "train_acc_target>0    0.7843\n",
       "train_acc             0.5751\n",
       "valid_acc             0.5023\n",
       "valid_acc_target<0    0.1049\n",
       "valid_acc_target>0    0.8922\n",
       "dtype: float64"
      ]
     },
     "execution_count": 324,
     "metadata": {},
     "output_type": "execute_result"
    }
   ],
   "source": [
    "ridge_sum_df = mle_utils.predict_and_score(champ_ridge,\n",
    "                                           X_train_full[features], y_train_full,\n",
    "                                           X_test_full[features], y_test_full, kind='reg')\n",
    "ridge_sum_df"
   ]
  },
  {
   "cell_type": "code",
   "execution_count": null,
   "metadata": {},
   "outputs": [],
   "source": [
    "# overlapper"
   ]
  },
  {
   "cell_type": "code",
   "execution_count": null,
   "metadata": {},
   "outputs": [],
   "source": []
  },
  {
   "cell_type": "code",
   "execution_count": null,
   "metadata": {},
   "outputs": [],
   "source": []
  },
  {
   "cell_type": "code",
   "execution_count": 47,
   "metadata": {},
   "outputs": [],
   "source": [
    "\n",
    "rf_tscv_smp = TimeSeriesSplit(n_splits=KFOLDS).split(y_train_smp)"
   ]
  },
  {
   "cell_type": "code",
   "execution_count": 48,
   "metadata": {},
   "outputs": [],
   "source": [
    "hpgrid_rf = {'max_samples': [0.25, 0.5, 0.75],\n",
    "            'max_features': [0.25, 0.5, 0.75],\n",
    "            'min_samples_leaf': [250, 500, 1000, 2500, 5000]}\n",
    "rf = RandomForestRegressor(n_estimators=200, criterion='mse',\n",
    "                            bootstrap=True,oob_score=True,\n",
    "                            n_jobs=-1, random_state=RND_SEED)"
   ]
  },
  {
   "cell_type": "code",
   "execution_count": 49,
   "metadata": {},
   "outputs": [],
   "source": [
    "rf_cv = GridSearchCV(rf, hpgrid_rf, scoring=scoring,\n",
    "                        n_jobs=-1, refit='w_accuracy',\n",
    "                        cv=rf_tscv_smp, return_train_score=True)\n",
    "res_rf_cv = rf_cv.fit(X_train_smp, y_train_smp)"
   ]
  },
  {
   "cell_type": "code",
   "execution_count": 296,
   "metadata": {},
   "outputs": [
    {
     "data": {
      "text/html": [
       "<div>\n",
       "<style scoped>\n",
       "    .dataframe tbody tr th:only-of-type {\n",
       "        vertical-align: middle;\n",
       "    }\n",
       "\n",
       "    .dataframe tbody tr th {\n",
       "        vertical-align: top;\n",
       "    }\n",
       "\n",
       "    .dataframe thead th {\n",
       "        text-align: right;\n",
       "    }\n",
       "</style>\n",
       "<table border=\"1\" class=\"dataframe\">\n",
       "  <thead>\n",
       "    <tr style=\"text-align: right;\">\n",
       "      <th></th>\n",
       "      <th>ccp_alpha</th>\n",
       "      <th>max_features</th>\n",
       "      <th>max_samples</th>\n",
       "      <th>min_samples_leaf</th>\n",
       "      <th>std_test_neg_root_mean_squared_error</th>\n",
       "      <th>mean_test_neg_root_mean_squared_error</th>\n",
       "      <th>rank_test_neg_root_mean_squared_error</th>\n",
       "    </tr>\n",
       "  </thead>\n",
       "  <tbody>\n",
       "    <tr>\n",
       "      <th>8</th>\n",
       "      <td>0.0</td>\n",
       "      <td>0.25</td>\n",
       "      <td>0.50</td>\n",
       "      <td>1000</td>\n",
       "      <td>0.0008</td>\n",
       "      <td>-0.0286</td>\n",
       "      <td>1</td>\n",
       "    </tr>\n",
       "    <tr>\n",
       "      <th>26</th>\n",
       "      <td>0.0</td>\n",
       "      <td>0.50</td>\n",
       "      <td>0.25</td>\n",
       "      <td>1000</td>\n",
       "      <td>0.0008</td>\n",
       "      <td>-0.0286</td>\n",
       "      <td>2</td>\n",
       "    </tr>\n",
       "    <tr>\n",
       "      <th>2</th>\n",
       "      <td>0.0</td>\n",
       "      <td>0.25</td>\n",
       "      <td>0.25</td>\n",
       "      <td>1000</td>\n",
       "      <td>0.0008</td>\n",
       "      <td>-0.0286</td>\n",
       "      <td>3</td>\n",
       "    </tr>\n",
       "    <tr>\n",
       "      <th>39</th>\n",
       "      <td>0.0</td>\n",
       "      <td>0.50</td>\n",
       "      <td>0.75</td>\n",
       "      <td>2500</td>\n",
       "      <td>0.0009</td>\n",
       "      <td>-0.0286</td>\n",
       "      <td>4</td>\n",
       "    </tr>\n",
       "    <tr>\n",
       "      <th>15</th>\n",
       "      <td>0.0</td>\n",
       "      <td>0.25</td>\n",
       "      <td>0.75</td>\n",
       "      <td>2500</td>\n",
       "      <td>0.0008</td>\n",
       "      <td>-0.0286</td>\n",
       "      <td>5</td>\n",
       "    </tr>\n",
       "    <tr>\n",
       "      <th>1</th>\n",
       "      <td>0.0</td>\n",
       "      <td>0.25</td>\n",
       "      <td>0.25</td>\n",
       "      <td>500</td>\n",
       "      <td>0.0008</td>\n",
       "      <td>-0.0286</td>\n",
       "      <td>6</td>\n",
       "    </tr>\n",
       "    <tr>\n",
       "      <th>50</th>\n",
       "      <td>0.0</td>\n",
       "      <td>0.75</td>\n",
       "      <td>0.25</td>\n",
       "      <td>1000</td>\n",
       "      <td>0.0009</td>\n",
       "      <td>-0.0286</td>\n",
       "      <td>7</td>\n",
       "    </tr>\n",
       "    <tr>\n",
       "      <th>14</th>\n",
       "      <td>0.0</td>\n",
       "      <td>0.25</td>\n",
       "      <td>0.75</td>\n",
       "      <td>1000</td>\n",
       "      <td>0.0008</td>\n",
       "      <td>-0.0286</td>\n",
       "      <td>8</td>\n",
       "    </tr>\n",
       "    <tr>\n",
       "      <th>63</th>\n",
       "      <td>0.0</td>\n",
       "      <td>0.75</td>\n",
       "      <td>0.75</td>\n",
       "      <td>2500</td>\n",
       "      <td>0.0009</td>\n",
       "      <td>-0.0287</td>\n",
       "      <td>9</td>\n",
       "    </tr>\n",
       "    <tr>\n",
       "      <th>9</th>\n",
       "      <td>0.0</td>\n",
       "      <td>0.25</td>\n",
       "      <td>0.50</td>\n",
       "      <td>2500</td>\n",
       "      <td>0.0009</td>\n",
       "      <td>-0.0287</td>\n",
       "      <td>10</td>\n",
       "    </tr>\n",
       "    <tr>\n",
       "      <th>33</th>\n",
       "      <td>0.0</td>\n",
       "      <td>0.50</td>\n",
       "      <td>0.50</td>\n",
       "      <td>2500</td>\n",
       "      <td>0.0010</td>\n",
       "      <td>-0.0287</td>\n",
       "      <td>11</td>\n",
       "    </tr>\n",
       "    <tr>\n",
       "      <th>13</th>\n",
       "      <td>0.0</td>\n",
       "      <td>0.25</td>\n",
       "      <td>0.75</td>\n",
       "      <td>500</td>\n",
       "      <td>0.0007</td>\n",
       "      <td>-0.0287</td>\n",
       "      <td>12</td>\n",
       "    </tr>\n",
       "    <tr>\n",
       "      <th>7</th>\n",
       "      <td>0.0</td>\n",
       "      <td>0.25</td>\n",
       "      <td>0.50</td>\n",
       "      <td>500</td>\n",
       "      <td>0.0007</td>\n",
       "      <td>-0.0287</td>\n",
       "      <td>13</td>\n",
       "    </tr>\n",
       "    <tr>\n",
       "      <th>0</th>\n",
       "      <td>0.0</td>\n",
       "      <td>0.25</td>\n",
       "      <td>0.25</td>\n",
       "      <td>250</td>\n",
       "      <td>0.0007</td>\n",
       "      <td>-0.0287</td>\n",
       "      <td>14</td>\n",
       "    </tr>\n",
       "    <tr>\n",
       "      <th>88</th>\n",
       "      <td>0.0</td>\n",
       "      <td>1.00</td>\n",
       "      <td>0.75</td>\n",
       "      <td>5000</td>\n",
       "      <td>0.0009</td>\n",
       "      <td>-0.0287</td>\n",
       "      <td>15</td>\n",
       "    </tr>\n",
       "    <tr>\n",
       "      <th>12</th>\n",
       "      <td>0.0</td>\n",
       "      <td>0.25</td>\n",
       "      <td>0.75</td>\n",
       "      <td>250</td>\n",
       "      <td>0.0008</td>\n",
       "      <td>-0.0287</td>\n",
       "      <td>16</td>\n",
       "    </tr>\n",
       "    <tr>\n",
       "      <th>64</th>\n",
       "      <td>0.0</td>\n",
       "      <td>0.75</td>\n",
       "      <td>0.75</td>\n",
       "      <td>5000</td>\n",
       "      <td>0.0009</td>\n",
       "      <td>-0.0287</td>\n",
       "      <td>17</td>\n",
       "    </tr>\n",
       "    <tr>\n",
       "      <th>40</th>\n",
       "      <td>0.0</td>\n",
       "      <td>0.50</td>\n",
       "      <td>0.75</td>\n",
       "      <td>5000</td>\n",
       "      <td>0.0009</td>\n",
       "      <td>-0.0287</td>\n",
       "      <td>18</td>\n",
       "    </tr>\n",
       "    <tr>\n",
       "      <th>75</th>\n",
       "      <td>0.0</td>\n",
       "      <td>1.00</td>\n",
       "      <td>0.25</td>\n",
       "      <td>2500</td>\n",
       "      <td>0.0009</td>\n",
       "      <td>-0.0287</td>\n",
       "      <td>19</td>\n",
       "    </tr>\n",
       "    <tr>\n",
       "      <th>51</th>\n",
       "      <td>0.0</td>\n",
       "      <td>0.75</td>\n",
       "      <td>0.25</td>\n",
       "      <td>2500</td>\n",
       "      <td>0.0009</td>\n",
       "      <td>-0.0287</td>\n",
       "      <td>20</td>\n",
       "    </tr>\n",
       "  </tbody>\n",
       "</table>\n",
       "</div>"
      ],
      "text/plain": [
       "    ccp_alpha  max_features  max_samples  min_samples_leaf  \\\n",
       "8         0.0          0.25         0.50              1000   \n",
       "26        0.0          0.50         0.25              1000   \n",
       "2         0.0          0.25         0.25              1000   \n",
       "39        0.0          0.50         0.75              2500   \n",
       "15        0.0          0.25         0.75              2500   \n",
       "1         0.0          0.25         0.25               500   \n",
       "50        0.0          0.75         0.25              1000   \n",
       "14        0.0          0.25         0.75              1000   \n",
       "63        0.0          0.75         0.75              2500   \n",
       "9         0.0          0.25         0.50              2500   \n",
       "33        0.0          0.50         0.50              2500   \n",
       "13        0.0          0.25         0.75               500   \n",
       "7         0.0          0.25         0.50               500   \n",
       "0         0.0          0.25         0.25               250   \n",
       "88        0.0          1.00         0.75              5000   \n",
       "12        0.0          0.25         0.75               250   \n",
       "64        0.0          0.75         0.75              5000   \n",
       "40        0.0          0.50         0.75              5000   \n",
       "75        0.0          1.00         0.25              2500   \n",
       "51        0.0          0.75         0.25              2500   \n",
       "\n",
       "    std_test_neg_root_mean_squared_error  \\\n",
       "8                                 0.0008   \n",
       "26                                0.0008   \n",
       "2                                 0.0008   \n",
       "39                                0.0009   \n",
       "15                                0.0008   \n",
       "1                                 0.0008   \n",
       "50                                0.0009   \n",
       "14                                0.0008   \n",
       "63                                0.0009   \n",
       "9                                 0.0009   \n",
       "33                                0.0010   \n",
       "13                                0.0007   \n",
       "7                                 0.0007   \n",
       "0                                 0.0007   \n",
       "88                                0.0009   \n",
       "12                                0.0008   \n",
       "64                                0.0009   \n",
       "40                                0.0009   \n",
       "75                                0.0009   \n",
       "51                                0.0009   \n",
       "\n",
       "    mean_test_neg_root_mean_squared_error  \\\n",
       "8                                 -0.0286   \n",
       "26                                -0.0286   \n",
       "2                                 -0.0286   \n",
       "39                                -0.0286   \n",
       "15                                -0.0286   \n",
       "1                                 -0.0286   \n",
       "50                                -0.0286   \n",
       "14                                -0.0286   \n",
       "63                                -0.0287   \n",
       "9                                 -0.0287   \n",
       "33                                -0.0287   \n",
       "13                                -0.0287   \n",
       "7                                 -0.0287   \n",
       "0                                 -0.0287   \n",
       "88                                -0.0287   \n",
       "12                                -0.0287   \n",
       "64                                -0.0287   \n",
       "40                                -0.0287   \n",
       "75                                -0.0287   \n",
       "51                                -0.0287   \n",
       "\n",
       "    rank_test_neg_root_mean_squared_error  \n",
       "8                                       1  \n",
       "26                                      2  \n",
       "2                                       3  \n",
       "39                                      4  \n",
       "15                                      5  \n",
       "1                                       6  \n",
       "50                                      7  \n",
       "14                                      8  \n",
       "63                                      9  \n",
       "9                                      10  \n",
       "33                                     11  \n",
       "13                                     12  \n",
       "7                                      13  \n",
       "0                                      14  \n",
       "88                                     15  \n",
       "12                                     16  \n",
       "64                                     17  \n",
       "40                                     18  \n",
       "75                                     19  \n",
       "51                                     20  "
      ]
     },
     "execution_count": 296,
     "metadata": {},
     "output_type": "execute_result"
    }
   ],
   "source": [
    "rf_params_df = pd.DataFrame(res_rf_cv.cv_results_['params'])\n",
    "rf_metrics_df = pd.DataFrame(res_rf_cv.cv_results_).drop(columns='params')\n",
    "rf_sum_df = rf_params_df.join(rf_metrics_df)\n",
    "rf_sum_df[rf_params_df.columns.tolist() + ['std_test_neg_root_mean_squared_error', 'mean_test_neg_root_mean_squared_error', 'rank_test_neg_root_mean_squared_error']].sort_values(by='rank_test_neg_root_mean_squared_error').head(20)"
   ]
  },
  {
   "cell_type": "code",
   "execution_count": 51,
   "metadata": {},
   "outputs": [
    {
     "data": {
      "text/plain": [
       "-0.02859316459860702"
      ]
     },
     "execution_count": 51,
     "metadata": {},
     "output_type": "execute_result"
    }
   ],
   "source": [
    "res_rf_cv.best_score_"
   ]
  },
  {
   "cell_type": "code",
   "execution_count": 52,
   "metadata": {},
   "outputs": [
    {
     "data": {
      "text/plain": [
       "RandomForestRegressor(bootstrap=True, ccp_alpha=0.0, criterion='mse',\n",
       "                      max_depth=None, max_features=0.25, max_leaf_nodes=None,\n",
       "                      max_samples=0.5, min_impurity_decrease=0.0,\n",
       "                      min_impurity_split=None, min_samples_leaf=1000,\n",
       "                      min_samples_split=2, min_weight_fraction_leaf=0.0,\n",
       "                      n_estimators=250, n_jobs=-1, oob_score=True,\n",
       "                      random_state=123, verbose=0, warm_start=False)"
      ]
     },
     "execution_count": 52,
     "metadata": {},
     "output_type": "execute_result"
    }
   ],
   "source": [
    "champ_rf = res_rf_cv.best_estimator_\n",
    "champ_rf"
   ]
  },
  {
   "cell_type": "code",
   "execution_count": 53,
   "metadata": {},
   "outputs": [],
   "source": [
    "p_test = pd.Series(index=y_test_full.index, data=champ_rf.predict(X_test_full))"
   ]
  },
  {
   "cell_type": "code",
   "execution_count": 54,
   "metadata": {},
   "outputs": [
    {
     "data": {
      "text/plain": [
       "<matplotlib.axes._subplots.AxesSubplot at 0x23e833db308>"
      ]
     },
     "execution_count": 54,
     "metadata": {},
     "output_type": "execute_result"
    },
    {
     "data": {
      "image/png": "[encoded data removed]",
      "text/plain": [
       "<Figure size 432x288 with 1 Axes>"
      ]
     },
     "metadata": {
      "needs_background": "light"
     },
     "output_type": "display_data"
    }
   ],
   "source": [
    "p_test.hist()"
   ]
  },
  {
   "cell_type": "code",
   "execution_count": null,
   "metadata": {},
   "outputs": [],
   "source": []
  },
  {
   "cell_type": "code",
   "execution_count": 55,
   "metadata": {},
   "outputs": [
    {
     "data": {
      "text/plain": [
       "train_pmean           0.0036\n",
       "train_score           0.0008\n",
       "valid_pmean           0.0059\n",
       "valid_score           0.0014\n",
       "oob_score             0.0666\n",
       "train_acc_target<0    0.2666\n",
       "train_acc_target>0    0.8882\n",
       "train_acc             0.6162\n",
       "valid_acc             0.5068\n",
       "valid_acc_target<0    0.0451\n",
       "valid_acc_target>0    0.9598\n",
       "dtype: float64"
      ]
     },
     "execution_count": 55,
     "metadata": {},
     "output_type": "execute_result"
    }
   ],
   "source": [
    "rf_sum_df = mle_utils.predict_and_score(champ_rf,\n",
    "                                        X_train_full, y_train_full,\n",
    "                                        X_test_full, y_test_full, kind='reg')\n",
    "rf_sum_df"
   ]
  },
  {
   "cell_type": "code",
   "execution_count": null,
   "metadata": {},
   "outputs": [],
   "source": []
  }
 ],
 "metadata": {
  "kernelspec": {
   "display_name": "Python 3",
   "language": "python",
   "name": "python3"
  },
  "language_info": {
   "codemirror_mode": {
    "name": "ipython",
    "version": 3
   },
   "file_extension": ".py",
   "mimetype": "text/x-python",
   "name": "python",
   "nbconvert_exporter": "python",
   "pygments_lexer": "ipython3",
   "version": "3.7.7"
  },
  "toc-autonumbering": true
 },
 "nbformat": 4,
 "nbformat_minor": 4
}
