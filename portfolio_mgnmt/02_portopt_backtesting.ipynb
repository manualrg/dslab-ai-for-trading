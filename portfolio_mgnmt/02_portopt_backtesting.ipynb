{
 "cells": [
  {
   "cell_type": "markdown",
   "metadata": {},
   "source": [
    "<font size=\"6\"> **Portfolio Optimization** </font>\n",
    "\n",
    "$$ \\vec{r}(N,T) = \\vec{\\beta}(N,K) · \\vec{f}(K,T) + \\vec{s}(N,T)$$\n",
    "\n",
    "* from $\\vec{f}$ compute `factor covariance matrix`: $\\vec{F}$\n",
    "* from $\\vec{s}$ compute `idiosyncratic covariance matrix` $\\vec{S}$ and extract diagonal\n",
    "\n",
    "Use  $\\vec{\\beta}$, $\\vec{F}$ and $\\vec{S}$ to estimate portfolio risk: $\\sigma_{r_{p}}$"
   ]
  },
  {
   "cell_type": "code",
   "execution_count": 1,
   "metadata": {},
   "outputs": [],
   "source": [
    "%%capture\n",
    "%run 01_portopt_data.ipynb"
   ]
  },
  {
   "cell_type": "code",
   "execution_count": 2,
   "metadata": {},
   "outputs": [],
   "source": [
    "import matplotlib.pyplot as plt\n",
    "import scipy\n",
    "import pickle\n",
    "import datetime as dt\n",
    "\n",
    "from mle_quant_utils import portopt_utils\n",
    "from tqdm import tqdm\n",
    "\n",
    "%matplotlib inline\n",
    "plt.style.use('ggplot')\n",
    "plt.rcParams['figure.figsize'] = (14, 8)"
   ]
  },
  {
   "cell_type": "code",
   "execution_count": 3,
   "metadata": {},
   "outputs": [],
   "source": [
    "import yaml\n",
    "import os\n",
    "\n",
    "# Retrieve parameters from configuration file\n",
    "with open(\"../conf.yml\", \"r\") as ymlfile:\n",
    "    cfg = yaml.load(ymlfile)"
   ]
  },
  {
   "cell_type": "raw",
   "metadata": {},
   "source": [
    "OUTPATH =  \"../data/\" + cfg['output']['main'] + \"/\" + cfg['output']['risk_factors']['folder'] + \"/\" + MODEL_VERSION + \"/\"\n",
    "OUTFILE1 = cfg['output']['risk_factors']['model']\n",
    "OUTFILE2 = cfg['output']['risk_factors']['model_metadata']"
   ]
  },
  {
   "cell_type": "code",
   "execution_count": 4,
   "metadata": {},
   "outputs": [],
   "source": [
    "RND_SEED = 123\n",
    "STR_DATE_FMT = \"%Y%m%d\"\n",
    "\n",
    "universe_start_date = test_dates[0]\n",
    "universe_end_date = test_dates[-1]\n",
    "min_mkt_cap = float(cfg['backtesting']['min_mkt_cap'])\n",
    "risk_aversion = float(cfg['backtesting']['risk_aversion'])\n"
   ]
  },
  {
   "cell_type": "code",
   "execution_count": 5,
   "metadata": {},
   "outputs": [
    {
     "data": {
      "text/html": [
       "<div>\n",
       "<style scoped>\n",
       "    .dataframe tbody tr th:only-of-type {\n",
       "        vertical-align: middle;\n",
       "    }\n",
       "\n",
       "    .dataframe tbody tr th {\n",
       "        vertical-align: top;\n",
       "    }\n",
       "\n",
       "    .dataframe thead th {\n",
       "        text-align: right;\n",
       "    }\n",
       "</style>\n",
       "<table border=\"1\" class=\"dataframe\">\n",
       "  <thead>\n",
       "    <tr style=\"text-align: right;\">\n",
       "      <th></th>\n",
       "      <th>A</th>\n",
       "      <th>AAL</th>\n",
       "      <th>AAP</th>\n",
       "      <th>AAPL</th>\n",
       "      <th>ABBV</th>\n",
       "      <th>ABC</th>\n",
       "      <th>ABT</th>\n",
       "      <th>ACN</th>\n",
       "      <th>ADBE</th>\n",
       "      <th>ADI</th>\n",
       "      <th>...</th>\n",
       "      <th>XL</th>\n",
       "      <th>XLNX</th>\n",
       "      <th>XOM</th>\n",
       "      <th>XRAY</th>\n",
       "      <th>XRX</th>\n",
       "      <th>XYL</th>\n",
       "      <th>YUM</th>\n",
       "      <th>ZBH</th>\n",
       "      <th>ZION</th>\n",
       "      <th>ZTS</th>\n",
       "    </tr>\n",
       "    <tr>\n",
       "      <th>date</th>\n",
       "      <th></th>\n",
       "      <th></th>\n",
       "      <th></th>\n",
       "      <th></th>\n",
       "      <th></th>\n",
       "      <th></th>\n",
       "      <th></th>\n",
       "      <th></th>\n",
       "      <th></th>\n",
       "      <th></th>\n",
       "      <th></th>\n",
       "      <th></th>\n",
       "      <th></th>\n",
       "      <th></th>\n",
       "      <th></th>\n",
       "      <th></th>\n",
       "      <th></th>\n",
       "      <th></th>\n",
       "      <th></th>\n",
       "      <th></th>\n",
       "      <th></th>\n",
       "    </tr>\n",
       "  </thead>\n",
       "  <tbody>\n",
       "    <tr>\n",
       "      <th>2015-05-28 00:00:00+00:00</th>\n",
       "      <td>-4.343143</td>\n",
       "      <td>-1.387602</td>\n",
       "      <td>0.121663</td>\n",
       "      <td>-1.106933</td>\n",
       "      <td>-0.930783</td>\n",
       "      <td>-1.824873</td>\n",
       "      <td>-0.396733</td>\n",
       "      <td>-0.795519</td>\n",
       "      <td>-1.180581</td>\n",
       "      <td>-0.989702</td>\n",
       "      <td>...</td>\n",
       "      <td>0.811210</td>\n",
       "      <td>-0.882280</td>\n",
       "      <td>-1.000000</td>\n",
       "      <td>-0.605109</td>\n",
       "      <td>-0.689255</td>\n",
       "      <td>0.249423</td>\n",
       "      <td>-1.405459</td>\n",
       "      <td>-1.737738</td>\n",
       "      <td>-1.462557</td>\n",
       "      <td>-1.219448</td>\n",
       "    </tr>\n",
       "    <tr>\n",
       "      <th>2015-05-29 00:00:00+00:00</th>\n",
       "      <td>1.715641</td>\n",
       "      <td>-2.494271</td>\n",
       "      <td>2.617707</td>\n",
       "      <td>4.695390</td>\n",
       "      <td>-10.727698</td>\n",
       "      <td>0.109932</td>\n",
       "      <td>-3.630394</td>\n",
       "      <td>-7.203142</td>\n",
       "      <td>5.390871</td>\n",
       "      <td>-19.050437</td>\n",
       "      <td>...</td>\n",
       "      <td>-1.334927</td>\n",
       "      <td>-3.816060</td>\n",
       "      <td>inf</td>\n",
       "      <td>-1.408702</td>\n",
       "      <td>-2.137564</td>\n",
       "      <td>-1.642314</td>\n",
       "      <td>8.448164</td>\n",
       "      <td>-1.801041</td>\n",
       "      <td>0.714105</td>\n",
       "      <td>-2.956199</td>\n",
       "    </tr>\n",
       "    <tr>\n",
       "      <th>2015-12-24 00:00:00+00:00</th>\n",
       "      <td>-1.311973</td>\n",
       "      <td>0.304040</td>\n",
       "      <td>-0.944139</td>\n",
       "      <td>-1.414993</td>\n",
       "      <td>-1.118802</td>\n",
       "      <td>-0.988058</td>\n",
       "      <td>-1.000000</td>\n",
       "      <td>-1.285938</td>\n",
       "      <td>-1.450322</td>\n",
       "      <td>-0.316175</td>\n",
       "      <td>...</td>\n",
       "      <td>0.046096</td>\n",
       "      <td>-1.065262</td>\n",
       "      <td>-1.327937</td>\n",
       "      <td>-1.280433</td>\n",
       "      <td>-0.503892</td>\n",
       "      <td>-1.093624</td>\n",
       "      <td>-1.105569</td>\n",
       "      <td>-0.866521</td>\n",
       "      <td>-0.788249</td>\n",
       "      <td>-0.426651</td>\n",
       "    </tr>\n",
       "    <tr>\n",
       "      <th>2015-12-28 00:00:00+00:00</th>\n",
       "      <td>-2.911899</td>\n",
       "      <td>-2.102883</td>\n",
       "      <td>19.483228</td>\n",
       "      <td>1.097846</td>\n",
       "      <td>-3.426971</td>\n",
       "      <td>24.553246</td>\n",
       "      <td>-inf</td>\n",
       "      <td>-0.208504</td>\n",
       "      <td>-0.748940</td>\n",
       "      <td>-2.086551</td>\n",
       "      <td>...</td>\n",
       "      <td>-0.947725</td>\n",
       "      <td>0.715349</td>\n",
       "      <td>-0.306336</td>\n",
       "      <td>-3.317430</td>\n",
       "      <td>-4.806676</td>\n",
       "      <td>1.158656</td>\n",
       "      <td>0.343641</td>\n",
       "      <td>-5.701616</td>\n",
       "      <td>-2.265995</td>\n",
       "      <td>-2.532631</td>\n",
       "    </tr>\n",
       "  </tbody>\n",
       "</table>\n",
       "<p>4 rows × 490 columns</p>\n",
       "</div>"
      ],
      "text/plain": [
       "                                  A       AAL        AAP      AAPL       ABBV  \\\n",
       "date                                                                            \n",
       "2015-05-28 00:00:00+00:00 -4.343143 -1.387602   0.121663 -1.106933  -0.930783   \n",
       "2015-05-29 00:00:00+00:00  1.715641 -2.494271   2.617707  4.695390 -10.727698   \n",
       "2015-12-24 00:00:00+00:00 -1.311973  0.304040  -0.944139 -1.414993  -1.118802   \n",
       "2015-12-28 00:00:00+00:00 -2.911899 -2.102883  19.483228  1.097846  -3.426971   \n",
       "\n",
       "                                 ABC       ABT       ACN      ADBE        ADI  \\\n",
       "date                                                                            \n",
       "2015-05-28 00:00:00+00:00  -1.824873 -0.396733 -0.795519 -1.180581  -0.989702   \n",
       "2015-05-29 00:00:00+00:00   0.109932 -3.630394 -7.203142  5.390871 -19.050437   \n",
       "2015-12-24 00:00:00+00:00  -0.988058 -1.000000 -1.285938 -1.450322  -0.316175   \n",
       "2015-12-28 00:00:00+00:00  24.553246      -inf -0.208504 -0.748940  -2.086551   \n",
       "\n",
       "                             ...           XL      XLNX       XOM      XRAY  \\\n",
       "date                         ...                                              \n",
       "2015-05-28 00:00:00+00:00    ...     0.811210 -0.882280 -1.000000 -0.605109   \n",
       "2015-05-29 00:00:00+00:00    ...    -1.334927 -3.816060       inf -1.408702   \n",
       "2015-12-24 00:00:00+00:00    ...     0.046096 -1.065262 -1.327937 -1.280433   \n",
       "2015-12-28 00:00:00+00:00    ...    -0.947725  0.715349 -0.306336 -3.317430   \n",
       "\n",
       "                                XRX       XYL       YUM       ZBH      ZION  \\\n",
       "date                                                                          \n",
       "2015-05-28 00:00:00+00:00 -0.689255  0.249423 -1.405459 -1.737738 -1.462557   \n",
       "2015-05-29 00:00:00+00:00 -2.137564 -1.642314  8.448164 -1.801041  0.714105   \n",
       "2015-12-24 00:00:00+00:00 -0.503892 -1.093624 -1.105569 -0.866521 -0.788249   \n",
       "2015-12-28 00:00:00+00:00 -4.806676  1.158656  0.343641 -5.701616 -2.265995   \n",
       "\n",
       "                                ZTS  \n",
       "date                                 \n",
       "2015-05-28 00:00:00+00:00 -1.219448  \n",
       "2015-05-29 00:00:00+00:00 -2.956199  \n",
       "2015-12-24 00:00:00+00:00 -0.426651  \n",
       "2015-12-28 00:00:00+00:00 -2.532631  \n",
       "\n",
       "[4 rows x 490 columns]"
      ]
     },
     "execution_count": 5,
     "metadata": {},
     "output_type": "execute_result"
    }
   ],
   "source": [
    "daily_returns = daily_returns[universe_start_date:universe_end_date].copy()\n",
    "pd.concat([daily_returns.head(2), daily_returns.tail(2)],axis=0)"
   ]
  },
  {
   "cell_type": "code",
   "execution_count": 6,
   "metadata": {},
   "outputs": [],
   "source": [
    "def get_obj_func(h0, risk_aversion, Q, specVar, alpha_vec, Lambda): \n",
    "    def obj_func(h):\n",
    "        _h0 = h0.values\n",
    "        factor_risk = 0.5*risk_aversion*np.sum( np.matmul(Q,h)**2 )\n",
    "        idiosyncratic_risk = 0.5*risk_aversion*np.dot(h**2, specVar)  # specVar is diag\n",
    "        exp_port_ret = np.dot(h, alpha_vec)\n",
    "        trans_costs = np.dot((h-_h0)**2, Lambda)\n",
    "        obj_f = factor_risk + idiosyncratic_risk - exp_port_ret + trans_costs\n",
    "        return(obj_f)\n",
    "    \n",
    "    return obj_func"
   ]
  },
  {
   "cell_type": "code",
   "execution_count": 7,
   "metadata": {},
   "outputs": [],
   "source": [
    "def get_grad_func(h0, risk_aversion, Q, QT, specVar, alpha_vec, Lambda):\n",
    "    def grad_func(h):\n",
    "        \n",
    "        grad_factor_risk = risk_aversion*np.matmul(QT, np.matmul(Q,h))\n",
    "        grad_idiosyncratic_risk = risk_aversion*specVar*h\n",
    "        grad_exp_port_ret =  alpha_vec\n",
    "        grad_trans_costs = 2*(h-h0)*Lambda\n",
    "        \n",
    "        g = grad_factor_risk + grad_idiosyncratic_risk - grad_exp_port_ret + grad_trans_costs\n",
    "        return(np.asarray(g))\n",
    "    \n",
    "    return grad_func"
   ]
  },
  {
   "cell_type": "code",
   "execution_count": 8,
   "metadata": {},
   "outputs": [],
   "source": [
    "def get_h_star(risk_aversion, Q, QT, specVar, alpha_vec, h0, Lambda):\n",
    "    \"\"\"\n",
    "    Optimize the objective function\n",
    "\n",
    "    Parameters\n",
    "    ----------        \n",
    "    risk_aversion : int or float \n",
    "        Trader's risk aversion\n",
    "        \n",
    "    Q : patsy.design_info.DesignMatrix \n",
    "        Q Matrix\n",
    "        \n",
    "    QT : patsy.design_info.DesignMatrix \n",
    "        Transpose of the Q Matrix\n",
    "        \n",
    "    specVar: Pandas Series \n",
    "        Specific Variance\n",
    "        \n",
    "    alpha_vec: patsy.design_info.DesignMatrix \n",
    "        alpha vector\n",
    "        \n",
    "    h0 : Pandas Series  \n",
    "        initial holdings\n",
    "        \n",
    "    Lambda : Pandas Series  \n",
    "        Lambda\n",
    "        \n",
    "    Returns\n",
    "    -------\n",
    "    optimizer_result[0]: Numpy ndarray \n",
    "        optimized holdings\n",
    "    \"\"\"\n",
    "    obj_func = get_obj_func(h0, risk_aversion, Q, specVar, alpha_vec, Lambda)\n",
    "    grad_func = get_grad_func(h0, risk_aversion, Q, QT, specVar, alpha_vec, Lambda)\n",
    "\n",
    "\n",
    "    optimizer_result = scipy.optimize.fmin_l_bfgs_b(\n",
    "        func=obj_func, x0=h0, fprime=grad_func\n",
    "    )\n",
    "    return optimizer_result[0]"
   ]
  },
  {
   "cell_type": "code",
   "execution_count": 9,
   "metadata": {},
   "outputs": [
    {
     "data": {
      "text/plain": [
       "dict_keys(['idiosyncratic_var_vector', 'factor_var_vector', 'factor_returns', 'factor_betas'])"
      ]
     },
     "execution_count": 9,
     "metadata": {},
     "output_type": "execute_result"
    }
   ],
   "source": [
    "risk_model.keys()"
   ]
  },
  {
   "cell_type": "code",
   "execution_count": 10,
   "metadata": {},
   "outputs": [],
   "source": [
    "risk_facret = risk_model['factor_returns']\n",
    "#alpha_facret"
   ]
  },
  {
   "cell_type": "code",
   "execution_count": 11,
   "metadata": {},
   "outputs": [
    {
     "data": {
      "text/plain": [
       "(490, 20)"
      ]
     },
     "execution_count": 11,
     "metadata": {},
     "output_type": "execute_result"
    }
   ],
   "source": [
    "B = risk_model['factor_betas']\n",
    "B.shape"
   ]
  },
  {
   "cell_type": "code",
   "execution_count": 12,
   "metadata": {},
   "outputs": [
    {
     "data": {
      "text/plain": [
       "(20, 20)"
      ]
     },
     "execution_count": 12,
     "metadata": {},
     "output_type": "execute_result"
    }
   ],
   "source": [
    "Fvar = np.diag(risk_model['factor_var_vector'].values[:,0])\n",
    "Fvar.shape"
   ]
  },
  {
   "cell_type": "code",
   "execution_count": 65,
   "metadata": {},
   "outputs": [],
   "source": [
    "mu = ml_alpha.groupby(level=0).mean()\n",
    "std = ml_alpha.groupby(level=0).std()\n",
    "ml_alpha_zscore = (ml_alpha - mu)/std"
   ]
  },
  {
   "cell_type": "code",
   "execution_count": 68,
   "metadata": {},
   "outputs": [
    {
     "data": {
      "text/plain": [
       "array([-1. , -0.5,  0. ,  0.5,  1. ])"
      ]
     },
     "execution_count": 68,
     "metadata": {},
     "output_type": "execute_result"
    }
   ],
   "source": [
    "np.linspace(start=-1, stop=1, num=5)"
   ]
  },
  {
   "cell_type": "code",
   "execution_count": 140,
   "metadata": {},
   "outputs": [],
   "source": [
    "ml_alpha_rank = ml_alpha.groupby(level=0).apply(\n",
    "    lambda grp: pd.cut(grp, bins=np.linspace(start=grp.min(), stop=grp.max(), num=11), labels=False, include_lowest=True))\n",
    "mu = ml_alpha_rank.groupby(level=0).mean()\n",
    "std = ml_alpha_rank.groupby(level=0).std()\n",
    "ml_alpha_rank_zscore = (ml_alpha_rank - mu)/std"
   ]
  },
  {
   "cell_type": "code",
   "execution_count": 141,
   "metadata": {},
   "outputs": [],
   "source": [
    "# alphas\n",
    "alpha_factors = ['Mean_Reversion_Sector_Neutral_Smoothed', 'Momentum_1YR_Smoothed',\n",
    "       'Overnight_Sentiment_Smoothed']\n",
    "B_alpha = features_df[alpha_factors].copy()\n",
    "B_alpha['ML_FACTOR'] = ml_alpha\n",
    "B_alpha['ML_FACTOR_Z'] = ml_alpha_zscore\n",
    "B_alpha['ML_FACTOR_RZ'] = ml_alpha_rank_zscore\n",
    "B_alpha['COMBI_FACTOR'] = B_alpha[alpha_factors].mean(axis=1)"
   ]
  },
  {
   "cell_type": "code",
   "execution_count": 97,
   "metadata": {},
   "outputs": [
    {
     "data": {
      "text/html": [
       "<div>\n",
       "<style scoped>\n",
       "    .dataframe tbody tr th:only-of-type {\n",
       "        vertical-align: middle;\n",
       "    }\n",
       "\n",
       "    .dataframe tbody tr th {\n",
       "        vertical-align: top;\n",
       "    }\n",
       "\n",
       "    .dataframe thead th {\n",
       "        text-align: right;\n",
       "    }\n",
       "</style>\n",
       "<table border=\"1\" class=\"dataframe\">\n",
       "  <thead>\n",
       "    <tr style=\"text-align: right;\">\n",
       "      <th></th>\n",
       "      <th>count</th>\n",
       "      <th>mean</th>\n",
       "      <th>std</th>\n",
       "      <th>min</th>\n",
       "      <th>25%</th>\n",
       "      <th>50%</th>\n",
       "      <th>75%</th>\n",
       "      <th>max</th>\n",
       "    </tr>\n",
       "  </thead>\n",
       "  <tbody>\n",
       "    <tr>\n",
       "      <th>ML_FACTOR</th>\n",
       "      <td>72685.0</td>\n",
       "      <td>9.505026e-03</td>\n",
       "      <td>0.009540</td>\n",
       "      <td>-0.006877</td>\n",
       "      <td>0.003090</td>\n",
       "      <td>0.007066</td>\n",
       "      <td>0.013481</td>\n",
       "      <td>0.037049</td>\n",
       "    </tr>\n",
       "    <tr>\n",
       "      <th>ML_FACTOR_Z</th>\n",
       "      <td>72685.0</td>\n",
       "      <td>1.013826e-16</td>\n",
       "      <td>0.998981</td>\n",
       "      <td>-3.733705</td>\n",
       "      <td>-0.686680</td>\n",
       "      <td>-0.015372</td>\n",
       "      <td>0.676549</td>\n",
       "      <td>3.806879</td>\n",
       "    </tr>\n",
       "    <tr>\n",
       "      <th>ML_FACTOR_RZ</th>\n",
       "      <td>72536.0</td>\n",
       "      <td>1.612621e-17</td>\n",
       "      <td>0.998979</td>\n",
       "      <td>-3.481489</td>\n",
       "      <td>-0.695487</td>\n",
       "      <td>-0.020547</td>\n",
       "      <td>0.675335</td>\n",
       "      <td>3.758599</td>\n",
       "    </tr>\n",
       "    <tr>\n",
       "      <th>COMBI_FACTOR</th>\n",
       "      <td>72685.0</td>\n",
       "      <td>-2.336870e-03</td>\n",
       "      <td>0.511739</td>\n",
       "      <td>-1.711771</td>\n",
       "      <td>-0.358187</td>\n",
       "      <td>-0.003912</td>\n",
       "      <td>0.354386</td>\n",
       "      <td>1.706674</td>\n",
       "    </tr>\n",
       "  </tbody>\n",
       "</table>\n",
       "</div>"
      ],
      "text/plain": [
       "                count          mean       std       min       25%       50%  \\\n",
       "ML_FACTOR     72685.0  9.505026e-03  0.009540 -0.006877  0.003090  0.007066   \n",
       "ML_FACTOR_Z   72685.0  1.013826e-16  0.998981 -3.733705 -0.686680 -0.015372   \n",
       "ML_FACTOR_RZ  72536.0  1.612621e-17  0.998979 -3.481489 -0.695487 -0.020547   \n",
       "COMBI_FACTOR  72685.0 -2.336870e-03  0.511739 -1.711771 -0.358187 -0.003912   \n",
       "\n",
       "                   75%       max  \n",
       "ML_FACTOR     0.013481  0.037049  \n",
       "ML_FACTOR_Z   0.676549  3.806879  \n",
       "ML_FACTOR_RZ  0.675335  3.758599  \n",
       "COMBI_FACTOR  0.354386  1.706674  "
      ]
     },
     "execution_count": 97,
     "metadata": {},
     "output_type": "execute_result"
    }
   ],
   "source": [
    "B_alpha.loc[(test_dates, slice(None)), ['ML_FACTOR', 'ML_FACTOR_Z', 'ML_FACTOR_RZ','COMBI_FACTOR']].describe().T"
   ]
  },
  {
   "cell_type": "code",
   "execution_count": 142,
   "metadata": {},
   "outputs": [
    {
     "data": {
      "image/png": "[encoded data removed]",
      "text/plain": [
       "<Figure size 1152x432 with 2 Axes>"
      ]
     },
     "metadata": {
      "needs_background": "light"
     },
     "output_type": "display_data"
    }
   ],
   "source": [
    "fig, axs = plt.subplots(1,2, figsize=(16,6), sharey=True)\n",
    "ax1, ax2 = axs\n",
    "B_alpha[['ML_FACTOR', 'ML_FACTOR_RZ', 'COMBI_FACTOR']].plot(ax=ax1, alpha=0.5)\n",
    "B_alpha[['ML_FACTOR', 'ML_FACTOR_RZ', 'COMBI_FACTOR']].plot.hist(ax=ax2, bins=50, alpha=0.5, density=True, orientation='horizontal')\n",
    "plt.show()"
   ]
  },
  {
   "cell_type": "code",
   "execution_count": 144,
   "metadata": {},
   "outputs": [
    {
     "data": {
      "text/html": [
       "<div>\n",
       "<style scoped>\n",
       "    .dataframe tbody tr th:only-of-type {\n",
       "        vertical-align: middle;\n",
       "    }\n",
       "\n",
       "    .dataframe tbody tr th {\n",
       "        vertical-align: top;\n",
       "    }\n",
       "\n",
       "    .dataframe thead th {\n",
       "        text-align: right;\n",
       "    }\n",
       "</style>\n",
       "<table border=\"1\" class=\"dataframe\">\n",
       "  <thead>\n",
       "    <tr style=\"text-align: right;\">\n",
       "      <th></th>\n",
       "      <th></th>\n",
       "      <th>ML_FACTOR</th>\n",
       "      <th>ML_FACTOR_Z</th>\n",
       "      <th>ML_FACTOR_RZ</th>\n",
       "      <th>COMBI_FACTOR</th>\n",
       "    </tr>\n",
       "    <tr>\n",
       "      <th>date</th>\n",
       "      <th>asset</th>\n",
       "      <th></th>\n",
       "      <th></th>\n",
       "      <th></th>\n",
       "      <th></th>\n",
       "    </tr>\n",
       "  </thead>\n",
       "  <tbody>\n",
       "    <tr>\n",
       "      <th>2013-06-25 00:00:00+00:00</th>\n",
       "      <th>FCX</th>\n",
       "      <td>0.010763</td>\n",
       "      <td>-0.800692</td>\n",
       "      <td>-0.983506</td>\n",
       "      <td>-0.308694</td>\n",
       "    </tr>\n",
       "    <tr>\n",
       "      <th>2014-10-01 00:00:00+00:00</th>\n",
       "      <th>ALGN</th>\n",
       "      <td>-0.003131</td>\n",
       "      <td>2.345317</td>\n",
       "      <td>2.211038</td>\n",
       "      <td>-0.377611</td>\n",
       "    </tr>\n",
       "    <tr>\n",
       "      <th>2015-06-26 00:00:00+00:00</th>\n",
       "      <th>PM</th>\n",
       "      <td>-0.002212</td>\n",
       "      <td>0.157422</td>\n",
       "      <td>0.217495</td>\n",
       "      <td>-0.246571</td>\n",
       "    </tr>\n",
       "    <tr>\n",
       "      <th>2015-05-01 00:00:00+00:00</th>\n",
       "      <th>FCX</th>\n",
       "      <td>-0.003585</td>\n",
       "      <td>-1.477347</td>\n",
       "      <td>-1.632258</td>\n",
       "      <td>-0.716095</td>\n",
       "    </tr>\n",
       "    <tr>\n",
       "      <th>2015-10-23 00:00:00+00:00</th>\n",
       "      <th>ED</th>\n",
       "      <td>0.010016</td>\n",
       "      <td>-1.264731</td>\n",
       "      <td>-1.351997</td>\n",
       "      <td>0.168770</td>\n",
       "    </tr>\n",
       "    <tr>\n",
       "      <th>2014-11-18 00:00:00+00:00</th>\n",
       "      <th>UAL</th>\n",
       "      <td>0.004556</td>\n",
       "      <td>0.074306</td>\n",
       "      <td>0.027186</td>\n",
       "      <td>-0.278873</td>\n",
       "    </tr>\n",
       "    <tr>\n",
       "      <th>2013-11-07 00:00:00+00:00</th>\n",
       "      <th>BWA</th>\n",
       "      <td>0.004824</td>\n",
       "      <td>1.350841</td>\n",
       "      <td>1.355667</td>\n",
       "      <td>0.998235</td>\n",
       "    </tr>\n",
       "    <tr>\n",
       "      <th>2015-09-18 00:00:00+00:00</th>\n",
       "      <th>NRG</th>\n",
       "      <td>0.031646</td>\n",
       "      <td>-0.081624</td>\n",
       "      <td>0.229047</td>\n",
       "      <td>-0.663676</td>\n",
       "    </tr>\n",
       "    <tr>\n",
       "      <th>2013-04-03 00:00:00+00:00</th>\n",
       "      <th>GE</th>\n",
       "      <td>-0.000869</td>\n",
       "      <td>-0.304264</td>\n",
       "      <td>-0.342145</td>\n",
       "      <td>0.183087</td>\n",
       "    </tr>\n",
       "    <tr>\n",
       "      <th>2014-02-19 00:00:00+00:00</th>\n",
       "      <th>SO</th>\n",
       "      <td>0.011978</td>\n",
       "      <td>-1.383327</td>\n",
       "      <td>-1.124534</td>\n",
       "      <td>-0.375917</td>\n",
       "    </tr>\n",
       "  </tbody>\n",
       "</table>\n",
       "</div>"
      ],
      "text/plain": [
       "                                 ML_FACTOR  ML_FACTOR_Z  ML_FACTOR_RZ  \\\n",
       "date                      asset                                         \n",
       "2013-06-25 00:00:00+00:00 FCX     0.010763    -0.800692     -0.983506   \n",
       "2014-10-01 00:00:00+00:00 ALGN   -0.003131     2.345317      2.211038   \n",
       "2015-06-26 00:00:00+00:00 PM     -0.002212     0.157422      0.217495   \n",
       "2015-05-01 00:00:00+00:00 FCX    -0.003585    -1.477347     -1.632258   \n",
       "2015-10-23 00:00:00+00:00 ED      0.010016    -1.264731     -1.351997   \n",
       "2014-11-18 00:00:00+00:00 UAL     0.004556     0.074306      0.027186   \n",
       "2013-11-07 00:00:00+00:00 BWA     0.004824     1.350841      1.355667   \n",
       "2015-09-18 00:00:00+00:00 NRG     0.031646    -0.081624      0.229047   \n",
       "2013-04-03 00:00:00+00:00 GE     -0.000869    -0.304264     -0.342145   \n",
       "2014-02-19 00:00:00+00:00 SO      0.011978    -1.383327     -1.124534   \n",
       "\n",
       "                                 COMBI_FACTOR  \n",
       "date                      asset                \n",
       "2013-06-25 00:00:00+00:00 FCX       -0.308694  \n",
       "2014-10-01 00:00:00+00:00 ALGN      -0.377611  \n",
       "2015-06-26 00:00:00+00:00 PM        -0.246571  \n",
       "2015-05-01 00:00:00+00:00 FCX       -0.716095  \n",
       "2015-10-23 00:00:00+00:00 ED         0.168770  \n",
       "2014-11-18 00:00:00+00:00 UAL       -0.278873  \n",
       "2013-11-07 00:00:00+00:00 BWA        0.998235  \n",
       "2015-09-18 00:00:00+00:00 NRG       -0.663676  \n",
       "2013-04-03 00:00:00+00:00 GE         0.183087  \n",
       "2014-02-19 00:00:00+00:00 SO        -0.375917  "
      ]
     },
     "execution_count": 144,
     "metadata": {},
     "output_type": "execute_result"
    }
   ],
   "source": [
    "B_alpha[['ML_FACTOR', 'ML_FACTOR_Z', 'ML_FACTOR_RZ','COMBI_FACTOR']].sample(10)"
   ]
  },
  {
   "cell_type": "code",
   "execution_count": 145,
   "metadata": {},
   "outputs": [],
   "source": [
    "alpha_vec = B_alpha['ML_FACTOR_RZ'].copy()"
   ]
  },
  {
   "cell_type": "code",
   "execution_count": 146,
   "metadata": {},
   "outputs": [
    {
     "data": {
      "text/html": [
       "<div>\n",
       "<style scoped>\n",
       "    .dataframe tbody tr th:only-of-type {\n",
       "        vertical-align: middle;\n",
       "    }\n",
       "\n",
       "    .dataframe tbody tr th {\n",
       "        vertical-align: top;\n",
       "    }\n",
       "\n",
       "    .dataframe thead th {\n",
       "        text-align: right;\n",
       "    }\n",
       "</style>\n",
       "<table border=\"1\" class=\"dataframe\">\n",
       "  <thead>\n",
       "    <tr style=\"text-align: right;\">\n",
       "      <th></th>\n",
       "      <th>h.opt.previous</th>\n",
       "    </tr>\n",
       "    <tr>\n",
       "      <th>asset</th>\n",
       "      <th></th>\n",
       "    </tr>\n",
       "  </thead>\n",
       "  <tbody>\n",
       "    <tr>\n",
       "      <th>A</th>\n",
       "      <td>0</td>\n",
       "    </tr>\n",
       "  </tbody>\n",
       "</table>\n",
       "</div>"
      ],
      "text/plain": [
       "       h.opt.previous\n",
       "asset                \n",
       "A                   0"
      ]
     },
     "execution_count": 146,
     "metadata": {},
     "output_type": "execute_result"
    }
   ],
   "source": [
    "previous_holdings = pd.DataFrame(data = {\"asset\" : [\"A\"], \"h.opt.previous\" : np.array(0)}).set_index('asset')\n",
    "previous_holdings"
   ]
  },
  {
   "cell_type": "code",
   "execution_count": 147,
   "metadata": {},
   "outputs": [],
   "source": [
    "def get_universe(mkt_cap, min_mkt_cap, h_prev, dt_idx):\n",
    "    universe = mkt_cap.loc[dt_idx] > min_mkt_cap\n",
    "    universe = universe[universe]\n",
    "    universe = universe.index.union(h_prev.index)\n",
    "    universe.name = 'asset'\n",
    "    return universe\n",
    "    "
   ]
  },
  {
   "cell_type": "code",
   "execution_count": 148,
   "metadata": {},
   "outputs": [],
   "source": [
    "# data alignment: static frame\n",
    "bkt_dates = mkt_cap.loc[universe_start_date:universe_end_date].index\n",
    "\n",
    "mkt_caps = {}\n",
    "betas_exp = {}\n",
    "alphas_vec = {}\n",
    "# factor_cov = {}\n",
    "spec_var = {}\n",
    "lambdas = {}\n",
    "\n",
    "for dt_idx in bkt_dates:\n",
    "    dt_idx_str = dt.datetime.strftime(dt_idx, STR_DATE_FMT)\n",
    "    universe = pd.Index(universe_tickers)\n",
    "    betas_exp[dt_idx_str] = B.loc[universe]\n",
    "    spec_var[dt_idx_str] = risk_model['idiosyncratic_var_vector'].loc[universe, '0']\n",
    "    alphas_vec[dt_idx_str] = alpha_vec.loc[dt_idx][universe]*1e-4\n",
    "    lambdas[dt_idx_str] = 0.1 / adv.loc[dt_idx, universe]"
   ]
  },
  {
   "cell_type": "code",
   "execution_count": 149,
   "metadata": {},
   "outputs": [],
   "source": [
    "example_dt = dt.datetime.strftime(universe_start_date, STR_DATE_FMT)\n",
    "\n",
    "# universe\n",
    "ex_universe = pd.Index(['AMZN', 'MSFT', 'AAPL', 'GOOG'])\n",
    "ex_universe.name = 'asset'\n",
    "# alpha\n",
    "current_alpha_vec = alphas_vec[example_dt].loc[ex_universe]\n",
    "# risk\n",
    "BT = betas_exp[example_dt].loc[ex_universe].T\n",
    "Q = np.matmul(scipy.linalg.sqrtm(Fvar), BT)\n",
    "QT = Q.transpose()\n",
    "specVar = spec_var[example_dt].loc[ex_universe]\n",
    "# cost\n",
    "Lambda = lambdas[example_dt].loc[ex_universe]\n",
    "# previous holidng\n",
    "h0 = pd.Series(index=current_alpha_vec.index, data=np.zeros(len(current_alpha_vec)))"
   ]
  },
  {
   "cell_type": "code",
   "execution_count": 150,
   "metadata": {},
   "outputs": [
    {
     "data": {
      "text/plain": [
       "((20, 4), (20, 4), (4,))"
      ]
     },
     "execution_count": 150,
     "metadata": {},
     "output_type": "execute_result"
    }
   ],
   "source": [
    "BT.shape, Q.shape, specVar.shape"
   ]
  },
  {
   "cell_type": "code",
   "execution_count": 151,
   "metadata": {},
   "outputs": [
    {
     "data": {
      "text/html": [
       "<div>\n",
       "<style scoped>\n",
       "    .dataframe tbody tr th:only-of-type {\n",
       "        vertical-align: middle;\n",
       "    }\n",
       "\n",
       "    .dataframe tbody tr th {\n",
       "        vertical-align: top;\n",
       "    }\n",
       "\n",
       "    .dataframe thead th {\n",
       "        text-align: right;\n",
       "    }\n",
       "</style>\n",
       "<table border=\"1\" class=\"dataframe\">\n",
       "  <thead>\n",
       "    <tr style=\"text-align: right;\">\n",
       "      <th></th>\n",
       "      <th></th>\n",
       "      <th>Mean_Reversion_Sector_Neutral_Smoothed</th>\n",
       "      <th>Momentum_1YR_Smoothed</th>\n",
       "      <th>Overnight_Sentiment_Smoothed</th>\n",
       "      <th>ML_FACTOR</th>\n",
       "      <th>ML_FACTOR_Z</th>\n",
       "      <th>ML_FACTOR_RZ</th>\n",
       "      <th>COMBI_FACTOR</th>\n",
       "    </tr>\n",
       "    <tr>\n",
       "      <th>date</th>\n",
       "      <th>asset</th>\n",
       "      <th></th>\n",
       "      <th></th>\n",
       "      <th></th>\n",
       "      <th></th>\n",
       "      <th></th>\n",
       "      <th></th>\n",
       "      <th></th>\n",
       "    </tr>\n",
       "  </thead>\n",
       "  <tbody>\n",
       "    <tr>\n",
       "      <th rowspan=\"4\" valign=\"top\">2015-05-28 00:00:00+00:00</th>\n",
       "      <th>AAPL</th>\n",
       "      <td>-1.296340</td>\n",
       "      <td>1.524645</td>\n",
       "      <td>1.321361</td>\n",
       "      <td>0.001930</td>\n",
       "      <td>0.524372</td>\n",
       "      <td>0.670711</td>\n",
       "      <td>0.516555</td>\n",
       "    </tr>\n",
       "    <tr>\n",
       "      <th>AMZN</th>\n",
       "      <td>-0.662574</td>\n",
       "      <td>1.262653</td>\n",
       "      <td>0.392837</td>\n",
       "      <td>0.001770</td>\n",
       "      <td>0.381456</td>\n",
       "      <td>0.670711</td>\n",
       "      <td>0.330972</td>\n",
       "    </tr>\n",
       "    <tr>\n",
       "      <th>GOOG</th>\n",
       "      <td>-1.163105</td>\n",
       "      <td>-1.528283</td>\n",
       "      <td>-0.135707</td>\n",
       "      <td>-0.002308</td>\n",
       "      <td>-3.252432</td>\n",
       "      <td>-2.910515</td>\n",
       "      <td>-0.942365</td>\n",
       "    </tr>\n",
       "    <tr>\n",
       "      <th>MSFT</th>\n",
       "      <td>1.512397</td>\n",
       "      <td>-0.025471</td>\n",
       "      <td>-1.585633</td>\n",
       "      <td>0.002217</td>\n",
       "      <td>0.780152</td>\n",
       "      <td>0.670711</td>\n",
       "      <td>-0.032903</td>\n",
       "    </tr>\n",
       "  </tbody>\n",
       "</table>\n",
       "</div>"
      ],
      "text/plain": [
       "                                 Mean_Reversion_Sector_Neutral_Smoothed  \\\n",
       "date                      asset                                           \n",
       "2015-05-28 00:00:00+00:00 AAPL                                -1.296340   \n",
       "                          AMZN                                -0.662574   \n",
       "                          GOOG                                -1.163105   \n",
       "                          MSFT                                 1.512397   \n",
       "\n",
       "                                 Momentum_1YR_Smoothed  \\\n",
       "date                      asset                          \n",
       "2015-05-28 00:00:00+00:00 AAPL                1.524645   \n",
       "                          AMZN                1.262653   \n",
       "                          GOOG               -1.528283   \n",
       "                          MSFT               -0.025471   \n",
       "\n",
       "                                 Overnight_Sentiment_Smoothed  ML_FACTOR  \\\n",
       "date                      asset                                            \n",
       "2015-05-28 00:00:00+00:00 AAPL                       1.321361   0.001930   \n",
       "                          AMZN                       0.392837   0.001770   \n",
       "                          GOOG                      -0.135707  -0.002308   \n",
       "                          MSFT                      -1.585633   0.002217   \n",
       "\n",
       "                                 ML_FACTOR_Z  ML_FACTOR_RZ  COMBI_FACTOR  \n",
       "date                      asset                                           \n",
       "2015-05-28 00:00:00+00:00 AAPL      0.524372      0.670711      0.516555  \n",
       "                          AMZN      0.381456      0.670711      0.330972  \n",
       "                          GOOG     -3.252432     -2.910515     -0.942365  \n",
       "                          MSFT      0.780152      0.670711     -0.032903  "
      ]
     },
     "execution_count": 151,
     "metadata": {},
     "output_type": "execute_result"
    }
   ],
   "source": [
    "B_alpha.loc[(universe_start_date, ['AMZN', 'MSFT', 'AAPL', 'GOOG']), :]"
   ]
  },
  {
   "cell_type": "code",
   "execution_count": 153,
   "metadata": {},
   "outputs": [
    {
     "data": {
      "text/plain": [
       "array([  618.06625877,   864.80816365,   819.22933988, -3384.39927802])"
      ]
     },
     "execution_count": 153,
     "metadata": {},
     "output_type": "execute_result"
    }
   ],
   "source": [
    "h_star = get_h_star(risk_aversion, Q, QT, specVar, current_alpha_vec, h0, Lambda)\n",
    "h_star[:5]"
   ]
  },
  {
   "cell_type": "code",
   "execution_count": 154,
   "metadata": {},
   "outputs": [
    {
     "data": {
      "text/plain": [
       "-1082.29551571123"
      ]
     },
     "execution_count": 154,
     "metadata": {},
     "output_type": "execute_result"
    }
   ],
   "source": [
    "h_star.sum()"
   ]
  },
  {
   "cell_type": "code",
   "execution_count": 155,
   "metadata": {},
   "outputs": [],
   "source": [
    "def get_total_transaction_costs(h0, h_star, Lambda):\n",
    "    \"\"\"\n",
    "    Calculate Total Transaction Costs\n",
    "\n",
    "    Parameters\n",
    "    ----------\n",
    "    h0 : Pandas Series\n",
    "        initial holdings (before optimization)\n",
    "        \n",
    "    h_star: Numpy ndarray \n",
    "        optimized holdings\n",
    "        \n",
    "    Lambda : Pandas Series  \n",
    "        Lambda\n",
    "        \n",
    "    Returns\n",
    "    -------\n",
    "    total_transaction_costs : float\n",
    "        Total Transaction Costs\n",
    "    \"\"\"\n",
    "    \n",
    "    return np.dot(Lambda, (h_star-h0)**2)"
   ]
  },
  {
   "cell_type": "code",
   "execution_count": 156,
   "metadata": {},
   "outputs": [
    {
     "data": {
      "text/plain": [
       "0.0012366475728485323"
      ]
     },
     "execution_count": 156,
     "metadata": {},
     "output_type": "execute_result"
    }
   ],
   "source": [
    "total_transaction_costs = get_total_transaction_costs(h0, h_star, Lambda)\n",
    "total_transaction_costs"
   ]
  },
  {
   "cell_type": "code",
   "execution_count": 157,
   "metadata": {},
   "outputs": [],
   "source": [
    "def get_risk_exposures(BT, h_star):\n",
    "    \"\"\"\n",
    "    Calculate portfolio's Risk Exposure\n",
    "\n",
    "    Parameters\n",
    "    ----------\n",
    "    B : patsy.design_info.DesignMatrix \n",
    "        Matrix of Risk Factors\n",
    "        \n",
    "    BT : patsy.design_info.DesignMatrix \n",
    "        Transpose of Matrix of Risk Factors\n",
    "        \n",
    "    h_star: Numpy ndarray \n",
    "        optimized holdings\n",
    "        \n",
    "    Returns\n",
    "    -------\n",
    "    risk_exposures : Pandas Series\n",
    "        Risk Exposures\n",
    "    \"\"\"\n",
    "    \n",
    "    # TODO: Implement\n",
    "    factor_names = BT.index\n",
    "    risk_exposures = np.dot(BT, h_star)\n",
    "    return pd.Series(index=factor_names, data=risk_exposures)\n",
    "\n"
   ]
  },
  {
   "cell_type": "code",
   "execution_count": 158,
   "metadata": {},
   "outputs": [
    {
     "data": {
      "text/plain": [
       "0   -63.345310\n",
       "1   -21.026938\n",
       "2   -20.913354\n",
       "3   -16.078836\n",
       "4   -57.092781\n",
       "dtype: float64"
      ]
     },
     "execution_count": 158,
     "metadata": {},
     "output_type": "execute_result"
    }
   ],
   "source": [
    "risk_exposures = get_risk_exposures(BT, h_star)\n",
    "risk_exposures[:5]"
   ]
  },
  {
   "cell_type": "code",
   "execution_count": 159,
   "metadata": {},
   "outputs": [],
   "source": [
    "def get_portfolio_alpha_exposure(B_alpha, h_star):\n",
    "    \"\"\"\n",
    "    Calculate portfolio's Alpha Exposure\n",
    "\n",
    "    Parameters\n",
    "    ----------\n",
    "    B_alpha : patsy.design_info.DesignMatrix \n",
    "        Matrix of Alpha Factors\n",
    "        \n",
    "    h_star: Numpy ndarray \n",
    "        optimized holdings\n",
    "        \n",
    "    Returns\n",
    "    -------\n",
    "    alpha_exposures : Pandas Series\n",
    "        Alpha Exposures\n",
    "    \"\"\"\n",
    "    if isinstance(B_alpha, pd.Series):\n",
    "        alpha_factor_names = [B_alpha.name]\n",
    "    elif isinstance(B_alpha, pd.DataFrame):\n",
    "        alpha_factor_names = B_alpha.columns\n",
    "    else:\n",
    "        alpha_factor_names = range(0,B_alpha.shape[1])\n",
    "    return pd.Series(np.matmul(B_alpha.transpose(), h_star), index=alpha_factor_names)\n",
    "    "
   ]
  },
  {
   "cell_type": "code",
   "execution_count": 160,
   "metadata": {},
   "outputs": [
    {
     "data": {
      "text/plain": [
       "ML_FACTOR_RZ    1.139439\n",
       "dtype: float64"
      ]
     },
     "execution_count": 160,
     "metadata": {},
     "output_type": "execute_result"
    }
   ],
   "source": [
    "portfolio_alpha_exposure = get_portfolio_alpha_exposure(current_alpha_vec, h_star)\n",
    "portfolio_alpha_exposure[:5]"
   ]
  },
  {
   "cell_type": "code",
   "execution_count": 161,
   "metadata": {},
   "outputs": [],
   "source": [
    "def form_optimal_portfolio(universe, previous_holdings, risk_aversion, Fvar, betas_exp, alphas_vec, spec_var, lambdas, dt_idx):\n",
    "    dt_idx_str = dt.datetime.strftime(dt_idx, STR_DATE_FMT)\n",
    "    \n",
    "    #universe = pd.Index(['AMZN', 'MSFT', 'AAPL', 'GOOG'])\n",
    "    #universe.name = 'asset'\n",
    "    universe_s = pd.DataFrame(index=universe, data= np.zeros(len(universe)), columns=['universe'])\n",
    "    h_prev = universe_s.join(previous_holdings, how='outer').fillna(0.0)['h.opt.previous']\n",
    "    \n",
    "    # Beta exposures\n",
    "    B = betas_exp[dt_idx_str].loc[universe]\n",
    "    BT = B.transpose()\n",
    "    # Factor covariance matrix\n",
    "    # Fvar as argument\n",
    "    # Specific variance\n",
    "    specVar = spec_var[dt_idx_str].loc[universe]\n",
    "    # Transaction costs\n",
    "    Lambda = lambdas[dt_idx_str].loc[universe]\n",
    "    # alpha factor\n",
    "    alpha_vec = alphas_vec[dt_idx_str].loc[universe]#*1e-4\n",
    "    Q = np.matmul(scipy.linalg.sqrtm(Fvar), BT)\n",
    "    QT = Q.transpose()\n",
    "    #print(universe.shape, BT.shape, Fvar.shape, specVar.shape, alpha_vec.shape, Lambda.shape)\n",
    "    #print(alpha_vec.isna().sum())\n",
    "    nans = alpha_vec.isna()\n",
    "    if any(nans):\n",
    "        print(dt_idx_str)\n",
    "        print(nans.sum())\n",
    "        print(alpha_vec[nans])\n",
    "    h_star = get_h_star(risk_aversion, Q, QT, specVar, alpha_vec, h_prev, Lambda)\n",
    "\n",
    "\n",
    "    opt_portfolio = pd.DataFrame(data = {\"asset\" : universe, \"h.opt\" : h_star}).set_index('asset')\n",
    "    \n",
    "    risk_exposures = get_risk_exposures(BT, h_star)\n",
    "    portfolio_alpha_exposure = get_portfolio_alpha_exposure(alpha_vec, h_star)\n",
    "    total_transaction_costs = get_total_transaction_costs(h_prev, h_star, Lambda)\n",
    "    \n",
    "    result = {\n",
    "        \"opt.portfolio\" : opt_portfolio, \n",
    "        \"risk.exposures\" : risk_exposures, \n",
    "        \"alpha.exposures\" : portfolio_alpha_exposure,\n",
    "        \"total.cost\" : total_transaction_costs}\n",
    "    return result"
   ]
  },
  {
   "cell_type": "code",
   "execution_count": 162,
   "metadata": {},
   "outputs": [],
   "source": [
    "def convert_to_previous(result): \n",
    "    prev = result['opt.portfolio']\n",
    "    prev = prev.rename(index=str, columns={\"h.opt\": \"h.opt.previous\"}, copy=True, inplace=False)\n",
    "    return prev"
   ]
  },
  {
   "cell_type": "code",
   "execution_count": 163,
   "metadata": {},
   "outputs": [],
   "source": [
    "def build_tradelist(prev_holdings, opt_result):\n",
    "    tmp = opt_result['opt.portfolio'].join(prev_holdings, how='outer')\n",
    "    tmp['h.opt.previous'] = np.nan_to_num(tmp['h.opt.previous'])\n",
    "    tmp['h.opt'] = np.nan_to_num(tmp['h.opt'])\n",
    "    return tmp"
   ]
  },
  {
   "cell_type": "code",
   "execution_count": 164,
   "metadata": {},
   "outputs": [
    {
     "name": "stderr",
     "output_type": "stream",
     "text": [
      "Optimizing Portfolio:  21%|██        | 31/149 [00:01<00:04, 26.06day/s]"
     ]
    },
    {
     "name": "stdout",
     "output_type": "stream",
     "text": [
      "20150706\n",
      "1\n",
      "asset\n",
      "KHC   NaN\n",
      "Name: ML_FACTOR_RZ, dtype: float64\n"
     ]
    },
    {
     "name": "stderr",
     "output_type": "stream",
     "text": [
      "Optimizing Portfolio:  29%|██▉       | 43/149 [00:01<00:03, 31.46day/s]"
     ]
    },
    {
     "name": "stdout",
     "output_type": "stream",
     "text": [
      "20150720\n",
      "1\n",
      "asset\n",
      "PYPL   NaN\n",
      "Name: ML_FACTOR_RZ, dtype: float64\n"
     ]
    },
    {
     "name": "stderr",
     "output_type": "stream",
     "text": [
      "Optimizing Portfolio:  77%|███████▋  | 115/149 [00:04<00:01, 25.00day/s]"
     ]
    },
    {
     "name": "stdout",
     "output_type": "stream",
     "text": [
      "20151102\n",
      "1\n",
      "asset\n",
      "HPE   NaN\n",
      "Name: ML_FACTOR_RZ, dtype: float64\n"
     ]
    },
    {
     "name": "stderr",
     "output_type": "stream",
     "text": [
      "Optimizing Portfolio:  90%|████████▉ | 134/149 [00:05<00:00, 29.74day/s]"
     ]
    },
    {
     "name": "stdout",
     "output_type": "stream",
     "text": [
      "20151130\n",
      "1\n",
      "asset\n",
      "CSRA   NaN\n",
      "Name: ML_FACTOR_RZ, dtype: float64\n"
     ]
    },
    {
     "name": "stderr",
     "output_type": "stream",
     "text": [
      "Optimizing Portfolio: 100%|██████████| 149/149 [00:05<00:00, 27.26day/s]\n"
     ]
    }
   ],
   "source": [
    "trades = {}\n",
    "port = {}\n",
    "\n",
    "bkt_dates = mkt_cap.loc[universe_start_date:universe_end_date].index\n",
    "previous_holdings = h0\n",
    "previous_holdings.name = 'h.opt.previous'\n",
    "\n",
    "for dt_idx in tqdm(bkt_dates, desc='Optimizing Portfolio', unit='day'):\n",
    "    dt_idx_str = dt.datetime.strftime(dt_idx, STR_DATE_FMT)\n",
    "    universe = get_universe(mkt_cap, min_mkt_cap, previous_holdings, dt_idx)\n",
    "    result = form_optimal_portfolio(universe, previous_holdings,  risk_aversion, Fvar, betas_exp, alphas_vec, spec_var, lambdas, dt_idx)\n",
    "    trades[dt_idx_str] = build_tradelist(previous_holdings, result)\n",
    "    port[dt_idx_str] = result\n",
    "    previous_holdings = convert_to_previous(result)"
   ]
  },
  {
   "cell_type": "code",
   "execution_count": 36,
   "metadata": {},
   "outputs": [],
   "source": [
    "# Fix NaNs"
   ]
  },
  {
   "cell_type": "code",
   "execution_count": 165,
   "metadata": {},
   "outputs": [
    {
     "data": {
      "text/plain": [
       "dict_keys(['total.cost', 'alpha.exposures', 'risk.exposures', 'opt.portfolio'])"
      ]
     },
     "execution_count": 165,
     "metadata": {},
     "output_type": "execute_result"
    }
   ],
   "source": [
    "result.keys()"
   ]
  },
  {
   "cell_type": "code",
   "execution_count": 166,
   "metadata": {},
   "outputs": [
    {
     "data": {
      "text/html": [
       "<div>\n",
       "<style scoped>\n",
       "    .dataframe tbody tr th:only-of-type {\n",
       "        vertical-align: middle;\n",
       "    }\n",
       "\n",
       "    .dataframe tbody tr th {\n",
       "        vertical-align: top;\n",
       "    }\n",
       "\n",
       "    .dataframe thead th {\n",
       "        text-align: right;\n",
       "    }\n",
       "</style>\n",
       "<table border=\"1\" class=\"dataframe\">\n",
       "  <thead>\n",
       "    <tr style=\"text-align: right;\">\n",
       "      <th></th>\n",
       "      <th>h.opt</th>\n",
       "    </tr>\n",
       "    <tr>\n",
       "      <th>asset</th>\n",
       "      <th></th>\n",
       "    </tr>\n",
       "  </thead>\n",
       "  <tbody>\n",
       "    <tr>\n",
       "      <th>VAR</th>\n",
       "      <td>4837.306440</td>\n",
       "    </tr>\n",
       "    <tr>\n",
       "      <th>MON</th>\n",
       "      <td>-3155.398400</td>\n",
       "    </tr>\n",
       "    <tr>\n",
       "      <th>DISH</th>\n",
       "      <td>3592.095669</td>\n",
       "    </tr>\n",
       "    <tr>\n",
       "      <th>ADM</th>\n",
       "      <td>1736.681631</td>\n",
       "    </tr>\n",
       "    <tr>\n",
       "      <th>CSCO</th>\n",
       "      <td>-699.434220</td>\n",
       "    </tr>\n",
       "  </tbody>\n",
       "</table>\n",
       "</div>"
      ],
      "text/plain": [
       "             h.opt\n",
       "asset             \n",
       "VAR    4837.306440\n",
       "MON   -3155.398400\n",
       "DISH   3592.095669\n",
       "ADM    1736.681631\n",
       "CSCO   -699.434220"
      ]
     },
     "execution_count": 166,
     "metadata": {},
     "output_type": "execute_result"
    }
   ],
   "source": [
    "port['20151028']['opt.portfolio'].sample(5)"
   ]
  },
  {
   "cell_type": "code",
   "execution_count": 167,
   "metadata": {},
   "outputs": [
    {
     "data": {
      "text/html": [
       "<div>\n",
       "<style scoped>\n",
       "    .dataframe tbody tr th:only-of-type {\n",
       "        vertical-align: middle;\n",
       "    }\n",
       "\n",
       "    .dataframe tbody tr th {\n",
       "        vertical-align: top;\n",
       "    }\n",
       "\n",
       "    .dataframe thead th {\n",
       "        text-align: right;\n",
       "    }\n",
       "</style>\n",
       "<table border=\"1\" class=\"dataframe\">\n",
       "  <thead>\n",
       "    <tr style=\"text-align: right;\">\n",
       "      <th></th>\n",
       "      <th>Mean_Reversion_Sector_Neutral_Smoothed</th>\n",
       "      <th>Overnight_Sentiment_Smoothed</th>\n",
       "      <th>ML_FACTOR</th>\n",
       "      <th>Momentum_1YR_Smoothed</th>\n",
       "    </tr>\n",
       "    <tr>\n",
       "      <th>date</th>\n",
       "      <th></th>\n",
       "      <th></th>\n",
       "      <th></th>\n",
       "      <th></th>\n",
       "    </tr>\n",
       "  </thead>\n",
       "  <tbody>\n",
       "    <tr>\n",
       "      <th>2015-05-28 00:00:00+00:00</th>\n",
       "      <td>0.000753</td>\n",
       "      <td>0.001902</td>\n",
       "      <td>0.005999</td>\n",
       "      <td>-0.001104</td>\n",
       "    </tr>\n",
       "    <tr>\n",
       "      <th>2015-05-29 00:00:00+00:00</th>\n",
       "      <td>-0.000807</td>\n",
       "      <td>0.000579</td>\n",
       "      <td>0.005643</td>\n",
       "      <td>-0.001996</td>\n",
       "    </tr>\n",
       "  </tbody>\n",
       "</table>\n",
       "</div>"
      ],
      "text/plain": [
       "                           Mean_Reversion_Sector_Neutral_Smoothed  \\\n",
       "date                                                                \n",
       "2015-05-28 00:00:00+00:00                                0.000753   \n",
       "2015-05-29 00:00:00+00:00                               -0.000807   \n",
       "\n",
       "                           Overnight_Sentiment_Smoothed  ML_FACTOR  \\\n",
       "date                                                                 \n",
       "2015-05-28 00:00:00+00:00                      0.001902   0.005999   \n",
       "2015-05-29 00:00:00+00:00                      0.000579   0.005643   \n",
       "\n",
       "                           Momentum_1YR_Smoothed  \n",
       "date                                              \n",
       "2015-05-28 00:00:00+00:00              -0.001104  \n",
       "2015-05-29 00:00:00+00:00              -0.001996  "
      ]
     },
     "execution_count": 167,
     "metadata": {},
     "output_type": "execute_result"
    }
   ],
   "source": [
    "alpha_facret = pd.read_csv(INPATH_ALPHA + INFILE3, parse_dates=['date'])\n",
    "alpha_facret['date'] = alpha_facret['date'].dt.tz_localize('utc')\n",
    "alpha_facret.set_index('date', inplace=True)\n",
    "alpha_facret[:2]"
   ]
  },
  {
   "cell_type": "code",
   "execution_count": 168,
   "metadata": {},
   "outputs": [
    {
     "data": {
      "text/plain": [
       "A       -1.325742\n",
       "AAL     57.412905\n",
       "AAP      0.227903\n",
       "AAPL    -7.509506\n",
       "ABBV    -0.056143\n",
       "Name: 2015-10-28 00:00:00+00:00, dtype: float64"
      ]
     },
     "execution_count": 168,
     "metadata": {},
     "output_type": "execute_result"
    }
   ],
   "source": [
    "daily_returns.loc['2015-10-28'].head()"
   ]
  },
  {
   "cell_type": "code",
   "execution_count": 169,
   "metadata": {},
   "outputs": [
    {
     "data": {
      "text/html": [
       "<div>\n",
       "<style scoped>\n",
       "    .dataframe tbody tr th:only-of-type {\n",
       "        vertical-align: middle;\n",
       "    }\n",
       "\n",
       "    .dataframe tbody tr th {\n",
       "        vertical-align: top;\n",
       "    }\n",
       "\n",
       "    .dataframe thead th {\n",
       "        text-align: right;\n",
       "    }\n",
       "</style>\n",
       "<table border=\"1\" class=\"dataframe\">\n",
       "  <thead>\n",
       "    <tr style=\"text-align: right;\">\n",
       "      <th></th>\n",
       "      <th>h.opt</th>\n",
       "    </tr>\n",
       "    <tr>\n",
       "      <th>asset</th>\n",
       "      <th></th>\n",
       "    </tr>\n",
       "  </thead>\n",
       "  <tbody>\n",
       "    <tr>\n",
       "      <th>A</th>\n",
       "      <td>4675.085671</td>\n",
       "    </tr>\n",
       "    <tr>\n",
       "      <th>AAL</th>\n",
       "      <td>-3326.219776</td>\n",
       "    </tr>\n",
       "    <tr>\n",
       "      <th>AAP</th>\n",
       "      <td>1026.538468</td>\n",
       "    </tr>\n",
       "    <tr>\n",
       "      <th>AAPL</th>\n",
       "      <td>-1105.270693</td>\n",
       "    </tr>\n",
       "    <tr>\n",
       "      <th>ABBV</th>\n",
       "      <td>3036.609264</td>\n",
       "    </tr>\n",
       "  </tbody>\n",
       "</table>\n",
       "</div>"
      ],
      "text/plain": [
       "             h.opt\n",
       "asset             \n",
       "A      4675.085671\n",
       "AAL   -3326.219776\n",
       "AAP    1026.538468\n",
       "AAPL  -1105.270693\n",
       "ABBV   3036.609264"
      ]
     },
     "execution_count": 169,
     "metadata": {},
     "output_type": "execute_result"
    }
   ],
   "source": [
    "port['20151028']['opt.portfolio'].head()"
   ]
  },
  {
   "cell_type": "code",
   "execution_count": 170,
   "metadata": {},
   "outputs": [],
   "source": [
    "## assumes v, w are pandas Series \n",
    "def partial_dot_product(v, w):\n",
    "    common = v.index.intersection(w.index)\n",
    "    return np.sum(v[common] * w[common])\n",
    "\n",
    "def build_pnl_attribution(): \n",
    "    wins_ret = 0.5\n",
    "    df = pd.DataFrame(index = bkt_dates)\n",
    "    # Static factor returns\n",
    "    risk_fr = risk_model['factor_returns']\n",
    "    #alpha_fr = alpha_facret\n",
    "        \n",
    "    for dt_idx in bkt_dates:\n",
    "        dt_idx_str = dt.datetime.strftime(dt_idx, STR_DATE_FMT)\n",
    "        p = port[dt_idx_str]\n",
    "        wins_returns = np.clip(daily_returns.loc[dt_idx],-wins_ret,wins_ret).to_frame('DlyReturn')\n",
    "        mf = p['opt.portfolio'].join(wins_returns, how = 'left')\n",
    "        df.at[dt_idx,\"daily.pnl\"] = partial_dot_product(mf['h.opt'], mf['DlyReturn'] )\n",
    "        \n",
    "        #df.at[dt_idx,\"attribution.alpha.pnl\"] = partial_dot_product(alpha_fr, p['alpha.exposures'])\n",
    "        #df.at[dt_idx,\"attribution.risk.pnl\"] = partial_dot_product(risk_fr, p['risk.exposures'])\n",
    "        df.at[dt_idx,\"attribution.cost\"] = p['total.cost']\n",
    "        \n",
    "    return df"
   ]
  },
  {
   "cell_type": "code",
   "execution_count": 171,
   "metadata": {},
   "outputs": [
    {
     "data": {
      "image/png": "[encoded data removed]",
      "text/plain": [
       "<Figure size 432x288 with 1 Axes>"
      ]
     },
     "metadata": {
      "needs_background": "light"
     },
     "output_type": "display_data"
    }
   ],
   "source": [
    "attr = build_pnl_attribution()\n",
    "\n",
    "for column in attr.columns:\n",
    "        plt.plot(attr[column].cumsum(), label=column)\n",
    "plt.legend(loc='upper left')\n",
    "plt.xlabel('Date')\n",
    "plt.ylabel('PnL Attribution')\n",
    "plt.show()"
   ]
  },
  {
   "cell_type": "code",
   "execution_count": null,
   "metadata": {},
   "outputs": [],
   "source": []
  }
 ],
 "metadata": {
  "kernelspec": {
   "display_name": "Python 3",
   "language": "python",
   "name": "python3"
  },
  "language_info": {
   "codemirror_mode": {
    "name": "ipython",
    "version": 3
   },
   "file_extension": ".py",
   "mimetype": "text/x-python",
   "name": "python",
   "nbconvert_exporter": "python",
   "pygments_lexer": "ipython3",
   "version": "3.5.6"
  },
  "toc-autonumbering": true,
  "varInspector": {
   "cols": {
    "lenName": 16,
    "lenType": 16,
    "lenVar": 40
   },
   "kernels_config": {
    "python": {
     "delete_cmd_postfix": "",
     "delete_cmd_prefix": "del ",
     "library": "var_list.py",
     "varRefreshCmd": "print(var_dic_list())"
    },
    "r": {
     "delete_cmd_postfix": ") ",
     "delete_cmd_prefix": "rm(",
     "library": "var_list.r",
     "varRefreshCmd": "cat(var_dic_list()) "
    }
   },
   "types_to_exclude": [
    "module",
    "function",
    "builtin_function_or_method",
    "instance",
    "_Feature"
   ],
   "window_display": false
  }
 },
 "nbformat": 4,
 "nbformat_minor": 4
}
