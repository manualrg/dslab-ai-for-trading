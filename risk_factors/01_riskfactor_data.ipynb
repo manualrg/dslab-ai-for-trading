{
 "cells": [
  {
   "cell_type": "markdown",
   "metadata": {},
   "source": [
    "<font size=\"6\"> **Multifactor Risk Models** </font>"
   ]
  },
  {
   "cell_type": "code",
   "execution_count": 54,
   "metadata": {},
   "outputs": [],
   "source": [
    "#import cvxpy as cvx\n",
    "import numpy as np\n",
    "import pandas as pd\n",
    "import time\n",
    "import matplotlib.pyplot as plt\n",
    "\n",
    "import pickle\n",
    "\n",
    "from mle_quant_utils import quant_helper, quant_factors\n",
    "\n",
    "\n",
    "%matplotlib inline\n",
    "plt.style.use('ggplot')\n",
    "plt.rcParams['figure.figsize'] = (14, 8)"
   ]
  },
  {
   "cell_type": "code",
   "execution_count": 2,
   "metadata": {},
   "outputs": [],
   "source": [
    "from zipline.data import bundles\n",
    "from zipline.utils.calendars import get_calendar\n",
    "from zipline.pipeline.factors import AverageDollarVolume\n",
    "from zipline.pipeline import Pipeline\n",
    "from zipline.pipeline.factors import Returns, SimpleMovingAverage\n",
    "from zipline.pipeline.data import USEquityPricing\n",
    "\n",
    "from zipline.pipeline.factors import CustomFactor, DailyReturns, Returns, SimpleMovingAverage, AnnualizedVolatility\n",
    "from zipline.pipeline.data import USEquityPricing\n",
    "\n",
    "from zipline.pipeline import Pipeline\n",
    "from zipline.pipeline.factors import AverageDollarVolume\n",
    "from zipline.utils.calendars import get_calendar\n",
    "\n",
    "\n",
    "from zipline.data.data_portal import DataPortal"
   ]
  },
  {
   "cell_type": "code",
   "execution_count": 18,
   "metadata": {},
   "outputs": [
    {
     "data": {
      "text/plain": [
       "True"
      ]
     },
     "execution_count": 18,
     "metadata": {},
     "output_type": "execute_result"
    }
   ],
   "source": [
    "import yaml\n",
    "import os\n",
    "\n",
    "# Retrieve parameters from configuration file\n",
    "with open(\"../conf.yml\", \"r\") as ymlfile:\n",
    "    cfg = yaml.load(ymlfile)\n",
    "\n",
    "BUNDLE_FOLDER = cfg['quantopian']['dataset2']['bundle_folder']\n",
    "BUNDLE_NAME = cfg['quantopian']['dataset2']['bundle_name']\n",
    "SECTOR_FOLDER = cfg['quantopian']['dataset2']['sector_folder']\n",
    "SECTOR_DATA = cfg['quantopian']['dataset2']['sector_data']\n",
    "SECTOR_NAMES = cfg['quantopian']['dataset2']['sector_names']\n",
    "\n",
    "# Specify the bundle path\n",
    "bundle_path = os.path.join(os.getcwd(), '..', 'data', BUNDLE_FOLDER)\n",
    "sector_path = os.path.join(os.getcwd(), '..', 'data', SECTOR_FOLDER, SECTOR_DATA)\n",
    "sector_file = os.path.join(os.getcwd(), '..', 'data', SECTOR_FOLDER, SECTOR_NAMES)\n",
    "os.path.isdir(bundle_path)"
   ]
  },
  {
   "cell_type": "code",
   "execution_count": 22,
   "metadata": {},
   "outputs": [
    {
     "name": "stdout",
     "output_type": "stream",
     "text": [
      "Model version:  v01\n"
     ]
    }
   ],
   "source": [
    "MODEL_VERSION = 'v01'\n",
    "print('Model version: ', MODEL_VERSION)"
   ]
  },
  {
   "cell_type": "code",
   "execution_count": 23,
   "metadata": {},
   "outputs": [],
   "source": [
    "INPATH =  \"../data/\" + cfg['output']['main'] + \"/\" + cfg['output']['alpha_factors_ml']['folder'] + \"/\" + MODEL_VERSION +\"/\"\n",
    "INFILE1 = cfg['output']['alpha_factors_ml']['features']\n",
    "INFILE2 = cfg['output']['alpha_factors_ml']['targets']\n",
    "INFILE3 = cfg['output']['alpha_factors_ml']['model']"
   ]
  },
  {
   "cell_type": "code",
   "execution_count": 25,
   "metadata": {},
   "outputs": [],
   "source": [
    "split_col = cfg['models']['alpha_ml']['split_col']"
   ]
  },
  {
   "cell_type": "markdown",
   "metadata": {},
   "source": [
    "# Load Data"
   ]
  },
  {
   "cell_type": "markdown",
   "metadata": {},
   "source": [
    "## Data Bundle"
   ]
  },
  {
   "cell_type": "code",
   "execution_count": 4,
   "metadata": {},
   "outputs": [
    {
     "name": "stdout",
     "output_type": "stream",
     "text": [
      "Universe ADV window: 120 and top threshold: 500\n"
     ]
    }
   ],
   "source": [
    "adv_win = cfg['models']['universe']['window']\n",
    "adv_top = cfg['models']['universe']['adv_top']\n",
    "print('Universe ADV window: {} and top threshold: {}'.format(adv_win, adv_top))"
   ]
  },
  {
   "cell_type": "code",
   "execution_count": 5,
   "metadata": {},
   "outputs": [
    {
     "name": "stdout",
     "output_type": "stream",
     "text": [
      "Data Registered\n"
     ]
    }
   ],
   "source": [
    "# Data Bundle\n",
    "os.environ['ZIPLINE_ROOT'] = bundle_path\n",
    "ingest_func = bundles.csvdir.csvdir_equities(['daily'], BUNDLE_NAME)\n",
    "bundles.register(BUNDLE_NAME, ingest_func)\n",
    "print('Data Registered')"
   ]
  },
  {
   "cell_type": "code",
   "execution_count": 6,
   "metadata": {},
   "outputs": [],
   "source": [
    "universe = AverageDollarVolume(window_length=adv_win).top(adv_top) \n",
    "trading_calendar = get_calendar('NYSE') \n",
    "bundle_data = bundles.load(BUNDLE_NAME)\n",
    "engine =  quant_helper.build_pipeline_engine(bundle_data, trading_calendar)"
   ]
  },
  {
   "cell_type": "code",
   "execution_count": 63,
   "metadata": {},
   "outputs": [
    {
     "name": "stdout",
     "output_type": "stream",
     "text": [
      "Universe start: 2016-01-05 00:00:00+00:00 and end: 2011-01-05 00:00:00+00:00 dates\n"
     ]
    }
   ],
   "source": [
    "universe_end_date =  pd.Timestamp( cfg['models']['universe']['start'], tz='UTC') # pd.Timestamp('2016-01-05', tz='UTC')\n",
    "universe_start_date =  pd.Timestamp( cfg['models']['universe']['end_risk'], tz='UTC')  # universe_end_date - pd.DateOffset(years=5)\n",
    "print('Universe start: {} and end: {} dates'.format(universe_end_date, universe_start_date))"
   ]
  },
  {
   "cell_type": "code",
   "execution_count": 8,
   "metadata": {},
   "outputs": [
    {
     "data": {
      "text/plain": [
       "[Equity(0 [A]),\n",
       " Equity(1 [AAL]),\n",
       " Equity(2 [AAP]),\n",
       " Equity(3 [AAPL]),\n",
       " Equity(4 [ABBV])]"
      ]
     },
     "execution_count": 8,
     "metadata": {},
     "output_type": "execute_result"
    }
   ],
   "source": [
    "universe_tickers = engine\\\n",
    "    .run_pipeline(\n",
    "        Pipeline(screen=universe),\n",
    "        universe_end_date,\n",
    "        universe_end_date)\\\n",
    "    .index.get_level_values(1)\\\n",
    "    .values.tolist()\n",
    "    \n",
    "universe_tickers[:5]"
   ]
  },
  {
   "cell_type": "markdown",
   "metadata": {},
   "source": [
    "## Data Portal\n",
    "Not that we have our pipeline built, let's access the returns data. We'll start by building a data portal."
   ]
  },
  {
   "cell_type": "code",
   "execution_count": 9,
   "metadata": {},
   "outputs": [],
   "source": [
    "data_portal = DataPortal(\n",
    "    bundle_data.asset_finder,\n",
    "    trading_calendar=trading_calendar,\n",
    "    first_trading_day=bundle_data.equity_daily_bar_reader.first_trading_day,\n",
    "    equity_minute_reader=None,\n",
    "    equity_daily_reader=bundle_data.equity_daily_bar_reader,\n",
    "    adjustment_reader=bundle_data.adjustment_reader)"
   ]
  },
  {
   "cell_type": "code",
   "execution_count": 10,
   "metadata": {},
   "outputs": [
    {
     "name": "stderr",
     "output_type": "stream",
     "text": [
      "C:\\Users\\manua\\Documents\\repos\\dslab_ai4trading\\risk_factors\\mle_quant_utils\\quant_helper.py:54: FutureWarning: offset is deprecated. Use freq instead\n",
      "  end_dt = pd.Timestamp(end_date.strftime('%Y-%m-%d'), tz='UTC', offset='C')\n",
      "C:\\Users\\manua\\Documents\\repos\\dslab_ai4trading\\risk_factors\\mle_quant_utils\\quant_helper.py:55: FutureWarning: offset is deprecated. Use freq instead\n",
      "  start_dt = pd.Timestamp(start_date.strftime('%Y-%m-%d'), tz='UTC', offset='C')\n"
     ]
    },
    {
     "name": "stdout",
     "output_type": "stream",
     "text": [
      "<class 'pandas.core.frame.DataFrame'>\n",
      "DatetimeIndex: 1256 entries, 2011-01-07 to 2016-01-05\n",
      "Freq: C\n",
      "Columns: 490 entries, Equity(0 [A]) to Equity(490 [ZTS])\n",
      "dtypes: float64(490)\n",
      "memory usage: 4.7 MB\n"
     ]
    }
   ],
   "source": [
    "pricing = quant_helper.get_pricing(\n",
    "        data_portal,\n",
    "        trading_calendar,\n",
    "        universe_tickers,\n",
    "        universe_start_date,\n",
    "        universe_end_date)\n",
    "   \n",
    "five_year_returns = pricing .pct_change()[1:].fillna(0)\n",
    "pd.concat([five_year_returns.head(2), five_year_returns.tail(2)],axis=0)"
   ]
  },
  {
   "cell_type": "markdown",
   "metadata": {},
   "source": [
    "## ML-Alpha"
   ]
  },
  {
   "cell_type": "code",
   "execution_count": 26,
   "metadata": {},
   "outputs": [
    {
     "data": {
      "text/html": [
       "<div>\n",
       "<style scoped>\n",
       "    .dataframe tbody tr th:only-of-type {\n",
       "        vertical-align: middle;\n",
       "    }\n",
       "\n",
       "    .dataframe tbody tr th {\n",
       "        vertical-align: top;\n",
       "    }\n",
       "\n",
       "    .dataframe thead th {\n",
       "        text-align: right;\n",
       "    }\n",
       "</style>\n",
       "<table border=\"1\" class=\"dataframe\">\n",
       "  <thead>\n",
       "    <tr style=\"text-align: right;\">\n",
       "      <th></th>\n",
       "      <th></th>\n",
       "      <th>Mean_Reversion_Sector_Neutral_Smoothed</th>\n",
       "      <th>Momentum_1YR_Smoothed</th>\n",
       "      <th>Overnight_Sentiment_Smoothed</th>\n",
       "      <th>adv_120d</th>\n",
       "      <th>adv_20d</th>\n",
       "      <th>dispersion_120d</th>\n",
       "      <th>dispersion_20d</th>\n",
       "      <th>market_vol_120d</th>\n",
       "      <th>market_vol_20d</th>\n",
       "      <th>volatility_120d</th>\n",
       "      <th>...</th>\n",
       "      <th>sector_code_5</th>\n",
       "      <th>sector_code_6</th>\n",
       "      <th>sector_code_7</th>\n",
       "      <th>sector_code_8</th>\n",
       "      <th>sector_code_9</th>\n",
       "      <th>sector_code_10</th>\n",
       "      <th>qtr_1</th>\n",
       "      <th>qtr_2</th>\n",
       "      <th>qtr_3</th>\n",
       "      <th>qtr_4</th>\n",
       "    </tr>\n",
       "    <tr>\n",
       "      <th>date</th>\n",
       "      <th>asset</th>\n",
       "      <th></th>\n",
       "      <th></th>\n",
       "      <th></th>\n",
       "      <th></th>\n",
       "      <th></th>\n",
       "      <th></th>\n",
       "      <th></th>\n",
       "      <th></th>\n",
       "      <th></th>\n",
       "      <th></th>\n",
       "      <th></th>\n",
       "      <th></th>\n",
       "      <th></th>\n",
       "      <th></th>\n",
       "      <th></th>\n",
       "      <th></th>\n",
       "      <th></th>\n",
       "      <th></th>\n",
       "      <th></th>\n",
       "      <th></th>\n",
       "      <th></th>\n",
       "    </tr>\n",
       "  </thead>\n",
       "  <tbody>\n",
       "    <tr>\n",
       "      <th rowspan=\"2\" valign=\"top\">2013-01-03 00:00:00+00:00</th>\n",
       "      <th>A</th>\n",
       "      <td>-0.795709</td>\n",
       "      <td>-1.230279</td>\n",
       "      <td>-1.301799</td>\n",
       "      <td>1.338573</td>\n",
       "      <td>1.397411</td>\n",
       "      <td>0.013270</td>\n",
       "      <td>0.011178</td>\n",
       "      <td>0.127654</td>\n",
       "      <td>0.135452</td>\n",
       "      <td>-0.836546</td>\n",
       "      <td>...</td>\n",
       "      <td>0</td>\n",
       "      <td>0</td>\n",
       "      <td>0</td>\n",
       "      <td>0</td>\n",
       "      <td>0</td>\n",
       "      <td>0</td>\n",
       "      <td>1</td>\n",
       "      <td>0</td>\n",
       "      <td>0</td>\n",
       "      <td>0</td>\n",
       "    </tr>\n",
       "    <tr>\n",
       "      <th>AAL</th>\n",
       "      <td>0.558847</td>\n",
       "      <td>1.713471</td>\n",
       "      <td>-1.632765</td>\n",
       "      <td>1.139994</td>\n",
       "      <td>1.081155</td>\n",
       "      <td>0.013270</td>\n",
       "      <td>0.011178</td>\n",
       "      <td>0.127654</td>\n",
       "      <td>0.135452</td>\n",
       "      <td>1.639924</td>\n",
       "      <td>...</td>\n",
       "      <td>0</td>\n",
       "      <td>0</td>\n",
       "      <td>0</td>\n",
       "      <td>0</td>\n",
       "      <td>0</td>\n",
       "      <td>0</td>\n",
       "      <td>1</td>\n",
       "      <td>0</td>\n",
       "      <td>0</td>\n",
       "      <td>0</td>\n",
       "    </tr>\n",
       "    <tr>\n",
       "      <th rowspan=\"2\" valign=\"top\">2015-12-28 00:00:00+00:00</th>\n",
       "      <th>ZION</th>\n",
       "      <td>0.773366</td>\n",
       "      <td>-0.188031</td>\n",
       "      <td>1.325552</td>\n",
       "      <td>-0.965002</td>\n",
       "      <td>-0.724635</td>\n",
       "      <td>0.014916</td>\n",
       "      <td>0.014731</td>\n",
       "      <td>0.183680</td>\n",
       "      <td>0.181479</td>\n",
       "      <td>0.547895</td>\n",
       "      <td>...</td>\n",
       "      <td>1</td>\n",
       "      <td>0</td>\n",
       "      <td>0</td>\n",
       "      <td>0</td>\n",
       "      <td>0</td>\n",
       "      <td>0</td>\n",
       "      <td>0</td>\n",
       "      <td>0</td>\n",
       "      <td>0</td>\n",
       "      <td>1</td>\n",
       "    </tr>\n",
       "    <tr>\n",
       "      <th>ZTS</th>\n",
       "      <td>-0.944433</td>\n",
       "      <td>0.209727</td>\n",
       "      <td>0.441851</td>\n",
       "      <td>0.229762</td>\n",
       "      <td>-0.180275</td>\n",
       "      <td>0.014916</td>\n",
       "      <td>0.014731</td>\n",
       "      <td>0.183680</td>\n",
       "      <td>0.181479</td>\n",
       "      <td>0.413572</td>\n",
       "      <td>...</td>\n",
       "      <td>0</td>\n",
       "      <td>0</td>\n",
       "      <td>0</td>\n",
       "      <td>0</td>\n",
       "      <td>0</td>\n",
       "      <td>0</td>\n",
       "      <td>0</td>\n",
       "      <td>0</td>\n",
       "      <td>0</td>\n",
       "      <td>1</td>\n",
       "    </tr>\n",
       "  </tbody>\n",
       "</table>\n",
       "<p>4 rows × 33 columns</p>\n",
       "</div>"
      ],
      "text/plain": [
       "                                 Mean_Reversion_Sector_Neutral_Smoothed  \\\n",
       "date                      asset                                           \n",
       "2013-01-03 00:00:00+00:00 A                                   -0.795709   \n",
       "                          AAL                                  0.558847   \n",
       "2015-12-28 00:00:00+00:00 ZION                                 0.773366   \n",
       "                          ZTS                                 -0.944433   \n",
       "\n",
       "                                 Momentum_1YR_Smoothed  \\\n",
       "date                      asset                          \n",
       "2013-01-03 00:00:00+00:00 A                  -1.230279   \n",
       "                          AAL                 1.713471   \n",
       "2015-12-28 00:00:00+00:00 ZION               -0.188031   \n",
       "                          ZTS                 0.209727   \n",
       "\n",
       "                                 Overnight_Sentiment_Smoothed  adv_120d  \\\n",
       "date                      asset                                           \n",
       "2013-01-03 00:00:00+00:00 A                         -1.301799  1.338573   \n",
       "                          AAL                       -1.632765  1.139994   \n",
       "2015-12-28 00:00:00+00:00 ZION                       1.325552 -0.965002   \n",
       "                          ZTS                        0.441851  0.229762   \n",
       "\n",
       "                                  adv_20d  dispersion_120d  dispersion_20d  \\\n",
       "date                      asset                                              \n",
       "2013-01-03 00:00:00+00:00 A      1.397411         0.013270        0.011178   \n",
       "                          AAL    1.081155         0.013270        0.011178   \n",
       "2015-12-28 00:00:00+00:00 ZION  -0.724635         0.014916        0.014731   \n",
       "                          ZTS   -0.180275         0.014916        0.014731   \n",
       "\n",
       "                                 market_vol_120d  market_vol_20d  \\\n",
       "date                      asset                                    \n",
       "2013-01-03 00:00:00+00:00 A             0.127654        0.135452   \n",
       "                          AAL           0.127654        0.135452   \n",
       "2015-12-28 00:00:00+00:00 ZION          0.183680        0.181479   \n",
       "                          ZTS           0.183680        0.181479   \n",
       "\n",
       "                                 volatility_120d  ...    sector_code_5  \\\n",
       "date                      asset                   ...                    \n",
       "2013-01-03 00:00:00+00:00 A            -0.836546  ...                0   \n",
       "                          AAL           1.639924  ...                0   \n",
       "2015-12-28 00:00:00+00:00 ZION          0.547895  ...                1   \n",
       "                          ZTS           0.413572  ...                0   \n",
       "\n",
       "                                 sector_code_6  sector_code_7  sector_code_8  \\\n",
       "date                      asset                                                \n",
       "2013-01-03 00:00:00+00:00 A                  0              0              0   \n",
       "                          AAL                0              0              0   \n",
       "2015-12-28 00:00:00+00:00 ZION               0              0              0   \n",
       "                          ZTS                0              0              0   \n",
       "\n",
       "                                 sector_code_9  sector_code_10  qtr_1  qtr_2  \\\n",
       "date                      asset                                                \n",
       "2013-01-03 00:00:00+00:00 A                  0               0      1      0   \n",
       "                          AAL                0               0      1      0   \n",
       "2015-12-28 00:00:00+00:00 ZION               0               0      0      0   \n",
       "                          ZTS                0               0      0      0   \n",
       "\n",
       "                                 qtr_3  qtr_4  \n",
       "date                      asset                \n",
       "2013-01-03 00:00:00+00:00 A          0      0  \n",
       "                          AAL        0      0  \n",
       "2015-12-28 00:00:00+00:00 ZION       0      1  \n",
       "                          ZTS        0      1  \n",
       "\n",
       "[4 rows x 33 columns]"
      ]
     },
     "execution_count": 26,
     "metadata": {},
     "output_type": "execute_result"
    }
   ],
   "source": [
    "features_df = pd.read_csv(INPATH + INFILE1, parse_dates=['date'])\n",
    "features_df['date'] = features_df['date'].dt.tz_localize('utc')\n",
    "features_df.set_index(['date', 'asset'], inplace=True)\n",
    "split = features_df.pop(split_col)\n",
    "features = features_df.columns.tolist()\n",
    "pd.concat([features_df.head(2), features_df.tail(2)],axis=0)"
   ]
  },
  {
   "cell_type": "code",
   "execution_count": 9,
   "metadata": {},
   "outputs": [],
   "source": [
    "valid_dates = split[split=='valid'].index.get_level_values(0)\n",
    "valid_start = valid_dates[0].strftime('%Y-%m')\n",
    "valid_end = valid_dates[-1].strftime('%Y-%m')"
   ]
  },
  {
   "cell_type": "code",
   "execution_count": 10,
   "metadata": {},
   "outputs": [],
   "source": [
    "test_dates = split[split=='test'].index.get_level_values(0)\n",
    "test_start = test_dates[0].strftime('%Y-%m')\n",
    "test_end = test_dates[-1].strftime('%Y-%m')"
   ]
  },
  {
   "cell_type": "code",
   "execution_count": 41,
   "metadata": {},
   "outputs": [],
   "source": [
    "train_valid_idx = split[(split=='train') | (split=='valid')].index.get_level_values(0).drop_duplicates()"
   ]
  },
  {
   "cell_type": "code",
   "execution_count": 51,
   "metadata": {},
   "outputs": [
    {
     "data": {
      "text/html": [
       "<div>\n",
       "<style scoped>\n",
       "    .dataframe tbody tr th:only-of-type {\n",
       "        vertical-align: middle;\n",
       "    }\n",
       "\n",
       "    .dataframe tbody tr th {\n",
       "        vertical-align: top;\n",
       "    }\n",
       "\n",
       "    .dataframe thead th {\n",
       "        text-align: right;\n",
       "    }\n",
       "</style>\n",
       "<table border=\"1\" class=\"dataframe\">\n",
       "  <thead>\n",
       "    <tr style=\"text-align: right;\">\n",
       "      <th></th>\n",
       "      <th></th>\n",
       "      <th>Mean_Reversion_Sector_Neutral_Smoothed</th>\n",
       "      <th>Momentum_1YR_Smoothed</th>\n",
       "      <th>Overnight_Sentiment_Smoothed</th>\n",
       "      <th>adv_120d</th>\n",
       "      <th>adv_20d</th>\n",
       "      <th>dispersion_120d</th>\n",
       "      <th>dispersion_20d</th>\n",
       "      <th>market_vol_120d</th>\n",
       "      <th>market_vol_20d</th>\n",
       "      <th>volatility_120d</th>\n",
       "      <th>...</th>\n",
       "      <th>sector_code_5</th>\n",
       "      <th>sector_code_6</th>\n",
       "      <th>sector_code_7</th>\n",
       "      <th>sector_code_8</th>\n",
       "      <th>sector_code_9</th>\n",
       "      <th>sector_code_10</th>\n",
       "      <th>qtr_1</th>\n",
       "      <th>qtr_2</th>\n",
       "      <th>qtr_3</th>\n",
       "      <th>qtr_4</th>\n",
       "    </tr>\n",
       "    <tr>\n",
       "      <th>date</th>\n",
       "      <th>asset</th>\n",
       "      <th></th>\n",
       "      <th></th>\n",
       "      <th></th>\n",
       "      <th></th>\n",
       "      <th></th>\n",
       "      <th></th>\n",
       "      <th></th>\n",
       "      <th></th>\n",
       "      <th></th>\n",
       "      <th></th>\n",
       "      <th></th>\n",
       "      <th></th>\n",
       "      <th></th>\n",
       "      <th></th>\n",
       "      <th></th>\n",
       "      <th></th>\n",
       "      <th></th>\n",
       "      <th></th>\n",
       "      <th></th>\n",
       "      <th></th>\n",
       "      <th></th>\n",
       "    </tr>\n",
       "  </thead>\n",
       "  <tbody>\n",
       "    <tr>\n",
       "      <th rowspan=\"2\" valign=\"top\">2013-01-03 00:00:00+00:00</th>\n",
       "      <th>A</th>\n",
       "      <td>-0.795709</td>\n",
       "      <td>-1.230279</td>\n",
       "      <td>-1.301799</td>\n",
       "      <td>1.338573</td>\n",
       "      <td>1.397411</td>\n",
       "      <td>0.013270</td>\n",
       "      <td>0.011178</td>\n",
       "      <td>0.127654</td>\n",
       "      <td>0.135452</td>\n",
       "      <td>-0.836546</td>\n",
       "      <td>...</td>\n",
       "      <td>0</td>\n",
       "      <td>0</td>\n",
       "      <td>0</td>\n",
       "      <td>0</td>\n",
       "      <td>0</td>\n",
       "      <td>0</td>\n",
       "      <td>1</td>\n",
       "      <td>0</td>\n",
       "      <td>0</td>\n",
       "      <td>0</td>\n",
       "    </tr>\n",
       "    <tr>\n",
       "      <th>AAL</th>\n",
       "      <td>0.558847</td>\n",
       "      <td>1.713471</td>\n",
       "      <td>-1.632765</td>\n",
       "      <td>1.139994</td>\n",
       "      <td>1.081155</td>\n",
       "      <td>0.013270</td>\n",
       "      <td>0.011178</td>\n",
       "      <td>0.127654</td>\n",
       "      <td>0.135452</td>\n",
       "      <td>1.639924</td>\n",
       "      <td>...</td>\n",
       "      <td>0</td>\n",
       "      <td>0</td>\n",
       "      <td>0</td>\n",
       "      <td>0</td>\n",
       "      <td>0</td>\n",
       "      <td>0</td>\n",
       "      <td>1</td>\n",
       "      <td>0</td>\n",
       "      <td>0</td>\n",
       "      <td>0</td>\n",
       "    </tr>\n",
       "    <tr>\n",
       "      <th rowspan=\"2\" valign=\"top\">2015-05-27 00:00:00+00:00</th>\n",
       "      <th>ZION</th>\n",
       "      <td>0.216057</td>\n",
       "      <td>-0.884221</td>\n",
       "      <td>-0.078567</td>\n",
       "      <td>-1.085659</td>\n",
       "      <td>-1.342789</td>\n",
       "      <td>0.012559</td>\n",
       "      <td>0.011522</td>\n",
       "      <td>0.129420</td>\n",
       "      <td>0.104706</td>\n",
       "      <td>0.664252</td>\n",
       "      <td>...</td>\n",
       "      <td>1</td>\n",
       "      <td>0</td>\n",
       "      <td>0</td>\n",
       "      <td>0</td>\n",
       "      <td>0</td>\n",
       "      <td>0</td>\n",
       "      <td>0</td>\n",
       "      <td>1</td>\n",
       "      <td>0</td>\n",
       "      <td>0</td>\n",
       "    </tr>\n",
       "    <tr>\n",
       "      <th>ZTS</th>\n",
       "      <td>-1.418772</td>\n",
       "      <td>1.393649</td>\n",
       "      <td>1.378501</td>\n",
       "      <td>0.249987</td>\n",
       "      <td>0.378552</td>\n",
       "      <td>0.012559</td>\n",
       "      <td>0.011522</td>\n",
       "      <td>0.129420</td>\n",
       "      <td>0.104706</td>\n",
       "      <td>-0.321412</td>\n",
       "      <td>...</td>\n",
       "      <td>0</td>\n",
       "      <td>0</td>\n",
       "      <td>0</td>\n",
       "      <td>0</td>\n",
       "      <td>0</td>\n",
       "      <td>0</td>\n",
       "      <td>0</td>\n",
       "      <td>1</td>\n",
       "      <td>0</td>\n",
       "      <td>0</td>\n",
       "    </tr>\n",
       "  </tbody>\n",
       "</table>\n",
       "<p>4 rows × 33 columns</p>\n",
       "</div>"
      ],
      "text/plain": [
       "                                 Mean_Reversion_Sector_Neutral_Smoothed  \\\n",
       "date                      asset                                           \n",
       "2013-01-03 00:00:00+00:00 A                                   -0.795709   \n",
       "                          AAL                                  0.558847   \n",
       "2015-05-27 00:00:00+00:00 ZION                                 0.216057   \n",
       "                          ZTS                                 -1.418772   \n",
       "\n",
       "                                 Momentum_1YR_Smoothed  \\\n",
       "date                      asset                          \n",
       "2013-01-03 00:00:00+00:00 A                  -1.230279   \n",
       "                          AAL                 1.713471   \n",
       "2015-05-27 00:00:00+00:00 ZION               -0.884221   \n",
       "                          ZTS                 1.393649   \n",
       "\n",
       "                                 Overnight_Sentiment_Smoothed  adv_120d  \\\n",
       "date                      asset                                           \n",
       "2013-01-03 00:00:00+00:00 A                         -1.301799  1.338573   \n",
       "                          AAL                       -1.632765  1.139994   \n",
       "2015-05-27 00:00:00+00:00 ZION                      -0.078567 -1.085659   \n",
       "                          ZTS                        1.378501  0.249987   \n",
       "\n",
       "                                  adv_20d  dispersion_120d  dispersion_20d  \\\n",
       "date                      asset                                              \n",
       "2013-01-03 00:00:00+00:00 A      1.397411         0.013270        0.011178   \n",
       "                          AAL    1.081155         0.013270        0.011178   \n",
       "2015-05-27 00:00:00+00:00 ZION  -1.342789         0.012559        0.011522   \n",
       "                          ZTS    0.378552         0.012559        0.011522   \n",
       "\n",
       "                                 market_vol_120d  market_vol_20d  \\\n",
       "date                      asset                                    \n",
       "2013-01-03 00:00:00+00:00 A             0.127654        0.135452   \n",
       "                          AAL           0.127654        0.135452   \n",
       "2015-05-27 00:00:00+00:00 ZION          0.129420        0.104706   \n",
       "                          ZTS           0.129420        0.104706   \n",
       "\n",
       "                                 volatility_120d  ...    sector_code_5  \\\n",
       "date                      asset                   ...                    \n",
       "2013-01-03 00:00:00+00:00 A            -0.836546  ...                0   \n",
       "                          AAL           1.639924  ...                0   \n",
       "2015-05-27 00:00:00+00:00 ZION          0.664252  ...                1   \n",
       "                          ZTS          -0.321412  ...                0   \n",
       "\n",
       "                                 sector_code_6  sector_code_7  sector_code_8  \\\n",
       "date                      asset                                                \n",
       "2013-01-03 00:00:00+00:00 A                  0              0              0   \n",
       "                          AAL                0              0              0   \n",
       "2015-05-27 00:00:00+00:00 ZION               0              0              0   \n",
       "                          ZTS                0              0              0   \n",
       "\n",
       "                                 sector_code_9  sector_code_10  qtr_1  qtr_2  \\\n",
       "date                      asset                                                \n",
       "2013-01-03 00:00:00+00:00 A                  0               0      1      0   \n",
       "                          AAL                0               0      1      0   \n",
       "2015-05-27 00:00:00+00:00 ZION               0               0      0      1   \n",
       "                          ZTS                0               0      0      1   \n",
       "\n",
       "                                 qtr_3  qtr_4  \n",
       "date                      asset                \n",
       "2013-01-03 00:00:00+00:00 A          0      0  \n",
       "                          AAL        0      0  \n",
       "2015-05-27 00:00:00+00:00 ZION       0      0  \n",
       "                          ZTS        0      0  \n",
       "\n",
       "[4 rows x 33 columns]"
      ]
     },
     "execution_count": 51,
     "metadata": {},
     "output_type": "execute_result"
    }
   ],
   "source": [
    "X_train_valid = features_df.loc[(train_valid_idx, slice(None)), :]\n",
    "pd.concat([X_train_valid.head(2), X_train_valid.tail(2)],axis=0)"
   ]
  },
  {
   "cell_type": "code",
   "execution_count": 55,
   "metadata": {},
   "outputs": [],
   "source": [
    "with open(INPATH + INFILE3, 'rb') as file:\n",
    "    model = pickle.load(file)"
   ]
  },
  {
   "cell_type": "code",
   "execution_count": 62,
   "metadata": {},
   "outputs": [],
   "source": [
    "ml_alpha = pd.Series(index=features_df.index, data=model.predict(features_df))\n",
    "ml_alpha[split_col] = split"
   ]
  },
  {
   "cell_type": "code",
   "execution_count": null,
   "metadata": {},
   "outputs": [],
   "source": []
  }
 ],
 "metadata": {
  "kernelspec": {
   "display_name": "Python 3",
   "language": "python",
   "name": "python3"
  },
  "language_info": {
   "codemirror_mode": {
    "name": "ipython",
    "version": 3
   },
   "file_extension": ".py",
   "mimetype": "text/x-python",
   "name": "python",
   "nbconvert_exporter": "python",
   "pygments_lexer": "ipython3",
   "version": "3.5.6"
  },
  "toc-autonumbering": false,
  "varInspector": {
   "cols": {
    "lenName": 16,
    "lenType": 16,
    "lenVar": 40
   },
   "kernels_config": {
    "python": {
     "delete_cmd_postfix": "",
     "delete_cmd_prefix": "del ",
     "library": "var_list.py",
     "varRefreshCmd": "print(var_dic_list())"
    },
    "r": {
     "delete_cmd_postfix": ") ",
     "delete_cmd_prefix": "rm(",
     "library": "var_list.r",
     "varRefreshCmd": "cat(var_dic_list()) "
    }
   },
   "types_to_exclude": [
    "module",
    "function",
    "builtin_function_or_method",
    "instance",
    "_Feature"
   ],
   "window_display": false
  }
 },
 "nbformat": 4,
 "nbformat_minor": 4
}
