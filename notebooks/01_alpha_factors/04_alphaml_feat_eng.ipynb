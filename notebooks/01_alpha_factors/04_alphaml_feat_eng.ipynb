{
 "cells": [
  {
   "cell_type": "markdown",
   "metadata": {},
   "source": [
    "<font size=\"6\"> **Feature Engineering and Targets** </font>\n",
    "\n",
    "This notebook runs a full feature enginering pipeline and persists a subset 3 years span of factor data\n",
    "\n",
    "Alpha Factors and Universal Quant Features are computed by using Zipline"
   ]
  },
  {
   "cell_type": "code",
   "execution_count": 1,
   "metadata": {},
   "outputs": [],
   "source": [
    "OUTFILE1 = 'all_factors_3yrs.csv'\n",
    "OUTFILE2 = 'forw_returns_3yrs.csv'\n",
    "\n"
   ]
  },
  {
   "cell_type": "code",
   "execution_count": 2,
   "metadata": {},
   "outputs": [],
   "source": [
    "%load_ext autoreload\n",
    "%autoreload 2"
   ]
  },
  {
   "cell_type": "code",
   "execution_count": 3,
   "metadata": {},
   "outputs": [],
   "source": [
    "%run ../nb_config.py"
   ]
  },
  {
   "cell_type": "code",
   "execution_count": 4,
   "metadata": {},
   "outputs": [],
   "source": [
    "import os\n",
    "\n",
    "from src import utils\n",
    "from src.load_data import io_utils as read_utils\n",
    "from src.feat_eng import date_features, feat_utils\n",
    "from src.mle_quant_utils import quant_helper, quant_factors, mle_utils"
   ]
  },
  {
   "cell_type": "code",
   "execution_count": 5,
   "metadata": {},
   "outputs": [],
   "source": [
    "from zipline.data import bundles\n",
    "from zipline.utils.calendars import get_calendar\n",
    "from zipline.pipeline.factors import AnnualizedVolatility, AverageDollarVolume, Returns, SimpleMovingAverage, RSI, MACDSignal\n",
    "from zipline.pipeline.factors.technical import BollingerBands\n",
    "from zipline.pipeline import Pipeline\n",
    "from zipline.data.data_portal import DataPortal\n",
    "\n",
    "import alphalens as al"
   ]
  },
  {
   "cell_type": "code",
   "execution_count": 47,
   "metadata": {},
   "outputs": [
    {
     "data": {
      "text/plain": [
       "True"
      ]
     },
     "execution_count": 47,
     "metadata": {},
     "output_type": "execute_result"
    }
   ],
   "source": [
    "cfg = utils.read_conf()\n",
    "\n",
    "BUNDLE_FOLDER = cfg['quantopian']['dataset3']['bundle_folder']\n",
    "BUNDLE_NAME = cfg['quantopian']['dataset3']['bundle_name']\n",
    "SECTOR_FOLDER = cfg['quantopian']['dataset3']['sector_folder']\n",
    "SECTOR_DATA = cfg['quantopian']['dataset3']['sector_data']\n",
    "SECTOR_NAMES = cfg['quantopian']['dataset3']['sector_names']\n",
    "\n",
    "# Specify the bundle path\n",
    "bundle_path = os.path.join(read_utils.raw_path, 'market_data', BUNDLE_FOLDER)\n",
    "sector_path = os.path.join(read_utils.raw_path, 'market_data',SECTOR_FOLDER, SECTOR_DATA)\n",
    "sector_file = os.path.join(read_utils.raw_path, 'market_data',SECTOR_FOLDER, SECTOR_NAMES)\n",
    "os.path.isdir(bundle_path)"
   ]
  },
  {
   "cell_type": "code",
   "execution_count": 48,
   "metadata": {},
   "outputs": [],
   "source": [
    "OUTFILE1 = cfg['output']['interim']['all_factors']\n",
    "OUTFILE2 = cfg['output']['interim']['all_forwreturns']"
   ]
  },
  {
   "cell_type": "code",
   "execution_count": 7,
   "metadata": {},
   "outputs": [],
   "source": [
    "TAU = int(cfg['models']['alpha_ml']['tau'])\n",
    "target_col = cfg['models']['alpha_ml']['target_col']"
   ]
  },
  {
   "cell_type": "code",
   "execution_count": 8,
   "metadata": {},
   "outputs": [],
   "source": [
    "split_col = cfg['models']['alpha_ml']['split_col']\n",
    "splits = cfg['models']['alpha_ml']['splits']"
   ]
  },
  {
   "cell_type": "code",
   "execution_count": 9,
   "metadata": {},
   "outputs": [],
   "source": [
    "adv_win = int(cfg['models']['universe']['window'])\n",
    "adv_top = int(cfg['models']['universe']['adv_top'])"
   ]
  },
  {
   "cell_type": "code",
   "execution_count": 10,
   "metadata": {},
   "outputs": [],
   "source": [
    "universe_end_date =  pd.Timestamp( cfg['models']['universe']['start'], tz='UTC') # pd.Timestamp('2016-01-05', tz='UTC')\n",
    "factor_start_date =  pd.Timestamp( cfg['models']['universe']['end_alpha'], tz='UTC')  # universe_end_date - pd.DateOffset(years=3, days=2)"
   ]
  },
  {
   "cell_type": "code",
   "execution_count": 11,
   "metadata": {},
   "outputs": [
    {
     "name": "stdout",
     "output_type": "stream",
     "text": [
      "2013-01-03 00:00:00+00:00 2016-01-05 00:00:00+00:00\n"
     ]
    }
   ],
   "source": [
    "print(factor_start_date, universe_end_date)"
   ]
  },
  {
   "cell_type": "markdown",
   "metadata": {},
   "source": [
    "# DataLoading"
   ]
  },
  {
   "cell_type": "markdown",
   "metadata": {},
   "source": [
    "## Universe"
   ]
  },
  {
   "cell_type": "code",
   "execution_count": 12,
   "metadata": {},
   "outputs": [
    {
     "name": "stdout",
     "output_type": "stream",
     "text": [
      "Data Registered\n"
     ]
    }
   ],
   "source": [
    "# Data Bundle\n",
    "os.environ['ZIPLINE_ROOT'] = bundle_path\n",
    "ingest_func = bundles.csvdir.csvdir_equities(['daily'], BUNDLE_NAME)\n",
    "bundles.register(BUNDLE_NAME, ingest_func)\n",
    "print('Data Registered')"
   ]
  },
  {
   "cell_type": "code",
   "execution_count": 13,
   "metadata": {},
   "outputs": [
    {
     "name": "stdout",
     "output_type": "stream",
     "text": [
      "Universe ADV window: 120 and top threshold: 500\n"
     ]
    }
   ],
   "source": [
    "print('Universe ADV window: {} and top threshold: {}'.format(adv_win, adv_top))"
   ]
  },
  {
   "cell_type": "code",
   "execution_count": 14,
   "metadata": {},
   "outputs": [
    {
     "name": "stdout",
     "output_type": "stream",
     "text": [
      "Universe start: 2016-01-05 00:00:00+00:00 and end: 2013-01-03 00:00:00+00:00 dates\n"
     ]
    }
   ],
   "source": [
    "print('Universe start: {} and end: {} dates'.format(universe_end_date, factor_start_date))"
   ]
  },
  {
   "cell_type": "code",
   "execution_count": 15,
   "metadata": {},
   "outputs": [],
   "source": [
    "universe = AverageDollarVolume(window_length=adv_win).top(adv_top) \n",
    "trading_calendar = get_calendar('NYSE') \n",
    "bundle_data = bundles.load(BUNDLE_NAME)\n",
    "engine =  quant_helper.build_pipeline_engine(bundle_data, trading_calendar)"
   ]
  },
  {
   "cell_type": "code",
   "execution_count": 16,
   "metadata": {},
   "outputs": [],
   "source": [
    "pipeline = Pipeline(screen=universe)\n",
    "pipeline_target = Pipeline(screen=universe)"
   ]
  },
  {
   "cell_type": "markdown",
   "metadata": {},
   "source": [
    "## Data Portal"
   ]
  },
  {
   "cell_type": "code",
   "execution_count": 17,
   "metadata": {},
   "outputs": [],
   "source": [
    "data_portal = DataPortal(\n",
    "    bundle_data.asset_finder,\n",
    "    trading_calendar=trading_calendar,\n",
    "    first_trading_day=bundle_data.equity_daily_bar_reader.first_trading_day,\n",
    "    equity_minute_reader=None,\n",
    "    equity_daily_reader=bundle_data.equity_daily_bar_reader,\n",
    "    adjustment_reader=bundle_data.adjustment_reader)"
   ]
  },
  {
   "cell_type": "markdown",
   "metadata": {},
   "source": [
    "## Sector Look-up"
   ]
  },
  {
   "cell_type": "code",
   "execution_count": 18,
   "metadata": {},
   "outputs": [
    {
     "data": {
      "text/plain": [
       "Sector_i\n",
       "0                 Healthcare\n",
       "1                 Technology\n",
       "2         Consumer Defensive\n",
       "3                Industrials\n",
       "4                  Utilities\n",
       "5         Financial Services\n",
       "6                Real Estate\n",
       "7     Communication Services\n",
       "8          Consumer Cyclical\n",
       "9                     Energy\n",
       "10           Basic Materials\n",
       "Name: Sector, dtype: object"
      ]
     },
     "execution_count": 18,
     "metadata": {},
     "output_type": "execute_result"
    }
   ],
   "source": [
    "sector = quant_helper.get_sectors(sector_path)\n",
    "sector_lookup = pd.read_csv(sector_file, index_col='Sector_i')['Sector']\n",
    "sector_lookup"
   ]
  },
  {
   "cell_type": "markdown",
   "metadata": {},
   "source": [
    "# Feature Engineering"
   ]
  },
  {
   "cell_type": "markdown",
   "metadata": {},
   "source": [
    "## Alpha Factors"
   ]
  },
  {
   "cell_type": "code",
   "execution_count": 19,
   "metadata": {},
   "outputs": [],
   "source": [
    "pipeline.add(\n",
    "    quant_factors.momentum_smoothed(252, 5, universe, sector),\n",
    "    'Momentum_1YR_Smoothed')\n",
    "pipeline.add(\n",
    "    quant_factors.mean_reversion_sector_neutral_smoothed(5, universe, sector),\n",
    "    'Mean_Reversion_Sector_Neutral_Smoothed')\n",
    "pipeline.add(\n",
    "    quant_factors.overnight_sentiment_smoothed(2, 5, universe),\n",
    "    'Overnight_Sentiment_Smoothed')"
   ]
  },
  {
   "cell_type": "markdown",
   "metadata": {},
   "source": [
    "## Quant Features"
   ]
  },
  {
   "cell_type": "code",
   "execution_count": 20,
   "metadata": {},
   "outputs": [],
   "source": [
    "pipeline.add(AnnualizedVolatility(window_length=20, mask=universe).rank().zscore(), 'volatility_20d')\n",
    "pipeline.add(AnnualizedVolatility(window_length=120, mask=universe).rank().zscore(), 'volatility_120d')\n",
    "pipeline.add(AverageDollarVolume(window_length=20, mask=universe).rank().zscore(), 'adv_20d')\n",
    "pipeline.add(AverageDollarVolume(window_length=120, mask=universe).rank().zscore(), 'adv_120d')\n",
    "pipeline.add(sector, 'sector_code')"
   ]
  },
  {
   "cell_type": "markdown",
   "metadata": {},
   "source": [
    "## Regime Features"
   ]
  },
  {
   "cell_type": "code",
   "execution_count": 21,
   "metadata": {},
   "outputs": [],
   "source": [
    "pipeline.add(SimpleMovingAverage(inputs=[quant_factors.MarketDispersion(mask=universe)], window_length=20), 'dispersion_20d')\n",
    "pipeline.add(SimpleMovingAverage(inputs=[quant_factors.MarketDispersion(mask=universe)], window_length=120), 'dispersion_120d')\n",
    "pipeline.add(quant_factors.MarketVolatility(window_length=20), 'market_vol_20d')\n",
    "pipeline.add(quant_factors.MarketVolatility(window_length=120), 'market_vol_120d')"
   ]
  },
  {
   "cell_type": "code",
   "execution_count": 22,
   "metadata": {},
   "outputs": [
    {
     "name": "stdout",
     "output_type": "stream",
     "text": [
      "<class 'pandas.core.frame.DataFrame'>\n",
      "MultiIndex: 363734 entries, (2013-01-03 00:00:00+00:00, Equity(0 [A])) to (2016-01-05 00:00:00+00:00, Equity(490 [ZTS]))\n",
      "Columns: 12 entries, Mean_Reversion_Sector_Neutral_Smoothed to volatility_20d\n",
      "dtypes: float64(11), int64(1)\n",
      "memory usage: 34.7+ MB\n"
     ]
    }
   ],
   "source": [
    "all_factors = engine.run_pipeline(pipeline, factor_start_date, universe_end_date)\n",
    "all_factors.info()"
   ]
  },
  {
   "cell_type": "markdown",
   "metadata": {},
   "source": [
    "## Date Features"
   ]
  },
  {
   "cell_type": "code",
   "execution_count": 23,
   "metadata": {},
   "outputs": [
    {
     "data": {
      "text/html": [
       "<div>\n",
       "<style scoped>\n",
       "    .dataframe tbody tr th:only-of-type {\n",
       "        vertical-align: middle;\n",
       "    }\n",
       "\n",
       "    .dataframe tbody tr th {\n",
       "        vertical-align: top;\n",
       "    }\n",
       "\n",
       "    .dataframe thead th {\n",
       "        text-align: right;\n",
       "    }\n",
       "</style>\n",
       "<table border=\"1\" class=\"dataframe\">\n",
       "  <thead>\n",
       "    <tr style=\"text-align: right;\">\n",
       "      <th></th>\n",
       "      <th></th>\n",
       "      <th>is_January</th>\n",
       "      <th>is_December</th>\n",
       "      <th>month_end</th>\n",
       "      <th>month_start</th>\n",
       "      <th>qtr_end</th>\n",
       "      <th>qtr_start</th>\n",
       "      <th>weekday_0</th>\n",
       "      <th>weekday_1</th>\n",
       "      <th>weekday_2</th>\n",
       "      <th>weekday_3</th>\n",
       "      <th>weekday_4</th>\n",
       "      <th>qtr_1</th>\n",
       "      <th>qtr_2</th>\n",
       "      <th>qtr_3</th>\n",
       "      <th>qtr_4</th>\n",
       "    </tr>\n",
       "  </thead>\n",
       "  <tbody>\n",
       "    <tr>\n",
       "      <th>2014-11-25 00:00:00+00:00</th>\n",
       "      <th>Equity(284 [LYB])</th>\n",
       "      <td>0</td>\n",
       "      <td>0</td>\n",
       "      <td>0</td>\n",
       "      <td>0</td>\n",
       "      <td>0</td>\n",
       "      <td>0</td>\n",
       "      <td>0</td>\n",
       "      <td>1</td>\n",
       "      <td>0</td>\n",
       "      <td>0</td>\n",
       "      <td>0</td>\n",
       "      <td>0</td>\n",
       "      <td>0</td>\n",
       "      <td>0</td>\n",
       "      <td>1</td>\n",
       "    </tr>\n",
       "    <tr>\n",
       "      <th>2015-06-05 00:00:00+00:00</th>\n",
       "      <th>Equity(242 [IR])</th>\n",
       "      <td>0</td>\n",
       "      <td>0</td>\n",
       "      <td>0</td>\n",
       "      <td>0</td>\n",
       "      <td>0</td>\n",
       "      <td>0</td>\n",
       "      <td>0</td>\n",
       "      <td>0</td>\n",
       "      <td>0</td>\n",
       "      <td>0</td>\n",
       "      <td>1</td>\n",
       "      <td>0</td>\n",
       "      <td>1</td>\n",
       "      <td>0</td>\n",
       "      <td>0</td>\n",
       "    </tr>\n",
       "    <tr>\n",
       "      <th>2013-04-15 00:00:00+00:00</th>\n",
       "      <th>Equity(11 [ADP])</th>\n",
       "      <td>0</td>\n",
       "      <td>0</td>\n",
       "      <td>0</td>\n",
       "      <td>0</td>\n",
       "      <td>0</td>\n",
       "      <td>0</td>\n",
       "      <td>1</td>\n",
       "      <td>0</td>\n",
       "      <td>0</td>\n",
       "      <td>0</td>\n",
       "      <td>0</td>\n",
       "      <td>0</td>\n",
       "      <td>1</td>\n",
       "      <td>0</td>\n",
       "      <td>0</td>\n",
       "    </tr>\n",
       "    <tr>\n",
       "      <th>2013-01-30 00:00:00+00:00</th>\n",
       "      <th>Equity(386 [RL])</th>\n",
       "      <td>1</td>\n",
       "      <td>0</td>\n",
       "      <td>0</td>\n",
       "      <td>0</td>\n",
       "      <td>0</td>\n",
       "      <td>0</td>\n",
       "      <td>0</td>\n",
       "      <td>0</td>\n",
       "      <td>1</td>\n",
       "      <td>0</td>\n",
       "      <td>0</td>\n",
       "      <td>1</td>\n",
       "      <td>0</td>\n",
       "      <td>0</td>\n",
       "      <td>0</td>\n",
       "    </tr>\n",
       "    <tr>\n",
       "      <th>2014-01-15 00:00:00+00:00</th>\n",
       "      <th>Equity(438 [TXN])</th>\n",
       "      <td>1</td>\n",
       "      <td>0</td>\n",
       "      <td>0</td>\n",
       "      <td>0</td>\n",
       "      <td>0</td>\n",
       "      <td>0</td>\n",
       "      <td>0</td>\n",
       "      <td>0</td>\n",
       "      <td>1</td>\n",
       "      <td>0</td>\n",
       "      <td>0</td>\n",
       "      <td>1</td>\n",
       "      <td>0</td>\n",
       "      <td>0</td>\n",
       "      <td>0</td>\n",
       "    </tr>\n",
       "  </tbody>\n",
       "</table>\n",
       "</div>"
      ],
      "text/plain": [
       "                                             is_January  is_December  \\\n",
       "2014-11-25 00:00:00+00:00 Equity(284 [LYB])           0            0   \n",
       "2015-06-05 00:00:00+00:00 Equity(242 [IR])            0            0   \n",
       "2013-04-15 00:00:00+00:00 Equity(11 [ADP])            0            0   \n",
       "2013-01-30 00:00:00+00:00 Equity(386 [RL])            1            0   \n",
       "2014-01-15 00:00:00+00:00 Equity(438 [TXN])           1            0   \n",
       "\n",
       "                                             month_end  month_start  qtr_end  \\\n",
       "2014-11-25 00:00:00+00:00 Equity(284 [LYB])          0            0        0   \n",
       "2015-06-05 00:00:00+00:00 Equity(242 [IR])           0            0        0   \n",
       "2013-04-15 00:00:00+00:00 Equity(11 [ADP])           0            0        0   \n",
       "2013-01-30 00:00:00+00:00 Equity(386 [RL])           0            0        0   \n",
       "2014-01-15 00:00:00+00:00 Equity(438 [TXN])          0            0        0   \n",
       "\n",
       "                                             qtr_start  weekday_0  weekday_1  \\\n",
       "2014-11-25 00:00:00+00:00 Equity(284 [LYB])          0          0          1   \n",
       "2015-06-05 00:00:00+00:00 Equity(242 [IR])           0          0          0   \n",
       "2013-04-15 00:00:00+00:00 Equity(11 [ADP])           0          1          0   \n",
       "2013-01-30 00:00:00+00:00 Equity(386 [RL])           0          0          0   \n",
       "2014-01-15 00:00:00+00:00 Equity(438 [TXN])          0          0          0   \n",
       "\n",
       "                                             weekday_2  weekday_3  weekday_4  \\\n",
       "2014-11-25 00:00:00+00:00 Equity(284 [LYB])          0          0          0   \n",
       "2015-06-05 00:00:00+00:00 Equity(242 [IR])           0          0          1   \n",
       "2013-04-15 00:00:00+00:00 Equity(11 [ADP])           0          0          0   \n",
       "2013-01-30 00:00:00+00:00 Equity(386 [RL])           1          0          0   \n",
       "2014-01-15 00:00:00+00:00 Equity(438 [TXN])          1          0          0   \n",
       "\n",
       "                                             qtr_1  qtr_2  qtr_3  qtr_4  \n",
       "2014-11-25 00:00:00+00:00 Equity(284 [LYB])      0      0      0      1  \n",
       "2015-06-05 00:00:00+00:00 Equity(242 [IR])       0      1      0      0  \n",
       "2013-04-15 00:00:00+00:00 Equity(11 [ADP])       0      1      0      0  \n",
       "2013-01-30 00:00:00+00:00 Equity(386 [RL])       1      0      0      0  \n",
       "2014-01-15 00:00:00+00:00 Equity(438 [TXN])      1      0      0      0  "
      ]
     },
     "execution_count": 23,
     "metadata": {},
     "output_type": "execute_result"
    }
   ],
   "source": [
    "all_date_features = date_features.compute_date_features(\n",
    "    all_factors, factor_start_date, universe_end_date)\n",
    "date_cols = all_date_features.columns.tolist()\n",
    "all_date_features.sample(5)"
   ]
  },
  {
   "cell_type": "markdown",
   "metadata": {},
   "source": [
    "## OHE Sector"
   ]
  },
  {
   "cell_type": "code",
   "execution_count": 24,
   "metadata": {},
   "outputs": [
    {
     "data": {
      "text/plain": [
       " 8     0.153401\n",
       " 3     0.144061\n",
       " 5     0.138662\n",
       " 0     0.126469\n",
       " 1     0.113264\n",
       " 2     0.072883\n",
       " 9     0.064517\n",
       " 6     0.060355\n",
       " 4     0.056800\n",
       " 10    0.041624\n",
       " 7     0.020812\n",
       "-1     0.007154\n",
       "Name: sector_code, dtype: float64"
      ]
     },
     "execution_count": 24,
     "metadata": {},
     "output_type": "execute_result"
    }
   ],
   "source": [
    "all_factors['sector_code'].value_counts(normalize=True).sort_values(ascending=False)"
   ]
  },
  {
   "cell_type": "code",
   "execution_count": 25,
   "metadata": {},
   "outputs": [
    {
     "data": {
      "text/html": [
       "<div>\n",
       "<style scoped>\n",
       "    .dataframe tbody tr th:only-of-type {\n",
       "        vertical-align: middle;\n",
       "    }\n",
       "\n",
       "    .dataframe tbody tr th {\n",
       "        vertical-align: top;\n",
       "    }\n",
       "\n",
       "    .dataframe thead th {\n",
       "        text-align: right;\n",
       "    }\n",
       "</style>\n",
       "<table border=\"1\" class=\"dataframe\">\n",
       "  <thead>\n",
       "    <tr style=\"text-align: right;\">\n",
       "      <th></th>\n",
       "      <th></th>\n",
       "      <th>sector_code_-1</th>\n",
       "      <th>sector_code_0</th>\n",
       "      <th>sector_code_1</th>\n",
       "      <th>sector_code_2</th>\n",
       "      <th>sector_code_3</th>\n",
       "      <th>sector_code_4</th>\n",
       "      <th>sector_code_5</th>\n",
       "      <th>sector_code_6</th>\n",
       "      <th>sector_code_7</th>\n",
       "      <th>sector_code_8</th>\n",
       "      <th>sector_code_9</th>\n",
       "      <th>sector_code_10</th>\n",
       "    </tr>\n",
       "  </thead>\n",
       "  <tbody>\n",
       "    <tr>\n",
       "      <th>2015-08-17 00:00:00+00:00</th>\n",
       "      <th>Equity(38 [AMZN])</th>\n",
       "      <td>0</td>\n",
       "      <td>0</td>\n",
       "      <td>0</td>\n",
       "      <td>0</td>\n",
       "      <td>0</td>\n",
       "      <td>0</td>\n",
       "      <td>0</td>\n",
       "      <td>0</td>\n",
       "      <td>0</td>\n",
       "      <td>1</td>\n",
       "      <td>0</td>\n",
       "      <td>0</td>\n",
       "    </tr>\n",
       "    <tr>\n",
       "      <th>2013-11-20 00:00:00+00:00</th>\n",
       "      <th>Equity(80 [CBG])</th>\n",
       "      <td>0</td>\n",
       "      <td>0</td>\n",
       "      <td>0</td>\n",
       "      <td>0</td>\n",
       "      <td>0</td>\n",
       "      <td>0</td>\n",
       "      <td>0</td>\n",
       "      <td>1</td>\n",
       "      <td>0</td>\n",
       "      <td>0</td>\n",
       "      <td>0</td>\n",
       "      <td>0</td>\n",
       "    </tr>\n",
       "    <tr>\n",
       "      <th>2013-10-16 00:00:00+00:00</th>\n",
       "      <th>Equity(321 [NEE])</th>\n",
       "      <td>0</td>\n",
       "      <td>0</td>\n",
       "      <td>0</td>\n",
       "      <td>0</td>\n",
       "      <td>0</td>\n",
       "      <td>1</td>\n",
       "      <td>0</td>\n",
       "      <td>0</td>\n",
       "      <td>0</td>\n",
       "      <td>0</td>\n",
       "      <td>0</td>\n",
       "      <td>0</td>\n",
       "    </tr>\n",
       "    <tr>\n",
       "      <th>2014-03-28 00:00:00+00:00</th>\n",
       "      <th>Equity(113 [CRM])</th>\n",
       "      <td>0</td>\n",
       "      <td>0</td>\n",
       "      <td>1</td>\n",
       "      <td>0</td>\n",
       "      <td>0</td>\n",
       "      <td>0</td>\n",
       "      <td>0</td>\n",
       "      <td>0</td>\n",
       "      <td>0</td>\n",
       "      <td>0</td>\n",
       "      <td>0</td>\n",
       "      <td>0</td>\n",
       "    </tr>\n",
       "    <tr>\n",
       "      <th>2014-05-30 00:00:00+00:00</th>\n",
       "      <th>Equity(306 [MON])</th>\n",
       "      <td>0</td>\n",
       "      <td>0</td>\n",
       "      <td>0</td>\n",
       "      <td>0</td>\n",
       "      <td>0</td>\n",
       "      <td>0</td>\n",
       "      <td>0</td>\n",
       "      <td>0</td>\n",
       "      <td>0</td>\n",
       "      <td>0</td>\n",
       "      <td>0</td>\n",
       "      <td>1</td>\n",
       "    </tr>\n",
       "  </tbody>\n",
       "</table>\n",
       "</div>"
      ],
      "text/plain": [
       "                                             sector_code_-1  sector_code_0  \\\n",
       "2015-08-17 00:00:00+00:00 Equity(38 [AMZN])               0              0   \n",
       "2013-11-20 00:00:00+00:00 Equity(80 [CBG])                0              0   \n",
       "2013-10-16 00:00:00+00:00 Equity(321 [NEE])               0              0   \n",
       "2014-03-28 00:00:00+00:00 Equity(113 [CRM])               0              0   \n",
       "2014-05-30 00:00:00+00:00 Equity(306 [MON])               0              0   \n",
       "\n",
       "                                             sector_code_1  sector_code_2  \\\n",
       "2015-08-17 00:00:00+00:00 Equity(38 [AMZN])              0              0   \n",
       "2013-11-20 00:00:00+00:00 Equity(80 [CBG])               0              0   \n",
       "2013-10-16 00:00:00+00:00 Equity(321 [NEE])              0              0   \n",
       "2014-03-28 00:00:00+00:00 Equity(113 [CRM])              1              0   \n",
       "2014-05-30 00:00:00+00:00 Equity(306 [MON])              0              0   \n",
       "\n",
       "                                             sector_code_3  sector_code_4  \\\n",
       "2015-08-17 00:00:00+00:00 Equity(38 [AMZN])              0              0   \n",
       "2013-11-20 00:00:00+00:00 Equity(80 [CBG])               0              0   \n",
       "2013-10-16 00:00:00+00:00 Equity(321 [NEE])              0              1   \n",
       "2014-03-28 00:00:00+00:00 Equity(113 [CRM])              0              0   \n",
       "2014-05-30 00:00:00+00:00 Equity(306 [MON])              0              0   \n",
       "\n",
       "                                             sector_code_5  sector_code_6  \\\n",
       "2015-08-17 00:00:00+00:00 Equity(38 [AMZN])              0              0   \n",
       "2013-11-20 00:00:00+00:00 Equity(80 [CBG])               0              1   \n",
       "2013-10-16 00:00:00+00:00 Equity(321 [NEE])              0              0   \n",
       "2014-03-28 00:00:00+00:00 Equity(113 [CRM])              0              0   \n",
       "2014-05-30 00:00:00+00:00 Equity(306 [MON])              0              0   \n",
       "\n",
       "                                             sector_code_7  sector_code_8  \\\n",
       "2015-08-17 00:00:00+00:00 Equity(38 [AMZN])              0              1   \n",
       "2013-11-20 00:00:00+00:00 Equity(80 [CBG])               0              0   \n",
       "2013-10-16 00:00:00+00:00 Equity(321 [NEE])              0              0   \n",
       "2014-03-28 00:00:00+00:00 Equity(113 [CRM])              0              0   \n",
       "2014-05-30 00:00:00+00:00 Equity(306 [MON])              0              0   \n",
       "\n",
       "                                             sector_code_9  sector_code_10  \n",
       "2015-08-17 00:00:00+00:00 Equity(38 [AMZN])              0               0  \n",
       "2013-11-20 00:00:00+00:00 Equity(80 [CBG])               0               0  \n",
       "2013-10-16 00:00:00+00:00 Equity(321 [NEE])              0               0  \n",
       "2014-03-28 00:00:00+00:00 Equity(113 [CRM])              0               0  \n",
       "2014-05-30 00:00:00+00:00 Equity(306 [MON])              0               1  "
      ]
     },
     "execution_count": 25,
     "metadata": {},
     "output_type": "execute_result"
    }
   ],
   "source": [
    "sectors_ohe_df = pd.get_dummies(all_factors['sector_code'], prefix='sector_code')\n",
    "sectors_ohe_cols = sectors_ohe_df.columns.tolist()\n",
    "sectors_ohe_df.sample(5)"
   ]
  },
  {
   "cell_type": "code",
   "execution_count": 26,
   "metadata": {},
   "outputs": [],
   "source": [
    "all_factors = pd.concat([all_factors, sectors_ohe_df, all_date_features], axis=1)"
   ]
  },
  {
   "cell_type": "code",
   "execution_count": 27,
   "metadata": {},
   "outputs": [],
   "source": [
    "features = ['Mean_Reversion_Sector_Neutral_Smoothed',\n",
    " 'Momentum_1YR_Smoothed',\n",
    " 'Overnight_Sentiment_Smoothed',\n",
    " 'adv_120d',\n",
    " 'adv_20d',\n",
    " 'dispersion_120d',\n",
    " 'dispersion_20d',\n",
    " 'market_vol_120d',\n",
    " 'market_vol_20d',\n",
    " 'volatility_120d',\n",
    " 'volatility_20d'] + sectors_ohe_cols + date_cols"
   ]
  },
  {
   "cell_type": "code",
   "execution_count": 28,
   "metadata": {},
   "outputs": [],
   "source": [
    "all_factors = all_factors[features].copy()"
   ]
  },
  {
   "cell_type": "markdown",
   "metadata": {},
   "source": [
    "# Target"
   ]
  },
  {
   "cell_type": "code",
   "execution_count": 29,
   "metadata": {},
   "outputs": [],
   "source": [
    "return_d_raw = 'return_{}d_raw'.format(TAU)\n",
    "return_d = 'return_{}d'.format(TAU)\n",
    "return_d_5p = 'return_{}d_5p'.format(TAU)\n",
    "return_d_25p = 'return_{}d_25p'.format(TAU)\n",
    "\n",
    "pipeline_target.add(Returns(window_length=TAU, mask=universe), return_d_raw)\n",
    "pipeline_target.add(Returns(window_length=TAU, mask=universe).quantiles(2), return_d)\n",
    "pipeline_target.add(Returns(window_length=TAU, mask=universe).quantiles(5), return_d_5p)\n",
    "pipeline_target.add(Returns(window_length=TAU, mask=universe).quantiles(25), return_d_25p)"
   ]
  },
  {
   "cell_type": "code",
   "execution_count": 30,
   "metadata": {},
   "outputs": [
    {
     "data": {
      "text/html": [
       "<div>\n",
       "<style scoped>\n",
       "    .dataframe tbody tr th:only-of-type {\n",
       "        vertical-align: middle;\n",
       "    }\n",
       "\n",
       "    .dataframe tbody tr th {\n",
       "        vertical-align: top;\n",
       "    }\n",
       "\n",
       "    .dataframe thead th {\n",
       "        text-align: right;\n",
       "    }\n",
       "</style>\n",
       "<table border=\"1\" class=\"dataframe\">\n",
       "  <thead>\n",
       "    <tr style=\"text-align: right;\">\n",
       "      <th></th>\n",
       "      <th></th>\n",
       "      <th>return_5d</th>\n",
       "      <th>return_5d_25p</th>\n",
       "      <th>return_5d_5p</th>\n",
       "      <th>return_5d_raw</th>\n",
       "    </tr>\n",
       "  </thead>\n",
       "  <tbody>\n",
       "    <tr>\n",
       "      <th rowspan=\"5\" valign=\"top\">2013-01-03 00:00:00+00:00</th>\n",
       "      <th>Equity(0 [A])</th>\n",
       "      <td>0</td>\n",
       "      <td>2</td>\n",
       "      <td>0</td>\n",
       "      <td>0.013820</td>\n",
       "    </tr>\n",
       "    <tr>\n",
       "      <th>Equity(1 [AAL])</th>\n",
       "      <td>1</td>\n",
       "      <td>22</td>\n",
       "      <td>4</td>\n",
       "      <td>0.056681</td>\n",
       "    </tr>\n",
       "    <tr>\n",
       "      <th>Equity(2 [AAP])</th>\n",
       "      <td>0</td>\n",
       "      <td>10</td>\n",
       "      <td>2</td>\n",
       "      <td>0.026772</td>\n",
       "    </tr>\n",
       "    <tr>\n",
       "      <th>Equity(3 [AAPL])</th>\n",
       "      <td>1</td>\n",
       "      <td>24</td>\n",
       "      <td>4</td>\n",
       "      <td>0.070221</td>\n",
       "    </tr>\n",
       "    <tr>\n",
       "      <th>Equity(4 [ABBV])</th>\n",
       "      <td>-1</td>\n",
       "      <td>-1</td>\n",
       "      <td>-1</td>\n",
       "      <td>NaN</td>\n",
       "    </tr>\n",
       "  </tbody>\n",
       "</table>\n",
       "</div>"
      ],
      "text/plain": [
       "                                            return_5d  return_5d_25p  \\\n",
       "2013-01-03 00:00:00+00:00 Equity(0 [A])             0              2   \n",
       "                          Equity(1 [AAL])           1             22   \n",
       "                          Equity(2 [AAP])           0             10   \n",
       "                          Equity(3 [AAPL])          1             24   \n",
       "                          Equity(4 [ABBV])         -1             -1   \n",
       "\n",
       "                                            return_5d_5p  return_5d_raw  \n",
       "2013-01-03 00:00:00+00:00 Equity(0 [A])                0       0.013820  \n",
       "                          Equity(1 [AAL])              4       0.056681  \n",
       "                          Equity(2 [AAP])              2       0.026772  \n",
       "                          Equity(3 [AAPL])             4       0.070221  \n",
       "                          Equity(4 [ABBV])            -1            NaN  "
      ]
     },
     "execution_count": 30,
     "metadata": {},
     "output_type": "execute_result"
    }
   ],
   "source": [
    "targets_df = engine.run_pipeline(pipeline_target, factor_start_date, universe_end_date)\n",
    "targets_df.head()"
   ]
  },
  {
   "cell_type": "code",
   "execution_count": 31,
   "metadata": {},
   "outputs": [
    {
     "data": {
      "text/html": [
       "<div>\n",
       "<style scoped>\n",
       "    .dataframe tbody tr th:only-of-type {\n",
       "        vertical-align: middle;\n",
       "    }\n",
       "\n",
       "    .dataframe tbody tr th {\n",
       "        vertical-align: top;\n",
       "    }\n",
       "\n",
       "    .dataframe thead th {\n",
       "        text-align: right;\n",
       "    }\n",
       "</style>\n",
       "<table border=\"1\" class=\"dataframe\">\n",
       "  <thead>\n",
       "    <tr style=\"text-align: right;\">\n",
       "      <th></th>\n",
       "      <th>count</th>\n",
       "      <th>mean</th>\n",
       "      <th>std</th>\n",
       "      <th>min</th>\n",
       "      <th>25%</th>\n",
       "      <th>50%</th>\n",
       "      <th>75%</th>\n",
       "      <th>max</th>\n",
       "    </tr>\n",
       "    <tr>\n",
       "      <th>return_5d</th>\n",
       "      <th></th>\n",
       "      <th></th>\n",
       "      <th></th>\n",
       "      <th></th>\n",
       "      <th></th>\n",
       "      <th></th>\n",
       "      <th></th>\n",
       "      <th></th>\n",
       "    </tr>\n",
       "  </thead>\n",
       "  <tbody>\n",
       "    <tr>\n",
       "      <th>0</th>\n",
       "      <td>182042.0</td>\n",
       "      <td>-0.014613</td>\n",
       "      <td>0.024828</td>\n",
       "      <td>-0.508280</td>\n",
       "      <td>-0.025614</td>\n",
       "      <td>-0.010641</td>\n",
       "      <td>0.001088</td>\n",
       "      <td>0.051352</td>\n",
       "    </tr>\n",
       "    <tr>\n",
       "      <th>1</th>\n",
       "      <td>181612.0</td>\n",
       "      <td>0.020367</td>\n",
       "      <td>0.025970</td>\n",
       "      <td>-0.099715</td>\n",
       "      <td>0.005502</td>\n",
       "      <td>0.017179</td>\n",
       "      <td>0.031336</td>\n",
       "      <td>0.709748</td>\n",
       "    </tr>\n",
       "  </tbody>\n",
       "</table>\n",
       "</div>"
      ],
      "text/plain": [
       "              count      mean       std       min       25%       50%  \\\n",
       "return_5d                                                               \n",
       "0          182042.0 -0.014613  0.024828 -0.508280 -0.025614 -0.010641   \n",
       "1          181612.0  0.020367  0.025970 -0.099715  0.005502  0.017179   \n",
       "\n",
       "                75%       max  \n",
       "return_5d                      \n",
       "0          0.001088  0.051352  \n",
       "1          0.031336  0.709748  "
      ]
     },
     "execution_count": 31,
     "metadata": {},
     "output_type": "execute_result"
    }
   ],
   "source": [
    "targets_df.dropna().groupby(return_d)[return_d_raw].describe()"
   ]
  },
  {
   "cell_type": "code",
   "execution_count": 32,
   "metadata": {},
   "outputs": [
    {
     "data": {
      "text/html": [
       "<div>\n",
       "<style scoped>\n",
       "    .dataframe tbody tr th:only-of-type {\n",
       "        vertical-align: middle;\n",
       "    }\n",
       "\n",
       "    .dataframe tbody tr th {\n",
       "        vertical-align: top;\n",
       "    }\n",
       "\n",
       "    .dataframe thead th {\n",
       "        text-align: right;\n",
       "    }\n",
       "</style>\n",
       "<table border=\"1\" class=\"dataframe\">\n",
       "  <thead>\n",
       "    <tr style=\"text-align: right;\">\n",
       "      <th>return_5d_raw</th>\n",
       "      <th>False</th>\n",
       "      <th>True</th>\n",
       "    </tr>\n",
       "    <tr>\n",
       "      <th>return_5d</th>\n",
       "      <th></th>\n",
       "      <th></th>\n",
       "    </tr>\n",
       "  </thead>\n",
       "  <tbody>\n",
       "    <tr>\n",
       "      <th>-1</th>\n",
       "      <td>80</td>\n",
       "      <td>0</td>\n",
       "    </tr>\n",
       "    <tr>\n",
       "      <th>0</th>\n",
       "      <td>132859</td>\n",
       "      <td>49183</td>\n",
       "    </tr>\n",
       "    <tr>\n",
       "      <th>1</th>\n",
       "      <td>29628</td>\n",
       "      <td>151984</td>\n",
       "    </tr>\n",
       "  </tbody>\n",
       "</table>\n",
       "</div>"
      ],
      "text/plain": [
       "return_5d_raw   False   True \n",
       "return_5d                    \n",
       "-1                 80       0\n",
       " 0             132859   49183\n",
       " 1              29628  151984"
      ]
     },
     "execution_count": 32,
     "metadata": {},
     "output_type": "execute_result"
    }
   ],
   "source": [
    "pd.crosstab(index=targets_df[return_d],\n",
    "            columns=targets_df[return_d_raw]>0)"
   ]
  },
  {
   "cell_type": "markdown",
   "metadata": {},
   "source": [
    "Computing two quantiles yields a boundary that does not respect zero, therefore, same few points at target 0 are positive returns and viceversa. Any even number bucketization should use zero as a threshold, on the other hand, odd number quantiles may left a band around zero is variable distribution behaves properly"
   ]
  },
  {
   "cell_type": "code",
   "execution_count": 33,
   "metadata": {},
   "outputs": [
    {
     "data": {
      "text/html": [
       "<div>\n",
       "<style scoped>\n",
       "    .dataframe tbody tr th:only-of-type {\n",
       "        vertical-align: middle;\n",
       "    }\n",
       "\n",
       "    .dataframe tbody tr th {\n",
       "        vertical-align: top;\n",
       "    }\n",
       "\n",
       "    .dataframe thead th {\n",
       "        text-align: right;\n",
       "    }\n",
       "</style>\n",
       "<table border=\"1\" class=\"dataframe\">\n",
       "  <thead>\n",
       "    <tr style=\"text-align: right;\">\n",
       "      <th></th>\n",
       "      <th>level_0</th>\n",
       "      <th>level_1</th>\n",
       "      <th>return_5d_fshift</th>\n",
       "      <th>return_5d_fshift_is_positive</th>\n",
       "    </tr>\n",
       "  </thead>\n",
       "  <tbody>\n",
       "    <tr>\n",
       "      <th>0</th>\n",
       "      <td>2013-01-03 00:00:00+00:00</td>\n",
       "      <td>Equity(0 [A])</td>\n",
       "      <td>-0.009169</td>\n",
       "      <td>0.0</td>\n",
       "    </tr>\n",
       "    <tr>\n",
       "      <th>471</th>\n",
       "      <td>2013-01-04 00:00:00+00:00</td>\n",
       "      <td>Equity(0 [A])</td>\n",
       "      <td>-0.007723</td>\n",
       "      <td>0.0</td>\n",
       "    </tr>\n",
       "    <tr>\n",
       "      <th>942</th>\n",
       "      <td>2013-01-07 00:00:00+00:00</td>\n",
       "      <td>Equity(0 [A])</td>\n",
       "      <td>-0.012743</td>\n",
       "      <td>0.0</td>\n",
       "    </tr>\n",
       "    <tr>\n",
       "      <th>1413</th>\n",
       "      <td>2013-01-08 00:00:00+00:00</td>\n",
       "      <td>Equity(0 [A])</td>\n",
       "      <td>0.032639</td>\n",
       "      <td>1.0</td>\n",
       "    </tr>\n",
       "    <tr>\n",
       "      <th>1884</th>\n",
       "      <td>2013-01-09 00:00:00+00:00</td>\n",
       "      <td>Equity(0 [A])</td>\n",
       "      <td>0.002336</td>\n",
       "      <td>1.0</td>\n",
       "    </tr>\n",
       "    <tr>\n",
       "      <th>2355</th>\n",
       "      <td>2013-01-10 00:00:00+00:00</td>\n",
       "      <td>Equity(0 [A])</td>\n",
       "      <td>-0.035680</td>\n",
       "      <td>0.0</td>\n",
       "    </tr>\n",
       "    <tr>\n",
       "      <th>2826</th>\n",
       "      <td>2013-01-11 00:00:00+00:00</td>\n",
       "      <td>Equity(0 [A])</td>\n",
       "      <td>0.001330</td>\n",
       "      <td>1.0</td>\n",
       "    </tr>\n",
       "    <tr>\n",
       "      <th>3297</th>\n",
       "      <td>2013-01-14 00:00:00+00:00</td>\n",
       "      <td>Equity(0 [A])</td>\n",
       "      <td>-0.019730</td>\n",
       "      <td>0.0</td>\n",
       "    </tr>\n",
       "    <tr>\n",
       "      <th>3768</th>\n",
       "      <td>2013-01-15 00:00:00+00:00</td>\n",
       "      <td>Equity(0 [A])</td>\n",
       "      <td>-0.036124</td>\n",
       "      <td>0.0</td>\n",
       "    </tr>\n",
       "    <tr>\n",
       "      <th>4239</th>\n",
       "      <td>2013-01-16 00:00:00+00:00</td>\n",
       "      <td>Equity(0 [A])</td>\n",
       "      <td>-0.000665</td>\n",
       "      <td>0.0</td>\n",
       "    </tr>\n",
       "  </tbody>\n",
       "</table>\n",
       "</div>"
      ],
      "text/plain": [
       "                       level_0        level_1  return_5d_fshift  \\\n",
       "0    2013-01-03 00:00:00+00:00  Equity(0 [A])         -0.009169   \n",
       "471  2013-01-04 00:00:00+00:00  Equity(0 [A])         -0.007723   \n",
       "942  2013-01-07 00:00:00+00:00  Equity(0 [A])         -0.012743   \n",
       "1413 2013-01-08 00:00:00+00:00  Equity(0 [A])          0.032639   \n",
       "1884 2013-01-09 00:00:00+00:00  Equity(0 [A])          0.002336   \n",
       "2355 2013-01-10 00:00:00+00:00  Equity(0 [A])         -0.035680   \n",
       "2826 2013-01-11 00:00:00+00:00  Equity(0 [A])          0.001330   \n",
       "3297 2013-01-14 00:00:00+00:00  Equity(0 [A])         -0.019730   \n",
       "3768 2013-01-15 00:00:00+00:00  Equity(0 [A])         -0.036124   \n",
       "4239 2013-01-16 00:00:00+00:00  Equity(0 [A])         -0.000665   \n",
       "\n",
       "      return_5d_fshift_is_positive  \n",
       "0                              0.0  \n",
       "471                            0.0  \n",
       "942                            0.0  \n",
       "1413                           1.0  \n",
       "1884                           1.0  \n",
       "2355                           0.0  \n",
       "2826                           1.0  \n",
       "3297                           0.0  \n",
       "3768                           0.0  \n",
       "4239                           0.0  "
      ]
     },
     "execution_count": 33,
     "metadata": {},
     "output_type": "execute_result"
    }
   ],
   "source": [
    "targets_df['return_5d_fshift'] = targets_df.groupby(level=1)[return_d_raw].shift(-TAU)\n",
    "targets_df['return_5d_fshift_is_positive'] = targets_df['return_5d_fshift'].apply(feat_utils.safe_positive)\n",
    "\n",
    "targets_df[['return_5d_fshift', 'return_5d_fshift_is_positive']].reset_index().sort_values(['level_1', 'level_0']).head(10)"
   ]
  },
  {
   "cell_type": "markdown",
   "metadata": {},
   "source": [
    "# Data Preparation"
   ]
  },
  {
   "cell_type": "code",
   "execution_count": 34,
   "metadata": {},
   "outputs": [
    {
     "data": {
      "text/plain": [
       "DatetimeIndex(['2013-01-03', '2013-01-04'], dtype='datetime64[ns, UTC]', freq=None)"
      ]
     },
     "execution_count": 34,
     "metadata": {},
     "output_type": "execute_result"
    }
   ],
   "source": [
    "select_rows = targets_df.index.get_level_values(0).unique()[:-TAU]\n",
    "select_rows[:2]"
   ]
  },
  {
   "cell_type": "code",
   "execution_count": 35,
   "metadata": {},
   "outputs": [],
   "source": [
    "# Avoid nans due to shifting\n",
    "targets_df = targets_df.loc[(select_rows, slice(None)), :]\n",
    "all_factors = all_factors.loc[(select_rows, slice(None)), :]"
   ]
  },
  {
   "cell_type": "code",
   "execution_count": 36,
   "metadata": {},
   "outputs": [],
   "source": [
    "all_factors_isna = all_factors.isna().sum(axis=1)\n",
    "all_factors = all_factors.interpolate(method='linear')"
   ]
  },
  {
   "cell_type": "code",
   "execution_count": 37,
   "metadata": {},
   "outputs": [
    {
     "name": "stdout",
     "output_type": "stream",
     "text": [
      "Number of rows with any missing value:  6393\n"
     ]
    }
   ],
   "source": [
    "print('Number of rows with any missing value: ', len(all_factors_isna[all_factors_isna>0]))"
   ]
  },
  {
   "cell_type": "markdown",
   "metadata": {},
   "source": [
    "## Dataset conformance checking"
   ]
  },
  {
   "cell_type": "code",
   "execution_count": 38,
   "metadata": {},
   "outputs": [
    {
     "data": {
      "text/plain": [
       "361284"
      ]
     },
     "execution_count": 38,
     "metadata": {},
     "output_type": "execute_result"
    }
   ],
   "source": [
    "len(targets_df)"
   ]
  },
  {
   "cell_type": "code",
   "execution_count": 39,
   "metadata": {},
   "outputs": [
    {
     "data": {
      "text/plain": [
       "361284"
      ]
     },
     "execution_count": 39,
     "metadata": {},
     "output_type": "execute_result"
    }
   ],
   "source": [
    "len(targets_df['return_5d_fshift_is_positive'].dropna())"
   ]
  },
  {
   "cell_type": "code",
   "execution_count": 40,
   "metadata": {},
   "outputs": [
    {
     "data": {
      "text/plain": [
       "361284"
      ]
     },
     "execution_count": 40,
     "metadata": {},
     "output_type": "execute_result"
    }
   ],
   "source": [
    "len(all_factors)"
   ]
  },
  {
   "cell_type": "code",
   "execution_count": 41,
   "metadata": {},
   "outputs": [
    {
     "data": {
      "text/plain": [
       "361284"
      ]
     },
     "execution_count": 41,
     "metadata": {},
     "output_type": "execute_result"
    }
   ],
   "source": [
    "len(all_factors.dropna())"
   ]
  },
  {
   "cell_type": "markdown",
   "metadata": {},
   "source": [
    "# Data Partitioning\n",
    "\n",
    "Train/Valid/Test must be partitioned taking into account two facts:\n",
    "* Data is time series\n",
    "* Do not split a single day in two"
   ]
  },
  {
   "cell_type": "markdown",
   "metadata": {},
   "source": [
    "```python\n",
    "def train_valid_test_split(all_x, all_y, train_size, valid_size, test_size):\n",
    "    \"\"\"\n",
    "    Generate the train, validation, and test dataset. TimeSeries splitting\n",
    "    Returns\n",
    "    -------\n",
    "    x_train, x_valid, x_test: DataFrame (MultiIndex)\n",
    "    y_train, y_valid, y_test: Pandas Series (MultiIndex)\n",
    "    \"\"\"\n",
    "```"
   ]
  },
  {
   "cell_type": "code",
   "execution_count": 42,
   "metadata": {},
   "outputs": [],
   "source": [
    "X_train, X_valid, X_test, y_train, y_valid, y_test = mle_utils.train_valid_test_split(\n",
    "    all_factors, targets_df['return_5d_fshift'], float(splits['train']), float(splits['valid']), float(splits['test']))"
   ]
  },
  {
   "cell_type": "code",
   "execution_count": 43,
   "metadata": {},
   "outputs": [
    {
     "data": {
      "text/plain": [
       "train    0.595147\n",
       "test     0.203870\n",
       "valid    0.200983\n",
       "Name: split, dtype: float64"
      ]
     },
     "execution_count": 43,
     "metadata": {},
     "output_type": "execute_result"
    }
   ],
   "source": [
    "splits_s = pd.Series(index=y_train.index, data=['train']*len(y_train)).append(\n",
    "        pd.Series(index=y_valid.index, data=['valid']*len(y_valid)), verify_integrity=True\n",
    "    ).append(\n",
    "         pd.Series(index=y_test.index, data=['test']*len(y_test)), verify_integrity=True\n",
    "    )\n",
    "splits_s.name = split_col\n",
    "splits_s.value_counts(normalize=True)"
   ]
  },
  {
   "cell_type": "code",
   "execution_count": 44,
   "metadata": {},
   "outputs": [],
   "source": [
    "all_factors[split_col] = splits_s"
   ]
  },
  {
   "cell_type": "markdown",
   "metadata": {},
   "source": [
    "# Write Data"
   ]
  },
  {
   "cell_type": "code",
   "execution_count": 45,
   "metadata": {},
   "outputs": [],
   "source": [
    "all_factors_cast = quant_helper.cast_zipline_multidx_to_symbol(all_factors)\n",
    "all_factors_cast.to_csv(read_utils.interim_path + OUTFILE1)"
   ]
  },
  {
   "cell_type": "code",
   "execution_count": 46,
   "metadata": {},
   "outputs": [],
   "source": [
    "targets_df_cast = quant_helper.cast_zipline_multidx_to_symbol(targets_df)\n",
    "all_factors_cast.to_csv(read_utils.interim_path + OUTFILE2)"
   ]
  },
  {
   "cell_type": "code",
   "execution_count": null,
   "metadata": {},
   "outputs": [],
   "source": []
  }
 ],
 "metadata": {
  "kernelspec": {
   "display_name": "Python 3",
   "language": "python",
   "name": "python3"
  },
  "language_info": {
   "codemirror_mode": {
    "name": "ipython",
    "version": 3
   },
   "file_extension": ".py",
   "mimetype": "text/x-python",
   "name": "python",
   "nbconvert_exporter": "python",
   "pygments_lexer": "ipython3",
   "version": "3.5.6"
  },
  "toc-autonumbering": true
 },
 "nbformat": 4,
 "nbformat_minor": 4
}
