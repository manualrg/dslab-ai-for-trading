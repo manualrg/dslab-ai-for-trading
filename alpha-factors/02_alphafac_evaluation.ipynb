{
 "cells": [
  {
   "cell_type": "markdown",
   "metadata": {},
   "source": [
    "# Alpha Factors: Evaluation"
   ]
  },
  {
   "cell_type": "code",
   "execution_count": 1,
   "metadata": {},
   "outputs": [],
   "source": [
    "import datetime as dt\n",
    "from scipy.stats import spearmanr"
   ]
  },
  {
   "cell_type": "code",
   "execution_count": 2,
   "metadata": {},
   "outputs": [],
   "source": [
    "%%capture\n",
    "%run 01_alphafac_calc_and_fwdrets.ipynb"
   ]
  },
  {
   "cell_type": "code",
   "execution_count": 3,
   "metadata": {},
   "outputs": [
    {
     "name": "stdout",
     "output_type": "stream",
     "text": [
      "2011-01-05 00:00:00+00:00 2016-01-05 00:00:00+00:00 2014-01-03 00:00:00+00:00\n"
     ]
    }
   ],
   "source": [
    "print(universe_start_date, universe_end_date, factor_start_date)"
   ]
  },
  {
   "cell_type": "code",
   "execution_count": 4,
   "metadata": {},
   "outputs": [
    {
     "name": "stdout",
     "output_type": "stream",
     "text": [
      "2014-01-03 00:00:00+00:00\n"
     ]
    }
   ],
   "source": [
    "print(factor_start_date)"
   ]
  },
  {
   "cell_type": "code",
   "execution_count": 5,
   "metadata": {},
   "outputs": [
    {
     "name": "stdout",
     "output_type": "stream",
     "text": [
      "Number of tickers: 490\n"
     ]
    }
   ],
   "source": [
    "print('Number of tickers: {}'.format(len(universe_tickers)))"
   ]
  },
  {
   "cell_type": "code",
   "execution_count": 6,
   "metadata": {},
   "outputs": [
    {
     "name": "stdout",
     "output_type": "stream",
     "text": [
      "The factor names are Index(['Momentum_1YR', 'Smoothed_Momentum_1YR', 'rets_1d_raw', 'rets_1y_raw'], dtype='object')\n"
     ]
    }
   ],
   "source": [
    "print(\"The factor names are {}\".format(factor_names))"
   ]
  },
  {
   "cell_type": "markdown",
   "metadata": {},
   "source": [
    "## Factor Evaluation: Forward Returns\n",
    "\n",
    "Factor Evaluation Techniques:\n",
    "* Factor (Weighted) returns: \n",
    "* Sharpe ratio\n",
    "* Ranked Information coefficient (IC)\n",
    "* Information Ratio (IR)\n",
    "* Factor Rank Autocorrelation (FRA)\n",
    "* Quantile Analysis \n",
    "* Turnover analysis\n",
    "* Transfer Coefficient\n",
    "\n",
    "First of all, forward returns must be computed and then use a evaluation technique that rely on that forward returns. To achieve that, alphalens functionalities provides easy calculation, data alignment etc."
   ]
  },
  {
   "cell_type": "markdown",
   "metadata": {},
   "source": [
    "## Factor (Weighted) Returns\n",
    "Return on a theoretical portfolio, performing weight calculation driven by the alpha factor itself. Usefull when date range and universe is the same\n",
    "\n",
    "Reference: A good Alpha-factor, may have an annual return of 4% (400bps)"
   ]
  },
  {
   "cell_type": "markdown",
   "metadata": {},
   "source": [
    "### Alphalens factor_returns\n",
    "\n",
    "Alphalens has a function that calculates the factor returns, called alphalens.performance.factor_returns.  The [documentation is here](https://quantopian.github.io/alphalens/alphalens.html?highlight=factor_returns#alphalens.performance.factor_returns).  \n",
    "\n",
    "```python\n",
    "def factor_returns(factor_data, demeaned, group_adjust, equal_weight, by_asset)\n",
    "```\n",
    "\n",
    "```\n",
    "Computes period wise returns for portfolio weighted by factor values.\n",
    "\n",
    "Parameters:\n",
    "factor_data : pd.DataFrame - MultiIndex\n",
    "\n",
    "A MultiIndex DataFrame indexed by date (level 0) and asset (level 1), containing the values for a single alpha factor, forward returns for each period, the factor quantile/bin that factor value belongs to, and (optionally) the group the asset belongs to. - See full explanation in utils.get_clean_factor_and_forward_returns\n",
    "\n",
    "demeaned : bool\n",
    "\n",
    "Control how to build factor weights – see performance.factor_weights for a full explanation\n",
    "\n",
    "group_adjust : bool\n",
    "\n",
    "Control how to build factor weights – see performance.factor_weights for a full explanation\n",
    "\n",
    "equal_weight : bool, optional\n",
    "\n",
    "Control how to build factor weights – see performance.factor_weights for a full explanation\n",
    "\n",
    "by_asset: bool, optional\n",
    "\n",
    "If True, returns are reported separately for each asset.\n",
    "```\n",
    "\n",
    "* factor_data: We'll pass in the pre-processed dataframe that we got back from the previous alphalens function.\n",
    "* returns: the return of a theoretical portfolio that is weighted according to the factor.  This is the factor-weighted return, also called the factor return."
   ]
  },
  {
   "cell_type": "code",
   "execution_count": 7,
   "metadata": {},
   "outputs": [
    {
     "data": {
      "text/plain": [
       "{'Momentum_1YR':                                                     1D    factor  \\\n",
       " date                      asset                                    \n",
       " 2014-01-06 00:00:00+00:00 Equity(0 [A])       0.015168  1.521549   \n",
       "                           Equity(1 [AAL])    -0.004649  1.573252   \n",
       "                           Equity(2 [AAP])     0.012343  0.598279   \n",
       "                           Equity(3 [AAPL])   -0.007163 -1.469846   \n",
       "                           Equity(4 [ABBV])    0.001998  1.004518   \n",
       "                           Equity(5 [ABC])     0.010901  1.226103   \n",
       "                           Equity(6 [ABT])    -0.007682 -1.263034   \n",
       "                           Equity(7 [ACN])     0.012168 -1.034063   \n",
       "                           Equity(8 [ADBE])    0.014625  1.048835   \n",
       "                           Equity(9 [ADI])     0.005270 -1.070993   \n",
       "                           Equity(10 [ADM])   -0.009921  1.285192   \n",
       "                           Equity(11 [ADP])    0.012162  0.347150   \n",
       "                           Equity(12 [ADS])   -0.012002  1.455074   \n",
       "                           Equity(13 [ADSK])   0.023275 -0.162496   \n",
       "                           Equity(14 [AEE])    0.012867  0.627824   \n",
       "                           Equity(15 [AEP])    0.006505  0.014772   \n",
       "                           Equity(16 [AES])    0.017439  1.034063   \n",
       "                           Equity(17 [AET])    0.013618  0.716458   \n",
       "                           Equity(18 [AFL])    0.003229 -0.679527   \n",
       "                           Equity(19 [AGN])    0.011730  1.639728   \n",
       "                           Equity(20 [AIG])    0.013669  0.073862   \n",
       "                           Equity(21 [AIV])   -0.004241 -0.110792   \n",
       "                           Equity(22 [AIZ])    0.009669  1.588025   \n",
       "                           Equity(23 [AJG])    0.026654 -0.317605   \n",
       "                           Equity(24 [AKAM])   0.019519 -1.270420   \n",
       "                           Equity(25 [ALB])    0.006810 -0.915884   \n",
       "                           Equity(26 [ALGN])   0.024407  1.617569   \n",
       "                           Equity(27 [ALK])   -0.000547  1.403371   \n",
       "                           Equity(28 [ALL])    0.004336 -0.760775   \n",
       "                           Equity(30 [ALXN])   0.025489 -0.384080   \n",
       " ...                                                ...       ...   \n",
       " 2016-01-04 00:00:00+00:00 Equity(459 [VRSK]) -0.003586  1.302649   \n",
       "                           Equity(460 [VRSN]) -0.030256  1.663494   \n",
       "                           Equity(461 [VRTX])  0.004557 -0.414971   \n",
       "                           Equity(462 [VTR])   0.017627 -1.006757   \n",
       "                           Equity(463 [VZ])   -0.002741 -0.357236   \n",
       "                           Equity(464 [WAT])  -0.004143  0.804684   \n",
       "                           Equity(465 [WBA])  -0.026243 -0.032476   \n",
       "                           Equity(466 [WDC])  -0.004309 -1.692362   \n",
       "                           Equity(467 [WEC])   0.010731  0.436622   \n",
       "                           Equity(468 [WFC])  -0.000386  0.169597   \n",
       "                           Equity(469 [WHR])  -0.021539 -1.288216   \n",
       "                           Equity(471 [WM])    0.003824  0.674780   \n",
       "                           Equity(472 [WMB])   0.003445 -1.050058   \n",
       "                           Equity(473 [WMT])   0.023748 -1.612976   \n",
       "                           Equity(475 [WU])   -0.003962  0.241766   \n",
       "                           Equity(476 [WY])    0.002360 -0.508791   \n",
       "                           Equity(477 [WYN])   0.007906 -0.920154   \n",
       "                           Equity(478 [WYNN])  0.018908 -1.706795   \n",
       "                           Equity(479 [XEC])   0.006447  0.573743   \n",
       "                           Equity(480 [XEL])   0.010087  0.718081   \n",
       "                           Equity(481 [XL])    0.002098  1.086143   \n",
       "                           Equity(482 [XLNX])  0.014863  0.530442   \n",
       "                           Equity(483 [XOM])   0.008511  0.761382   \n",
       "                           Equity(484 [XRAY])  0.020390  0.775816   \n",
       "                           Equity(485 [XRX])  -0.001957 -1.382035   \n",
       "                           Equity(486 [XYL])  -0.000286 -0.097428   \n",
       "                           Equity(487 [YUM])  -0.002495  0.140729   \n",
       "                           Equity(488 [ZBH])   0.020820 -1.021191   \n",
       "                           Equity(489 [ZION]) -0.010853 -0.212898   \n",
       "                           Equity(490 [ZTS])   0.015647  0.227332   \n",
       " \n",
       "                                               factor_quantile  \n",
       " date                      asset                                \n",
       " 2014-01-06 00:00:00+00:00 Equity(0 [A])                     5  \n",
       "                           Equity(1 [AAL])                   5  \n",
       "                           Equity(2 [AAP])                   4  \n",
       "                           Equity(3 [AAPL])                  1  \n",
       "                           Equity(4 [ABBV])                  4  \n",
       "                           Equity(5 [ABC])                   5  \n",
       "                           Equity(6 [ABT])                   1  \n",
       "                           Equity(7 [ACN])                   2  \n",
       "                           Equity(8 [ADBE])                  5  \n",
       "                           Equity(9 [ADI])                   1  \n",
       "                           Equity(10 [ADM])                  5  \n",
       "                           Equity(11 [ADP])                  4  \n",
       "                           Equity(12 [ADS])                  5  \n",
       "                           Equity(13 [ADSK])                 3  \n",
       "                           Equity(14 [AEE])                  4  \n",
       "                           Equity(15 [AEP])                  3  \n",
       "                           Equity(16 [AES])                  4  \n",
       "                           Equity(17 [AET])                  4  \n",
       "                           Equity(18 [AFL])                  2  \n",
       "                           Equity(19 [AGN])                  5  \n",
       "                           Equity(20 [AIG])                  3  \n",
       "                           Equity(21 [AIV])                  3  \n",
       "                           Equity(22 [AIZ])                  5  \n",
       "                           Equity(23 [AJG])                  3  \n",
       "                           Equity(24 [AKAM])                 1  \n",
       "                           Equity(25 [ALB])                  2  \n",
       "                           Equity(26 [ALGN])                 5  \n",
       "                           Equity(27 [ALK])                  5  \n",
       "                           Equity(28 [ALL])                  2  \n",
       "                           Equity(30 [ALXN])                 2  \n",
       " ...                                                       ...  \n",
       " 2016-01-04 00:00:00+00:00 Equity(459 [VRSK])                5  \n",
       "                           Equity(460 [VRSN])                5  \n",
       "                           Equity(461 [VRTX])                2  \n",
       "                           Equity(462 [VTR])                 2  \n",
       "                           Equity(463 [VZ])                  2  \n",
       "                           Equity(464 [WAT])                 4  \n",
       "                           Equity(465 [WBA])                 3  \n",
       "                           Equity(466 [WDC])                 1  \n",
       "                           Equity(467 [WEC])                 4  \n",
       "                           Equity(468 [WFC])                 3  \n",
       "                           Equity(469 [WHR])                 1  \n",
       "                           Equity(471 [WM])                  4  \n",
       "                           Equity(472 [WMB])                 1  \n",
       "                           Equity(473 [WMT])                 1  \n",
       "                           Equity(475 [WU])                  3  \n",
       "                           Equity(476 [WY])                  2  \n",
       "                           Equity(477 [WYN])                 2  \n",
       "                           Equity(478 [WYNN])                1  \n",
       "                           Equity(479 [XEC])                 4  \n",
       "                           Equity(480 [XEL])                 4  \n",
       "                           Equity(481 [XL])                  5  \n",
       "                           Equity(482 [XLNX])                4  \n",
       "                           Equity(483 [XOM])                 4  \n",
       "                           Equity(484 [XRAY])                4  \n",
       "                           Equity(485 [XRX])                 1  \n",
       "                           Equity(486 [XYL])                 3  \n",
       "                           Equity(487 [YUM])                 3  \n",
       "                           Equity(488 [ZBH])                 2  \n",
       "                           Equity(489 [ZION])                3  \n",
       "                           Equity(490 [ZTS])                 3  \n",
       " \n",
       " [238568 rows x 3 columns],\n",
       " 'Smoothed_Momentum_1YR':                                                     1D    factor  \\\n",
       " date                      asset                                    \n",
       " 2014-01-06 00:00:00+00:00 Equity(0 [A])       0.015168  1.491787   \n",
       "                           Equity(1 [AAL])    -0.004649  1.556848   \n",
       "                           Equity(2 [AAP])     0.012343  0.311800   \n",
       "                           Equity(3 [AAPL])   -0.007163 -1.482926   \n",
       "                           Equity(4 [ABBV])    0.001998  0.947891   \n",
       "                           Equity(5 [ABC])     0.010901  1.185709   \n",
       "                           Equity(6 [ABT])    -0.007682 -1.234502   \n",
       "                           Equity(7 [ACN])     0.012168 -1.017169   \n",
       "                           Equity(8 [ADBE])    0.014625  1.027510   \n",
       "                           Equity(9 [ADI])     0.005270 -1.138428   \n",
       "                           Equity(10 [ADM])   -0.009921  1.358779   \n",
       "                           Equity(11 [ADP])    0.012162  0.323804   \n",
       "                           Equity(12 [ADS])   -0.012002  1.420804   \n",
       "                           Equity(13 [ADSK])   0.023275 -0.121247   \n",
       "                           Equity(14 [AEE])    0.012867  0.586954   \n",
       "                           Equity(15 [AEP])    0.006505 -0.031044   \n",
       "                           Equity(16 [AES])    0.017439  1.122214   \n",
       "                           Equity(17 [AET])    0.013618  0.573507   \n",
       "                           Equity(18 [AFL])    0.003229 -0.961119   \n",
       "                           Equity(19 [AGN])    0.011730  1.587845   \n",
       "                           Equity(20 [AIG])    0.013669 -0.016240   \n",
       "                           Equity(21 [AIV])   -0.004241 -0.073899   \n",
       "                           Equity(22 [AIZ])    0.009669  1.577542   \n",
       "                           Equity(23 [AJG])    0.026654 -0.452488   \n",
       "                           Equity(24 [AKAM])   0.019519 -1.330671   \n",
       "                           Equity(25 [ALB])    0.006810 -0.909240   \n",
       "                           Equity(26 [ALGN])   0.024407  1.636701   \n",
       "                           Equity(27 [ALK])   -0.000547  1.340942   \n",
       "                           Equity(28 [ALL])    0.004336 -0.646100   \n",
       "                           Equity(30 [ALXN])   0.025489 -0.331052   \n",
       " ...                                                ...       ...   \n",
       " 2016-01-04 00:00:00+00:00 Equity(459 [VRSK]) -0.003586  1.291807   \n",
       "                           Equity(460 [VRSN]) -0.030256  1.651808   \n",
       "                           Equity(461 [VRTX])  0.004557 -0.273918   \n",
       "                           Equity(462 [VTR])   0.017627 -1.005545   \n",
       "                           Equity(463 [VZ])   -0.002741 -0.466312   \n",
       "                           Equity(464 [WAT])  -0.004143  0.791564   \n",
       "                           Equity(465 [WBA])  -0.026243  0.070164   \n",
       "                           Equity(466 [WDC])  -0.004309 -1.692295   \n",
       "                           Equity(467 [WEC])   0.010731  0.480743   \n",
       "                           Equity(468 [WFC])  -0.000386  0.153970   \n",
       "                           Equity(469 [WHR])  -0.021539 -1.248422   \n",
       "                           Equity(471 [WM])    0.003824  0.754012   \n",
       "                           Equity(472 [WMB])   0.003445 -1.148720   \n",
       "                           Equity(473 [WMT])   0.023748 -1.627241   \n",
       "                           Equity(475 [WU])   -0.003962  0.407058   \n",
       "                           Equity(476 [WY])    0.002360 -0.490838   \n",
       "                           Equity(477 [WYN])   0.007906 -0.931816   \n",
       "                           Equity(478 [WYNN])  0.018908 -1.706753   \n",
       "                           Equity(479 [XEC])   0.006447  0.495150   \n",
       "                           Equity(480 [XEL])   0.010087  0.716387   \n",
       "                           Equity(481 [XL])    0.002098  1.157383   \n",
       "                           Equity(482 [XLNX])  0.014863  0.623897   \n",
       "                           Equity(483 [XOM])   0.008511  0.800260   \n",
       "                           Equity(484 [XRAY])  0.020390  0.594866   \n",
       "                           Equity(485 [XRX])  -0.001957 -1.411825   \n",
       "                           Equity(486 [XYL])  -0.000286 -0.104823   \n",
       "                           Equity(487 [YUM])  -0.002495  0.143857   \n",
       "                           Equity(488 [ZBH])   0.020820 -1.085091   \n",
       "                           Equity(489 [ZION]) -0.010853 -0.201683   \n",
       "                           Equity(490 [ZTS])   0.015647  0.181427   \n",
       " \n",
       "                                               factor_quantile  \n",
       " date                      asset                                \n",
       " 2014-01-06 00:00:00+00:00 Equity(0 [A])                     5  \n",
       "                           Equity(1 [AAL])                   5  \n",
       "                           Equity(2 [AAP])                   3  \n",
       "                           Equity(3 [AAPL])                  1  \n",
       "                           Equity(4 [ABBV])                  4  \n",
       "                           Equity(5 [ABC])                   5  \n",
       "                           Equity(6 [ABT])                   1  \n",
       "                           Equity(7 [ACN])                   1  \n",
       "                           Equity(8 [ADBE])                  4  \n",
       "                           Equity(9 [ADI])                   1  \n",
       "                           Equity(10 [ADM])                  5  \n",
       "                           Equity(11 [ADP])                  3  \n",
       "                           Equity(12 [ADS])                  5  \n",
       "                           Equity(13 [ADSK])                 3  \n",
       "                           Equity(14 [AEE])                  4  \n",
       "                           Equity(15 [AEP])                  3  \n",
       "                           Equity(16 [AES])                  5  \n",
       "                           Equity(17 [AET])                  4  \n",
       "                           Equity(18 [AFL])                  2  \n",
       "                           Equity(19 [AGN])                  5  \n",
       "                           Equity(20 [AIG])                  3  \n",
       "                           Equity(21 [AIV])                  3  \n",
       "                           Equity(22 [AIZ])                  5  \n",
       "                           Equity(23 [AJG])                  2  \n",
       "                           Equity(24 [AKAM])                 1  \n",
       "                           Equity(25 [ALB])                  2  \n",
       "                           Equity(26 [ALGN])                 5  \n",
       "                           Equity(27 [ALK])                  5  \n",
       "                           Equity(28 [ALL])                  2  \n",
       "                           Equity(30 [ALXN])                 3  \n",
       " ...                                                       ...  \n",
       " 2016-01-04 00:00:00+00:00 Equity(459 [VRSK])                5  \n",
       "                           Equity(460 [VRSN])                5  \n",
       "                           Equity(461 [VRTX])                3  \n",
       "                           Equity(462 [VTR])                 2  \n",
       "                           Equity(463 [VZ])                  2  \n",
       "                           Equity(464 [WAT])                 4  \n",
       "                           Equity(465 [WBA])                 3  \n",
       "                           Equity(466 [WDC])                 1  \n",
       "                           Equity(467 [WEC])                 4  \n",
       "                           Equity(468 [WFC])                 3  \n",
       "                           Equity(469 [WHR])                 1  \n",
       "                           Equity(471 [WM])                  4  \n",
       "                           Equity(472 [WMB])                 1  \n",
       "                           Equity(473 [WMT])                 1  \n",
       "                           Equity(475 [WU])                  4  \n",
       "                           Equity(476 [WY])                  2  \n",
       "                           Equity(477 [WYN])                 2  \n",
       "                           Equity(478 [WYNN])                1  \n",
       "                           Equity(479 [XEC])                 4  \n",
       "                           Equity(480 [XEL])                 4  \n",
       "                           Equity(481 [XL])                  5  \n",
       "                           Equity(482 [XLNX])                4  \n",
       "                           Equity(483 [XOM])                 4  \n",
       "                           Equity(484 [XRAY])                4  \n",
       "                           Equity(485 [XRX])                 1  \n",
       "                           Equity(486 [XYL])                 3  \n",
       "                           Equity(487 [YUM])                 3  \n",
       "                           Equity(488 [ZBH])                 1  \n",
       "                           Equity(489 [ZION])                3  \n",
       "                           Equity(490 [ZTS])                 3  \n",
       " \n",
       " [238568 rows x 3 columns],\n",
       " 'rets_1d_raw':                                                     1D    factor  \\\n",
       " date                      asset                                    \n",
       " 2014-01-06 00:00:00+00:00 Equity(0 [A])       0.015168  0.006951   \n",
       "                           Equity(1 [AAL])    -0.004649  0.046523   \n",
       "                           Equity(2 [AAP])     0.012343  0.028611   \n",
       "                           Equity(3 [AAPL])   -0.007163 -0.021972   \n",
       "                           Equity(4 [ABBV])    0.001998  0.006147   \n",
       "                           Equity(5 [ABC])     0.010901  0.000704   \n",
       "                           Equity(6 [ABT])    -0.007682  0.010701   \n",
       "                           Equity(7 [ACN])     0.012168  0.003335   \n",
       "                           Equity(8 [ADBE])    0.014625 -0.002193   \n",
       "                           Equity(9 [ADI])     0.005270  0.006708   \n",
       "                           Equity(10 [ADM])   -0.009921  0.004652   \n",
       "                           Equity(11 [ADP])    0.012162  0.010890   \n",
       "                           Equity(12 [ADS])   -0.012002  0.005186   \n",
       "                           Equity(13 [ADSK])   0.023275 -0.007107   \n",
       "                           Equity(14 [AEE])    0.012867 -0.003676   \n",
       "                           Equity(15 [AEP])    0.006505 -0.000435   \n",
       "                           Equity(16 [AES])    0.017439 -0.004972   \n",
       "                           Equity(17 [AET])    0.013618  0.004288   \n",
       "                           Equity(18 [AFL])    0.003229  0.002872   \n",
       "                           Equity(19 [AGN])    0.011730 -0.000176   \n",
       "                           Equity(20 [AIG])    0.013669  0.004134   \n",
       "                           Equity(21 [AIV])   -0.004241  0.000000   \n",
       "                           Equity(22 [AIZ])    0.009669  0.006133   \n",
       "                           Equity(23 [AJG])    0.026654  0.000223   \n",
       "                           Equity(24 [AKAM])   0.019519 -0.001719   \n",
       "                           Equity(25 [ALB])    0.006810  0.001757   \n",
       "                           Equity(26 [ALGN])   0.024407  0.003687   \n",
       "                           Equity(27 [ALK])   -0.000547  0.018311   \n",
       "                           Equity(28 [ALL])    0.004336 -0.004098   \n",
       "                           Equity(29 [ALLE])   0.004353  0.007102   \n",
       " ...                                                ...       ...   \n",
       " 2016-01-04 00:00:00+00:00 Equity(460 [VRSN]) -0.030256 -0.008850   \n",
       "                           Equity(461 [VRTX])  0.004557 -0.004509   \n",
       "                           Equity(462 [VTR])   0.017627 -0.003540   \n",
       "                           Equity(463 [VZ])   -0.002741  0.002989   \n",
       "                           Equity(464 [WAT])  -0.004143 -0.007815   \n",
       "                           Equity(465 [WBA])  -0.026243 -0.014305   \n",
       "                           Equity(466 [WDC])  -0.004309 -0.017025   \n",
       "                           Equity(467 [WEC])   0.010731 -0.017629   \n",
       "                           Equity(468 [WFC])  -0.000386 -0.009664   \n",
       "                           Equity(469 [WHR])  -0.021539 -0.011440   \n",
       "                           Equity(471 [WM])    0.003824 -0.011305   \n",
       "                           Equity(472 [WMB])   0.003445  0.052841   \n",
       "                           Equity(473 [WMT])   0.023748 -0.006167   \n",
       "                           Equity(474 [WRK])  -0.000658 -0.003065   \n",
       "                           Equity(475 [WU])   -0.003962 -0.018061   \n",
       "                           Equity(476 [WY])    0.002360 -0.011858   \n",
       "                           Equity(477 [WYN])   0.007906 -0.003154   \n",
       "                           Equity(478 [WYNN])  0.018908  0.008008   \n",
       "                           Equity(479 [XEC])   0.006447 -0.001454   \n",
       "                           Equity(480 [XEL])   0.010087 -0.013468   \n",
       "                           Equity(481 [XL])    0.002098 -0.016052   \n",
       "                           Equity(482 [XLNX])  0.014863 -0.018175   \n",
       "                           Equity(483 [XOM])   0.008511 -0.002050   \n",
       "                           Equity(484 [XRAY])  0.020390 -0.009119   \n",
       "                           Equity(485 [XRX])  -0.001957 -0.008371   \n",
       "                           Equity(486 [XYL])  -0.000286 -0.010031   \n",
       "                           Equity(487 [YUM])  -0.002495 -0.010299   \n",
       "                           Equity(488 [ZBH])   0.020820  0.001176   \n",
       "                           Equity(489 [ZION]) -0.010853 -0.006212   \n",
       "                           Equity(490 [ZTS])   0.015647 -0.007051   \n",
       " \n",
       "                                               factor_quantile  \n",
       " date                      asset                                \n",
       " 2014-01-06 00:00:00+00:00 Equity(0 [A])                   4.0  \n",
       "                           Equity(1 [AAL])                 5.0  \n",
       "                           Equity(2 [AAP])                 5.0  \n",
       "                           Equity(3 [AAPL])                1.0  \n",
       "                           Equity(4 [ABBV])                4.0  \n",
       "                           Equity(5 [ABC])                 3.0  \n",
       "                           Equity(6 [ABT])                 5.0  \n",
       "                           Equity(7 [ACN])                 4.0  \n",
       "                           Equity(8 [ADBE])                2.0  \n",
       "                           Equity(9 [ADI])                 4.0  \n",
       "                           Equity(10 [ADM])                4.0  \n",
       "                           Equity(11 [ADP])                5.0  \n",
       "                           Equity(12 [ADS])                4.0  \n",
       "                           Equity(13 [ADSK])               1.0  \n",
       "                           Equity(14 [AEE])                2.0  \n",
       "                           Equity(15 [AEP])                2.0  \n",
       "                           Equity(16 [AES])                1.0  \n",
       "                           Equity(17 [AET])                4.0  \n",
       "                           Equity(18 [AFL])                4.0  \n",
       "                           Equity(19 [AGN])                3.0  \n",
       "                           Equity(20 [AIG])                4.0  \n",
       "                           Equity(21 [AIV])                3.0  \n",
       "                           Equity(22 [AIZ])                4.0  \n",
       "                           Equity(23 [AJG])                3.0  \n",
       "                           Equity(24 [AKAM])               2.0  \n",
       "                           Equity(25 [ALB])                3.0  \n",
       "                           Equity(26 [ALGN])               4.0  \n",
       "                           Equity(27 [ALK])                5.0  \n",
       "                           Equity(28 [ALL])                2.0  \n",
       "                           Equity(29 [ALLE])               5.0  \n",
       " ...                                                       ...  \n",
       " 2016-01-04 00:00:00+00:00 Equity(460 [VRSN])              3.0  \n",
       "                           Equity(461 [VRTX])              4.0  \n",
       "                           Equity(462 [VTR])               5.0  \n",
       "                           Equity(463 [VZ])                5.0  \n",
       "                           Equity(464 [WAT])               4.0  \n",
       "                           Equity(465 [WBA])               1.0  \n",
       "                           Equity(466 [WDC])               1.0  \n",
       "                           Equity(467 [WEC])               1.0  \n",
       "                           Equity(468 [WFC])               3.0  \n",
       "                           Equity(469 [WHR])               2.0  \n",
       "                           Equity(471 [WM])                2.0  \n",
       "                           Equity(472 [WMB])               5.0  \n",
       "                           Equity(473 [WMT])               4.0  \n",
       "                           Equity(474 [WRK])               5.0  \n",
       "                           Equity(475 [WU])                1.0  \n",
       "                           Equity(476 [WY])                2.0  \n",
       "                           Equity(477 [WYN])               5.0  \n",
       "                           Equity(478 [WYNN])              5.0  \n",
       "                           Equity(479 [XEC])               5.0  \n",
       "                           Equity(480 [XEL])               1.0  \n",
       "                           Equity(481 [XL])                1.0  \n",
       "                           Equity(482 [XLNX])              1.0  \n",
       "                           Equity(483 [XOM])               5.0  \n",
       "                           Equity(484 [XRAY])              3.0  \n",
       "                           Equity(485 [XRX])               3.0  \n",
       "                           Equity(486 [XYL])               3.0  \n",
       "                           Equity(487 [YUM])               3.0  \n",
       "                           Equity(488 [ZBH])               5.0  \n",
       "                           Equity(489 [ZION])              4.0  \n",
       "                           Equity(490 [ZTS])               4.0  \n",
       " \n",
       " [242797 rows x 3 columns],\n",
       " 'rets_1y_raw':                                                     1D    factor  \\\n",
       " date                      asset                                    \n",
       " 2014-01-06 00:00:00+00:00 Equity(0 [A])       0.015168  0.806821   \n",
       "                           Equity(1 [AAL])    -0.004649  0.801862   \n",
       "                           Equity(2 [AAP])     0.012343  0.537515   \n",
       "                           Equity(3 [AAPL])   -0.007163  0.052237   \n",
       "                           Equity(4 [ABBV])    0.001998  0.580875   \n",
       "                           Equity(5 [ABC])     0.010901  0.631677   \n",
       "                           Equity(6 [ABT])    -0.007682  0.187313   \n",
       "                           Equity(7 [ACN])     0.012168  0.204587   \n",
       "                           Equity(8 [ADBE])    0.014625  0.551534   \n",
       "                           Equity(9 [ADI])     0.005270  0.201286   \n",
       "                           Equity(10 [ADM])   -0.009921  0.509855   \n",
       "                           Equity(11 [ADP])    0.012162  0.400285   \n",
       "                           Equity(12 [ADS])   -0.012002  0.745209   \n",
       "                           Equity(13 [ADSK])   0.023275  0.344884   \n",
       "                           Equity(14 [AEE])    0.012867  0.188972   \n",
       "                           Equity(15 [AEP])    0.006505  0.103735   \n",
       "                           Equity(16 [AES])    0.017439  0.283971   \n",
       "                           Equity(17 [AET])    0.013618  0.513439   \n",
       "                           Equity(18 [AFL])    0.003229  0.303130   \n",
       "                           Equity(19 [AGN])    0.011730  0.971099   \n",
       "                           Equity(20 [AIG])    0.013669  0.408496   \n",
       "                           Equity(21 [AIV])   -0.004241 -0.024556   \n",
       "                           Equity(22 [AIZ])    0.009669  0.870576   \n",
       "                           Equity(23 [AJG])    0.026654  0.353474   \n",
       "                           Equity(24 [AKAM])   0.019519  0.148899   \n",
       "                           Equity(25 [ALB])    0.006810 -0.006716   \n",
       "                           Equity(26 [ALGN])   0.024407  0.950529   \n",
       "                           Equity(27 [ALK])   -0.000547  0.651714   \n",
       "                           Equity(28 [ALL])    0.004336  0.289813   \n",
       "                           Equity(30 [ALXN])   0.025489  0.349314   \n",
       " ...                                                ...       ...   \n",
       " 2016-01-04 00:00:00+00:00 Equity(459 [VRSK]) -0.003586  0.201813   \n",
       "                           Equity(460 [VRSN]) -0.030256  0.527540   \n",
       "                           Equity(461 [VRTX])  0.004557  0.022426   \n",
       "                           Equity(462 [VTR])   0.017627 -0.077133   \n",
       "                           Equity(463 [VZ])   -0.002741 -0.119729   \n",
       "                           Equity(464 [WAT])  -0.004143  0.181770   \n",
       "                           Equity(465 [WBA])  -0.026243  0.139156   \n",
       "                           Equity(466 [WDC])  -0.004309 -0.441753   \n",
       "                           Equity(467 [WEC])   0.010731 -0.000699   \n",
       "                           Equity(468 [WFC])  -0.000386  0.020687   \n",
       "                           Equity(469 [WHR])  -0.021539 -0.224226   \n",
       "                           Equity(471 [WM])    0.003824  0.062385   \n",
       "                           Equity(472 [WMB])   0.003445 -0.395963   \n",
       "                           Equity(473 [WMT])   0.023748 -0.266590   \n",
       "                           Equity(475 [WU])   -0.003962  0.031539   \n",
       "                           Equity(476 [WY])    0.002360 -0.136456   \n",
       "                           Equity(477 [WYN])   0.007906 -0.131465   \n",
       "                           Equity(478 [WYNN])  0.018908 -0.516370   \n",
       "                           Equity(479 [XEC])   0.006447 -0.159070   \n",
       "                           Equity(480 [XEL])   0.010087  0.032591   \n",
       "                           Equity(481 [XL])    0.002098  0.159617   \n",
       "                           Equity(482 [XLNX])  0.014863  0.108364   \n",
       "                           Equity(483 [XOM])   0.008511 -0.131142   \n",
       "                           Equity(484 [XRAY])  0.020390  0.178088   \n",
       "                           Equity(485 [XRX])  -0.001957 -0.206802   \n",
       "                           Equity(486 [XYL])  -0.000286 -0.026105   \n",
       "                           Equity(487 [YUM])  -0.002495  0.032311   \n",
       "                           Equity(488 [ZBH])   0.020820 -0.081193   \n",
       "                           Equity(489 [ZION]) -0.010853 -0.027715   \n",
       "                           Equity(490 [ZTS])   0.015647  0.114412   \n",
       " \n",
       "                                               factor_quantile  \n",
       " date                      asset                                \n",
       " 2014-01-06 00:00:00+00:00 Equity(0 [A])                     5  \n",
       "                           Equity(1 [AAL])                   5  \n",
       "                           Equity(2 [AAP])                   5  \n",
       "                           Equity(3 [AAPL])                  1  \n",
       "                           Equity(4 [ABBV])                  5  \n",
       "                           Equity(5 [ABC])                   5  \n",
       "                           Equity(6 [ABT])                   2  \n",
       "                           Equity(7 [ACN])                   2  \n",
       "                           Equity(8 [ADBE])                  5  \n",
       "                           Equity(9 [ADI])                   2  \n",
       "                           Equity(10 [ADM])                  4  \n",
       "                           Equity(11 [ADP])                  4  \n",
       "                           Equity(12 [ADS])                  5  \n",
       "                           Equity(13 [ADSK])                 3  \n",
       "                           Equity(14 [AEE])                  2  \n",
       "                           Equity(15 [AEP])                  1  \n",
       "                           Equity(16 [AES])                  3  \n",
       "                           Equity(17 [AET])                  4  \n",
       "                           Equity(18 [AFL])                  3  \n",
       "                           Equity(19 [AGN])                  5  \n",
       "                           Equity(20 [AIG])                  4  \n",
       "                           Equity(21 [AIV])                  1  \n",
       "                           Equity(22 [AIZ])                  5  \n",
       "                           Equity(23 [AJG])                  3  \n",
       "                           Equity(24 [AKAM])                 2  \n",
       "                           Equity(25 [ALB])                  1  \n",
       "                           Equity(26 [ALGN])                 5  \n",
       "                           Equity(27 [ALK])                  5  \n",
       "                           Equity(28 [ALL])                  3  \n",
       "                           Equity(30 [ALXN])                 3  \n",
       " ...                                                       ...  \n",
       " 2016-01-04 00:00:00+00:00 Equity(459 [VRSK])                5  \n",
       "                           Equity(460 [VRSN])                5  \n",
       "                           Equity(461 [VRTX])                3  \n",
       "                           Equity(462 [VTR])                 2  \n",
       "                           Equity(463 [VZ])                  2  \n",
       "                           Equity(464 [WAT])                 4  \n",
       "                           Equity(465 [WBA])                 4  \n",
       "                           Equity(466 [WDC])                 1  \n",
       "                           Equity(467 [WEC])                 3  \n",
       "                           Equity(468 [WFC])                 3  \n",
       "                           Equity(469 [WHR])                 1  \n",
       "                           Equity(471 [WM])                  4  \n",
       "                           Equity(472 [WMB])                 1  \n",
       "                           Equity(473 [WMT])                 1  \n",
       "                           Equity(475 [WU])                  3  \n",
       "                           Equity(476 [WY])                  2  \n",
       "                           Equity(477 [WYN])                 2  \n",
       "                           Equity(478 [WYNN])                1  \n",
       "                           Equity(479 [XEC])                 2  \n",
       "                           Equity(480 [XEL])                 3  \n",
       "                           Equity(481 [XL])                  4  \n",
       "                           Equity(482 [XLNX])                4  \n",
       "                           Equity(483 [XOM])                 2  \n",
       "                           Equity(484 [XRAY])                4  \n",
       "                           Equity(485 [XRX])                 1  \n",
       "                           Equity(486 [XYL])                 3  \n",
       "                           Equity(487 [YUM])                 3  \n",
       "                           Equity(488 [ZBH])                 2  \n",
       "                           Equity(489 [ZION])                3  \n",
       "                           Equity(490 [ZTS])                 4  \n",
       " \n",
       " [240158 rows x 3 columns]}"
      ]
     },
     "execution_count": 7,
     "metadata": {},
     "output_type": "execute_result"
    }
   ],
   "source": [
    "factor_data"
   ]
  },
  {
   "cell_type": "code",
   "execution_count": 8,
   "metadata": {},
   "outputs": [],
   "source": [
    "ls_factor_return = []\n",
    "\n",
    "for i, factor_name in enumerate(factor_names):\n",
    "    factor_return = al.performance.factor_returns(factor_data[factor_name])\n",
    "    factor_return.columns = [factor_name]\n",
    "    ls_factor_return.append(factor_return)"
   ]
  },
  {
   "cell_type": "code",
   "execution_count": 9,
   "metadata": {},
   "outputs": [],
   "source": [
    "unsmoothed_factor_return = ls_factor_return[0]\n",
    "smoothed_factor_return = ls_factor_return[1]"
   ]
  },
  {
   "cell_type": "code",
   "execution_count": 10,
   "metadata": {},
   "outputs": [
    {
     "data": {
      "image/png": "[encoded data removed]",
      "text/plain": [
       "<Figure size 432x288 with 1 Axes>"
      ]
     },
     "metadata": {
      "needs_background": "light"
     },
     "output_type": "display_data"
    }
   ],
   "source": [
    "unsmoothed_factor_return['Momentum_1YR'].plot(color='orange')\n",
    "smoothed_factor_return['Smoothed_Momentum_1YR'].plot(color='gray',style='--');"
   ]
  },
  {
   "cell_type": "markdown",
   "metadata": {},
   "source": [
    "## Sharpe Ratio\n",
    "\n",
    "Also known as risk adjusted returns\n",
    "\n",
    "$$\\text{Sharpe-ratio=}\\frac{\\mu_{annulized}}{\\sigma_{annulized}}$$\n",
    "\n",
    "$$ r_{daily-annualized}= r_{daily} * \\sqrt(252)$$"
   ]
  },
  {
   "cell_type": "code",
   "execution_count": 11,
   "metadata": {},
   "outputs": [],
   "source": [
    "def compute_sharpe_ratio(df, frequency=\"daily\"):\n",
    "\n",
    "    if frequency == \"daily\":\n",
    "        annualization_factor = np.sqrt(252)\n",
    "    elif frequency == \"monthly\":\n",
    "        annualization_factor = np.sqrt(12)\n",
    "    else:\n",
    "        annualization_factor = 1\n",
    "    \n",
    "    return annualization_factor*df.mean()/df.std()"
   ]
  },
  {
   "cell_type": "code",
   "execution_count": 12,
   "metadata": {},
   "outputs": [
    {
     "data": {
      "text/plain": [
       "Momentum_1YR    1.13369\n",
       "dtype: float64"
      ]
     },
     "execution_count": 12,
     "metadata": {},
     "output_type": "execute_result"
    }
   ],
   "source": [
    "compute_sharpe_ratio(ls_factor_return[0])"
   ]
  },
  {
   "cell_type": "code",
   "execution_count": 13,
   "metadata": {},
   "outputs": [
    {
     "data": {
      "text/plain": [
       "Smoothed_Momentum_1YR    1.101621\n",
       "dtype: float64"
      ]
     },
     "execution_count": 13,
     "metadata": {},
     "output_type": "execute_result"
    }
   ],
   "source": [
    "compute_sharpe_ratio(ls_factor_return[1])"
   ]
  },
  {
   "cell_type": "markdown",
   "metadata": {},
   "source": [
    "## Rank IC\n",
    "\n",
    "Compute rank correlation at each time period between alpha vector and forward returns"
   ]
  },
  {
   "cell_type": "markdown",
   "metadata": {},
   "source": [
    "The [factor_information_coefficient function in alphalens documentation is here.](https://quantopian.github.io/alphalens/alphalens.html#alphalens.performance.factor_information_coefficient)\n",
    "\n",
    "```\n",
    "Computes the Spearman Rank Correlation based Information Coefficient (IC) between factor values and N period forward returns for each period in the factor index.\n",
    "\n",
    "Parameters:\n",
    "factor_data : pd.DataFrame - MultiIndex\n",
    "\n",
    "A MultiIndex DataFrame indexed by date (level 0) and asset (level 1), containing the values for a single alpha factor, forward returns for each period, the factor quantile/bin that factor value belongs to, and (optionally) the group the asset belongs to. - See full explanation in utils.get_clean_factor_and_forward_returns\n",
    "\n",
    "group_adjust : bool\n",
    "\n",
    "Demean forward returns by group before computing IC.\n",
    "\n",
    "by_group : bool\n",
    "\n",
    "If True, compute period wise IC separately for each group.\n",
    "\n",
    "Returns:\n",
    "ic : pd.DataFrame\n",
    "\n",
    "Spearman Rank correlation between factor and provided forward returns.\n",
    "```"
   ]
  },
  {
   "cell_type": "code",
   "execution_count": 14,
   "metadata": {},
   "outputs": [],
   "source": [
    "ls_rank_ic = []\n",
    "\n",
    "for i, factor_name in enumerate(factor_names):\n",
    "    rank_ic = al.performance.factor_information_coefficient(factor_data[factor_name])\n",
    "    rank_ic.columns = [factor_name]\n",
    "    ls_rank_ic.append(rank_ic)"
   ]
  },
  {
   "cell_type": "code",
   "execution_count": 15,
   "metadata": {},
   "outputs": [
    {
     "data": {
      "image/png": "[encoded data removed]",
      "text/plain": [
       "<Figure size 432x288 with 1 Axes>"
      ]
     },
     "metadata": {
      "needs_background": "light"
     },
     "output_type": "display_data"
    },
    {
     "data": {
      "image/png": "[encoded data removed]",
      "text/plain": [
       "<Figure size 432x288 with 1 Axes>"
      ]
     },
     "metadata": {
      "needs_background": "light"
     },
     "output_type": "display_data"
    }
   ],
   "source": [
    "ls_rank_ic[0].plot(title=\"rank IC\")\n",
    "ls_rank_ic[1].plot(style='--');"
   ]
  },
  {
   "cell_type": "code",
   "execution_count": 16,
   "metadata": {},
   "outputs": [
    {
     "data": {
      "text/plain": [
       "'Momentum_1YR'"
      ]
     },
     "execution_count": 16,
     "metadata": {},
     "output_type": "execute_result"
    }
   ],
   "source": [
    "factor_names[0]"
   ]
  },
  {
   "cell_type": "code",
   "execution_count": 17,
   "metadata": {},
   "outputs": [
    {
     "data": {
      "text/html": [
       "<div>\n",
       "<style scoped>\n",
       "    .dataframe tbody tr th:only-of-type {\n",
       "        vertical-align: middle;\n",
       "    }\n",
       "\n",
       "    .dataframe tbody tr th {\n",
       "        vertical-align: top;\n",
       "    }\n",
       "\n",
       "    .dataframe thead th {\n",
       "        text-align: right;\n",
       "    }\n",
       "</style>\n",
       "<table border=\"1\" class=\"dataframe\">\n",
       "  <thead>\n",
       "    <tr style=\"text-align: right;\">\n",
       "      <th></th>\n",
       "      <th></th>\n",
       "      <th>1D</th>\n",
       "      <th>factor</th>\n",
       "      <th>factor_quantile</th>\n",
       "    </tr>\n",
       "    <tr>\n",
       "      <th>date</th>\n",
       "      <th>asset</th>\n",
       "      <th></th>\n",
       "      <th></th>\n",
       "      <th></th>\n",
       "    </tr>\n",
       "  </thead>\n",
       "  <tbody>\n",
       "    <tr>\n",
       "      <th rowspan=\"5\" valign=\"top\">2014-01-06 00:00:00+00:00</th>\n",
       "      <th>Equity(0 [A])</th>\n",
       "      <td>0.015168</td>\n",
       "      <td>1.521549</td>\n",
       "      <td>5</td>\n",
       "    </tr>\n",
       "    <tr>\n",
       "      <th>Equity(1 [AAL])</th>\n",
       "      <td>-0.004649</td>\n",
       "      <td>1.573252</td>\n",
       "      <td>5</td>\n",
       "    </tr>\n",
       "    <tr>\n",
       "      <th>Equity(2 [AAP])</th>\n",
       "      <td>0.012343</td>\n",
       "      <td>0.598279</td>\n",
       "      <td>4</td>\n",
       "    </tr>\n",
       "    <tr>\n",
       "      <th>Equity(3 [AAPL])</th>\n",
       "      <td>-0.007163</td>\n",
       "      <td>-1.469846</td>\n",
       "      <td>1</td>\n",
       "    </tr>\n",
       "    <tr>\n",
       "      <th>Equity(4 [ABBV])</th>\n",
       "      <td>0.001998</td>\n",
       "      <td>1.004518</td>\n",
       "      <td>4</td>\n",
       "    </tr>\n",
       "  </tbody>\n",
       "</table>\n",
       "</div>"
      ],
      "text/plain": [
       "                                                  1D    factor  \\\n",
       "date                      asset                                  \n",
       "2014-01-06 00:00:00+00:00 Equity(0 [A])     0.015168  1.521549   \n",
       "                          Equity(1 [AAL])  -0.004649  1.573252   \n",
       "                          Equity(2 [AAP])   0.012343  0.598279   \n",
       "                          Equity(3 [AAPL]) -0.007163 -1.469846   \n",
       "                          Equity(4 [ABBV])  0.001998  1.004518   \n",
       "\n",
       "                                            factor_quantile  \n",
       "date                      asset                              \n",
       "2014-01-06 00:00:00+00:00 Equity(0 [A])                   5  \n",
       "                          Equity(1 [AAL])                 5  \n",
       "                          Equity(2 [AAP])                 4  \n",
       "                          Equity(3 [AAPL])                1  \n",
       "                          Equity(4 [ABBV])                4  "
      ]
     },
     "execution_count": 17,
     "metadata": {},
     "output_type": "execute_result"
    }
   ],
   "source": [
    "factor_data[factor_names[0]].head()"
   ]
  },
  {
   "cell_type": "code",
   "execution_count": 18,
   "metadata": {},
   "outputs": [
    {
     "data": {
      "text/plain": [
       "date                       asset           \n",
       "2014-01-06 00:00:00+00:00  Equity(0 [A])       1.521549\n",
       "                           Equity(1 [AAL])     1.573252\n",
       "                           Equity(2 [AAP])     0.598279\n",
       "                           Equity(3 [AAPL])   -1.469846\n",
       "                           Equity(4 [ABBV])    1.004518\n",
       "Name: factor, dtype: float64"
      ]
     },
     "execution_count": 18,
     "metadata": {},
     "output_type": "execute_result"
    }
   ],
   "source": [
    "factor_data[factor_names[0]].loc[('2014-01-06', slice(None)), 'factor'].head()"
   ]
  },
  {
   "cell_type": "code",
   "execution_count": 19,
   "metadata": {},
   "outputs": [
    {
     "data": {
      "text/plain": [
       "date                       asset           \n",
       "2014-01-06 00:00:00+00:00  Equity(0 [A])       0.015168\n",
       "                           Equity(1 [AAL])    -0.004649\n",
       "                           Equity(2 [AAP])     0.012343\n",
       "                           Equity(3 [AAPL])   -0.007163\n",
       "                           Equity(4 [ABBV])    0.001998\n",
       "Name: 1D, dtype: float64"
      ]
     },
     "execution_count": 19,
     "metadata": {},
     "output_type": "execute_result"
    }
   ],
   "source": [
    "factor_data[factor_names[0]].loc[('2014-01-06', slice(None)), '1D'].head()"
   ]
  },
  {
   "cell_type": "code",
   "execution_count": 20,
   "metadata": {},
   "outputs": [
    {
     "data": {
      "text/plain": [
       "SpearmanrResult(correlation=-0.01597480816672531, pvalue=0.7300524311097127)"
      ]
     },
     "execution_count": 20,
     "metadata": {},
     "output_type": "execute_result"
    }
   ],
   "source": [
    "\n",
    "spearmanr(\n",
    "    factor_data[factor_names[0]].loc[('2014-01-06', slice(None)), '1D'],\n",
    "    factor_data[factor_names[0]].loc[('2014-01-06', slice(None)), 'factor']\n",
    ")"
   ]
  },
  {
   "cell_type": "code",
   "execution_count": 21,
   "metadata": {},
   "outputs": [
    {
     "data": {
      "text/plain": [
       "Momentum_1YR   -0.015975\n",
       "Name: 2014-01-06 00:00:00+00:00, dtype: float64"
      ]
     },
     "execution_count": 21,
     "metadata": {},
     "output_type": "execute_result"
    }
   ],
   "source": [
    "ls_rank_ic[0].loc['2014-01-06']"
   ]
  },
  {
   "cell_type": "markdown",
   "metadata": {},
   "source": [
    "## Information Ratio\n",
    "\n",
    "\n",
    "$$\\text{Information-Ratio=}IC * \\sqrt(B)$$\n",
    "\n",
    "B (Breadth): Number of independent trade oportunities per year (maximaze by removing exposure to risk factors)"
   ]
  },
  {
   "cell_type": "markdown",
   "metadata": {},
   "source": [
    "## Factor Autocorrelation Analysis\n",
    "\n",
    "Metric for turnover analysis (proxy for transaction cost). Compute rank correlation between alpha factor in a given day and previous one\n",
    "\n",
    "$$turnover = \\frac{value-of-trades}{portfolio-value} = |x_{t1}-x_{t2}|$$\n",
    "\n",
    "If by other evaluation metric two alpha factor are equals, it is preferred the one with highest FRA"
   ]
  },
  {
   "cell_type": "markdown",
   "metadata": {},
   "source": [
    "Alphalens has a function [alphalens.performance.factor_rank_autocorrelation](https://quantopian.github.io/alphalens/alphalens.html?highlight=factor_rank_autocorrelation#alphalens.performance.factor_rank_autocorrelation)\n",
    "\n",
    "```python\n",
    "def factor_rank_autocorrelation(factor_data, period=1):\n",
    "```    \n",
    "factor_data: Use the dataframe that is returned from our call to alphalens.utils.get_clean_factor_and_forward_returns\n",
    "\n",
    "period: Period over which to calculate the turnover.  Keep the default of 1 \n",
    "\n"
   ]
  },
  {
   "cell_type": "code",
   "execution_count": 22,
   "metadata": {},
   "outputs": [],
   "source": [
    "unixt_factor_data = {}\n",
    "for factor_name in factor_names:\n",
    "    unixt_index_data = [(x.timestamp(), y) for x, y in factor_data[factor_name].index.values]\n",
    "    unixt_factor_data[factor_name] = factor_data[factor_name].set_index(pd.MultiIndex.from_tuples(unixt_index_data, names=['date', 'asset']))"
   ]
  },
  {
   "cell_type": "code",
   "execution_count": 23,
   "metadata": {},
   "outputs": [
    {
     "name": "stdout",
     "output_type": "stream",
     "text": [
      "Calculating the FRA for: Momentum_1YR\n",
      "Calculating the FRA for: Smoothed_Momentum_1YR\n",
      "Calculating the FRA for: rets_1d_raw\n",
      "Calculating the FRA for: rets_1y_raw\n"
     ]
    }
   ],
   "source": [
    "ls_fra = []\n",
    "\n",
    "for i, factor_name in enumerate(factor_names):\n",
    "    print(\"Calculating the FRA for: \" + factor_name)\n",
    "    fra = al.performance.factor_rank_autocorrelation(unixt_factor_data[factor_name]).to_frame()\n",
    "    fra.columns = [factor_name]\n",
    "    ls_fra.append(fra)\n",
    "\n",
    "df_ls_fra = pd.concat(ls_fra, axis=1)"
   ]
  },
  {
   "cell_type": "code",
   "execution_count": 24,
   "metadata": {},
   "outputs": [
    {
     "data": {
      "image/png": "[encoded data removed]",
      "text/plain": [
       "<Figure size 432x288 with 1 Axes>"
      ]
     },
     "metadata": {
      "needs_background": "light"
     },
     "output_type": "display_data"
    }
   ],
   "source": [
    "df_ls_fra.plot(title=\"Factor Rank Autocorrelation\");"
   ]
  },
  {
   "cell_type": "markdown",
   "metadata": {},
   "source": [
    "## Quantile Returns Analysis\n",
    "Assess whether returns and alpha values distributions match. A balanced Quantiles Returns analysis, means that the alpha factor relies on a high share of portfolio stocks, rather than a small subset of skewed stocks"
   ]
  },
  {
   "cell_type": "markdown",
   "metadata": {},
   "source": [
    "Alphalens [mean_return_by_quantile documentation.](https://quantopian.github.io/alphalens/alphalens.html#alphalens.performance.mean_return_by_quantile)\n",
    "\n",
    "```python\n",
    "def performance.mean_return_by_quantile(factor_data,\n",
    "                                              ...\n",
    "                                              demeaned=True,\n",
    "                                              ...)\n",
    "```\n",
    "* factor_data: A MultiIndex DataFrame indexed by date (level 0) and asset (level 1), containing the values for a single alpha factor, forward returns for each period, the factor quantile/bin that factor value belongs to, and (optionally) the group the asset belongs to\n",
    "* demeaned: this is True by default.  This makes a call to [alphalens.utils.demean_forward_returns](https://quantopian.github.io/alphalens/alphalens.html#alphalens.utils.demean_forward_returns), which takes each factor return and subtracts the mean of all the factor returns in our universe of stocks.\n",
    "* returns:mean_ret : pd.DataFrame: Mean period wise returns by specified factor quantile.\n",
    "* Note that it returns a second variable, standard error of the returns.  We will focus on the mean return."
   ]
  },
  {
   "cell_type": "code",
   "execution_count": 25,
   "metadata": {},
   "outputs": [
    {
     "name": "stdout",
     "output_type": "stream",
     "text": [
      "Calculating Quantile returns for: Momentum_1YR\n",
      "Calculating Quantile returns for: Smoothed_Momentum_1YR\n",
      "Calculating Quantile returns for: rets_1d_raw\n",
      "Calculating Quantile returns for: rets_1y_raw\n"
     ]
    }
   ],
   "source": [
    "ls_qr = []\n",
    "\n",
    "for i, factor_name in enumerate(factor_names):\n",
    "    print(\"Calculating Quantile returns for: \" + factor_name)\n",
    "    quantile_return, quantile_stderr = al.performance.mean_return_by_quantile(unixt_factor_data[factor_name])\n",
    "    quantile_return.columns = [factor_name]\n",
    "    ls_qr.append(quantile_return)\n",
    "df_ls_qr = pd.concat(ls_qr, axis=1)"
   ]
  },
  {
   "cell_type": "code",
   "execution_count": 26,
   "metadata": {},
   "outputs": [
    {
     "data": {
      "image/png": "[encoded data removed]",
      "text/plain": [
       "<Figure size 1008x1008 with 8 Axes>"
      ]
     },
     "metadata": {
      "needs_background": "light"
     },
     "output_type": "display_data"
    }
   ],
   "source": [
    "df_ls_qr.plot.bar(\n",
    "    subplots=True,\n",
    "    sharey=True,\n",
    "    layout=(4,2),\n",
    "    figsize=(14, 14),\n",
    "    legend=False,\n",
    "    title='Alphas Comparison: Per Day per Quantile'\n",
    ");"
   ]
  },
  {
   "cell_type": "markdown",
   "metadata": {},
   "source": [
    "### Transfer Coefficient\n",
    "Running a portfolio optimization exersise yields a set of stocks weights that controls for risk and leverages diversification. If alpha factor and optimization weights are not very different it means:\n",
    "* The given alpha factor is independent from common risk factors in optimization model"
   ]
  },
  {
   "cell_type": "code",
   "execution_count": 27,
   "metadata": {},
   "outputs": [
    {
     "name": "stdout",
     "output_type": "stream",
     "text": [
      "Calculating the factor weighted returns and sharpe-ratio for: Momentum_1YR\n",
      "Calculating the Ranked IC for: Momentum_1YR\n",
      "Calculating the FRA for: Momentum_1YR\n",
      "Calculating Quantile returns for: Momentum_1YR\n",
      "Calculating the factor weighted returns and sharpe-ratio for: Smoothed_Momentum_1YR\n",
      "Calculating the Ranked IC for: Smoothed_Momentum_1YR\n",
      "Calculating the FRA for: Smoothed_Momentum_1YR\n",
      "Calculating Quantile returns for: Smoothed_Momentum_1YR\n",
      "Calculating the factor weighted returns and sharpe-ratio for: rets_1d_raw\n",
      "Calculating the Ranked IC for: rets_1d_raw\n",
      "Calculating the FRA for: rets_1d_raw\n",
      "Calculating Quantile returns for: rets_1d_raw\n",
      "Calculating the factor weighted returns and sharpe-ratio for: rets_1y_raw\n",
      "Calculating the Ranked IC for: rets_1y_raw\n",
      "Calculating the FRA for: rets_1y_raw\n",
      "Calculating Quantile returns for: rets_1y_raw\n"
     ]
    }
   ],
   "source": [
    "def factor_evaluation(factor_data, factor_names, frequency=\"daily\"):\n",
    "\n",
    "    ls_sharpe, ls_factor_return, ls_rank_ic, ls_fra, ls_qr = [], [], [], [], []\n",
    "    unixt_factor_data = {}\n",
    "\n",
    "    for i, factor_name in enumerate(factor_names):\n",
    "        \n",
    "        print(\"Calculating the factor weighted returns and sharpe-ratio for: \" + factor_name)\n",
    "        factor_return = al.performance.factor_returns(factor_data[factor_name])\n",
    "        factor_return.columns = [factor_name]\n",
    "        ls_factor_return.append(factor_return)\n",
    "        \n",
    "        sharpe_ratio = compute_sharpe_ratio(ls_factor_return[i], frequency).to_frame('Sharpe ratio')\n",
    "        ls_sharpe.append(sharpe_ratio)\n",
    "\n",
    "        print(\"Calculating the Ranked IC for: \" + factor_name)\n",
    "        rank_ic = al.performance.factor_information_coefficient(factor_data[factor_name])\n",
    "        rank_ic.columns = [factor_name]\n",
    "        ls_rank_ic.append(rank_ic)\n",
    "\n",
    "        unixt_index_data = [(x.timestamp(), y) for x, y in factor_data[factor_name].index.values]\n",
    "        unixt_factor_data[factor_name] = factor_data[factor_name].set_index(pd.MultiIndex.from_tuples(unixt_index_data, names=['date', 'asset']))\n",
    "\n",
    "        print(\"Calculating the FRA for: \" + factor_name)\n",
    "        fra = al.performance.factor_rank_autocorrelation(unixt_factor_data[factor_name]).to_frame()\n",
    "        fra.columns = [factor_name]\n",
    "        ls_fra.append(fra)\n",
    "\n",
    "        print(\"Calculating Quantile returns for: \" + factor_name)\n",
    "        quantile_return, quantile_stderr = al.performance.mean_return_by_quantile(unixt_factor_data[factor_name])\n",
    "        quantile_return.columns = [factor_name]\n",
    "        ls_qr.append(quantile_return)\n",
    "        \n",
    "        df_factor_return = pd.concat(ls_factor_return, axis=1)\n",
    "        df_sharpe = pd.concat(ls_sharpe, axis=0)\n",
    "        df_rank_ic = pd.concat(ls_rank_ic, axis=1)\n",
    "        df_fra = pd.concat(ls_fra, axis=1)\n",
    "        df_qr = pd.concat(ls_qr, axis=1)\n",
    "        \n",
    "        df_fra.index = [dt.datetime.fromtimestamp(x) for x in df_fra.index]\n",
    "    return df_factor_return, df_sharpe, df_rank_ic, df_fra, df_qr\n",
    "\n",
    "df_factor_return, df_sharpe, df_rank_ic, df_fra, df_qr = factor_evaluation(factor_data, factor_names)"
   ]
  },
  {
   "cell_type": "code",
   "execution_count": 28,
   "metadata": {},
   "outputs": [
    {
     "data": {
      "text/html": [
       "<div>\n",
       "<style scoped>\n",
       "    .dataframe tbody tr th:only-of-type {\n",
       "        vertical-align: middle;\n",
       "    }\n",
       "\n",
       "    .dataframe tbody tr th {\n",
       "        vertical-align: top;\n",
       "    }\n",
       "\n",
       "    .dataframe thead th {\n",
       "        text-align: right;\n",
       "    }\n",
       "</style>\n",
       "<table border=\"1\" class=\"dataframe\">\n",
       "  <thead>\n",
       "    <tr style=\"text-align: right;\">\n",
       "      <th></th>\n",
       "      <th>Momentum_1YR</th>\n",
       "      <th>Smoothed_Momentum_1YR</th>\n",
       "      <th>rets_1d_raw</th>\n",
       "      <th>rets_1y_raw</th>\n",
       "    </tr>\n",
       "    <tr>\n",
       "      <th>date</th>\n",
       "      <th></th>\n",
       "      <th></th>\n",
       "      <th></th>\n",
       "      <th></th>\n",
       "    </tr>\n",
       "  </thead>\n",
       "  <tbody>\n",
       "    <tr>\n",
       "      <th>2014-01-06 00:00:00+00:00</th>\n",
       "      <td>-0.000161</td>\n",
       "      <td>-0.000054</td>\n",
       "      <td>-0.002961</td>\n",
       "      <td>-0.000842</td>\n",
       "    </tr>\n",
       "    <tr>\n",
       "      <th>2014-01-07 00:00:00+00:00</th>\n",
       "      <td>0.003886</td>\n",
       "      <td>0.003893</td>\n",
       "      <td>0.000200</td>\n",
       "      <td>0.006724</td>\n",
       "    </tr>\n",
       "    <tr>\n",
       "      <th>2014-01-08 00:00:00+00:00</th>\n",
       "      <td>0.001612</td>\n",
       "      <td>0.001513</td>\n",
       "      <td>-0.000980</td>\n",
       "      <td>0.001189</td>\n",
       "    </tr>\n",
       "    <tr>\n",
       "      <th>2014-01-09 00:00:00+00:00</th>\n",
       "      <td>0.000464</td>\n",
       "      <td>0.000418</td>\n",
       "      <td>0.003043</td>\n",
       "      <td>-0.000540</td>\n",
       "    </tr>\n",
       "    <tr>\n",
       "      <th>2014-01-10 00:00:00+00:00</th>\n",
       "      <td>-0.002491</td>\n",
       "      <td>-0.002629</td>\n",
       "      <td>-0.000176</td>\n",
       "      <td>-0.003313</td>\n",
       "    </tr>\n",
       "  </tbody>\n",
       "</table>\n",
       "</div>"
      ],
      "text/plain": [
       "                           Momentum_1YR  Smoothed_Momentum_1YR  rets_1d_raw  \\\n",
       "date                                                                          \n",
       "2014-01-06 00:00:00+00:00     -0.000161              -0.000054    -0.002961   \n",
       "2014-01-07 00:00:00+00:00      0.003886               0.003893     0.000200   \n",
       "2014-01-08 00:00:00+00:00      0.001612               0.001513    -0.000980   \n",
       "2014-01-09 00:00:00+00:00      0.000464               0.000418     0.003043   \n",
       "2014-01-10 00:00:00+00:00     -0.002491              -0.002629    -0.000176   \n",
       "\n",
       "                           rets_1y_raw  \n",
       "date                                    \n",
       "2014-01-06 00:00:00+00:00    -0.000842  \n",
       "2014-01-07 00:00:00+00:00     0.006724  \n",
       "2014-01-08 00:00:00+00:00     0.001189  \n",
       "2014-01-09 00:00:00+00:00    -0.000540  \n",
       "2014-01-10 00:00:00+00:00    -0.003313  "
      ]
     },
     "execution_count": 28,
     "metadata": {},
     "output_type": "execute_result"
    }
   ],
   "source": [
    "df_factor_return.head()"
   ]
  },
  {
   "cell_type": "code",
   "execution_count": 29,
   "metadata": {},
   "outputs": [
    {
     "data": {
      "text/html": [
       "<div>\n",
       "<style scoped>\n",
       "    .dataframe tbody tr th:only-of-type {\n",
       "        vertical-align: middle;\n",
       "    }\n",
       "\n",
       "    .dataframe tbody tr th {\n",
       "        vertical-align: top;\n",
       "    }\n",
       "\n",
       "    .dataframe thead th {\n",
       "        text-align: right;\n",
       "    }\n",
       "</style>\n",
       "<table border=\"1\" class=\"dataframe\">\n",
       "  <thead>\n",
       "    <tr style=\"text-align: right;\">\n",
       "      <th></th>\n",
       "      <th>Sharpe ratio</th>\n",
       "    </tr>\n",
       "  </thead>\n",
       "  <tbody>\n",
       "    <tr>\n",
       "      <th>Momentum_1YR</th>\n",
       "      <td>1.133690</td>\n",
       "    </tr>\n",
       "    <tr>\n",
       "      <th>Smoothed_Momentum_1YR</th>\n",
       "      <td>1.101621</td>\n",
       "    </tr>\n",
       "    <tr>\n",
       "      <th>rets_1d_raw</th>\n",
       "      <td>0.162868</td>\n",
       "    </tr>\n",
       "    <tr>\n",
       "      <th>rets_1y_raw</th>\n",
       "      <td>0.844268</td>\n",
       "    </tr>\n",
       "  </tbody>\n",
       "</table>\n",
       "</div>"
      ],
      "text/plain": [
       "                       Sharpe ratio\n",
       "Momentum_1YR               1.133690\n",
       "Smoothed_Momentum_1YR      1.101621\n",
       "rets_1d_raw                0.162868\n",
       "rets_1y_raw                0.844268"
      ]
     },
     "execution_count": 29,
     "metadata": {},
     "output_type": "execute_result"
    }
   ],
   "source": [
    "df_sharpe"
   ]
  },
  {
   "cell_type": "code",
   "execution_count": 30,
   "metadata": {},
   "outputs": [
    {
     "data": {
      "text/html": [
       "<div>\n",
       "<style scoped>\n",
       "    .dataframe tbody tr th:only-of-type {\n",
       "        vertical-align: middle;\n",
       "    }\n",
       "\n",
       "    .dataframe tbody tr th {\n",
       "        vertical-align: top;\n",
       "    }\n",
       "\n",
       "    .dataframe thead th {\n",
       "        text-align: right;\n",
       "    }\n",
       "</style>\n",
       "<table border=\"1\" class=\"dataframe\">\n",
       "  <thead>\n",
       "    <tr style=\"text-align: right;\">\n",
       "      <th></th>\n",
       "      <th>Momentum_1YR</th>\n",
       "      <th>Smoothed_Momentum_1YR</th>\n",
       "      <th>rets_1d_raw</th>\n",
       "      <th>rets_1y_raw</th>\n",
       "    </tr>\n",
       "    <tr>\n",
       "      <th>date</th>\n",
       "      <th></th>\n",
       "      <th></th>\n",
       "      <th></th>\n",
       "      <th></th>\n",
       "    </tr>\n",
       "  </thead>\n",
       "  <tbody>\n",
       "    <tr>\n",
       "      <th>2014-01-06 00:00:00+00:00</th>\n",
       "      <td>-0.015975</td>\n",
       "      <td>-0.009565</td>\n",
       "      <td>-0.090375</td>\n",
       "      <td>0.008220</td>\n",
       "    </tr>\n",
       "    <tr>\n",
       "      <th>2014-01-07 00:00:00+00:00</th>\n",
       "      <td>0.212508</td>\n",
       "      <td>0.211467</td>\n",
       "      <td>0.042888</td>\n",
       "      <td>0.298971</td>\n",
       "    </tr>\n",
       "    <tr>\n",
       "      <th>2014-01-08 00:00:00+00:00</th>\n",
       "      <td>0.089923</td>\n",
       "      <td>0.089733</td>\n",
       "      <td>-0.008119</td>\n",
       "      <td>0.086919</td>\n",
       "    </tr>\n",
       "    <tr>\n",
       "      <th>2014-01-09 00:00:00+00:00</th>\n",
       "      <td>0.032607</td>\n",
       "      <td>0.032675</td>\n",
       "      <td>0.002375</td>\n",
       "      <td>-0.133064</td>\n",
       "    </tr>\n",
       "    <tr>\n",
       "      <th>2014-01-10 00:00:00+00:00</th>\n",
       "      <td>-0.178180</td>\n",
       "      <td>-0.189343</td>\n",
       "      <td>0.028899</td>\n",
       "      <td>-0.299282</td>\n",
       "    </tr>\n",
       "  </tbody>\n",
       "</table>\n",
       "</div>"
      ],
      "text/plain": [
       "                           Momentum_1YR  Smoothed_Momentum_1YR  rets_1d_raw  \\\n",
       "date                                                                          \n",
       "2014-01-06 00:00:00+00:00     -0.015975              -0.009565    -0.090375   \n",
       "2014-01-07 00:00:00+00:00      0.212508               0.211467     0.042888   \n",
       "2014-01-08 00:00:00+00:00      0.089923               0.089733    -0.008119   \n",
       "2014-01-09 00:00:00+00:00      0.032607               0.032675     0.002375   \n",
       "2014-01-10 00:00:00+00:00     -0.178180              -0.189343     0.028899   \n",
       "\n",
       "                           rets_1y_raw  \n",
       "date                                    \n",
       "2014-01-06 00:00:00+00:00     0.008220  \n",
       "2014-01-07 00:00:00+00:00     0.298971  \n",
       "2014-01-08 00:00:00+00:00     0.086919  \n",
       "2014-01-09 00:00:00+00:00    -0.133064  \n",
       "2014-01-10 00:00:00+00:00    -0.299282  "
      ]
     },
     "execution_count": 30,
     "metadata": {},
     "output_type": "execute_result"
    }
   ],
   "source": [
    "df_rank_ic.head()"
   ]
  },
  {
   "cell_type": "code",
   "execution_count": 31,
   "metadata": {},
   "outputs": [
    {
     "data": {
      "text/html": [
       "<div>\n",
       "<style scoped>\n",
       "    .dataframe tbody tr th:only-of-type {\n",
       "        vertical-align: middle;\n",
       "    }\n",
       "\n",
       "    .dataframe tbody tr th {\n",
       "        vertical-align: top;\n",
       "    }\n",
       "\n",
       "    .dataframe thead th {\n",
       "        text-align: right;\n",
       "    }\n",
       "</style>\n",
       "<table border=\"1\" class=\"dataframe\">\n",
       "  <thead>\n",
       "    <tr style=\"text-align: right;\">\n",
       "      <th></th>\n",
       "      <th>Momentum_1YR</th>\n",
       "      <th>Smoothed_Momentum_1YR</th>\n",
       "      <th>rets_1d_raw</th>\n",
       "      <th>rets_1y_raw</th>\n",
       "    </tr>\n",
       "  </thead>\n",
       "  <tbody>\n",
       "    <tr>\n",
       "      <th>2014-01-06 01:00:00</th>\n",
       "      <td>NaN</td>\n",
       "      <td>NaN</td>\n",
       "      <td>NaN</td>\n",
       "      <td>NaN</td>\n",
       "    </tr>\n",
       "    <tr>\n",
       "      <th>2014-01-07 01:00:00</th>\n",
       "      <td>0.996552</td>\n",
       "      <td>0.999241</td>\n",
       "      <td>0.080810</td>\n",
       "      <td>0.996486</td>\n",
       "    </tr>\n",
       "    <tr>\n",
       "      <th>2014-01-08 01:00:00</th>\n",
       "      <td>0.993362</td>\n",
       "      <td>0.999198</td>\n",
       "      <td>0.046357</td>\n",
       "      <td>0.994685</td>\n",
       "    </tr>\n",
       "    <tr>\n",
       "      <th>2014-01-09 01:00:00</th>\n",
       "      <td>0.994754</td>\n",
       "      <td>0.999062</td>\n",
       "      <td>0.083818</td>\n",
       "      <td>0.996039</td>\n",
       "    </tr>\n",
       "    <tr>\n",
       "      <th>2014-01-10 01:00:00</th>\n",
       "      <td>0.994261</td>\n",
       "      <td>0.998954</td>\n",
       "      <td>0.120874</td>\n",
       "      <td>0.995899</td>\n",
       "    </tr>\n",
       "  </tbody>\n",
       "</table>\n",
       "</div>"
      ],
      "text/plain": [
       "                     Momentum_1YR  Smoothed_Momentum_1YR  rets_1d_raw  \\\n",
       "2014-01-06 01:00:00           NaN                    NaN          NaN   \n",
       "2014-01-07 01:00:00      0.996552               0.999241     0.080810   \n",
       "2014-01-08 01:00:00      0.993362               0.999198     0.046357   \n",
       "2014-01-09 01:00:00      0.994754               0.999062     0.083818   \n",
       "2014-01-10 01:00:00      0.994261               0.998954     0.120874   \n",
       "\n",
       "                     rets_1y_raw  \n",
       "2014-01-06 01:00:00          NaN  \n",
       "2014-01-07 01:00:00     0.996486  \n",
       "2014-01-08 01:00:00     0.994685  \n",
       "2014-01-09 01:00:00     0.996039  \n",
       "2014-01-10 01:00:00     0.995899  "
      ]
     },
     "execution_count": 31,
     "metadata": {},
     "output_type": "execute_result"
    }
   ],
   "source": [
    "df_fra.head()"
   ]
  },
  {
   "cell_type": "code",
   "execution_count": 32,
   "metadata": {},
   "outputs": [
    {
     "data": {
      "text/html": [
       "<div>\n",
       "<style scoped>\n",
       "    .dataframe tbody tr th:only-of-type {\n",
       "        vertical-align: middle;\n",
       "    }\n",
       "\n",
       "    .dataframe tbody tr th {\n",
       "        vertical-align: top;\n",
       "    }\n",
       "\n",
       "    .dataframe thead th {\n",
       "        text-align: right;\n",
       "    }\n",
       "</style>\n",
       "<table border=\"1\" class=\"dataframe\">\n",
       "  <thead>\n",
       "    <tr style=\"text-align: right;\">\n",
       "      <th></th>\n",
       "      <th>Momentum_1YR</th>\n",
       "      <th>Smoothed_Momentum_1YR</th>\n",
       "      <th>rets_1d_raw</th>\n",
       "      <th>rets_1y_raw</th>\n",
       "    </tr>\n",
       "    <tr>\n",
       "      <th>factor_quantile</th>\n",
       "      <th></th>\n",
       "      <th></th>\n",
       "      <th></th>\n",
       "      <th></th>\n",
       "    </tr>\n",
       "  </thead>\n",
       "  <tbody>\n",
       "    <tr>\n",
       "      <th>1</th>\n",
       "      <td>-2.415288e-04</td>\n",
       "      <td>-0.000211</td>\n",
       "      <td>-0.000036</td>\n",
       "      <td>-0.000253</td>\n",
       "    </tr>\n",
       "    <tr>\n",
       "      <th>2</th>\n",
       "      <td>-4.594508e-05</td>\n",
       "      <td>-0.000103</td>\n",
       "      <td>0.000188</td>\n",
       "      <td>0.000007</td>\n",
       "    </tr>\n",
       "    <tr>\n",
       "      <th>3</th>\n",
       "      <td>-1.471323e-07</td>\n",
       "      <td>0.000077</td>\n",
       "      <td>-0.000005</td>\n",
       "      <td>0.000004</td>\n",
       "    </tr>\n",
       "    <tr>\n",
       "      <th>4</th>\n",
       "      <td>1.051509e-04</td>\n",
       "      <td>0.000042</td>\n",
       "      <td>-0.000088</td>\n",
       "      <td>0.000032</td>\n",
       "    </tr>\n",
       "    <tr>\n",
       "      <th>5</th>\n",
       "      <td>1.831499e-04</td>\n",
       "      <td>0.000195</td>\n",
       "      <td>-0.000061</td>\n",
       "      <td>0.000213</td>\n",
       "    </tr>\n",
       "  </tbody>\n",
       "</table>\n",
       "</div>"
      ],
      "text/plain": [
       "                 Momentum_1YR  Smoothed_Momentum_1YR  rets_1d_raw  rets_1y_raw\n",
       "factor_quantile                                                               \n",
       "1               -2.415288e-04              -0.000211    -0.000036    -0.000253\n",
       "2               -4.594508e-05              -0.000103     0.000188     0.000007\n",
       "3               -1.471323e-07               0.000077    -0.000005     0.000004\n",
       "4                1.051509e-04               0.000042    -0.000088     0.000032\n",
       "5                1.831499e-04               0.000195    -0.000061     0.000213"
      ]
     },
     "execution_count": 32,
     "metadata": {},
     "output_type": "execute_result"
    }
   ],
   "source": [
    "df_qr"
   ]
  },
  {
   "cell_type": "code",
   "execution_count": null,
   "metadata": {},
   "outputs": [],
   "source": []
  }
 ],
 "metadata": {
  "kernelspec": {
   "display_name": "Python 3",
   "language": "python",
   "name": "python3"
  },
  "language_info": {
   "codemirror_mode": {
    "name": "ipython",
    "version": 3
   },
   "file_extension": ".py",
   "mimetype": "text/x-python",
   "name": "python",
   "nbconvert_exporter": "python",
   "pygments_lexer": "ipython3",
   "version": "3.5.6"
  }
 },
 "nbformat": 4,
 "nbformat_minor": 4
}
