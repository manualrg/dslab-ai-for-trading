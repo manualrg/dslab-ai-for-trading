{
 "cells": [
  {
   "cell_type": "markdown",
   "metadata": {},
   "source": [
    "<font size=\"6\"> **Model Building: Feature and Algorithm Selection** </font>"
   ]
  },
  {
   "cell_type": "code",
   "execution_count": 1,
   "metadata": {},
   "outputs": [],
   "source": [
    "%%capture\n",
    "%run 00_mlmod_load_data.ipynb"
   ]
  },
  {
   "cell_type": "code",
   "execution_count": 2,
   "metadata": {},
   "outputs": [
    {
     "name": "stdout",
     "output_type": "stream",
     "text": [
      "Model version:  v01\n"
     ]
    }
   ],
   "source": [
    "KFOLDS = 3\n",
    "print('Model version: ', MODEL_VERSION)"
   ]
  },
  {
   "cell_type": "code",
   "execution_count": 3,
   "metadata": {},
   "outputs": [
    {
     "name": "stdout",
     "output_type": "stream",
     "text": [
      "True\n"
     ]
    }
   ],
   "source": [
    "OUTPATH = os.path.join(io_utils.processed_path , cfg['output']['alpha_factors_ml']['folder'], MODEL_VERSION, \"\")\n",
    "\n",
    "OUTFILE1 = cfg['output']['alpha_factors_ml']['preds']\n",
    "print(os.path.isdir(OUTPATH))"
   ]
  },
  {
   "cell_type": "code",
   "execution_count": 4,
   "metadata": {},
   "outputs": [
    {
     "name": "stdout",
     "output_type": "stream",
     "text": [
      "True\n"
     ]
    }
   ],
   "source": [
    "MODEL_PATH = os.path.join(io_utils.models_path , cfg['output']['alpha_factors_ml']['folder'], MODEL_VERSION, \"\")\n",
    "\n",
    "MODEL_NAME = cfg['output']['alpha_factors_ml']['model']\n",
    "MODEL_METADATA = cfg['output']['alpha_factors_ml']['model_metadata']\n",
    "print(os.path.isdir(MODEL_PATH))"
   ]
  },
  {
   "cell_type": "code",
   "execution_count": 5,
   "metadata": {},
   "outputs": [],
   "source": [
    "from sklearn.model_selection import TimeSeriesSplit, GridSearchCV, cross_validate, cross_val_score\n",
    "from sklearn.linear_model import Ridge, LinearRegression\n",
    "from sklearn.neural_network import MLPRegressor\n",
    "from sklearn.ensemble import RandomForestRegressor\n",
    "\n",
    "from sklearn.preprocessing import PolynomialFeatures\n",
    "from sklearn.feature_selection import SelectKBest, mutual_info_regression\n",
    "from sklearn.pipeline import Pipeline\n",
    "\n",
    "import pickle\n",
    "\n",
    "from src.mle_quant_utils import mle_ensem_models as mle_ens"
   ]
  },
  {
   "cell_type": "code",
   "execution_count": 6,
   "metadata": {},
   "outputs": [],
   "source": [
    "# Overwrite persisted versions of sampled data\n",
    "X_train_smp = pd.read_csv(io_utils.interim_path + 'x_train_smp.csv', parse_dates=['date'], index_col=[0,1])\n",
    "y_train_smp = pd.read_csv(io_utils.interim_path + 'y_train_smp.csv', parse_dates=['date'], index_col=[0,1])\n",
    "y_train_smp = y_train_smp[target_col]"
   ]
  },
  {
   "cell_type": "code",
   "execution_count": 7,
   "metadata": {},
   "outputs": [
    {
     "data": {
      "text/plain": [
       "True     24139\n",
       "False    19052\n",
       "Name: target, dtype: int64"
      ]
     },
     "execution_count": 7,
     "metadata": {},
     "output_type": "execute_result"
    }
   ],
   "source": [
    "(y_train_smp>0).value_counts()"
   ]
  },
  {
   "cell_type": "code",
   "execution_count": 8,
   "metadata": {},
   "outputs": [],
   "source": [
    "cv_metrics_keys = ['test_neg_root_mean_squared_error',\n",
    " 'test_w_accuracy',\n",
    " 'test_accuracy',\n",
    " 'test_up_accuracy',\n",
    " 'test_down_accuracy']\n",
    "cv_metrics_cols = ['mean_' + col for col in cv_metrics_keys]\n",
    "cv_mean_metrics = pd.DataFrame(columns=cv_metrics_cols, dtype=float)"
   ]
  },
  {
   "cell_type": "code",
   "execution_count": 9,
   "metadata": {},
   "outputs": [],
   "source": [
    "def compute_cv_metrics(model, X, y, cv_metrics_keys=cv_metrics_keys):\n",
    "    summary = pd.DataFrame(\n",
    "        cross_validate(model, X, y,\n",
    "                       scoring=scoring, n_jobs=-1,\n",
    "                       cv=TimeSeriesSplit(n_splits=KFOLDS).split(y))\n",
    "                       )[cv_metrics_keys].\\\n",
    "                apply(np.mean, axis=0).add_prefix(\"mean_\")\n",
    "\n",
    "    return summary"
   ]
  },
  {
   "cell_type": "markdown",
   "metadata": {},
   "source": [
    "# Ridge"
   ]
  },
  {
   "cell_type": "code",
   "execution_count": 10,
   "metadata": {},
   "outputs": [],
   "source": [
    "features1 = ['Mean_Reversion_Sector_Neutral_Smoothed', 'Momentum_1YR_Smoothed', 'Overnight_Sentiment_Smoothed']\n",
    "features2 = features1 + ['adv_20d']\n",
    "features3 = features1 +  ['sector_code_-1','sector_code_0', 'sector_code_1', 'sector_code_2', 'sector_code_3', 'sector_code_4',\n",
    "                          'sector_code_5', 'sector_code_6', 'sector_code_7', 'sector_code_8', 'sector_code_9', 'sector_code_10']\n",
    "features4 = features1 + ['is_December', 'qtr_end', 'qtr_start']\n",
    "features5 = features1 + ['weekday_0', 'weekday_1', 'weekday_2', 'weekday_3', 'weekday_4']\n",
    "features6 = features1 + ['qtr_1', 'qtr_2', 'qtr_3', 'qtr_4']"
   ]
  },
  {
   "cell_type": "code",
   "execution_count": 11,
   "metadata": {},
   "outputs": [],
   "source": [
    "def preds_to_df(Xs, model, colname):\n",
    "    assert hasattr(model, 'predict')\n",
    "    preds1 = model.predict(Xs)\n",
    "    preds1 = pd.DataFrame(index=Xs.index, data=preds1, columns=[colname])\n",
    "    return preds1\n",
    "    "
   ]
  },
  {
   "cell_type": "code",
   "execution_count": 12,
   "metadata": {},
   "outputs": [],
   "source": [
    "def get_reg_coefs(model, features):\n",
    "    return pd.Series(index=features, data=model.coef_)"
   ]
  },
  {
   "cell_type": "code",
   "execution_count": 13,
   "metadata": {},
   "outputs": [],
   "source": [
    "select_cols_ridge_cv_results = ['rank_test_w_accuracy', 'param_alpha', 'mean_test_w_accuracy', 'std_test_w_accuracy',\n",
    "                        'mean_test_accuracy', 'mean_test_up_accuracy', 'mean_test_down_accuracy',\n",
    "                         'mean_test_neg_root_mean_squared_error']"
   ]
  },
  {
   "cell_type": "code",
   "execution_count": 14,
   "metadata": {},
   "outputs": [],
   "source": [
    "ridge = Ridge(fit_intercept=False, random_state=RND_SEED)"
   ]
  },
  {
   "cell_type": "markdown",
   "metadata": {},
   "source": [
    "## Features Set 1: Alpha Only"
   ]
  },
  {
   "cell_type": "code",
   "execution_count": 15,
   "metadata": {},
   "outputs": [],
   "source": [
    "hpgrid_ridge1 = {'alpha': [10.0**x for x in range(-4,3)]}\n",
    "ridge_cv1 = GridSearchCV(ridge, hpgrid_ridge1, scoring=scoring,\n",
    "                        n_jobs=-1, refit='w_accuracy',\n",
    "                        cv=TimeSeriesSplit(n_splits=KFOLDS).split(y_train_full),\n",
    "                        return_train_score=True)\n",
    "res_ridge_cv1 = ridge_cv1.fit(X_train_full[features1], y_train_full)"
   ]
  },
  {
   "cell_type": "code",
   "execution_count": 16,
   "metadata": {},
   "outputs": [
    {
     "data": {
      "text/plain": [
       "(0.4109618146228529,\n",
       " Ridge(alpha=10.0, copy_X=True, fit_intercept=False, max_iter=None,\n",
       "       normalize=False, random_state=123, solver='auto', tol=0.001))"
      ]
     },
     "execution_count": 16,
     "metadata": {},
     "output_type": "execute_result"
    }
   ],
   "source": [
    "p_valid_mod1 = preds_to_df(X_valid_full[features1], res_ridge_cv1, 'p_valid_mod1')\n",
    "res_ridge_cv1.best_score_, res_ridge_cv1.best_estimator_"
   ]
  },
  {
   "cell_type": "code",
   "execution_count": 17,
   "metadata": {},
   "outputs": [
    {
     "data": {
      "text/plain": [
       "Mean_Reversion_Sector_Neutral_Smoothed    0.000474\n",
       "Momentum_1YR_Smoothed                     0.000100\n",
       "Overnight_Sentiment_Smoothed              0.000502\n",
       "dtype: float64"
      ]
     },
     "execution_count": 17,
     "metadata": {},
     "output_type": "execute_result"
    }
   ],
   "source": [
    "get_reg_coefs(res_ridge_cv1.best_estimator_, features1)"
   ]
  },
  {
   "cell_type": "code",
   "execution_count": 18,
   "metadata": {},
   "outputs": [
    {
     "data": {
      "text/html": [
       "<div>\n",
       "<style scoped>\n",
       "    .dataframe tbody tr th:only-of-type {\n",
       "        vertical-align: middle;\n",
       "    }\n",
       "\n",
       "    .dataframe tbody tr th {\n",
       "        vertical-align: top;\n",
       "    }\n",
       "\n",
       "    .dataframe thead th {\n",
       "        text-align: right;\n",
       "    }\n",
       "</style>\n",
       "<table border=\"1\" class=\"dataframe\">\n",
       "  <thead>\n",
       "    <tr style=\"text-align: right;\">\n",
       "      <th></th>\n",
       "      <th>rank_test_w_accuracy</th>\n",
       "      <th>param_alpha</th>\n",
       "      <th>mean_test_w_accuracy</th>\n",
       "      <th>std_test_w_accuracy</th>\n",
       "      <th>mean_test_accuracy</th>\n",
       "      <th>mean_test_up_accuracy</th>\n",
       "      <th>mean_test_down_accuracy</th>\n",
       "      <th>mean_test_neg_root_mean_squared_error</th>\n",
       "    </tr>\n",
       "  </thead>\n",
       "  <tbody>\n",
       "    <tr>\n",
       "      <th>0</th>\n",
       "      <td>3</td>\n",
       "      <td>0.0001</td>\n",
       "      <td>0.410955</td>\n",
       "      <td>0.005689</td>\n",
       "      <td>0.502288</td>\n",
       "      <td>0.502782</td>\n",
       "      <td>0.501784</td>\n",
       "      <td>-0.028603</td>\n",
       "    </tr>\n",
       "    <tr>\n",
       "      <th>1</th>\n",
       "      <td>3</td>\n",
       "      <td>0.001</td>\n",
       "      <td>0.410955</td>\n",
       "      <td>0.005689</td>\n",
       "      <td>0.502288</td>\n",
       "      <td>0.502782</td>\n",
       "      <td>0.501784</td>\n",
       "      <td>-0.028603</td>\n",
       "    </tr>\n",
       "    <tr>\n",
       "      <th>2</th>\n",
       "      <td>3</td>\n",
       "      <td>0.01</td>\n",
       "      <td>0.410955</td>\n",
       "      <td>0.005689</td>\n",
       "      <td>0.502288</td>\n",
       "      <td>0.502782</td>\n",
       "      <td>0.501784</td>\n",
       "      <td>-0.028603</td>\n",
       "    </tr>\n",
       "    <tr>\n",
       "      <th>3</th>\n",
       "      <td>3</td>\n",
       "      <td>0.1</td>\n",
       "      <td>0.410955</td>\n",
       "      <td>0.005689</td>\n",
       "      <td>0.502288</td>\n",
       "      <td>0.502782</td>\n",
       "      <td>0.501784</td>\n",
       "      <td>-0.028603</td>\n",
       "    </tr>\n",
       "    <tr>\n",
       "      <th>4</th>\n",
       "      <td>3</td>\n",
       "      <td>1</td>\n",
       "      <td>0.410955</td>\n",
       "      <td>0.005689</td>\n",
       "      <td>0.502288</td>\n",
       "      <td>0.502782</td>\n",
       "      <td>0.501784</td>\n",
       "      <td>-0.028603</td>\n",
       "    </tr>\n",
       "    <tr>\n",
       "      <th>5</th>\n",
       "      <td>1</td>\n",
       "      <td>10</td>\n",
       "      <td>0.410962</td>\n",
       "      <td>0.005699</td>\n",
       "      <td>0.502294</td>\n",
       "      <td>0.502782</td>\n",
       "      <td>0.501798</td>\n",
       "      <td>-0.028603</td>\n",
       "    </tr>\n",
       "    <tr>\n",
       "      <th>6</th>\n",
       "      <td>1</td>\n",
       "      <td>100</td>\n",
       "      <td>0.410962</td>\n",
       "      <td>0.005699</td>\n",
       "      <td>0.502294</td>\n",
       "      <td>0.502782</td>\n",
       "      <td>0.501798</td>\n",
       "      <td>-0.028603</td>\n",
       "    </tr>\n",
       "  </tbody>\n",
       "</table>\n",
       "</div>"
      ],
      "text/plain": [
       "   rank_test_w_accuracy param_alpha  mean_test_w_accuracy  \\\n",
       "0                     3      0.0001              0.410955   \n",
       "1                     3       0.001              0.410955   \n",
       "2                     3        0.01              0.410955   \n",
       "3                     3         0.1              0.410955   \n",
       "4                     3           1              0.410955   \n",
       "5                     1          10              0.410962   \n",
       "6                     1         100              0.410962   \n",
       "\n",
       "   std_test_w_accuracy  mean_test_accuracy  mean_test_up_accuracy  \\\n",
       "0             0.005689            0.502288               0.502782   \n",
       "1             0.005689            0.502288               0.502782   \n",
       "2             0.005689            0.502288               0.502782   \n",
       "3             0.005689            0.502288               0.502782   \n",
       "4             0.005689            0.502288               0.502782   \n",
       "5             0.005699            0.502294               0.502782   \n",
       "6             0.005699            0.502294               0.502782   \n",
       "\n",
       "   mean_test_down_accuracy  mean_test_neg_root_mean_squared_error  \n",
       "0                 0.501784                              -0.028603  \n",
       "1                 0.501784                              -0.028603  \n",
       "2                 0.501784                              -0.028603  \n",
       "3                 0.501784                              -0.028603  \n",
       "4                 0.501784                              -0.028603  \n",
       "5                 0.501798                              -0.028603  \n",
       "6                 0.501798                              -0.028603  "
      ]
     },
     "execution_count": 18,
     "metadata": {},
     "output_type": "execute_result"
    }
   ],
   "source": [
    "pd.DataFrame(res_ridge_cv1.cv_results_)[select_cols_ridge_cv_results]"
   ]
  },
  {
   "cell_type": "code",
   "execution_count": 19,
   "metadata": {},
   "outputs": [
    {
     "data": {
      "text/plain": [
       "Mean_Reversion_Sector_Neutral_Smoothed    0.000447\n",
       "Momentum_1YR_Smoothed                     0.000094\n",
       "Overnight_Sentiment_Smoothed              0.000475\n",
       "dtype: float64"
      ]
     },
     "execution_count": 19,
     "metadata": {},
     "output_type": "execute_result"
    }
   ],
   "source": [
    "mod_ridge1 = Ridge(fit_intercept=False, alpha=10000)\n",
    "res_ridge1 = mod_ridge1.fit(X_train_full[features1], y_train_full)\n",
    "p_valid_mod1 =  preds_to_df(X_valid_full[features1], res_ridge1, 'p_valid_mod1')\n",
    "get_reg_coefs(res_ridge1, features1)"
   ]
  },
  {
   "cell_type": "code",
   "execution_count": 20,
   "metadata": {},
   "outputs": [
    {
     "data": {
      "text/plain": [
       "Mean_Reversion_Sector_Neutral_Smoothed    0.000474\n",
       "Momentum_1YR_Smoothed                     0.000100\n",
       "Overnight_Sentiment_Smoothed              0.000502\n",
       "dtype: float64"
      ]
     },
     "execution_count": 20,
     "metadata": {},
     "output_type": "execute_result"
    }
   ],
   "source": [
    "mod_ridge1 = Ridge(fit_intercept=False, alpha=1)\n",
    "res_ridge1 = mod_ridge1.fit(X_train_full[features1], y_train_full)\n",
    "p_valid_ridge1 =  preds_to_df(X_valid_full[features1], res_ridge1, 'p_valid_ridge1')\n",
    "get_reg_coefs(res_ridge1, features1)"
   ]
  },
  {
   "cell_type": "code",
   "execution_count": 21,
   "metadata": {},
   "outputs": [],
   "source": [
    "cv_mean_metrics.loc['ridge1', cv_metrics_cols] = compute_cv_metrics(\n",
    "    mod_ridge1, X_train_full[features1], y_train_full)"
   ]
  },
  {
   "cell_type": "markdown",
   "metadata": {},
   "source": [
    "## Features Set 2: Alpha + Quant Features"
   ]
  },
  {
   "cell_type": "code",
   "execution_count": 22,
   "metadata": {},
   "outputs": [],
   "source": [
    "hpgrid_ridge2 = {'alpha': [10.0**x for x in range(-1,3)]}\n",
    "ridge_cv2 = GridSearchCV(ridge, hpgrid_ridge2, scoring=scoring,\n",
    "                        n_jobs=-1, refit='w_accuracy',\n",
    "                        cv=TimeSeriesSplit(n_splits=KFOLDS).split(y_train_full),\n",
    "                        return_train_score=True)\n",
    "res_ridge_cv2 = ridge_cv2.fit(X_train_full[features2], y_train_full)"
   ]
  },
  {
   "cell_type": "code",
   "execution_count": 23,
   "metadata": {},
   "outputs": [
    {
     "data": {
      "text/plain": [
       "(0.4100953147996997,\n",
       " Ridge(alpha=0.1, copy_X=True, fit_intercept=False, max_iter=None,\n",
       "       normalize=False, random_state=123, solver='auto', tol=0.001))"
      ]
     },
     "execution_count": 23,
     "metadata": {},
     "output_type": "execute_result"
    }
   ],
   "source": [
    "p_valid_mod2 =  preds_to_df(X_valid_full[features2], res_ridge_cv2, 'p_valid_mod2')\n",
    "res_ridge_cv2.best_score_, res_ridge_cv2.best_estimator_"
   ]
  },
  {
   "cell_type": "code",
   "execution_count": 24,
   "metadata": {},
   "outputs": [
    {
     "data": {
      "text/plain": [
       "Mean_Reversion_Sector_Neutral_Smoothed    0.000474\n",
       "Momentum_1YR_Smoothed                     0.000100\n",
       "Overnight_Sentiment_Smoothed              0.000502\n",
       "adv_20d                                  -0.000004\n",
       "dtype: float64"
      ]
     },
     "execution_count": 24,
     "metadata": {},
     "output_type": "execute_result"
    }
   ],
   "source": [
    "get_reg_coefs(res_ridge_cv2.best_estimator_, features2)"
   ]
  },
  {
   "cell_type": "code",
   "execution_count": 25,
   "metadata": {},
   "outputs": [
    {
     "data": {
      "text/html": [
       "<div>\n",
       "<style scoped>\n",
       "    .dataframe tbody tr th:only-of-type {\n",
       "        vertical-align: middle;\n",
       "    }\n",
       "\n",
       "    .dataframe tbody tr th {\n",
       "        vertical-align: top;\n",
       "    }\n",
       "\n",
       "    .dataframe thead th {\n",
       "        text-align: right;\n",
       "    }\n",
       "</style>\n",
       "<table border=\"1\" class=\"dataframe\">\n",
       "  <thead>\n",
       "    <tr style=\"text-align: right;\">\n",
       "      <th></th>\n",
       "      <th>rank_test_w_accuracy</th>\n",
       "      <th>param_alpha</th>\n",
       "      <th>mean_test_w_accuracy</th>\n",
       "      <th>std_test_w_accuracy</th>\n",
       "      <th>mean_test_accuracy</th>\n",
       "      <th>mean_test_up_accuracy</th>\n",
       "      <th>mean_test_down_accuracy</th>\n",
       "      <th>mean_test_neg_root_mean_squared_error</th>\n",
       "    </tr>\n",
       "  </thead>\n",
       "  <tbody>\n",
       "    <tr>\n",
       "      <th>0</th>\n",
       "      <td>1</td>\n",
       "      <td>0.1</td>\n",
       "      <td>0.410095</td>\n",
       "      <td>0.005472</td>\n",
       "      <td>0.501501</td>\n",
       "      <td>0.502445</td>\n",
       "      <td>0.500321</td>\n",
       "      <td>-0.028604</td>\n",
       "    </tr>\n",
       "    <tr>\n",
       "      <th>1</th>\n",
       "      <td>1</td>\n",
       "      <td>1</td>\n",
       "      <td>0.410095</td>\n",
       "      <td>0.005472</td>\n",
       "      <td>0.501501</td>\n",
       "      <td>0.502445</td>\n",
       "      <td>0.500321</td>\n",
       "      <td>-0.028604</td>\n",
       "    </tr>\n",
       "    <tr>\n",
       "      <th>2</th>\n",
       "      <td>1</td>\n",
       "      <td>10</td>\n",
       "      <td>0.410095</td>\n",
       "      <td>0.005472</td>\n",
       "      <td>0.501501</td>\n",
       "      <td>0.502445</td>\n",
       "      <td>0.500321</td>\n",
       "      <td>-0.028604</td>\n",
       "    </tr>\n",
       "    <tr>\n",
       "      <th>3</th>\n",
       "      <td>4</td>\n",
       "      <td>100</td>\n",
       "      <td>0.410092</td>\n",
       "      <td>0.005453</td>\n",
       "      <td>0.501494</td>\n",
       "      <td>0.502424</td>\n",
       "      <td>0.500334</td>\n",
       "      <td>-0.028604</td>\n",
       "    </tr>\n",
       "  </tbody>\n",
       "</table>\n",
       "</div>"
      ],
      "text/plain": [
       "   rank_test_w_accuracy param_alpha  mean_test_w_accuracy  \\\n",
       "0                     1         0.1              0.410095   \n",
       "1                     1           1              0.410095   \n",
       "2                     1          10              0.410095   \n",
       "3                     4         100              0.410092   \n",
       "\n",
       "   std_test_w_accuracy  mean_test_accuracy  mean_test_up_accuracy  \\\n",
       "0             0.005472            0.501501               0.502445   \n",
       "1             0.005472            0.501501               0.502445   \n",
       "2             0.005472            0.501501               0.502445   \n",
       "3             0.005453            0.501494               0.502424   \n",
       "\n",
       "   mean_test_down_accuracy  mean_test_neg_root_mean_squared_error  \n",
       "0                 0.500321                              -0.028604  \n",
       "1                 0.500321                              -0.028604  \n",
       "2                 0.500321                              -0.028604  \n",
       "3                 0.500334                              -0.028604  "
      ]
     },
     "execution_count": 25,
     "metadata": {},
     "output_type": "execute_result"
    }
   ],
   "source": [
    "pd.DataFrame(res_ridge_cv2.cv_results_)[select_cols_ridge_cv_results]"
   ]
  },
  {
   "cell_type": "code",
   "execution_count": 26,
   "metadata": {},
   "outputs": [
    {
     "data": {
      "text/plain": [
       "Mean_Reversion_Sector_Neutral_Smoothed    0.000474\n",
       "Momentum_1YR_Smoothed                     0.000100\n",
       "Overnight_Sentiment_Smoothed              0.000502\n",
       "adv_20d                                  -0.000004\n",
       "dtype: float64"
      ]
     },
     "execution_count": 26,
     "metadata": {},
     "output_type": "execute_result"
    }
   ],
   "source": [
    "mod_ridge2 = Ridge(fit_intercept=False, alpha=1)\n",
    "res_ridge2 = mod_ridge2.fit(X_train_full[features2], y_train_full)\n",
    "p_valid_ridge2 =  preds_to_df(X_valid_full[features2], res_ridge2, 'p_valid_ridge2')\n",
    "get_reg_coefs(res_ridge2, features2)"
   ]
  },
  {
   "cell_type": "code",
   "execution_count": 27,
   "metadata": {},
   "outputs": [],
   "source": [
    "cv_mean_metrics.loc['ridge2', cv_metrics_cols] = compute_cv_metrics(\n",
    "    mod_ridge2, X_train_full[features2], y_train_full)"
   ]
  },
  {
   "cell_type": "markdown",
   "metadata": {},
   "source": [
    "## Features Set 3: Alpha + Sectors"
   ]
  },
  {
   "cell_type": "code",
   "execution_count": 28,
   "metadata": {},
   "outputs": [],
   "source": [
    "hpgrid_ridge3 = {'alpha': [10.0**x for x in range(-1,8)]}\n",
    "ridge_cv3 = GridSearchCV(ridge, hpgrid_ridge3, scoring=scoring,\n",
    "                        n_jobs=-1, refit='w_accuracy',\n",
    "                        cv=TimeSeriesSplit(n_splits=KFOLDS).split(y_train_full),\n",
    "                        return_train_score=True)\n",
    "res_ridge_cv3 = ridge_cv3.fit(X_train_full[features3], y_train_full)"
   ]
  },
  {
   "cell_type": "code",
   "execution_count": 29,
   "metadata": {},
   "outputs": [
    {
     "data": {
      "text/plain": [
       "0.393880171353562"
      ]
     },
     "execution_count": 29,
     "metadata": {},
     "output_type": "execute_result"
    }
   ],
   "source": [
    "p_valid_ridge3 =  preds_to_df(X_valid_full[features3], res_ridge_cv3, 'p_valid_ridge3')\n",
    "res_ridge_cv3.best_score_"
   ]
  },
  {
   "cell_type": "code",
   "execution_count": 30,
   "metadata": {},
   "outputs": [
    {
     "data": {
      "text/plain": [
       "Mean_Reversion_Sector_Neutral_Smoothed    7.605820e-06\n",
       "Momentum_1YR_Smoothed                     1.848368e-06\n",
       "Overnight_Sentiment_Smoothed              8.769945e-06\n",
       "sector_code_-1                            1.958652e-07\n",
       "sector_code_0                             1.215250e-05\n",
       "sector_code_1                             9.831731e-06\n",
       "sector_code_2                             4.998922e-06\n",
       "sector_code_3                             1.097825e-05\n",
       "sector_code_4                             3.464816e-06\n",
       "sector_code_5                             1.020148e-05\n",
       "sector_code_6                             2.852971e-06\n",
       "sector_code_7                             1.706206e-06\n",
       "sector_code_8                             1.261468e-05\n",
       "sector_code_9                             3.921960e-06\n",
       "sector_code_10                            1.559683e-06\n",
       "dtype: float64"
      ]
     },
     "execution_count": 30,
     "metadata": {},
     "output_type": "execute_result"
    }
   ],
   "source": [
    "get_reg_coefs(res_ridge_cv3.best_estimator_, features3)"
   ]
  },
  {
   "cell_type": "code",
   "execution_count": 31,
   "metadata": {},
   "outputs": [
    {
     "data": {
      "text/html": [
       "<div>\n",
       "<style scoped>\n",
       "    .dataframe tbody tr th:only-of-type {\n",
       "        vertical-align: middle;\n",
       "    }\n",
       "\n",
       "    .dataframe tbody tr th {\n",
       "        vertical-align: top;\n",
       "    }\n",
       "\n",
       "    .dataframe thead th {\n",
       "        text-align: right;\n",
       "    }\n",
       "</style>\n",
       "<table border=\"1\" class=\"dataframe\">\n",
       "  <thead>\n",
       "    <tr style=\"text-align: right;\">\n",
       "      <th></th>\n",
       "      <th>rank_test_w_accuracy</th>\n",
       "      <th>param_alpha</th>\n",
       "      <th>mean_test_w_accuracy</th>\n",
       "      <th>std_test_w_accuracy</th>\n",
       "      <th>mean_test_accuracy</th>\n",
       "      <th>mean_test_up_accuracy</th>\n",
       "      <th>mean_test_down_accuracy</th>\n",
       "      <th>mean_test_neg_root_mean_squared_error</th>\n",
       "    </tr>\n",
       "  </thead>\n",
       "  <tbody>\n",
       "    <tr>\n",
       "      <th>0</th>\n",
       "      <td>7</td>\n",
       "      <td>0.1</td>\n",
       "      <td>0.382951</td>\n",
       "      <td>0.019851</td>\n",
       "      <td>0.551698</td>\n",
       "      <td>0.988327</td>\n",
       "      <td>0.010290</td>\n",
       "      <td>-0.028515</td>\n",
       "    </tr>\n",
       "    <tr>\n",
       "      <th>1</th>\n",
       "      <td>8</td>\n",
       "      <td>1</td>\n",
       "      <td>0.382943</td>\n",
       "      <td>0.019840</td>\n",
       "      <td>0.551686</td>\n",
       "      <td>0.988306</td>\n",
       "      <td>0.010290</td>\n",
       "      <td>-0.028515</td>\n",
       "    </tr>\n",
       "    <tr>\n",
       "      <th>2</th>\n",
       "      <td>9</td>\n",
       "      <td>10</td>\n",
       "      <td>0.382933</td>\n",
       "      <td>0.019827</td>\n",
       "      <td>0.551667</td>\n",
       "      <td>0.988252</td>\n",
       "      <td>0.010320</td>\n",
       "      <td>-0.028515</td>\n",
       "    </tr>\n",
       "    <tr>\n",
       "      <th>3</th>\n",
       "      <td>6</td>\n",
       "      <td>100</td>\n",
       "      <td>0.382971</td>\n",
       "      <td>0.019882</td>\n",
       "      <td>0.551674</td>\n",
       "      <td>0.988057</td>\n",
       "      <td>0.010597</td>\n",
       "      <td>-0.028512</td>\n",
       "    </tr>\n",
       "    <tr>\n",
       "      <th>4</th>\n",
       "      <td>5</td>\n",
       "      <td>1000</td>\n",
       "      <td>0.383288</td>\n",
       "      <td>0.020417</td>\n",
       "      <td>0.551531</td>\n",
       "      <td>0.985288</td>\n",
       "      <td>0.014005</td>\n",
       "      <td>-0.028499</td>\n",
       "    </tr>\n",
       "    <tr>\n",
       "      <th>5</th>\n",
       "      <td>4</td>\n",
       "      <td>10000</td>\n",
       "      <td>0.384703</td>\n",
       "      <td>0.021414</td>\n",
       "      <td>0.549658</td>\n",
       "      <td>0.964759</td>\n",
       "      <td>0.036555</td>\n",
       "      <td>-0.028490</td>\n",
       "    </tr>\n",
       "    <tr>\n",
       "      <th>6</th>\n",
       "      <td>3</td>\n",
       "      <td>100000</td>\n",
       "      <td>0.389542</td>\n",
       "      <td>0.020939</td>\n",
       "      <td>0.541206</td>\n",
       "      <td>0.879399</td>\n",
       "      <td>0.125163</td>\n",
       "      <td>-0.028565</td>\n",
       "    </tr>\n",
       "    <tr>\n",
       "      <th>7</th>\n",
       "      <td>2</td>\n",
       "      <td>1e+06</td>\n",
       "      <td>0.393643</td>\n",
       "      <td>0.016583</td>\n",
       "      <td>0.534869</td>\n",
       "      <td>0.810597</td>\n",
       "      <td>0.194720</td>\n",
       "      <td>-0.028601</td>\n",
       "    </tr>\n",
       "    <tr>\n",
       "      <th>8</th>\n",
       "      <td>1</td>\n",
       "      <td>1e+07</td>\n",
       "      <td>0.393880</td>\n",
       "      <td>0.015913</td>\n",
       "      <td>0.533244</td>\n",
       "      <td>0.798329</td>\n",
       "      <td>0.205882</td>\n",
       "      <td>-0.028606</td>\n",
       "    </tr>\n",
       "  </tbody>\n",
       "</table>\n",
       "</div>"
      ],
      "text/plain": [
       "   rank_test_w_accuracy param_alpha  mean_test_w_accuracy  \\\n",
       "0                     7         0.1              0.382951   \n",
       "1                     8           1              0.382943   \n",
       "2                     9          10              0.382933   \n",
       "3                     6         100              0.382971   \n",
       "4                     5        1000              0.383288   \n",
       "5                     4       10000              0.384703   \n",
       "6                     3      100000              0.389542   \n",
       "7                     2       1e+06              0.393643   \n",
       "8                     1       1e+07              0.393880   \n",
       "\n",
       "   std_test_w_accuracy  mean_test_accuracy  mean_test_up_accuracy  \\\n",
       "0             0.019851            0.551698               0.988327   \n",
       "1             0.019840            0.551686               0.988306   \n",
       "2             0.019827            0.551667               0.988252   \n",
       "3             0.019882            0.551674               0.988057   \n",
       "4             0.020417            0.551531               0.985288   \n",
       "5             0.021414            0.549658               0.964759   \n",
       "6             0.020939            0.541206               0.879399   \n",
       "7             0.016583            0.534869               0.810597   \n",
       "8             0.015913            0.533244               0.798329   \n",
       "\n",
       "   mean_test_down_accuracy  mean_test_neg_root_mean_squared_error  \n",
       "0                 0.010290                              -0.028515  \n",
       "1                 0.010290                              -0.028515  \n",
       "2                 0.010320                              -0.028515  \n",
       "3                 0.010597                              -0.028512  \n",
       "4                 0.014005                              -0.028499  \n",
       "5                 0.036555                              -0.028490  \n",
       "6                 0.125163                              -0.028565  \n",
       "7                 0.194720                              -0.028601  \n",
       "8                 0.205882                              -0.028606  "
      ]
     },
     "execution_count": 31,
     "metadata": {},
     "output_type": "execute_result"
    }
   ],
   "source": [
    "ridge3_cv_summary_df = pd.DataFrame(res_ridge_cv3.cv_results_)[select_cols_ridge_cv_results]\n",
    "ridge3_cv_summary_df"
   ]
  },
  {
   "cell_type": "code",
   "execution_count": 32,
   "metadata": {},
   "outputs": [],
   "source": [
    "cv_mean_metrics.loc['ridge3', cv_metrics_cols] = ridge3_cv_summary_df.loc[ridge3_cv_summary_df['rank_test_w_accuracy']==1, cv_metrics_cols].iloc[0]"
   ]
  },
  {
   "cell_type": "markdown",
   "metadata": {},
   "source": [
    "## Features Set 4: Special Dates"
   ]
  },
  {
   "cell_type": "code",
   "execution_count": 33,
   "metadata": {},
   "outputs": [],
   "source": [
    "hpgrid_ridge4 = {'alpha': [10.0**x for x in range(-1,6)]}\n",
    "ridge_cv4 = GridSearchCV(ridge, hpgrid_ridge4, scoring=scoring,\n",
    "                        n_jobs=-1, refit='w_accuracy',\n",
    "                        cv=TimeSeriesSplit(n_splits=KFOLDS).split(y_train_full),\n",
    "                        return_train_score=True)\n",
    "res_ridge_cv4 = ridge_cv4.fit(X_train_full[features4], y_train_full)"
   ]
  },
  {
   "cell_type": "code",
   "execution_count": 34,
   "metadata": {},
   "outputs": [
    {
     "data": {
      "text/plain": [
       "(0.41352853676058077,\n",
       " Ridge(alpha=100.0, copy_X=True, fit_intercept=False, max_iter=None,\n",
       "       normalize=False, random_state=123, solver='auto', tol=0.001))"
      ]
     },
     "execution_count": 34,
     "metadata": {},
     "output_type": "execute_result"
    }
   ],
   "source": [
    "p_valid_mod4 =  preds_to_df(X_valid_full[features4], res_ridge_cv4, 'p_valid_mod4')\n",
    "res_ridge_cv4.best_score_, res_ridge_cv4.best_estimator_"
   ]
  },
  {
   "cell_type": "code",
   "execution_count": 35,
   "metadata": {},
   "outputs": [
    {
     "data": {
      "text/plain": [
       "Mean_Reversion_Sector_Neutral_Smoothed    0.000474\n",
       "Momentum_1YR_Smoothed                     0.000100\n",
       "Overnight_Sentiment_Smoothed              0.000501\n",
       "is_December                               0.005427\n",
       "qtr_end                                   0.001491\n",
       "qtr_start                                -0.007862\n",
       "dtype: float64"
      ]
     },
     "execution_count": 35,
     "metadata": {},
     "output_type": "execute_result"
    }
   ],
   "source": [
    "get_reg_coefs(res_ridge_cv4.best_estimator_, features4)"
   ]
  },
  {
   "cell_type": "code",
   "execution_count": 36,
   "metadata": {},
   "outputs": [
    {
     "data": {
      "text/html": [
       "<div>\n",
       "<style scoped>\n",
       "    .dataframe tbody tr th:only-of-type {\n",
       "        vertical-align: middle;\n",
       "    }\n",
       "\n",
       "    .dataframe tbody tr th {\n",
       "        vertical-align: top;\n",
       "    }\n",
       "\n",
       "    .dataframe thead th {\n",
       "        text-align: right;\n",
       "    }\n",
       "</style>\n",
       "<table border=\"1\" class=\"dataframe\">\n",
       "  <thead>\n",
       "    <tr style=\"text-align: right;\">\n",
       "      <th></th>\n",
       "      <th>rank_test_w_accuracy</th>\n",
       "      <th>param_alpha</th>\n",
       "      <th>mean_test_w_accuracy</th>\n",
       "      <th>std_test_w_accuracy</th>\n",
       "      <th>mean_test_accuracy</th>\n",
       "      <th>mean_test_up_accuracy</th>\n",
       "      <th>mean_test_down_accuracy</th>\n",
       "      <th>mean_test_neg_root_mean_squared_error</th>\n",
       "    </tr>\n",
       "  </thead>\n",
       "  <tbody>\n",
       "    <tr>\n",
       "      <th>0</th>\n",
       "      <td>2</td>\n",
       "      <td>0.1</td>\n",
       "      <td>0.413517</td>\n",
       "      <td>0.004804</td>\n",
       "      <td>0.504626</td>\n",
       "      <td>0.503689</td>\n",
       "      <td>0.506221</td>\n",
       "      <td>-0.028623</td>\n",
       "    </tr>\n",
       "    <tr>\n",
       "      <th>1</th>\n",
       "      <td>2</td>\n",
       "      <td>1</td>\n",
       "      <td>0.413517</td>\n",
       "      <td>0.004804</td>\n",
       "      <td>0.504626</td>\n",
       "      <td>0.503689</td>\n",
       "      <td>0.506221</td>\n",
       "      <td>-0.028623</td>\n",
       "    </tr>\n",
       "    <tr>\n",
       "      <th>2</th>\n",
       "      <td>2</td>\n",
       "      <td>10</td>\n",
       "      <td>0.413517</td>\n",
       "      <td>0.004804</td>\n",
       "      <td>0.504626</td>\n",
       "      <td>0.503689</td>\n",
       "      <td>0.506221</td>\n",
       "      <td>-0.028622</td>\n",
       "    </tr>\n",
       "    <tr>\n",
       "      <th>3</th>\n",
       "      <td>1</td>\n",
       "      <td>100</td>\n",
       "      <td>0.413529</td>\n",
       "      <td>0.004816</td>\n",
       "      <td>0.504632</td>\n",
       "      <td>0.503667</td>\n",
       "      <td>0.506264</td>\n",
       "      <td>-0.028617</td>\n",
       "    </tr>\n",
       "    <tr>\n",
       "      <th>4</th>\n",
       "      <td>5</td>\n",
       "      <td>1000</td>\n",
       "      <td>0.413330</td>\n",
       "      <td>0.005046</td>\n",
       "      <td>0.504459</td>\n",
       "      <td>0.503668</td>\n",
       "      <td>0.505881</td>\n",
       "      <td>-0.028602</td>\n",
       "    </tr>\n",
       "    <tr>\n",
       "      <th>5</th>\n",
       "      <td>6</td>\n",
       "      <td>10000</td>\n",
       "      <td>0.412431</td>\n",
       "      <td>0.005210</td>\n",
       "      <td>0.503652</td>\n",
       "      <td>0.503356</td>\n",
       "      <td>0.504193</td>\n",
       "      <td>-0.028600</td>\n",
       "    </tr>\n",
       "    <tr>\n",
       "      <th>6</th>\n",
       "      <td>7</td>\n",
       "      <td>100000</td>\n",
       "      <td>0.411537</td>\n",
       "      <td>0.005061</td>\n",
       "      <td>0.502784</td>\n",
       "      <td>0.502731</td>\n",
       "      <td>0.502981</td>\n",
       "      <td>-0.028602</td>\n",
       "    </tr>\n",
       "  </tbody>\n",
       "</table>\n",
       "</div>"
      ],
      "text/plain": [
       "   rank_test_w_accuracy param_alpha  mean_test_w_accuracy  \\\n",
       "0                     2         0.1              0.413517   \n",
       "1                     2           1              0.413517   \n",
       "2                     2          10              0.413517   \n",
       "3                     1         100              0.413529   \n",
       "4                     5        1000              0.413330   \n",
       "5                     6       10000              0.412431   \n",
       "6                     7      100000              0.411537   \n",
       "\n",
       "   std_test_w_accuracy  mean_test_accuracy  mean_test_up_accuracy  \\\n",
       "0             0.004804            0.504626               0.503689   \n",
       "1             0.004804            0.504626               0.503689   \n",
       "2             0.004804            0.504626               0.503689   \n",
       "3             0.004816            0.504632               0.503667   \n",
       "4             0.005046            0.504459               0.503668   \n",
       "5             0.005210            0.503652               0.503356   \n",
       "6             0.005061            0.502784               0.502731   \n",
       "\n",
       "   mean_test_down_accuracy  mean_test_neg_root_mean_squared_error  \n",
       "0                 0.506221                              -0.028623  \n",
       "1                 0.506221                              -0.028623  \n",
       "2                 0.506221                              -0.028622  \n",
       "3                 0.506264                              -0.028617  \n",
       "4                 0.505881                              -0.028602  \n",
       "5                 0.504193                              -0.028600  \n",
       "6                 0.502981                              -0.028602  "
      ]
     },
     "execution_count": 36,
     "metadata": {},
     "output_type": "execute_result"
    }
   ],
   "source": [
    "pd.DataFrame(res_ridge_cv4.cv_results_)[select_cols_ridge_cv_results]"
   ]
  },
  {
   "cell_type": "code",
   "execution_count": 37,
   "metadata": {},
   "outputs": [
    {
     "data": {
      "text/plain": [
       "Mean_Reversion_Sector_Neutral_Smoothed    0.000474\n",
       "Momentum_1YR_Smoothed                     0.000100\n",
       "Overnight_Sentiment_Smoothed              0.000502\n",
       "is_December                               0.005474\n",
       "qtr_end                                   0.001529\n",
       "qtr_start                                -0.008108\n",
       "dtype: float64"
      ]
     },
     "execution_count": 37,
     "metadata": {},
     "output_type": "execute_result"
    }
   ],
   "source": [
    "mod_ridge4 = Ridge(fit_intercept=False, alpha=10)\n",
    "res_ridge4 = mod_ridge4.fit(X_train_full[features4], y_train_full)\n",
    "p_valid_ridge4 =  preds_to_df(X_valid_full[features4], res_ridge4, 'p_valid_ridge4')\n",
    "get_reg_coefs(res_ridge4, features4)"
   ]
  },
  {
   "cell_type": "code",
   "execution_count": 38,
   "metadata": {},
   "outputs": [],
   "source": [
    "cv_mean_metrics.loc['ridge4', cv_metrics_cols] = compute_cv_metrics(\n",
    "    mod_ridge4, X_train_full[features4], y_train_full)"
   ]
  },
  {
   "cell_type": "markdown",
   "metadata": {},
   "source": [
    "## Features Set 5: Weekday"
   ]
  },
  {
   "cell_type": "code",
   "execution_count": 39,
   "metadata": {},
   "outputs": [],
   "source": [
    "hpgrid_ridge5 = {'alpha': [10.0**x for x in range(-1,8)]}\n",
    "ridge_cv5 = GridSearchCV(ridge, hpgrid_ridge5, scoring=scoring,\n",
    "                        n_jobs=-1, refit='w_accuracy',\n",
    "                        cv=TimeSeriesSplit(n_splits=KFOLDS).split(y_train_full),\n",
    "                        return_train_score=True)\n",
    "res_ridge_cv5 = ridge_cv5.fit(X_train_full[features5], y_train_full)"
   ]
  },
  {
   "cell_type": "code",
   "execution_count": 40,
   "metadata": {},
   "outputs": [
    {
     "data": {
      "text/plain": [
       "(0.38686431973859164,\n",
       " Ridge(alpha=10000000.0, copy_X=True, fit_intercept=False, max_iter=None,\n",
       "       normalize=False, random_state=123, solver='auto', tol=0.001))"
      ]
     },
     "execution_count": 40,
     "metadata": {},
     "output_type": "execute_result"
    }
   ],
   "source": [
    "p_valid_ridge5 =  preds_to_df(X_valid_full[features5], res_ridge_cv5, 'p_valid_ridge5')\n",
    "res_ridge_cv5.best_score_, res_ridge_cv5.best_estimator_"
   ]
  },
  {
   "cell_type": "code",
   "execution_count": 41,
   "metadata": {},
   "outputs": [
    {
     "data": {
      "text/plain": [
       "Mean_Reversion_Sector_Neutral_Smoothed    0.000008\n",
       "Momentum_1YR_Smoothed                     0.000002\n",
       "Overnight_Sentiment_Smoothed              0.000009\n",
       "weekday_0                                 0.000020\n",
       "weekday_1                                 0.000013\n",
       "weekday_2                                 0.000016\n",
       "weekday_3                                 0.000016\n",
       "weekday_4                                 0.000010\n",
       "dtype: float64"
      ]
     },
     "execution_count": 41,
     "metadata": {},
     "output_type": "execute_result"
    }
   ],
   "source": [
    "get_reg_coefs(res_ridge_cv5.best_estimator_, features5)"
   ]
  },
  {
   "cell_type": "code",
   "execution_count": 42,
   "metadata": {},
   "outputs": [
    {
     "data": {
      "text/html": [
       "<div>\n",
       "<style scoped>\n",
       "    .dataframe tbody tr th:only-of-type {\n",
       "        vertical-align: middle;\n",
       "    }\n",
       "\n",
       "    .dataframe tbody tr th {\n",
       "        vertical-align: top;\n",
       "    }\n",
       "\n",
       "    .dataframe thead th {\n",
       "        text-align: right;\n",
       "    }\n",
       "</style>\n",
       "<table border=\"1\" class=\"dataframe\">\n",
       "  <thead>\n",
       "    <tr style=\"text-align: right;\">\n",
       "      <th></th>\n",
       "      <th>rank_test_w_accuracy</th>\n",
       "      <th>param_alpha</th>\n",
       "      <th>mean_test_w_accuracy</th>\n",
       "      <th>std_test_w_accuracy</th>\n",
       "      <th>mean_test_accuracy</th>\n",
       "      <th>mean_test_up_accuracy</th>\n",
       "      <th>mean_test_down_accuracy</th>\n",
       "      <th>mean_test_neg_root_mean_squared_error</th>\n",
       "    </tr>\n",
       "  </thead>\n",
       "  <tbody>\n",
       "    <tr>\n",
       "      <th>0</th>\n",
       "      <td>5</td>\n",
       "      <td>0.1</td>\n",
       "      <td>0.383138</td>\n",
       "      <td>0.018824</td>\n",
       "      <td>0.553745</td>\n",
       "      <td>1.000000</td>\n",
       "      <td>0.000000</td>\n",
       "      <td>-0.028512</td>\n",
       "    </tr>\n",
       "    <tr>\n",
       "      <th>1</th>\n",
       "      <td>5</td>\n",
       "      <td>1</td>\n",
       "      <td>0.383138</td>\n",
       "      <td>0.018824</td>\n",
       "      <td>0.553745</td>\n",
       "      <td>1.000000</td>\n",
       "      <td>0.000000</td>\n",
       "      <td>-0.028512</td>\n",
       "    </tr>\n",
       "    <tr>\n",
       "      <th>2</th>\n",
       "      <td>5</td>\n",
       "      <td>10</td>\n",
       "      <td>0.383138</td>\n",
       "      <td>0.018824</td>\n",
       "      <td>0.553745</td>\n",
       "      <td>1.000000</td>\n",
       "      <td>0.000000</td>\n",
       "      <td>-0.028512</td>\n",
       "    </tr>\n",
       "    <tr>\n",
       "      <th>3</th>\n",
       "      <td>5</td>\n",
       "      <td>100</td>\n",
       "      <td>0.383138</td>\n",
       "      <td>0.018824</td>\n",
       "      <td>0.553745</td>\n",
       "      <td>1.000000</td>\n",
       "      <td>0.000000</td>\n",
       "      <td>-0.028510</td>\n",
       "    </tr>\n",
       "    <tr>\n",
       "      <th>4</th>\n",
       "      <td>5</td>\n",
       "      <td>1000</td>\n",
       "      <td>0.383138</td>\n",
       "      <td>0.018824</td>\n",
       "      <td>0.553745</td>\n",
       "      <td>1.000000</td>\n",
       "      <td>0.000000</td>\n",
       "      <td>-0.028501</td>\n",
       "    </tr>\n",
       "    <tr>\n",
       "      <th>5</th>\n",
       "      <td>4</td>\n",
       "      <td>10000</td>\n",
       "      <td>0.383230</td>\n",
       "      <td>0.018940</td>\n",
       "      <td>0.553596</td>\n",
       "      <td>0.998552</td>\n",
       "      <td>0.001632</td>\n",
       "      <td>-0.028477</td>\n",
       "    </tr>\n",
       "    <tr>\n",
       "      <th>6</th>\n",
       "      <td>3</td>\n",
       "      <td>100000</td>\n",
       "      <td>0.383683</td>\n",
       "      <td>0.018757</td>\n",
       "      <td>0.549975</td>\n",
       "      <td>0.973471</td>\n",
       "      <td>0.026585</td>\n",
       "      <td>-0.028546</td>\n",
       "    </tr>\n",
       "    <tr>\n",
       "      <th>7</th>\n",
       "      <td>2</td>\n",
       "      <td>1e+06</td>\n",
       "      <td>0.386149</td>\n",
       "      <td>0.016981</td>\n",
       "      <td>0.546421</td>\n",
       "      <td>0.933420</td>\n",
       "      <td>0.068126</td>\n",
       "      <td>-0.028597</td>\n",
       "    </tr>\n",
       "    <tr>\n",
       "      <th>8</th>\n",
       "      <td>1</td>\n",
       "      <td>1e+07</td>\n",
       "      <td>0.386864</td>\n",
       "      <td>0.016656</td>\n",
       "      <td>0.545863</td>\n",
       "      <td>0.924812</td>\n",
       "      <td>0.077291</td>\n",
       "      <td>-0.028605</td>\n",
       "    </tr>\n",
       "  </tbody>\n",
       "</table>\n",
       "</div>"
      ],
      "text/plain": [
       "   rank_test_w_accuracy param_alpha  mean_test_w_accuracy  \\\n",
       "0                     5         0.1              0.383138   \n",
       "1                     5           1              0.383138   \n",
       "2                     5          10              0.383138   \n",
       "3                     5         100              0.383138   \n",
       "4                     5        1000              0.383138   \n",
       "5                     4       10000              0.383230   \n",
       "6                     3      100000              0.383683   \n",
       "7                     2       1e+06              0.386149   \n",
       "8                     1       1e+07              0.386864   \n",
       "\n",
       "   std_test_w_accuracy  mean_test_accuracy  mean_test_up_accuracy  \\\n",
       "0             0.018824            0.553745               1.000000   \n",
       "1             0.018824            0.553745               1.000000   \n",
       "2             0.018824            0.553745               1.000000   \n",
       "3             0.018824            0.553745               1.000000   \n",
       "4             0.018824            0.553745               1.000000   \n",
       "5             0.018940            0.553596               0.998552   \n",
       "6             0.018757            0.549975               0.973471   \n",
       "7             0.016981            0.546421               0.933420   \n",
       "8             0.016656            0.545863               0.924812   \n",
       "\n",
       "   mean_test_down_accuracy  mean_test_neg_root_mean_squared_error  \n",
       "0                 0.000000                              -0.028512  \n",
       "1                 0.000000                              -0.028512  \n",
       "2                 0.000000                              -0.028512  \n",
       "3                 0.000000                              -0.028510  \n",
       "4                 0.000000                              -0.028501  \n",
       "5                 0.001632                              -0.028477  \n",
       "6                 0.026585                              -0.028546  \n",
       "7                 0.068126                              -0.028597  \n",
       "8                 0.077291                              -0.028605  "
      ]
     },
     "execution_count": 42,
     "metadata": {},
     "output_type": "execute_result"
    }
   ],
   "source": [
    "pd.DataFrame(res_ridge_cv5.cv_results_)[select_cols_ridge_cv_results]"
   ]
  },
  {
   "cell_type": "code",
   "execution_count": 43,
   "metadata": {},
   "outputs": [
    {
     "data": {
      "text/plain": [
       "Mean_Reversion_Sector_Neutral_Smoothed    0.000067\n",
       "Momentum_1YR_Smoothed                     0.000016\n",
       "Overnight_Sentiment_Smoothed              0.000076\n",
       "weekday_0                                 0.000195\n",
       "weekday_1                                 0.000122\n",
       "weekday_2                                 0.000153\n",
       "weekday_3                                 0.000151\n",
       "weekday_4                                 0.000096\n",
       "dtype: float64"
      ]
     },
     "execution_count": 43,
     "metadata": {},
     "output_type": "execute_result"
    }
   ],
   "source": [
    "mod_ridge5 = Ridge(fit_intercept=False, alpha=1e6)\n",
    "res_ridge5 = mod_ridge5.fit(X_train_full[features5], y_train_full)\n",
    "p_valid_mod5 = preds_to_df(X_valid_full[features5], res_ridge5, 'p_valid_mod5')\n",
    "get_reg_coefs(res_ridge5, features5)"
   ]
  },
  {
   "cell_type": "code",
   "execution_count": 44,
   "metadata": {},
   "outputs": [],
   "source": [
    "cv_mean_metrics.loc['ridge5', cv_metrics_cols] = compute_cv_metrics(\n",
    "    mod_ridge5, X_train_full[features5], y_train_full)"
   ]
  },
  {
   "cell_type": "markdown",
   "metadata": {},
   "source": [
    "## Features Set 6: Quarter"
   ]
  },
  {
   "cell_type": "code",
   "execution_count": 45,
   "metadata": {},
   "outputs": [],
   "source": [
    "hpgrid_ridge6 = {'alpha': [10.0**x for x in range(-1,6)]}\n",
    "ridge_cv6 = GridSearchCV(ridge, hpgrid_ridge6, scoring=scoring,\n",
    "                        n_jobs=-1, refit='w_accuracy',\n",
    "                        cv=TimeSeriesSplit(n_splits=KFOLDS).split(y_train_full),\n",
    "                        return_train_score=True)\n",
    "res_ridge_cv6 = ridge_cv6.fit(X_train_full[features6], y_train_full)"
   ]
  },
  {
   "cell_type": "code",
   "execution_count": 46,
   "metadata": {},
   "outputs": [
    {
     "data": {
      "text/plain": [
       "(0.3876591242954706,\n",
       " Ridge(alpha=10000.0, copy_X=True, fit_intercept=False, max_iter=None,\n",
       "       normalize=False, random_state=123, solver='auto', tol=0.001))"
      ]
     },
     "execution_count": 46,
     "metadata": {},
     "output_type": "execute_result"
    }
   ],
   "source": [
    "p_valid_ridge6 =  preds_to_df(X_valid_full[features6], res_ridge_cv6, 'p_valid_ridge6')\n",
    "res_ridge_cv6.best_score_, res_ridge_cv6.best_estimator_"
   ]
  },
  {
   "cell_type": "code",
   "execution_count": 47,
   "metadata": {},
   "outputs": [
    {
     "data": {
      "text/plain": [
       "Mean_Reversion_Sector_Neutral_Smoothed    0.000445\n",
       "Momentum_1YR_Smoothed                     0.000083\n",
       "Overnight_Sentiment_Smoothed              0.000475\n",
       "qtr_1                                     0.004203\n",
       "qtr_2                                     0.003007\n",
       "qtr_3                                     0.001599\n",
       "qtr_4                                     0.003005\n",
       "dtype: float64"
      ]
     },
     "execution_count": 47,
     "metadata": {},
     "output_type": "execute_result"
    }
   ],
   "source": [
    "get_reg_coefs(res_ridge_cv6.best_estimator_, features6)"
   ]
  },
  {
   "cell_type": "code",
   "execution_count": 48,
   "metadata": {},
   "outputs": [
    {
     "data": {
      "text/html": [
       "<div>\n",
       "<style scoped>\n",
       "    .dataframe tbody tr th:only-of-type {\n",
       "        vertical-align: middle;\n",
       "    }\n",
       "\n",
       "    .dataframe tbody tr th {\n",
       "        vertical-align: top;\n",
       "    }\n",
       "\n",
       "    .dataframe thead th {\n",
       "        text-align: right;\n",
       "    }\n",
       "</style>\n",
       "<table border=\"1\" class=\"dataframe\">\n",
       "  <thead>\n",
       "    <tr style=\"text-align: right;\">\n",
       "      <th></th>\n",
       "      <th>rank_test_w_accuracy</th>\n",
       "      <th>param_alpha</th>\n",
       "      <th>mean_test_w_accuracy</th>\n",
       "      <th>std_test_w_accuracy</th>\n",
       "      <th>mean_test_accuracy</th>\n",
       "      <th>mean_test_up_accuracy</th>\n",
       "      <th>mean_test_down_accuracy</th>\n",
       "      <th>mean_test_neg_root_mean_squared_error</th>\n",
       "    </tr>\n",
       "  </thead>\n",
       "  <tbody>\n",
       "    <tr>\n",
       "      <th>0</th>\n",
       "      <td>3</td>\n",
       "      <td>0.1</td>\n",
       "      <td>0.387523</td>\n",
       "      <td>0.024483</td>\n",
       "      <td>0.532301</td>\n",
       "      <td>0.848905</td>\n",
       "      <td>0.156301</td>\n",
       "      <td>-0.028671</td>\n",
       "    </tr>\n",
       "    <tr>\n",
       "      <th>1</th>\n",
       "      <td>3</td>\n",
       "      <td>1</td>\n",
       "      <td>0.387523</td>\n",
       "      <td>0.024483</td>\n",
       "      <td>0.532301</td>\n",
       "      <td>0.848905</td>\n",
       "      <td>0.156301</td>\n",
       "      <td>-0.028671</td>\n",
       "    </tr>\n",
       "    <tr>\n",
       "      <th>2</th>\n",
       "      <td>3</td>\n",
       "      <td>10</td>\n",
       "      <td>0.387523</td>\n",
       "      <td>0.024483</td>\n",
       "      <td>0.532301</td>\n",
       "      <td>0.848905</td>\n",
       "      <td>0.156301</td>\n",
       "      <td>-0.028671</td>\n",
       "    </tr>\n",
       "    <tr>\n",
       "      <th>3</th>\n",
       "      <td>3</td>\n",
       "      <td>100</td>\n",
       "      <td>0.387523</td>\n",
       "      <td>0.024483</td>\n",
       "      <td>0.532301</td>\n",
       "      <td>0.848905</td>\n",
       "      <td>0.156301</td>\n",
       "      <td>-0.028670</td>\n",
       "    </tr>\n",
       "    <tr>\n",
       "      <th>4</th>\n",
       "      <td>2</td>\n",
       "      <td>1000</td>\n",
       "      <td>0.387553</td>\n",
       "      <td>0.024523</td>\n",
       "      <td>0.532339</td>\n",
       "      <td>0.848969</td>\n",
       "      <td>0.156301</td>\n",
       "      <td>-0.028659</td>\n",
       "    </tr>\n",
       "    <tr>\n",
       "      <th>5</th>\n",
       "      <td>1</td>\n",
       "      <td>10000</td>\n",
       "      <td>0.387659</td>\n",
       "      <td>0.024663</td>\n",
       "      <td>0.532432</td>\n",
       "      <td>0.848980</td>\n",
       "      <td>0.156507</td>\n",
       "      <td>-0.028596</td>\n",
       "    </tr>\n",
       "    <tr>\n",
       "      <th>6</th>\n",
       "      <td>7</td>\n",
       "      <td>100000</td>\n",
       "      <td>0.387394</td>\n",
       "      <td>0.024171</td>\n",
       "      <td>0.531830</td>\n",
       "      <td>0.846381</td>\n",
       "      <td>0.158268</td>\n",
       "      <td>-0.028567</td>\n",
       "    </tr>\n",
       "  </tbody>\n",
       "</table>\n",
       "</div>"
      ],
      "text/plain": [
       "   rank_test_w_accuracy param_alpha  mean_test_w_accuracy  \\\n",
       "0                     3         0.1              0.387523   \n",
       "1                     3           1              0.387523   \n",
       "2                     3          10              0.387523   \n",
       "3                     3         100              0.387523   \n",
       "4                     2        1000              0.387553   \n",
       "5                     1       10000              0.387659   \n",
       "6                     7      100000              0.387394   \n",
       "\n",
       "   std_test_w_accuracy  mean_test_accuracy  mean_test_up_accuracy  \\\n",
       "0             0.024483            0.532301               0.848905   \n",
       "1             0.024483            0.532301               0.848905   \n",
       "2             0.024483            0.532301               0.848905   \n",
       "3             0.024483            0.532301               0.848905   \n",
       "4             0.024523            0.532339               0.848969   \n",
       "5             0.024663            0.532432               0.848980   \n",
       "6             0.024171            0.531830               0.846381   \n",
       "\n",
       "   mean_test_down_accuracy  mean_test_neg_root_mean_squared_error  \n",
       "0                 0.156301                              -0.028671  \n",
       "1                 0.156301                              -0.028671  \n",
       "2                 0.156301                              -0.028671  \n",
       "3                 0.156301                              -0.028670  \n",
       "4                 0.156301                              -0.028659  \n",
       "5                 0.156507                              -0.028596  \n",
       "6                 0.158268                              -0.028567  "
      ]
     },
     "execution_count": 48,
     "metadata": {},
     "output_type": "execute_result"
    }
   ],
   "source": [
    "ridge6_cv_summary_df = pd.DataFrame(res_ridge_cv6.cv_results_)[select_cols_ridge_cv_results]\n",
    "ridge6_cv_summary_df"
   ]
  },
  {
   "cell_type": "code",
   "execution_count": 49,
   "metadata": {},
   "outputs": [],
   "source": [
    "cv_mean_metrics.loc['ridge6', cv_metrics_cols] = ridge6_cv_summary_df.loc[ridge6_cv_summary_df['rank_test_w_accuracy']==1, cv_metrics_cols].iloc[0]"
   ]
  },
  {
   "cell_type": "markdown",
   "metadata": {},
   "source": [
    "## Nov Samples"
   ]
  },
  {
   "cell_type": "code",
   "execution_count": 50,
   "metadata": {},
   "outputs": [],
   "source": [
    "ridge_base = Ridge(fit_intercept=False, alpha=1)\n",
    "ridge_nov1 = mle_ens.NoOverlapVoterRegressor(base_estimator=ridge_base, n_skip_samples=4)\n",
    "ridge_nov1.fit(X_train_full[features1], y_train_full)\n",
    "p_valid_ridge_nov1 =  preds_to_df(X_valid_full[features1], ridge_nov1, 'p_valid_ridge_nov1')"
   ]
  },
  {
   "cell_type": "code",
   "execution_count": 51,
   "metadata": {},
   "outputs": [],
   "source": [
    "ridge_nov2 = mle_ens.NoOverlapVoterRegressor(base_estimator=ridge_base, n_skip_samples=4)\n",
    "ridge_nov2.fit(X_train_full[features2], y_train_full)\n",
    "p_valid_ridge_nov2 =  preds_to_df(X_valid_full[features2], ridge_nov2, 'p_valid_ridge_nov2')"
   ]
  },
  {
   "cell_type": "markdown",
   "metadata": {},
   "source": [
    "## Feature Interaction"
   ]
  },
  {
   "cell_type": "code",
   "execution_count": 52,
   "metadata": {},
   "outputs": [],
   "source": [
    "poly = PolynomialFeatures(include_bias=False, interaction_only=True)\n",
    "selector = SelectKBest(mutual_info_regression)\n",
    "ridge = Ridge(fit_intercept=False)\n",
    "pipe = Pipeline([('preprocessor', poly), ('selector', selector), ('regressor', ridge)])"
   ]
  },
  {
   "cell_type": "code",
   "execution_count": 53,
   "metadata": {},
   "outputs": [],
   "source": [
    "hp_pipe= {'regressor__alpha': [10.0**x for x in range(-1,3)],\n",
    "               'selector__k': [3, 4, 5]}\n",
    "pipe_cv = GridSearchCV(pipe, hp_pipe, scoring=scoring,\n",
    "                        n_jobs=-1, refit='w_accuracy',\n",
    "                        cv=TimeSeriesSplit(n_splits=KFOLDS).split(y_train_full),\n",
    "                        return_train_score=True)\n",
    "#res_pipe_cv = pipe_cv.fit(X_train_full[features2], y_train_full)"
   ]
  },
  {
   "cell_type": "code",
   "execution_count": 54,
   "metadata": {},
   "outputs": [],
   "source": [
    "#p_valid_xfeat =  preds_to_df(X_valid_full[features2], res_pipe_cv, 'p_valid_xfeat')\n",
    "#ridge_pol_cv2.best_score_, ridge_pol_cv2.best_estimator_"
   ]
  },
  {
   "cell_type": "code",
   "execution_count": 55,
   "metadata": {},
   "outputs": [],
   "source": [
    "#ridge_pol_cv2.best_estimator_.named_steps.regressor.coef_"
   ]
  },
  {
   "cell_type": "markdown",
   "metadata": {},
   "source": [
    "# Neural Networks"
   ]
  },
  {
   "cell_type": "code",
   "execution_count": 56,
   "metadata": {},
   "outputs": [],
   "source": [
    "select_cols_mlp_cv_results = ['rank_test_w_accuracy', 'param_alpha', 'param_hidden_layer_sizes', 'param_learning_rate_init', 'param_max_iter',\n",
    "                             'mean_test_w_accuracy', 'std_test_w_accuracy','mean_test_accuracy',\n",
    "                              'mean_test_up_accuracy', 'mean_test_down_accuracy', 'mean_test_neg_root_mean_squared_error']"
   ]
  },
  {
   "cell_type": "markdown",
   "metadata": {},
   "source": [
    "## Features Set 1: Alpha Only"
   ]
  },
  {
   "cell_type": "code",
   "execution_count": 57,
   "metadata": {},
   "outputs": [],
   "source": [
    "hpgrid_mlp1 = {'hidden_layer_sizes': [(1,), (3,)],\n",
    "              'alpha': [10.0**x for x in range(-2, 1)],\n",
    "             'learning_rate_init': [0.001],\n",
    "             'max_iter': [50, 100],\n",
    "             }\n",
    "mlp = MLPRegressor(solver='adam', shuffle=False, activation='relu', batch_size=500, random_state=RND_SEED)\n",
    "\n",
    "mlp_cv1 = GridSearchCV(mlp, hpgrid_mlp1, scoring=scoring,\n",
    "                        n_jobs=-1, refit='accuracy',\n",
    "                        cv=TimeSeriesSplit(n_splits=KFOLDS).split(y_train_full),\n",
    "                        return_train_score=True)\n",
    "res_mlp_cv1 = mlp_cv1.fit(X_train_full[features1], y_train_full)"
   ]
  },
  {
   "cell_type": "code",
   "execution_count": 58,
   "metadata": {},
   "outputs": [
    {
     "data": {
      "text/plain": [
       "(0.5537448375934814,\n",
       " MLPRegressor(activation='relu', alpha=0.01, batch_size=500, beta_1=0.9,\n",
       "              beta_2=0.999, early_stopping=False, epsilon=1e-08,\n",
       "              hidden_layer_sizes=(1,), learning_rate='constant',\n",
       "              learning_rate_init=0.001, max_fun=15000, max_iter=50, momentum=0.9,\n",
       "              n_iter_no_change=10, nesterovs_momentum=True, power_t=0.5,\n",
       "              random_state=123, shuffle=False, solver='adam', tol=0.0001,\n",
       "              validation_fraction=0.1, verbose=False, warm_start=False))"
      ]
     },
     "execution_count": 58,
     "metadata": {},
     "output_type": "execute_result"
    }
   ],
   "source": [
    "p_valid_mlp1 =  preds_to_df(X_valid_full[features1], res_mlp_cv1, 'p_valid_mlp1')\n",
    "res_mlp_cv1.best_score_, res_mlp_cv1.best_estimator_"
   ]
  },
  {
   "cell_type": "code",
   "execution_count": 59,
   "metadata": {},
   "outputs": [
    {
     "data": {
      "text/html": [
       "<div>\n",
       "<style scoped>\n",
       "    .dataframe tbody tr th:only-of-type {\n",
       "        vertical-align: middle;\n",
       "    }\n",
       "\n",
       "    .dataframe tbody tr th {\n",
       "        vertical-align: top;\n",
       "    }\n",
       "\n",
       "    .dataframe thead th {\n",
       "        text-align: right;\n",
       "    }\n",
       "</style>\n",
       "<table border=\"1\" class=\"dataframe\">\n",
       "  <thead>\n",
       "    <tr style=\"text-align: right;\">\n",
       "      <th></th>\n",
       "      <th>rank_test_w_accuracy</th>\n",
       "      <th>param_alpha</th>\n",
       "      <th>param_hidden_layer_sizes</th>\n",
       "      <th>param_learning_rate_init</th>\n",
       "      <th>param_max_iter</th>\n",
       "      <th>mean_test_w_accuracy</th>\n",
       "      <th>std_test_w_accuracy</th>\n",
       "      <th>mean_test_accuracy</th>\n",
       "      <th>mean_test_up_accuracy</th>\n",
       "      <th>mean_test_down_accuracy</th>\n",
       "      <th>mean_test_neg_root_mean_squared_error</th>\n",
       "    </tr>\n",
       "  </thead>\n",
       "  <tbody>\n",
       "    <tr>\n",
       "      <th>0</th>\n",
       "      <td>7</td>\n",
       "      <td>0.01</td>\n",
       "      <td>(1,)</td>\n",
       "      <td>0.001</td>\n",
       "      <td>50</td>\n",
       "      <td>0.383138</td>\n",
       "      <td>0.018824</td>\n",
       "      <td>0.553745</td>\n",
       "      <td>1.000000</td>\n",
       "      <td>0.000000</td>\n",
       "      <td>-0.028584</td>\n",
       "    </tr>\n",
       "    <tr>\n",
       "      <th>1</th>\n",
       "      <td>7</td>\n",
       "      <td>0.01</td>\n",
       "      <td>(1,)</td>\n",
       "      <td>0.001</td>\n",
       "      <td>100</td>\n",
       "      <td>0.383138</td>\n",
       "      <td>0.018824</td>\n",
       "      <td>0.553745</td>\n",
       "      <td>1.000000</td>\n",
       "      <td>0.000000</td>\n",
       "      <td>-0.028584</td>\n",
       "    </tr>\n",
       "    <tr>\n",
       "      <th>4</th>\n",
       "      <td>7</td>\n",
       "      <td>0.1</td>\n",
       "      <td>(1,)</td>\n",
       "      <td>0.001</td>\n",
       "      <td>50</td>\n",
       "      <td>0.383138</td>\n",
       "      <td>0.018824</td>\n",
       "      <td>0.553745</td>\n",
       "      <td>1.000000</td>\n",
       "      <td>0.000000</td>\n",
       "      <td>-0.028582</td>\n",
       "    </tr>\n",
       "    <tr>\n",
       "      <th>5</th>\n",
       "      <td>7</td>\n",
       "      <td>0.1</td>\n",
       "      <td>(1,)</td>\n",
       "      <td>0.001</td>\n",
       "      <td>100</td>\n",
       "      <td>0.383138</td>\n",
       "      <td>0.018824</td>\n",
       "      <td>0.553745</td>\n",
       "      <td>1.000000</td>\n",
       "      <td>0.000000</td>\n",
       "      <td>-0.028582</td>\n",
       "    </tr>\n",
       "    <tr>\n",
       "      <th>8</th>\n",
       "      <td>7</td>\n",
       "      <td>1</td>\n",
       "      <td>(1,)</td>\n",
       "      <td>0.001</td>\n",
       "      <td>50</td>\n",
       "      <td>0.383138</td>\n",
       "      <td>0.018824</td>\n",
       "      <td>0.553745</td>\n",
       "      <td>1.000000</td>\n",
       "      <td>0.000000</td>\n",
       "      <td>-0.028565</td>\n",
       "    </tr>\n",
       "    <tr>\n",
       "      <th>9</th>\n",
       "      <td>7</td>\n",
       "      <td>1</td>\n",
       "      <td>(1,)</td>\n",
       "      <td>0.001</td>\n",
       "      <td>100</td>\n",
       "      <td>0.383138</td>\n",
       "      <td>0.018824</td>\n",
       "      <td>0.553745</td>\n",
       "      <td>1.000000</td>\n",
       "      <td>0.000000</td>\n",
       "      <td>-0.028565</td>\n",
       "    </tr>\n",
       "    <tr>\n",
       "      <th>6</th>\n",
       "      <td>5</td>\n",
       "      <td>0.1</td>\n",
       "      <td>(3,)</td>\n",
       "      <td>0.001</td>\n",
       "      <td>50</td>\n",
       "      <td>0.386276</td>\n",
       "      <td>0.022094</td>\n",
       "      <td>0.510145</td>\n",
       "      <td>0.723005</td>\n",
       "      <td>0.275138</td>\n",
       "      <td>-0.030033</td>\n",
       "    </tr>\n",
       "    <tr>\n",
       "      <th>7</th>\n",
       "      <td>5</td>\n",
       "      <td>0.1</td>\n",
       "      <td>(3,)</td>\n",
       "      <td>0.001</td>\n",
       "      <td>100</td>\n",
       "      <td>0.386276</td>\n",
       "      <td>0.022094</td>\n",
       "      <td>0.510145</td>\n",
       "      <td>0.723005</td>\n",
       "      <td>0.275138</td>\n",
       "      <td>-0.030033</td>\n",
       "    </tr>\n",
       "    <tr>\n",
       "      <th>2</th>\n",
       "      <td>3</td>\n",
       "      <td>0.01</td>\n",
       "      <td>(3,)</td>\n",
       "      <td>0.001</td>\n",
       "      <td>50</td>\n",
       "      <td>0.387872</td>\n",
       "      <td>0.019355</td>\n",
       "      <td>0.511249</td>\n",
       "      <td>0.715935</td>\n",
       "      <td>0.283643</td>\n",
       "      <td>-0.030263</td>\n",
       "    </tr>\n",
       "    <tr>\n",
       "      <th>3</th>\n",
       "      <td>3</td>\n",
       "      <td>0.01</td>\n",
       "      <td>(3,)</td>\n",
       "      <td>0.001</td>\n",
       "      <td>100</td>\n",
       "      <td>0.387872</td>\n",
       "      <td>0.019355</td>\n",
       "      <td>0.511249</td>\n",
       "      <td>0.715935</td>\n",
       "      <td>0.283643</td>\n",
       "      <td>-0.030263</td>\n",
       "    </tr>\n",
       "    <tr>\n",
       "      <th>10</th>\n",
       "      <td>1</td>\n",
       "      <td>1</td>\n",
       "      <td>(3,)</td>\n",
       "      <td>0.001</td>\n",
       "      <td>50</td>\n",
       "      <td>0.388164</td>\n",
       "      <td>0.025331</td>\n",
       "      <td>0.501594</td>\n",
       "      <td>0.666667</td>\n",
       "      <td>0.333333</td>\n",
       "      <td>-0.029518</td>\n",
       "    </tr>\n",
       "    <tr>\n",
       "      <th>11</th>\n",
       "      <td>1</td>\n",
       "      <td>1</td>\n",
       "      <td>(3,)</td>\n",
       "      <td>0.001</td>\n",
       "      <td>100</td>\n",
       "      <td>0.388164</td>\n",
       "      <td>0.025331</td>\n",
       "      <td>0.501594</td>\n",
       "      <td>0.666667</td>\n",
       "      <td>0.333333</td>\n",
       "      <td>-0.029518</td>\n",
       "    </tr>\n",
       "  </tbody>\n",
       "</table>\n",
       "</div>"
      ],
      "text/plain": [
       "    rank_test_w_accuracy param_alpha param_hidden_layer_sizes  \\\n",
       "0                      7        0.01                     (1,)   \n",
       "1                      7        0.01                     (1,)   \n",
       "4                      7         0.1                     (1,)   \n",
       "5                      7         0.1                     (1,)   \n",
       "8                      7           1                     (1,)   \n",
       "9                      7           1                     (1,)   \n",
       "6                      5         0.1                     (3,)   \n",
       "7                      5         0.1                     (3,)   \n",
       "2                      3        0.01                     (3,)   \n",
       "3                      3        0.01                     (3,)   \n",
       "10                     1           1                     (3,)   \n",
       "11                     1           1                     (3,)   \n",
       "\n",
       "   param_learning_rate_init param_max_iter  mean_test_w_accuracy  \\\n",
       "0                     0.001             50              0.383138   \n",
       "1                     0.001            100              0.383138   \n",
       "4                     0.001             50              0.383138   \n",
       "5                     0.001            100              0.383138   \n",
       "8                     0.001             50              0.383138   \n",
       "9                     0.001            100              0.383138   \n",
       "6                     0.001             50              0.386276   \n",
       "7                     0.001            100              0.386276   \n",
       "2                     0.001             50              0.387872   \n",
       "3                     0.001            100              0.387872   \n",
       "10                    0.001             50              0.388164   \n",
       "11                    0.001            100              0.388164   \n",
       "\n",
       "    std_test_w_accuracy  mean_test_accuracy  mean_test_up_accuracy  \\\n",
       "0              0.018824            0.553745               1.000000   \n",
       "1              0.018824            0.553745               1.000000   \n",
       "4              0.018824            0.553745               1.000000   \n",
       "5              0.018824            0.553745               1.000000   \n",
       "8              0.018824            0.553745               1.000000   \n",
       "9              0.018824            0.553745               1.000000   \n",
       "6              0.022094            0.510145               0.723005   \n",
       "7              0.022094            0.510145               0.723005   \n",
       "2              0.019355            0.511249               0.715935   \n",
       "3              0.019355            0.511249               0.715935   \n",
       "10             0.025331            0.501594               0.666667   \n",
       "11             0.025331            0.501594               0.666667   \n",
       "\n",
       "    mean_test_down_accuracy  mean_test_neg_root_mean_squared_error  \n",
       "0                  0.000000                              -0.028584  \n",
       "1                  0.000000                              -0.028584  \n",
       "4                  0.000000                              -0.028582  \n",
       "5                  0.000000                              -0.028582  \n",
       "8                  0.000000                              -0.028565  \n",
       "9                  0.000000                              -0.028565  \n",
       "6                  0.275138                              -0.030033  \n",
       "7                  0.275138                              -0.030033  \n",
       "2                  0.283643                              -0.030263  \n",
       "3                  0.283643                              -0.030263  \n",
       "10                 0.333333                              -0.029518  \n",
       "11                 0.333333                              -0.029518  "
      ]
     },
     "execution_count": 59,
     "metadata": {},
     "output_type": "execute_result"
    }
   ],
   "source": [
    "mlp1_cv_summary_df = pd.DataFrame(res_mlp_cv1.cv_results_)[select_cols_mlp_cv_results].sort_values(by='mean_test_w_accuracy')\n",
    "mlp1_cv_summary_df"
   ]
  },
  {
   "cell_type": "code",
   "execution_count": 60,
   "metadata": {},
   "outputs": [],
   "source": [
    "cv_mean_metrics.loc['mlp1', cv_metrics_cols] = mlp1_cv_summary_df.loc[mlp1_cv_summary_df['rank_test_w_accuracy']==1, cv_metrics_cols].iloc[0]"
   ]
  },
  {
   "cell_type": "markdown",
   "metadata": {},
   "source": [
    "## Features Set 2: Alpha + Quant Features"
   ]
  },
  {
   "cell_type": "code",
   "execution_count": 61,
   "metadata": {},
   "outputs": [],
   "source": [
    "hpgrid_mlp2 = {'hidden_layer_sizes': [(1,), (5,), (1,5,)],\n",
    "              'alpha': [10.0**x for x in range(-2, 1)],\n",
    "             'learning_rate_init': [0.001],\n",
    "             'max_iter': [25, 50],\n",
    "             }\n",
    "mlp_cv2 = GridSearchCV(mlp, hpgrid_mlp2, scoring=scoring,\n",
    "                        n_jobs=-1, refit='w_accuracy',\n",
    "                        cv=TimeSeriesSplit(n_splits=KFOLDS).split(y_train_full),\n",
    "                        return_train_score=True)\n",
    "res_mlp_cv2 = mlp_cv2.fit(X_train_full[features2], y_train_full)"
   ]
  },
  {
   "cell_type": "code",
   "execution_count": 62,
   "metadata": {},
   "outputs": [
    {
     "data": {
      "text/plain": [
       "(0.39745390780454287,\n",
       " MLPRegressor(activation='relu', alpha=0.01, batch_size=500, beta_1=0.9,\n",
       "              beta_2=0.999, early_stopping=False, epsilon=1e-08,\n",
       "              hidden_layer_sizes=(5,), learning_rate='constant',\n",
       "              learning_rate_init=0.001, max_fun=15000, max_iter=25, momentum=0.9,\n",
       "              n_iter_no_change=10, nesterovs_momentum=True, power_t=0.5,\n",
       "              random_state=123, shuffle=False, solver='adam', tol=0.0001,\n",
       "              validation_fraction=0.1, verbose=False, warm_start=False))"
      ]
     },
     "execution_count": 62,
     "metadata": {},
     "output_type": "execute_result"
    }
   ],
   "source": [
    "p_valid_mlp2 =  preds_to_df(X_valid_full[features2], res_mlp_cv2, 'p_valid_mlp2')\n",
    "res_mlp_cv2.best_score_, res_mlp_cv2.best_estimator_"
   ]
  },
  {
   "cell_type": "code",
   "execution_count": 63,
   "metadata": {},
   "outputs": [
    {
     "data": {
      "text/html": [
       "<div>\n",
       "<style scoped>\n",
       "    .dataframe tbody tr th:only-of-type {\n",
       "        vertical-align: middle;\n",
       "    }\n",
       "\n",
       "    .dataframe tbody tr th {\n",
       "        vertical-align: top;\n",
       "    }\n",
       "\n",
       "    .dataframe thead th {\n",
       "        text-align: right;\n",
       "    }\n",
       "</style>\n",
       "<table border=\"1\" class=\"dataframe\">\n",
       "  <thead>\n",
       "    <tr style=\"text-align: right;\">\n",
       "      <th></th>\n",
       "      <th>rank_test_w_accuracy</th>\n",
       "      <th>param_alpha</th>\n",
       "      <th>param_hidden_layer_sizes</th>\n",
       "      <th>param_learning_rate_init</th>\n",
       "      <th>param_max_iter</th>\n",
       "      <th>mean_test_w_accuracy</th>\n",
       "      <th>std_test_w_accuracy</th>\n",
       "      <th>mean_test_accuracy</th>\n",
       "      <th>mean_test_up_accuracy</th>\n",
       "      <th>mean_test_down_accuracy</th>\n",
       "      <th>mean_test_neg_root_mean_squared_error</th>\n",
       "    </tr>\n",
       "  </thead>\n",
       "  <tbody>\n",
       "    <tr>\n",
       "      <th>11</th>\n",
       "      <td>18</td>\n",
       "      <td>0.1</td>\n",
       "      <td>(1, 5)</td>\n",
       "      <td>0.001</td>\n",
       "      <td>50</td>\n",
       "      <td>0.384534</td>\n",
       "      <td>0.020592</td>\n",
       "      <td>0.542713</td>\n",
       "      <td>0.926131</td>\n",
       "      <td>0.075115</td>\n",
       "      <td>-0.028547</td>\n",
       "    </tr>\n",
       "    <tr>\n",
       "      <th>5</th>\n",
       "      <td>17</td>\n",
       "      <td>0.01</td>\n",
       "      <td>(1, 5)</td>\n",
       "      <td>0.001</td>\n",
       "      <td>50</td>\n",
       "      <td>0.384672</td>\n",
       "      <td>0.020769</td>\n",
       "      <td>0.542682</td>\n",
       "      <td>0.925176</td>\n",
       "      <td>0.076350</td>\n",
       "      <td>-0.028549</td>\n",
       "    </tr>\n",
       "    <tr>\n",
       "      <th>17</th>\n",
       "      <td>16</td>\n",
       "      <td>1</td>\n",
       "      <td>(1, 5)</td>\n",
       "      <td>0.001</td>\n",
       "      <td>50</td>\n",
       "      <td>0.384686</td>\n",
       "      <td>0.020787</td>\n",
       "      <td>0.544381</td>\n",
       "      <td>0.935182</td>\n",
       "      <td>0.066661</td>\n",
       "      <td>-0.028539</td>\n",
       "    </tr>\n",
       "    <tr>\n",
       "      <th>15</th>\n",
       "      <td>14</td>\n",
       "      <td>1</td>\n",
       "      <td>(5,)</td>\n",
       "      <td>0.001</td>\n",
       "      <td>50</td>\n",
       "      <td>0.386377</td>\n",
       "      <td>0.018978</td>\n",
       "      <td>0.526826</td>\n",
       "      <td>0.815663</td>\n",
       "      <td>0.182637</td>\n",
       "      <td>-0.030444</td>\n",
       "    </tr>\n",
       "    <tr>\n",
       "      <th>14</th>\n",
       "      <td>14</td>\n",
       "      <td>1</td>\n",
       "      <td>(5,)</td>\n",
       "      <td>0.001</td>\n",
       "      <td>25</td>\n",
       "      <td>0.386377</td>\n",
       "      <td>0.018978</td>\n",
       "      <td>0.526826</td>\n",
       "      <td>0.815663</td>\n",
       "      <td>0.182637</td>\n",
       "      <td>-0.030444</td>\n",
       "    </tr>\n",
       "    <tr>\n",
       "      <th>16</th>\n",
       "      <td>13</td>\n",
       "      <td>1</td>\n",
       "      <td>(1, 5)</td>\n",
       "      <td>0.001</td>\n",
       "      <td>25</td>\n",
       "      <td>0.386820</td>\n",
       "      <td>0.023557</td>\n",
       "      <td>0.537163</td>\n",
       "      <td>0.881003</td>\n",
       "      <td>0.123824</td>\n",
       "      <td>-0.028692</td>\n",
       "    </tr>\n",
       "    <tr>\n",
       "      <th>4</th>\n",
       "      <td>12</td>\n",
       "      <td>0.01</td>\n",
       "      <td>(1, 5)</td>\n",
       "      <td>0.001</td>\n",
       "      <td>25</td>\n",
       "      <td>0.387265</td>\n",
       "      <td>0.024143</td>\n",
       "      <td>0.536983</td>\n",
       "      <td>0.877625</td>\n",
       "      <td>0.128029</td>\n",
       "      <td>-0.028691</td>\n",
       "    </tr>\n",
       "    <tr>\n",
       "      <th>10</th>\n",
       "      <td>11</td>\n",
       "      <td>0.1</td>\n",
       "      <td>(1, 5)</td>\n",
       "      <td>0.001</td>\n",
       "      <td>25</td>\n",
       "      <td>0.387290</td>\n",
       "      <td>0.024176</td>\n",
       "      <td>0.537052</td>\n",
       "      <td>0.877893</td>\n",
       "      <td>0.127823</td>\n",
       "      <td>-0.028691</td>\n",
       "    </tr>\n",
       "    <tr>\n",
       "      <th>13</th>\n",
       "      <td>9</td>\n",
       "      <td>1</td>\n",
       "      <td>(1,)</td>\n",
       "      <td>0.001</td>\n",
       "      <td>50</td>\n",
       "      <td>0.388154</td>\n",
       "      <td>0.013370</td>\n",
       "      <td>0.550713</td>\n",
       "      <td>0.942023</td>\n",
       "      <td>0.058947</td>\n",
       "      <td>-0.028552</td>\n",
       "    </tr>\n",
       "    <tr>\n",
       "      <th>12</th>\n",
       "      <td>9</td>\n",
       "      <td>1</td>\n",
       "      <td>(1,)</td>\n",
       "      <td>0.001</td>\n",
       "      <td>25</td>\n",
       "      <td>0.388154</td>\n",
       "      <td>0.013370</td>\n",
       "      <td>0.550713</td>\n",
       "      <td>0.942023</td>\n",
       "      <td>0.058947</td>\n",
       "      <td>-0.028552</td>\n",
       "    </tr>\n",
       "    <tr>\n",
       "      <th>6</th>\n",
       "      <td>7</td>\n",
       "      <td>0.1</td>\n",
       "      <td>(1,)</td>\n",
       "      <td>0.001</td>\n",
       "      <td>25</td>\n",
       "      <td>0.390262</td>\n",
       "      <td>0.011619</td>\n",
       "      <td>0.548858</td>\n",
       "      <td>0.914929</td>\n",
       "      <td>0.085563</td>\n",
       "      <td>-0.028525</td>\n",
       "    </tr>\n",
       "    <tr>\n",
       "      <th>7</th>\n",
       "      <td>7</td>\n",
       "      <td>0.1</td>\n",
       "      <td>(1,)</td>\n",
       "      <td>0.001</td>\n",
       "      <td>50</td>\n",
       "      <td>0.390262</td>\n",
       "      <td>0.011619</td>\n",
       "      <td>0.548858</td>\n",
       "      <td>0.914929</td>\n",
       "      <td>0.085563</td>\n",
       "      <td>-0.028525</td>\n",
       "    </tr>\n",
       "    <tr>\n",
       "      <th>0</th>\n",
       "      <td>5</td>\n",
       "      <td>0.01</td>\n",
       "      <td>(1,)</td>\n",
       "      <td>0.001</td>\n",
       "      <td>25</td>\n",
       "      <td>0.390394</td>\n",
       "      <td>0.011527</td>\n",
       "      <td>0.548604</td>\n",
       "      <td>0.912321</td>\n",
       "      <td>0.087965</td>\n",
       "      <td>-0.028524</td>\n",
       "    </tr>\n",
       "    <tr>\n",
       "      <th>1</th>\n",
       "      <td>5</td>\n",
       "      <td>0.01</td>\n",
       "      <td>(1,)</td>\n",
       "      <td>0.001</td>\n",
       "      <td>50</td>\n",
       "      <td>0.390394</td>\n",
       "      <td>0.011527</td>\n",
       "      <td>0.548604</td>\n",
       "      <td>0.912321</td>\n",
       "      <td>0.087965</td>\n",
       "      <td>-0.028524</td>\n",
       "    </tr>\n",
       "    <tr>\n",
       "      <th>9</th>\n",
       "      <td>3</td>\n",
       "      <td>0.1</td>\n",
       "      <td>(5,)</td>\n",
       "      <td>0.001</td>\n",
       "      <td>50</td>\n",
       "      <td>0.397087</td>\n",
       "      <td>0.011593</td>\n",
       "      <td>0.515645</td>\n",
       "      <td>0.668934</td>\n",
       "      <td>0.330893</td>\n",
       "      <td>-0.032016</td>\n",
       "    </tr>\n",
       "    <tr>\n",
       "      <th>8</th>\n",
       "      <td>3</td>\n",
       "      <td>0.1</td>\n",
       "      <td>(5,)</td>\n",
       "      <td>0.001</td>\n",
       "      <td>25</td>\n",
       "      <td>0.397087</td>\n",
       "      <td>0.011593</td>\n",
       "      <td>0.515645</td>\n",
       "      <td>0.668934</td>\n",
       "      <td>0.330893</td>\n",
       "      <td>-0.032016</td>\n",
       "    </tr>\n",
       "    <tr>\n",
       "      <th>3</th>\n",
       "      <td>1</td>\n",
       "      <td>0.01</td>\n",
       "      <td>(5,)</td>\n",
       "      <td>0.001</td>\n",
       "      <td>50</td>\n",
       "      <td>0.397454</td>\n",
       "      <td>0.011806</td>\n",
       "      <td>0.516079</td>\n",
       "      <td>0.669559</td>\n",
       "      <td>0.331124</td>\n",
       "      <td>-0.032169</td>\n",
       "    </tr>\n",
       "    <tr>\n",
       "      <th>2</th>\n",
       "      <td>1</td>\n",
       "      <td>0.01</td>\n",
       "      <td>(5,)</td>\n",
       "      <td>0.001</td>\n",
       "      <td>25</td>\n",
       "      <td>0.397454</td>\n",
       "      <td>0.011806</td>\n",
       "      <td>0.516079</td>\n",
       "      <td>0.669559</td>\n",
       "      <td>0.331124</td>\n",
       "      <td>-0.032169</td>\n",
       "    </tr>\n",
       "  </tbody>\n",
       "</table>\n",
       "</div>"
      ],
      "text/plain": [
       "    rank_test_w_accuracy param_alpha param_hidden_layer_sizes  \\\n",
       "11                    18         0.1                   (1, 5)   \n",
       "5                     17        0.01                   (1, 5)   \n",
       "17                    16           1                   (1, 5)   \n",
       "15                    14           1                     (5,)   \n",
       "14                    14           1                     (5,)   \n",
       "16                    13           1                   (1, 5)   \n",
       "4                     12        0.01                   (1, 5)   \n",
       "10                    11         0.1                   (1, 5)   \n",
       "13                     9           1                     (1,)   \n",
       "12                     9           1                     (1,)   \n",
       "6                      7         0.1                     (1,)   \n",
       "7                      7         0.1                     (1,)   \n",
       "0                      5        0.01                     (1,)   \n",
       "1                      5        0.01                     (1,)   \n",
       "9                      3         0.1                     (5,)   \n",
       "8                      3         0.1                     (5,)   \n",
       "3                      1        0.01                     (5,)   \n",
       "2                      1        0.01                     (5,)   \n",
       "\n",
       "   param_learning_rate_init param_max_iter  mean_test_w_accuracy  \\\n",
       "11                    0.001             50              0.384534   \n",
       "5                     0.001             50              0.384672   \n",
       "17                    0.001             50              0.384686   \n",
       "15                    0.001             50              0.386377   \n",
       "14                    0.001             25              0.386377   \n",
       "16                    0.001             25              0.386820   \n",
       "4                     0.001             25              0.387265   \n",
       "10                    0.001             25              0.387290   \n",
       "13                    0.001             50              0.388154   \n",
       "12                    0.001             25              0.388154   \n",
       "6                     0.001             25              0.390262   \n",
       "7                     0.001             50              0.390262   \n",
       "0                     0.001             25              0.390394   \n",
       "1                     0.001             50              0.390394   \n",
       "9                     0.001             50              0.397087   \n",
       "8                     0.001             25              0.397087   \n",
       "3                     0.001             50              0.397454   \n",
       "2                     0.001             25              0.397454   \n",
       "\n",
       "    std_test_w_accuracy  mean_test_accuracy  mean_test_up_accuracy  \\\n",
       "11             0.020592            0.542713               0.926131   \n",
       "5              0.020769            0.542682               0.925176   \n",
       "17             0.020787            0.544381               0.935182   \n",
       "15             0.018978            0.526826               0.815663   \n",
       "14             0.018978            0.526826               0.815663   \n",
       "16             0.023557            0.537163               0.881003   \n",
       "4              0.024143            0.536983               0.877625   \n",
       "10             0.024176            0.537052               0.877893   \n",
       "13             0.013370            0.550713               0.942023   \n",
       "12             0.013370            0.550713               0.942023   \n",
       "6              0.011619            0.548858               0.914929   \n",
       "7              0.011619            0.548858               0.914929   \n",
       "0              0.011527            0.548604               0.912321   \n",
       "1              0.011527            0.548604               0.912321   \n",
       "9              0.011593            0.515645               0.668934   \n",
       "8              0.011593            0.515645               0.668934   \n",
       "3              0.011806            0.516079               0.669559   \n",
       "2              0.011806            0.516079               0.669559   \n",
       "\n",
       "    mean_test_down_accuracy  mean_test_neg_root_mean_squared_error  \n",
       "11                 0.075115                              -0.028547  \n",
       "5                  0.076350                              -0.028549  \n",
       "17                 0.066661                              -0.028539  \n",
       "15                 0.182637                              -0.030444  \n",
       "14                 0.182637                              -0.030444  \n",
       "16                 0.123824                              -0.028692  \n",
       "4                  0.128029                              -0.028691  \n",
       "10                 0.127823                              -0.028691  \n",
       "13                 0.058947                              -0.028552  \n",
       "12                 0.058947                              -0.028552  \n",
       "6                  0.085563                              -0.028525  \n",
       "7                  0.085563                              -0.028525  \n",
       "0                  0.087965                              -0.028524  \n",
       "1                  0.087965                              -0.028524  \n",
       "9                  0.330893                              -0.032016  \n",
       "8                  0.330893                              -0.032016  \n",
       "3                  0.331124                              -0.032169  \n",
       "2                  0.331124                              -0.032169  "
      ]
     },
     "execution_count": 63,
     "metadata": {},
     "output_type": "execute_result"
    }
   ],
   "source": [
    "mlp2_cv_summary_df = pd.DataFrame(res_mlp_cv2.cv_results_)[select_cols_mlp_cv_results].sort_values(by='mean_test_w_accuracy')\n",
    "mlp2_cv_summary_df"
   ]
  },
  {
   "cell_type": "code",
   "execution_count": 64,
   "metadata": {},
   "outputs": [
    {
     "data": {
      "image/png": "[encoded data removed]",
      "text/plain": [
       "<Figure size 1152x576 with 1 Axes>"
      ]
     },
     "metadata": {},
     "output_type": "display_data"
    }
   ],
   "source": [
    "mlp2_mask = (mlp2_cv_summary_df['param_max_iter'] == 25)\n",
    "\n",
    "ax = mlp2_cv_summary_df[mlp2_mask & (mlp2_cv_summary_df['param_alpha'] == 0.01)].sort_values(by='mean_test_w_accuracy').plot(\n",
    "    x='param_hidden_layer_sizes', y='mean_test_w_accuracy', label='alpha=0.01')\n",
    "mlp2_cv_summary_df[mlp2_mask & (mlp2_cv_summary_df['param_alpha'] == 0.1)].sort_values(by='mean_test_w_accuracy').plot(\n",
    "    x='param_hidden_layer_sizes', y='mean_test_w_accuracy', label='alpha=0.1', ax=ax)\n",
    "mlp2_cv_summary_df[mlp2_mask & (mlp2_cv_summary_df['param_alpha'] == 1.0)].sort_values(by='mean_test_w_accuracy').plot(\n",
    "    x='param_hidden_layer_sizes', y='mean_test_w_accuracy', label='alpha=1.0', ax=ax)\n",
    "\n",
    "plt.show()"
   ]
  },
  {
   "cell_type": "code",
   "execution_count": 65,
   "metadata": {},
   "outputs": [],
   "source": [
    "cv_mean_metrics.loc['mlp2', cv_metrics_cols] = mlp2_cv_summary_df.loc[mlp2_cv_summary_df['rank_test_w_accuracy']==1, cv_metrics_cols].iloc[0]"
   ]
  },
  {
   "cell_type": "markdown",
   "metadata": {},
   "source": [
    "# Random Forest"
   ]
  },
  {
   "cell_type": "code",
   "execution_count": 66,
   "metadata": {},
   "outputs": [],
   "source": [
    "select_cols_rf_cv_results = ['rank_test_w_accuracy',\n",
    " 'param_max_depth', 'param_max_features', 'param_max_samples',\n",
    " 'mean_test_w_accuracy',\n",
    " 'std_test_w_accuracy',\n",
    " 'mean_test_accuracy',\n",
    " 'mean_test_up_accuracy',\n",
    " 'mean_test_down_accuracy',\n",
    " 'mean_test_neg_root_mean_squared_error']"
   ]
  },
  {
   "cell_type": "markdown",
   "metadata": {},
   "source": [
    "## Features Set 1: Alpha Only"
   ]
  },
  {
   "cell_type": "code",
   "execution_count": 67,
   "metadata": {},
   "outputs": [],
   "source": [
    "hpgrid_rf1 = {'max_samples': [0.25, 0.5, 0.75],\n",
    "            'max_features': [1.],\n",
    "            'max_depth': [3, 5]}"
   ]
  },
  {
   "cell_type": "code",
   "execution_count": 68,
   "metadata": {},
   "outputs": [],
   "source": [
    "rf = RandomForestRegressor(n_estimators=200, criterion='mse',\n",
    "                            bootstrap=True,oob_score=True,\n",
    "                            n_jobs=-1, random_state=RND_SEED)"
   ]
  },
  {
   "cell_type": "code",
   "execution_count": 69,
   "metadata": {},
   "outputs": [],
   "source": [
    "rf_cv1 = GridSearchCV(rf, hpgrid_rf1, scoring=scoring,\n",
    "                      n_jobs=-1, refit='w_accuracy',\n",
    "                      cv=TimeSeriesSplit(n_splits=KFOLDS).split(y_train_full),\n",
    "                      return_train_score=True)\n",
    "res_rf_cv1 = rf_cv1.fit(X_train_full[features1], y_train_full)"
   ]
  },
  {
   "cell_type": "code",
   "execution_count": 70,
   "metadata": {},
   "outputs": [
    {
     "data": {
      "text/plain": [
       "(0.3830988595787026,\n",
       " RandomForestRegressor(bootstrap=True, ccp_alpha=0.0, criterion='mse',\n",
       "                       max_depth=3, max_features=1.0, max_leaf_nodes=None,\n",
       "                       max_samples=0.25, min_impurity_decrease=0.0,\n",
       "                       min_impurity_split=None, min_samples_leaf=1,\n",
       "                       min_samples_split=2, min_weight_fraction_leaf=0.0,\n",
       "                       n_estimators=200, n_jobs=-1, oob_score=True,\n",
       "                       random_state=123, verbose=0, warm_start=False))"
      ]
     },
     "execution_count": 70,
     "metadata": {},
     "output_type": "execute_result"
    }
   ],
   "source": [
    "p_valid_rf1 =  preds_to_df(X_valid_full[features1], res_rf_cv1, 'p_valid_rf1')\n",
    "res_rf_cv1.best_score_, res_rf_cv1.best_estimator_"
   ]
  },
  {
   "cell_type": "code",
   "execution_count": 71,
   "metadata": {},
   "outputs": [
    {
     "data": {
      "text/html": [
       "<div>\n",
       "<style scoped>\n",
       "    .dataframe tbody tr th:only-of-type {\n",
       "        vertical-align: middle;\n",
       "    }\n",
       "\n",
       "    .dataframe tbody tr th {\n",
       "        vertical-align: top;\n",
       "    }\n",
       "\n",
       "    .dataframe thead th {\n",
       "        text-align: right;\n",
       "    }\n",
       "</style>\n",
       "<table border=\"1\" class=\"dataframe\">\n",
       "  <thead>\n",
       "    <tr style=\"text-align: right;\">\n",
       "      <th></th>\n",
       "      <th>rank_test_w_accuracy</th>\n",
       "      <th>param_max_depth</th>\n",
       "      <th>param_max_features</th>\n",
       "      <th>param_max_samples</th>\n",
       "      <th>mean_test_w_accuracy</th>\n",
       "      <th>std_test_w_accuracy</th>\n",
       "      <th>mean_test_accuracy</th>\n",
       "      <th>mean_test_up_accuracy</th>\n",
       "      <th>mean_test_down_accuracy</th>\n",
       "      <th>mean_test_neg_root_mean_squared_error</th>\n",
       "    </tr>\n",
       "  </thead>\n",
       "  <tbody>\n",
       "    <tr>\n",
       "      <th>0</th>\n",
       "      <td>1</td>\n",
       "      <td>3</td>\n",
       "      <td>1</td>\n",
       "      <td>0.25</td>\n",
       "      <td>0.383099</td>\n",
       "      <td>0.018731</td>\n",
       "      <td>0.553646</td>\n",
       "      <td>0.999614</td>\n",
       "      <td>0.000263</td>\n",
       "      <td>-0.028502</td>\n",
       "    </tr>\n",
       "    <tr>\n",
       "      <th>1</th>\n",
       "      <td>3</td>\n",
       "      <td>3</td>\n",
       "      <td>1</td>\n",
       "      <td>0.5</td>\n",
       "      <td>0.383066</td>\n",
       "      <td>0.018692</td>\n",
       "      <td>0.553596</td>\n",
       "      <td>0.999516</td>\n",
       "      <td>0.000276</td>\n",
       "      <td>-0.028503</td>\n",
       "    </tr>\n",
       "    <tr>\n",
       "      <th>2</th>\n",
       "      <td>2</td>\n",
       "      <td>3</td>\n",
       "      <td>1</td>\n",
       "      <td>0.75</td>\n",
       "      <td>0.383073</td>\n",
       "      <td>0.018729</td>\n",
       "      <td>0.553621</td>\n",
       "      <td>0.999624</td>\n",
       "      <td>0.000191</td>\n",
       "      <td>-0.028506</td>\n",
       "    </tr>\n",
       "    <tr>\n",
       "      <th>3</th>\n",
       "      <td>4</td>\n",
       "      <td>5</td>\n",
       "      <td>1</td>\n",
       "      <td>0.25</td>\n",
       "      <td>0.383012</td>\n",
       "      <td>0.018575</td>\n",
       "      <td>0.553243</td>\n",
       "      <td>0.997647</td>\n",
       "      <td>0.001906</td>\n",
       "      <td>-0.028521</td>\n",
       "    </tr>\n",
       "    <tr>\n",
       "      <th>4</th>\n",
       "      <td>6</td>\n",
       "      <td>5</td>\n",
       "      <td>1</td>\n",
       "      <td>0.5</td>\n",
       "      <td>0.382910</td>\n",
       "      <td>0.018461</td>\n",
       "      <td>0.553050</td>\n",
       "      <td>0.997128</td>\n",
       "      <td>0.002180</td>\n",
       "      <td>-0.028536</td>\n",
       "    </tr>\n",
       "    <tr>\n",
       "      <th>5</th>\n",
       "      <td>5</td>\n",
       "      <td>5</td>\n",
       "      <td>1</td>\n",
       "      <td>0.75</td>\n",
       "      <td>0.382968</td>\n",
       "      <td>0.018408</td>\n",
       "      <td>0.553063</td>\n",
       "      <td>0.996800</td>\n",
       "      <td>0.002602</td>\n",
       "      <td>-0.028538</td>\n",
       "    </tr>\n",
       "  </tbody>\n",
       "</table>\n",
       "</div>"
      ],
      "text/plain": [
       "   rank_test_w_accuracy param_max_depth param_max_features param_max_samples  \\\n",
       "0                     1               3                  1              0.25   \n",
       "1                     3               3                  1               0.5   \n",
       "2                     2               3                  1              0.75   \n",
       "3                     4               5                  1              0.25   \n",
       "4                     6               5                  1               0.5   \n",
       "5                     5               5                  1              0.75   \n",
       "\n",
       "   mean_test_w_accuracy  std_test_w_accuracy  mean_test_accuracy  \\\n",
       "0              0.383099             0.018731            0.553646   \n",
       "1              0.383066             0.018692            0.553596   \n",
       "2              0.383073             0.018729            0.553621   \n",
       "3              0.383012             0.018575            0.553243   \n",
       "4              0.382910             0.018461            0.553050   \n",
       "5              0.382968             0.018408            0.553063   \n",
       "\n",
       "   mean_test_up_accuracy  mean_test_down_accuracy  \\\n",
       "0               0.999614                 0.000263   \n",
       "1               0.999516                 0.000276   \n",
       "2               0.999624                 0.000191   \n",
       "3               0.997647                 0.001906   \n",
       "4               0.997128                 0.002180   \n",
       "5               0.996800                 0.002602   \n",
       "\n",
       "   mean_test_neg_root_mean_squared_error  \n",
       "0                              -0.028502  \n",
       "1                              -0.028503  \n",
       "2                              -0.028506  \n",
       "3                              -0.028521  \n",
       "4                              -0.028536  \n",
       "5                              -0.028538  "
      ]
     },
     "execution_count": 71,
     "metadata": {},
     "output_type": "execute_result"
    }
   ],
   "source": [
    "rf1_cv_summary_df = pd.DataFrame(res_rf_cv1.cv_results_)[select_cols_rf_cv_results]\n",
    "rf1_cv_summary_df"
   ]
  },
  {
   "cell_type": "code",
   "execution_count": 72,
   "metadata": {},
   "outputs": [],
   "source": [
    "cv_mean_metrics.loc['rf1', cv_metrics_cols] = rf1_cv_summary_df.loc[rf1_cv_summary_df['rank_test_w_accuracy']==1, cv_metrics_cols].iloc[0]"
   ]
  },
  {
   "cell_type": "markdown",
   "metadata": {},
   "source": [
    "# Benchmark"
   ]
  },
  {
   "cell_type": "code",
   "execution_count": 73,
   "metadata": {},
   "outputs": [],
   "source": [
    "def compute_acc_metrics_by_feature(data, features):\n",
    "    alphas_acc = pd.DataFrame(columns=['wacc', 'acc', 'acc_up', 'acc_down'], dtype=float)\n",
    "   \n",
    "    for alpha_fac in features:\n",
    "        alphas_acc.loc[alpha_fac, 'wacc'] = mle_utils.direction_accuracy_func(\n",
    "            y_true=data[target_col], y_pred=data[alpha_fac], kind='weighted', w_fp=2., w_fn=1.)\n",
    "        alphas_acc.loc[alpha_fac, 'acc'] = mle_utils.direction_accuracy_func(\n",
    "            y_true=data[target_col], y_pred=data[alpha_fac], kind='global')\n",
    "        alphas_acc.loc[alpha_fac, 'acc_up'] = mle_utils.direction_accuracy_func(\n",
    "            y_true=data[target_col], y_pred=data[alpha_fac], kind='upwards')\n",
    "        alphas_acc.loc[alpha_fac, 'acc_down'] = mle_utils.direction_accuracy_func(\n",
    "            y_true=data[target_col], y_pred=data[alpha_fac], kind='downwards')\n",
    "        \n",
    "    return alphas_acc\n"
   ]
  },
  {
   "cell_type": "code",
   "execution_count": 74,
   "metadata": {},
   "outputs": [],
   "source": [
    "benchmark_val_preds = [p_valid_ridge1, p_valid_ridge2, p_valid_ridge3, p_valid_ridge4, p_valid_ridge5, p_valid_ridge6,\n",
    "                       p_valid_ridge_nov1, p_valid_ridge_nov2, p_valid_mlp1, p_valid_mlp2, p_valid_rf1]\n",
    "all_models_p_valid = pd.concat(benchmark_val_preds + [y_valid_full], axis=1)\n",
    "all_models_p_valid_cols = all_models_p_valid.filter(regex='^p_valid').columns.tolist()\n",
    "benchmark_val_acc = compute_acc_metrics_by_feature(all_models_p_valid, all_models_p_valid_cols)"
   ]
  },
  {
   "cell_type": "code",
   "execution_count": 75,
   "metadata": {},
   "outputs": [
    {
     "data": {
      "text/plain": [
       "Index(['p_valid_ridge1', 'p_valid_ridge2', 'p_valid_ridge3', 'p_valid_ridge4',\n",
       "       'p_valid_ridge5', 'p_valid_ridge6', 'p_valid_ridge_nov1',\n",
       "       'p_valid_ridge_nov2', 'p_valid_mlp1', 'p_valid_mlp2', 'p_valid_rf1'],\n",
       "      dtype='object')"
      ]
     },
     "execution_count": 75,
     "metadata": {},
     "output_type": "execute_result"
    }
   ],
   "source": [
    "benchmark_val_acc.index"
   ]
  },
  {
   "cell_type": "code",
   "execution_count": 76,
   "metadata": {},
   "outputs": [],
   "source": [
    "unprefix_benchmark_val_acc_filt = [col for col in benchmark_val_acc.index if col[len('p_valid_'):] in cv_mean_metrics.index]\n",
    "#benchmark_val_acc_cp = benchmark_val_acc.loc[unprefix_benchmark_val_acc_filt].copy()\n",
    "#unprefix_benchmark_val_acc_cp = [col[len('p_valid_'):] for col in benchmark_val_acc_cp.index]\n",
    "\n",
    "benchmark_val_acc_cp = benchmark_val_acc.copy()\n",
    "unprefix_benchmark_val_acc_cp = [col[len('p_valid_'):] for col in benchmark_val_acc.index]\n",
    "\n",
    "benchmark_val_acc_cp['kind'] = 'valid'\n",
    "benchmark_val_acc_cp['model'] = unprefix_benchmark_val_acc_cp"
   ]
  },
  {
   "cell_type": "code",
   "execution_count": 77,
   "metadata": {},
   "outputs": [
    {
     "data": {
      "text/html": [
       "<div>\n",
       "<style scoped>\n",
       "    .dataframe tbody tr th:only-of-type {\n",
       "        vertical-align: middle;\n",
       "    }\n",
       "\n",
       "    .dataframe tbody tr th {\n",
       "        vertical-align: top;\n",
       "    }\n",
       "\n",
       "    .dataframe thead th {\n",
       "        text-align: right;\n",
       "    }\n",
       "</style>\n",
       "<table border=\"1\" class=\"dataframe\">\n",
       "  <thead>\n",
       "    <tr style=\"text-align: right;\">\n",
       "      <th></th>\n",
       "      <th>wacc</th>\n",
       "      <th>acc</th>\n",
       "      <th>acc_up</th>\n",
       "      <th>acc_down</th>\n",
       "      <th>kind</th>\n",
       "      <th>model</th>\n",
       "    </tr>\n",
       "  </thead>\n",
       "  <tbody>\n",
       "    <tr>\n",
       "      <th>p_valid_ridge1</th>\n",
       "      <td>0.414210</td>\n",
       "      <td>0.503953</td>\n",
       "      <td>0.504446</td>\n",
       "      <td>0.503315</td>\n",
       "      <td>valid</td>\n",
       "      <td>ridge1</td>\n",
       "    </tr>\n",
       "    <tr>\n",
       "      <th>p_valid_ridge2</th>\n",
       "      <td>0.413944</td>\n",
       "      <td>0.503691</td>\n",
       "      <td>0.504250</td>\n",
       "      <td>0.502968</td>\n",
       "      <td>valid</td>\n",
       "      <td>ridge2</td>\n",
       "    </tr>\n",
       "    <tr>\n",
       "      <th>p_valid_ridge3</th>\n",
       "      <td>0.406421</td>\n",
       "      <td>0.543726</td>\n",
       "      <td>0.789926</td>\n",
       "      <td>0.225516</td>\n",
       "      <td>valid</td>\n",
       "      <td>ridge3</td>\n",
       "    </tr>\n",
       "    <tr>\n",
       "      <th>p_valid_ridge4</th>\n",
       "      <td>0.395130</td>\n",
       "      <td>0.496350</td>\n",
       "      <td>0.561044</td>\n",
       "      <td>0.412736</td>\n",
       "      <td>valid</td>\n",
       "      <td>ridge4</td>\n",
       "    </tr>\n",
       "    <tr>\n",
       "      <th>p_valid_ridge5</th>\n",
       "      <td>0.395623</td>\n",
       "      <td>0.552484</td>\n",
       "      <td>0.909497</td>\n",
       "      <td>0.091053</td>\n",
       "      <td>valid</td>\n",
       "      <td>ridge5</td>\n",
       "    </tr>\n",
       "    <tr>\n",
       "      <th>p_valid_ridge6</th>\n",
       "      <td>0.392555</td>\n",
       "      <td>0.563791</td>\n",
       "      <td>1.000000</td>\n",
       "      <td>0.000000</td>\n",
       "      <td>valid</td>\n",
       "      <td>ridge6</td>\n",
       "    </tr>\n",
       "    <tr>\n",
       "      <th>p_valid_ridge_nov1</th>\n",
       "      <td>0.414142</td>\n",
       "      <td>0.503897</td>\n",
       "      <td>0.504470</td>\n",
       "      <td>0.503157</td>\n",
       "      <td>valid</td>\n",
       "      <td>ridge_nov1</td>\n",
       "    </tr>\n",
       "    <tr>\n",
       "      <th>p_valid_ridge_nov2</th>\n",
       "      <td>0.414137</td>\n",
       "      <td>0.503897</td>\n",
       "      <td>0.504495</td>\n",
       "      <td>0.503126</td>\n",
       "      <td>valid</td>\n",
       "      <td>ridge_nov2</td>\n",
       "    </tr>\n",
       "    <tr>\n",
       "      <th>p_valid_mlp1</th>\n",
       "      <td>0.436177</td>\n",
       "      <td>0.436195</td>\n",
       "      <td>0.000049</td>\n",
       "      <td>0.999905</td>\n",
       "      <td>valid</td>\n",
       "      <td>mlp1</td>\n",
       "    </tr>\n",
       "    <tr>\n",
       "      <th>p_valid_mlp2</th>\n",
       "      <td>0.436170</td>\n",
       "      <td>0.439762</td>\n",
       "      <td>0.020910</td>\n",
       "      <td>0.981120</td>\n",
       "      <td>valid</td>\n",
       "      <td>mlp2</td>\n",
       "    </tr>\n",
       "    <tr>\n",
       "      <th>p_valid_rf1</th>\n",
       "      <td>0.392358</td>\n",
       "      <td>0.563226</td>\n",
       "      <td>0.997728</td>\n",
       "      <td>0.001642</td>\n",
       "      <td>valid</td>\n",
       "      <td>rf1</td>\n",
       "    </tr>\n",
       "  </tbody>\n",
       "</table>\n",
       "</div>"
      ],
      "text/plain": [
       "                        wacc       acc    acc_up  acc_down   kind       model\n",
       "p_valid_ridge1      0.414210  0.503953  0.504446  0.503315  valid      ridge1\n",
       "p_valid_ridge2      0.413944  0.503691  0.504250  0.502968  valid      ridge2\n",
       "p_valid_ridge3      0.406421  0.543726  0.789926  0.225516  valid      ridge3\n",
       "p_valid_ridge4      0.395130  0.496350  0.561044  0.412736  valid      ridge4\n",
       "p_valid_ridge5      0.395623  0.552484  0.909497  0.091053  valid      ridge5\n",
       "p_valid_ridge6      0.392555  0.563791  1.000000  0.000000  valid      ridge6\n",
       "p_valid_ridge_nov1  0.414142  0.503897  0.504470  0.503157  valid  ridge_nov1\n",
       "p_valid_ridge_nov2  0.414137  0.503897  0.504495  0.503126  valid  ridge_nov2\n",
       "p_valid_mlp1        0.436177  0.436195  0.000049  0.999905  valid        mlp1\n",
       "p_valid_mlp2        0.436170  0.439762  0.020910  0.981120  valid        mlp2\n",
       "p_valid_rf1         0.392358  0.563226  0.997728  0.001642  valid         rf1"
      ]
     },
     "execution_count": 77,
     "metadata": {},
     "output_type": "execute_result"
    }
   ],
   "source": [
    "benchmark_val_acc_cp"
   ]
  },
  {
   "cell_type": "code",
   "execution_count": 78,
   "metadata": {},
   "outputs": [],
   "source": [
    "cv_mean_metrics_cp = cv_mean_metrics.rename(columns={'mean_test_w_accuracy': 'wacc',\n",
    "                        'mean_test_accuracy': 'acc',\n",
    "                        'mean_test_up_accuracy': 'acc_up',\n",
    "                        'mean_test_down_accuracy': 'acc_down'})\n",
    "cv_mean_metrics_cp['kind'] = 'cv_average'\n",
    "cv_mean_metrics_cp['model'] = cv_mean_metrics_cp.index"
   ]
  },
  {
   "cell_type": "code",
   "execution_count": 79,
   "metadata": {},
   "outputs": [],
   "source": [
    "assessment_panel = pd.concat([cv_mean_metrics_cp, benchmark_val_acc_cp], axis=0)"
   ]
  },
  {
   "cell_type": "code",
   "execution_count": 80,
   "metadata": {},
   "outputs": [
    {
     "data": {
      "image/png": "[encoded data removed]",
      "text/plain": [
       "<Figure size 1152x576 with 4 Axes>"
      ]
     },
     "metadata": {},
     "output_type": "display_data"
    }
   ],
   "source": [
    "fig, axs = plt.subplots(2,2, sharex=True, sharey='row')\n",
    "plt.suptitle(\"CV Average vs Valid Direction Accuracy by model\")\n",
    "\n",
    "ax1 = axs[0,0]\n",
    "sns.barplot(data=assessment_panel, x='model', y='wacc', hue='kind', ax=ax1)\n",
    "ax1.set_title('Weighted')\n",
    "ax1.set_xlabel('')\n",
    "ax1.set_ylabel('Accuracy')\n",
    "\n",
    "ax2 = axs[0,1]\n",
    "sns.barplot(data=assessment_panel, x='model', y='acc', hue='kind', ax=ax2)\n",
    "ax2.set_title('Regular')\n",
    "ax2.set_xlabel('')\n",
    "ax2.set_ylabel('')\n",
    "\n",
    "ax3 = axs[1,0]\n",
    "sns.barplot(data=assessment_panel, x='model', y='acc_up', hue='kind', ax=ax3)\n",
    "ax3.set_title('Direction up')\n",
    "ax3.set_ylabel('Accuracy')\n",
    "for tick in ax3.get_xticklabels():\n",
    "    tick.set_rotation(45)\n",
    "    \n",
    "ax4 = axs[1,1]\n",
    "sns.barplot(data=assessment_panel, x='model', y='acc_down', hue='kind', ax=ax4)\n",
    "ax4.set_title('Direction Down')\n",
    "ax4.set_ylabel('')\n",
    "for tick in ax4.get_xticklabels():\n",
    "    tick.set_rotation(45)\n",
    "    \n",
    "for ax in axs.reshape(-1)[1:]:\n",
    "    ax.legend(\"\")\n",
    "axs[0,0].legend(loc='lower left')\n",
    "\n",
    "plt.show()"
   ]
  },
  {
   "cell_type": "markdown",
   "metadata": {},
   "source": [
    "MLP models achieve the best CV performance, however, it is a good practice to compare this mean CV Error with an error metric computed in a holdout dataset (valid). In this case, MLP1 model excels at Accuracy Direction Down, but predicts no Direction Up. On the other hand, MLP2 directional accuracies are skewed, more noticiably in valid dataset \n",
    "\n",
    "The most robust models are ridge1 or ridge2, adding more features strongly skews coefficient values, that's it, other features are assigned a set of values much higher than alpha factors; however, this does not leads to an improvement on CV Average scorings, in addition, these models are not performing well in out-of-sample, therefore, these other features introduce patterns that strongly chagnes over time.\n",
    "As an overfitting problem, it can be dealt in two ways:\n",
    "* Adding strong regularization: Which is not efficient, because alpha factors coefficients are also shrinked\n",
    "* Getting more data, although patterns may not extrapolate in time\n"
   ]
  },
  {
   "cell_type": "code",
   "execution_count": 107,
   "metadata": {},
   "outputs": [
    {
     "data": {
      "image/png": "[encoded data removed]",
      "text/plain": [
       "<Figure size 1152x576 with 1 Axes>"
      ]
     },
     "metadata": {},
     "output_type": "display_data"
    }
   ],
   "source": [
    "ax1 = sns.lineplot(data=assessment_panel, x='model', y='acc', hue='kind', order = '')\n",
    "ax1.set_title('CV Average vs Valid Direction Accuracy by model')\n",
    "ax1.set_xlabel('')\n",
    "ax1.set_ylabel('Accuracy')\n",
    "\n",
    "for tick in ax4.get_xticklabels():\n",
    "    tick.set_rotation(45)\n",
    "    \n",
    "for ax in axs.reshape(-1)[1:]:\n",
    "    ax.legend(\"\")\n",
    "axs[0,0].legend(loc='lower left')\n",
    "\n",
    "plt.show()"
   ]
  },
  {
   "cell_type": "markdown",
   "metadata": {},
   "source": [
    "# Refit Champion Model on Train + Valid"
   ]
  },
  {
   "cell_type": "code",
   "execution_count": 81,
   "metadata": {},
   "outputs": [
    {
     "data": {
      "text/plain": [
       "Ridge(alpha=1, copy_X=True, fit_intercept=False, max_iter=None, normalize=False,\n",
       "      random_state=None, solver='auto', tol=0.001)"
      ]
     },
     "execution_count": 81,
     "metadata": {},
     "output_type": "execute_result"
    }
   ],
   "source": [
    "mod_ridge1"
   ]
  },
  {
   "cell_type": "code",
   "execution_count": 82,
   "metadata": {},
   "outputs": [
    {
     "data": {
      "text/plain": [
       "Mean_Reversion_Sector_Neutral_Smoothed    0.000474\n",
       "Momentum_1YR_Smoothed                     0.000100\n",
       "Overnight_Sentiment_Smoothed              0.000502\n",
       "Name: train, dtype: float64"
      ]
     },
     "execution_count": 82,
     "metadata": {},
     "output_type": "execute_result"
    }
   ],
   "source": [
    "champ_train_coefs = get_reg_coefs(res_ridge1, features1)\n",
    "champ_train_coefs.name = 'train'\n",
    "champ_train_coefs"
   ]
  },
  {
   "cell_type": "code",
   "execution_count": 83,
   "metadata": {},
   "outputs": [],
   "source": [
    "champ_model = mod_ridge1\n",
    "res_champ_model = champ_model.fit(pd.concat([X_train_full, X_valid_full], axis=0)[features1],\n",
    "                pd.concat([y_train_full, y_valid_full], axis=0))"
   ]
  },
  {
   "cell_type": "code",
   "execution_count": 84,
   "metadata": {},
   "outputs": [
    {
     "data": {
      "text/plain": [
       "Mean_Reversion_Sector_Neutral_Smoothed    0.000480\n",
       "Momentum_1YR_Smoothed                     0.000167\n",
       "Overnight_Sentiment_Smoothed              0.000373\n",
       "Name: valid, dtype: float64"
      ]
     },
     "execution_count": 84,
     "metadata": {},
     "output_type": "execute_result"
    }
   ],
   "source": [
    "champ_valid_coefs = get_reg_coefs(champ_model, features1)\n",
    "champ_valid_coefs.name = 'valid'\n",
    "champ_valid_coefs"
   ]
  },
  {
   "cell_type": "code",
   "execution_count": 120,
   "metadata": {},
   "outputs": [],
   "source": [
    "champ_acc = assessment_panel.loc[['ridge1', 'p_valid_ridge1'], ['acc']]\n",
    "champ_acc = champ_acc.rename({'ridge1': 'cv-average', 'p_valid_ridge1': 'valid'})"
   ]
  },
  {
   "cell_type": "code",
   "execution_count": 195,
   "metadata": {},
   "outputs": [
    {
     "data": {
      "image/png": "[encoded data removed]",
      "text/plain": [
       "<Figure size 1152x576 with 1 Axes>"
      ]
     },
     "metadata": {},
     "output_type": "display_data"
    }
   ],
   "source": [
    "champ_coefs = pd.concat([champ_train_coefs, champ_valid_coefs ], axis=1)\n",
    "ax = (champ_coefs/champ_coefs.sum(axis=0)).plot.bar()\n",
    "ax.set_yticklabels(['{:,.0%}'.format(x) for x in ax.get_yticks()])\n",
    "plt.xticks(rotation=0)\n",
    "plt.title(\"Champion models coefficients  weights on train and valid\", fontsize=18)\n",
    "plt.show()"
   ]
  },
  {
   "cell_type": "code",
   "execution_count": 86,
   "metadata": {},
   "outputs": [],
   "source": [
    "p_test_champ = preds_to_df(X_test_full[features1], res_ridge1, 'p_test_champ')"
   ]
  },
  {
   "cell_type": "code",
   "execution_count": 126,
   "metadata": {},
   "outputs": [
    {
     "data": {
      "image/png": "[encoded data removed]",
      "text/plain": [
       "<Figure size 1152x576 with 1 Axes>"
      ]
     },
     "metadata": {},
     "output_type": "display_data"
    }
   ],
   "source": [
    "ax = p_valid_ridge1.plot.hist(alpha=0.5, density=True)\n",
    "p_test_champ.plot.hist(alpha=0.5, density=True, ax=ax)\n",
    "plt.title(\"Champion models predictions on train and valid\", fontsize=18)\n",
    "plt.show()"
   ]
  },
  {
   "cell_type": "code",
   "execution_count": 88,
   "metadata": {},
   "outputs": [
    {
     "data": {
      "text/html": [
       "<div>\n",
       "<style scoped>\n",
       "    .dataframe tbody tr th:only-of-type {\n",
       "        vertical-align: middle;\n",
       "    }\n",
       "\n",
       "    .dataframe tbody tr th {\n",
       "        vertical-align: top;\n",
       "    }\n",
       "\n",
       "    .dataframe thead th {\n",
       "        text-align: right;\n",
       "    }\n",
       "</style>\n",
       "<table border=\"1\" class=\"dataframe\">\n",
       "  <thead>\n",
       "    <tr style=\"text-align: right;\">\n",
       "      <th></th>\n",
       "      <th>wacc</th>\n",
       "      <th>acc</th>\n",
       "      <th>acc_up</th>\n",
       "      <th>acc_down</th>\n",
       "    </tr>\n",
       "  </thead>\n",
       "  <tbody>\n",
       "    <tr>\n",
       "      <th>p_test_champ</th>\n",
       "      <td>0.40332</td>\n",
       "      <td>0.502383</td>\n",
       "      <td>0.501397</td>\n",
       "      <td>0.50339</td>\n",
       "    </tr>\n",
       "  </tbody>\n",
       "</table>\n",
       "</div>"
      ],
      "text/plain": [
       "                 wacc       acc    acc_up  acc_down\n",
       "p_test_champ  0.40332  0.502383  0.501397   0.50339"
      ]
     },
     "execution_count": 88,
     "metadata": {},
     "output_type": "execute_result"
    }
   ],
   "source": [
    "champ_test_acc = compute_acc_metrics_by_feature(p_test_champ.join(y_test_full), ['p_test_champ'])\n",
    "champ_test_acc"
   ]
  },
  {
   "cell_type": "code",
   "execution_count": 89,
   "metadata": {},
   "outputs": [
    {
     "data": {
      "text/html": [
       "<div>\n",
       "<style scoped>\n",
       "    .dataframe tbody tr th:only-of-type {\n",
       "        vertical-align: middle;\n",
       "    }\n",
       "\n",
       "    .dataframe tbody tr th {\n",
       "        vertical-align: top;\n",
       "    }\n",
       "\n",
       "    .dataframe thead th {\n",
       "        text-align: right;\n",
       "    }\n",
       "</style>\n",
       "<table border=\"1\" class=\"dataframe\">\n",
       "  <thead>\n",
       "    <tr style=\"text-align: right;\">\n",
       "      <th></th>\n",
       "      <th>wacc</th>\n",
       "      <th>acc</th>\n",
       "      <th>acc_up</th>\n",
       "      <th>acc_down</th>\n",
       "    </tr>\n",
       "  </thead>\n",
       "  <tbody>\n",
       "    <tr>\n",
       "      <th>cv_train_champ</th>\n",
       "      <td>0.410955</td>\n",
       "      <td>0.502288</td>\n",
       "      <td>0.502782</td>\n",
       "      <td>0.501784</td>\n",
       "    </tr>\n",
       "  </tbody>\n",
       "</table>\n",
       "</div>"
      ],
      "text/plain": [
       "                    wacc       acc    acc_up  acc_down\n",
       "cv_train_champ  0.410955  0.502288  0.502782  0.501784"
      ]
     },
     "execution_count": 89,
     "metadata": {},
     "output_type": "execute_result"
    }
   ],
   "source": [
    "acc_cols = ['wacc', 'acc', 'acc_up', 'acc_down']\n",
    "champ_traincv_acc = cv_mean_metrics_cp.loc['ridge1'][acc_cols].to_frame('cv_train_champ').T\n",
    "champ_traincv_acc"
   ]
  },
  {
   "cell_type": "code",
   "execution_count": 90,
   "metadata": {},
   "outputs": [
    {
     "data": {
      "text/html": [
       "<div>\n",
       "<style scoped>\n",
       "    .dataframe tbody tr th:only-of-type {\n",
       "        vertical-align: middle;\n",
       "    }\n",
       "\n",
       "    .dataframe tbody tr th {\n",
       "        vertical-align: top;\n",
       "    }\n",
       "\n",
       "    .dataframe thead th {\n",
       "        text-align: right;\n",
       "    }\n",
       "</style>\n",
       "<table border=\"1\" class=\"dataframe\">\n",
       "  <thead>\n",
       "    <tr style=\"text-align: right;\">\n",
       "      <th></th>\n",
       "      <th>wacc</th>\n",
       "      <th>acc</th>\n",
       "      <th>acc_up</th>\n",
       "      <th>acc_down</th>\n",
       "    </tr>\n",
       "  </thead>\n",
       "  <tbody>\n",
       "    <tr>\n",
       "      <th>valid_champ</th>\n",
       "      <td>0.41421</td>\n",
       "      <td>0.503953</td>\n",
       "      <td>0.504446</td>\n",
       "      <td>0.503315</td>\n",
       "    </tr>\n",
       "  </tbody>\n",
       "</table>\n",
       "</div>"
      ],
      "text/plain": [
       "                wacc       acc    acc_up  acc_down\n",
       "valid_champ  0.41421  0.503953  0.504446  0.503315"
      ]
     },
     "execution_count": 90,
     "metadata": {},
     "output_type": "execute_result"
    }
   ],
   "source": [
    "champ_valid_acc = benchmark_val_acc_cp.loc['p_valid_ridge1'][acc_cols].to_frame('valid_champ').T\n",
    "champ_valid_acc"
   ]
  },
  {
   "cell_type": "code",
   "execution_count": 91,
   "metadata": {},
   "outputs": [
    {
     "data": {
      "text/html": [
       "<div>\n",
       "<style scoped>\n",
       "    .dataframe tbody tr th:only-of-type {\n",
       "        vertical-align: middle;\n",
       "    }\n",
       "\n",
       "    .dataframe tbody tr th {\n",
       "        vertical-align: top;\n",
       "    }\n",
       "\n",
       "    .dataframe thead th {\n",
       "        text-align: right;\n",
       "    }\n",
       "</style>\n",
       "<table border=\"1\" class=\"dataframe\">\n",
       "  <thead>\n",
       "    <tr style=\"text-align: right;\">\n",
       "      <th></th>\n",
       "      <th>wacc</th>\n",
       "      <th>acc</th>\n",
       "      <th>acc_up</th>\n",
       "      <th>acc_down</th>\n",
       "    </tr>\n",
       "  </thead>\n",
       "  <tbody>\n",
       "    <tr>\n",
       "      <th>cv_train_champ</th>\n",
       "      <td>0.410955</td>\n",
       "      <td>0.502288</td>\n",
       "      <td>0.502782</td>\n",
       "      <td>0.501784</td>\n",
       "    </tr>\n",
       "    <tr>\n",
       "      <th>valid_champ</th>\n",
       "      <td>0.41421</td>\n",
       "      <td>0.503953</td>\n",
       "      <td>0.504446</td>\n",
       "      <td>0.503315</td>\n",
       "    </tr>\n",
       "    <tr>\n",
       "      <th>p_test_champ</th>\n",
       "      <td>0.40332</td>\n",
       "      <td>0.502383</td>\n",
       "      <td>0.501397</td>\n",
       "      <td>0.50339</td>\n",
       "    </tr>\n",
       "  </tbody>\n",
       "</table>\n",
       "</div>"
      ],
      "text/plain": [
       "                    wacc       acc    acc_up  acc_down\n",
       "cv_train_champ  0.410955  0.502288  0.502782  0.501784\n",
       "valid_champ      0.41421  0.503953  0.504446  0.503315\n",
       "p_test_champ     0.40332  0.502383  0.501397   0.50339"
      ]
     },
     "execution_count": 91,
     "metadata": {},
     "output_type": "execute_result"
    }
   ],
   "source": [
    "champ_acc_summary = pd.concat([champ_traincv_acc, champ_valid_acc, champ_test_acc], axis=0)\n",
    "champ_acc_summary"
   ]
  },
  {
   "cell_type": "code",
   "execution_count": 131,
   "metadata": {},
   "outputs": [
    {
     "data": {
      "image/png": "[encoded data removed]",
      "text/plain": [
       "<Figure size 1152x576 with 1 Axes>"
      ]
     },
     "metadata": {},
     "output_type": "display_data"
    }
   ],
   "source": [
    "ax = champ_acc_summary.plot(y='acc', label='Accuracy')\n",
    "ax.set_yticklabels(['{:,.2%}'.format(x) for x in ax.get_yticks()])\n",
    "plt.title(\"Champion models Accuracy on Train-cv, Valid and Test\", fontsize=18)\n",
    "plt.legend(\"\")\n",
    "plt.show()"
   ]
  },
  {
   "cell_type": "markdown",
   "metadata": {},
   "source": [
    "# Write Champion Model "
   ]
  },
  {
   "cell_type": "markdown",
   "metadata": {},
   "source": [
    "## Compute alpha factor from ml model predictions\n",
    "* (Optional) Sector neutralization\n",
    "* ranking\n",
    "* z-scoring"
   ]
  },
  {
   "cell_type": "code",
   "execution_count": 93,
   "metadata": {},
   "outputs": [],
   "source": [
    "all_alphas = features1"
   ]
  },
  {
   "cell_type": "code",
   "execution_count": 158,
   "metadata": {},
   "outputs": [
    {
     "data": {
      "text/html": [
       "<div>\n",
       "<style scoped>\n",
       "    .dataframe tbody tr th:only-of-type {\n",
       "        vertical-align: middle;\n",
       "    }\n",
       "\n",
       "    .dataframe tbody tr th {\n",
       "        vertical-align: top;\n",
       "    }\n",
       "\n",
       "    .dataframe thead th {\n",
       "        text-align: right;\n",
       "    }\n",
       "</style>\n",
       "<table border=\"1\" class=\"dataframe\">\n",
       "  <thead>\n",
       "    <tr style=\"text-align: right;\">\n",
       "      <th></th>\n",
       "      <th></th>\n",
       "      <th>p_test_champ</th>\n",
       "      <th>sector_code</th>\n",
       "    </tr>\n",
       "    <tr>\n",
       "      <th>date</th>\n",
       "      <th>asset</th>\n",
       "      <th></th>\n",
       "      <th></th>\n",
       "    </tr>\n",
       "  </thead>\n",
       "  <tbody>\n",
       "    <tr>\n",
       "      <th rowspan=\"5\" valign=\"top\">2015-05-26 00:00:00+00:00</th>\n",
       "      <th>A</th>\n",
       "      <td>0.000961</td>\n",
       "      <td>0</td>\n",
       "    </tr>\n",
       "    <tr>\n",
       "      <th>AAL</th>\n",
       "      <td>0.001474</td>\n",
       "      <td>3</td>\n",
       "    </tr>\n",
       "    <tr>\n",
       "      <th>AAP</th>\n",
       "      <td>-0.001072</td>\n",
       "      <td>8</td>\n",
       "    </tr>\n",
       "    <tr>\n",
       "      <th>AAPL</th>\n",
       "      <td>0.000003</td>\n",
       "      <td>1</td>\n",
       "    </tr>\n",
       "    <tr>\n",
       "      <th>ABBV</th>\n",
       "      <td>0.000448</td>\n",
       "      <td>0</td>\n",
       "    </tr>\n",
       "  </tbody>\n",
       "</table>\n",
       "</div>"
      ],
      "text/plain": [
       "                                 p_test_champ  sector_code\n",
       "date                      asset                           \n",
       "2015-05-26 00:00:00+00:00 A          0.000961            0\n",
       "                          AAL        0.001474            3\n",
       "                          AAP       -0.001072            8\n",
       "                          AAPL       0.000003            1\n",
       "                          ABBV       0.000448            0"
      ]
     },
     "execution_count": 158,
     "metadata": {},
     "output_type": "execute_result"
    }
   ],
   "source": [
    "ml_alpha_test = mle_utils.get_pred_alpha(p_test_champ, kind='reg')\n",
    "ml_alpha_test_sector = ml_alpha_test.join(sector_factor_df,how='left')\n",
    "ml_alpha_test_sector.head(5)"
   ]
  },
  {
   "cell_type": "code",
   "execution_count": 161,
   "metadata": {},
   "outputs": [
    {
     "data": {
      "text/html": [
       "<div>\n",
       "<style scoped>\n",
       "    .dataframe tbody tr th:only-of-type {\n",
       "        vertical-align: middle;\n",
       "    }\n",
       "\n",
       "    .dataframe tbody tr th {\n",
       "        vertical-align: top;\n",
       "    }\n",
       "\n",
       "    .dataframe thead th {\n",
       "        text-align: right;\n",
       "    }\n",
       "</style>\n",
       "<table border=\"1\" class=\"dataframe\">\n",
       "  <thead>\n",
       "    <tr style=\"text-align: right;\">\n",
       "      <th></th>\n",
       "      <th></th>\n",
       "      <th>sector_code</th>\n",
       "      <th>p_test_champ</th>\n",
       "    </tr>\n",
       "    <tr>\n",
       "      <th>date</th>\n",
       "      <th>asset</th>\n",
       "      <th></th>\n",
       "      <th></th>\n",
       "    </tr>\n",
       "  </thead>\n",
       "  <tbody>\n",
       "    <tr>\n",
       "      <th rowspan=\"5\" valign=\"top\">2015-05-26 00:00:00+00:00</th>\n",
       "      <th>A</th>\n",
       "      <td>0</td>\n",
       "      <td>0.000141</td>\n",
       "    </tr>\n",
       "    <tr>\n",
       "      <th>AAL</th>\n",
       "      <td>3</td>\n",
       "      <td>-0.000101</td>\n",
       "    </tr>\n",
       "    <tr>\n",
       "      <th>AAP</th>\n",
       "      <td>8</td>\n",
       "      <td>0.000195</td>\n",
       "    </tr>\n",
       "    <tr>\n",
       "      <th>AAPL</th>\n",
       "      <td>1</td>\n",
       "      <td>0.000142</td>\n",
       "    </tr>\n",
       "    <tr>\n",
       "      <th>ABBV</th>\n",
       "      <td>0</td>\n",
       "      <td>0.000141</td>\n",
       "    </tr>\n",
       "  </tbody>\n",
       "</table>\n",
       "</div>"
      ],
      "text/plain": [
       "                                 sector_code  p_test_champ\n",
       "date                      asset                           \n",
       "2015-05-26 00:00:00+00:00 A                0      0.000141\n",
       "                          AAL              3     -0.000101\n",
       "                          AAP              8      0.000195\n",
       "                          AAPL             1      0.000142\n",
       "                          ABBV             0      0.000141"
      ]
     },
     "execution_count": 161,
     "metadata": {},
     "output_type": "execute_result"
    }
   ],
   "source": [
    "ml_alpha_test_sector_means = ml_alpha_test_sector.reset_index().set_index(['date', 'sector_code']).groupby(level=[0, 1])[['p_test_champ']].transform(np.mean)\n",
    "ml_alpha_test_sector_means['asset'] = ml_alpha_test_sector.index.get_level_values(1)\n",
    "ml_alpha_test_sector_means = ml_alpha_test_sector_means.reset_index().set_index(['date', 'asset'])\n",
    "ml_alpha_test_sector_means.head(5)"
   ]
  },
  {
   "cell_type": "code",
   "execution_count": 163,
   "metadata": {},
   "outputs": [
    {
     "data": {
      "text/html": [
       "<div>\n",
       "<style scoped>\n",
       "    .dataframe tbody tr th:only-of-type {\n",
       "        vertical-align: middle;\n",
       "    }\n",
       "\n",
       "    .dataframe tbody tr th {\n",
       "        vertical-align: top;\n",
       "    }\n",
       "\n",
       "    .dataframe thead th {\n",
       "        text-align: right;\n",
       "    }\n",
       "</style>\n",
       "<table border=\"1\" class=\"dataframe\">\n",
       "  <thead>\n",
       "    <tr style=\"text-align: right;\">\n",
       "      <th></th>\n",
       "      <th></th>\n",
       "      <th>p_test_champ</th>\n",
       "    </tr>\n",
       "    <tr>\n",
       "      <th>date</th>\n",
       "      <th>asset</th>\n",
       "      <th></th>\n",
       "    </tr>\n",
       "  </thead>\n",
       "  <tbody>\n",
       "    <tr>\n",
       "      <th rowspan=\"5\" valign=\"top\">2015-05-26 00:00:00+00:00</th>\n",
       "      <th>A</th>\n",
       "      <td>0.000819</td>\n",
       "    </tr>\n",
       "    <tr>\n",
       "      <th>AAL</th>\n",
       "      <td>0.001575</td>\n",
       "    </tr>\n",
       "    <tr>\n",
       "      <th>AAP</th>\n",
       "      <td>-0.001267</td>\n",
       "    </tr>\n",
       "    <tr>\n",
       "      <th>AAPL</th>\n",
       "      <td>-0.000139</td>\n",
       "    </tr>\n",
       "    <tr>\n",
       "      <th>ABBV</th>\n",
       "      <td>0.000307</td>\n",
       "    </tr>\n",
       "  </tbody>\n",
       "</table>\n",
       "</div>"
      ],
      "text/plain": [
       "                                 p_test_champ\n",
       "date                      asset              \n",
       "2015-05-26 00:00:00+00:00 A          0.000819\n",
       "                          AAL        0.001575\n",
       "                          AAP       -0.001267\n",
       "                          AAPL      -0.000139\n",
       "                          ABBV       0.000307"
      ]
     },
     "execution_count": 163,
     "metadata": {},
     "output_type": "execute_result"
    }
   ],
   "source": [
    "ml_alpha_test_neu = ml_alpha_test - ml_alpha_test_sector_means[['p_test_champ']]\n",
    "ml_alpha_test_neu.head()"
   ]
  },
  {
   "cell_type": "code",
   "execution_count": 175,
   "metadata": {},
   "outputs": [],
   "source": [
    "avg_combi_alpha_test = X_test_full[all_alphas].mean(axis=1)\n",
    "avg_combi_alpha_test.name = 'avg_combi_alpha'\n",
    "ml_alpha_test_zscored =mle_utils.get_factor_alpha(ml_alpha_test_neu.iloc[:,0], bins=9)\n",
    "ml_alpha_test_zscored.name = 'ml_alpha'"
   ]
  },
  {
   "cell_type": "markdown",
   "metadata": {},
   "source": [
    "## Comparison with average alpha factor"
   ]
  },
  {
   "cell_type": "code",
   "execution_count": 166,
   "metadata": {},
   "outputs": [
    {
     "data": {
      "image/png": "[encoded data removed]",
      "text/plain": [
       "<Figure size 1152x576 with 1 Axes>"
      ]
     },
     "metadata": {},
     "output_type": "display_data"
    }
   ],
   "source": [
    "ax = ml_alpha_test_zscored.plot.hist(alpha=0.5, density=True, label='ml_alpha')\n",
    "avg_combi_alpha_test.plot.hist(alpha=0.5, density=True, label='avg_combi_alpha',  ax=ax)\n",
    "plt.legend()\n",
    "plt.show()"
   ]
  },
  {
   "cell_type": "code",
   "execution_count": 173,
   "metadata": {},
   "outputs": [
    {
     "data": {
      "text/plain": [
       "date                       asset\n",
       "2015-05-26 00:00:00+00:00  A        0.483467\n",
       "                           AAL      1.197722\n",
       "                           AAP     -0.734169\n",
       "                           AAPL     0.421095\n",
       "                           ABBV     0.151598\n",
       "dtype: float64"
      ]
     },
     "execution_count": 173,
     "metadata": {},
     "output_type": "execute_result"
    }
   ],
   "source": [
    "avg_combi_alpha_test.head()"
   ]
  },
  {
   "cell_type": "code",
   "execution_count": 172,
   "metadata": {},
   "outputs": [
    {
     "data": {
      "text/plain": [
       "date                       asset\n",
       "2015-05-26 00:00:00+00:00  A        0.441308\n",
       "                           AAL      0.921743\n",
       "                           AAP     -0.759782\n",
       "                           AAPL    -0.039128\n",
       "                           ABBV     0.201090\n",
       "Name: p_test_champ, dtype: float64"
      ]
     },
     "execution_count": 172,
     "metadata": {},
     "output_type": "execute_result"
    }
   ],
   "source": [
    "ml_alpha_test_zscored.head()"
   ]
  },
  {
   "cell_type": "code",
   "execution_count": 177,
   "metadata": {},
   "outputs": [
    {
     "data": {
      "text/html": [
       "<div>\n",
       "<style scoped>\n",
       "    .dataframe tbody tr th:only-of-type {\n",
       "        vertical-align: middle;\n",
       "    }\n",
       "\n",
       "    .dataframe tbody tr th {\n",
       "        vertical-align: top;\n",
       "    }\n",
       "\n",
       "    .dataframe thead th {\n",
       "        text-align: right;\n",
       "    }\n",
       "</style>\n",
       "<table border=\"1\" class=\"dataframe\">\n",
       "  <thead>\n",
       "    <tr style=\"text-align: right;\">\n",
       "      <th></th>\n",
       "      <th>avg_combi_alpha</th>\n",
       "      <th>ml_alpha</th>\n",
       "      <th>target</th>\n",
       "    </tr>\n",
       "  </thead>\n",
       "  <tbody>\n",
       "    <tr>\n",
       "      <th>avg_combi_alpha</th>\n",
       "      <td>1.000000</td>\n",
       "      <td>0.831029</td>\n",
       "      <td>0.033375</td>\n",
       "    </tr>\n",
       "    <tr>\n",
       "      <th>ml_alpha</th>\n",
       "      <td>0.831029</td>\n",
       "      <td>1.000000</td>\n",
       "      <td>0.017367</td>\n",
       "    </tr>\n",
       "    <tr>\n",
       "      <th>target</th>\n",
       "      <td>0.033375</td>\n",
       "      <td>0.017367</td>\n",
       "      <td>1.000000</td>\n",
       "    </tr>\n",
       "  </tbody>\n",
       "</table>\n",
       "</div>"
      ],
      "text/plain": [
       "                 avg_combi_alpha  ml_alpha    target\n",
       "avg_combi_alpha         1.000000  0.831029  0.033375\n",
       "ml_alpha                0.831029  1.000000  0.017367\n",
       "target                  0.033375  0.017367  1.000000"
      ]
     },
     "execution_count": 177,
     "metadata": {},
     "output_type": "execute_result"
    }
   ],
   "source": [
    "pd.concat([avg_combi_alpha_test, ml_alpha_test_zscored, y_test_full], axis=1).corr()"
   ]
  },
  {
   "cell_type": "markdown",
   "metadata": {},
   "source": [
    "## Wrap data to write"
   ]
  },
  {
   "cell_type": "code",
   "execution_count": 167,
   "metadata": {},
   "outputs": [
    {
     "data": {
      "text/html": [
       "<div>\n",
       "<style scoped>\n",
       "    .dataframe tbody tr th:only-of-type {\n",
       "        vertical-align: middle;\n",
       "    }\n",
       "\n",
       "    .dataframe tbody tr th {\n",
       "        vertical-align: top;\n",
       "    }\n",
       "\n",
       "    .dataframe thead th {\n",
       "        text-align: right;\n",
       "    }\n",
       "</style>\n",
       "<table border=\"1\" class=\"dataframe\">\n",
       "  <thead>\n",
       "    <tr style=\"text-align: right;\">\n",
       "      <th></th>\n",
       "      <th></th>\n",
       "      <th>p_test</th>\n",
       "      <th>ml_alpha_raw</th>\n",
       "      <th>ml_alpha_sector_neutral</th>\n",
       "      <th>ml_alpha</th>\n",
       "      <th>avg_combi_alpha</th>\n",
       "      <th>Mean_Reversion_Sector_Neutral_Smoothed</th>\n",
       "      <th>Momentum_1YR_Smoothed</th>\n",
       "      <th>Overnight_Sentiment_Smoothed</th>\n",
       "    </tr>\n",
       "    <tr>\n",
       "      <th>date</th>\n",
       "      <th>asset</th>\n",
       "      <th></th>\n",
       "      <th></th>\n",
       "      <th></th>\n",
       "      <th></th>\n",
       "      <th></th>\n",
       "      <th></th>\n",
       "      <th></th>\n",
       "      <th></th>\n",
       "    </tr>\n",
       "  </thead>\n",
       "  <tbody>\n",
       "    <tr>\n",
       "      <th rowspan=\"2\" valign=\"top\">2015-05-26 00:00:00+00:00</th>\n",
       "      <th>A</th>\n",
       "      <td>0.000961</td>\n",
       "      <td>0.000961</td>\n",
       "      <td>0.000819</td>\n",
       "      <td>0.441308</td>\n",
       "      <td>0.483467</td>\n",
       "      <td>1.534003</td>\n",
       "      <td>-1.233543</td>\n",
       "      <td>1.149941</td>\n",
       "    </tr>\n",
       "    <tr>\n",
       "      <th>AAL</th>\n",
       "      <td>0.001474</td>\n",
       "      <td>0.001474</td>\n",
       "      <td>0.001575</td>\n",
       "      <td>0.921743</td>\n",
       "      <td>1.197722</td>\n",
       "      <td>1.692444</td>\n",
       "      <td>0.236520</td>\n",
       "      <td>1.664201</td>\n",
       "    </tr>\n",
       "    <tr>\n",
       "      <th rowspan=\"2\" valign=\"top\">2015-12-28 00:00:00+00:00</th>\n",
       "      <th>ZION</th>\n",
       "      <td>0.000835</td>\n",
       "      <td>0.000835</td>\n",
       "      <td>0.000687</td>\n",
       "      <td>0.561338</td>\n",
       "      <td>0.636962</td>\n",
       "      <td>0.773366</td>\n",
       "      <td>-0.188031</td>\n",
       "      <td>1.325552</td>\n",
       "    </tr>\n",
       "    <tr>\n",
       "      <th>ZTS</th>\n",
       "      <td>-0.000254</td>\n",
       "      <td>-0.000254</td>\n",
       "      <td>-0.000176</td>\n",
       "      <td>-0.219331</td>\n",
       "      <td>-0.097619</td>\n",
       "      <td>-0.944433</td>\n",
       "      <td>0.209727</td>\n",
       "      <td>0.441851</td>\n",
       "    </tr>\n",
       "  </tbody>\n",
       "</table>\n",
       "</div>"
      ],
      "text/plain": [
       "                                   p_test  ml_alpha_raw  \\\n",
       "date                      asset                           \n",
       "2015-05-26 00:00:00+00:00 A      0.000961      0.000961   \n",
       "                          AAL    0.001474      0.001474   \n",
       "2015-12-28 00:00:00+00:00 ZION   0.000835      0.000835   \n",
       "                          ZTS   -0.000254     -0.000254   \n",
       "\n",
       "                                 ml_alpha_sector_neutral  ml_alpha  \\\n",
       "date                      asset                                      \n",
       "2015-05-26 00:00:00+00:00 A                     0.000819  0.441308   \n",
       "                          AAL                   0.001575  0.921743   \n",
       "2015-12-28 00:00:00+00:00 ZION                  0.000687  0.561338   \n",
       "                          ZTS                  -0.000176 -0.219331   \n",
       "\n",
       "                                 avg_combi_alpha  \\\n",
       "date                      asset                    \n",
       "2015-05-26 00:00:00+00:00 A             0.483467   \n",
       "                          AAL           1.197722   \n",
       "2015-12-28 00:00:00+00:00 ZION          0.636962   \n",
       "                          ZTS          -0.097619   \n",
       "\n",
       "                                 Mean_Reversion_Sector_Neutral_Smoothed  \\\n",
       "date                      asset                                           \n",
       "2015-05-26 00:00:00+00:00 A                                    1.534003   \n",
       "                          AAL                                  1.692444   \n",
       "2015-12-28 00:00:00+00:00 ZION                                 0.773366   \n",
       "                          ZTS                                 -0.944433   \n",
       "\n",
       "                                 Momentum_1YR_Smoothed  \\\n",
       "date                      asset                          \n",
       "2015-05-26 00:00:00+00:00 A                  -1.233543   \n",
       "                          AAL                 0.236520   \n",
       "2015-12-28 00:00:00+00:00 ZION               -0.188031   \n",
       "                          ZTS                 0.209727   \n",
       "\n",
       "                                 Overnight_Sentiment_Smoothed  \n",
       "date                      asset                                \n",
       "2015-05-26 00:00:00+00:00 A                          1.149941  \n",
       "                          AAL                        1.664201  \n",
       "2015-12-28 00:00:00+00:00 ZION                       1.325552  \n",
       "                          ZTS                        0.441851  "
      ]
     },
     "execution_count": 167,
     "metadata": {},
     "output_type": "execute_result"
    }
   ],
   "source": [
    "preds = p_test_champ.rename(columns={'p_test_champ': 'p_test'})\n",
    "preds['ml_alpha_raw'] = ml_alpha_test\n",
    "preds['ml_alpha_sector_neutral'] = ml_alpha_test_neu\n",
    "preds['ml_alpha'] = ml_alpha_test_zscored\n",
    "preds['avg_combi_alpha'] = avg_combi_alpha_test\n",
    "preds[all_alphas] = X_test_full[all_alphas] \n",
    "\n",
    "pd.concat([preds.head(2), preds.tail(2)], axis=0)"
   ]
  },
  {
   "cell_type": "code",
   "execution_count": 168,
   "metadata": {},
   "outputs": [],
   "source": [
    "preds.to_csv(OUTPATH + OUTFILE1)"
   ]
  },
  {
   "cell_type": "code",
   "execution_count": 169,
   "metadata": {},
   "outputs": [],
   "source": [
    "with open(MODEL_PATH + MODEL_NAME, 'wb') as file:\n",
    "    pickle.dump(champ_model, file)"
   ]
  },
  {
   "cell_type": "code",
   "execution_count": 170,
   "metadata": {},
   "outputs": [],
   "source": [
    "metadata = {\n",
    "    'train_start_dt': train_dates[0].strftime('%Y-%m-%d'),\n",
    "    'factor_start_dt': test_dates[0].strftime('%Y-%m-%d'),\n",
    "    'factor_end_dt': test_dates[-1].strftime('%Y-%m-%d'),\n",
    "    'model': 'Ridge',\n",
    "    'features': features1,\n",
    "    'kind': 'static'}"
   ]
  },
  {
   "cell_type": "code",
   "execution_count": 171,
   "metadata": {},
   "outputs": [],
   "source": [
    "with open(MODEL_PATH + MODEL_METADATA, 'wb') as file:\n",
    "    pickle.dump(metadata, file)"
   ]
  },
  {
   "cell_type": "code",
   "execution_count": null,
   "metadata": {},
   "outputs": [],
   "source": []
  }
 ],
 "metadata": {
  "kernelspec": {
   "display_name": "Python 3",
   "language": "python",
   "name": "python3"
  },
  "language_info": {
   "codemirror_mode": {
    "name": "ipython",
    "version": 3
   },
   "file_extension": ".py",
   "mimetype": "text/x-python",
   "name": "python",
   "nbconvert_exporter": "python",
   "pygments_lexer": "ipython3",
   "version": "3.7.7"
  },
  "toc-autonumbering": true
 },
 "nbformat": 4,
 "nbformat_minor": 4
}
