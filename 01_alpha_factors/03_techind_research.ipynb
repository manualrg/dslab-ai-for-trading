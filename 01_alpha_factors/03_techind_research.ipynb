{
 "cells": [
  {
   "cell_type": "markdown",
   "metadata": {},
   "source": [
    "# Feature Engineering and Targets\n",
    "\n",
    "* Alpha Factors\n",
    "* Universal Quant Features\n",
    "* Time-based features\n",
    "* Sector"
   ]
  },
  {
   "cell_type": "code",
   "execution_count": 1,
   "metadata": {},
   "outputs": [
    {
     "data": {
      "text/plain": [
       "True"
      ]
     },
     "execution_count": 1,
     "metadata": {},
     "output_type": "execute_result"
    }
   ],
   "source": [
    "import yaml\n",
    "import os\n",
    "\n",
    "# Retrieve parameters from configuration file\n",
    "with open(\"../conf.yml\", \"r\") as ymlfile:\n",
    "    cfg = yaml.load(ymlfile)\n",
    "\n",
    "BUNDLE_FOLDER = cfg['quantopian']['dataset3']['bundle_folder']\n",
    "BUNDLE_NAME = cfg['quantopian']['dataset3']['bundle_name']\n",
    "SECTOR_FOLDER = cfg['quantopian']['dataset3']['sector_folder']\n",
    "SECTOR_DATA = cfg['quantopian']['dataset3']['sector_data']\n",
    "SECTOR_NAMES = cfg['quantopian']['dataset3']['sector_names']\n",
    "\n",
    "# Specify the bundle path\n",
    "bundle_path = os.path.join(os.getcwd(), '..', 'data', BUNDLE_FOLDER)\n",
    "sector_path = os.path.join(os.getcwd(), '..', 'data', SECTOR_FOLDER, SECTOR_DATA)\n",
    "sector_file = os.path.join(os.getcwd(), '..', 'data', SECTOR_FOLDER, SECTOR_NAMES)\n",
    "os.path.isdir(bundle_path)"
   ]
  },
  {
   "cell_type": "code",
   "execution_count": 2,
   "metadata": {},
   "outputs": [],
   "source": [
    "import numpy as np\n",
    "import pandas as pd\n",
    "import matplotlib.pyplot as plt\n",
    "\n",
    "from mle_quant_utils import quant_helper, quant_factors"
   ]
  },
  {
   "cell_type": "code",
   "execution_count": 3,
   "metadata": {},
   "outputs": [],
   "source": [
    "from zipline.data import bundles\n",
    "from zipline.utils.calendars import get_calendar\n",
    "from zipline.pipeline.factors import AverageDollarVolume, Returns, SimpleMovingAverage, AnnualizedVolatility, DailyReturns, CustomFactor, RSI, MACDSignal\n",
    "from zipline.pipeline import Pipeline\n",
    "from zipline.data.data_portal import DataPortal\n",
    "from zipline.pipeline.data import USEquityPricing"
   ]
  },
  {
   "cell_type": "code",
   "execution_count": 4,
   "metadata": {},
   "outputs": [],
   "source": [
    "import alphalens as al"
   ]
  },
  {
   "cell_type": "code",
   "execution_count": 5,
   "metadata": {},
   "outputs": [],
   "source": [
    "%matplotlib inline\n",
    "plt.style.use('ggplot')\n",
    "plt.rcParams['figure.figsize'] = (14, 8)"
   ]
  },
  {
   "cell_type": "code",
   "execution_count": 6,
   "metadata": {},
   "outputs": [
    {
     "name": "stdout",
     "output_type": "stream",
     "text": [
      "Data Registered\n"
     ]
    }
   ],
   "source": [
    "# Data Bundle\n",
    "os.environ['ZIPLINE_ROOT'] = bundle_path\n",
    "ingest_func = bundles.csvdir.csvdir_equities(['daily'], BUNDLE_NAME)\n",
    "bundles.register(BUNDLE_NAME, ingest_func)\n",
    "print('Data Registered')"
   ]
  },
  {
   "cell_type": "code",
   "execution_count": 7,
   "metadata": {},
   "outputs": [],
   "source": [
    "sector = quant_helper.get_sectors(sector_path)"
   ]
  },
  {
   "cell_type": "code",
   "execution_count": 8,
   "metadata": {},
   "outputs": [],
   "source": [
    "universe = AverageDollarVolume(window_length=120).top(500) \n",
    "trading_calendar = get_calendar('NYSE') \n",
    "bundle_data = bundles.load(BUNDLE_NAME)\n",
    "engine =  quant_helper.build_pipeline_engine(bundle_data, trading_calendar)"
   ]
  },
  {
   "cell_type": "code",
   "execution_count": 9,
   "metadata": {},
   "outputs": [],
   "source": [
    "universe_end_date = pd.Timestamp('2016-01-05', tz='UTC')\n",
    "factor_start_date = universe_end_date - pd.DateOffset(years=3, days=2)"
   ]
  },
  {
   "cell_type": "markdown",
   "metadata": {},
   "source": [
    "## Technical Indicators"
   ]
  },
  {
   "cell_type": "code",
   "execution_count": 10,
   "metadata": {},
   "outputs": [],
   "source": [
    "from zipline.pipeline.factors.technical import BollingerBands\n",
    "\n",
    "class customBB(BollingerBands):\n",
    "\n",
    "    inputs = (USEquityPricing.close,)\n",
    "    outputs = 'lower', 'middle', 'upper', 'ind_upper' ,'ind_lower'\n",
    "    \n",
    "    def compute(self, today, assets, out, close, k):\n",
    "        std = np.nanstd(close, axis=0)\n",
    "        difference = k * std\n",
    "        out.middle = middle = np.nanmean(close, axis=0)\n",
    "        out.upper = middle + difference\n",
    "        out.lower = middle - difference\n",
    "        out.close = close[-1,:]\n",
    "        out.ind_upper = np.where(out.close>out.upper,1,0)\n",
    "        out.ind_lower = np.where(out.close<out.lower,1,0)\n",
    "        \n",
    "class lower_bb(CustomFactor):\n",
    "\n",
    "    params=('k',)\n",
    "    inputs = (USEquityPricing.close,)\n",
    "    window_length = 60\n",
    "    window_safe = True\n",
    "    \n",
    "    def compute(self, today, assets, out, close, k):\n",
    "        std = np.nanstd(close, axis=0)\n",
    "        difference = k * std\n",
    "        middle = middle = np.nanmean(close, axis=0)\n",
    "        lower = middle - difference\n",
    "        out[:] = np.where(close[-1,:]<lower,1,0)\n",
    "        \n",
    "class upper_bb(CustomFactor):\n",
    "\n",
    "    params=('k',)\n",
    "    inputs = (USEquityPricing.close,)\n",
    "    window_length = 60\n",
    "    window_safe = True\n",
    "    \n",
    "    def compute(self, today, assets, out, close, k):\n",
    "        std = np.nanstd(close, axis=0)\n",
    "        difference = k * std\n",
    "        middle = middle = np.nanmean(close, axis=0)\n",
    "        upper = middle + difference\n",
    "        out[:] = np.where(close[-1,:]>upper,1,0)"
   ]
  },
  {
   "cell_type": "code",
   "execution_count": 14,
   "metadata": {},
   "outputs": [],
   "source": [
    "tech_pl = Pipeline(screen=universe)"
   ]
  },
  {
   "cell_type": "code",
   "execution_count": 15,
   "metadata": {},
   "outputs": [],
   "source": [
    "tech_pl.add(\n",
    "    customBB(window_length=60, mask=universe,k =2),\n",
    "    'customBB_60d')\n",
    "\n",
    "tech_pl.add(\n",
    "    upper_bb(window_length=60, mask=universe,k =2),\n",
    "    'upperBB_60d')\n",
    "\n",
    "tech_pl.add(\n",
    "    lower_bb(window_length=60, mask=universe,k =2),\n",
    "    'lowerBB_60d')"
   ]
  },
  {
   "cell_type": "code",
   "execution_count": 16,
   "metadata": {},
   "outputs": [],
   "source": [
    "tech_pl.add(\n",
    "    RSI(window_length=15, mask=universe), 'RSI_15')#.rank().zscore(),\n",
    "    \n",
    "tech_pl.add(\n",
    "    MACDSignal(fast_period=12, slow_period=26, signal_period=9), 'MACD')#.rank().zscore(),\n",
    "    "
   ]
  },
  {
   "cell_type": "code",
   "execution_count": 22,
   "metadata": {},
   "outputs": [
    {
     "data": {
      "text/plain": [
       "array([[0.4035546314743341, 57.82508630609895,\n",
       "        (59.979418203347045, 63.57166666666667, 67.1639151299863, 0.0, 0.0),\n",
       "        0.0, 0.0],\n",
       "       [0.18580160400429813, 66.57276995305165,\n",
       "        (10.73721382067231, 11.979116666666668, 13.221019512661027, 1.0, 0.0),\n",
       "        0.0, 1.0],\n",
       "       [-0.7944264680723929, 47.83897643938223,\n",
       "        (64.04825398510597, 72.33553333333333, 80.62281268156069, 0.0, 0.0),\n",
       "        0.0, 0.0],\n",
       "       [-1.5739213819571556, 53.04889442541264,\n",
       "        (62.286520296786996, 73.31343333333334, 84.34034636987967, 0.0, 0.0),\n",
       "        0.0, 0.0],\n",
       "       [nan, nan,\n",
       "        (28.865000000000002, 28.865000000000002, 28.865000000000002, 0.0, 0.0),\n",
       "        0.0, 0.0]], dtype=object)"
      ]
     },
     "execution_count": 22,
     "metadata": {},
     "output_type": "execute_result"
    }
   ],
   "source": [
    "all_factors = engine.run_pipeline(tech_pl, factor_start_date, universe_end_date)\n",
    "all_factors.values[0:5]"
   ]
  },
  {
   "cell_type": "markdown",
   "metadata": {},
   "source": [
    "## Evaluation\n",
    "* Clean factor and Forward returns\n",
    "* Compute evaluation metrics"
   ]
  },
  {
   "cell_type": "code",
   "execution_count": 18,
   "metadata": {},
   "outputs": [],
   "source": [
    "data_portal = DataPortal(\n",
    "    bundle_data.asset_finder,\n",
    "    trading_calendar=trading_calendar,\n",
    "    first_trading_day=bundle_data.equity_daily_bar_reader.first_trading_day,\n",
    "    equity_minute_reader=None,\n",
    "    equity_daily_reader=bundle_data.equity_daily_bar_reader,\n",
    "    adjustment_reader=bundle_data.adjustment_reader)"
   ]
  },
  {
   "cell_type": "code",
   "execution_count": 19,
   "metadata": {},
   "outputs": [],
   "source": [
    "universe_tickers = engine\\\n",
    "    .run_pipeline(\n",
    "        Pipeline(screen=universe),\n",
    "        universe_end_date,\n",
    "        universe_end_date)\\\n",
    "    .index.get_level_values(1)\\\n",
    "    .values.tolist()"
   ]
  },
  {
   "cell_type": "code",
   "execution_count": 20,
   "metadata": {},
   "outputs": [
    {
     "name": "stderr",
     "output_type": "stream",
     "text": [
      "C:\\Users\\manua\\Documents\\repos\\dslab_ai4trading\\alpha_factors\\mle_quant_utils\\quant_helper.py:54: FutureWarning: offset is deprecated. Use freq instead\n",
      "  end_dt = pd.Timestamp(end_date.strftime('%Y-%m-%d'), tz='UTC', offset='C')\n",
      "C:\\Users\\manua\\Documents\\repos\\dslab_ai4trading\\alpha_factors\\mle_quant_utils\\quant_helper.py:55: FutureWarning: offset is deprecated. Use freq instead\n",
      "  start_dt = pd.Timestamp(start_date.strftime('%Y-%m-%d'), tz='UTC', offset='C')\n"
     ]
    }
   ],
   "source": [
    "pricing = quant_helper.get_pricing(\n",
    "        data_portal,\n",
    "        trading_calendar,\n",
    "        universe_tickers,\n",
    "        factor_start_date,\n",
    "        universe_end_date)"
   ]
  },
  {
   "cell_type": "code",
   "execution_count": 23,
   "metadata": {},
   "outputs": [],
   "source": [
    "factor_names = ['RSI_15', 'MACD']"
   ]
  },
  {
   "cell_type": "code",
   "execution_count": 24,
   "metadata": {},
   "outputs": [
    {
     "name": "stdout",
     "output_type": "stream",
     "text": [
      "The factor names are ['RSI_15', 'MACD']\n",
      "Formatting factor data for: RSI_15\n",
      "Dropped 0.8% entries from factor data: 0.8% in forward returns computation and 0.0% in binning phase (set max_loss=0 to see potentially suppressed Exceptions).\n",
      "max_loss is 35.0%, not exceeded: OK!\n",
      "Formatting factor data for: MACD\n",
      "Dropped 1.0% entries from factor data: 1.0% in forward returns computation and 0.0% in binning phase (set max_loss=0 to see potentially suppressed Exceptions).\n",
      "max_loss is 35.0%, not exceeded: OK!\n"
     ]
    }
   ],
   "source": [
    "print(\"The factor names are {}\".format(factor_names))\n",
    "\n",
    "# Use a dictionary to store each dataframe, one for each factor and its associated forward returns\n",
    "factor_data = {}\n",
    "for factor_name in factor_names:\n",
    "    print(\"Formatting factor data for: \" + factor_name)\n",
    "    factor_data[factor_name] = al.utils.get_clean_factor_and_forward_returns(\n",
    "        factor=all_factors[factor_name],\n",
    "        prices=pricing,\n",
    "        periods=[5])"
   ]
  },
  {
   "cell_type": "code",
   "execution_count": 25,
   "metadata": {},
   "outputs": [
    {
     "name": "stdout",
     "output_type": "stream",
     "text": [
      "Calculating the factor weighted returns and sharpe-ratio for: RSI_15\n",
      "Calculating the Ranked IC for: RSI_15\n",
      "Calculating the FRA for: RSI_15\n",
      "Calculating Quantile returns for: RSI_15\n",
      "Calculating the factor weighted returns and sharpe-ratio for: MACD\n",
      "Calculating the Ranked IC for: MACD\n",
      "Calculating the FRA for: MACD\n",
      "Calculating Quantile returns for: MACD\n"
     ]
    }
   ],
   "source": [
    "df_factor_return, df_sharpe, df_rank_ic, df_fra, df_qr = quant_factors.factor_evaluation(factor_data, factor_names)"
   ]
  },
  {
   "cell_type": "markdown",
   "metadata": {},
   "source": [
    "### Sharpe Ratio"
   ]
  },
  {
   "cell_type": "code",
   "execution_count": 26,
   "metadata": {},
   "outputs": [
    {
     "data": {
      "text/html": [
       "<div>\n",
       "<style scoped>\n",
       "    .dataframe tbody tr th:only-of-type {\n",
       "        vertical-align: middle;\n",
       "    }\n",
       "\n",
       "    .dataframe tbody tr th {\n",
       "        vertical-align: top;\n",
       "    }\n",
       "\n",
       "    .dataframe thead th {\n",
       "        text-align: right;\n",
       "    }\n",
       "</style>\n",
       "<table border=\"1\" class=\"dataframe\">\n",
       "  <thead>\n",
       "    <tr style=\"text-align: right;\">\n",
       "      <th></th>\n",
       "      <th>Sharpe ratio</th>\n",
       "    </tr>\n",
       "  </thead>\n",
       "  <tbody>\n",
       "    <tr>\n",
       "      <th>MACD</th>\n",
       "      <td>-0.392008</td>\n",
       "    </tr>\n",
       "    <tr>\n",
       "      <th>RSI_15</th>\n",
       "      <td>-0.793536</td>\n",
       "    </tr>\n",
       "  </tbody>\n",
       "</table>\n",
       "</div>"
      ],
      "text/plain": [
       "        Sharpe ratio\n",
       "MACD       -0.392008\n",
       "RSI_15     -0.793536"
      ]
     },
     "execution_count": 26,
     "metadata": {},
     "output_type": "execute_result"
    }
   ],
   "source": [
    "df_sharpe.sort_values(by='Sharpe ratio', ascending=False)"
   ]
  },
  {
   "cell_type": "markdown",
   "metadata": {},
   "source": [
    "### Forward Returns"
   ]
  },
  {
   "cell_type": "markdown",
   "metadata": {},
   "source": [
    "### Quantile Analysis"
   ]
  },
  {
   "cell_type": "markdown",
   "metadata": {},
   "source": [
    "### Turnover (FRA)"
   ]
  },
  {
   "cell_type": "code",
   "execution_count": null,
   "metadata": {},
   "outputs": [],
   "source": []
  }
 ],
 "metadata": {
  "kernelspec": {
   "display_name": "Python 3",
   "language": "python",
   "name": "python3"
  },
  "language_info": {
   "codemirror_mode": {
    "name": "ipython",
    "version": 3
   },
   "file_extension": ".py",
   "mimetype": "text/x-python",
   "name": "python",
   "nbconvert_exporter": "python",
   "pygments_lexer": "ipython3",
   "version": "3.5.6"
  }
 },
 "nbformat": 4,
 "nbformat_minor": 4
}
