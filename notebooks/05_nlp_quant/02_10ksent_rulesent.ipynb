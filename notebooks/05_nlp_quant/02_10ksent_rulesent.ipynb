{
 "cells": [
  {
   "cell_type": "markdown",
   "metadata": {},
   "source": [
    "<font size=\"6\"> **Analyze SEC 10-K Fillings** </font>"
   ]
  },
  {
   "cell_type": "code",
   "execution_count": 1,
   "metadata": {},
   "outputs": [],
   "source": [
    "%load_ext autoreload\n",
    "%autoreload 2"
   ]
  },
  {
   "cell_type": "code",
   "execution_count": 2,
   "metadata": {},
   "outputs": [],
   "source": [
    "%run ../nb_config.py"
   ]
  },
  {
   "cell_type": "code",
   "execution_count": 3,
   "metadata": {},
   "outputs": [],
   "source": [
    "import nltk\n",
    "import numpy as np\n",
    "import pandas as pd\n",
    "import scipy\n",
    "import pickle\n",
    "import pprint\n",
    "\n",
    "import os\n",
    "\n",
    "from tqdm import tqdm"
   ]
  },
  {
   "cell_type": "code",
   "execution_count": 4,
   "metadata": {},
   "outputs": [],
   "source": [
    "from src import utils\n",
    "from src.load_data import load_sec10k, io_utils\n",
    "from src.nlp_quant import bow_sent"
   ]
  },
  {
   "cell_type": "code",
   "execution_count": 5,
   "metadata": {},
   "outputs": [],
   "source": [
    "cfg = utils.read_conf()"
   ]
  },
  {
   "cell_type": "code",
   "execution_count": 6,
   "metadata": {},
   "outputs": [
    {
     "data": {
      "text/plain": [
       "(True, True)"
      ]
     },
     "execution_count": 6,
     "metadata": {},
     "output_type": "execute_result"
    }
   ],
   "source": [
    "INPATH1 = os.path.join(io_utils.interim_path, 'sec_fillings', '')\n",
    "INPATH2 = os.path.join(io_utils.raw_path, 'market_data', cfg['quantopian']['dataset4']['folder'],'')\n",
    "os.path.isdir(INPATH1), os.path.isdir(INPATH2)"
   ]
  },
  {
   "cell_type": "code",
   "execution_count": 7,
   "metadata": {},
   "outputs": [],
   "source": [
    "INFILE1 = 'metadata.pkl'\n",
    "INFILE2 = 'tenks_risk_tfidf_by_sent.pkl'\n",
    "INFILE3 =  'parsed_sentiment_loughran_mcdonald.csv'\n",
    "INFILE4 =  'tenks_risk_doc_len.csv'\n",
    "INFILE5 = cfg['quantopian']['dataset4']['prices']\n",
    "INFILE6 = cfg['output']['interim']['sector_factors']"
   ]
  },
  {
   "cell_type": "code",
   "execution_count": 8,
   "metadata": {},
   "outputs": [
    {
     "data": {
      "text/plain": [
       "True"
      ]
     },
     "execution_count": 8,
     "metadata": {},
     "output_type": "execute_result"
    }
   ],
   "source": [
    "OUTPATH =  os.path.join(io_utils.processed_path, 'sec_fillings', '')\n",
    "os.path.isdir(OUTPATH)"
   ]
  },
  {
   "cell_type": "code",
   "execution_count": 9,
   "metadata": {},
   "outputs": [],
   "source": [
    "OUTFILE1 = 'sec_10k_loughran_sent_alpha.csv'"
   ]
  },
  {
   "cell_type": "code",
   "execution_count": 10,
   "metadata": {},
   "outputs": [],
   "source": [
    "example_ticker = 'amzn'"
   ]
  },
  {
   "cell_type": "markdown",
   "metadata": {},
   "source": [
    "# Load Data"
   ]
  },
  {
   "cell_type": "code",
   "execution_count": 11,
   "metadata": {},
   "outputs": [],
   "source": [
    "with open(INPATH1 + INFILE1, 'rb') as file:\n",
    "    metadata = pickle.load(file)"
   ]
  },
  {
   "cell_type": "code",
   "execution_count": 12,
   "metadata": {},
   "outputs": [],
   "source": [
    "tf_idf_by_sent = bow_sent.read_sent_tfidf_dict(path=INPATH1, name=INFILE2)"
   ]
  },
  {
   "cell_type": "code",
   "execution_count": 13,
   "metadata": {},
   "outputs": [
    {
     "data": {
      "text/plain": [
       "dict_keys(['negative', 'positive', 'uncertainty', 'litigious', 'constraining', 'interesting'])"
      ]
     },
     "execution_count": 13,
     "metadata": {},
     "output_type": "execute_result"
    }
   ],
   "source": [
    "tf_idf_by_sent.keys()"
   ]
  },
  {
   "cell_type": "code",
   "execution_count": 14,
   "metadata": {},
   "outputs": [
    {
     "data": {
      "text/html": [
       "<div>\n",
       "<style scoped>\n",
       "    .dataframe tbody tr th:only-of-type {\n",
       "        vertical-align: middle;\n",
       "    }\n",
       "\n",
       "    .dataframe tbody tr th {\n",
       "        vertical-align: top;\n",
       "    }\n",
       "\n",
       "    .dataframe thead th {\n",
       "        text-align: right;\n",
       "    }\n",
       "</style>\n",
       "<table border=\"1\" class=\"dataframe\">\n",
       "  <thead>\n",
       "    <tr style=\"text-align: right;\">\n",
       "      <th></th>\n",
       "      <th></th>\n",
       "      <th>abandon</th>\n",
       "      <th>abandonment</th>\n",
       "      <th>abandonments</th>\n",
       "      <th>abdicate</th>\n",
       "      <th>abdication</th>\n",
       "      <th>abdications</th>\n",
       "      <th>aberrant</th>\n",
       "      <th>aberration</th>\n",
       "      <th>aberrational</th>\n",
       "      <th>aberrations</th>\n",
       "    </tr>\n",
       "    <tr>\n",
       "      <th>ticker</th>\n",
       "      <th>date</th>\n",
       "      <th></th>\n",
       "      <th></th>\n",
       "      <th></th>\n",
       "      <th></th>\n",
       "      <th></th>\n",
       "      <th></th>\n",
       "      <th></th>\n",
       "      <th></th>\n",
       "      <th></th>\n",
       "      <th></th>\n",
       "    </tr>\n",
       "  </thead>\n",
       "  <tbody>\n",
       "    <tr>\n",
       "      <th rowspan=\"2\" valign=\"top\">aal</th>\n",
       "      <th>2003-04-15</th>\n",
       "      <td>0.0</td>\n",
       "      <td>0.0</td>\n",
       "      <td>0.0</td>\n",
       "      <td>0.0</td>\n",
       "      <td>0.0</td>\n",
       "      <td>0.0</td>\n",
       "      <td>0.0</td>\n",
       "      <td>0.0</td>\n",
       "      <td>0.0</td>\n",
       "      <td>0.0</td>\n",
       "    </tr>\n",
       "    <tr>\n",
       "      <th>2004-02-27</th>\n",
       "      <td>0.0</td>\n",
       "      <td>0.0</td>\n",
       "      <td>0.0</td>\n",
       "      <td>0.0</td>\n",
       "      <td>0.0</td>\n",
       "      <td>0.0</td>\n",
       "      <td>0.0</td>\n",
       "      <td>0.0</td>\n",
       "      <td>0.0</td>\n",
       "      <td>0.0</td>\n",
       "    </tr>\n",
       "  </tbody>\n",
       "</table>\n",
       "</div>"
      ],
      "text/plain": [
       "                   abandon  abandonment  abandonments  abdicate  abdication  \\\n",
       "ticker date                                                                   \n",
       "aal    2003-04-15      0.0          0.0           0.0       0.0         0.0   \n",
       "       2004-02-27      0.0          0.0           0.0       0.0         0.0   \n",
       "\n",
       "                   abdications  aberrant  aberration  aberrational  \\\n",
       "ticker date                                                          \n",
       "aal    2003-04-15          0.0       0.0         0.0           0.0   \n",
       "       2004-02-27          0.0       0.0         0.0           0.0   \n",
       "\n",
       "                   aberrations  \n",
       "ticker date                     \n",
       "aal    2003-04-15          0.0  \n",
       "       2004-02-27          0.0  "
      ]
     },
     "execution_count": 14,
     "metadata": {},
     "output_type": "execute_result"
    }
   ],
   "source": [
    "tf_idf_by_sent['negative'].iloc[0:2,0:10]"
   ]
  },
  {
   "cell_type": "code",
   "execution_count": 15,
   "metadata": {},
   "outputs": [
    {
     "data": {
      "text/plain": [
       "ticker  date      \n",
       "aal     2003-04-15    0.0\n",
       "        2004-02-27    0.0\n",
       "        2005-02-25    0.0\n",
       "        2006-02-24    0.0\n",
       "        2007-02-23    0.0\n",
       "Name: abandon, dtype: Sparse[float64, 0.0]"
      ]
     },
     "execution_count": 15,
     "metadata": {},
     "output_type": "execute_result"
    }
   ],
   "source": [
    "tf_idf_by_sent['negative'].iloc[:5,0]  # underlying pandas is an sparse data structure"
   ]
  },
  {
   "cell_type": "code",
   "execution_count": 38,
   "metadata": {},
   "outputs": [],
   "source": [
    "doc_lens = pd.read_csv(INPATH1 + INFILE4, parse_dates=['date'], index_col=[0,1])['doc_len']"
   ]
  },
  {
   "cell_type": "code",
   "execution_count": 17,
   "metadata": {},
   "outputs": [],
   "source": [
    "sentiment_df =  pd.read_csv(INPATH1 + INFILE3)"
   ]
  },
  {
   "cell_type": "code",
   "execution_count": 18,
   "metadata": {},
   "outputs": [
    {
     "name": "stdout",
     "output_type": "stream",
     "text": [
      "<class 'pandas.core.frame.DataFrame'>\n",
      "DatetimeIndex: 57 entries, 1962-01-01 to 2018-01-01\n",
      "Columns: 11941 entries, A to ZZZ\n",
      "dtypes: float64(11941)\n",
      "memory usage: 5.2 MB\n"
     ]
    }
   ],
   "source": [
    "# Yearly pricing\n",
    "pricing = pd.read_csv(INPATH2 + INFILE5, parse_dates=['date'])\n",
    "pricing = pricing.pivot(index='date', columns='ticker', values='adj_close')\n",
    "pricing.info()"
   ]
  },
  {
   "cell_type": "code",
   "execution_count": 19,
   "metadata": {},
   "outputs": [
    {
     "data": {
      "text/html": [
       "<div>\n",
       "<style scoped>\n",
       "    .dataframe tbody tr th:only-of-type {\n",
       "        vertical-align: middle;\n",
       "    }\n",
       "\n",
       "    .dataframe tbody tr th {\n",
       "        vertical-align: top;\n",
       "    }\n",
       "\n",
       "    .dataframe thead th {\n",
       "        text-align: right;\n",
       "    }\n",
       "</style>\n",
       "<table border=\"1\" class=\"dataframe\">\n",
       "  <thead>\n",
       "    <tr style=\"text-align: right;\">\n",
       "      <th>ticker</th>\n",
       "      <th>A</th>\n",
       "      <th>AA</th>\n",
       "      <th>AAAP</th>\n",
       "      <th>AABA</th>\n",
       "      <th>AAC</th>\n",
       "      <th>AADR</th>\n",
       "      <th>AAIT</th>\n",
       "      <th>AAL</th>\n",
       "      <th>AAMC</th>\n",
       "      <th>AAME</th>\n",
       "      <th>AAN</th>\n",
       "      <th>AAOI</th>\n",
       "      <th>AAON</th>\n",
       "      <th>AAP</th>\n",
       "      <th>AAPC</th>\n",
       "      <th>AAPL</th>\n",
       "      <th>AAT</th>\n",
       "      <th>AAU</th>\n",
       "      <th>AAV</th>\n",
       "      <th>AAVL</th>\n",
       "      <th>AAWW</th>\n",
       "      <th>AAXJ</th>\n",
       "      <th>AAXN</th>\n",
       "      <th>AA_P_B</th>\n",
       "      <th>AA_W</th>\n",
       "      <th>...</th>\n",
       "      <th>ZOES</th>\n",
       "      <th>ZOM</th>\n",
       "      <th>ZOOM</th>\n",
       "      <th>ZPIN</th>\n",
       "      <th>ZQK</th>\n",
       "      <th>ZROZ</th>\n",
       "      <th>ZS</th>\n",
       "      <th>ZSAN</th>\n",
       "      <th>ZSL</th>\n",
       "      <th>ZSML</th>\n",
       "      <th>ZSPH</th>\n",
       "      <th>ZTO</th>\n",
       "      <th>ZTR</th>\n",
       "      <th>ZTS</th>\n",
       "      <th>ZU</th>\n",
       "      <th>ZUMZ</th>\n",
       "      <th>ZUO</th>\n",
       "      <th>ZVZZC</th>\n",
       "      <th>ZVZZCNX</th>\n",
       "      <th>ZX</th>\n",
       "      <th>ZXYZ_A</th>\n",
       "      <th>ZYME</th>\n",
       "      <th>ZYNE</th>\n",
       "      <th>ZZK</th>\n",
       "      <th>ZZZ</th>\n",
       "    </tr>\n",
       "    <tr>\n",
       "      <th>date</th>\n",
       "      <th></th>\n",
       "      <th></th>\n",
       "      <th></th>\n",
       "      <th></th>\n",
       "      <th></th>\n",
       "      <th></th>\n",
       "      <th></th>\n",
       "      <th></th>\n",
       "      <th></th>\n",
       "      <th></th>\n",
       "      <th></th>\n",
       "      <th></th>\n",
       "      <th></th>\n",
       "      <th></th>\n",
       "      <th></th>\n",
       "      <th></th>\n",
       "      <th></th>\n",
       "      <th></th>\n",
       "      <th></th>\n",
       "      <th></th>\n",
       "      <th></th>\n",
       "      <th></th>\n",
       "      <th></th>\n",
       "      <th></th>\n",
       "      <th></th>\n",
       "      <th></th>\n",
       "      <th></th>\n",
       "      <th></th>\n",
       "      <th></th>\n",
       "      <th></th>\n",
       "      <th></th>\n",
       "      <th></th>\n",
       "      <th></th>\n",
       "      <th></th>\n",
       "      <th></th>\n",
       "      <th></th>\n",
       "      <th></th>\n",
       "      <th></th>\n",
       "      <th></th>\n",
       "      <th></th>\n",
       "      <th></th>\n",
       "      <th></th>\n",
       "      <th></th>\n",
       "      <th></th>\n",
       "      <th></th>\n",
       "      <th></th>\n",
       "      <th></th>\n",
       "      <th></th>\n",
       "      <th></th>\n",
       "      <th></th>\n",
       "      <th></th>\n",
       "    </tr>\n",
       "  </thead>\n",
       "  <tbody>\n",
       "    <tr>\n",
       "      <th>1962-01-01</th>\n",
       "      <td>NaN</td>\n",
       "      <td>NaN</td>\n",
       "      <td>NaN</td>\n",
       "      <td>NaN</td>\n",
       "      <td>NaN</td>\n",
       "      <td>NaN</td>\n",
       "      <td>NaN</td>\n",
       "      <td>NaN</td>\n",
       "      <td>NaN</td>\n",
       "      <td>NaN</td>\n",
       "      <td>NaN</td>\n",
       "      <td>NaN</td>\n",
       "      <td>NaN</td>\n",
       "      <td>NaN</td>\n",
       "      <td>NaN</td>\n",
       "      <td>NaN</td>\n",
       "      <td>NaN</td>\n",
       "      <td>NaN</td>\n",
       "      <td>NaN</td>\n",
       "      <td>NaN</td>\n",
       "      <td>NaN</td>\n",
       "      <td>NaN</td>\n",
       "      <td>NaN</td>\n",
       "      <td>NaN</td>\n",
       "      <td>NaN</td>\n",
       "      <td>...</td>\n",
       "      <td>NaN</td>\n",
       "      <td>NaN</td>\n",
       "      <td>NaN</td>\n",
       "      <td>NaN</td>\n",
       "      <td>NaN</td>\n",
       "      <td>NaN</td>\n",
       "      <td>NaN</td>\n",
       "      <td>NaN</td>\n",
       "      <td>NaN</td>\n",
       "      <td>NaN</td>\n",
       "      <td>NaN</td>\n",
       "      <td>NaN</td>\n",
       "      <td>NaN</td>\n",
       "      <td>NaN</td>\n",
       "      <td>NaN</td>\n",
       "      <td>NaN</td>\n",
       "      <td>NaN</td>\n",
       "      <td>NaN</td>\n",
       "      <td>NaN</td>\n",
       "      <td>NaN</td>\n",
       "      <td>NaN</td>\n",
       "      <td>NaN</td>\n",
       "      <td>NaN</td>\n",
       "      <td>NaN</td>\n",
       "      <td>NaN</td>\n",
       "    </tr>\n",
       "    <tr>\n",
       "      <th>1963-01-01</th>\n",
       "      <td>NaN</td>\n",
       "      <td>NaN</td>\n",
       "      <td>NaN</td>\n",
       "      <td>NaN</td>\n",
       "      <td>NaN</td>\n",
       "      <td>NaN</td>\n",
       "      <td>NaN</td>\n",
       "      <td>NaN</td>\n",
       "      <td>NaN</td>\n",
       "      <td>NaN</td>\n",
       "      <td>NaN</td>\n",
       "      <td>NaN</td>\n",
       "      <td>NaN</td>\n",
       "      <td>NaN</td>\n",
       "      <td>NaN</td>\n",
       "      <td>NaN</td>\n",
       "      <td>NaN</td>\n",
       "      <td>NaN</td>\n",
       "      <td>NaN</td>\n",
       "      <td>NaN</td>\n",
       "      <td>NaN</td>\n",
       "      <td>NaN</td>\n",
       "      <td>NaN</td>\n",
       "      <td>NaN</td>\n",
       "      <td>NaN</td>\n",
       "      <td>...</td>\n",
       "      <td>NaN</td>\n",
       "      <td>NaN</td>\n",
       "      <td>NaN</td>\n",
       "      <td>NaN</td>\n",
       "      <td>NaN</td>\n",
       "      <td>NaN</td>\n",
       "      <td>NaN</td>\n",
       "      <td>NaN</td>\n",
       "      <td>NaN</td>\n",
       "      <td>NaN</td>\n",
       "      <td>NaN</td>\n",
       "      <td>NaN</td>\n",
       "      <td>NaN</td>\n",
       "      <td>NaN</td>\n",
       "      <td>NaN</td>\n",
       "      <td>NaN</td>\n",
       "      <td>NaN</td>\n",
       "      <td>NaN</td>\n",
       "      <td>NaN</td>\n",
       "      <td>NaN</td>\n",
       "      <td>NaN</td>\n",
       "      <td>NaN</td>\n",
       "      <td>NaN</td>\n",
       "      <td>NaN</td>\n",
       "      <td>NaN</td>\n",
       "    </tr>\n",
       "    <tr>\n",
       "      <th>2017-01-01</th>\n",
       "      <td>66.653918</td>\n",
       "      <td>53.87</td>\n",
       "      <td>81.62</td>\n",
       "      <td>69.85</td>\n",
       "      <td>9.00</td>\n",
       "      <td>58.835707</td>\n",
       "      <td>NaN</td>\n",
       "      <td>51.803585</td>\n",
       "      <td>81.6</td>\n",
       "      <td>3.378882</td>\n",
       "      <td>39.797356</td>\n",
       "      <td>37.82</td>\n",
       "      <td>36.522919</td>\n",
       "      <td>99.593649</td>\n",
       "      <td>10.6</td>\n",
       "      <td>167.90118</td>\n",
       "      <td>37.654925</td>\n",
       "      <td>1.03</td>\n",
       "      <td>4.3</td>\n",
       "      <td>NaN</td>\n",
       "      <td>58.65</td>\n",
       "      <td>75.858764</td>\n",
       "      <td>26.50</td>\n",
       "      <td>NaN</td>\n",
       "      <td>NaN</td>\n",
       "      <td>...</td>\n",
       "      <td>16.72</td>\n",
       "      <td>1.9771</td>\n",
       "      <td>NaN</td>\n",
       "      <td>18.2</td>\n",
       "      <td>NaN</td>\n",
       "      <td>120.593382</td>\n",
       "      <td>NaN</td>\n",
       "      <td>10.40</td>\n",
       "      <td>31.40</td>\n",
       "      <td>26.9</td>\n",
       "      <td>NaN</td>\n",
       "      <td>15.641173</td>\n",
       "      <td>12.643875</td>\n",
       "      <td>71.815333</td>\n",
       "      <td>NaN</td>\n",
       "      <td>20.825</td>\n",
       "      <td>NaN</td>\n",
       "      <td>100.1</td>\n",
       "      <td>NaN</td>\n",
       "      <td>1.2165</td>\n",
       "      <td>NaN</td>\n",
       "      <td>7.5931</td>\n",
       "      <td>12.52</td>\n",
       "      <td>25.0</td>\n",
       "      <td>0.01</td>\n",
       "    </tr>\n",
       "    <tr>\n",
       "      <th>2018-01-01</th>\n",
       "      <td>61.800000</td>\n",
       "      <td>46.88</td>\n",
       "      <td>81.63</td>\n",
       "      <td>73.35</td>\n",
       "      <td>9.81</td>\n",
       "      <td>52.880000</td>\n",
       "      <td>NaN</td>\n",
       "      <td>37.990000</td>\n",
       "      <td>67.9</td>\n",
       "      <td>2.575000</td>\n",
       "      <td>43.740000</td>\n",
       "      <td>46.00</td>\n",
       "      <td>35.250000</td>\n",
       "      <td>135.860000</td>\n",
       "      <td>NaN</td>\n",
       "      <td>185.40000</td>\n",
       "      <td>38.860000</td>\n",
       "      <td>0.71</td>\n",
       "      <td>3.1</td>\n",
       "      <td>NaN</td>\n",
       "      <td>71.45</td>\n",
       "      <td>70.250000</td>\n",
       "      <td>64.98</td>\n",
       "      <td>NaN</td>\n",
       "      <td>NaN</td>\n",
       "      <td>...</td>\n",
       "      <td>10.16</td>\n",
       "      <td>2.2100</td>\n",
       "      <td>NaN</td>\n",
       "      <td>NaN</td>\n",
       "      <td>NaN</td>\n",
       "      <td>115.750000</td>\n",
       "      <td>36.67</td>\n",
       "      <td>4.68</td>\n",
       "      <td>34.91</td>\n",
       "      <td>NaN</td>\n",
       "      <td>NaN</td>\n",
       "      <td>19.450000</td>\n",
       "      <td>11.450000</td>\n",
       "      <td>86.150000</td>\n",
       "      <td>NaN</td>\n",
       "      <td>24.300</td>\n",
       "      <td>26.74</td>\n",
       "      <td>NaN</td>\n",
       "      <td>NaN</td>\n",
       "      <td>1.3800</td>\n",
       "      <td>NaN</td>\n",
       "      <td>15.3400</td>\n",
       "      <td>9.17</td>\n",
       "      <td>NaN</td>\n",
       "      <td>NaN</td>\n",
       "    </tr>\n",
       "  </tbody>\n",
       "</table>\n",
       "<p>4 rows × 11941 columns</p>\n",
       "</div>"
      ],
      "text/plain": [
       "ticker              A     AA   AAAP   AABA   AAC       AADR  AAIT        AAL  \\\n",
       "date                                                                           \n",
       "1962-01-01        NaN    NaN    NaN    NaN   NaN        NaN   NaN        NaN   \n",
       "1963-01-01        NaN    NaN    NaN    NaN   NaN        NaN   NaN        NaN   \n",
       "2017-01-01  66.653918  53.87  81.62  69.85  9.00  58.835707   NaN  51.803585   \n",
       "2018-01-01  61.800000  46.88  81.63  73.35  9.81  52.880000   NaN  37.990000   \n",
       "\n",
       "ticker      AAMC      AAME        AAN   AAOI       AAON         AAP  AAPC  \\\n",
       "date                                                                        \n",
       "1962-01-01   NaN       NaN        NaN    NaN        NaN         NaN   NaN   \n",
       "1963-01-01   NaN       NaN        NaN    NaN        NaN         NaN   NaN   \n",
       "2017-01-01  81.6  3.378882  39.797356  37.82  36.522919   99.593649  10.6   \n",
       "2018-01-01  67.9  2.575000  43.740000  46.00  35.250000  135.860000   NaN   \n",
       "\n",
       "ticker           AAPL        AAT   AAU  AAV  AAVL   AAWW       AAXJ   AAXN  \\\n",
       "date                                                                         \n",
       "1962-01-01        NaN        NaN   NaN  NaN   NaN    NaN        NaN    NaN   \n",
       "1963-01-01        NaN        NaN   NaN  NaN   NaN    NaN        NaN    NaN   \n",
       "2017-01-01  167.90118  37.654925  1.03  4.3   NaN  58.65  75.858764  26.50   \n",
       "2018-01-01  185.40000  38.860000  0.71  3.1   NaN  71.45  70.250000  64.98   \n",
       "\n",
       "ticker      AA_P_B  AA_W  ...   ZOES     ZOM  ZOOM  ZPIN  ZQK        ZROZ  \\\n",
       "date                      ...                                               \n",
       "1962-01-01     NaN   NaN  ...    NaN     NaN   NaN   NaN  NaN         NaN   \n",
       "1963-01-01     NaN   NaN  ...    NaN     NaN   NaN   NaN  NaN         NaN   \n",
       "2017-01-01     NaN   NaN  ...  16.72  1.9771   NaN  18.2  NaN  120.593382   \n",
       "2018-01-01     NaN   NaN  ...  10.16  2.2100   NaN   NaN  NaN  115.750000   \n",
       "\n",
       "ticker         ZS   ZSAN    ZSL  ZSML  ZSPH        ZTO        ZTR        ZTS  \\\n",
       "date                                                                           \n",
       "1962-01-01    NaN    NaN    NaN   NaN   NaN        NaN        NaN        NaN   \n",
       "1963-01-01    NaN    NaN    NaN   NaN   NaN        NaN        NaN        NaN   \n",
       "2017-01-01    NaN  10.40  31.40  26.9   NaN  15.641173  12.643875  71.815333   \n",
       "2018-01-01  36.67   4.68  34.91   NaN   NaN  19.450000  11.450000  86.150000   \n",
       "\n",
       "ticker      ZU    ZUMZ    ZUO  ZVZZC  ZVZZCNX      ZX  ZXYZ_A     ZYME   ZYNE  \\\n",
       "date                                                                            \n",
       "1962-01-01 NaN     NaN    NaN    NaN      NaN     NaN     NaN      NaN    NaN   \n",
       "1963-01-01 NaN     NaN    NaN    NaN      NaN     NaN     NaN      NaN    NaN   \n",
       "2017-01-01 NaN  20.825    NaN  100.1      NaN  1.2165     NaN   7.5931  12.52   \n",
       "2018-01-01 NaN  24.300  26.74    NaN      NaN  1.3800     NaN  15.3400   9.17   \n",
       "\n",
       "ticker       ZZK   ZZZ  \n",
       "date                    \n",
       "1962-01-01   NaN   NaN  \n",
       "1963-01-01   NaN   NaN  \n",
       "2017-01-01  25.0  0.01  \n",
       "2018-01-01   NaN   NaN  \n",
       "\n",
       "[4 rows x 11941 columns]"
      ]
     },
     "execution_count": 19,
     "metadata": {},
     "output_type": "execute_result"
    }
   ],
   "source": [
    "pd.concat([pricing.head(2), pricing.tail(2)], axis=0)"
   ]
  },
  {
   "cell_type": "code",
   "execution_count": 20,
   "metadata": {},
   "outputs": [],
   "source": [
    "SECTOR_FOLDER = cfg['quantopian']['dataset1']['sector_folder']\n",
    "SECTOR_NAMES = cfg['quantopian']['dataset1']['sector_names']\n",
    "\n",
    "# Specify the bundle path\n",
    "sector_file = os.path.join(io_utils.raw_path, 'market_data',SECTOR_FOLDER, SECTOR_NAMES)"
   ]
  },
  {
   "cell_type": "code",
   "execution_count": 21,
   "metadata": {},
   "outputs": [
    {
     "data": {
      "text/html": [
       "<div>\n",
       "<style scoped>\n",
       "    .dataframe tbody tr th:only-of-type {\n",
       "        vertical-align: middle;\n",
       "    }\n",
       "\n",
       "    .dataframe tbody tr th {\n",
       "        vertical-align: top;\n",
       "    }\n",
       "\n",
       "    .dataframe thead th {\n",
       "        text-align: right;\n",
       "    }\n",
       "</style>\n",
       "<table border=\"1\" class=\"dataframe\">\n",
       "  <thead>\n",
       "    <tr style=\"text-align: right;\">\n",
       "      <th></th>\n",
       "      <th>Sector</th>\n",
       "    </tr>\n",
       "    <tr>\n",
       "      <th>sector_id</th>\n",
       "      <th></th>\n",
       "    </tr>\n",
       "  </thead>\n",
       "  <tbody>\n",
       "    <tr>\n",
       "      <th>0</th>\n",
       "      <td>Healthcare</td>\n",
       "    </tr>\n",
       "    <tr>\n",
       "      <th>1</th>\n",
       "      <td>Technology</td>\n",
       "    </tr>\n",
       "    <tr>\n",
       "      <th>2</th>\n",
       "      <td>Consumer Defensive</td>\n",
       "    </tr>\n",
       "    <tr>\n",
       "      <th>3</th>\n",
       "      <td>Industrials</td>\n",
       "    </tr>\n",
       "    <tr>\n",
       "      <th>4</th>\n",
       "      <td>Utilities</td>\n",
       "    </tr>\n",
       "    <tr>\n",
       "      <th>5</th>\n",
       "      <td>Financial Services</td>\n",
       "    </tr>\n",
       "    <tr>\n",
       "      <th>6</th>\n",
       "      <td>Real Estate</td>\n",
       "    </tr>\n",
       "    <tr>\n",
       "      <th>7</th>\n",
       "      <td>Communication Services</td>\n",
       "    </tr>\n",
       "    <tr>\n",
       "      <th>8</th>\n",
       "      <td>Consumer Cyclical</td>\n",
       "    </tr>\n",
       "    <tr>\n",
       "      <th>9</th>\n",
       "      <td>Energy</td>\n",
       "    </tr>\n",
       "    <tr>\n",
       "      <th>10</th>\n",
       "      <td>Basic Materials</td>\n",
       "    </tr>\n",
       "    <tr>\n",
       "      <th>-1</th>\n",
       "      <td>No sector</td>\n",
       "    </tr>\n",
       "  </tbody>\n",
       "</table>\n",
       "</div>"
      ],
      "text/plain": [
       "                           Sector\n",
       "sector_id                        \n",
       " 0                     Healthcare\n",
       " 1                     Technology\n",
       " 2             Consumer Defensive\n",
       " 3                    Industrials\n",
       " 4                      Utilities\n",
       " 5             Financial Services\n",
       " 6                    Real Estate\n",
       " 7         Communication Services\n",
       " 8              Consumer Cyclical\n",
       " 9                         Energy\n",
       " 10               Basic Materials\n",
       "-1                      No sector"
      ]
     },
     "execution_count": 21,
     "metadata": {},
     "output_type": "execute_result"
    }
   ],
   "source": [
    "sector_names = pd.read_csv(sector_file, usecols=['Sector', 'sector_id'], index_col='sector_id')\n",
    "sector_names.loc[-1, 'Sector'] = 'No sector'\n",
    "sector_names = sector_names.drop_duplicates()\n",
    "\n",
    "sector_names"
   ]
  },
  {
   "cell_type": "code",
   "execution_count": 22,
   "metadata": {},
   "outputs": [
    {
     "data": {
      "text/html": [
       "<div>\n",
       "<style scoped>\n",
       "    .dataframe tbody tr th:only-of-type {\n",
       "        vertical-align: middle;\n",
       "    }\n",
       "\n",
       "    .dataframe tbody tr th {\n",
       "        vertical-align: top;\n",
       "    }\n",
       "\n",
       "    .dataframe thead th {\n",
       "        text-align: right;\n",
       "    }\n",
       "</style>\n",
       "<table border=\"1\" class=\"dataframe\">\n",
       "  <thead>\n",
       "    <tr style=\"text-align: right;\">\n",
       "      <th></th>\n",
       "      <th></th>\n",
       "      <th>sector_code</th>\n",
       "      <th>sector</th>\n",
       "    </tr>\n",
       "    <tr>\n",
       "      <th>date</th>\n",
       "      <th>asset</th>\n",
       "      <th></th>\n",
       "      <th></th>\n",
       "    </tr>\n",
       "  </thead>\n",
       "  <tbody>\n",
       "    <tr>\n",
       "      <th rowspan=\"2\" valign=\"top\">2013-01-03 00:00:00+00:00</th>\n",
       "      <th>A</th>\n",
       "      <td>0</td>\n",
       "      <td>Healthcare</td>\n",
       "    </tr>\n",
       "    <tr>\n",
       "      <th>AAL</th>\n",
       "      <td>3</td>\n",
       "      <td>Industrials</td>\n",
       "    </tr>\n",
       "    <tr>\n",
       "      <th rowspan=\"2\" valign=\"top\">2015-12-28 00:00:00+00:00</th>\n",
       "      <th>ZION</th>\n",
       "      <td>5</td>\n",
       "      <td>Financial Services</td>\n",
       "    </tr>\n",
       "    <tr>\n",
       "      <th>ZTS</th>\n",
       "      <td>0</td>\n",
       "      <td>Healthcare</td>\n",
       "    </tr>\n",
       "  </tbody>\n",
       "</table>\n",
       "</div>"
      ],
      "text/plain": [
       "                                 sector_code              sector\n",
       "date                      asset                                 \n",
       "2013-01-03 00:00:00+00:00 A                0          Healthcare\n",
       "                          AAL              3         Industrials\n",
       "2015-12-28 00:00:00+00:00 ZION             5  Financial Services\n",
       "                          ZTS              0          Healthcare"
      ]
     },
     "execution_count": 22,
     "metadata": {},
     "output_type": "execute_result"
    }
   ],
   "source": [
    "sector_factor_df = pd.read_csv(io_utils.interim_path + INFILE6, parse_dates=['date'], index_col=[0,1])\n",
    "\n",
    "sector_factor_df = sector_factor_df.reset_index().merge(sector_names, how='left', left_on='sector_code', right_index=True).\\\n",
    "    set_index(keys=['date', 'asset'])[['sector_code', 'Sector']]\n",
    "sector_factor_df.columns = ['sector_code', 'sector']\n",
    "\n",
    "pd.concat([sector_factor_df.head(2), sector_factor_df.tail(2)], axis=0)"
   ]
  },
  {
   "cell_type": "code",
   "execution_count": 23,
   "metadata": {},
   "outputs": [
    {
     "data": {
      "text/html": [
       "<div>\n",
       "<style scoped>\n",
       "    .dataframe tbody tr th:only-of-type {\n",
       "        vertical-align: middle;\n",
       "    }\n",
       "\n",
       "    .dataframe tbody tr th {\n",
       "        vertical-align: top;\n",
       "    }\n",
       "\n",
       "    .dataframe thead th {\n",
       "        text-align: right;\n",
       "    }\n",
       "</style>\n",
       "<table border=\"1\" class=\"dataframe\">\n",
       "  <thead>\n",
       "    <tr style=\"text-align: right;\">\n",
       "      <th></th>\n",
       "      <th>sector_code</th>\n",
       "      <th>sector</th>\n",
       "    </tr>\n",
       "    <tr>\n",
       "      <th>asset</th>\n",
       "      <th></th>\n",
       "      <th></th>\n",
       "    </tr>\n",
       "  </thead>\n",
       "  <tbody>\n",
       "    <tr>\n",
       "      <th>A</th>\n",
       "      <td>0</td>\n",
       "      <td>Healthcare</td>\n",
       "    </tr>\n",
       "    <tr>\n",
       "      <th>AAL</th>\n",
       "      <td>3</td>\n",
       "      <td>Industrials</td>\n",
       "    </tr>\n",
       "    <tr>\n",
       "      <th>HPE</th>\n",
       "      <td>1</td>\n",
       "      <td>Technology</td>\n",
       "    </tr>\n",
       "    <tr>\n",
       "      <th>CSRA</th>\n",
       "      <td>1</td>\n",
       "      <td>Technology</td>\n",
       "    </tr>\n",
       "  </tbody>\n",
       "</table>\n",
       "</div>"
      ],
      "text/plain": [
       "       sector_code       sector\n",
       "asset                          \n",
       "A                0   Healthcare\n",
       "AAL              3  Industrials\n",
       "HPE              1   Technology\n",
       "CSRA             1   Technology"
      ]
     },
     "execution_count": 23,
     "metadata": {},
     "output_type": "execute_result"
    }
   ],
   "source": [
    "# Mapping from asset to sector (no date)\n",
    "sector_to_asset = sector_factor_df.reset_index('asset').drop_duplicates().set_index('asset')\n",
    "\n",
    "pd.concat([sector_to_asset.head(2), sector_to_asset.tail(2)], axis=0)"
   ]
  },
  {
   "cell_type": "markdown",
   "metadata": {},
   "source": [
    "# Rule Based Sentiment Analysis: Loughran Mcdonald textual analysis in financial data\n",
    "\n",
    "Leverage expert crafted sentiments word lists to analyze create alpha factors. Two approaches:\n",
    "\n",
    "* For a given ticker's 10k's document, measure evolution at each sentiment by computing similiarity among doc[t] and doc[t+1]\n",
    "* Compute a sentiment score based on frequencies of each sentiment word list on each ticker 10k. Then standardize scores to obtain an alpha factor by each document\n",
    "\n",
    "\n",
    "\n",
    "Referene: https://sraf.nd.edu/textual-analysis/resources/"
   ]
  },
  {
   "cell_type": "code",
   "execution_count": 24,
   "metadata": {},
   "outputs": [
    {
     "data": {
      "text/plain": [
       "['negative',\n",
       " 'positive',\n",
       " 'uncertainty',\n",
       " 'litigious',\n",
       " 'constraining',\n",
       " 'interesting']"
      ]
     },
     "execution_count": 24,
     "metadata": {},
     "output_type": "execute_result"
    }
   ],
   "source": [
    "sentiments = sentiment_df.columns.tolist()[:-1]\n",
    "sentiments"
   ]
  },
  {
   "cell_type": "code",
   "execution_count": 25,
   "metadata": {},
   "outputs": [
    {
     "data": {
      "text/plain": [
       "negative        1515\n",
       "positive         249\n",
       "uncertainty      230\n",
       "litigious        716\n",
       "constraining      96\n",
       "interesting       60\n",
       "dtype: int64"
      ]
     },
     "execution_count": 25,
     "metadata": {},
     "output_type": "execute_result"
    }
   ],
   "source": [
    "sentiment_df[sentiments].sum(axis=0)"
   ]
  },
  {
   "cell_type": "code",
   "execution_count": 26,
   "metadata": {},
   "outputs": [
    {
     "data": {
      "image/png": "[encoded data removed]",
      "text/plain": [
       "<Figure size 1152x576 with 1 Axes>"
      ]
     },
     "metadata": {},
     "output_type": "display_data"
    }
   ],
   "source": [
    "sent_vocab_sizes = sentiment_df[sentiments].sum(axis=0)\n",
    "sent_vocab_sizes.plot.bar(title='Loughran Sentiment Vocabulary sizes')\n",
    "plt.show()"
   ]
  },
  {
   "cell_type": "markdown",
   "metadata": {},
   "source": [
    "## Sentiment Scores\n",
    "\n",
    "Firstly, aggregate tf-idf scores for each doc-sentiment (on each date). As sentiment vocabulary is considerabily varies, perform a zscore on date axis, that's it, by aggregating on each date each sentiment score"
   ]
  },
  {
   "cell_type": "code",
   "execution_count": 27,
   "metadata": {},
   "outputs": [],
   "source": [
    "#['negative', 'positive', 'uncertainty', 'litigious', 'constraining', 'interesting'])\n",
    "sent_score_sign = {'negative': -1,\n",
    "                'uncertainty': -1,\n",
    "                'litigious': -1,\n",
    "                'constraining': -1,\n",
    "                'positive': +1,\n",
    "                'interesting': +1}"
   ]
  },
  {
   "cell_type": "code",
   "execution_count": 40,
   "metadata": {},
   "outputs": [],
   "source": [
    "sent_score_dfs =  {}\n",
    "\n",
    "for sent_key, tfidf_mat in tf_idf_by_sent.items():\n",
    "    sent_raw_score = tfidf_mat.sum(axis=1).div(doc_lens) * sent_score_sign[sent_key] # sentiment raw score by ticker-date\n",
    "    sent_raw_score.name = 'sentiment_score'\n",
    "    sent_score_dfs[sent_key] = sent_raw_score"
   ]
  },
  {
   "cell_type": "code",
   "execution_count": 41,
   "metadata": {},
   "outputs": [
    {
     "data": {
      "image/png": "[encoded data removed]",
      "text/plain": [
       "<Figure size 1152x576 with 1 Axes>"
      ]
     },
     "metadata": {},
     "output_type": "display_data"
    }
   ],
   "source": [
    "sent_score_dfs['positive'][example_ticker].plot(title='Positive raw sentiment score', label='amzn')\n",
    "sent_score_dfs['positive']['aapl'].plot(label='appl')\n",
    "plt.legend()\n",
    "plt.show()"
   ]
  },
  {
   "cell_type": "code",
   "execution_count": 42,
   "metadata": {},
   "outputs": [
    {
     "name": "stdout",
     "output_type": "stream",
     "text": [
      "<class 'pandas.core.frame.DataFrame'>\n",
      "MultiIndex: 51822 entries, ('negative', 'aal', Timestamp('2003-04-15 00:00:00')) to ('interesting', 'zts', Timestamp('2020-02-13 00:00:00'))\n",
      "Data columns (total 5 columns):\n",
      " #   Column           Non-Null Count  Dtype  \n",
      "---  ------           --------------  -----  \n",
      " 0   sentiment_score  51816 non-null  float64\n",
      " 1   idx_year         51822 non-null  int64  \n",
      " 2   asset            51822 non-null  object \n",
      " 3   sector_code      51822 non-null  int64  \n",
      " 4   sector           51822 non-null  object \n",
      "dtypes: float64(1), int64(2), object(2)\n",
      "memory usage: 2.3+ MB\n"
     ]
    }
   ],
   "source": [
    "sent_alphas_raw = pd.concat(sent_score_dfs)\n",
    "sent_alphas_raw.index.rename(inplace=True, level=0, names='sentiment')\n",
    "sent_alphas_raw = sent_alphas_raw.reset_index()\n",
    "sent_alphas_raw['idx_year'] = sent_alphas_raw['date'].dt.year\n",
    "sent_alphas_raw['asset'] = [ticker.upper() for ticker in sent_alphas_raw['ticker']]\n",
    "\n",
    "sent_alphas_raw = sent_alphas_raw.merge(sector_to_asset, how='left', left_on='asset', right_on='asset').set_index(['sentiment', 'ticker', 'date'])\n",
    "sent_alphas_raw['sector_code'] = sent_alphas_raw['sector_code'].fillna(-1)\n",
    "sent_alphas_raw['sector'] = sent_alphas_raw['sector'].fillna('No sector')\n",
    "\n",
    "sent_alphas_raw.info()"
   ]
  },
  {
   "cell_type": "code",
   "execution_count": 43,
   "metadata": {},
   "outputs": [
    {
     "data": {
      "text/html": [
       "<div>\n",
       "<style scoped>\n",
       "    .dataframe tbody tr th:only-of-type {\n",
       "        vertical-align: middle;\n",
       "    }\n",
       "\n",
       "    .dataframe tbody tr th {\n",
       "        vertical-align: top;\n",
       "    }\n",
       "\n",
       "    .dataframe thead th {\n",
       "        text-align: right;\n",
       "    }\n",
       "</style>\n",
       "<table border=\"1\" class=\"dataframe\">\n",
       "  <thead>\n",
       "    <tr style=\"text-align: right;\">\n",
       "      <th></th>\n",
       "      <th></th>\n",
       "      <th></th>\n",
       "      <th>sentiment_score</th>\n",
       "      <th>idx_year</th>\n",
       "      <th>asset</th>\n",
       "      <th>sector_code</th>\n",
       "      <th>sector</th>\n",
       "    </tr>\n",
       "    <tr>\n",
       "      <th>sentiment</th>\n",
       "      <th>ticker</th>\n",
       "      <th>date</th>\n",
       "      <th></th>\n",
       "      <th></th>\n",
       "      <th></th>\n",
       "      <th></th>\n",
       "      <th></th>\n",
       "    </tr>\n",
       "  </thead>\n",
       "  <tbody>\n",
       "    <tr>\n",
       "      <th rowspan=\"2\" valign=\"top\">negative</th>\n",
       "      <th rowspan=\"2\" valign=\"top\">aal</th>\n",
       "      <th>2003-04-15</th>\n",
       "      <td>-0.000176</td>\n",
       "      <td>2003</td>\n",
       "      <td>AAL</td>\n",
       "      <td>3</td>\n",
       "      <td>Industrials</td>\n",
       "    </tr>\n",
       "    <tr>\n",
       "      <th>2004-02-27</th>\n",
       "      <td>-0.000160</td>\n",
       "      <td>2004</td>\n",
       "      <td>AAL</td>\n",
       "      <td>3</td>\n",
       "      <td>Industrials</td>\n",
       "    </tr>\n",
       "    <tr>\n",
       "      <th rowspan=\"2\" valign=\"top\">interesting</th>\n",
       "      <th rowspan=\"2\" valign=\"top\">zts</th>\n",
       "      <th>2019-02-14</th>\n",
       "      <td>0.000035</td>\n",
       "      <td>2019</td>\n",
       "      <td>ZTS</td>\n",
       "      <td>0</td>\n",
       "      <td>Healthcare</td>\n",
       "    </tr>\n",
       "    <tr>\n",
       "      <th>2020-02-13</th>\n",
       "      <td>0.000039</td>\n",
       "      <td>2020</td>\n",
       "      <td>ZTS</td>\n",
       "      <td>0</td>\n",
       "      <td>Healthcare</td>\n",
       "    </tr>\n",
       "  </tbody>\n",
       "</table>\n",
       "</div>"
      ],
      "text/plain": [
       "                               sentiment_score  idx_year asset  sector_code  \\\n",
       "sentiment   ticker date                                                       \n",
       "negative    aal    2003-04-15        -0.000176      2003   AAL            3   \n",
       "                   2004-02-27        -0.000160      2004   AAL            3   \n",
       "interesting zts    2019-02-14         0.000035      2019   ZTS            0   \n",
       "                   2020-02-13         0.000039      2020   ZTS            0   \n",
       "\n",
       "                                    sector  \n",
       "sentiment   ticker date                     \n",
       "negative    aal    2003-04-15  Industrials  \n",
       "                   2004-02-27  Industrials  \n",
       "interesting zts    2019-02-14   Healthcare  \n",
       "                   2020-02-13   Healthcare  "
      ]
     },
     "execution_count": 43,
     "metadata": {},
     "output_type": "execute_result"
    }
   ],
   "source": [
    "pd.concat([sent_alphas_raw.head(2), sent_alphas_raw.tail(2)], axis=0)"
   ]
  },
  {
   "cell_type": "code",
   "execution_count": 44,
   "metadata": {},
   "outputs": [],
   "source": [
    "sent_alphas_count = sent_alphas_raw.groupby(['idx_year']).size()\n",
    "#sent_alphas_count.name = 'count'\n",
    "#sns.lineplot(data=sent_alphas_count.reset_index().drop_duplicates(), x='idx_year', y='count')\n",
    "#plt.title('Total number of documents by year (ticker-date)')\n",
    "#plt.show()"
   ]
  },
  {
   "cell_type": "code",
   "execution_count": 45,
   "metadata": {},
   "outputs": [
    {
     "data": {
      "text/plain": [
       "sentiment    ticker  date      \n",
       "negative     aal     2003-04-15    0.798350\n",
       "                     2004-02-27    0.687358\n",
       "interesting  zts     2019-02-14    0.210526\n",
       "                     2020-02-13    0.390499\n",
       "Name: sentiment_score, dtype: float64"
      ]
     },
     "execution_count": 45,
     "metadata": {},
     "output_type": "execute_result"
    }
   ],
   "source": [
    "sent_alphas = bow_sent.compute_sentiment_alpha_factor(sent_scores=sent_alphas_raw, group_columns=['idx_year', 'sentiment'],\n",
    "                                                      sector_col='sector_code', score_col='sentiment_score')\n",
    "pd.concat([sent_alphas.head(2), sent_alphas.tail(2)], axis=0)"
   ]
  },
  {
   "cell_type": "code",
   "execution_count": 53,
   "metadata": {},
   "outputs": [
    {
     "name": "stderr",
     "output_type": "stream",
     "text": [
      "C:\\ProgramData\\Anaconda3\\envs\\quant-tsa\\lib\\site-packages\\ipykernel_launcher.py:1: PerformanceWarning: indexing past lexsort depth may impact performance.\n",
      "  \"\"\"Entry point for launching an IPython kernel.\n",
      "C:\\ProgramData\\Anaconda3\\envs\\quant-tsa\\lib\\site-packages\\ipykernel_launcher.py:2: PerformanceWarning: indexing past lexsort depth may impact performance.\n",
      "  \n",
      "C:\\ProgramData\\Anaconda3\\envs\\quant-tsa\\lib\\site-packages\\ipykernel_launcher.py:3: PerformanceWarning: indexing past lexsort depth may impact performance.\n",
      "  This is separate from the ipykernel package so we can avoid doing imports until\n"
     ]
    },
    {
     "data": {
      "image/png": "[encoded data removed]",
      "text/plain": [
       "<Figure size 1152x576 with 1 Axes>"
      ]
     },
     "metadata": {},
     "output_type": "display_data"
    }
   ],
   "source": [
    "sent_alphas.loc[('positive', example_ticker)].plot(title='Positive raw sentiment score', label='amzn')\n",
    "sent_alphas.loc[('positive', 'aapl')].plot(label='aapl')\n",
    "sent_alphas.loc[('positive', 'msft')].plot(label='msft')\n",
    "plt.legend()\n",
    "plt.show()"
   ]
  },
  {
   "cell_type": "markdown",
   "metadata": {},
   "source": [
    "# Write Data"
   ]
  },
  {
   "cell_type": "code",
   "execution_count": 54,
   "metadata": {},
   "outputs": [],
   "source": [
    "sent_alphas.to_csv(OUTPATH + OUTFILE1)"
   ]
  },
  {
   "cell_type": "code",
   "execution_count": null,
   "metadata": {},
   "outputs": [],
   "source": []
  }
 ],
 "metadata": {
  "kernelspec": {
   "display_name": "Python 3",
   "language": "python",
   "name": "python3"
  },
  "language_info": {
   "codemirror_mode": {
    "name": "ipython",
    "version": 3
   },
   "file_extension": ".py",
   "mimetype": "text/x-python",
   "name": "python",
   "nbconvert_exporter": "python",
   "pygments_lexer": "ipython3",
   "version": "3.7.7"
  },
  "toc-autonumbering": true
 },
 "nbformat": 4,
 "nbformat_minor": 4
}
