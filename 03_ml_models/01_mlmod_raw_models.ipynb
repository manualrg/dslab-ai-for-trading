{
 "cells": [
  {
   "cell_type": "markdown",
   "metadata": {},
   "source": [
    "<font size=\"6\"> **Model Building** </font>"
   ]
  },
  {
   "cell_type": "code",
   "execution_count": 1,
   "metadata": {},
   "outputs": [],
   "source": [
    "%%capture\n",
    "%run 00_mlmod_load_data.ipynb"
   ]
  },
  {
   "cell_type": "code",
   "execution_count": 2,
   "metadata": {},
   "outputs": [],
   "source": [
    "RND_SEED = 123\n",
    "KFOLDS = 3\n",
    "pd.set_option('precision', 4)\n"
   ]
  },
  {
   "cell_type": "code",
   "execution_count": 3,
   "metadata": {},
   "outputs": [],
   "source": [
    "from sklearn.model_selection import GridSearchCV, ParameterGrid\n",
    "from sklearn.linear_model import Ridge\n",
    "from sklearn.metrics import make_scorer\n",
    "from sklearn.ensemble import RandomForestRegressor"
   ]
  },
  {
   "cell_type": "markdown",
   "metadata": {},
   "source": [
    "# Scoring Function"
   ]
  },
  {
   "cell_type": "code",
   "execution_count": 4,
   "metadata": {},
   "outputs": [],
   "source": [
    "def direction_accuracy_func(y_true, y_pred, **kwargs):\n",
    "    kind = kwargs.get('kind', 'global')\n",
    "    w_fp = kwargs.get('w_fp', 2)\n",
    "    w_fn = kwargs.get('w_fn', 2)\n",
    "    nobs = len(y_true)\n",
    "    y_true_pos = (y_true>0).astype(int)\n",
    "    y_pred_pos = (y_pred>0).astype(int)\n",
    "    xtab = pd.crosstab(index=y_true_pos, columns=y_pred_pos)\n",
    "    try:\n",
    "        tp = xtab.loc[1,1]\n",
    "    except:\n",
    "        tp = 0\n",
    "    try:\n",
    "        tn = xtab.loc[0,0]\n",
    "    except:\n",
    "        tn = 0\n",
    "    try:\n",
    "        fp = xtab.loc[0,1]\n",
    "    except:\n",
    "        fp = 0\n",
    "    try:\n",
    "        fn = xtab.loc[1,0]\n",
    "    except:\n",
    "        fn = 0\n",
    "    if kind == 'global':\n",
    "        try:\n",
    "            acc = (tp + tn)/nobs\n",
    "        except:\n",
    "            acc = 0\n",
    "    elif kind == 'upwards':\n",
    "        try:\n",
    "            acc = tp/(tp + fn)\n",
    "        except:\n",
    "            acc = 0\n",
    "    elif kind == 'downwards':\n",
    "        try:\n",
    "            acc = tn/(tn + fp)\n",
    "        except:\n",
    "            acc = 0\n",
    "    elif kind == 'weighted':\n",
    "        try:\n",
    "            acc = (tp + tn)/(tp + tn + fp*w_fp + fn*w_fn)\n",
    "        except:\n",
    "            acc = 0\n",
    "    else:\n",
    "        raise ValueError(\"kind must be: global, upwards, downwards or weighted\")\n",
    "        \n",
    "    return acc\n",
    "direction_accuracy = make_scorer(direction_accuracy_func, greater_is_better=True, kind='global')\n",
    "upwards_direction_accuracy = make_scorer(direction_accuracy_func, greater_is_better=True, kind='upwards')\n",
    "downwards_direction_accuracy = make_scorer(direction_accuracy_func, greater_is_better=True, kind='downwards')\n",
    "weighted_direction_accuracy = make_scorer(direction_accuracy_func, greater_is_better=True, kind='weighted', w_fp=2., w_fn=1.)"
   ]
  },
  {
   "cell_type": "code",
   "execution_count": 5,
   "metadata": {},
   "outputs": [
    {
     "data": {
      "text/html": [
       "<div>\n",
       "<style scoped>\n",
       "    .dataframe tbody tr th:only-of-type {\n",
       "        vertical-align: middle;\n",
       "    }\n",
       "\n",
       "    .dataframe tbody tr th {\n",
       "        vertical-align: top;\n",
       "    }\n",
       "\n",
       "    .dataframe thead th {\n",
       "        text-align: right;\n",
       "    }\n",
       "</style>\n",
       "<table border=\"1\" class=\"dataframe\">\n",
       "  <thead>\n",
       "    <tr style=\"text-align: right;\">\n",
       "      <th>col_0</th>\n",
       "      <th>0</th>\n",
       "      <th>1</th>\n",
       "    </tr>\n",
       "    <tr>\n",
       "      <th>row_0</th>\n",
       "      <th></th>\n",
       "      <th></th>\n",
       "    </tr>\n",
       "  </thead>\n",
       "  <tbody>\n",
       "    <tr>\n",
       "      <th>0</th>\n",
       "      <td>2</td>\n",
       "      <td>1</td>\n",
       "    </tr>\n",
       "    <tr>\n",
       "      <th>1</th>\n",
       "      <td>1</td>\n",
       "      <td>1</td>\n",
       "    </tr>\n",
       "  </tbody>\n",
       "</table>\n",
       "</div>"
      ],
      "text/plain": [
       "col_0  0  1\n",
       "row_0      \n",
       "0      2  1\n",
       "1      1  1"
      ]
     },
     "execution_count": 5,
     "metadata": {},
     "output_type": "execute_result"
    }
   ],
   "source": [
    "y_true = np.array([0.1, -0.1, 0.2, -0.2, -0.15])\n",
    "y_pred = np.array([0.01, 0.01, -0.02, -0.02, -0.15])\n",
    "pd.crosstab(index=(y_true>0).astype(int), columns=(y_pred>0).astype(int))"
   ]
  },
  {
   "cell_type": "code",
   "execution_count": 6,
   "metadata": {},
   "outputs": [
    {
     "data": {
      "text/plain": [
       "0.6"
      ]
     },
     "execution_count": 6,
     "metadata": {},
     "output_type": "execute_result"
    }
   ],
   "source": [
    "direction_accuracy_func(y_true, y_pred)"
   ]
  },
  {
   "cell_type": "code",
   "execution_count": 7,
   "metadata": {},
   "outputs": [
    {
     "data": {
      "text/plain": [
       "0.5"
      ]
     },
     "execution_count": 7,
     "metadata": {},
     "output_type": "execute_result"
    }
   ],
   "source": [
    "direction_accuracy_func(y_true, y_pred, kind='upwards')"
   ]
  },
  {
   "cell_type": "code",
   "execution_count": 8,
   "metadata": {},
   "outputs": [
    {
     "data": {
      "text/plain": [
       "0.6666666666666666"
      ]
     },
     "execution_count": 8,
     "metadata": {},
     "output_type": "execute_result"
    }
   ],
   "source": [
    "direction_accuracy_func(y_true, y_pred, kind='downwards')"
   ]
  },
  {
   "cell_type": "code",
   "execution_count": 9,
   "metadata": {},
   "outputs": [
    {
     "data": {
      "text/plain": [
       "0.46153846153846156"
      ]
     },
     "execution_count": 9,
     "metadata": {},
     "output_type": "execute_result"
    }
   ],
   "source": [
    "direction_accuracy_func(y_true, y_pred, kind='weighted', w_fp=2, w_fn=1.5)"
   ]
  },
  {
   "cell_type": "code",
   "execution_count": 10,
   "metadata": {},
   "outputs": [],
   "source": [
    "scoring = {'neg_root_mean_squared_error':'neg_root_mean_squared_error',\n",
    "           'w_accuracy': weighted_direction_accuracy,\n",
    "           'accuracy': direction_accuracy,\n",
    "          'up_accuracy': upwards_direction_accuracy,\n",
    "          'down_accuracy': downwards_direction_accuracy}"
   ]
  },
  {
   "cell_type": "code",
   "execution_count": 11,
   "metadata": {},
   "outputs": [],
   "source": [
    "select_sum_cols = ['mean_test_w_accuracy', 'std_test_w_accuracy', 'rank_test_w_accuracy',\n",
    "                   'mean_test_accuracy', 'mean_test_up_accuracy','mean_test_down_accuracy', 'mean_test_neg_root_mean_squared_error']"
   ]
  },
  {
   "cell_type": "code",
   "execution_count": 12,
   "metadata": {},
   "outputs": [
    {
     "data": {
      "text/plain": [
       "True     32504\n",
       "False    25279\n",
       "Name: target, dtype: int64"
      ]
     },
     "execution_count": 12,
     "metadata": {},
     "output_type": "execute_result"
    }
   ],
   "source": [
    "(y_train_smp>0).value_counts()"
   ]
  },
  {
   "cell_type": "markdown",
   "metadata": {},
   "source": [
    "# Ridge Models"
   ]
  },
  {
   "cell_type": "code",
   "execution_count": 13,
   "metadata": {},
   "outputs": [],
   "source": [
    "ridge_tscv_smp = TimeSeriesSplit(n_splits=KFOLDS).split(y_train_smp)"
   ]
  },
  {
   "cell_type": "code",
   "execution_count": 14,
   "metadata": {},
   "outputs": [],
   "source": [
    "hpgrid_ridge = {'alpha': [10.0**x for x in range(-3,3)]}\n",
    "ridge = Ridge(fit_intercept=False, random_state=RND_SEED)"
   ]
  },
  {
   "cell_type": "code",
   "execution_count": 15,
   "metadata": {},
   "outputs": [],
   "source": [
    "ridge_cv = GridSearchCV(ridge, hpgrid_ridge, scoring=scoring,\n",
    "                        n_jobs=-1, refit='w_accuracy',\n",
    "                        cv=ridge_tscv_smp, return_train_score=True)\n",
    "res_ridge_cv = ridge_cv.fit(X_train_smp[features], y_train_smp)"
   ]
  },
  {
   "cell_type": "code",
   "execution_count": 16,
   "metadata": {},
   "outputs": [
    {
     "data": {
      "text/html": [
       "<div>\n",
       "<style scoped>\n",
       "    .dataframe tbody tr th:only-of-type {\n",
       "        vertical-align: middle;\n",
       "    }\n",
       "\n",
       "    .dataframe tbody tr th {\n",
       "        vertical-align: top;\n",
       "    }\n",
       "\n",
       "    .dataframe thead th {\n",
       "        text-align: right;\n",
       "    }\n",
       "</style>\n",
       "<table border=\"1\" class=\"dataframe\">\n",
       "  <thead>\n",
       "    <tr style=\"text-align: right;\">\n",
       "      <th></th>\n",
       "      <th>alpha</th>\n",
       "      <th>mean_test_w_accuracy</th>\n",
       "      <th>std_test_w_accuracy</th>\n",
       "      <th>rank_test_w_accuracy</th>\n",
       "      <th>mean_test_accuracy</th>\n",
       "      <th>mean_test_up_accuracy</th>\n",
       "      <th>mean_test_down_accuracy</th>\n",
       "      <th>mean_test_neg_root_mean_squared_error</th>\n",
       "    </tr>\n",
       "  </thead>\n",
       "  <tbody>\n",
       "    <tr>\n",
       "      <th>0</th>\n",
       "      <td>0.001</td>\n",
       "      <td>0.4435</td>\n",
       "      <td>0.0275</td>\n",
       "      <td>1</td>\n",
       "      <td>0.5480</td>\n",
       "      <td>0.6188</td>\n",
       "      <td>0.4600</td>\n",
       "      <td>-0.0287</td>\n",
       "    </tr>\n",
       "    <tr>\n",
       "      <th>1</th>\n",
       "      <td>0.010</td>\n",
       "      <td>0.4387</td>\n",
       "      <td>0.0205</td>\n",
       "      <td>2</td>\n",
       "      <td>0.5589</td>\n",
       "      <td>0.7015</td>\n",
       "      <td>0.3788</td>\n",
       "      <td>-0.0286</td>\n",
       "    </tr>\n",
       "    <tr>\n",
       "      <th>2</th>\n",
       "      <td>0.100</td>\n",
       "      <td>0.4378</td>\n",
       "      <td>0.0184</td>\n",
       "      <td>3</td>\n",
       "      <td>0.5619</td>\n",
       "      <td>0.7227</td>\n",
       "      <td>0.3584</td>\n",
       "      <td>-0.0286</td>\n",
       "    </tr>\n",
       "    <tr>\n",
       "      <th>3</th>\n",
       "      <td>1.000</td>\n",
       "      <td>0.4367</td>\n",
       "      <td>0.0168</td>\n",
       "      <td>4</td>\n",
       "      <td>0.5624</td>\n",
       "      <td>0.7309</td>\n",
       "      <td>0.3487</td>\n",
       "      <td>-0.0286</td>\n",
       "    </tr>\n",
       "    <tr>\n",
       "      <th>4</th>\n",
       "      <td>10.000</td>\n",
       "      <td>0.4200</td>\n",
       "      <td>0.0070</td>\n",
       "      <td>5</td>\n",
       "      <td>0.5624</td>\n",
       "      <td>0.8211</td>\n",
       "      <td>0.2361</td>\n",
       "      <td>-0.0285</td>\n",
       "    </tr>\n",
       "    <tr>\n",
       "      <th>5</th>\n",
       "      <td>100.000</td>\n",
       "      <td>0.3866</td>\n",
       "      <td>0.0113</td>\n",
       "      <td>6</td>\n",
       "      <td>0.5546</td>\n",
       "      <td>0.9806</td>\n",
       "      <td>0.0264</td>\n",
       "      <td>-0.0287</td>\n",
       "    </tr>\n",
       "  </tbody>\n",
       "</table>\n",
       "</div>"
      ],
      "text/plain": [
       "     alpha  mean_test_w_accuracy  std_test_w_accuracy  rank_test_w_accuracy  \\\n",
       "0    0.001                0.4435               0.0275                     1   \n",
       "1    0.010                0.4387               0.0205                     2   \n",
       "2    0.100                0.4378               0.0184                     3   \n",
       "3    1.000                0.4367               0.0168                     4   \n",
       "4   10.000                0.4200               0.0070                     5   \n",
       "5  100.000                0.3866               0.0113                     6   \n",
       "\n",
       "   mean_test_accuracy  mean_test_up_accuracy  mean_test_down_accuracy  \\\n",
       "0              0.5480                 0.6188                   0.4600   \n",
       "1              0.5589                 0.7015                   0.3788   \n",
       "2              0.5619                 0.7227                   0.3584   \n",
       "3              0.5624                 0.7309                   0.3487   \n",
       "4              0.5624                 0.8211                   0.2361   \n",
       "5              0.5546                 0.9806                   0.0264   \n",
       "\n",
       "   mean_test_neg_root_mean_squared_error  \n",
       "0                                -0.0287  \n",
       "1                                -0.0286  \n",
       "2                                -0.0286  \n",
       "3                                -0.0286  \n",
       "4                                -0.0285  \n",
       "5                                -0.0287  "
      ]
     },
     "execution_count": 16,
     "metadata": {},
     "output_type": "execute_result"
    }
   ],
   "source": [
    "ridge_params_df = pd.DataFrame(res_ridge_cv.cv_results_['params'])\n",
    "ridge_metrics_df = pd.DataFrame(res_ridge_cv.cv_results_)[select_sum_cols]\n",
    "ridge_sum_df = ridge_params_df.join(ridge_metrics_df)\n",
    "ridge_sum_df.sort_values(by='rank_test_w_accuracy').head(20)"
   ]
  },
  {
   "cell_type": "code",
   "execution_count": 17,
   "metadata": {},
   "outputs": [
    {
     "data": {
      "text/plain": [
       "0.44353819235148345"
      ]
     },
     "execution_count": 17,
     "metadata": {},
     "output_type": "execute_result"
    }
   ],
   "source": [
    "res_ridge_cv.best_score_"
   ]
  },
  {
   "cell_type": "code",
   "execution_count": 18,
   "metadata": {},
   "outputs": [
    {
     "data": {
      "text/plain": [
       "Ridge(alpha=0.1, copy_X=True, fit_intercept=False, max_iter=None,\n",
       "      normalize=False, random_state=123, solver='auto', tol=0.001)"
      ]
     },
     "execution_count": 18,
     "metadata": {},
     "output_type": "execute_result"
    }
   ],
   "source": [
    "champ_ridge_hparms = res_ridge_cv.cv_results_['params'][2]\n",
    "champ_ridge = Ridge(fit_intercept=False, random_state=RND_SEED)\n",
    "champ_ridge.set_params(**champ_ridge_hparms)\n",
    "champ_ridge.fit(X_train_smp[features], y_train_smp)"
   ]
  },
  {
   "cell_type": "code",
   "execution_count": 19,
   "metadata": {},
   "outputs": [],
   "source": [
    "p_test_ridge = pd.Series(index=y_test_full.index, data=champ_ridge.predict(X_test_full[features]))"
   ]
  },
  {
   "cell_type": "code",
   "execution_count": 20,
   "metadata": {},
   "outputs": [
    {
     "data": {
      "text/plain": [
       "<matplotlib.axes._subplots.AxesSubplot at 0x26049117d30>"
      ]
     },
     "execution_count": 20,
     "metadata": {},
     "output_type": "execute_result"
    },
    {
     "data": {
      "image/png": "[encoded data removed]",
      "text/plain": [
       "<Figure size 432x288 with 1 Axes>"
      ]
     },
     "metadata": {
      "needs_background": "light"
     },
     "output_type": "display_data"
    }
   ],
   "source": [
    "p_test_ridge.hist()"
   ]
  },
  {
   "cell_type": "code",
   "execution_count": 21,
   "metadata": {},
   "outputs": [
    {
     "data": {
      "text/plain": [
       "train_pmean           0.0035\n",
       "train_score           0.0008\n",
       "valid_pmean           0.0086\n",
       "valid_score           0.0015\n",
       "train_acc_target<0    0.3056\n",
       "train_acc_target>0    0.7847\n",
       "train_acc             0.5751\n",
       "valid_acc             0.5043\n",
       "valid_acc_target<0    0.0983\n",
       "valid_acc_target>0    0.9024\n",
       "dtype: float64"
      ]
     },
     "execution_count": 21,
     "metadata": {},
     "output_type": "execute_result"
    }
   ],
   "source": [
    "ridge_sum_df = mle_utils.predict_and_score(champ_ridge,\n",
    "                                           X_train_full[features], y_train_full,\n",
    "                                           X_test_full[features], y_test_full, kind='reg')\n",
    "ridge_sum_df"
   ]
  },
  {
   "cell_type": "code",
   "execution_count": 35,
   "metadata": {},
   "outputs": [
    {
     "data": {
      "text/plain": [
       "0.09830644929411426"
      ]
     },
     "execution_count": 35,
     "metadata": {},
     "output_type": "execute_result"
    }
   ],
   "source": [
    "direction_accuracy_func(y_test_full, p_test_ridge, kind='downwards')"
   ]
  },
  {
   "cell_type": "code",
   "execution_count": 22,
   "metadata": {},
   "outputs": [],
   "source": [
    "# overlapper"
   ]
  },
  {
   "cell_type": "code",
   "execution_count": null,
   "metadata": {},
   "outputs": [],
   "source": []
  },
  {
   "cell_type": "markdown",
   "metadata": {},
   "source": [
    "# Random Forest Model"
   ]
  },
  {
   "cell_type": "code",
   "execution_count": 23,
   "metadata": {},
   "outputs": [],
   "source": [
    "\n",
    "rf_tscv_smp = TimeSeriesSplit(n_splits=KFOLDS).split(y_train_smp)"
   ]
  },
  {
   "cell_type": "code",
   "execution_count": 24,
   "metadata": {},
   "outputs": [],
   "source": [
    "hpgrid_rf = {'max_samples': [0.25, 0.5, 0.75],\n",
    "            'max_features': [0.25, 0.5, 0.75],\n",
    "            'min_samples_leaf': [250, 500, 1000, 2500, 5000]}\n",
    "rf = RandomForestRegressor(n_estimators=200, criterion='mse',\n",
    "                            bootstrap=True,oob_score=True,\n",
    "                            n_jobs=-1, random_state=RND_SEED)"
   ]
  },
  {
   "cell_type": "code",
   "execution_count": 25,
   "metadata": {},
   "outputs": [],
   "source": [
    "rf_cv = GridSearchCV(rf, hpgrid_rf, scoring=scoring,\n",
    "                        n_jobs=-1, refit='w_accuracy',\n",
    "                        cv=rf_tscv_smp, return_train_score=True)\n",
    "res_rf_cv = rf_cv.fit(X_train_smp, y_train_smp)"
   ]
  },
  {
   "cell_type": "code",
   "execution_count": null,
   "metadata": {},
   "outputs": [],
   "source": []
  },
  {
   "cell_type": "code",
   "execution_count": 26,
   "metadata": {},
   "outputs": [
    {
     "data": {
      "text/html": [
       "<div>\n",
       "<style scoped>\n",
       "    .dataframe tbody tr th:only-of-type {\n",
       "        vertical-align: middle;\n",
       "    }\n",
       "\n",
       "    .dataframe tbody tr th {\n",
       "        vertical-align: top;\n",
       "    }\n",
       "\n",
       "    .dataframe thead th {\n",
       "        text-align: right;\n",
       "    }\n",
       "</style>\n",
       "<table border=\"1\" class=\"dataframe\">\n",
       "  <thead>\n",
       "    <tr style=\"text-align: right;\">\n",
       "      <th></th>\n",
       "      <th>max_features</th>\n",
       "      <th>max_samples</th>\n",
       "      <th>min_samples_leaf</th>\n",
       "      <th>mean_test_w_accuracy</th>\n",
       "      <th>std_test_w_accuracy</th>\n",
       "      <th>rank_test_w_accuracy</th>\n",
       "      <th>mean_test_accuracy</th>\n",
       "      <th>mean_test_up_accuracy</th>\n",
       "      <th>mean_test_down_accuracy</th>\n",
       "      <th>mean_test_neg_root_mean_squared_error</th>\n",
       "    </tr>\n",
       "  </thead>\n",
       "  <tbody>\n",
       "    <tr>\n",
       "      <th>30</th>\n",
       "      <td>0.75</td>\n",
       "      <td>0.25</td>\n",
       "      <td>250</td>\n",
       "      <td>0.4403</td>\n",
       "      <td>0.0351</td>\n",
       "      <td>1</td>\n",
       "      <td>0.4975</td>\n",
       "      <td>0.3437</td>\n",
       "      <td>0.6884</td>\n",
       "      <td>-0.0292</td>\n",
       "    </tr>\n",
       "    <tr>\n",
       "      <th>41</th>\n",
       "      <td>0.75</td>\n",
       "      <td>0.75</td>\n",
       "      <td>500</td>\n",
       "      <td>0.4380</td>\n",
       "      <td>0.0302</td>\n",
       "      <td>2</td>\n",
       "      <td>0.4991</td>\n",
       "      <td>0.3612</td>\n",
       "      <td>0.6715</td>\n",
       "      <td>-0.0293</td>\n",
       "    </tr>\n",
       "    <tr>\n",
       "      <th>26</th>\n",
       "      <td>0.50</td>\n",
       "      <td>0.75</td>\n",
       "      <td>500</td>\n",
       "      <td>0.4355</td>\n",
       "      <td>0.0318</td>\n",
       "      <td>3</td>\n",
       "      <td>0.5056</td>\n",
       "      <td>0.4134</td>\n",
       "      <td>0.6196</td>\n",
       "      <td>-0.0290</td>\n",
       "    </tr>\n",
       "    <tr>\n",
       "      <th>15</th>\n",
       "      <td>0.50</td>\n",
       "      <td>0.25</td>\n",
       "      <td>250</td>\n",
       "      <td>0.4339</td>\n",
       "      <td>0.0276</td>\n",
       "      <td>4</td>\n",
       "      <td>0.5006</td>\n",
       "      <td>0.3890</td>\n",
       "      <td>0.6370</td>\n",
       "      <td>-0.0290</td>\n",
       "    </tr>\n",
       "    <tr>\n",
       "      <th>36</th>\n",
       "      <td>0.75</td>\n",
       "      <td>0.50</td>\n",
       "      <td>500</td>\n",
       "      <td>0.4331</td>\n",
       "      <td>0.0216</td>\n",
       "      <td>5</td>\n",
       "      <td>0.4926</td>\n",
       "      <td>0.3416</td>\n",
       "      <td>0.6800</td>\n",
       "      <td>-0.0292</td>\n",
       "    </tr>\n",
       "    <tr>\n",
       "      <th>35</th>\n",
       "      <td>0.75</td>\n",
       "      <td>0.50</td>\n",
       "      <td>250</td>\n",
       "      <td>0.4264</td>\n",
       "      <td>0.0345</td>\n",
       "      <td>6</td>\n",
       "      <td>0.5158</td>\n",
       "      <td>0.5144</td>\n",
       "      <td>0.5200</td>\n",
       "      <td>-0.0291</td>\n",
       "    </tr>\n",
       "    <tr>\n",
       "      <th>21</th>\n",
       "      <td>0.50</td>\n",
       "      <td>0.50</td>\n",
       "      <td>500</td>\n",
       "      <td>0.4263</td>\n",
       "      <td>0.0334</td>\n",
       "      <td>7</td>\n",
       "      <td>0.4948</td>\n",
       "      <td>0.3958</td>\n",
       "      <td>0.6168</td>\n",
       "      <td>-0.0290</td>\n",
       "    </tr>\n",
       "    <tr>\n",
       "      <th>20</th>\n",
       "      <td>0.50</td>\n",
       "      <td>0.50</td>\n",
       "      <td>250</td>\n",
       "      <td>0.4244</td>\n",
       "      <td>0.0275</td>\n",
       "      <td>8</td>\n",
       "      <td>0.5062</td>\n",
       "      <td>0.4671</td>\n",
       "      <td>0.5554</td>\n",
       "      <td>-0.0289</td>\n",
       "    </tr>\n",
       "    <tr>\n",
       "      <th>10</th>\n",
       "      <td>0.25</td>\n",
       "      <td>0.75</td>\n",
       "      <td>250</td>\n",
       "      <td>0.4216</td>\n",
       "      <td>0.0277</td>\n",
       "      <td>9</td>\n",
       "      <td>0.5278</td>\n",
       "      <td>0.6116</td>\n",
       "      <td>0.4171</td>\n",
       "      <td>-0.0288</td>\n",
       "    </tr>\n",
       "    <tr>\n",
       "      <th>25</th>\n",
       "      <td>0.50</td>\n",
       "      <td>0.75</td>\n",
       "      <td>250</td>\n",
       "      <td>0.4208</td>\n",
       "      <td>0.0307</td>\n",
       "      <td>10</td>\n",
       "      <td>0.5136</td>\n",
       "      <td>0.5299</td>\n",
       "      <td>0.4965</td>\n",
       "      <td>-0.0289</td>\n",
       "    </tr>\n",
       "    <tr>\n",
       "      <th>31</th>\n",
       "      <td>0.75</td>\n",
       "      <td>0.25</td>\n",
       "      <td>500</td>\n",
       "      <td>0.4183</td>\n",
       "      <td>0.0389</td>\n",
       "      <td>11</td>\n",
       "      <td>0.4953</td>\n",
       "      <td>0.4416</td>\n",
       "      <td>0.5684</td>\n",
       "      <td>-0.0291</td>\n",
       "    </tr>\n",
       "    <tr>\n",
       "      <th>40</th>\n",
       "      <td>0.75</td>\n",
       "      <td>0.75</td>\n",
       "      <td>250</td>\n",
       "      <td>0.4180</td>\n",
       "      <td>0.0354</td>\n",
       "      <td>12</td>\n",
       "      <td>0.5179</td>\n",
       "      <td>0.5670</td>\n",
       "      <td>0.4567</td>\n",
       "      <td>-0.0291</td>\n",
       "    </tr>\n",
       "    <tr>\n",
       "      <th>5</th>\n",
       "      <td>0.25</td>\n",
       "      <td>0.50</td>\n",
       "      <td>250</td>\n",
       "      <td>0.4144</td>\n",
       "      <td>0.0323</td>\n",
       "      <td>13</td>\n",
       "      <td>0.5178</td>\n",
       "      <td>0.5907</td>\n",
       "      <td>0.4202</td>\n",
       "      <td>-0.0288</td>\n",
       "    </tr>\n",
       "    <tr>\n",
       "      <th>11</th>\n",
       "      <td>0.25</td>\n",
       "      <td>0.75</td>\n",
       "      <td>500</td>\n",
       "      <td>0.4124</td>\n",
       "      <td>0.0217</td>\n",
       "      <td>14</td>\n",
       "      <td>0.5211</td>\n",
       "      <td>0.6170</td>\n",
       "      <td>0.3973</td>\n",
       "      <td>-0.0288</td>\n",
       "    </tr>\n",
       "    <tr>\n",
       "      <th>42</th>\n",
       "      <td>0.75</td>\n",
       "      <td>0.75</td>\n",
       "      <td>1000</td>\n",
       "      <td>0.4098</td>\n",
       "      <td>0.0262</td>\n",
       "      <td>15</td>\n",
       "      <td>0.4850</td>\n",
       "      <td>0.4146</td>\n",
       "      <td>0.5788</td>\n",
       "      <td>-0.0292</td>\n",
       "    </tr>\n",
       "    <tr>\n",
       "      <th>0</th>\n",
       "      <td>0.25</td>\n",
       "      <td>0.25</td>\n",
       "      <td>250</td>\n",
       "      <td>0.4095</td>\n",
       "      <td>0.0199</td>\n",
       "      <td>16</td>\n",
       "      <td>0.5202</td>\n",
       "      <td>0.6282</td>\n",
       "      <td>0.3800</td>\n",
       "      <td>-0.0288</td>\n",
       "    </tr>\n",
       "    <tr>\n",
       "      <th>22</th>\n",
       "      <td>0.50</td>\n",
       "      <td>0.50</td>\n",
       "      <td>1000</td>\n",
       "      <td>0.4087</td>\n",
       "      <td>0.0172</td>\n",
       "      <td>17</td>\n",
       "      <td>0.5098</td>\n",
       "      <td>0.5662</td>\n",
       "      <td>0.4380</td>\n",
       "      <td>-0.0288</td>\n",
       "    </tr>\n",
       "    <tr>\n",
       "      <th>27</th>\n",
       "      <td>0.50</td>\n",
       "      <td>0.75</td>\n",
       "      <td>1000</td>\n",
       "      <td>0.4073</td>\n",
       "      <td>0.0368</td>\n",
       "      <td>18</td>\n",
       "      <td>0.4927</td>\n",
       "      <td>0.4814</td>\n",
       "      <td>0.5120</td>\n",
       "      <td>-0.0289</td>\n",
       "    </tr>\n",
       "    <tr>\n",
       "      <th>37</th>\n",
       "      <td>0.75</td>\n",
       "      <td>0.50</td>\n",
       "      <td>1000</td>\n",
       "      <td>0.4059</td>\n",
       "      <td>0.0261</td>\n",
       "      <td>19</td>\n",
       "      <td>0.4916</td>\n",
       "      <td>0.4770</td>\n",
       "      <td>0.5156</td>\n",
       "      <td>-0.0290</td>\n",
       "    </tr>\n",
       "    <tr>\n",
       "      <th>16</th>\n",
       "      <td>0.50</td>\n",
       "      <td>0.25</td>\n",
       "      <td>500</td>\n",
       "      <td>0.4046</td>\n",
       "      <td>0.0344</td>\n",
       "      <td>20</td>\n",
       "      <td>0.4984</td>\n",
       "      <td>0.5279</td>\n",
       "      <td>0.4658</td>\n",
       "      <td>-0.0289</td>\n",
       "    </tr>\n",
       "  </tbody>\n",
       "</table>\n",
       "</div>"
      ],
      "text/plain": [
       "    max_features  max_samples  min_samples_leaf  mean_test_w_accuracy  \\\n",
       "30          0.75         0.25               250                0.4403   \n",
       "41          0.75         0.75               500                0.4380   \n",
       "26          0.50         0.75               500                0.4355   \n",
       "15          0.50         0.25               250                0.4339   \n",
       "36          0.75         0.50               500                0.4331   \n",
       "35          0.75         0.50               250                0.4264   \n",
       "21          0.50         0.50               500                0.4263   \n",
       "20          0.50         0.50               250                0.4244   \n",
       "10          0.25         0.75               250                0.4216   \n",
       "25          0.50         0.75               250                0.4208   \n",
       "31          0.75         0.25               500                0.4183   \n",
       "40          0.75         0.75               250                0.4180   \n",
       "5           0.25         0.50               250                0.4144   \n",
       "11          0.25         0.75               500                0.4124   \n",
       "42          0.75         0.75              1000                0.4098   \n",
       "0           0.25         0.25               250                0.4095   \n",
       "22          0.50         0.50              1000                0.4087   \n",
       "27          0.50         0.75              1000                0.4073   \n",
       "37          0.75         0.50              1000                0.4059   \n",
       "16          0.50         0.25               500                0.4046   \n",
       "\n",
       "    std_test_w_accuracy  rank_test_w_accuracy  mean_test_accuracy  \\\n",
       "30               0.0351                     1              0.4975   \n",
       "41               0.0302                     2              0.4991   \n",
       "26               0.0318                     3              0.5056   \n",
       "15               0.0276                     4              0.5006   \n",
       "36               0.0216                     5              0.4926   \n",
       "35               0.0345                     6              0.5158   \n",
       "21               0.0334                     7              0.4948   \n",
       "20               0.0275                     8              0.5062   \n",
       "10               0.0277                     9              0.5278   \n",
       "25               0.0307                    10              0.5136   \n",
       "31               0.0389                    11              0.4953   \n",
       "40               0.0354                    12              0.5179   \n",
       "5                0.0323                    13              0.5178   \n",
       "11               0.0217                    14              0.5211   \n",
       "42               0.0262                    15              0.4850   \n",
       "0                0.0199                    16              0.5202   \n",
       "22               0.0172                    17              0.5098   \n",
       "27               0.0368                    18              0.4927   \n",
       "37               0.0261                    19              0.4916   \n",
       "16               0.0344                    20              0.4984   \n",
       "\n",
       "    mean_test_up_accuracy  mean_test_down_accuracy  \\\n",
       "30                 0.3437                   0.6884   \n",
       "41                 0.3612                   0.6715   \n",
       "26                 0.4134                   0.6196   \n",
       "15                 0.3890                   0.6370   \n",
       "36                 0.3416                   0.6800   \n",
       "35                 0.5144                   0.5200   \n",
       "21                 0.3958                   0.6168   \n",
       "20                 0.4671                   0.5554   \n",
       "10                 0.6116                   0.4171   \n",
       "25                 0.5299                   0.4965   \n",
       "31                 0.4416                   0.5684   \n",
       "40                 0.5670                   0.4567   \n",
       "5                  0.5907                   0.4202   \n",
       "11                 0.6170                   0.3973   \n",
       "42                 0.4146                   0.5788   \n",
       "0                  0.6282                   0.3800   \n",
       "22                 0.5662                   0.4380   \n",
       "27                 0.4814                   0.5120   \n",
       "37                 0.4770                   0.5156   \n",
       "16                 0.5279                   0.4658   \n",
       "\n",
       "    mean_test_neg_root_mean_squared_error  \n",
       "30                                -0.0292  \n",
       "41                                -0.0293  \n",
       "26                                -0.0290  \n",
       "15                                -0.0290  \n",
       "36                                -0.0292  \n",
       "35                                -0.0291  \n",
       "21                                -0.0290  \n",
       "20                                -0.0289  \n",
       "10                                -0.0288  \n",
       "25                                -0.0289  \n",
       "31                                -0.0291  \n",
       "40                                -0.0291  \n",
       "5                                 -0.0288  \n",
       "11                                -0.0288  \n",
       "42                                -0.0292  \n",
       "0                                 -0.0288  \n",
       "22                                -0.0288  \n",
       "27                                -0.0289  \n",
       "37                                -0.0290  \n",
       "16                                -0.0289  "
      ]
     },
     "execution_count": 26,
     "metadata": {},
     "output_type": "execute_result"
    }
   ],
   "source": [
    "rf_params_df = pd.DataFrame(res_rf_cv.cv_results_['params'])\n",
    "rf_metrics_df = pd.DataFrame(res_rf_cv.cv_results_)[select_sum_cols]\n",
    "rf_sum_df = rf_params_df.join(rf_metrics_df)\n",
    "rf_sum_df.sort_values(by='rank_test_w_accuracy').head(20)"
   ]
  },
  {
   "cell_type": "code",
   "execution_count": 27,
   "metadata": {},
   "outputs": [
    {
     "data": {
      "text/plain": [
       "0.44031411728200437"
      ]
     },
     "execution_count": 27,
     "metadata": {},
     "output_type": "execute_result"
    }
   ],
   "source": [
    "res_rf_cv.best_score_"
   ]
  },
  {
   "cell_type": "code",
   "execution_count": 52,
   "metadata": {},
   "outputs": [
    {
     "data": {
      "text/plain": [
       "RandomForestRegressor(bootstrap=True, ccp_alpha=0.0, criterion='mse',\n",
       "                      max_depth=None, max_features=0.75, max_leaf_nodes=None,\n",
       "                      max_samples=0.75, min_impurity_decrease=0.0,\n",
       "                      min_impurity_split=None, min_samples_leaf=500,\n",
       "                      min_samples_split=2, min_weight_fraction_leaf=0.0,\n",
       "                      n_estimators=200, n_jobs=-1, oob_score=True,\n",
       "                      random_state=123, verbose=0, warm_start=False)"
      ]
     },
     "execution_count": 52,
     "metadata": {},
     "output_type": "execute_result"
    }
   ],
   "source": [
    "champ_rf_hparms = res_rf_cv.cv_results_['params'][41]\n",
    "champ_rf = RandomForestRegressor(n_estimators=200, criterion='mse',\n",
    "                            bootstrap=True,oob_score=True,\n",
    "                            n_jobs=-1, random_state=RND_SEED)\n",
    "champ_rf.set_params(**champ_rf_hparms)\n",
    "champ_rf.fit(X_train_smp, y_train_smp)"
   ]
  },
  {
   "cell_type": "code",
   "execution_count": 53,
   "metadata": {},
   "outputs": [
    {
     "data": {
      "text/plain": [
       "<matplotlib.axes._subplots.AxesSubplot at 0x2606c1a8f60>"
      ]
     },
     "execution_count": 53,
     "metadata": {},
     "output_type": "execute_result"
    },
    {
     "data": {
      "image/png": "[encoded data removed]",
      "text/plain": [
       "<Figure size 432x288 with 1 Axes>"
      ]
     },
     "metadata": {
      "needs_background": "light"
     },
     "output_type": "display_data"
    }
   ],
   "source": [
    "p_test_rf = pd.Series(index=y_test_full.index, data=champ_rf.predict(X_test_full))\n",
    "p_test_rf.hist()"
   ]
  },
  {
   "cell_type": "code",
   "execution_count": 29,
   "metadata": {},
   "outputs": [],
   "source": [
    "p_test_rf = pd.Series(index=y_test_full.index, data=champ_rf.predict(X_test_full))"
   ]
  },
  {
   "cell_type": "code",
   "execution_count": 30,
   "metadata": {},
   "outputs": [
    {
     "data": {
      "text/plain": [
       "<matplotlib.axes._subplots.AxesSubplot at 0x260538fbb00>"
      ]
     },
     "execution_count": 30,
     "metadata": {},
     "output_type": "execute_result"
    },
    {
     "data": {
      "image/png": "[encoded data removed]",
      "text/plain": [
       "<Figure size 432x288 with 1 Axes>"
      ]
     },
     "metadata": {
      "needs_background": "light"
     },
     "output_type": "display_data"
    }
   ],
   "source": [
    "p_test_rf.hist()"
   ]
  },
  {
   "cell_type": "code",
   "execution_count": 45,
   "metadata": {},
   "outputs": [
    {
     "data": {
      "text/plain": [
       "0.5159820602263828"
      ]
     },
     "execution_count": 45,
     "metadata": {},
     "output_type": "execute_result"
    }
   ],
   "source": [
    "direction_accuracy_func(y_test_full, p_test_rf, kind='global')"
   ]
  },
  {
   "cell_type": "code",
   "execution_count": 54,
   "metadata": {},
   "outputs": [
    {
     "data": {
      "text/plain": [
       "0.11731217113775554"
      ]
     },
     "execution_count": 54,
     "metadata": {},
     "output_type": "execute_result"
    }
   ],
   "source": [
    "direction_accuracy_func(y_test_full, p_test_rf, kind='downwards')"
   ]
  },
  {
   "cell_type": "code",
   "execution_count": 47,
   "metadata": {},
   "outputs": [
    {
     "data": {
      "text/plain": [
       "train_pmean           0.0036\n",
       "train_score           0.0007\n",
       "valid_pmean           0.0070\n",
       "valid_score           0.0014\n",
       "oob_score             0.1406\n",
       "train_acc_target<0    0.4749\n",
       "train_acc_target>0    0.8118\n",
       "train_acc             0.6643\n",
       "valid_acc             0.5160\n",
       "valid_acc_target<0    0.0620\n",
       "valid_acc_target>0    0.9613\n",
       "dtype: float64"
      ]
     },
     "execution_count": 47,
     "metadata": {},
     "output_type": "execute_result"
    }
   ],
   "source": [
    "rf_sum_df = mle_utils.predict_and_score(champ_rf,\n",
    "                                        X_train_full, y_train_full,\n",
    "                                        X_test_full, y_test_full, kind='reg')\n",
    "rf_sum_df"
   ]
  },
  {
   "cell_type": "code",
   "execution_count": null,
   "metadata": {},
   "outputs": [],
   "source": []
  }
 ],
 "metadata": {
  "kernelspec": {
   "display_name": "Python 3",
   "language": "python",
   "name": "python3"
  },
  "language_info": {
   "codemirror_mode": {
    "name": "ipython",
    "version": 3
   },
   "file_extension": ".py",
   "mimetype": "text/x-python",
   "name": "python",
   "nbconvert_exporter": "python",
   "pygments_lexer": "ipython3",
   "version": "3.6.10"
  },
  "toc-autonumbering": true
 },
 "nbformat": 4,
 "nbformat_minor": 4
}
