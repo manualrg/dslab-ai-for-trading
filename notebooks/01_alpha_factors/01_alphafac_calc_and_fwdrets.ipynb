{
 "cells": [
  {
   "cell_type": "markdown",
   "metadata": {},
   "source": [
    "<font size=\"6\"> **Alpha Factor and Quant Research Process** </font>\n",
    "\n",
    "This notebooks shows how to create and run a Zipline pipeline. In addition an alpha factor computation is assessed step by step. In addition, factor returns are computed using Alphalens library\n",
    "\n",
    "Run notebook on quant-ai4trading environment"
   ]
  },
  {
   "cell_type": "code",
   "execution_count": 1,
   "metadata": {},
   "outputs": [],
   "source": [
    "%load_ext autoreload\n",
    "%autoreload 2"
   ]
  },
  {
   "cell_type": "code",
   "execution_count": 2,
   "metadata": {},
   "outputs": [],
   "source": [
    "%run ../nb_config.py"
   ]
  },
  {
   "cell_type": "code",
   "execution_count": 3,
   "metadata": {},
   "outputs": [],
   "source": [
    "import os\n",
    "\n",
    "import numpy as np\n",
    "import scipy\n",
    "\n",
    "from  src import utils\n",
    "from src.load_data import io_utils as read_utils\n",
    "from src.mle_quant_utils import quant_helper"
   ]
  },
  {
   "cell_type": "code",
   "execution_count": 4,
   "metadata": {},
   "outputs": [],
   "source": [
    "from zipline.data import bundles\n",
    "from zipline.utils.calendars import get_calendar\n",
    "from zipline.pipeline.factors import AverageDollarVolume, Returns, SimpleMovingAverage\n",
    "from zipline.pipeline import Pipeline\n",
    "from zipline.data.data_portal import DataPortal\n",
    "\n",
    "import alphalens as al"
   ]
  },
  {
   "cell_type": "code",
   "execution_count": 5,
   "metadata": {},
   "outputs": [
    {
     "data": {
      "text/plain": [
       "True"
      ]
     },
     "execution_count": 5,
     "metadata": {},
     "output_type": "execute_result"
    }
   ],
   "source": [
    "cfg = utils.read_conf()\n",
    "\n",
    "BUNDLE_FOLDER = cfg['quantopian']['dataset1']['bundle_folder']\n",
    "BUNDLE_NAME = cfg['quantopian']['dataset1']['bundle_name']\n",
    "SECTOR_FOLDER = cfg['quantopian']['dataset1']['sector_folder']\n",
    "SECTOR_DATA = cfg['quantopian']['dataset1']['sector_data']\n",
    "SECTOR_NAMES = cfg['quantopian']['dataset1']['sector_names']\n",
    "\n",
    "# Specify the bundle path\n",
    "bundle_path = os.path.join(read_utils.raw_path, 'market_data', BUNDLE_FOLDER)\n",
    "sector_path = os.path.join(read_utils.raw_path, 'market_data',SECTOR_FOLDER, SECTOR_DATA)\n",
    "sector_file = os.path.join(read_utils.raw_path, 'market_data',SECTOR_FOLDER, SECTOR_NAMES)\n",
    "os.path.isdir(bundle_path)"
   ]
  },
  {
   "cell_type": "code",
   "execution_count": 6,
   "metadata": {},
   "outputs": [],
   "source": [
    "window = int(cfg['models']['universe']['window'])\n",
    "adv_top = int(cfg['models']['universe']['adv_top'])\n",
    "univ_start = cfg['models']['universe']['start']"
   ]
  },
  {
   "cell_type": "markdown",
   "metadata": {},
   "source": [
    "# Create a Zipline Pipieline"
   ]
  },
  {
   "cell_type": "markdown",
   "metadata": {},
   "source": [
    "## Registering CSV Data Bundle\n",
    "http://www.zipline.io/bundles.html#ingesting-data-from-csv-files"
   ]
  },
  {
   "cell_type": "code",
   "execution_count": 7,
   "metadata": {},
   "outputs": [
    {
     "name": "stdout",
     "output_type": "stream",
     "text": [
      "Data Registered\n"
     ]
    }
   ],
   "source": [
    "os.environ['ZIPLINE_ROOT'] = bundle_path\n",
    "ingest_func = bundles.csvdir.csvdir_equities(['daily'], BUNDLE_NAME)\n",
    "bundles.register(BUNDLE_NAME, ingest_func)\n",
    "print('Data Registered')"
   ]
  },
  {
   "cell_type": "markdown",
   "metadata": {},
   "source": [
    "## Build pipeline engine\n",
    "* Universe Rule: Rule to select assets in analysis\n",
    "* Universe end date: 2016\n",
    "* Universe should avoid several issues, like survivor bias\n",
    "To create a pandas DF, pipeline engine should be run"
   ]
  },
  {
   "cell_type": "code",
   "execution_count": 8,
   "metadata": {},
   "outputs": [],
   "source": [
    "universe = AverageDollarVolume(window_length=window).top(adv_top) \n",
    "universe_smp = AverageDollarVolume(window_length=window).top(10) \n",
    "trading_calendar = get_calendar('NYSE') \n",
    "bundle_data = bundles.load(BUNDLE_NAME)\n",
    "engine = quant_helper.build_pipeline_engine(bundle_data, trading_calendar)"
   ]
  },
  {
   "cell_type": "code",
   "execution_count": 9,
   "metadata": {},
   "outputs": [
    {
     "name": "stdout",
     "output_type": "stream",
     "text": [
      "2011-01-05 00:00:00+00:00 2016-01-05 00:00:00+00:00\n"
     ]
    }
   ],
   "source": [
    "universe_end_date = pd.Timestamp(univ_start, tz='UTC')\n",
    "universe_start_date = universe_end_date - pd.DateOffset(years=5)\n",
    "print(universe_start_date, universe_end_date)"
   ]
  },
  {
   "cell_type": "code",
   "execution_count": 10,
   "metadata": {},
   "outputs": [
    {
     "name": "stdout",
     "output_type": "stream",
     "text": [
      "2016-01-05 00:00:00+00:00\n"
     ]
    }
   ],
   "source": [
    "# 2 years of data is used in factors computation\n",
    "# Note: Going back 2 years falls on a day when the market is closed. \n",
    "# Pipeline package doesn't handle start or end dates that don't fall on days when the market is open.\n",
    "# To fix this, we went back 2 extra days to fall on the next day when the market is open.\n",
    "factor_start_date = universe_end_date - pd.DateOffset(years=2, days=2) \n",
    "print(universe_end_date)"
   ]
  },
  {
   "cell_type": "code",
   "execution_count": 11,
   "metadata": {},
   "outputs": [
    {
     "name": "stdout",
     "output_type": "stream",
     "text": [
      "Number of tickers: 490\n",
      "[Equity(0 [A]), Equity(1 [AAL]), Equity(2 [AAP]), Equity(3 [AAPL]), Equity(4 [ABBV])]\n"
     ]
    }
   ],
   "source": [
    "# Extract the number of assets at universe_end_date\n",
    "# running the pipeline creates a pandas DF index with universe stocks\n",
    "universe_tickers = engine\\\n",
    "    .run_pipeline(\n",
    "        Pipeline(screen=universe),\n",
    "        universe_end_date,\n",
    "        universe_end_date)\\\n",
    "    .index.get_level_values(1)\\\n",
    "    .values.tolist()\n",
    "\n",
    "print('Number of tickers: {}'.format(len(universe_tickers)))\n",
    "print(universe_tickers[:5])"
   ]
  },
  {
   "cell_type": "markdown",
   "metadata": {},
   "source": [
    "### Attach prices data to the pipeline using a DataPortal\n",
    "DataPortal deals with calendar, prices alignment and other issues. DataPortal is used by a pricing function in order to obtain a pandas DF\n",
    "\n",
    "Returned pandas DF indexed by Date and each stock in the universe is a columns"
   ]
  },
  {
   "cell_type": "code",
   "execution_count": 12,
   "metadata": {},
   "outputs": [],
   "source": [
    "data_portal = DataPortal(\n",
    "    bundle_data.asset_finder,\n",
    "    trading_calendar=trading_calendar,\n",
    "    first_trading_day=bundle_data.equity_daily_bar_reader.first_trading_day,\n",
    "    equity_minute_reader=None,\n",
    "    equity_daily_reader=bundle_data.equity_daily_bar_reader,\n",
    "    adjustment_reader=bundle_data.adjustment_reader)"
   ]
  },
  {
   "cell_type": "code",
   "execution_count": 13,
   "metadata": {},
   "outputs": [],
   "source": [
    "def get_pricing(data_portal, trading_calendar, assets, start_date, end_date, field='close'):\n",
    "    end_dt = pd.Timestamp(end_date.strftime('%Y-%m-%d'), tz='UTC', offset='C')\n",
    "    start_dt = pd.Timestamp(start_date.strftime('%Y-%m-%d'), tz='UTC', offset='C')\n",
    "\n",
    "    end_loc = trading_calendar.closes.index.get_loc(end_dt)\n",
    "    start_loc = trading_calendar.closes.index.get_loc(start_dt)\n",
    "\n",
    "    return data_portal.get_history_window(\n",
    "        assets=assets,\n",
    "        end_dt=end_dt,\n",
    "        bar_count=end_loc - start_loc,\n",
    "        frequency='1d',\n",
    "        field=field,\n",
    "        data_frequency='daily')"
   ]
  },
  {
   "cell_type": "code",
   "execution_count": 14,
   "metadata": {},
   "outputs": [
    {
     "name": "stderr",
     "output_type": "stream",
     "text": [
      "C:\\ProgramData\\Anaconda3\\envs\\quant-ai4trading\\lib\\site-packages\\ipykernel_launcher.py:2: FutureWarning: offset is deprecated. Use freq instead\n",
      "  \n",
      "C:\\ProgramData\\Anaconda3\\envs\\quant-ai4trading\\lib\\site-packages\\ipykernel_launcher.py:3: FutureWarning: offset is deprecated. Use freq instead\n",
      "  This is separate from the ipykernel package so we can avoid doing imports until\n"
     ]
    },
    {
     "data": {
      "text/html": [
       "<div>\n",
       "<style scoped>\n",
       "    .dataframe tbody tr th:only-of-type {\n",
       "        vertical-align: middle;\n",
       "    }\n",
       "\n",
       "    .dataframe tbody tr th {\n",
       "        vertical-align: top;\n",
       "    }\n",
       "\n",
       "    .dataframe thead th {\n",
       "        text-align: right;\n",
       "    }\n",
       "</style>\n",
       "<table border=\"1\" class=\"dataframe\">\n",
       "  <thead>\n",
       "    <tr style=\"text-align: right;\">\n",
       "      <th></th>\n",
       "      <th>Equity(0 [A])</th>\n",
       "      <th>Equity(1 [AAL])</th>\n",
       "      <th>Equity(2 [AAP])</th>\n",
       "      <th>Equity(3 [AAPL])</th>\n",
       "      <th>Equity(4 [ABBV])</th>\n",
       "      <th>Equity(5 [ABC])</th>\n",
       "      <th>Equity(6 [ABT])</th>\n",
       "      <th>Equity(7 [ACN])</th>\n",
       "      <th>Equity(8 [ADBE])</th>\n",
       "      <th>Equity(9 [ADI])</th>\n",
       "      <th>Equity(10 [ADM])</th>\n",
       "      <th>Equity(11 [ADP])</th>\n",
       "      <th>Equity(12 [ADS])</th>\n",
       "      <th>Equity(13 [ADSK])</th>\n",
       "      <th>Equity(14 [AEE])</th>\n",
       "      <th>Equity(15 [AEP])</th>\n",
       "      <th>Equity(16 [AES])</th>\n",
       "      <th>Equity(17 [AET])</th>\n",
       "      <th>Equity(18 [AFL])</th>\n",
       "      <th>Equity(19 [AGN])</th>\n",
       "      <th>Equity(20 [AIG])</th>\n",
       "      <th>Equity(21 [AIV])</th>\n",
       "      <th>Equity(22 [AIZ])</th>\n",
       "      <th>Equity(23 [AJG])</th>\n",
       "      <th>Equity(24 [AKAM])</th>\n",
       "      <th>...</th>\n",
       "      <th>Equity(465 [WBA])</th>\n",
       "      <th>Equity(466 [WDC])</th>\n",
       "      <th>Equity(467 [WEC])</th>\n",
       "      <th>Equity(468 [WFC])</th>\n",
       "      <th>Equity(469 [WHR])</th>\n",
       "      <th>Equity(471 [WM])</th>\n",
       "      <th>Equity(472 [WMB])</th>\n",
       "      <th>Equity(473 [WMT])</th>\n",
       "      <th>Equity(474 [WRK])</th>\n",
       "      <th>Equity(475 [WU])</th>\n",
       "      <th>Equity(476 [WY])</th>\n",
       "      <th>Equity(477 [WYN])</th>\n",
       "      <th>Equity(478 [WYNN])</th>\n",
       "      <th>Equity(479 [XEC])</th>\n",
       "      <th>Equity(480 [XEL])</th>\n",
       "      <th>Equity(481 [XL])</th>\n",
       "      <th>Equity(482 [XLNX])</th>\n",
       "      <th>Equity(483 [XOM])</th>\n",
       "      <th>Equity(484 [XRAY])</th>\n",
       "      <th>Equity(485 [XRX])</th>\n",
       "      <th>Equity(486 [XYL])</th>\n",
       "      <th>Equity(487 [YUM])</th>\n",
       "      <th>Equity(488 [ZBH])</th>\n",
       "      <th>Equity(489 [ZION])</th>\n",
       "      <th>Equity(490 [ZTS])</th>\n",
       "    </tr>\n",
       "  </thead>\n",
       "  <tbody>\n",
       "    <tr>\n",
       "      <th>2011-01-06 00:00:00+00:00</th>\n",
       "      <td>57.014</td>\n",
       "      <td>10.822</td>\n",
       "      <td>59.209</td>\n",
       "      <td>42.399</td>\n",
       "      <td>NaN</td>\n",
       "      <td>31.088</td>\n",
       "      <td>19.926</td>\n",
       "      <td>41.270</td>\n",
       "      <td>32.270</td>\n",
       "      <td>30.936</td>\n",
       "      <td>26.230</td>\n",
       "      <td>34.990</td>\n",
       "      <td>70.301</td>\n",
       "      <td>41.260</td>\n",
       "      <td>20.703</td>\n",
       "      <td>26.659</td>\n",
       "      <td>10.986</td>\n",
       "      <td>29.308</td>\n",
       "      <td>23.236</td>\n",
       "      <td>50.648</td>\n",
       "      <td>46.749</td>\n",
       "      <td>20.247</td>\n",
       "      <td>32.972</td>\n",
       "      <td>22.599</td>\n",
       "      <td>48.45</td>\n",
       "      <td>...</td>\n",
       "      <td>35.023</td>\n",
       "      <td>28.571</td>\n",
       "      <td>22.424</td>\n",
       "      <td>26.328</td>\n",
       "      <td>73.779</td>\n",
       "      <td>28.636</td>\n",
       "      <td>14.060</td>\n",
       "      <td>44.446</td>\n",
       "      <td>NaN</td>\n",
       "      <td>15.490</td>\n",
       "      <td>15.583</td>\n",
       "      <td>25.603</td>\n",
       "      <td>85.930</td>\n",
       "      <td>85.815</td>\n",
       "      <td>17.834</td>\n",
       "      <td>19.045</td>\n",
       "      <td>25.095</td>\n",
       "      <td>59.697</td>\n",
       "      <td>33.386</td>\n",
       "      <td>25.945</td>\n",
       "      <td>NaN</td>\n",
       "      <td>30.184</td>\n",
       "      <td>49.601</td>\n",
       "      <td>23.427</td>\n",
       "      <td>NaN</td>\n",
       "    </tr>\n",
       "    <tr>\n",
       "      <th>2011-01-07 00:00:00+00:00</th>\n",
       "      <td>57.495</td>\n",
       "      <td>10.976</td>\n",
       "      <td>60.790</td>\n",
       "      <td>42.702</td>\n",
       "      <td>NaN</td>\n",
       "      <td>31.150</td>\n",
       "      <td>20.009</td>\n",
       "      <td>41.338</td>\n",
       "      <td>32.040</td>\n",
       "      <td>30.756</td>\n",
       "      <td>26.445</td>\n",
       "      <td>35.070</td>\n",
       "      <td>70.026</td>\n",
       "      <td>40.760</td>\n",
       "      <td>20.703</td>\n",
       "      <td>26.555</td>\n",
       "      <td>10.986</td>\n",
       "      <td>29.371</td>\n",
       "      <td>23.145</td>\n",
       "      <td>51.440</td>\n",
       "      <td>47.314</td>\n",
       "      <td>20.088</td>\n",
       "      <td>32.596</td>\n",
       "      <td>22.458</td>\n",
       "      <td>48.69</td>\n",
       "      <td>...</td>\n",
       "      <td>34.814</td>\n",
       "      <td>28.589</td>\n",
       "      <td>22.594</td>\n",
       "      <td>25.796</td>\n",
       "      <td>73.468</td>\n",
       "      <td>28.479</td>\n",
       "      <td>14.283</td>\n",
       "      <td>44.545</td>\n",
       "      <td>NaN</td>\n",
       "      <td>15.346</td>\n",
       "      <td>16.011</td>\n",
       "      <td>25.509</td>\n",
       "      <td>88.972</td>\n",
       "      <td>87.296</td>\n",
       "      <td>17.993</td>\n",
       "      <td>19.010</td>\n",
       "      <td>24.954</td>\n",
       "      <td>60.023</td>\n",
       "      <td>33.251</td>\n",
       "      <td>25.583</td>\n",
       "      <td>NaN</td>\n",
       "      <td>30.560</td>\n",
       "      <td>49.592</td>\n",
       "      <td>23.182</td>\n",
       "      <td>NaN</td>\n",
       "    </tr>\n",
       "    <tr>\n",
       "      <th>2011-01-10 00:00:00+00:00</th>\n",
       "      <td>57.255</td>\n",
       "      <td>11.044</td>\n",
       "      <td>61.242</td>\n",
       "      <td>43.507</td>\n",
       "      <td>NaN</td>\n",
       "      <td>30.972</td>\n",
       "      <td>19.831</td>\n",
       "      <td>40.972</td>\n",
       "      <td>32.960</td>\n",
       "      <td>30.846</td>\n",
       "      <td>26.561</td>\n",
       "      <td>35.085</td>\n",
       "      <td>70.606</td>\n",
       "      <td>40.865</td>\n",
       "      <td>20.477</td>\n",
       "      <td>26.378</td>\n",
       "      <td>10.969</td>\n",
       "      <td>29.426</td>\n",
       "      <td>22.846</td>\n",
       "      <td>52.251</td>\n",
       "      <td>44.383</td>\n",
       "      <td>20.128</td>\n",
       "      <td>32.673</td>\n",
       "      <td>22.544</td>\n",
       "      <td>48.79</td>\n",
       "      <td>...</td>\n",
       "      <td>35.570</td>\n",
       "      <td>28.424</td>\n",
       "      <td>22.656</td>\n",
       "      <td>25.550</td>\n",
       "      <td>73.813</td>\n",
       "      <td>28.431</td>\n",
       "      <td>14.186</td>\n",
       "      <td>44.256</td>\n",
       "      <td>NaN</td>\n",
       "      <td>15.210</td>\n",
       "      <td>16.190</td>\n",
       "      <td>25.286</td>\n",
       "      <td>88.950</td>\n",
       "      <td>88.162</td>\n",
       "      <td>17.879</td>\n",
       "      <td>19.028</td>\n",
       "      <td>25.149</td>\n",
       "      <td>59.658</td>\n",
       "      <td>33.599</td>\n",
       "      <td>25.832</td>\n",
       "      <td>NaN</td>\n",
       "      <td>30.604</td>\n",
       "      <td>49.978</td>\n",
       "      <td>22.766</td>\n",
       "      <td>NaN</td>\n",
       "    </tr>\n",
       "    <tr>\n",
       "      <th>2011-01-11 00:00:00+00:00</th>\n",
       "      <td>57.147</td>\n",
       "      <td>10.562</td>\n",
       "      <td>60.879</td>\n",
       "      <td>43.404</td>\n",
       "      <td>NaN</td>\n",
       "      <td>31.275</td>\n",
       "      <td>19.790</td>\n",
       "      <td>41.534</td>\n",
       "      <td>32.980</td>\n",
       "      <td>31.116</td>\n",
       "      <td>26.661</td>\n",
       "      <td>35.245</td>\n",
       "      <td>70.832</td>\n",
       "      <td>40.800</td>\n",
       "      <td>20.725</td>\n",
       "      <td>26.496</td>\n",
       "      <td>11.113</td>\n",
       "      <td>29.865</td>\n",
       "      <td>23.074</td>\n",
       "      <td>51.577</td>\n",
       "      <td>45.659</td>\n",
       "      <td>19.547</td>\n",
       "      <td>32.716</td>\n",
       "      <td>22.505</td>\n",
       "      <td>48.75</td>\n",
       "      <td>...</td>\n",
       "      <td>35.466</td>\n",
       "      <td>28.182</td>\n",
       "      <td>22.718</td>\n",
       "      <td>25.714</td>\n",
       "      <td>73.720</td>\n",
       "      <td>28.345</td>\n",
       "      <td>14.541</td>\n",
       "      <td>44.718</td>\n",
       "      <td>NaN</td>\n",
       "      <td>15.386</td>\n",
       "      <td>16.447</td>\n",
       "      <td>25.363</td>\n",
       "      <td>87.743</td>\n",
       "      <td>89.393</td>\n",
       "      <td>17.818</td>\n",
       "      <td>19.053</td>\n",
       "      <td>25.405</td>\n",
       "      <td>60.102</td>\n",
       "      <td>33.846</td>\n",
       "      <td>25.990</td>\n",
       "      <td>NaN</td>\n",
       "      <td>30.406</td>\n",
       "      <td>51.761</td>\n",
       "      <td>22.936</td>\n",
       "      <td>NaN</td>\n",
       "    </tr>\n",
       "    <tr>\n",
       "      <th>2011-01-12 00:00:00+00:00</th>\n",
       "      <td>58.133</td>\n",
       "      <td>10.475</td>\n",
       "      <td>61.694</td>\n",
       "      <td>43.757</td>\n",
       "      <td>NaN</td>\n",
       "      <td>31.088</td>\n",
       "      <td>19.770</td>\n",
       "      <td>42.488</td>\n",
       "      <td>33.572</td>\n",
       "      <td>31.124</td>\n",
       "      <td>26.950</td>\n",
       "      <td>35.706</td>\n",
       "      <td>72.386</td>\n",
       "      <td>40.530</td>\n",
       "      <td>20.799</td>\n",
       "      <td>26.519</td>\n",
       "      <td>10.944</td>\n",
       "      <td>29.965</td>\n",
       "      <td>23.683</td>\n",
       "      <td>50.912</td>\n",
       "      <td>45.164</td>\n",
       "      <td>19.794</td>\n",
       "      <td>33.152</td>\n",
       "      <td>22.458</td>\n",
       "      <td>49.26</td>\n",
       "      <td>...</td>\n",
       "      <td>35.787</td>\n",
       "      <td>28.519</td>\n",
       "      <td>22.931</td>\n",
       "      <td>26.214</td>\n",
       "      <td>75.316</td>\n",
       "      <td>28.597</td>\n",
       "      <td>14.839</td>\n",
       "      <td>45.179</td>\n",
       "      <td>NaN</td>\n",
       "      <td>15.314</td>\n",
       "      <td>16.774</td>\n",
       "      <td>25.192</td>\n",
       "      <td>87.511</td>\n",
       "      <td>90.961</td>\n",
       "      <td>17.864</td>\n",
       "      <td>19.148</td>\n",
       "      <td>25.803</td>\n",
       "      <td>60.809</td>\n",
       "      <td>34.766</td>\n",
       "      <td>26.104</td>\n",
       "      <td>NaN</td>\n",
       "      <td>30.486</td>\n",
       "      <td>52.524</td>\n",
       "      <td>22.663</td>\n",
       "      <td>NaN</td>\n",
       "    </tr>\n",
       "  </tbody>\n",
       "</table>\n",
       "<p>5 rows × 490 columns</p>\n",
       "</div>"
      ],
      "text/plain": [
       "                           Equity(0 [A])  Equity(1 [AAL])  Equity(2 [AAP])  \\\n",
       "2011-01-06 00:00:00+00:00         57.014           10.822           59.209   \n",
       "2011-01-07 00:00:00+00:00         57.495           10.976           60.790   \n",
       "2011-01-10 00:00:00+00:00         57.255           11.044           61.242   \n",
       "2011-01-11 00:00:00+00:00         57.147           10.562           60.879   \n",
       "2011-01-12 00:00:00+00:00         58.133           10.475           61.694   \n",
       "\n",
       "                           Equity(3 [AAPL])  Equity(4 [ABBV])  \\\n",
       "2011-01-06 00:00:00+00:00            42.399               NaN   \n",
       "2011-01-07 00:00:00+00:00            42.702               NaN   \n",
       "2011-01-10 00:00:00+00:00            43.507               NaN   \n",
       "2011-01-11 00:00:00+00:00            43.404               NaN   \n",
       "2011-01-12 00:00:00+00:00            43.757               NaN   \n",
       "\n",
       "                           Equity(5 [ABC])  Equity(6 [ABT])  Equity(7 [ACN])  \\\n",
       "2011-01-06 00:00:00+00:00           31.088           19.926           41.270   \n",
       "2011-01-07 00:00:00+00:00           31.150           20.009           41.338   \n",
       "2011-01-10 00:00:00+00:00           30.972           19.831           40.972   \n",
       "2011-01-11 00:00:00+00:00           31.275           19.790           41.534   \n",
       "2011-01-12 00:00:00+00:00           31.088           19.770           42.488   \n",
       "\n",
       "                           Equity(8 [ADBE])  Equity(9 [ADI])  \\\n",
       "2011-01-06 00:00:00+00:00            32.270           30.936   \n",
       "2011-01-07 00:00:00+00:00            32.040           30.756   \n",
       "2011-01-10 00:00:00+00:00            32.960           30.846   \n",
       "2011-01-11 00:00:00+00:00            32.980           31.116   \n",
       "2011-01-12 00:00:00+00:00            33.572           31.124   \n",
       "\n",
       "                           Equity(10 [ADM])  Equity(11 [ADP])  \\\n",
       "2011-01-06 00:00:00+00:00            26.230            34.990   \n",
       "2011-01-07 00:00:00+00:00            26.445            35.070   \n",
       "2011-01-10 00:00:00+00:00            26.561            35.085   \n",
       "2011-01-11 00:00:00+00:00            26.661            35.245   \n",
       "2011-01-12 00:00:00+00:00            26.950            35.706   \n",
       "\n",
       "                           Equity(12 [ADS])  Equity(13 [ADSK])  \\\n",
       "2011-01-06 00:00:00+00:00            70.301             41.260   \n",
       "2011-01-07 00:00:00+00:00            70.026             40.760   \n",
       "2011-01-10 00:00:00+00:00            70.606             40.865   \n",
       "2011-01-11 00:00:00+00:00            70.832             40.800   \n",
       "2011-01-12 00:00:00+00:00            72.386             40.530   \n",
       "\n",
       "                           Equity(14 [AEE])  Equity(15 [AEP])  \\\n",
       "2011-01-06 00:00:00+00:00            20.703            26.659   \n",
       "2011-01-07 00:00:00+00:00            20.703            26.555   \n",
       "2011-01-10 00:00:00+00:00            20.477            26.378   \n",
       "2011-01-11 00:00:00+00:00            20.725            26.496   \n",
       "2011-01-12 00:00:00+00:00            20.799            26.519   \n",
       "\n",
       "                           Equity(16 [AES])  Equity(17 [AET])  \\\n",
       "2011-01-06 00:00:00+00:00            10.986            29.308   \n",
       "2011-01-07 00:00:00+00:00            10.986            29.371   \n",
       "2011-01-10 00:00:00+00:00            10.969            29.426   \n",
       "2011-01-11 00:00:00+00:00            11.113            29.865   \n",
       "2011-01-12 00:00:00+00:00            10.944            29.965   \n",
       "\n",
       "                           Equity(18 [AFL])  Equity(19 [AGN])  \\\n",
       "2011-01-06 00:00:00+00:00            23.236            50.648   \n",
       "2011-01-07 00:00:00+00:00            23.145            51.440   \n",
       "2011-01-10 00:00:00+00:00            22.846            52.251   \n",
       "2011-01-11 00:00:00+00:00            23.074            51.577   \n",
       "2011-01-12 00:00:00+00:00            23.683            50.912   \n",
       "\n",
       "                           Equity(20 [AIG])  Equity(21 [AIV])  \\\n",
       "2011-01-06 00:00:00+00:00            46.749            20.247   \n",
       "2011-01-07 00:00:00+00:00            47.314            20.088   \n",
       "2011-01-10 00:00:00+00:00            44.383            20.128   \n",
       "2011-01-11 00:00:00+00:00            45.659            19.547   \n",
       "2011-01-12 00:00:00+00:00            45.164            19.794   \n",
       "\n",
       "                           Equity(22 [AIZ])  Equity(23 [AJG])  \\\n",
       "2011-01-06 00:00:00+00:00            32.972            22.599   \n",
       "2011-01-07 00:00:00+00:00            32.596            22.458   \n",
       "2011-01-10 00:00:00+00:00            32.673            22.544   \n",
       "2011-01-11 00:00:00+00:00            32.716            22.505   \n",
       "2011-01-12 00:00:00+00:00            33.152            22.458   \n",
       "\n",
       "                           Equity(24 [AKAM])        ...          \\\n",
       "2011-01-06 00:00:00+00:00              48.45        ...           \n",
       "2011-01-07 00:00:00+00:00              48.69        ...           \n",
       "2011-01-10 00:00:00+00:00              48.79        ...           \n",
       "2011-01-11 00:00:00+00:00              48.75        ...           \n",
       "2011-01-12 00:00:00+00:00              49.26        ...           \n",
       "\n",
       "                           Equity(465 [WBA])  Equity(466 [WDC])  \\\n",
       "2011-01-06 00:00:00+00:00             35.023             28.571   \n",
       "2011-01-07 00:00:00+00:00             34.814             28.589   \n",
       "2011-01-10 00:00:00+00:00             35.570             28.424   \n",
       "2011-01-11 00:00:00+00:00             35.466             28.182   \n",
       "2011-01-12 00:00:00+00:00             35.787             28.519   \n",
       "\n",
       "                           Equity(467 [WEC])  Equity(468 [WFC])  \\\n",
       "2011-01-06 00:00:00+00:00             22.424             26.328   \n",
       "2011-01-07 00:00:00+00:00             22.594             25.796   \n",
       "2011-01-10 00:00:00+00:00             22.656             25.550   \n",
       "2011-01-11 00:00:00+00:00             22.718             25.714   \n",
       "2011-01-12 00:00:00+00:00             22.931             26.214   \n",
       "\n",
       "                           Equity(469 [WHR])  Equity(471 [WM])  \\\n",
       "2011-01-06 00:00:00+00:00             73.779            28.636   \n",
       "2011-01-07 00:00:00+00:00             73.468            28.479   \n",
       "2011-01-10 00:00:00+00:00             73.813            28.431   \n",
       "2011-01-11 00:00:00+00:00             73.720            28.345   \n",
       "2011-01-12 00:00:00+00:00             75.316            28.597   \n",
       "\n",
       "                           Equity(472 [WMB])  Equity(473 [WMT])  \\\n",
       "2011-01-06 00:00:00+00:00             14.060             44.446   \n",
       "2011-01-07 00:00:00+00:00             14.283             44.545   \n",
       "2011-01-10 00:00:00+00:00             14.186             44.256   \n",
       "2011-01-11 00:00:00+00:00             14.541             44.718   \n",
       "2011-01-12 00:00:00+00:00             14.839             45.179   \n",
       "\n",
       "                           Equity(474 [WRK])  Equity(475 [WU])  \\\n",
       "2011-01-06 00:00:00+00:00                NaN            15.490   \n",
       "2011-01-07 00:00:00+00:00                NaN            15.346   \n",
       "2011-01-10 00:00:00+00:00                NaN            15.210   \n",
       "2011-01-11 00:00:00+00:00                NaN            15.386   \n",
       "2011-01-12 00:00:00+00:00                NaN            15.314   \n",
       "\n",
       "                           Equity(476 [WY])  Equity(477 [WYN])  \\\n",
       "2011-01-06 00:00:00+00:00            15.583             25.603   \n",
       "2011-01-07 00:00:00+00:00            16.011             25.509   \n",
       "2011-01-10 00:00:00+00:00            16.190             25.286   \n",
       "2011-01-11 00:00:00+00:00            16.447             25.363   \n",
       "2011-01-12 00:00:00+00:00            16.774             25.192   \n",
       "\n",
       "                           Equity(478 [WYNN])  Equity(479 [XEC])  \\\n",
       "2011-01-06 00:00:00+00:00              85.930             85.815   \n",
       "2011-01-07 00:00:00+00:00              88.972             87.296   \n",
       "2011-01-10 00:00:00+00:00              88.950             88.162   \n",
       "2011-01-11 00:00:00+00:00              87.743             89.393   \n",
       "2011-01-12 00:00:00+00:00              87.511             90.961   \n",
       "\n",
       "                           Equity(480 [XEL])  Equity(481 [XL])  \\\n",
       "2011-01-06 00:00:00+00:00             17.834            19.045   \n",
       "2011-01-07 00:00:00+00:00             17.993            19.010   \n",
       "2011-01-10 00:00:00+00:00             17.879            19.028   \n",
       "2011-01-11 00:00:00+00:00             17.818            19.053   \n",
       "2011-01-12 00:00:00+00:00             17.864            19.148   \n",
       "\n",
       "                           Equity(482 [XLNX])  Equity(483 [XOM])  \\\n",
       "2011-01-06 00:00:00+00:00              25.095             59.697   \n",
       "2011-01-07 00:00:00+00:00              24.954             60.023   \n",
       "2011-01-10 00:00:00+00:00              25.149             59.658   \n",
       "2011-01-11 00:00:00+00:00              25.405             60.102   \n",
       "2011-01-12 00:00:00+00:00              25.803             60.809   \n",
       "\n",
       "                           Equity(484 [XRAY])  Equity(485 [XRX])  \\\n",
       "2011-01-06 00:00:00+00:00              33.386             25.945   \n",
       "2011-01-07 00:00:00+00:00              33.251             25.583   \n",
       "2011-01-10 00:00:00+00:00              33.599             25.832   \n",
       "2011-01-11 00:00:00+00:00              33.846             25.990   \n",
       "2011-01-12 00:00:00+00:00              34.766             26.104   \n",
       "\n",
       "                           Equity(486 [XYL])  Equity(487 [YUM])  \\\n",
       "2011-01-06 00:00:00+00:00                NaN             30.184   \n",
       "2011-01-07 00:00:00+00:00                NaN             30.560   \n",
       "2011-01-10 00:00:00+00:00                NaN             30.604   \n",
       "2011-01-11 00:00:00+00:00                NaN             30.406   \n",
       "2011-01-12 00:00:00+00:00                NaN             30.486   \n",
       "\n",
       "                           Equity(488 [ZBH])  Equity(489 [ZION])  \\\n",
       "2011-01-06 00:00:00+00:00             49.601              23.427   \n",
       "2011-01-07 00:00:00+00:00             49.592              23.182   \n",
       "2011-01-10 00:00:00+00:00             49.978              22.766   \n",
       "2011-01-11 00:00:00+00:00             51.761              22.936   \n",
       "2011-01-12 00:00:00+00:00             52.524              22.663   \n",
       "\n",
       "                           Equity(490 [ZTS])  \n",
       "2011-01-06 00:00:00+00:00                NaN  \n",
       "2011-01-07 00:00:00+00:00                NaN  \n",
       "2011-01-10 00:00:00+00:00                NaN  \n",
       "2011-01-11 00:00:00+00:00                NaN  \n",
       "2011-01-12 00:00:00+00:00                NaN  \n",
       "\n",
       "[5 rows x 490 columns]"
      ]
     },
     "execution_count": 14,
     "metadata": {},
     "output_type": "execute_result"
    }
   ],
   "source": [
    "prices_df = get_pricing(\n",
    "        data_portal,\n",
    "        trading_calendar,\n",
    "        universe_tickers,\n",
    "        universe_start_date,\n",
    "        universe_end_date)\n",
    "returns_df = prices_df.pct_change()[1:].fillna(0)  # convert prices into returns\n",
    "\n",
    "prices_df.head()"
   ]
  },
  {
   "cell_type": "code",
   "execution_count": 15,
   "metadata": {},
   "outputs": [
    {
     "data": {
      "image/png": "[encoded data removed]",
      "text/plain": [
       "<Figure size 432x288 with 1 Axes>"
      ]
     },
     "metadata": {
      "needs_background": "light"
     },
     "output_type": "display_data"
    }
   ],
   "source": [
    "prices_df.notna().sum(axis=1).plot()\n",
    "plt.title('Number of tickers in universe over time')\n",
    "plt.show()"
   ]
  },
  {
   "cell_type": "code",
   "execution_count": 16,
   "metadata": {},
   "outputs": [
    {
     "name": "stdout",
     "output_type": "stream",
     "text": [
      "2011-01-05 00:00:00+00:00 2016-01-05 00:00:00+00:00\n",
      "<class 'pandas.core.frame.DataFrame'>\n",
      "DatetimeIndex: 1257 entries, 2011-01-06 to 2016-01-05\n",
      "Freq: C\n",
      "Columns: 490 entries, Equity(0 [A]) to Equity(490 [ZTS])\n",
      "dtypes: float64(490)\n",
      "memory usage: 4.7 MB\n"
     ]
    }
   ],
   "source": [
    "print(universe_start_date, universe_end_date)\n",
    "prices_df.info()"
   ]
  },
  {
   "cell_type": "markdown",
   "metadata": {},
   "source": [
    "## Alpha Factor Creation: Add steps to the pipeline\n",
    "\n",
    "**Create an alpha factor based on momentum: One-year pct return**\n",
    "\n",
    "$1YearReturn_t = \\frac{price_{t} - price_{t-252}}{price_{t-252}}$\n",
    "\n",
    "Compute the factor in several ways:\n",
    "* Raw factor: No additional computation added\n",
    "* Sector de-meaned: Neutralize sector risk (not exposed by overall movements in a sector)\n",
    "https://www.zipline.io/appendix.html#zipline.pipeline.Factor.demean\n",
    "* Ranked: Categorize returns in a ranking, reducing noise (relative changes in a portfolio and outliers) \n",
    "https://www.zipline.io/appendix.html#zipline.pipeline.factors.Factor.rank\n",
    "* z-scored: Standardize factor returns in order to ease comparison , combination and evaluation. In addition, make alpha factors comparable after ranking when number of stocks changes (useful to apply rank and then z-score)\n",
    "https://www.zipline.io/appendix.html#zipline.pipeline.factors.zscore\n",
    "* smoothing: Decrease noise and missing by compute a moving average over a time window (simple or exponential)\n",
    "https://www.zipline.io/appendix.html#zipline.pipeline.factors.SimpleMovingAverage\n",
    "https://www.zipline.io/appendix.html#zipline.pipeline.factors.ExponentialWeightedMovingAverage"
   ]
  },
  {
   "cell_type": "markdown",
   "metadata": {},
   "source": [
    "### Sector data helper function\n",
    "The sectors are represented by integers, as sector is needed in demeaning\n",
    "\n",
    "Inherit from the Classifier class.  [Documentation for Classifier](https://www.quantopian.com/posts/pipeline-classifiers-are-here), and the [source code for Classifier](https://github.com/quantopian/zipline/blob/master/zipline/pipeline/classifiers/classifier.py)"
   ]
  },
  {
   "cell_type": "code",
   "execution_count": 17,
   "metadata": {},
   "outputs": [
    {
     "name": "stdout",
     "output_type": "stream",
     "text": [
      "491 [-1  0  1  2  3  4  5  6  7  8  9 10]\n"
     ]
    }
   ],
   "source": [
    "sector = quant_helper.get_sectors(sector_path)\n",
    "print(len(sector.data), np.unique(sector.data))"
   ]
  },
  {
   "cell_type": "code",
   "execution_count": 18,
   "metadata": {},
   "outputs": [
    {
     "data": {
      "text/html": [
       "<div>\n",
       "<style scoped>\n",
       "    .dataframe tbody tr th:only-of-type {\n",
       "        vertical-align: middle;\n",
       "    }\n",
       "\n",
       "    .dataframe tbody tr th {\n",
       "        vertical-align: top;\n",
       "    }\n",
       "\n",
       "    .dataframe thead th {\n",
       "        text-align: right;\n",
       "    }\n",
       "</style>\n",
       "<table border=\"1\" class=\"dataframe\">\n",
       "  <thead>\n",
       "    <tr style=\"text-align: right;\">\n",
       "      <th></th>\n",
       "      <th>Sector</th>\n",
       "      <th>sector_id</th>\n",
       "    </tr>\n",
       "  </thead>\n",
       "  <tbody>\n",
       "    <tr>\n",
       "      <th>0</th>\n",
       "      <td>Healthcare</td>\n",
       "      <td>0</td>\n",
       "    </tr>\n",
       "    <tr>\n",
       "      <th>1</th>\n",
       "      <td>Technology</td>\n",
       "      <td>1</td>\n",
       "    </tr>\n",
       "    <tr>\n",
       "      <th>2</th>\n",
       "      <td>Consumer Defensive</td>\n",
       "      <td>2</td>\n",
       "    </tr>\n",
       "    <tr>\n",
       "      <th>3</th>\n",
       "      <td>Industrials</td>\n",
       "      <td>3</td>\n",
       "    </tr>\n",
       "    <tr>\n",
       "      <th>4</th>\n",
       "      <td>Utilities</td>\n",
       "      <td>4</td>\n",
       "    </tr>\n",
       "    <tr>\n",
       "      <th>5</th>\n",
       "      <td>Financial Services</td>\n",
       "      <td>5</td>\n",
       "    </tr>\n",
       "    <tr>\n",
       "      <th>6</th>\n",
       "      <td>Real Estate</td>\n",
       "      <td>6</td>\n",
       "    </tr>\n",
       "    <tr>\n",
       "      <th>7</th>\n",
       "      <td>Communication Services</td>\n",
       "      <td>7</td>\n",
       "    </tr>\n",
       "    <tr>\n",
       "      <th>8</th>\n",
       "      <td>Consumer Cyclical</td>\n",
       "      <td>8</td>\n",
       "    </tr>\n",
       "    <tr>\n",
       "      <th>9</th>\n",
       "      <td>Energy</td>\n",
       "      <td>9</td>\n",
       "    </tr>\n",
       "    <tr>\n",
       "      <th>10</th>\n",
       "      <td>Basic Materials</td>\n",
       "      <td>10</td>\n",
       "    </tr>\n",
       "    <tr>\n",
       "      <th>0</th>\n",
       "      <td>no sector assigned</td>\n",
       "      <td>-1</td>\n",
       "    </tr>\n",
       "  </tbody>\n",
       "</table>\n",
       "</div>"
      ],
      "text/plain": [
       "                    Sector  sector_id\n",
       "0               Healthcare          0\n",
       "1               Technology          1\n",
       "2       Consumer Defensive          2\n",
       "3              Industrials          3\n",
       "4                Utilities          4\n",
       "5       Financial Services          5\n",
       "6              Real Estate          6\n",
       "7   Communication Services          7\n",
       "8        Consumer Cyclical          8\n",
       "9                   Energy          9\n",
       "10         Basic Materials         10\n",
       "0       no sector assigned         -1"
      ]
     },
     "execution_count": 18,
     "metadata": {},
     "output_type": "execute_result"
    }
   ],
   "source": [
    "## Sector Labels\n",
    "sector_names = pd.read_csv(sector_file)\n",
    "sector_names = sector_names[['Sector','sector_id']]\n",
    "sector_names = sector_names.drop_duplicates()\n",
    "sector_names = sector_names.append(pd.DataFrame([['no sector assigned',-1]], columns = sector_names.columns))\n",
    "sector_names"
   ]
  },
  {
   "cell_type": "code",
   "execution_count": 19,
   "metadata": {},
   "outputs": [],
   "source": [
    "# raw factors\n",
    "rets_1d_raw = (\n",
    "    Returns(window_length=2, mask=universe)\n",
    ")\n",
    "rets_1d_demean = (\n",
    "    Returns(window_length=2, mask=universe).demean(groupby=sector)\n",
    ")\n",
    "rets_1y_raw = (\n",
    "    Returns(window_length=252, mask=universe)\n",
    ")\n",
    "# sector demean, rank and z-score\n",
    "rets_1y = (\n",
    "    Returns(window_length=252, mask=universe).\n",
    "    demean(groupby=sector). #we use the custom Sector class that we reviewed earlier\n",
    "    rank().\n",
    "    zscore()\n",
    ")\n",
    "# factor smoothing\n",
    "rets_1y_smooth = (\n",
    "    SimpleMovingAverage(inputs=[rets_1y], window_length=5)\n",
    ")"
   ]
  },
  {
   "cell_type": "code",
   "execution_count": 20,
   "metadata": {},
   "outputs": [],
   "source": [
    "# create a pipeline called\n",
    "p = Pipeline(screen=universe)\n",
    "\n",
    "# add the factors to the pipeline\n",
    "p.add(sector, 'sector_code')\n",
    "p.add(rets_1d_raw, 'rets_1d_raw')\n",
    "p.add(rets_1y_raw, 'rets_1y_raw')\n",
    "p.add(rets_1y, 'Momentum_1YR')  # demeaned, ranked, zscored\n",
    "p.add(rets_1y_smooth, 'Smoothed_Momentum_1YR') # demeaned, ranked, zscored and smoothed"
   ]
  },
  {
   "cell_type": "code",
   "execution_count": 21,
   "metadata": {},
   "outputs": [
    {
     "data": {
      "text/html": [
       "<div>\n",
       "<style scoped>\n",
       "    .dataframe tbody tr th:only-of-type {\n",
       "        vertical-align: middle;\n",
       "    }\n",
       "\n",
       "    .dataframe tbody tr th {\n",
       "        vertical-align: top;\n",
       "    }\n",
       "\n",
       "    .dataframe thead th {\n",
       "        text-align: right;\n",
       "    }\n",
       "</style>\n",
       "<table border=\"1\" class=\"dataframe\">\n",
       "  <thead>\n",
       "    <tr style=\"text-align: right;\">\n",
       "      <th></th>\n",
       "      <th></th>\n",
       "      <th>Momentum_1YR</th>\n",
       "      <th>Smoothed_Momentum_1YR</th>\n",
       "      <th>rets_1d_raw</th>\n",
       "      <th>rets_1y_raw</th>\n",
       "      <th>sector_code</th>\n",
       "    </tr>\n",
       "  </thead>\n",
       "  <tbody>\n",
       "    <tr>\n",
       "      <th rowspan=\"5\" valign=\"top\">2014-01-03 00:00:00+00:00</th>\n",
       "      <th>Equity(0 [A])</th>\n",
       "      <td>1.499391</td>\n",
       "      <td>1.484295</td>\n",
       "      <td>0.001321</td>\n",
       "      <td>0.799433</td>\n",
       "      <td>0</td>\n",
       "    </tr>\n",
       "    <tr>\n",
       "      <th>Equity(1 [AAL])</th>\n",
       "      <td>1.602797</td>\n",
       "      <td>1.564182</td>\n",
       "      <td>0.004360</td>\n",
       "      <td>0.856600</td>\n",
       "      <td>3</td>\n",
       "    </tr>\n",
       "    <tr>\n",
       "      <th>Equity(2 [AAP])</th>\n",
       "      <td>0.376694</td>\n",
       "      <td>0.231375</td>\n",
       "      <td>-0.008497</td>\n",
       "      <td>0.518050</td>\n",
       "      <td>8</td>\n",
       "    </tr>\n",
       "    <tr>\n",
       "      <th>Equity(3 [AAPL])</th>\n",
       "      <td>-1.484618</td>\n",
       "      <td>-1.475412</td>\n",
       "      <td>-0.014053</td>\n",
       "      <td>0.045903</td>\n",
       "      <td>1</td>\n",
       "    </tr>\n",
       "    <tr>\n",
       "      <th>Equity(4 [ABBV])</th>\n",
       "      <td>0.915884</td>\n",
       "      <td>0.919577</td>\n",
       "      <td>-0.015713</td>\n",
       "      <td>0.551403</td>\n",
       "      <td>0</td>\n",
       "    </tr>\n",
       "  </tbody>\n",
       "</table>\n",
       "</div>"
      ],
      "text/plain": [
       "                                            Momentum_1YR  \\\n",
       "2014-01-03 00:00:00+00:00 Equity(0 [A])         1.499391   \n",
       "                          Equity(1 [AAL])       1.602797   \n",
       "                          Equity(2 [AAP])       0.376694   \n",
       "                          Equity(3 [AAPL])     -1.484618   \n",
       "                          Equity(4 [ABBV])      0.915884   \n",
       "\n",
       "                                            Smoothed_Momentum_1YR  \\\n",
       "2014-01-03 00:00:00+00:00 Equity(0 [A])                  1.484295   \n",
       "                          Equity(1 [AAL])                1.564182   \n",
       "                          Equity(2 [AAP])                0.231375   \n",
       "                          Equity(3 [AAPL])              -1.475412   \n",
       "                          Equity(4 [ABBV])               0.919577   \n",
       "\n",
       "                                            rets_1d_raw  rets_1y_raw  \\\n",
       "2014-01-03 00:00:00+00:00 Equity(0 [A])        0.001321     0.799433   \n",
       "                          Equity(1 [AAL])      0.004360     0.856600   \n",
       "                          Equity(2 [AAP])     -0.008497     0.518050   \n",
       "                          Equity(3 [AAPL])    -0.014053     0.045903   \n",
       "                          Equity(4 [ABBV])    -0.015713     0.551403   \n",
       "\n",
       "                                            sector_code  \n",
       "2014-01-03 00:00:00+00:00 Equity(0 [A])               0  \n",
       "                          Equity(1 [AAL])             3  \n",
       "                          Equity(2 [AAP])             8  \n",
       "                          Equity(3 [AAPL])            1  \n",
       "                          Equity(4 [ABBV])            0  "
      ]
     },
     "execution_count": 21,
     "metadata": {},
     "output_type": "execute_result"
    }
   ],
   "source": [
    "# Run the pipeline to obtain a factor returns pandas DF\n",
    "factors_df = engine.run_pipeline(p, factor_start_date, universe_end_date)\n",
    "factors_df.head()"
   ]
  },
  {
   "cell_type": "markdown",
   "metadata": {},
   "source": [
    "### Checking results and manual replication"
   ]
  },
  {
   "cell_type": "code",
   "execution_count": 22,
   "metadata": {},
   "outputs": [
    {
     "data": {
      "text/html": [
       "<div>\n",
       "<style scoped>\n",
       "    .dataframe tbody tr th:only-of-type {\n",
       "        vertical-align: middle;\n",
       "    }\n",
       "\n",
       "    .dataframe tbody tr th {\n",
       "        vertical-align: top;\n",
       "    }\n",
       "\n",
       "    .dataframe thead th {\n",
       "        text-align: right;\n",
       "    }\n",
       "</style>\n",
       "<table border=\"1\" class=\"dataframe\">\n",
       "  <thead>\n",
       "    <tr style=\"text-align: right;\">\n",
       "      <th></th>\n",
       "      <th></th>\n",
       "      <th>rets_1d_demean</th>\n",
       "      <th>rets_1d_demean_rank</th>\n",
       "      <th>rets_1d_demean_rank_zscore</th>\n",
       "      <th>rets_1d_demean_rank_zscore_smooth</th>\n",
       "      <th>rets_1d_raw</th>\n",
       "      <th>sector_code</th>\n",
       "    </tr>\n",
       "  </thead>\n",
       "  <tbody>\n",
       "    <tr>\n",
       "      <th rowspan=\"2\" valign=\"top\">2014-01-03 00:00:00+00:00</th>\n",
       "      <th>Equity(3 [AAPL])</th>\n",
       "      <td>-0.007452</td>\n",
       "      <td>3.0</td>\n",
       "      <td>-0.870388</td>\n",
       "      <td>-0.104447</td>\n",
       "      <td>-0.014053</td>\n",
       "      <td>1</td>\n",
       "    </tr>\n",
       "    <tr>\n",
       "      <th>Equity(38 [AMZN])</th>\n",
       "      <td>0.006235</td>\n",
       "      <td>8.0</td>\n",
       "      <td>0.870388</td>\n",
       "      <td>0.522233</td>\n",
       "      <td>-0.002056</td>\n",
       "      <td>8</td>\n",
       "    </tr>\n",
       "  </tbody>\n",
       "</table>\n",
       "</div>"
      ],
      "text/plain": [
       "                                             rets_1d_demean  \\\n",
       "2014-01-03 00:00:00+00:00 Equity(3 [AAPL])        -0.007452   \n",
       "                          Equity(38 [AMZN])        0.006235   \n",
       "\n",
       "                                             rets_1d_demean_rank  \\\n",
       "2014-01-03 00:00:00+00:00 Equity(3 [AAPL])                   3.0   \n",
       "                          Equity(38 [AMZN])                  8.0   \n",
       "\n",
       "                                             rets_1d_demean_rank_zscore  \\\n",
       "2014-01-03 00:00:00+00:00 Equity(3 [AAPL])                    -0.870388   \n",
       "                          Equity(38 [AMZN])                    0.870388   \n",
       "\n",
       "                                             rets_1d_demean_rank_zscore_smooth  \\\n",
       "2014-01-03 00:00:00+00:00 Equity(3 [AAPL])                           -0.104447   \n",
       "                          Equity(38 [AMZN])                           0.522233   \n",
       "\n",
       "                                             rets_1d_raw  sector_code  \n",
       "2014-01-03 00:00:00+00:00 Equity(3 [AAPL])     -0.014053            1  \n",
       "                          Equity(38 [AMZN])    -0.002056            8  "
      ]
     },
     "execution_count": 22,
     "metadata": {},
     "output_type": "execute_result"
    }
   ],
   "source": [
    "p_smp = Pipeline(screen=universe_smp)\n",
    "\n",
    "rets_1d_smp_raw = (\n",
    "    Returns(window_length=2, mask=universe_smp)\n",
    ")\n",
    "rets_1d_smp_demean = (\n",
    "    Returns(window_length=2, mask=universe_smp).demean(groupby=sector)\n",
    ")\n",
    "rets_1d_smp_demean_rank = (\n",
    "    Returns(window_length=2, mask=universe_smp).demean(groupby=sector).rank()\n",
    ")\n",
    "rets_1d_smp_demean_rank_zscore = (\n",
    "    Returns(window_length=2, mask=universe_smp).demean(groupby=sector).rank().zscore()\n",
    ")\n",
    "rets_1d_smp_demean_rank_zscore_smooth = (\n",
    "    SimpleMovingAverage(inputs=[rets_1d_smp_demean_rank_zscore], window_length=5)\n",
    ")\n",
    "p_smp.add(sector, 'sector_code')\n",
    "p_smp.add(rets_1d_smp_raw, 'rets_1d_raw')\n",
    "p_smp.add(rets_1d_smp_demean, 'rets_1d_demean')\n",
    "p_smp.add(rets_1d_smp_demean_rank, 'rets_1d_demean_rank')\n",
    "p_smp.add(rets_1d_smp_demean_rank_zscore, 'rets_1d_demean_rank_zscore')\n",
    "p_smp.add(rets_1d_smp_demean_rank_zscore_smooth, 'rets_1d_demean_rank_zscore_smooth')\n",
    "factors_smp_df = engine.run_pipeline(p_smp, factor_start_date, universe_end_date)\n",
    "\n",
    "factors_smp_df[:2]"
   ]
  },
  {
   "cell_type": "code",
   "execution_count": 23,
   "metadata": {},
   "outputs": [
    {
     "data": {
      "text/plain": [
       "rets_1d_demean                      -0.007452\n",
       "rets_1d_demean_rank                  3.000000\n",
       "rets_1d_demean_rank_zscore          -0.870388\n",
       "rets_1d_demean_rank_zscore_smooth   -0.104447\n",
       "rets_1d_raw                         -0.014053\n",
       "sector_code                          1.000000\n",
       "Name: (2014-01-03 00:00:00+00:00, Equity(3 [AAPL])), dtype: float64"
      ]
     },
     "execution_count": 23,
     "metadata": {},
     "output_type": "execute_result"
    }
   ],
   "source": [
    "asset_idx = factors_smp_df.index.get_level_values(1)[0]\n",
    "sector_idx = factors_smp_df.loc[(factor_start_date, asset_idx), 'sector_code']\n",
    "\n",
    "factors_smp_df.loc[(factor_start_date, asset_idx), :]"
   ]
  },
  {
   "cell_type": "code",
   "execution_count": 24,
   "metadata": {},
   "outputs": [
    {
     "data": {
      "image/png": "[encoded data removed]",
      "text/plain": [
       "<Figure size 432x288 with 1 Axes>"
      ]
     },
     "metadata": {
      "needs_background": "light"
     },
     "output_type": "display_data"
    }
   ],
   "source": [
    "factors_smp_df.xs(level=0, key=factor_start_date)[['rets_1d_raw', 'rets_1d_demean']].plot.hist(alpha=0.5)\n",
    "plt.show()"
   ]
  },
  {
   "cell_type": "code",
   "execution_count": 25,
   "metadata": {},
   "outputs": [
    {
     "data": {
      "text/html": [
       "<div>\n",
       "<style scoped>\n",
       "    .dataframe tbody tr th:only-of-type {\n",
       "        vertical-align: middle;\n",
       "    }\n",
       "\n",
       "    .dataframe tbody tr th {\n",
       "        vertical-align: top;\n",
       "    }\n",
       "\n",
       "    .dataframe thead th {\n",
       "        text-align: right;\n",
       "    }\n",
       "</style>\n",
       "<table border=\"1\" class=\"dataframe\">\n",
       "  <thead>\n",
       "    <tr style=\"text-align: right;\">\n",
       "      <th></th>\n",
       "      <th>count</th>\n",
       "      <th>mean</th>\n",
       "      <th>std</th>\n",
       "      <th>min</th>\n",
       "      <th>25%</th>\n",
       "      <th>50%</th>\n",
       "      <th>75%</th>\n",
       "      <th>max</th>\n",
       "    </tr>\n",
       "  </thead>\n",
       "  <tbody>\n",
       "    <tr>\n",
       "      <th>rets_1d_raw</th>\n",
       "      <td>10.0</td>\n",
       "      <td>-1.831434e-03</td>\n",
       "      <td>0.014329</td>\n",
       "      <td>-0.014526</td>\n",
       "      <td>-0.012233</td>\n",
       "      <td>-0.004376</td>\n",
       "      <td>0.001697</td>\n",
       "      <td>0.034032</td>\n",
       "    </tr>\n",
       "    <tr>\n",
       "      <th>rets_1d_demean</th>\n",
       "      <td>10.0</td>\n",
       "      <td>-1.040834e-18</td>\n",
       "      <td>0.009758</td>\n",
       "      <td>-0.011112</td>\n",
       "      <td>-0.007148</td>\n",
       "      <td>-0.000133</td>\n",
       "      <td>0.004676</td>\n",
       "      <td>0.021030</td>\n",
       "    </tr>\n",
       "  </tbody>\n",
       "</table>\n",
       "</div>"
      ],
      "text/plain": [
       "                count          mean       std       min       25%       50%  \\\n",
       "rets_1d_raw      10.0 -1.831434e-03  0.014329 -0.014526 -0.012233 -0.004376   \n",
       "rets_1d_demean   10.0 -1.040834e-18  0.009758 -0.011112 -0.007148 -0.000133   \n",
       "\n",
       "                     75%       max  \n",
       "rets_1d_raw     0.001697  0.034032  \n",
       "rets_1d_demean  0.004676  0.021030  "
      ]
     },
     "execution_count": 25,
     "metadata": {},
     "output_type": "execute_result"
    }
   ],
   "source": [
    "factors_smp_df.xs(level=0, key=factor_start_date)[['rets_1d_raw', 'rets_1d_demean']].describe().T"
   ]
  },
  {
   "cell_type": "code",
   "execution_count": 68,
   "metadata": {},
   "outputs": [],
   "source": [
    "ex_ticker = prices_df.columns[3]\n",
    "ex_prices = prices_df[ex_ticker]"
   ]
  },
  {
   "cell_type": "code",
   "execution_count": 78,
   "metadata": {},
   "outputs": [
    {
     "data": {
      "text/plain": [
       "-0.014053174172544813"
      ]
     },
     "execution_count": 78,
     "metadata": {},
     "output_type": "execute_result"
    }
   ],
   "source": [
    "ex_prices.pct_change(1).loc['2014-01-02']"
   ]
  },
  {
   "cell_type": "code",
   "execution_count": 84,
   "metadata": {},
   "outputs": [
    {
     "data": {
      "text/plain": [
       "-0.014053174172544782"
      ]
     },
     "execution_count": 84,
     "metadata": {},
     "output_type": "execute_result"
    }
   ],
   "source": [
    "# result\n",
    "asset_ret = factors_smp_df.loc[(factor_start_date, asset_idx), 'rets_1d_raw']\n",
    "asset_ret"
   ]
  },
  {
   "cell_type": "code",
   "execution_count": 82,
   "metadata": {},
   "outputs": [],
   "source": [
    "assert np.isclose(ex_prices.pct_change(1).loc['2014-01-02'],\n",
    "                  factors_smp_df.loc[('2014-01-03', ex_ticker), 'rets_1d_raw'].values[0]\n",
    "                 )"
   ]
  },
  {
   "cell_type": "markdown",
   "metadata": {},
   "source": [
    "#### Sector Demeaning\n",
    "\n",
    "Each day, Average by Sector is cimputed and then substracted from each asset, therefore sector exposure is neutralized"
   ]
  },
  {
   "cell_type": "code",
   "execution_count": 85,
   "metadata": {},
   "outputs": [
    {
     "data": {
      "text/plain": [
       "                           sector_code\n",
       "2014-01-03 00:00:00+00:00  1             -0.006601\n",
       "                           5              0.013002\n",
       "                           8             -0.008291\n",
       "Name: rets_1d_raw, dtype: float64"
      ]
     },
     "execution_count": 85,
     "metadata": {},
     "output_type": "execute_result"
    }
   ],
   "source": [
    "day_grp_idx = factors_smp_df.index.get_level_values(0)\n",
    "sector_grp_idx = factors_smp_df['sector_code']\n",
    "\n",
    "sector_returns_dlymean = factors_smp_df.groupby([day_grp_idx, sector_grp_idx])['rets_1d_raw'].mean()\n",
    "sector_returns_dlymean[:3]"
   ]
  },
  {
   "cell_type": "code",
   "execution_count": 86,
   "metadata": {},
   "outputs": [
    {
     "data": {
      "text/plain": [
       "-0.006601214337735402"
      ]
     },
     "execution_count": 86,
     "metadata": {},
     "output_type": "execute_result"
    }
   ],
   "source": [
    "sector_ret = sector_returns_dlymean[(factor_start_date, int(sector_idx))]\n",
    "sector_ret"
   ]
  },
  {
   "cell_type": "code",
   "execution_count": 87,
   "metadata": {},
   "outputs": [
    {
     "data": {
      "text/plain": [
       "-0.00745195983480938"
      ]
     },
     "execution_count": 87,
     "metadata": {},
     "output_type": "execute_result"
    }
   ],
   "source": [
    "asset_ret-sector_ret"
   ]
  },
  {
   "cell_type": "code",
   "execution_count": 89,
   "metadata": {},
   "outputs": [
    {
     "data": {
      "text/plain": [
       "-0.00745195983480938"
      ]
     },
     "execution_count": 89,
     "metadata": {},
     "output_type": "execute_result"
    }
   ],
   "source": [
    "# result\n",
    "factors_smp_df.loc[(factor_start_date, asset_idx), 'rets_1d_demean']"
   ]
  },
  {
   "cell_type": "code",
   "execution_count": 90,
   "metadata": {},
   "outputs": [],
   "source": [
    "# Computed and manual values are similar\n",
    "assert np.isclose(factors_smp_df.loc[(factor_start_date, asset_idx), 'rets_1d_demean'],\n",
    "           asset_ret-sector_ret)"
   ]
  },
  {
   "cell_type": "code",
   "execution_count": 91,
   "metadata": {},
   "outputs": [
    {
     "data": {
      "text/plain": [
       "rets_1d_raw      -0.014053\n",
       "rets_1d_demean   -0.007452\n",
       "Name: (2014-01-03 00:00:00+00:00, Equity(3 [AAPL])), dtype: float64"
      ]
     },
     "execution_count": 91,
     "metadata": {},
     "output_type": "execute_result"
    }
   ],
   "source": [
    "factors_smp_df.loc[(factor_start_date, asset_idx), ['rets_1d_raw', 'rets_1d_demean']]"
   ]
  },
  {
   "cell_type": "markdown",
   "metadata": {},
   "source": [
    "#### Ranking\n",
    "\n",
    "Each day, demeaned assets are sorted and assigned their relative position (rank), therefore, if there are 27 assets, then numbers from 1 to 27 are assigned. This helps to smooth returns and focus on relative order, which is the most important thing in building a portfolio, rather than exact return prediction"
   ]
  },
  {
   "cell_type": "code",
   "execution_count": 92,
   "metadata": {},
   "outputs": [
    {
     "data": {
      "text/html": [
       "<div>\n",
       "<style scoped>\n",
       "    .dataframe tbody tr th:only-of-type {\n",
       "        vertical-align: middle;\n",
       "    }\n",
       "\n",
       "    .dataframe tbody tr th {\n",
       "        vertical-align: top;\n",
       "    }\n",
       "\n",
       "    .dataframe thead th {\n",
       "        text-align: right;\n",
       "    }\n",
       "</style>\n",
       "<table border=\"1\" class=\"dataframe\">\n",
       "  <thead>\n",
       "    <tr style=\"text-align: right;\">\n",
       "      <th></th>\n",
       "      <th>rets_1d_raw</th>\n",
       "      <th>rets_1d_demean</th>\n",
       "      <th>rets_1d_demean_rank</th>\n",
       "    </tr>\n",
       "  </thead>\n",
       "  <tbody>\n",
       "    <tr>\n",
       "      <th>Equity(3 [AAPL])</th>\n",
       "      <td>-0.014053</td>\n",
       "      <td>-0.007452</td>\n",
       "      <td>3.0</td>\n",
       "    </tr>\n",
       "    <tr>\n",
       "      <th>Equity(38 [AMZN])</th>\n",
       "      <td>-0.002056</td>\n",
       "      <td>0.006235</td>\n",
       "      <td>8.0</td>\n",
       "    </tr>\n",
       "    <tr>\n",
       "      <th>Equity(59 [BAC])</th>\n",
       "      <td>0.034032</td>\n",
       "      <td>0.021030</td>\n",
       "      <td>10.0</td>\n",
       "    </tr>\n",
       "    <tr>\n",
       "      <th>Equity(74 [C])</th>\n",
       "      <td>0.003085</td>\n",
       "      <td>-0.009918</td>\n",
       "      <td>2.0</td>\n",
       "    </tr>\n",
       "    <tr>\n",
       "      <th>Equity(173 [FB])</th>\n",
       "      <td>0.001116</td>\n",
       "      <td>0.007717</td>\n",
       "      <td>9.0</td>\n",
       "    </tr>\n",
       "    <tr>\n",
       "      <th>Equity(199 [GOOGL])</th>\n",
       "      <td>-0.006773</td>\n",
       "      <td>-0.000172</td>\n",
       "      <td>5.0</td>\n",
       "    </tr>\n",
       "    <tr>\n",
       "      <th>Equity(253 [JPM])</th>\n",
       "      <td>0.001890</td>\n",
       "      <td>-0.011112</td>\n",
       "      <td>1.0</td>\n",
       "    </tr>\n",
       "    <tr>\n",
       "      <th>Equity(312 [MSFT])</th>\n",
       "      <td>-0.006695</td>\n",
       "      <td>-0.000094</td>\n",
       "      <td>6.0</td>\n",
       "    </tr>\n",
       "    <tr>\n",
       "      <th>Equity(323 [NFLX])</th>\n",
       "      <td>-0.014526</td>\n",
       "      <td>-0.006235</td>\n",
       "      <td>4.0</td>\n",
       "    </tr>\n",
       "    <tr>\n",
       "      <th>Equity(483 [XOM])</th>\n",
       "      <td>-0.014334</td>\n",
       "      <td>0.000000</td>\n",
       "      <td>7.0</td>\n",
       "    </tr>\n",
       "  </tbody>\n",
       "</table>\n",
       "</div>"
      ],
      "text/plain": [
       "                     rets_1d_raw  rets_1d_demean  rets_1d_demean_rank\n",
       "Equity(3 [AAPL])       -0.014053       -0.007452                  3.0\n",
       "Equity(38 [AMZN])      -0.002056        0.006235                  8.0\n",
       "Equity(59 [BAC])        0.034032        0.021030                 10.0\n",
       "Equity(74 [C])          0.003085       -0.009918                  2.0\n",
       "Equity(173 [FB])        0.001116        0.007717                  9.0\n",
       "Equity(199 [GOOGL])    -0.006773       -0.000172                  5.0\n",
       "Equity(253 [JPM])       0.001890       -0.011112                  1.0\n",
       "Equity(312 [MSFT])     -0.006695       -0.000094                  6.0\n",
       "Equity(323 [NFLX])     -0.014526       -0.006235                  4.0\n",
       "Equity(483 [XOM])      -0.014334        0.000000                  7.0"
      ]
     },
     "execution_count": 92,
     "metadata": {},
     "output_type": "execute_result"
    }
   ],
   "source": [
    "factors_smp_df.xs(level=0, key=factor_start_date)[['rets_1d_raw', 'rets_1d_demean', 'rets_1d_demean_rank']]"
   ]
  },
  {
   "cell_type": "code",
   "execution_count": 93,
   "metadata": {},
   "outputs": [],
   "source": [
    "ranks = scipy.stats.rankdata(factors_smp_df.xs(level=0, key=factor_start_date)['rets_1d_demean'].values)"
   ]
  },
  {
   "cell_type": "code",
   "execution_count": 96,
   "metadata": {},
   "outputs": [
    {
     "data": {
      "text/plain": [
       "array([ 3.,  8., 10.,  2.,  9.,  5.,  1.,  6.,  4.,  7.])"
      ]
     },
     "execution_count": 96,
     "metadata": {},
     "output_type": "execute_result"
    }
   ],
   "source": [
    "ranks"
   ]
  },
  {
   "cell_type": "code",
   "execution_count": 94,
   "metadata": {},
   "outputs": [
    {
     "data": {
      "text/plain": [
       "True"
      ]
     },
     "execution_count": 94,
     "metadata": {},
     "output_type": "execute_result"
    }
   ],
   "source": [
    "# Both (computed and manual rank are the same)\n",
    "np.array_equal(factors_smp_df.xs(level=0, key=factor_start_date)['rets_1d_demean_rank'],\n",
    "            ranks)\n"
   ]
  },
  {
   "cell_type": "markdown",
   "metadata": {},
   "source": [
    "#### z-score\n",
    "\n",
    "As each day rank may vary (universe may change), ranks are usually standardized, therefore their range is fixed.\n",
    "\n",
    "This example also uses binning instead of ranking, to visualize the difference"
   ]
  },
  {
   "cell_type": "code",
   "execution_count": 35,
   "metadata": {},
   "outputs": [
    {
     "data": {
      "text/html": [
       "<div>\n",
       "<style scoped>\n",
       "    .dataframe tbody tr th:only-of-type {\n",
       "        vertical-align: middle;\n",
       "    }\n",
       "\n",
       "    .dataframe tbody tr th {\n",
       "        vertical-align: top;\n",
       "    }\n",
       "\n",
       "    .dataframe thead th {\n",
       "        text-align: right;\n",
       "    }\n",
       "</style>\n",
       "<table border=\"1\" class=\"dataframe\">\n",
       "  <thead>\n",
       "    <tr style=\"text-align: right;\">\n",
       "      <th></th>\n",
       "      <th>rets_1d_raw</th>\n",
       "      <th>rets_1d_demean</th>\n",
       "      <th>rets_1d_demean_rank</th>\n",
       "      <th>rets_1d_demean_rank_zscore</th>\n",
       "    </tr>\n",
       "  </thead>\n",
       "  <tbody>\n",
       "    <tr>\n",
       "      <th>Equity(3 [AAPL])</th>\n",
       "      <td>-0.014053</td>\n",
       "      <td>-0.007452</td>\n",
       "      <td>3.0</td>\n",
       "      <td>-0.870388</td>\n",
       "    </tr>\n",
       "    <tr>\n",
       "      <th>Equity(38 [AMZN])</th>\n",
       "      <td>-0.002056</td>\n",
       "      <td>0.006235</td>\n",
       "      <td>8.0</td>\n",
       "      <td>0.870388</td>\n",
       "    </tr>\n",
       "    <tr>\n",
       "      <th>Equity(59 [BAC])</th>\n",
       "      <td>0.034032</td>\n",
       "      <td>0.021030</td>\n",
       "      <td>10.0</td>\n",
       "      <td>1.566699</td>\n",
       "    </tr>\n",
       "    <tr>\n",
       "      <th>Equity(74 [C])</th>\n",
       "      <td>0.003085</td>\n",
       "      <td>-0.009918</td>\n",
       "      <td>2.0</td>\n",
       "      <td>-1.218544</td>\n",
       "    </tr>\n",
       "    <tr>\n",
       "      <th>Equity(173 [FB])</th>\n",
       "      <td>0.001116</td>\n",
       "      <td>0.007717</td>\n",
       "      <td>9.0</td>\n",
       "      <td>1.218544</td>\n",
       "    </tr>\n",
       "    <tr>\n",
       "      <th>Equity(199 [GOOGL])</th>\n",
       "      <td>-0.006773</td>\n",
       "      <td>-0.000172</td>\n",
       "      <td>5.0</td>\n",
       "      <td>-0.174078</td>\n",
       "    </tr>\n",
       "    <tr>\n",
       "      <th>Equity(253 [JPM])</th>\n",
       "      <td>0.001890</td>\n",
       "      <td>-0.011112</td>\n",
       "      <td>1.0</td>\n",
       "      <td>-1.566699</td>\n",
       "    </tr>\n",
       "    <tr>\n",
       "      <th>Equity(312 [MSFT])</th>\n",
       "      <td>-0.006695</td>\n",
       "      <td>-0.000094</td>\n",
       "      <td>6.0</td>\n",
       "      <td>0.174078</td>\n",
       "    </tr>\n",
       "    <tr>\n",
       "      <th>Equity(323 [NFLX])</th>\n",
       "      <td>-0.014526</td>\n",
       "      <td>-0.006235</td>\n",
       "      <td>4.0</td>\n",
       "      <td>-0.522233</td>\n",
       "    </tr>\n",
       "    <tr>\n",
       "      <th>Equity(483 [XOM])</th>\n",
       "      <td>-0.014334</td>\n",
       "      <td>0.000000</td>\n",
       "      <td>7.0</td>\n",
       "      <td>0.522233</td>\n",
       "    </tr>\n",
       "  </tbody>\n",
       "</table>\n",
       "</div>"
      ],
      "text/plain": [
       "                     rets_1d_raw  rets_1d_demean  rets_1d_demean_rank  \\\n",
       "Equity(3 [AAPL])       -0.014053       -0.007452                  3.0   \n",
       "Equity(38 [AMZN])      -0.002056        0.006235                  8.0   \n",
       "Equity(59 [BAC])        0.034032        0.021030                 10.0   \n",
       "Equity(74 [C])          0.003085       -0.009918                  2.0   \n",
       "Equity(173 [FB])        0.001116        0.007717                  9.0   \n",
       "Equity(199 [GOOGL])    -0.006773       -0.000172                  5.0   \n",
       "Equity(253 [JPM])       0.001890       -0.011112                  1.0   \n",
       "Equity(312 [MSFT])     -0.006695       -0.000094                  6.0   \n",
       "Equity(323 [NFLX])     -0.014526       -0.006235                  4.0   \n",
       "Equity(483 [XOM])      -0.014334        0.000000                  7.0   \n",
       "\n",
       "                     rets_1d_demean_rank_zscore  \n",
       "Equity(3 [AAPL])                      -0.870388  \n",
       "Equity(38 [AMZN])                      0.870388  \n",
       "Equity(59 [BAC])                       1.566699  \n",
       "Equity(74 [C])                        -1.218544  \n",
       "Equity(173 [FB])                       1.218544  \n",
       "Equity(199 [GOOGL])                   -0.174078  \n",
       "Equity(253 [JPM])                     -1.566699  \n",
       "Equity(312 [MSFT])                     0.174078  \n",
       "Equity(323 [NFLX])                    -0.522233  \n",
       "Equity(483 [XOM])                      0.522233  "
      ]
     },
     "execution_count": 35,
     "metadata": {},
     "output_type": "execute_result"
    }
   ],
   "source": [
    "factors_smp_df.xs(level=0, key=factor_start_date)[['rets_1d_raw', 'rets_1d_demean', 'rets_1d_demean_rank', 'rets_1d_demean_rank_zscore']]"
   ]
  },
  {
   "cell_type": "code",
   "execution_count": 36,
   "metadata": {},
   "outputs": [
    {
     "data": {
      "text/plain": [
       "array([-0.87038828,  0.87038828,  1.5666989 , -1.21854359,  1.21854359,\n",
       "       -0.17407766, -1.5666989 ,  0.17407766, -0.52223297,  0.52223297])"
      ]
     },
     "execution_count": 36,
     "metadata": {},
     "output_type": "execute_result"
    }
   ],
   "source": [
    "mu = ranks.mean()\n",
    "sigma =ranks.std()\n",
    "zscore = (ranks-mu)/sigma\n",
    "zscore"
   ]
  },
  {
   "cell_type": "code",
   "execution_count": 99,
   "metadata": {},
   "outputs": [],
   "source": [
    "assert np.array_equal(factors_smp_df.xs(level=0, key=factor_start_date)['rets_1d_demean_rank_zscore'], zscore)"
   ]
  },
  {
   "cell_type": "code",
   "execution_count": 37,
   "metadata": {},
   "outputs": [],
   "source": [
    "# binning will produce a normal distribution, whereas ranking will yield a uniform one\n",
    "bins = factors_smp_df.groupby(level=0)['rets_1d_demean'].apply(\n",
    "    lambda grp: pd.cut(grp, bins=np.linspace(start=grp.min(), stop=grp.max(), num=99), labels=False, include_lowest=True))\n",
    "mu = bins.groupby(level=0).transform(np.mean)\n",
    "std = bins.groupby(level=0).transform(np.std)\n",
    "bins_zscore = (bins - mu)/std"
   ]
  },
  {
   "cell_type": "code",
   "execution_count": 38,
   "metadata": {},
   "outputs": [
    {
     "data": {
      "image/png": "[encoded data removed]",
      "text/plain": [
       "<Figure size 432x288 with 1 Axes>"
      ]
     },
     "metadata": {
      "needs_background": "light"
     },
     "output_type": "display_data"
    }
   ],
   "source": [
    "ax = factors_smp_df.xs(level=0, key=factor_start_date)['rets_1d_demean_rank_zscore'].plot.hist(density=True, alpha=0.5, label='rank')\n",
    "bins_zscore.plot.hist(ax=ax, density=True, alpha=0.5, label='bins')\n",
    "plt.legend()\n",
    "plt.show()"
   ]
  },
  {
   "cell_type": "markdown",
   "metadata": {},
   "source": [
    "#### smoothing\n",
    "\n",
    "To reduce noise in alpha factor signal each asset factor can be smoothed by averaging a given window"
   ]
  },
  {
   "cell_type": "code",
   "execution_count": 39,
   "metadata": {},
   "outputs": [
    {
     "data": {
      "text/plain": [
       "2014-01-09 00:00:00+00:00   -0.661495\n",
       "Name: rets_1d_demean_rank_zscore, dtype: float64"
      ]
     },
     "execution_count": 39,
     "metadata": {},
     "output_type": "execute_result"
    }
   ],
   "source": [
    "smooth_day = factors_smp_df.xs(level=1, key=asset_idx).rolling(5)['rets_1d_demean_rank_zscore'].mean().iloc[4:5]\n",
    "smooth_day"
   ]
  },
  {
   "cell_type": "code",
   "execution_count": 40,
   "metadata": {},
   "outputs": [
    {
     "data": {
      "text/plain": [
       "-0.6614950926316518"
      ]
     },
     "execution_count": 40,
     "metadata": {},
     "output_type": "execute_result"
    }
   ],
   "source": [
    "factors_smp_df.loc[(smooth_day.index[0], asset_idx), 'rets_1d_demean_rank_zscore_smooth']"
   ]
  },
  {
   "cell_type": "code",
   "execution_count": 41,
   "metadata": {},
   "outputs": [
    {
     "name": "stdout",
     "output_type": "stream",
     "text": [
      "2014-01-03 00:00:00+00:00 2016-01-05 00:00:00+00:00\n",
      "<class 'pandas.core.frame.DataFrame'>\n",
      "MultiIndex: 244259 entries, (2014-01-03 00:00:00+00:00, Equity(0 [A])) to (2016-01-05 00:00:00+00:00, Equity(490 [ZTS]))\n",
      "Data columns (total 5 columns):\n",
      "Momentum_1YR             239517 non-null float64\n",
      "Smoothed_Momentum_1YR    239517 non-null float64\n",
      "rets_1d_raw              244247 non-null float64\n",
      "rets_1y_raw              241113 non-null float64\n",
      "sector_code              244259 non-null int64\n",
      "dtypes: float64(4), int64(1)\n",
      "memory usage: 10.3+ MB\n"
     ]
    }
   ],
   "source": [
    "print(factor_start_date, universe_end_date)\n",
    "factors_df.info()"
   ]
  },
  {
   "cell_type": "markdown",
   "metadata": {},
   "source": [
    "#### Verify factor computation: 1d returns"
   ]
  },
  {
   "cell_type": "code",
   "execution_count": 42,
   "metadata": {},
   "outputs": [],
   "source": [
    "ticker = prices_df.columns[0]\n",
    "dates = list(pd.date_range('2014-01-03', '2014-01-07'))"
   ]
  },
  {
   "cell_type": "code",
   "execution_count": 43,
   "metadata": {},
   "outputs": [
    {
     "data": {
      "text/plain": [
       "2014-01-03 00:00:00+00:00  Equity(0 [A])    0.001321\n",
       "2014-01-06 00:00:00+00:00  Equity(0 [A])    0.006951\n",
       "2014-01-07 00:00:00+00:00  Equity(0 [A])    0.005740\n",
       "Name: rets_1d_raw, dtype: float64"
      ]
     },
     "execution_count": 43,
     "metadata": {},
     "output_type": "execute_result"
    }
   ],
   "source": [
    "factors_df.loc[(dates, ticker) , 'rets_1d_raw']"
   ]
  },
  {
   "cell_type": "code",
   "execution_count": 44,
   "metadata": {},
   "outputs": [
    {
     "data": {
      "text/plain": [
       "2014-01-02 00:00:00+00:00    0.001321\n",
       "2014-01-03 00:00:00+00:00    0.006951\n",
       "2014-01-06 00:00:00+00:00    0.005740\n",
       "Freq: C, Name: Equity(0 [A]), dtype: float64"
      ]
     },
     "execution_count": 44,
     "metadata": {},
     "output_type": "execute_result"
    }
   ],
   "source": [
    "prices_df[ticker].pct_change(1)['2014-01-01': '2014-01-06']"
   ]
  },
  {
   "cell_type": "markdown",
   "metadata": {},
   "source": [
    "#### Check number of stocks in universe"
   ]
  },
  {
   "cell_type": "code",
   "execution_count": 45,
   "metadata": {},
   "outputs": [
    {
     "name": "stdout",
     "output_type": "stream",
     "text": [
      "stock universe number of stocks 490, and number of stocks for which we have factor values 490\n"
     ]
    }
   ],
   "source": [
    "# get list of stocks in our portfolio (tickers that identify each stock)\n",
    "assets = factors_df.index.levels[1].values.tolist()\n",
    "print(\"stock universe number of stocks {}, and number of stocks for which we have factor values {}\".format(len(universe_tickers), len(assets)))"
   ]
  },
  {
   "cell_type": "markdown",
   "metadata": {},
   "source": [
    "#### Compare to the factor data for a single stock"
   ]
  },
  {
   "cell_type": "code",
   "execution_count": 46,
   "metadata": {},
   "outputs": [],
   "source": [
    "stock_index_name = factors_df.index.get_level_values(1)[3] #just pick a stock; in this case, stock number 3 is AAPL\n",
    "single_stock_factor_df = factors_df[np.in1d(factors_df.index.get_level_values(1), [stock_index_name])]"
   ]
  },
  {
   "cell_type": "code",
   "execution_count": 47,
   "metadata": {},
   "outputs": [
    {
     "data": {
      "text/html": [
       "<div>\n",
       "<style scoped>\n",
       "    .dataframe tbody tr th:only-of-type {\n",
       "        vertical-align: middle;\n",
       "    }\n",
       "\n",
       "    .dataframe tbody tr th {\n",
       "        vertical-align: top;\n",
       "    }\n",
       "\n",
       "    .dataframe thead th {\n",
       "        text-align: right;\n",
       "    }\n",
       "</style>\n",
       "<table border=\"1\" class=\"dataframe\">\n",
       "  <thead>\n",
       "    <tr style=\"text-align: right;\">\n",
       "      <th></th>\n",
       "      <th></th>\n",
       "      <th>Momentum_1YR</th>\n",
       "      <th>Smoothed_Momentum_1YR</th>\n",
       "      <th>rets_1d_raw</th>\n",
       "      <th>rets_1y_raw</th>\n",
       "      <th>sector_code</th>\n",
       "    </tr>\n",
       "  </thead>\n",
       "  <tbody>\n",
       "    <tr>\n",
       "      <th>2014-01-03 00:00:00+00:00</th>\n",
       "      <th>Equity(3 [AAPL])</th>\n",
       "      <td>-1.484618</td>\n",
       "      <td>-1.475412</td>\n",
       "      <td>-0.014053</td>\n",
       "      <td>0.045903</td>\n",
       "      <td>1</td>\n",
       "    </tr>\n",
       "    <tr>\n",
       "      <th>2014-01-06 00:00:00+00:00</th>\n",
       "      <th>Equity(3 [AAPL])</th>\n",
       "      <td>-1.469846</td>\n",
       "      <td>-1.482926</td>\n",
       "      <td>-0.021972</td>\n",
       "      <td>0.052237</td>\n",
       "      <td>1</td>\n",
       "    </tr>\n",
       "    <tr>\n",
       "      <th>2016-01-04 00:00:00+00:00</th>\n",
       "      <th>Equity(3 [AAPL])</th>\n",
       "      <td>-0.494357</td>\n",
       "      <td>-0.541467</td>\n",
       "      <td>-0.019199</td>\n",
       "      <td>-0.020871</td>\n",
       "      <td>1</td>\n",
       "    </tr>\n",
       "    <tr>\n",
       "      <th>2016-01-05 00:00:00+00:00</th>\n",
       "      <th>Equity(3 [AAPL])</th>\n",
       "      <td>-0.306718</td>\n",
       "      <td>-0.495778</td>\n",
       "      <td>0.000855</td>\n",
       "      <td>0.008378</td>\n",
       "      <td>1</td>\n",
       "    </tr>\n",
       "  </tbody>\n",
       "</table>\n",
       "</div>"
      ],
      "text/plain": [
       "                                            Momentum_1YR  \\\n",
       "2014-01-03 00:00:00+00:00 Equity(3 [AAPL])     -1.484618   \n",
       "2014-01-06 00:00:00+00:00 Equity(3 [AAPL])     -1.469846   \n",
       "2016-01-04 00:00:00+00:00 Equity(3 [AAPL])     -0.494357   \n",
       "2016-01-05 00:00:00+00:00 Equity(3 [AAPL])     -0.306718   \n",
       "\n",
       "                                            Smoothed_Momentum_1YR  \\\n",
       "2014-01-03 00:00:00+00:00 Equity(3 [AAPL])              -1.475412   \n",
       "2014-01-06 00:00:00+00:00 Equity(3 [AAPL])              -1.482926   \n",
       "2016-01-04 00:00:00+00:00 Equity(3 [AAPL])              -0.541467   \n",
       "2016-01-05 00:00:00+00:00 Equity(3 [AAPL])              -0.495778   \n",
       "\n",
       "                                            rets_1d_raw  rets_1y_raw  \\\n",
       "2014-01-03 00:00:00+00:00 Equity(3 [AAPL])    -0.014053     0.045903   \n",
       "2014-01-06 00:00:00+00:00 Equity(3 [AAPL])    -0.021972     0.052237   \n",
       "2016-01-04 00:00:00+00:00 Equity(3 [AAPL])    -0.019199    -0.020871   \n",
       "2016-01-05 00:00:00+00:00 Equity(3 [AAPL])     0.000855     0.008378   \n",
       "\n",
       "                                            sector_code  \n",
       "2014-01-03 00:00:00+00:00 Equity(3 [AAPL])            1  \n",
       "2014-01-06 00:00:00+00:00 Equity(3 [AAPL])            1  \n",
       "2016-01-04 00:00:00+00:00 Equity(3 [AAPL])            1  \n",
       "2016-01-05 00:00:00+00:00 Equity(3 [AAPL])            1  "
      ]
     },
     "execution_count": 47,
     "metadata": {},
     "output_type": "execute_result"
    }
   ],
   "source": [
    "pd.concat([single_stock_factor_df.head(2), single_stock_factor_df.tail(2)], axis=0)"
   ]
  },
  {
   "cell_type": "code",
   "execution_count": 48,
   "metadata": {},
   "outputs": [
    {
     "data": {
      "text/plain": [
       "(505, 5)"
      ]
     },
     "execution_count": 48,
     "metadata": {},
     "output_type": "execute_result"
    }
   ],
   "source": [
    "single_stock_factor_df.shape"
   ]
  },
  {
   "cell_type": "markdown",
   "metadata": {},
   "source": [
    "# Factor Cleaning and  Alignment in Alphalens\n",
    "\n",
    "First of all, forward returns must be computed and then an evaluation technique that rely on that forward returns may be used. To achieve that, alphalens functionalities provides easy calculation, data alignment etc."
   ]
  },
  {
   "cell_type": "markdown",
   "metadata": {},
   "source": [
    "## Prepare data for use in alphalens: alpha factor and forward returns\n",
    "\n",
    "$$r^{forward}_{t} = r_{t+\\tau} - r_{t}$$\n",
    "\n",
    "Alphalens makes sure the data is formatted properly so that other neat alphalens functions can work with the data.\n",
    "For instance, it lines up the price data and factor data and calculates forward returns that are associated with each factor value.\n",
    "We'll use [alphalens.utils.get_clean_factor_and_forward_returns](https://github.com/quantopian/alphalens/blob/master/alphalens/utils.py)\n",
    "\n",
    "The source code describes what it's used for (I'm showing just the parameters that we'll use here):\n",
    "```python\n",
    "def get_clean_factor_and_forward_returns(factor,\n",
    "                                         prices,\n",
    "                                         ...\n",
    "                                         periods=(1, 5, 10),\n",
    "                                         ...\n",
    "                                         ):\n",
    "\n",
    "...\n",
    "```\n",
    "  \n",
    "* The factor is the (MultiIndex) Series containing the alpha-factor scores or raw values\n",
    "* The prices are the Series of prices for each stock on each date (the same dates as for the factor).  Note that if the period we give is greater than 1, we'll want to make sure to pad our price data by the period amount so that forward returns can be calculated.  Keep reading for details about \"periods\" parameter.\n",
    "* periods: this is the period for which we'll compute forward returns.  For instance, if prices and factor data have one data point per day (daily data), and if we wish to calculate the return of our factor-weighted portfolio every day, then the period would be 1, and input as a list [1].  If we wanted to calculate the weekly return, we would input [5].  If we wanted both daily and weekly, we could input [1,5].\n",
    "\n",
    "returns: multi-index Pandas dataframe containing the cleaned version of the data.\n",
    "* The 1D column represents the forward returns. \n",
    "* factor is the factor value or scores\n",
    "* factor_quantile is automatically added by alphalens"
   ]
  },
  {
   "cell_type": "code",
   "execution_count": 49,
   "metadata": {},
   "outputs": [
    {
     "name": "stderr",
     "output_type": "stream",
     "text": [
      "C:\\ProgramData\\Anaconda3\\envs\\quant-ai4trading\\lib\\site-packages\\ipykernel_launcher.py:2: FutureWarning: offset is deprecated. Use freq instead\n",
      "  \n",
      "C:\\ProgramData\\Anaconda3\\envs\\quant-ai4trading\\lib\\site-packages\\ipykernel_launcher.py:3: FutureWarning: offset is deprecated. Use freq instead\n",
      "  This is separate from the ipykernel package so we can avoid doing imports until\n"
     ]
    }
   ],
   "source": [
    "# forward returns underlying data\n",
    "pricing = get_pricing(\n",
    "        data_portal,\n",
    "        trading_calendar,\n",
    "        assets, #notice that we used assets instead of universe_tickers; in this example, they're the same\n",
    "        factor_start_date, # notice we're using the same start and end dates for when we calculated the factor\n",
    "        universe_end_date)"
   ]
  },
  {
   "cell_type": "code",
   "execution_count": 50,
   "metadata": {},
   "outputs": [
    {
     "name": "stdout",
     "output_type": "stream",
     "text": [
      "The factor names are Index(['Momentum_1YR', 'Smoothed_Momentum_1YR', 'rets_1d_raw', 'rets_1y_raw',\n",
      "       'sector_code'],\n",
      "      dtype='object')\n",
      "Formatting factor data for: Momentum_1YR\n",
      "Dropped 2.3% entries from factor data: 2.3% in forward returns computation and 0.0% in binning phase (set max_loss=0 to see potentially suppressed Exceptions).\n",
      "max_loss is 35.0%, not exceeded: OK!\n",
      "Formatting factor data for: Smoothed_Momentum_1YR\n",
      "Dropped 2.3% entries from factor data: 2.3% in forward returns computation and 0.0% in binning phase (set max_loss=0 to see potentially suppressed Exceptions).\n",
      "max_loss is 35.0%, not exceeded: OK!\n",
      "Formatting factor data for: rets_1d_raw\n",
      "Dropped 0.6% entries from factor data: 0.4% in forward returns computation and 0.2% in binning phase (set max_loss=0 to see potentially suppressed Exceptions).\n",
      "max_loss is 35.0%, not exceeded: OK!\n",
      "Formatting factor data for: rets_1y_raw\n",
      "Dropped 1.7% entries from factor data: 1.7% in forward returns computation and 0.0% in binning phase (set max_loss=0 to see potentially suppressed Exceptions).\n",
      "max_loss is 35.0%, not exceeded: OK!\n",
      "Formatting factor data for: sector_code\n",
      "Dropped 0.4% entries from factor data: 0.4% in forward returns computation and 0.0% in binning phase (set max_loss=0 to see potentially suppressed Exceptions).\n",
      "max_loss is 35.0%, not exceeded: OK!\n"
     ]
    }
   ],
   "source": [
    "factor_names = factors_df.columns\n",
    "print(\"The factor names are {}\".format(factor_names))\n",
    "\n",
    "# Use a dictionary to store each dataframe, one for each factor and its associated forward returns\n",
    "factor_data = {}\n",
    "ls_factor_return = []\n",
    "for factor_name in factor_names:\n",
    "    print(\"Formatting factor data for: \" + factor_name)\n",
    "    factor_data[factor_name] = al.utils.get_clean_factor_and_forward_returns(\n",
    "        factor=factors_df[factor_name],  # Select column from factor data\n",
    "        prices=pricing,  # prices to compute forward returns\n",
    "        periods=[1])  #1day forward returns\n",
    "    ls_factor_return.append(\n",
    "        factor_data[factor_name]['factor'].rename(factor_name)\n",
    "    )"
   ]
  },
  {
   "cell_type": "code",
   "execution_count": null,
   "metadata": {},
   "outputs": [],
   "source": []
  },
  {
   "cell_type": "markdown",
   "metadata": {},
   "source": [
    "## Verify the cleaned data"
   ]
  },
  {
   "cell_type": "markdown",
   "metadata": {},
   "source": [
    "## Factor Data"
   ]
  },
  {
   "cell_type": "code",
   "execution_count": 51,
   "metadata": {},
   "outputs": [
    {
     "data": {
      "text/plain": [
       "Index(['Momentum_1YR', 'Smoothed_Momentum_1YR', 'rets_1d_raw', 'rets_1y_raw',\n",
       "       'sector_code'],\n",
       "      dtype='object')"
      ]
     },
     "execution_count": 51,
     "metadata": {},
     "output_type": "execute_result"
    }
   ],
   "source": [
    "factor_names"
   ]
  },
  {
   "cell_type": "code",
   "execution_count": 52,
   "metadata": {},
   "outputs": [
    {
     "data": {
      "text/html": [
       "<div>\n",
       "<style scoped>\n",
       "    .dataframe tbody tr th:only-of-type {\n",
       "        vertical-align: middle;\n",
       "    }\n",
       "\n",
       "    .dataframe tbody tr th {\n",
       "        vertical-align: top;\n",
       "    }\n",
       "\n",
       "    .dataframe thead th {\n",
       "        text-align: right;\n",
       "    }\n",
       "</style>\n",
       "<table border=\"1\" class=\"dataframe\">\n",
       "  <thead>\n",
       "    <tr style=\"text-align: right;\">\n",
       "      <th></th>\n",
       "      <th></th>\n",
       "      <th>1D</th>\n",
       "      <th>factor</th>\n",
       "      <th>factor_quantile</th>\n",
       "    </tr>\n",
       "    <tr>\n",
       "      <th>date</th>\n",
       "      <th>asset</th>\n",
       "      <th></th>\n",
       "      <th></th>\n",
       "      <th></th>\n",
       "    </tr>\n",
       "  </thead>\n",
       "  <tbody>\n",
       "    <tr>\n",
       "      <th rowspan=\"2\" valign=\"top\">2014-01-06 00:00:00+00:00</th>\n",
       "      <th>Equity(0 [A])</th>\n",
       "      <td>0.015168</td>\n",
       "      <td>1.521549</td>\n",
       "      <td>5</td>\n",
       "    </tr>\n",
       "    <tr>\n",
       "      <th>Equity(1 [AAL])</th>\n",
       "      <td>-0.004649</td>\n",
       "      <td>1.573252</td>\n",
       "      <td>5</td>\n",
       "    </tr>\n",
       "    <tr>\n",
       "      <th rowspan=\"2\" valign=\"top\">2016-01-04 00:00:00+00:00</th>\n",
       "      <th>Equity(489 [ZION])</th>\n",
       "      <td>-0.010853</td>\n",
       "      <td>-0.212898</td>\n",
       "      <td>3</td>\n",
       "    </tr>\n",
       "    <tr>\n",
       "      <th>Equity(490 [ZTS])</th>\n",
       "      <td>0.015647</td>\n",
       "      <td>0.227332</td>\n",
       "      <td>3</td>\n",
       "    </tr>\n",
       "  </tbody>\n",
       "</table>\n",
       "</div>"
      ],
      "text/plain": [
       "                                                    1D    factor  \\\n",
       "date                      asset                                    \n",
       "2014-01-06 00:00:00+00:00 Equity(0 [A])       0.015168  1.521549   \n",
       "                          Equity(1 [AAL])    -0.004649  1.573252   \n",
       "2016-01-04 00:00:00+00:00 Equity(489 [ZION]) -0.010853 -0.212898   \n",
       "                          Equity(490 [ZTS])   0.015647  0.227332   \n",
       "\n",
       "                                              factor_quantile  \n",
       "date                      asset                                \n",
       "2014-01-06 00:00:00+00:00 Equity(0 [A])                     5  \n",
       "                          Equity(1 [AAL])                   5  \n",
       "2016-01-04 00:00:00+00:00 Equity(489 [ZION])                3  \n",
       "                          Equity(490 [ZTS])                 3  "
      ]
     },
     "execution_count": 52,
     "metadata": {},
     "output_type": "execute_result"
    }
   ],
   "source": [
    "factor_data[factor_names[0]]\n",
    "pd.concat([factor_data[factor_names[0]].head(2), factor_data[factor_names[0]].tail(2)], axis=0)"
   ]
  },
  {
   "cell_type": "code",
   "execution_count": 53,
   "metadata": {},
   "outputs": [
    {
     "data": {
      "text/html": [
       "<div>\n",
       "<style scoped>\n",
       "    .dataframe tbody tr th:only-of-type {\n",
       "        vertical-align: middle;\n",
       "    }\n",
       "\n",
       "    .dataframe tbody tr th {\n",
       "        vertical-align: top;\n",
       "    }\n",
       "\n",
       "    .dataframe thead th {\n",
       "        text-align: right;\n",
       "    }\n",
       "</style>\n",
       "<table border=\"1\" class=\"dataframe\">\n",
       "  <thead>\n",
       "    <tr style=\"text-align: right;\">\n",
       "      <th></th>\n",
       "      <th>count</th>\n",
       "      <th>mean</th>\n",
       "      <th>std</th>\n",
       "      <th>min</th>\n",
       "      <th>25%</th>\n",
       "      <th>50%</th>\n",
       "      <th>75%</th>\n",
       "      <th>max</th>\n",
       "    </tr>\n",
       "  </thead>\n",
       "  <tbody>\n",
       "    <tr>\n",
       "      <th>1D</th>\n",
       "      <td>469.0</td>\n",
       "      <td>7.378099e-03</td>\n",
       "      <td>0.012065</td>\n",
       "      <td>-0.055814</td>\n",
       "      <td>0.001236</td>\n",
       "      <td>0.006762</td>\n",
       "      <td>0.012448</td>\n",
       "      <td>0.096734</td>\n",
       "    </tr>\n",
       "    <tr>\n",
       "      <th>factor</th>\n",
       "      <td>469.0</td>\n",
       "      <td>9.468853e-18</td>\n",
       "      <td>1.001068</td>\n",
       "      <td>-1.728362</td>\n",
       "      <td>-0.864181</td>\n",
       "      <td>0.000000</td>\n",
       "      <td>0.864181</td>\n",
       "      <td>1.728362</td>\n",
       "    </tr>\n",
       "    <tr>\n",
       "      <th>factor_quantile</th>\n",
       "      <td>469.0</td>\n",
       "      <td>3.000000e+00</td>\n",
       "      <td>1.417232</td>\n",
       "      <td>1.000000</td>\n",
       "      <td>2.000000</td>\n",
       "      <td>3.000000</td>\n",
       "      <td>4.000000</td>\n",
       "      <td>5.000000</td>\n",
       "    </tr>\n",
       "  </tbody>\n",
       "</table>\n",
       "</div>"
      ],
      "text/plain": [
       "                 count          mean       std       min       25%       50%  \\\n",
       "1D               469.0  7.378099e-03  0.012065 -0.055814  0.001236  0.006762   \n",
       "factor           469.0  9.468853e-18  1.001068 -1.728362 -0.864181  0.000000   \n",
       "factor_quantile  469.0  3.000000e+00  1.417232  1.000000  2.000000  3.000000   \n",
       "\n",
       "                      75%       max  \n",
       "1D               0.012448  0.096734  \n",
       "factor           0.864181  1.728362  \n",
       "factor_quantile  4.000000  5.000000  "
      ]
     },
     "execution_count": 53,
     "metadata": {},
     "output_type": "execute_result"
    }
   ],
   "source": [
    "factor_data[factor_names[0]].loc['2014-01-06'].describe().T"
   ]
  },
  {
   "cell_type": "code",
   "execution_count": 54,
   "metadata": {},
   "outputs": [
    {
     "data": {
      "text/plain": [
       "Equity(3 [AAPL])"
      ]
     },
     "execution_count": 54,
     "metadata": {},
     "output_type": "execute_result"
    }
   ],
   "source": [
    "factor_data[factor_names[0]].index.get_level_values(1)[3]"
   ]
  },
  {
   "cell_type": "code",
   "execution_count": 55,
   "metadata": {},
   "outputs": [
    {
     "data": {
      "text/plain": [
       "Equity(3 [AAPL])"
      ]
     },
     "execution_count": 55,
     "metadata": {},
     "output_type": "execute_result"
    }
   ],
   "source": [
    "single_stock_factor_df.index.get_level_values(1)[3]"
   ]
  },
  {
   "cell_type": "code",
   "execution_count": 56,
   "metadata": {},
   "outputs": [
    {
     "data": {
      "text/plain": [
       "1D                -0.007163\n",
       "factor            -1.469846\n",
       "factor_quantile    1.000000\n",
       "Name: (2014-01-06 00:00:00+00:00, Equity(3 [AAPL])), dtype: float64"
      ]
     },
     "execution_count": 56,
     "metadata": {},
     "output_type": "execute_result"
    }
   ],
   "source": [
    "factor_data[factor_names[0]].loc[('2014-01-06', factor_data[factor_names[0]].index.get_level_values(1)[3])]"
   ]
  },
  {
   "cell_type": "code",
   "execution_count": 57,
   "metadata": {},
   "outputs": [
    {
     "data": {
      "text/html": [
       "<div>\n",
       "<style scoped>\n",
       "    .dataframe tbody tr th:only-of-type {\n",
       "        vertical-align: middle;\n",
       "    }\n",
       "\n",
       "    .dataframe tbody tr th {\n",
       "        vertical-align: top;\n",
       "    }\n",
       "\n",
       "    .dataframe thead th {\n",
       "        text-align: right;\n",
       "    }\n",
       "</style>\n",
       "<table border=\"1\" class=\"dataframe\">\n",
       "  <thead>\n",
       "    <tr style=\"text-align: right;\">\n",
       "      <th></th>\n",
       "      <th></th>\n",
       "      <th>Momentum_1YR</th>\n",
       "    </tr>\n",
       "  </thead>\n",
       "  <tbody>\n",
       "    <tr>\n",
       "      <th>2014-01-06 00:00:00+00:00</th>\n",
       "      <th>Equity(3 [AAPL])</th>\n",
       "      <td>-1.469846</td>\n",
       "    </tr>\n",
       "  </tbody>\n",
       "</table>\n",
       "</div>"
      ],
      "text/plain": [
       "                                            Momentum_1YR\n",
       "2014-01-06 00:00:00+00:00 Equity(3 [AAPL])     -1.469846"
      ]
     },
     "execution_count": 57,
     "metadata": {},
     "output_type": "execute_result"
    }
   ],
   "source": [
    "single_stock_factor_df.loc[('2014-01-06', single_stock_factor_df.index.get_level_values(1)[3]), factor_names[0:1]]"
   ]
  },
  {
   "cell_type": "markdown",
   "metadata": {},
   "source": [
    "## Forward Returns Data\n",
    "\n",
    "(p[t+1] - p[t]) / p[t]"
   ]
  },
  {
   "cell_type": "code",
   "execution_count": 141,
   "metadata": {},
   "outputs": [
    {
     "data": {
      "text/plain": [
       "1D                -0.007163\n",
       "factor            -1.469846\n",
       "factor_quantile    1.000000\n",
       "Name: (2014-01-06 00:00:00+00:00, Equity(3 [AAPL])), dtype: float64"
      ]
     },
     "execution_count": 141,
     "metadata": {},
     "output_type": "execute_result"
    }
   ],
   "source": [
    "factor_data[factor_names[0]].loc['2014-01-06', ex_ticker]"
   ]
  },
  {
   "cell_type": "code",
   "execution_count": 137,
   "metadata": {},
   "outputs": [
    {
     "data": {
      "text/plain": [
       "-0.007163343826512774"
      ]
     },
     "execution_count": 137,
     "metadata": {},
     "output_type": "execute_result"
    }
   ],
   "source": [
    "ex_forward_ret =  (ex_prices['2014-01-07'] - ex_prices['2014-01-06']) / ex_prices['2014-01-06']\n",
    "ex_forward_ret"
   ]
  },
  {
   "cell_type": "code",
   "execution_count": 139,
   "metadata": {},
   "outputs": [
    {
     "data": {
      "text/plain": [
       "0.007215027549568154"
      ]
     },
     "execution_count": 139,
     "metadata": {},
     "output_type": "execute_result"
    }
   ],
   "source": [
    "ex_prices.pct_change(-1)['2014-01-06']"
   ]
  },
  {
   "cell_type": "code",
   "execution_count": 142,
   "metadata": {},
   "outputs": [],
   "source": [
    "assert np.isclose(factor_data[factor_names[0]].loc[('2014-01-06', ex_ticker), '1D'].values[0],\n",
    "                 ex_forward_ret)"
   ]
  },
  {
   "cell_type": "code",
   "execution_count": null,
   "metadata": {},
   "outputs": [],
   "source": []
  }
 ],
 "metadata": {
  "kernelspec": {
   "display_name": "Python 3",
   "language": "python",
   "name": "python3"
  },
  "language_info": {
   "codemirror_mode": {
    "name": "ipython",
    "version": 3
   },
   "file_extension": ".py",
   "mimetype": "text/x-python",
   "name": "python",
   "nbconvert_exporter": "python",
   "pygments_lexer": "ipython3",
   "version": "3.5.6"
  },
  "toc-autonumbering": true
 },
 "nbformat": 4,
 "nbformat_minor": 4
}
