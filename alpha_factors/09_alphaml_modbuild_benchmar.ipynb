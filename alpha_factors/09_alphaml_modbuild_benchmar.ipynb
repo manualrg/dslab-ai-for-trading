{
 "cells": [
  {
   "cell_type": "markdown",
   "metadata": {},
   "source": [
    "<font size=\"6\"> **Model Building** </font>\n",
    "\n",
    "Apply advanced Random Forest like models to overcome the issues formerly detected. Decide which methodology is the best performant and fit the champion model"
   ]
  },
  {
   "cell_type": "code",
   "execution_count": 1,
   "metadata": {},
   "outputs": [],
   "source": [
    "%%capture\n",
    "%run 04_alphaml_feat_eng.ipynb"
   ]
  },
  {
   "cell_type": "code",
   "execution_count": 2,
   "metadata": {},
   "outputs": [
    {
     "name": "stdout",
     "output_type": "stream",
     "text": [
      "Model version:  v01\n"
     ]
    }
   ],
   "source": [
    "MODEL_VERSION = 'v01'\n",
    "print('Model version: ', MODEL_VERSION)"
   ]
  },
  {
   "cell_type": "code",
   "execution_count": 80,
   "metadata": {},
   "outputs": [],
   "source": [
    "import matplotlib.pyplot as plt\n",
    "import seaborn as sns\n",
    "\n",
    "from sklearn.ensemble import RandomForestClassifier\n",
    "from sklearn.linear_model import LogisticRegression\n",
    "from sklearn.model_selection import ParameterGrid"
   ]
  },
  {
   "cell_type": "code",
   "execution_count": 4,
   "metadata": {},
   "outputs": [],
   "source": [
    "from mle_quant_utils import mle_utils"
   ]
  },
  {
   "cell_type": "code",
   "execution_count": 5,
   "metadata": {},
   "outputs": [],
   "source": [
    "splits = cfg['models']['alpha_ml']['splits']\n",
    "split_col = cfg['models']['alpha_ml']['split_col']"
   ]
  },
  {
   "cell_type": "code",
   "execution_count": 6,
   "metadata": {},
   "outputs": [],
   "source": [
    "OUTPATH =  \"../data/\" + cfg['output']['main'] + \"/\" + cfg['output']['alpha_factors_ml']['folder'] + \"/\" + MODEL_VERSION +\"/\"\n",
    "OUTFILE1 = cfg['output']['alpha_factors_ml']['features']\n",
    "OUTFILE2 = cfg['output']['alpha_factors_ml']['targets']\n",
    "OUTFILE3 = cfg['output']['alpha_factors_ml']['model']"
   ]
  },
  {
   "cell_type": "code",
   "execution_count": 7,
   "metadata": {},
   "outputs": [],
   "source": [
    "%matplotlib inline\n",
    "plt.style.use('ggplot')\n",
    "plt.rcParams['figure.figsize'] = (16, 8)\n",
    "sns.set_context(\"talk\")"
   ]
  },
  {
   "cell_type": "markdown",
   "metadata": {},
   "source": [
    "# Data Preparation"
   ]
  },
  {
   "cell_type": "code",
   "execution_count": 8,
   "metadata": {},
   "outputs": [
    {
     "name": "stderr",
     "output_type": "stream",
     "text": [
      "C:\\Users\\manua\\Documents\\repos\\dslab_ai4trading\\alpha_factors\\mle_quant_utils\\quant_helper.py:54: FutureWarning: offset is deprecated. Use freq instead\n",
      "  end_dt = pd.Timestamp(end_date.strftime('%Y-%m-%d'), tz='UTC', offset='C')\n",
      "C:\\Users\\manua\\Documents\\repos\\dslab_ai4trading\\alpha_factors\\mle_quant_utils\\quant_helper.py:55: FutureWarning: offset is deprecated. Use freq instead\n",
      "  start_dt = pd.Timestamp(start_date.strftime('%Y-%m-%d'), tz='UTC', offset='C')\n"
     ]
    }
   ],
   "source": [
    "all_assets = all_factors.index.levels[1].values.tolist()\n",
    "all_pricing = quant_helper.get_pricing(\n",
    "    data_portal,\n",
    "    trading_calendar,\n",
    "    all_assets,\n",
    "    factor_start_date,\n",
    "    universe_end_date)"
   ]
  },
  {
   "cell_type": "markdown",
   "metadata": {},
   "source": [
    "# Data Partitioning"
   ]
  },
  {
   "cell_type": "code",
   "execution_count": 9,
   "metadata": {},
   "outputs": [],
   "source": [
    "X_train, X_valid, X_test, y_train, y_valid, y_test = mle_utils.train_valid_test_split(all_factors, targets_df[target_col],\n",
    "                                                                                      splits['train'], splits['valid'], splits['test'])"
   ]
  },
  {
   "cell_type": "code",
   "execution_count": null,
   "metadata": {},
   "outputs": [],
   "source": []
  },
  {
   "cell_type": "markdown",
   "metadata": {},
   "source": [
    "# Model Building"
   ]
  },
  {
   "cell_type": "code",
   "execution_count": 10,
   "metadata": {},
   "outputs": [],
   "source": [
    "results = pd.DataFrame(index=['rf_raw', 'rf_smp', 'rf_bag', 'rf_nov'],\n",
    "                       columns=['train_pmean', 'train_score', 'valid_pmean', 'valid_score', 'oob_score'])"
   ]
  },
  {
   "cell_type": "code",
   "execution_count": 11,
   "metadata": {},
   "outputs": [],
   "source": [
    "factor_names = ['Mean_Reversion_Sector_Neutral_Smoothed', 'Momentum_1YR_Smoothed', 'Overnight_Sentiment_Smoothed']"
   ]
  },
  {
   "cell_type": "markdown",
   "metadata": {},
   "source": [
    "## Raw Random Forest"
   ]
  },
  {
   "cell_type": "code",
   "execution_count": 12,
   "metadata": {},
   "outputs": [
    {
     "name": "stdout",
     "output_type": "stream",
     "text": [
      "['Mean_Reversion_Sector_Neutral_Smoothed', 'Momentum_1YR_Smoothed', 'Overnight_Sentiment_Smoothed', 'adv_120d', 'adv_20d', 'dispersion_120d', 'dispersion_20d', 'market_vol_120d', 'market_vol_20d', 'volatility_120d', 'volatility_20d', 'is_January', 'is_December', 'month_start', 'month_end', 'qtr_end', 'qtr_start', 'sector_code_-1', 'sector_code_0', 'sector_code_1', 'sector_code_2', 'sector_code_3', 'sector_code_4', 'sector_code_5', 'sector_code_6', 'sector_code_7', 'sector_code_8', 'sector_code_9', 'sector_code_10', 'qtr_1', 'qtr_2', 'qtr_3', 'qtr_4', 'weekday_0', 'weekday_1', 'weekday_2', 'weekday_3', 'weekday_4']\n"
     ]
    }
   ],
   "source": [
    "print(features)"
   ]
  },
  {
   "cell_type": "code",
   "execution_count": 13,
   "metadata": {},
   "outputs": [],
   "source": [
    "n_days = 10\n",
    "n_stocks = 500\n",
    "clf_random_state = 123\n",
    "\n",
    "rawrf_clf_parameters = ParameterGrid({\n",
    "    'min_samples_leaf': [n_stocks * n_days],\n",
    "    'n_estimators': [100],\n",
    "    'criterion': ['entropy'],\n",
    "    'oob_score': [True],\n",
    "    'n_jobs': [-1],\n",
    "    'random_state': [clf_random_state]})"
   ]
  },
  {
   "cell_type": "code",
   "execution_count": 14,
   "metadata": {},
   "outputs": [
    {
     "name": "stderr",
     "output_type": "stream",
     "text": [
      "Training Models: 100%|██████████| 1/1 [00:09<00:00,  9.12s/Model]\n"
     ]
    }
   ],
   "source": [
    "rf_clf_raw = RandomForestClassifier()\n",
    "rf_raw_models, rf_raw_results = mle_utils.rf_train_val_grid_search(rf_clf_raw, rawrf_clf_parameters, X_train, y_train, X_valid, y_valid)"
   ]
  },
  {
   "cell_type": "code",
   "execution_count": 15,
   "metadata": {},
   "outputs": [],
   "source": [
    "_ = {'ml_alpha': None, \n",
    "               'factor_returns': None,\n",
    "               'sharpe_ratio': None,\n",
    "               'factor_cum_returns': None,\n",
    "               'factor_fra': None}"
   ]
  },
  {
   "cell_type": "code",
   "execution_count": 16,
   "metadata": {},
   "outputs": [
    {
     "name": "stdout",
     "output_type": "stream",
     "text": [
      "Cleaning Data...\n",
      "\n",
      "Dropped 0.2% entries from factor data: 0.2% in forward returns computation and 0.0% in binning phase (set max_loss=0 to see potentially suppressed Exceptions).\n",
      "max_loss is 35.0%, not exceeded: OK!\n",
      "Dropped 0.2% entries from factor data: 0.2% in forward returns computation and 0.0% in binning phase (set max_loss=0 to see potentially suppressed Exceptions).\n",
      "max_loss is 35.0%, not exceeded: OK!\n",
      "Dropped 0.2% entries from factor data: 0.2% in forward returns computation and 0.0% in binning phase (set max_loss=0 to see potentially suppressed Exceptions).\n",
      "max_loss is 35.0%, not exceeded: OK!\n",
      "Dropped 0.2% entries from factor data: 0.2% in forward returns computation and 0.0% in binning phase (set max_loss=0 to see potentially suppressed Exceptions).\n",
      "max_loss is 35.0%, not exceeded: OK!\n",
      "\n",
      "-----------------------\n",
      "\n"
     ]
    }
   ],
   "source": [
    "train_ml_alpha, train_factor_returns, train_sharpe_ratio, train_factor_cum_rets, train_factor_fra = \\\n",
    "    quant_factors.mlfactor_evaluation(all_factors, X_train, rf_raw_models[0], factor_names, all_pricing, quantiles=None, bins=5, periods = 5)\n",
    "rf_raw_train = {'ml_alpha':train_ml_alpha, \n",
    "               'factor_returns':train_factor_returns,\n",
    "               'sharpe_ratio': train_sharpe_ratio,\n",
    "               'factor_cum_returns': train_factor_cum_rets,\n",
    "               'factor_fra': train_factor_fra}"
   ]
  },
  {
   "cell_type": "code",
   "execution_count": 17,
   "metadata": {},
   "outputs": [
    {
     "name": "stdout",
     "output_type": "stream",
     "text": [
      "Cleaning Data...\n",
      "\n",
      "Dropped 0.0% entries from factor data: 0.0% in forward returns computation and 0.0% in binning phase (set max_loss=0 to see potentially suppressed Exceptions).\n",
      "max_loss is 35.0%, not exceeded: OK!\n",
      "Dropped 0.0% entries from factor data: 0.0% in forward returns computation and 0.0% in binning phase (set max_loss=0 to see potentially suppressed Exceptions).\n",
      "max_loss is 35.0%, not exceeded: OK!\n",
      "Dropped 0.0% entries from factor data: 0.0% in forward returns computation and 0.0% in binning phase (set max_loss=0 to see potentially suppressed Exceptions).\n",
      "max_loss is 35.0%, not exceeded: OK!\n",
      "Dropped 0.0% entries from factor data: 0.0% in forward returns computation and 0.0% in binning phase (set max_loss=0 to see potentially suppressed Exceptions).\n",
      "max_loss is 35.0%, not exceeded: OK!\n",
      "\n",
      "-----------------------\n",
      "\n"
     ]
    }
   ],
   "source": [
    "valid_ml_alpha, valid_factor_returns, valid_sharpe_ratio, valid_factor_cum_rets, valid_factor_fra = \\\n",
    "    quant_factors.mlfactor_evaluation(all_factors, X_valid, rf_raw_models[0], factor_names, all_pricing, quantiles=None, bins=5, periods = 5)\n",
    "rf_raw_valid = {'ml_alpha': valid_ml_alpha, \n",
    "               'factor_returns': valid_factor_returns,\n",
    "               'sharpe_ratio': valid_sharpe_ratio,\n",
    "               'factor_cum_returns': valid_factor_cum_rets,\n",
    "               'factor_fra': valid_factor_fra}"
   ]
  },
  {
   "cell_type": "markdown",
   "metadata": {},
   "source": [
    "## NonOverlapping Voter Random Forest"
   ]
  },
  {
   "cell_type": "code",
   "execution_count": 18,
   "metadata": {},
   "outputs": [
    {
     "name": "stdout",
     "output_type": "stream",
     "text": [
      "['Mean_Reversion_Sector_Neutral_Smoothed', 'Momentum_1YR_Smoothed', 'Overnight_Sentiment_Smoothed', 'adv_120d', 'adv_20d', 'dispersion_120d', 'dispersion_20d', 'market_vol_120d', 'market_vol_20d', 'volatility_120d', 'volatility_20d', 'is_January', 'is_December', 'month_start', 'month_end', 'qtr_end', 'qtr_start', 'sector_code_-1', 'sector_code_0', 'sector_code_1', 'sector_code_2', 'sector_code_3', 'sector_code_4', 'sector_code_5', 'sector_code_6', 'sector_code_7', 'sector_code_8', 'sector_code_9', 'sector_code_10', 'qtr_1', 'qtr_2', 'qtr_3', 'qtr_4']\n"
     ]
    }
   ],
   "source": [
    "nov_features = [x for x in features if not x.startswith('weekday_')]\n",
    "print(nov_features)"
   ]
  },
  {
   "cell_type": "code",
   "execution_count": 19,
   "metadata": {},
   "outputs": [],
   "source": [
    "novrf_clf_parameters = ParameterGrid({\n",
    "    'min_samples_leaf': [n_stocks * n_days],\n",
    "    'n_estimators': [100],\n",
    "    'criterion': ['entropy'],\n",
    "    'max_features': [0.75],\n",
    "    'oob_score': [True],\n",
    "    'n_jobs': [-1],\n",
    "    'random_state': [clf_random_state]})"
   ]
  },
  {
   "cell_type": "code",
   "execution_count": 20,
   "metadata": {},
   "outputs": [
    {
     "name": "stderr",
     "output_type": "stream",
     "text": [
      "Training Models: 100%|██████████| 1/1 [00:14<00:00, 14.87s/Model]\n"
     ]
    }
   ],
   "source": [
    "rf_nov_models, rf_nov_results = mle_utils.votrf_train_val_grid_search(novrf_clf_parameters,\n",
    "                                                                        X_train[nov_features],\n",
    "                                                                        y_train,\n",
    "                                                                        X_valid[nov_features], y_valid, 4)"
   ]
  },
  {
   "cell_type": "code",
   "execution_count": 21,
   "metadata": {},
   "outputs": [
    {
     "name": "stdout",
     "output_type": "stream",
     "text": [
      "Cleaning Data...\n",
      "\n",
      "Dropped 0.2% entries from factor data: 0.2% in forward returns computation and 0.0% in binning phase (set max_loss=0 to see potentially suppressed Exceptions).\n",
      "max_loss is 35.0%, not exceeded: OK!\n",
      "Dropped 0.2% entries from factor data: 0.2% in forward returns computation and 0.0% in binning phase (set max_loss=0 to see potentially suppressed Exceptions).\n",
      "max_loss is 35.0%, not exceeded: OK!\n",
      "Dropped 0.2% entries from factor data: 0.2% in forward returns computation and 0.0% in binning phase (set max_loss=0 to see potentially suppressed Exceptions).\n",
      "max_loss is 35.0%, not exceeded: OK!\n",
      "Dropped 0.2% entries from factor data: 0.2% in forward returns computation and 0.0% in binning phase (set max_loss=0 to see potentially suppressed Exceptions).\n",
      "max_loss is 35.0%, not exceeded: OK!\n",
      "\n",
      "-----------------------\n",
      "\n"
     ]
    }
   ],
   "source": [
    "train_ml_alpha, train_factor_returns, train_sharpe_ratio, train_factor_cum_rets, train_factor_fra = \\\n",
    "    quant_factors.mlfactor_evaluation(all_factors, X_train[nov_features], rf_nov_models[0], factor_names, all_pricing, quantiles=None, bins=5, periods = 5)\n",
    "rf_nov_train = {'ml_alpha': train_ml_alpha, \n",
    "               'factor_returns':train_factor_returns,\n",
    "               'sharpe_ratio': train_sharpe_ratio,\n",
    "               'factor_cum_returns': train_factor_cum_rets,\n",
    "               'factor_fra': train_factor_fra}"
   ]
  },
  {
   "cell_type": "code",
   "execution_count": 22,
   "metadata": {},
   "outputs": [
    {
     "name": "stdout",
     "output_type": "stream",
     "text": [
      "Cleaning Data...\n",
      "\n",
      "Dropped 0.0% entries from factor data: 0.0% in forward returns computation and 0.0% in binning phase (set max_loss=0 to see potentially suppressed Exceptions).\n",
      "max_loss is 35.0%, not exceeded: OK!\n",
      "Dropped 0.0% entries from factor data: 0.0% in forward returns computation and 0.0% in binning phase (set max_loss=0 to see potentially suppressed Exceptions).\n",
      "max_loss is 35.0%, not exceeded: OK!\n",
      "Dropped 0.0% entries from factor data: 0.0% in forward returns computation and 0.0% in binning phase (set max_loss=0 to see potentially suppressed Exceptions).\n",
      "max_loss is 35.0%, not exceeded: OK!\n",
      "Dropped 0.0% entries from factor data: 0.0% in forward returns computation and 0.0% in binning phase (set max_loss=0 to see potentially suppressed Exceptions).\n",
      "max_loss is 35.0%, not exceeded: OK!\n",
      "\n",
      "-----------------------\n",
      "\n"
     ]
    }
   ],
   "source": [
    "valid_ml_alpha, valid_factor_returns, valid_sharpe_ratio, valid_factor_cum_rets, valid_factor_fra = \\\n",
    "    quant_factors.mlfactor_evaluation(all_factors, X_valid[nov_features], rf_nov_models[0], factor_names, all_pricing, quantiles=None, bins=5, periods = 5)\n",
    "rf_nov_valid = {'ml_alpha': valid_ml_alpha, \n",
    "               'factor_returns': valid_factor_returns,\n",
    "               'sharpe_ratio': valid_sharpe_ratio,\n",
    "               'factor_cum_returns': valid_factor_cum_rets,\n",
    "               'factor_fra': valid_factor_fra}"
   ]
  },
  {
   "cell_type": "markdown",
   "metadata": {},
   "source": [
    "## Logistic regression"
   ]
  },
  {
   "cell_type": "code",
   "execution_count": 109,
   "metadata": {},
   "outputs": [],
   "source": [
    "logreg_clf_parameters = ParameterGrid({\n",
    "    'solver': ['lbfgs'],\n",
    "    'fit_intercept': [False],\n",
    "    'C': [0.0001, .001, 0.01, 0.1, 1., 10],\n",
    "    'n_jobs': [-1],\n",
    "    'random_state': [clf_random_state]})"
   ]
  },
  {
   "cell_type": "code",
   "execution_count": 110,
   "metadata": {},
   "outputs": [
    {
     "name": "stderr",
     "output_type": "stream",
     "text": [
      "Training Models: 100%|██████████| 6/6 [00:48<00:00,  8.14s/Model]\n"
     ]
    }
   ],
   "source": [
    "logreg_raw = LogisticRegression()\n",
    "logreg_raw_models, logreg_raw_results = mle_utils.rf_train_val_grid_search(logreg_raw, logreg_clf_parameters, X_train, y_train, X_valid, y_valid)"
   ]
  },
  {
   "cell_type": "code",
   "execution_count": 124,
   "metadata": {},
   "outputs": [
    {
     "name": "stdout",
     "output_type": "stream",
     "text": [
      "Cleaning Data...\n",
      "\n",
      "Dropped 0.2% entries from factor data: 0.2% in forward returns computation and 0.0% in binning phase (set max_loss=0 to see potentially suppressed Exceptions).\n",
      "max_loss is 35.0%, not exceeded: OK!\n",
      "Dropped 0.2% entries from factor data: 0.2% in forward returns computation and 0.0% in binning phase (set max_loss=0 to see potentially suppressed Exceptions).\n",
      "max_loss is 35.0%, not exceeded: OK!\n",
      "Dropped 0.2% entries from factor data: 0.2% in forward returns computation and 0.0% in binning phase (set max_loss=0 to see potentially suppressed Exceptions).\n",
      "max_loss is 35.0%, not exceeded: OK!\n",
      "Dropped 0.2% entries from factor data: 0.2% in forward returns computation and 0.0% in binning phase (set max_loss=0 to see potentially suppressed Exceptions).\n",
      "max_loss is 35.0%, not exceeded: OK!\n",
      "\n",
      "-----------------------\n",
      "\n"
     ]
    }
   ],
   "source": [
    "train_ml_alpha, train_factor_returns, train_sharpe_ratio, train_factor_cum_rets, train_factor_fra = \\\n",
    "    quant_factors.mlfactor_evaluation(all_factors, X_train, logreg_raw_models[0], factor_names, all_pricing, quantiles=None, bins=5, periods = 5)\n",
    "logreg_raw_train = {'ml_alpha': train_ml_alpha, \n",
    "               'factor_returns':train_factor_returns,\n",
    "               'sharpe_ratio': train_sharpe_ratio,\n",
    "               'factor_cum_returns': train_factor_cum_rets,\n",
    "               'factor_fra': train_factor_fra}"
   ]
  },
  {
   "cell_type": "code",
   "execution_count": 125,
   "metadata": {},
   "outputs": [
    {
     "name": "stdout",
     "output_type": "stream",
     "text": [
      "Cleaning Data...\n",
      "\n",
      "Dropped 0.0% entries from factor data: 0.0% in forward returns computation and 0.0% in binning phase (set max_loss=0 to see potentially suppressed Exceptions).\n",
      "max_loss is 35.0%, not exceeded: OK!\n",
      "Dropped 0.0% entries from factor data: 0.0% in forward returns computation and 0.0% in binning phase (set max_loss=0 to see potentially suppressed Exceptions).\n",
      "max_loss is 35.0%, not exceeded: OK!\n",
      "Dropped 0.0% entries from factor data: 0.0% in forward returns computation and 0.0% in binning phase (set max_loss=0 to see potentially suppressed Exceptions).\n",
      "max_loss is 35.0%, not exceeded: OK!\n",
      "Dropped 0.0% entries from factor data: 0.0% in forward returns computation and 0.0% in binning phase (set max_loss=0 to see potentially suppressed Exceptions).\n",
      "max_loss is 35.0%, not exceeded: OK!\n",
      "\n",
      "-----------------------\n",
      "\n"
     ]
    }
   ],
   "source": [
    "valid_ml_alpha, valid_factor_returns, valid_sharpe_ratio, valid_factor_cum_rets, valid_factor_fra = \\\n",
    "    quant_factors.mlfactor_evaluation(all_factors, X_valid, logreg_raw_models[0], factor_names, all_pricing, quantiles=None, bins=5, periods = 5)\n",
    "logreg_raw_valid = {'ml_alpha': valid_ml_alpha, \n",
    "               'factor_returns': valid_factor_returns,\n",
    "               'sharpe_ratio': valid_sharpe_ratio,\n",
    "               'factor_cum_returns': valid_factor_cum_rets,\n",
    "               'factor_fra': valid_factor_fra}"
   ]
  },
  {
   "cell_type": "markdown",
   "metadata": {},
   "source": [
    "## NonOverlapping Logistic Regression"
   ]
  },
  {
   "cell_type": "code",
   "execution_count": 96,
   "metadata": {},
   "outputs": [],
   "source": [
    "logreg_clf_parameters = ParameterGrid({\n",
    "    'solver': ['lbfgs'],\n",
    "    'fit_intercept': [False],\n",
    "    'C': [0.0001, .001, 0.01, 0.1, 1., 10],\n",
    "    'n_jobs': [-1],\n",
    "    'random_state': [clf_random_state]})"
   ]
  },
  {
   "cell_type": "code",
   "execution_count": 97,
   "metadata": {},
   "outputs": [
    {
     "name": "stderr",
     "output_type": "stream",
     "text": [
      "Training Models: 100%|██████████| 6/6 [00:59<00:00,  9.85s/Model]\n"
     ]
    }
   ],
   "source": [
    "clf_base = LogisticRegression()\n",
    "logreg_nov_models,  logreg_nov_results = mle_utils.vot_train_val_grid_search(clf_base, logreg_clf_parameters,\n",
    "                                                                        X_train[nov_features],\n",
    "                                                                        y_train,\n",
    "                                                                        X_valid[nov_features], y_valid, 4)"
   ]
  },
  {
   "cell_type": "code",
   "execution_count": 99,
   "metadata": {},
   "outputs": [
    {
     "data": {
      "text/plain": [
       "NoOverlapVoter(estimator=None, n_skip_samples=4, voting='soft')"
      ]
     },
     "execution_count": 99,
     "metadata": {},
     "output_type": "execute_result"
    }
   ],
   "source": [
    "logreg_nov_models[0]"
   ]
  },
  {
   "cell_type": "code",
   "execution_count": 33,
   "metadata": {},
   "outputs": [
    {
     "data": {
      "text/plain": [
       "array([[ 3.66580859e-02,  3.66518738e-04,  3.77186888e-02,\n",
       "         3.86414935e-02, -2.47973808e-02,  3.76621297e-02,\n",
       "        -2.13970498e-02,  2.90150210e-01,  8.38966305e+00,\n",
       "        -1.97636216e-02, -2.64985730e-02, -7.37523069e-01,\n",
       "         5.48623706e-01, -6.16236312e-01,  3.61673261e-01,\n",
       "        -1.55507377e+00, -9.96354355e-02, -2.93969472e-01,\n",
       "        -1.05578333e-01, -1.34021658e-01, -8.41779798e-02,\n",
       "        -1.48327652e-01, -8.69620454e-02, -1.84510510e-01,\n",
       "        -1.14292085e-01, -1.65464168e-01, -2.23575745e-01,\n",
       "        -2.54455101e-01, -2.87427677e-01, -2.35128213e-01,\n",
       "        -6.17255807e-01, -6.80184536e-01, -5.50193869e-01]])"
      ]
     },
     "execution_count": 33,
     "metadata": {},
     "output_type": "execute_result"
    }
   ],
   "source": [
    "logreg_nov_models[0].estimators_[0].coef_"
   ]
  },
  {
   "cell_type": "code",
   "execution_count": 72,
   "metadata": {},
   "outputs": [
    {
     "name": "stderr",
     "output_type": "stream",
     "text": [
      "C:\\ProgramData\\Anaconda3\\envs\\quant-ai4trading\\lib\\site-packages\\sklearn\\linear_model\\logistic.py:432: FutureWarning: Default solver will be changed to 'lbfgs' in 0.22. Specify a solver to silence this warning.\n",
      "  FutureWarning)\n"
     ]
    },
    {
     "data": {
      "text/plain": [
       "array([[ 3.72196442e-02,  2.71159103e-04,  3.80840786e-02,\n",
       "         4.65635380e-02, -3.24963434e-02,  3.79567017e-02,\n",
       "        -3.94589143e-01,  1.24406845e+00,  9.51212437e+00,\n",
       "        -2.08135221e-02, -2.54669821e-02, -6.11397407e-01,\n",
       "         1.84862365e-01, -5.43561230e-01,  2.69096779e-01,\n",
       "        -1.71895202e+00, -7.30776431e-01, -1.65768914e-01,\n",
       "         2.36255049e-02, -3.62232637e-03,  4.46845998e-02,\n",
       "        -1.79278641e-02,  4.25199996e-02, -5.47137486e-02,\n",
       "         1.52683703e-02, -4.81468130e-02, -9.54436307e-02,\n",
       "        -1.28983201e-01, -1.58237355e-01,  1.98748345e-01,\n",
       "        -5.70313331e-01, -1.75148892e-01, -3.15009495e-05,\n",
       "        -4.75799122e-04,  2.97865201e-01,  3.11997099e-02,\n",
       "        -5.61401158e-01, -3.13933333e-01]])"
      ]
     },
     "execution_count": 72,
     "metadata": {},
     "output_type": "execute_result"
    }
   ],
   "source": [
    "X_train_smp, y_train_smp = mle_utils.non_overlapping_samples(X_train, y_train, 4)\n",
    "LogisticRegression().fit(X_train_smp, y_train_smp).coef_"
   ]
  },
  {
   "cell_type": "code",
   "execution_count": 34,
   "metadata": {},
   "outputs": [
    {
     "data": {
      "text/plain": [
       "array([[ 2.01409651e-02,  1.43647883e-02,  3.80734827e-02,\n",
       "         8.42887064e-02, -1.01871463e-01,  1.69329313e-01,\n",
       "         6.46466732e-01,  2.82952972e+00,  6.88544926e+00,\n",
       "        -2.84853078e-02, -1.81987151e-03,  1.89187937e-01,\n",
       "         6.00774478e-01,  1.05678944e+00, -1.56328126e-01,\n",
       "         6.32151050e-02,  0.00000000e+00, -2.72448065e-01,\n",
       "        -2.16066701e-01, -1.63668154e-01, -2.15139118e-01,\n",
       "        -2.04575839e-01, -3.28916776e-01, -1.29049765e-01,\n",
       "        -1.41660446e-01, -2.02307089e-01, -1.63041116e-01,\n",
       "        -1.76492552e-01, -2.81761350e-01, -6.47400475e-01,\n",
       "        -6.61367286e-01, -6.11690453e-01, -5.74668758e-01]])"
      ]
     },
     "execution_count": 34,
     "metadata": {},
     "output_type": "execute_result"
    }
   ],
   "source": [
    "logreg_nov_models[0].estimators_[1].coef_"
   ]
  },
  {
   "cell_type": "code",
   "execution_count": 100,
   "metadata": {},
   "outputs": [],
   "source": [
    "pv = logreg_nov_models[0].predict_proba(X_valid[nov_features])[:,1]"
   ]
  },
  {
   "cell_type": "code",
   "execution_count": 101,
   "metadata": {},
   "outputs": [
    {
     "data": {
      "text/plain": [
       "array([0.52729607, 0.49824288, 0.50632382, ..., 0.52349126, 0.51586643,\n",
       "       0.51980139])"
      ]
     },
     "execution_count": 101,
     "metadata": {},
     "output_type": "execute_result"
    }
   ],
   "source": [
    "p1 = logreg_nov_models[0].estimators_[0].predict_proba(X_valid[nov_features])[:,1]\n",
    "p2 = logreg_nov_models[0].estimators_[1].predict_proba(X_valid[nov_features])[:,1]\n",
    "p3 = logreg_nov_models[0].estimators_[2].predict_proba(X_valid[nov_features])[:,1]\n",
    "p4 = logreg_nov_models[0].estimators_[3].predict_proba(X_valid[nov_features])[:,1]\n",
    "p5 = logreg_nov_models[0].estimators_[4].predict_proba(X_valid[nov_features])[:,1]\n",
    "p1"
   ]
  },
  {
   "cell_type": "code",
   "execution_count": 102,
   "metadata": {},
   "outputs": [
    {
     "data": {
      "text/plain": [
       "array([[0.52729607, 0.52915706, 0.5254842 , 0.5196667 , 0.52339305],\n",
       "       [0.49824288, 0.518756  , 0.5121803 , 0.50122412, 0.50702282],\n",
       "       [0.50632382, 0.5274446 , 0.52395552, 0.52372492, 0.51602196],\n",
       "       ...,\n",
       "       [0.52349126, 0.52520656, 0.52030579, 0.5155981 , 0.53012381],\n",
       "       [0.51586643, 0.52873936, 0.52279978, 0.52222054, 0.52930331],\n",
       "       [0.51980139, 0.52941745, 0.5231621 , 0.52120685, 0.53473026]])"
      ]
     },
     "execution_count": 102,
     "metadata": {},
     "output_type": "execute_result"
    }
   ],
   "source": [
    "pmat = np.vstack([p1, p2, p3, p4 ,p5]).T\n",
    "pmat"
   ]
  },
  {
   "cell_type": "code",
   "execution_count": 103,
   "metadata": {},
   "outputs": [
    {
     "data": {
      "text/plain": [
       "array([0.52499942, 0.50748522, 0.51949416, ..., 0.5229451 , 0.52378588,\n",
       "       0.52566361])"
      ]
     },
     "execution_count": 103,
     "metadata": {},
     "output_type": "execute_result"
    }
   ],
   "source": [
    "pv"
   ]
  },
  {
   "cell_type": "code",
   "execution_count": 104,
   "metadata": {},
   "outputs": [
    {
     "data": {
      "text/plain": [
       "array([0.52499942, 0.50748522, 0.51949416, ..., 0.5229451 , 0.52378588,\n",
       "       0.52566361])"
      ]
     },
     "execution_count": 104,
     "metadata": {},
     "output_type": "execute_result"
    }
   ],
   "source": [
    "pmat.mean(axis=1)"
   ]
  },
  {
   "cell_type": "code",
   "execution_count": 108,
   "metadata": {},
   "outputs": [
    {
     "data": {
      "text/plain": [
       "LogisticRegression(C=0.01, class_weight=None, dual=False, fit_intercept=False,\n",
       "          intercept_scaling=1, max_iter=100, multi_class='warn', n_jobs=-1,\n",
       "          penalty='l2', random_state=123, solver='lbfgs', tol=0.0001,\n",
       "          verbose=0, warm_start=False)"
      ]
     },
     "execution_count": 108,
     "metadata": {},
     "output_type": "execute_result"
    }
   ],
   "source": [
    "logreg_raw_models[0]"
   ]
  },
  {
   "cell_type": "code",
   "execution_count": 107,
   "metadata": {},
   "outputs": [
    {
     "name": "stderr",
     "output_type": "stream",
     "text": [
      "C:\\ProgramData\\Anaconda3\\envs\\quant-ai4trading\\lib\\site-packages\\matplotlib\\axes\\_axes.py:6499: MatplotlibDeprecationWarning: \n",
      "The 'normed' kwarg was deprecated in Matplotlib 2.1 and will be removed in 3.1. Use 'density' instead.\n",
      "  alternative=\"'density'\", removal=\"3.1\")\n"
     ]
    },
    {
     "data": {
      "text/plain": [
       "<matplotlib.axes._subplots.AxesSubplot at 0x2c53c998160>"
      ]
     },
     "execution_count": 107,
     "metadata": {},
     "output_type": "execute_result"
    },
    {
     "data": {
      "image/png": "[encoded data removed]",
      "text/plain": [
       "<Figure size 1152x576 with 1 Axes>"
      ]
     },
     "metadata": {},
     "output_type": "display_data"
    }
   ],
   "source": [
    "sns.distplot(logreg_raw_models[0].predict_proba(X_valid)[:,1])"
   ]
  },
  {
   "cell_type": "code",
   "execution_count": 112,
   "metadata": {},
   "outputs": [
    {
     "name": "stderr",
     "output_type": "stream",
     "text": [
      "C:\\ProgramData\\Anaconda3\\envs\\quant-ai4trading\\lib\\site-packages\\matplotlib\\axes\\_axes.py:6499: MatplotlibDeprecationWarning: \n",
      "The 'normed' kwarg was deprecated in Matplotlib 2.1 and will be removed in 3.1. Use 'density' instead.\n",
      "  alternative=\"'density'\", removal=\"3.1\")\n"
     ]
    },
    {
     "data": {
      "text/plain": [
       "<matplotlib.axes._subplots.AxesSubplot at 0x2c537ce1860>"
      ]
     },
     "execution_count": 112,
     "metadata": {},
     "output_type": "execute_result"
    },
    {
     "data": {
      "image/png": "[encoded data removed]",
      "text/plain": [
       "<Figure size 1152x576 with 1 Axes>"
      ]
     },
     "metadata": {},
     "output_type": "display_data"
    }
   ],
   "source": [
    "sns.distplot(p1)"
   ]
  },
  {
   "cell_type": "code",
   "execution_count": 111,
   "metadata": {},
   "outputs": [
    {
     "data": {
      "image/png": "[encoded data removed]",
      "text/plain": [
       "<Figure size 1152x576 with 1 Axes>"
      ]
     },
     "metadata": {},
     "output_type": "display_data"
    }
   ],
   "source": [
    "plt.hist(pmat)\n",
    "plt.show()"
   ]
  },
  {
   "cell_type": "code",
   "execution_count": 113,
   "metadata": {},
   "outputs": [
    {
     "name": "stderr",
     "output_type": "stream",
     "text": [
      "C:\\ProgramData\\Anaconda3\\envs\\quant-ai4trading\\lib\\site-packages\\matplotlib\\axes\\_axes.py:6499: MatplotlibDeprecationWarning: \n",
      "The 'normed' kwarg was deprecated in Matplotlib 2.1 and will be removed in 3.1. Use 'density' instead.\n",
      "  alternative=\"'density'\", removal=\"3.1\")\n"
     ]
    },
    {
     "data": {
      "text/plain": [
       "<matplotlib.axes._subplots.AxesSubplot at 0x2c53938d358>"
      ]
     },
     "execution_count": 113,
     "metadata": {},
     "output_type": "execute_result"
    },
    {
     "data": {
      "image/png": "[encoded data removed]",
      "text/plain": [
       "<Figure size 1152x576 with 1 Axes>"
      ]
     },
     "metadata": {},
     "output_type": "display_data"
    }
   ],
   "source": [
    "sns.distplot(pv)"
   ]
  },
  {
   "cell_type": "markdown",
   "metadata": {},
   "source": [
    "# Benchmarking"
   ]
  },
  {
   "cell_type": "code",
   "execution_count": 114,
   "metadata": {},
   "outputs": [
    {
     "data": {
      "text/html": [
       "<div>\n",
       "<style scoped>\n",
       "    .dataframe tbody tr th:only-of-type {\n",
       "        vertical-align: middle;\n",
       "    }\n",
       "\n",
       "    .dataframe tbody tr th {\n",
       "        vertical-align: top;\n",
       "    }\n",
       "\n",
       "    .dataframe thead th {\n",
       "        text-align: right;\n",
       "    }\n",
       "</style>\n",
       "<table border=\"1\" class=\"dataframe\">\n",
       "  <thead>\n",
       "    <tr style=\"text-align: right;\">\n",
       "      <th></th>\n",
       "      <th>train_pmean</th>\n",
       "      <th>train_score</th>\n",
       "      <th>valid_pmean</th>\n",
       "      <th>valid_score</th>\n",
       "      <th>oob_score</th>\n",
       "      <th>criterion</th>\n",
       "      <th>min_samples_leaf</th>\n",
       "      <th>n_estimators</th>\n",
       "      <th>n_jobs</th>\n",
       "      <th>oob_score_hp</th>\n",
       "      <th>random_state</th>\n",
       "    </tr>\n",
       "  </thead>\n",
       "  <tbody>\n",
       "    <tr>\n",
       "      <th>0</th>\n",
       "      <td>0.885406</td>\n",
       "      <td>0.613527</td>\n",
       "      <td>1</td>\n",
       "      <td>0.55763</td>\n",
       "      <td>0.612107</td>\n",
       "      <td>entropy</td>\n",
       "      <td>5000</td>\n",
       "      <td>100</td>\n",
       "      <td>-1</td>\n",
       "      <td>True</td>\n",
       "      <td>123</td>\n",
       "    </tr>\n",
       "  </tbody>\n",
       "</table>\n",
       "</div>"
      ],
      "text/plain": [
       "  train_pmean train_score valid_pmean valid_score oob_score criterion  \\\n",
       "0    0.885406    0.613527           1     0.55763  0.612107   entropy   \n",
       "\n",
       "   min_samples_leaf  n_estimators  n_jobs  oob_score_hp  random_state  \n",
       "0              5000           100      -1          True           123  "
      ]
     },
     "execution_count": 114,
     "metadata": {},
     "output_type": "execute_result"
    }
   ],
   "source": [
    "rf_raw_results"
   ]
  },
  {
   "cell_type": "code",
   "execution_count": 115,
   "metadata": {},
   "outputs": [
    {
     "data": {
      "text/html": [
       "<div>\n",
       "<style scoped>\n",
       "    .dataframe tbody tr th:only-of-type {\n",
       "        vertical-align: middle;\n",
       "    }\n",
       "\n",
       "    .dataframe tbody tr th {\n",
       "        vertical-align: top;\n",
       "    }\n",
       "\n",
       "    .dataframe thead th {\n",
       "        text-align: right;\n",
       "    }\n",
       "</style>\n",
       "<table border=\"1\" class=\"dataframe\">\n",
       "  <thead>\n",
       "    <tr style=\"text-align: right;\">\n",
       "      <th></th>\n",
       "      <th>train_pmean</th>\n",
       "      <th>train_score</th>\n",
       "      <th>valid_pmean</th>\n",
       "      <th>valid_score</th>\n",
       "      <th>oob_score</th>\n",
       "      <th>criterion</th>\n",
       "      <th>max_features</th>\n",
       "      <th>min_samples_leaf</th>\n",
       "      <th>n_estimators</th>\n",
       "      <th>n_jobs</th>\n",
       "      <th>oob_score_hp</th>\n",
       "      <th>random_state</th>\n",
       "    </tr>\n",
       "  </thead>\n",
       "  <tbody>\n",
       "    <tr>\n",
       "      <th>0</th>\n",
       "      <td>0.799188</td>\n",
       "      <td>0.590613</td>\n",
       "      <td>0.940208</td>\n",
       "      <td>0.576083</td>\n",
       "      <td>0.612212</td>\n",
       "      <td>entropy</td>\n",
       "      <td>0.75</td>\n",
       "      <td>5000</td>\n",
       "      <td>100</td>\n",
       "      <td>-1</td>\n",
       "      <td>True</td>\n",
       "      <td>123</td>\n",
       "    </tr>\n",
       "  </tbody>\n",
       "</table>\n",
       "</div>"
      ],
      "text/plain": [
       "  train_pmean train_score valid_pmean valid_score oob_score criterion  \\\n",
       "0    0.799188    0.590613    0.940208    0.576083  0.612212   entropy   \n",
       "\n",
       "   max_features  min_samples_leaf  n_estimators  n_jobs  oob_score_hp  \\\n",
       "0          0.75              5000           100      -1          True   \n",
       "\n",
       "   random_state  \n",
       "0           123  "
      ]
     },
     "execution_count": 115,
     "metadata": {},
     "output_type": "execute_result"
    }
   ],
   "source": [
    "rf_nov_results"
   ]
  },
  {
   "cell_type": "code",
   "execution_count": 116,
   "metadata": {},
   "outputs": [
    {
     "data": {
      "text/html": [
       "<div>\n",
       "<style scoped>\n",
       "    .dataframe tbody tr th:only-of-type {\n",
       "        vertical-align: middle;\n",
       "    }\n",
       "\n",
       "    .dataframe tbody tr th {\n",
       "        vertical-align: top;\n",
       "    }\n",
       "\n",
       "    .dataframe thead th {\n",
       "        text-align: right;\n",
       "    }\n",
       "</style>\n",
       "<table border=\"1\" class=\"dataframe\">\n",
       "  <thead>\n",
       "    <tr style=\"text-align: right;\">\n",
       "      <th></th>\n",
       "      <th>train_pmean</th>\n",
       "      <th>train_score</th>\n",
       "      <th>valid_pmean</th>\n",
       "      <th>valid_score</th>\n",
       "      <th>oob_score</th>\n",
       "      <th>C</th>\n",
       "      <th>fit_intercept</th>\n",
       "      <th>n_jobs</th>\n",
       "      <th>random_state</th>\n",
       "      <th>solver</th>\n",
       "    </tr>\n",
       "  </thead>\n",
       "  <tbody>\n",
       "    <tr>\n",
       "      <th>0</th>\n",
       "      <td>0.994542</td>\n",
       "      <td>0.569917</td>\n",
       "      <td>0.999986</td>\n",
       "      <td>0.557644</td>\n",
       "      <td>NaN</td>\n",
       "      <td>0.0001</td>\n",
       "      <td>False</td>\n",
       "      <td>-1</td>\n",
       "      <td>123</td>\n",
       "      <td>lbfgs</td>\n",
       "    </tr>\n",
       "    <tr>\n",
       "      <th>1</th>\n",
       "      <td>0.967071</td>\n",
       "      <td>0.574564</td>\n",
       "      <td>0.993445</td>\n",
       "      <td>0.554546</td>\n",
       "      <td>NaN</td>\n",
       "      <td>0.0010</td>\n",
       "      <td>False</td>\n",
       "      <td>-1</td>\n",
       "      <td>123</td>\n",
       "      <td>lbfgs</td>\n",
       "    </tr>\n",
       "    <tr>\n",
       "      <th>2</th>\n",
       "      <td>0.926402</td>\n",
       "      <td>0.581436</td>\n",
       "      <td>0.989438</td>\n",
       "      <td>0.554615</td>\n",
       "      <td>NaN</td>\n",
       "      <td>0.0100</td>\n",
       "      <td>False</td>\n",
       "      <td>-1</td>\n",
       "      <td>123</td>\n",
       "      <td>lbfgs</td>\n",
       "    </tr>\n",
       "    <tr>\n",
       "      <th>3</th>\n",
       "      <td>0.803452</td>\n",
       "      <td>0.5854</td>\n",
       "      <td>0.922843</td>\n",
       "      <td>0.552466</td>\n",
       "      <td>NaN</td>\n",
       "      <td>0.1000</td>\n",
       "      <td>False</td>\n",
       "      <td>-1</td>\n",
       "      <td>123</td>\n",
       "      <td>lbfgs</td>\n",
       "    </tr>\n",
       "    <tr>\n",
       "      <th>4</th>\n",
       "      <td>0.762695</td>\n",
       "      <td>0.585317</td>\n",
       "      <td>0.89537</td>\n",
       "      <td>0.55237</td>\n",
       "      <td>NaN</td>\n",
       "      <td>1.0000</td>\n",
       "      <td>False</td>\n",
       "      <td>-1</td>\n",
       "      <td>123</td>\n",
       "      <td>lbfgs</td>\n",
       "    </tr>\n",
       "    <tr>\n",
       "      <th>5</th>\n",
       "      <td>0.757786</td>\n",
       "      <td>0.585303</td>\n",
       "      <td>0.890702</td>\n",
       "      <td>0.552466</td>\n",
       "      <td>NaN</td>\n",
       "      <td>10.0000</td>\n",
       "      <td>False</td>\n",
       "      <td>-1</td>\n",
       "      <td>123</td>\n",
       "      <td>lbfgs</td>\n",
       "    </tr>\n",
       "  </tbody>\n",
       "</table>\n",
       "</div>"
      ],
      "text/plain": [
       "  train_pmean train_score valid_pmean valid_score oob_score        C  \\\n",
       "0    0.994542    0.569917    0.999986    0.557644       NaN   0.0001   \n",
       "1    0.967071    0.574564    0.993445    0.554546       NaN   0.0010   \n",
       "2    0.926402    0.581436    0.989438    0.554615       NaN   0.0100   \n",
       "3    0.803452      0.5854    0.922843    0.552466       NaN   0.1000   \n",
       "4    0.762695    0.585317     0.89537     0.55237       NaN   1.0000   \n",
       "5    0.757786    0.585303    0.890702    0.552466       NaN  10.0000   \n",
       "\n",
       "   fit_intercept  n_jobs  random_state solver  \n",
       "0          False      -1           123  lbfgs  \n",
       "1          False      -1           123  lbfgs  \n",
       "2          False      -1           123  lbfgs  \n",
       "3          False      -1           123  lbfgs  \n",
       "4          False      -1           123  lbfgs  \n",
       "5          False      -1           123  lbfgs  "
      ]
     },
     "execution_count": 116,
     "metadata": {},
     "output_type": "execute_result"
    }
   ],
   "source": [
    "logreg_raw_results"
   ]
  },
  {
   "cell_type": "code",
   "execution_count": 117,
   "metadata": {},
   "outputs": [
    {
     "data": {
      "text/html": [
       "<div>\n",
       "<style scoped>\n",
       "    .dataframe tbody tr th:only-of-type {\n",
       "        vertical-align: middle;\n",
       "    }\n",
       "\n",
       "    .dataframe tbody tr th {\n",
       "        vertical-align: top;\n",
       "    }\n",
       "\n",
       "    .dataframe thead th {\n",
       "        text-align: right;\n",
       "    }\n",
       "</style>\n",
       "<table border=\"1\" class=\"dataframe\">\n",
       "  <thead>\n",
       "    <tr style=\"text-align: right;\">\n",
       "      <th></th>\n",
       "      <th>train_pmean</th>\n",
       "      <th>train_score</th>\n",
       "      <th>valid_pmean</th>\n",
       "      <th>valid_score</th>\n",
       "      <th>oob_score</th>\n",
       "      <th>C</th>\n",
       "      <th>fit_intercept</th>\n",
       "      <th>n_jobs</th>\n",
       "      <th>random_state</th>\n",
       "      <th>solver</th>\n",
       "    </tr>\n",
       "  </thead>\n",
       "  <tbody>\n",
       "    <tr>\n",
       "      <th>0</th>\n",
       "      <td>0.981383</td>\n",
       "      <td>0.569719</td>\n",
       "      <td>0.998719</td>\n",
       "      <td>0.557148</td>\n",
       "      <td>NaN</td>\n",
       "      <td>0.0001</td>\n",
       "      <td>False</td>\n",
       "      <td>-1</td>\n",
       "      <td>123</td>\n",
       "      <td>lbfgs</td>\n",
       "    </tr>\n",
       "    <tr>\n",
       "      <th>1</th>\n",
       "      <td>0.992021</td>\n",
       "      <td>0.569986</td>\n",
       "      <td>0.999986</td>\n",
       "      <td>0.557644</td>\n",
       "      <td>NaN</td>\n",
       "      <td>0.0010</td>\n",
       "      <td>False</td>\n",
       "      <td>-1</td>\n",
       "      <td>123</td>\n",
       "      <td>lbfgs</td>\n",
       "    </tr>\n",
       "    <tr>\n",
       "      <th>2</th>\n",
       "      <td>0.983793</td>\n",
       "      <td>0.572471</td>\n",
       "      <td>0.999367</td>\n",
       "      <td>0.557217</td>\n",
       "      <td>NaN</td>\n",
       "      <td>0.0100</td>\n",
       "      <td>False</td>\n",
       "      <td>-1</td>\n",
       "      <td>123</td>\n",
       "      <td>lbfgs</td>\n",
       "    </tr>\n",
       "    <tr>\n",
       "      <th>3</th>\n",
       "      <td>0.905794</td>\n",
       "      <td>0.582593</td>\n",
       "      <td>0.994974</td>\n",
       "      <td>0.558057</td>\n",
       "      <td>NaN</td>\n",
       "      <td>0.1000</td>\n",
       "      <td>False</td>\n",
       "      <td>-1</td>\n",
       "      <td>123</td>\n",
       "      <td>lbfgs</td>\n",
       "    </tr>\n",
       "    <tr>\n",
       "      <th>4</th>\n",
       "      <td>0.803654</td>\n",
       "      <td>0.582247</td>\n",
       "      <td>0.934658</td>\n",
       "      <td>0.550896</td>\n",
       "      <td>NaN</td>\n",
       "      <td>1.0000</td>\n",
       "      <td>False</td>\n",
       "      <td>-1</td>\n",
       "      <td>123</td>\n",
       "      <td>lbfgs</td>\n",
       "    </tr>\n",
       "    <tr>\n",
       "      <th>5</th>\n",
       "      <td>0.782797</td>\n",
       "      <td>0.581763</td>\n",
       "      <td>0.922292</td>\n",
       "      <td>0.549767</td>\n",
       "      <td>NaN</td>\n",
       "      <td>10.0000</td>\n",
       "      <td>False</td>\n",
       "      <td>-1</td>\n",
       "      <td>123</td>\n",
       "      <td>lbfgs</td>\n",
       "    </tr>\n",
       "  </tbody>\n",
       "</table>\n",
       "</div>"
      ],
      "text/plain": [
       "  train_pmean train_score valid_pmean valid_score oob_score        C  \\\n",
       "0    0.981383    0.569719    0.998719    0.557148       NaN   0.0001   \n",
       "1    0.992021    0.569986    0.999986    0.557644       NaN   0.0010   \n",
       "2    0.983793    0.572471    0.999367    0.557217       NaN   0.0100   \n",
       "3    0.905794    0.582593    0.994974    0.558057       NaN   0.1000   \n",
       "4    0.803654    0.582247    0.934658    0.550896       NaN   1.0000   \n",
       "5    0.782797    0.581763    0.922292    0.549767       NaN  10.0000   \n",
       "\n",
       "   fit_intercept  n_jobs  random_state solver  \n",
       "0          False      -1           123  lbfgs  \n",
       "1          False      -1           123  lbfgs  \n",
       "2          False      -1           123  lbfgs  \n",
       "3          False      -1           123  lbfgs  \n",
       "4          False      -1           123  lbfgs  \n",
       "5          False      -1           123  lbfgs  "
      ]
     },
     "execution_count": 117,
     "metadata": {},
     "output_type": "execute_result"
    }
   ],
   "source": [
    "logreg_nov_results"
   ]
  },
  {
   "cell_type": "code",
   "execution_count": 126,
   "metadata": {},
   "outputs": [],
   "source": [
    "p_train = y_train.to_frame('y_true')\n",
    "p_train['rfraw_p_class'] = rf_raw_models[0].predict(X_train)\n",
    "p_train['rfraw_p_prob'] = rf_raw_models[0].predict_proba(X_train)[:,1]\n",
    "\n",
    "\n",
    "p_train['rfnov_p_class'] = rf_nov_models[0].predict(X_train[nov_features])\n",
    "p_train['rfnov_p_prob'] = rf_nov_models[0].predict_proba(X_train[nov_features])[:,1]\n",
    "\n",
    "p_train['logregraw_p_class'] = logreg_raw_models[0].predict(X_train)\n",
    "p_train['logregraw_p_prob'] = logreg_raw_models[0].predict_proba(X_train)[:,1]\n",
    "\n",
    "p_train['rfraw_flg_correct'] = y_train == p_train['rfraw_p_class']\n",
    "p_train['rfnov_flg_correct'] = y_train == p_train['rfnov_p_class']\n",
    "p_train['logregraw_flg_correct'] = y_train == p_train['logregraw_p_class']\n",
    "#avg_daily_acc = targets_df.groupby(level=0)['flg_correct'].mean()"
   ]
  },
  {
   "cell_type": "code",
   "execution_count": 127,
   "metadata": {},
   "outputs": [],
   "source": [
    "p_valid = y_valid.to_frame('y_true')\n",
    "p_valid['rfraw_p_class'] = rf_raw_models[0].predict(X_valid)\n",
    "p_valid['rfraw_p_prob'] = rf_raw_models[0].predict_proba(X_valid)[:,1]\n",
    "\n",
    "p_valid['rfnov_p_class'] = rf_nov_models[0].predict(X_valid[nov_features])\n",
    "p_valid['rfnov_p_prob'] = rf_nov_models[0].predict_proba(X_valid[nov_features])[:,1]\n",
    "\n",
    "p_valid['logregraw_p_class'] = logreg_raw_models[0].predict(X_valid)\n",
    "p_valid['logregraw_p_prob'] = logreg_raw_models[0].predict_proba(X_valid)[:,1]\n",
    "\n",
    "p_valid['rfraw_flg_correct'] = y_valid == p_valid['rfraw_p_class']\n",
    "p_valid['rfnov_flg_correct'] = y_valid == p_valid['rfnov_p_class']\n",
    "p_valid['logregraw_flg_correct'] = y_valid == p_valid['logregraw_p_class']\n",
    "#avg_daily_acc = targets_df.groupby(level=0)['flg_correct'].mean()"
   ]
  },
  {
   "cell_type": "code",
   "execution_count": 128,
   "metadata": {},
   "outputs": [
    {
     "data": {
      "text/html": [
       "<div>\n",
       "<style scoped>\n",
       "    .dataframe tbody tr th:only-of-type {\n",
       "        vertical-align: middle;\n",
       "    }\n",
       "\n",
       "    .dataframe tbody tr th {\n",
       "        vertical-align: top;\n",
       "    }\n",
       "\n",
       "    .dataframe thead th {\n",
       "        text-align: right;\n",
       "    }\n",
       "</style>\n",
       "<table border=\"1\" class=\"dataframe\">\n",
       "  <thead>\n",
       "    <tr style=\"text-align: right;\">\n",
       "      <th></th>\n",
       "      <th>rfraw_flg_correct</th>\n",
       "      <th>rfnov_flg_correct</th>\n",
       "      <th>logregraw_flg_correct</th>\n",
       "    </tr>\n",
       "    <tr>\n",
       "      <th>y_true</th>\n",
       "      <th></th>\n",
       "      <th></th>\n",
       "      <th></th>\n",
       "    </tr>\n",
       "  </thead>\n",
       "  <tbody>\n",
       "    <tr>\n",
       "      <th>0.0</th>\n",
       "      <td>0.184409</td>\n",
       "      <td>0.257892</td>\n",
       "      <td>0.007105</td>\n",
       "    </tr>\n",
       "    <tr>\n",
       "      <th>1.0</th>\n",
       "      <td>0.938234</td>\n",
       "      <td>0.842379</td>\n",
       "      <td>0.995789</td>\n",
       "    </tr>\n",
       "  </tbody>\n",
       "</table>\n",
       "</div>"
      ],
      "text/plain": [
       "        rfraw_flg_correct  rfnov_flg_correct  logregraw_flg_correct\n",
       "y_true                                                             \n",
       "0.0              0.184409           0.257892               0.007105\n",
       "1.0              0.938234           0.842379               0.995789"
      ]
     },
     "execution_count": 128,
     "metadata": {},
     "output_type": "execute_result"
    }
   ],
   "source": [
    "p_train.groupby('y_true')[['rfraw_flg_correct', 'rfnov_flg_correct', 'logregraw_flg_correct']].mean()"
   ]
  },
  {
   "cell_type": "code",
   "execution_count": 129,
   "metadata": {},
   "outputs": [
    {
     "data": {
      "text/html": [
       "<div>\n",
       "<style scoped>\n",
       "    .dataframe tbody tr th:only-of-type {\n",
       "        vertical-align: middle;\n",
       "    }\n",
       "\n",
       "    .dataframe tbody tr th {\n",
       "        vertical-align: top;\n",
       "    }\n",
       "\n",
       "    .dataframe thead th {\n",
       "        text-align: right;\n",
       "    }\n",
       "</style>\n",
       "<table border=\"1\" class=\"dataframe\">\n",
       "  <thead>\n",
       "    <tr style=\"text-align: right;\">\n",
       "      <th></th>\n",
       "      <th>rfraw_flg_correct</th>\n",
       "      <th>rfnov_flg_correct</th>\n",
       "      <th>logregraw_flg_correct</th>\n",
       "    </tr>\n",
       "    <tr>\n",
       "      <th>y_true</th>\n",
       "      <th></th>\n",
       "      <th></th>\n",
       "      <th></th>\n",
       "    </tr>\n",
       "  </thead>\n",
       "  <tbody>\n",
       "    <tr>\n",
       "      <th>0.0</th>\n",
       "      <td>0.0</td>\n",
       "      <td>0.088439</td>\n",
       "      <td>0.000031</td>\n",
       "    </tr>\n",
       "    <tr>\n",
       "      <th>1.0</th>\n",
       "      <td>1.0</td>\n",
       "      <td>0.962933</td>\n",
       "      <td>1.000000</td>\n",
       "    </tr>\n",
       "  </tbody>\n",
       "</table>\n",
       "</div>"
      ],
      "text/plain": [
       "        rfraw_flg_correct  rfnov_flg_correct  logregraw_flg_correct\n",
       "y_true                                                             \n",
       "0.0                   0.0           0.088439               0.000031\n",
       "1.0                   1.0           0.962933               1.000000"
      ]
     },
     "execution_count": 129,
     "metadata": {},
     "output_type": "execute_result"
    }
   ],
   "source": [
    "p_valid.groupby('y_true')[['rfraw_flg_correct', 'rfnov_flg_correct', 'logregraw_flg_correct']].mean()"
   ]
  },
  {
   "cell_type": "code",
   "execution_count": 130,
   "metadata": {},
   "outputs": [
    {
     "data": {
      "text/plain": [
       "(array([0., 1.]), array([0., 1.]), array([0., 1.]))"
      ]
     },
     "execution_count": 130,
     "metadata": {},
     "output_type": "execute_result"
    }
   ],
   "source": [
    "rf_raw_models[0].classes_, rf_nov_models[0].classes_, logreg_raw_models[0].classes_"
   ]
  },
  {
   "cell_type": "code",
   "execution_count": 131,
   "metadata": {},
   "outputs": [
    {
     "data": {
      "text/html": [
       "<div>\n",
       "<style scoped>\n",
       "    .dataframe tbody tr th:only-of-type {\n",
       "        vertical-align: middle;\n",
       "    }\n",
       "\n",
       "    .dataframe tbody tr th {\n",
       "        vertical-align: top;\n",
       "    }\n",
       "\n",
       "    .dataframe thead th {\n",
       "        text-align: right;\n",
       "    }\n",
       "</style>\n",
       "<table border=\"1\" class=\"dataframe\">\n",
       "  <thead>\n",
       "    <tr style=\"text-align: right;\">\n",
       "      <th></th>\n",
       "      <th></th>\n",
       "      <th></th>\n",
       "      <th>count</th>\n",
       "      <th>mean</th>\n",
       "      <th>std</th>\n",
       "      <th>min</th>\n",
       "      <th>25%</th>\n",
       "      <th>50%</th>\n",
       "      <th>75%</th>\n",
       "      <th>max</th>\n",
       "    </tr>\n",
       "    <tr>\n",
       "      <th>model</th>\n",
       "      <th>split</th>\n",
       "      <th>y_true</th>\n",
       "      <th></th>\n",
       "      <th></th>\n",
       "      <th></th>\n",
       "      <th></th>\n",
       "      <th></th>\n",
       "      <th></th>\n",
       "      <th></th>\n",
       "      <th></th>\n",
       "    </tr>\n",
       "  </thead>\n",
       "  <tbody>\n",
       "    <tr>\n",
       "      <th rowspan=\"2\" valign=\"top\">rfraw</th>\n",
       "      <th rowspan=\"2\" valign=\"top\">train</th>\n",
       "      <th>0.0</th>\n",
       "      <td>93450.0</td>\n",
       "      <td>0.544014</td>\n",
       "      <td>0.070289</td>\n",
       "      <td>0.372183</td>\n",
       "      <td>0.509948</td>\n",
       "      <td>0.540484</td>\n",
       "      <td>0.579655</td>\n",
       "      <td>0.743656</td>\n",
       "    </tr>\n",
       "    <tr>\n",
       "      <th>1.0</th>\n",
       "      <td>123499.0</td>\n",
       "      <td>0.588611</td>\n",
       "      <td>0.072569</td>\n",
       "      <td>0.372834</td>\n",
       "      <td>0.541847</td>\n",
       "      <td>0.584767</td>\n",
       "      <td>0.620758</td>\n",
       "      <td>0.743564</td>\n",
       "    </tr>\n",
       "    <tr>\n",
       "      <th rowspan=\"2\" valign=\"top\">rfnov</th>\n",
       "      <th rowspan=\"2\" valign=\"top\">train</th>\n",
       "      <th>0.0</th>\n",
       "      <td>93450.0</td>\n",
       "      <td>0.554685</td>\n",
       "      <td>0.069887</td>\n",
       "      <td>0.462122</td>\n",
       "      <td>0.498828</td>\n",
       "      <td>0.532061</td>\n",
       "      <td>0.616025</td>\n",
       "      <td>0.692130</td>\n",
       "    </tr>\n",
       "    <tr>\n",
       "      <th>1.0</th>\n",
       "      <td>123499.0</td>\n",
       "      <td>0.581927</td>\n",
       "      <td>0.074772</td>\n",
       "      <td>0.462096</td>\n",
       "      <td>0.521943</td>\n",
       "      <td>0.565300</td>\n",
       "      <td>0.666000</td>\n",
       "      <td>0.692130</td>\n",
       "    </tr>\n",
       "    <tr>\n",
       "      <th rowspan=\"2\" valign=\"top\">logregraw</th>\n",
       "      <th rowspan=\"2\" valign=\"top\">train</th>\n",
       "      <th>0.0</th>\n",
       "      <td>93450.0</td>\n",
       "      <td>0.550825</td>\n",
       "      <td>0.020969</td>\n",
       "      <td>0.475755</td>\n",
       "      <td>0.536045</td>\n",
       "      <td>0.552286</td>\n",
       "      <td>0.566403</td>\n",
       "      <td>0.616224</td>\n",
       "    </tr>\n",
       "    <tr>\n",
       "      <th>1.0</th>\n",
       "      <td>123499.0</td>\n",
       "      <td>0.554265</td>\n",
       "      <td>0.021046</td>\n",
       "      <td>0.472830</td>\n",
       "      <td>0.539842</td>\n",
       "      <td>0.556018</td>\n",
       "      <td>0.569759</td>\n",
       "      <td>0.617222</td>\n",
       "    </tr>\n",
       "    <tr>\n",
       "      <th rowspan=\"2\" valign=\"top\">rfraw</th>\n",
       "      <th rowspan=\"2\" valign=\"top\">valid</th>\n",
       "      <th>0.0</th>\n",
       "      <td>32124.0</td>\n",
       "      <td>0.599161</td>\n",
       "      <td>0.050197</td>\n",
       "      <td>0.508393</td>\n",
       "      <td>0.554902</td>\n",
       "      <td>0.601479</td>\n",
       "      <td>0.628822</td>\n",
       "      <td>0.733759</td>\n",
       "    </tr>\n",
       "    <tr>\n",
       "      <th>1.0</th>\n",
       "      <td>40494.0</td>\n",
       "      <td>0.606010</td>\n",
       "      <td>0.053994</td>\n",
       "      <td>0.506416</td>\n",
       "      <td>0.556083</td>\n",
       "      <td>0.606786</td>\n",
       "      <td>0.648266</td>\n",
       "      <td>0.732255</td>\n",
       "    </tr>\n",
       "    <tr>\n",
       "      <th rowspan=\"2\" valign=\"top\">rfnov</th>\n",
       "      <th rowspan=\"2\" valign=\"top\">valid</th>\n",
       "      <th>0.0</th>\n",
       "      <td>32124.0</td>\n",
       "      <td>0.602790</td>\n",
       "      <td>0.069592</td>\n",
       "      <td>0.485781</td>\n",
       "      <td>0.537295</td>\n",
       "      <td>0.603268</td>\n",
       "      <td>0.668762</td>\n",
       "      <td>0.692228</td>\n",
       "    </tr>\n",
       "    <tr>\n",
       "      <th>1.0</th>\n",
       "      <td>40494.0</td>\n",
       "      <td>0.614692</td>\n",
       "      <td>0.066429</td>\n",
       "      <td>0.485761</td>\n",
       "      <td>0.559525</td>\n",
       "      <td>0.649167</td>\n",
       "      <td>0.672047</td>\n",
       "      <td>0.692228</td>\n",
       "    </tr>\n",
       "    <tr>\n",
       "      <th rowspan=\"2\" valign=\"top\">logregraw</th>\n",
       "      <th rowspan=\"2\" valign=\"top\">valid</th>\n",
       "      <th>0.0</th>\n",
       "      <td>32124.0</td>\n",
       "      <td>0.564015</td>\n",
       "      <td>0.016665</td>\n",
       "      <td>0.498311</td>\n",
       "      <td>0.552600</td>\n",
       "      <td>0.564609</td>\n",
       "      <td>0.575928</td>\n",
       "      <td>0.615150</td>\n",
       "    </tr>\n",
       "    <tr>\n",
       "      <th>1.0</th>\n",
       "      <td>40494.0</td>\n",
       "      <td>0.563972</td>\n",
       "      <td>0.016067</td>\n",
       "      <td>0.503848</td>\n",
       "      <td>0.552846</td>\n",
       "      <td>0.564484</td>\n",
       "      <td>0.575454</td>\n",
       "      <td>0.618272</td>\n",
       "    </tr>\n",
       "  </tbody>\n",
       "</table>\n",
       "</div>"
      ],
      "text/plain": [
       "                           count      mean       std       min       25%  \\\n",
       "model     split y_true                                                     \n",
       "rfraw     train 0.0      93450.0  0.544014  0.070289  0.372183  0.509948   \n",
       "                1.0     123499.0  0.588611  0.072569  0.372834  0.541847   \n",
       "rfnov     train 0.0      93450.0  0.554685  0.069887  0.462122  0.498828   \n",
       "                1.0     123499.0  0.581927  0.074772  0.462096  0.521943   \n",
       "logregraw train 0.0      93450.0  0.550825  0.020969  0.475755  0.536045   \n",
       "                1.0     123499.0  0.554265  0.021046  0.472830  0.539842   \n",
       "rfraw     valid 0.0      32124.0  0.599161  0.050197  0.508393  0.554902   \n",
       "                1.0      40494.0  0.606010  0.053994  0.506416  0.556083   \n",
       "rfnov     valid 0.0      32124.0  0.602790  0.069592  0.485781  0.537295   \n",
       "                1.0      40494.0  0.614692  0.066429  0.485761  0.559525   \n",
       "logregraw valid 0.0      32124.0  0.564015  0.016665  0.498311  0.552600   \n",
       "                1.0      40494.0  0.563972  0.016067  0.503848  0.552846   \n",
       "\n",
       "                             50%       75%       max  \n",
       "model     split y_true                                \n",
       "rfraw     train 0.0     0.540484  0.579655  0.743656  \n",
       "                1.0     0.584767  0.620758  0.743564  \n",
       "rfnov     train 0.0     0.532061  0.616025  0.692130  \n",
       "                1.0     0.565300  0.666000  0.692130  \n",
       "logregraw train 0.0     0.552286  0.566403  0.616224  \n",
       "                1.0     0.556018  0.569759  0.617222  \n",
       "rfraw     valid 0.0     0.601479  0.628822  0.733759  \n",
       "                1.0     0.606786  0.648266  0.732255  \n",
       "rfnov     valid 0.0     0.603268  0.668762  0.692228  \n",
       "                1.0     0.649167  0.672047  0.692228  \n",
       "logregraw valid 0.0     0.564609  0.575928  0.615150  \n",
       "                1.0     0.564484  0.575454  0.618272  "
      ]
     },
     "execution_count": 131,
     "metadata": {},
     "output_type": "execute_result"
    }
   ],
   "source": [
    "# train\n",
    "rfraw_prob_desc = p_train.groupby('y_true')['rfraw_p_prob'].describe()\n",
    "rfraw_prob_desc['model'] = 'rfraw'\n",
    "rfnov_prob_desc = p_train.groupby('y_true')['rfnov_p_prob'].describe()\n",
    "rfnov_prob_desc['model'] = 'rfnov'\n",
    "logregraw_prob_desc = p_train.groupby('y_true')['logregraw_p_prob'].describe()\n",
    "logregraw_prob_desc['model'] = 'logregraw'\n",
    "\n",
    "train_prob_desc = pd.concat([rfraw_prob_desc, rfnov_prob_desc, logregraw_prob_desc], axis=0).reset_index()\n",
    "train_prob_desc[split_col] = 'train'\n",
    "train_prob_desc.set_index(['model', split_col, 'y_true'], inplace=True)\n",
    "\n",
    "# valid\n",
    "rfraw_prob_desc = p_valid.groupby('y_true')['rfraw_p_prob'].describe()\n",
    "rfraw_prob_desc['model'] = 'rfraw'\n",
    "rfnov_prob_desc = p_valid.groupby('y_true')['rfnov_p_prob'].describe()\n",
    "rfnov_prob_desc['model'] = 'rfnov'\n",
    "logregraw_prob_desc = p_valid.groupby('y_true')['logregraw_p_prob'].describe()\n",
    "logregraw_prob_desc['model'] = 'logregraw'\n",
    "\n",
    "valid_prob_desc = pd.concat([rfraw_prob_desc, rfnov_prob_desc, logregraw_prob_desc], axis=0).reset_index()\n",
    "valid_prob_desc[split_col] = 'valid'\n",
    "valid_prob_desc.set_index(['model', split_col, 'y_true'], inplace=True)\n",
    "\n",
    "# concat\n",
    "prob_desc = pd.concat([train_prob_desc, valid_prob_desc], axis=0)\n",
    "prob_desc"
   ]
  },
  {
   "cell_type": "code",
   "execution_count": 132,
   "metadata": {},
   "outputs": [
    {
     "data": {
      "image/png": "[encoded data removed]",
      "text/plain": [
       "<Figure size 1152x576 with 2 Axes>"
      ]
     },
     "metadata": {},
     "output_type": "display_data"
    }
   ],
   "source": [
    "fig, axs = plt.subplots(2,1, sharex=True)\n",
    "plt.suptitle('Predicted Probability Distributions')\n",
    "\n",
    "ax=axs[0]\n",
    "p_train['rfraw_p_prob'].plot.hist(alpha=0.5, label='raw', ax=ax)\n",
    "p_train['rfnov_p_prob'].plot.hist(alpha=0.5, label='nov', ax=ax)\n",
    "p_train['logregraw_p_prob'].plot.hist(alpha=0.5, label='logreg', ax=ax)\n",
    "ax.legend(title='Train')\n",
    "\n",
    "ax=axs[1]\n",
    "p_valid['rfraw_p_prob'].plot.hist(alpha=0.5, label='raw', ax=ax)\n",
    "p_valid['rfnov_p_prob'].plot.hist(alpha=0.5, label='nov', ax=ax)\n",
    "p_valid['logregraw_p_prob'].plot.hist(alpha=0.5, label='logreg', ax=ax)\n",
    "ax.legend(title='Valid')\n",
    "\n",
    "plt.show()"
   ]
  },
  {
   "cell_type": "code",
   "execution_count": 133,
   "metadata": {},
   "outputs": [
    {
     "data": {
      "image/png": "[encoded data removed]",
      "text/plain": [
       "<Figure size 1152x576 with 2 Axes>"
      ]
     },
     "metadata": {},
     "output_type": "display_data"
    }
   ],
   "source": [
    "fig, axs = plt.subplots(2,1)\n",
    "plt.suptitle('alpha factors')\n",
    "ax=axs[0]\n",
    "rf_raw_train['ml_alpha'].plot.hist(alpha=0.5, label='raw', ax=ax)\n",
    "rf_nov_train['ml_alpha'].plot.hist(alpha=0.5, label='nov', ax=ax)\n",
    "logreg_raw_train['ml_alpha'].plot.hist(alpha=0.5, label='logreg', ax=ax)\n",
    "ax.legend(title='Train')\n",
    "\n",
    "ax=axs[1]\n",
    "rf_raw_valid['ml_alpha'].plot.hist(alpha=0.5, label='raw', ax=ax)\n",
    "rf_nov_valid['ml_alpha'].plot.hist(alpha=0.5, label='nov', ax=ax)\n",
    "logreg_raw_valid['ml_alpha'].plot.hist(alpha=0.5, label='logreg', ax=ax)\n",
    "ax.legend(title='Valid')\n",
    "\n",
    "plt.show()"
   ]
  },
  {
   "cell_type": "code",
   "execution_count": 134,
   "metadata": {},
   "outputs": [
    {
     "data": {
      "image/png": "[encoded data removed]",
      "text/plain": [
       "<Figure size 1152x576 with 1 Axes>"
      ]
     },
     "metadata": {},
     "output_type": "display_data"
    }
   ],
   "source": [
    "ax = rf_raw_valid['factor_cum_returns'].plot(y='ML_FACTOR', label='raw')\n",
    "rf_nov_valid['factor_cum_returns'].plot(y='ML_FACTOR', label='nov', ax=ax)\n",
    "logreg_raw_valid['factor_cum_returns'].plot(y='ML_FACTOR', label='logreg', ax=ax)\n",
    "plt.title('Cummulative Factor Returns')\n",
    "plt.legend(title='Valid')\n",
    "plt.show()"
   ]
  },
  {
   "cell_type": "code",
   "execution_count": 135,
   "metadata": {},
   "outputs": [
    {
     "data": {
      "text/plain": [
       "Momentum_1YR_Smoothed                     1.479704\n",
       "ML_FACTOR                                 2.966284\n",
       "Overnight_Sentiment_Smoothed             -0.535892\n",
       "Mean_Reversion_Sector_Neutral_Smoothed    2.903216\n",
       "dtype: float64"
      ]
     },
     "execution_count": 135,
     "metadata": {},
     "output_type": "execute_result"
    }
   ],
   "source": [
    "rf_raw_valid['sharpe_ratio']"
   ]
  },
  {
   "cell_type": "code",
   "execution_count": 136,
   "metadata": {},
   "outputs": [
    {
     "data": {
      "text/plain": [
       "Momentum_1YR_Smoothed                     1.479704\n",
       "ML_FACTOR                                 1.482493\n",
       "Overnight_Sentiment_Smoothed             -0.535892\n",
       "Mean_Reversion_Sector_Neutral_Smoothed    2.903216\n",
       "dtype: float64"
      ]
     },
     "execution_count": 136,
     "metadata": {},
     "output_type": "execute_result"
    }
   ],
   "source": [
    "rf_nov_valid['sharpe_ratio']"
   ]
  },
  {
   "cell_type": "code",
   "execution_count": 137,
   "metadata": {},
   "outputs": [
    {
     "data": {
      "text/plain": [
       "Momentum_1YR_Smoothed                     1.479704\n",
       "ML_FACTOR                                 1.358692\n",
       "Overnight_Sentiment_Smoothed             -0.535892\n",
       "Mean_Reversion_Sector_Neutral_Smoothed    2.903216\n",
       "dtype: float64"
      ]
     },
     "execution_count": 137,
     "metadata": {},
     "output_type": "execute_result"
    }
   ],
   "source": [
    "logreg_raw_valid['sharpe_ratio']"
   ]
  },
  {
   "cell_type": "code",
   "execution_count": null,
   "metadata": {},
   "outputs": [],
   "source": []
  }
 ],
 "metadata": {
  "kernelspec": {
   "display_name": "Python 3",
   "language": "python",
   "name": "python3"
  },
  "language_info": {
   "codemirror_mode": {
    "name": "ipython",
    "version": 3
   },
   "file_extension": ".py",
   "mimetype": "text/x-python",
   "name": "python",
   "nbconvert_exporter": "python",
   "pygments_lexer": "ipython3",
   "version": "3.5.6"
  },
  "toc-autonumbering": true,
  "toc-showmarkdowntxt": false
 },
 "nbformat": 4,
 "nbformat_minor": 4
}
