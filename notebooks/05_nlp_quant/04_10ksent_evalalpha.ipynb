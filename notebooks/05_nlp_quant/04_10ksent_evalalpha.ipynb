{
 "cells": [
  {
   "cell_type": "markdown",
   "metadata": {},
   "source": [
    "<font size=\"6\"> **Analyze SEC 10-K Fillings** </font>"
   ]
  },
  {
   "cell_type": "code",
   "execution_count": 1,
   "metadata": {},
   "outputs": [],
   "source": [
    "%load_ext autoreload\n",
    "%autoreload 2"
   ]
  },
  {
   "cell_type": "code",
   "execution_count": 2,
   "metadata": {},
   "outputs": [],
   "source": [
    "%run ../nb_config.py"
   ]
  },
  {
   "cell_type": "code",
   "execution_count": 3,
   "metadata": {},
   "outputs": [],
   "source": [
    "import numpy as np\n",
    "import pandas as pd\n",
    "import datetime as dt\n",
    "import scipy\n",
    "import pickle\n",
    "\n",
    "import os\n",
    "\n",
    "from tqdm import tqdm"
   ]
  },
  {
   "cell_type": "code",
   "execution_count": 4,
   "metadata": {},
   "outputs": [],
   "source": [
    "from src import utils\n",
    "from src.load_data import io_utils\n",
    "from src.mle_quant_utils import quant_factors"
   ]
  },
  {
   "cell_type": "code",
   "execution_count": 5,
   "metadata": {},
   "outputs": [],
   "source": [
    "cfg = utils.read_conf()"
   ]
  },
  {
   "cell_type": "code",
   "execution_count": 6,
   "metadata": {},
   "outputs": [
    {
     "data": {
      "text/plain": [
       "(True, True, True)"
      ]
     },
     "execution_count": 6,
     "metadata": {},
     "output_type": "execute_result"
    }
   ],
   "source": [
    "INPATH1 = os.path.join(io_utils.interim_path, 'sec_fillings', '')\n",
    "INPATH2 = os.path.join(io_utils.raw_path, 'market_data', cfg['quantopian']['dataset4']['folder'],'')\n",
    "INPATH3 = os.path.join(io_utils.processed_path, 'sec_fillings', '')\n",
    "os.path.isdir(INPATH1), os.path.isdir(INPATH2), os.path.isdir(INPATH3)"
   ]
  },
  {
   "cell_type": "code",
   "execution_count": 7,
   "metadata": {},
   "outputs": [],
   "source": [
    "INFILE1 = 'metadata.pkl'\n",
    "INFILE2 =  'parsed_sentiment_loughran_mcdonald.csv'\n",
    "INFILE3 = cfg['quantopian']['dataset4']['prices']\n",
    "INFILE4 = cfg['output']['interim']['pricing']\n",
    "INFILE5 = cfg['output']['interim']['sector_factors']\n",
    "INFILE6 = 'sec_10k_loughran_sent_alpha.csv'\n",
    "INFILE7 = 'sec_10k_mlbow_sent_alpha.csv'"
   ]
  },
  {
   "cell_type": "code",
   "execution_count": 8,
   "metadata": {},
   "outputs": [
    {
     "data": {
      "text/plain": [
       "True"
      ]
     },
     "execution_count": 8,
     "metadata": {},
     "output_type": "execute_result"
    }
   ],
   "source": [
    "OUTPATH =  os.path.join(io_utils.processed_path, 'sec_fillings', '')\n",
    "os.path.isdir(OUTPATH)"
   ]
  },
  {
   "cell_type": "code",
   "execution_count": 9,
   "metadata": {},
   "outputs": [],
   "source": [
    "START_DT = '1998-01-01'\n",
    "END_DT = '2017-12-31'\n",
    "train_test_split_yr = '2013-12-31'"
   ]
  },
  {
   "cell_type": "markdown",
   "metadata": {},
   "source": [
    "# Load Data"
   ]
  },
  {
   "cell_type": "markdown",
   "metadata": {},
   "source": [
    "## Sentiments Metadata"
   ]
  },
  {
   "cell_type": "code",
   "execution_count": 10,
   "metadata": {},
   "outputs": [
    {
     "data": {
      "text/plain": [
       "['negative',\n",
       " 'positive',\n",
       " 'uncertainty',\n",
       " 'litigious',\n",
       " 'constraining',\n",
       " 'interesting']"
      ]
     },
     "execution_count": 10,
     "metadata": {},
     "output_type": "execute_result"
    }
   ],
   "source": [
    "sentiment_df =  pd.read_csv(INPATH1 + INFILE2)\n",
    "sentiments = sentiment_df.columns.tolist()[:-1]\n",
    "sentiments"
   ]
  },
  {
   "cell_type": "markdown",
   "metadata": {},
   "source": [
    "## Prices"
   ]
  },
  {
   "cell_type": "code",
   "execution_count": 11,
   "metadata": {},
   "outputs": [
    {
     "name": "stdout",
     "output_type": "stream",
     "text": [
      "<class 'pandas.core.frame.DataFrame'>\n",
      "DatetimeIndex: 21 entries, 1998-01-01 to 2018-01-01\n",
      "Columns: 11941 entries, A to ZZZ\n",
      "dtypes: float64(11941)\n",
      "memory usage: 1.9 MB\n"
     ]
    }
   ],
   "source": [
    "# Yearly pricing\n",
    "pricing_yr = pd.read_csv(INPATH2 + INFILE3, parse_dates=['date'])\n",
    "pricing_yr = pricing_yr.pivot(index='date', columns='ticker', values='adj_close')[START_DT:]\n",
    "pricing_yr.info()"
   ]
  },
  {
   "cell_type": "code",
   "execution_count": 12,
   "metadata": {},
   "outputs": [
    {
     "data": {
      "text/html": [
       "<div>\n",
       "<style scoped>\n",
       "    .dataframe tbody tr th:only-of-type {\n",
       "        vertical-align: middle;\n",
       "    }\n",
       "\n",
       "    .dataframe tbody tr th {\n",
       "        vertical-align: top;\n",
       "    }\n",
       "\n",
       "    .dataframe thead th {\n",
       "        text-align: right;\n",
       "    }\n",
       "</style>\n",
       "<table border=\"1\" class=\"dataframe\">\n",
       "  <thead>\n",
       "    <tr style=\"text-align: right;\">\n",
       "      <th>ticker</th>\n",
       "      <th>A</th>\n",
       "      <th>AA</th>\n",
       "      <th>AAAP</th>\n",
       "      <th>AABA</th>\n",
       "      <th>AAC</th>\n",
       "      <th>AADR</th>\n",
       "      <th>AAIT</th>\n",
       "      <th>AAL</th>\n",
       "      <th>AAMC</th>\n",
       "      <th>AAME</th>\n",
       "      <th>AAN</th>\n",
       "      <th>AAOI</th>\n",
       "      <th>AAON</th>\n",
       "      <th>AAP</th>\n",
       "      <th>AAPC</th>\n",
       "      <th>AAPL</th>\n",
       "      <th>AAT</th>\n",
       "      <th>AAU</th>\n",
       "      <th>AAV</th>\n",
       "      <th>AAVL</th>\n",
       "      <th>AAWW</th>\n",
       "      <th>AAXJ</th>\n",
       "      <th>AAXN</th>\n",
       "      <th>AA_P_B</th>\n",
       "      <th>AA_W</th>\n",
       "      <th>...</th>\n",
       "      <th>ZOES</th>\n",
       "      <th>ZOM</th>\n",
       "      <th>ZOOM</th>\n",
       "      <th>ZPIN</th>\n",
       "      <th>ZQK</th>\n",
       "      <th>ZROZ</th>\n",
       "      <th>ZS</th>\n",
       "      <th>ZSAN</th>\n",
       "      <th>ZSL</th>\n",
       "      <th>ZSML</th>\n",
       "      <th>ZSPH</th>\n",
       "      <th>ZTO</th>\n",
       "      <th>ZTR</th>\n",
       "      <th>ZTS</th>\n",
       "      <th>ZU</th>\n",
       "      <th>ZUMZ</th>\n",
       "      <th>ZUO</th>\n",
       "      <th>ZVZZC</th>\n",
       "      <th>ZVZZCNX</th>\n",
       "      <th>ZX</th>\n",
       "      <th>ZXYZ_A</th>\n",
       "      <th>ZYME</th>\n",
       "      <th>ZYNE</th>\n",
       "      <th>ZZK</th>\n",
       "      <th>ZZZ</th>\n",
       "    </tr>\n",
       "    <tr>\n",
       "      <th>date</th>\n",
       "      <th></th>\n",
       "      <th></th>\n",
       "      <th></th>\n",
       "      <th></th>\n",
       "      <th></th>\n",
       "      <th></th>\n",
       "      <th></th>\n",
       "      <th></th>\n",
       "      <th></th>\n",
       "      <th></th>\n",
       "      <th></th>\n",
       "      <th></th>\n",
       "      <th></th>\n",
       "      <th></th>\n",
       "      <th></th>\n",
       "      <th></th>\n",
       "      <th></th>\n",
       "      <th></th>\n",
       "      <th></th>\n",
       "      <th></th>\n",
       "      <th></th>\n",
       "      <th></th>\n",
       "      <th></th>\n",
       "      <th></th>\n",
       "      <th></th>\n",
       "      <th></th>\n",
       "      <th></th>\n",
       "      <th></th>\n",
       "      <th></th>\n",
       "      <th></th>\n",
       "      <th></th>\n",
       "      <th></th>\n",
       "      <th></th>\n",
       "      <th></th>\n",
       "      <th></th>\n",
       "      <th></th>\n",
       "      <th></th>\n",
       "      <th></th>\n",
       "      <th></th>\n",
       "      <th></th>\n",
       "      <th></th>\n",
       "      <th></th>\n",
       "      <th></th>\n",
       "      <th></th>\n",
       "      <th></th>\n",
       "      <th></th>\n",
       "      <th></th>\n",
       "      <th></th>\n",
       "      <th></th>\n",
       "      <th></th>\n",
       "      <th></th>\n",
       "    </tr>\n",
       "  </thead>\n",
       "  <tbody>\n",
       "    <tr>\n",
       "      <th>1998-01-01</th>\n",
       "      <td>NaN</td>\n",
       "      <td>NaN</td>\n",
       "      <td>NaN</td>\n",
       "      <td>29.6125</td>\n",
       "      <td>NaN</td>\n",
       "      <td>NaN</td>\n",
       "      <td>NaN</td>\n",
       "      <td>NaN</td>\n",
       "      <td>NaN</td>\n",
       "      <td>4.543018</td>\n",
       "      <td>4.199306</td>\n",
       "      <td>NaN</td>\n",
       "      <td>0.701835</td>\n",
       "      <td>NaN</td>\n",
       "      <td>NaN</td>\n",
       "      <td>1.300324</td>\n",
       "      <td>NaN</td>\n",
       "      <td>NaN</td>\n",
       "      <td>NaN</td>\n",
       "      <td>NaN</td>\n",
       "      <td>NaN</td>\n",
       "      <td>NaN</td>\n",
       "      <td>NaN</td>\n",
       "      <td>NaN</td>\n",
       "      <td>NaN</td>\n",
       "      <td>...</td>\n",
       "      <td>NaN</td>\n",
       "      <td>NaN</td>\n",
       "      <td>4.00</td>\n",
       "      <td>NaN</td>\n",
       "      <td>5.000</td>\n",
       "      <td>NaN</td>\n",
       "      <td>NaN</td>\n",
       "      <td>NaN</td>\n",
       "      <td>NaN</td>\n",
       "      <td>NaN</td>\n",
       "      <td>NaN</td>\n",
       "      <td>NaN</td>\n",
       "      <td>10.714852</td>\n",
       "      <td>NaN</td>\n",
       "      <td>NaN</td>\n",
       "      <td>NaN</td>\n",
       "      <td>NaN</td>\n",
       "      <td>NaN</td>\n",
       "      <td>NaN</td>\n",
       "      <td>NaN</td>\n",
       "      <td>NaN</td>\n",
       "      <td>NaN</td>\n",
       "      <td>NaN</td>\n",
       "      <td>NaN</td>\n",
       "      <td>NaN</td>\n",
       "    </tr>\n",
       "    <tr>\n",
       "      <th>1999-01-01</th>\n",
       "      <td>52.378553</td>\n",
       "      <td>NaN</td>\n",
       "      <td>NaN</td>\n",
       "      <td>108.1750</td>\n",
       "      <td>NaN</td>\n",
       "      <td>NaN</td>\n",
       "      <td>NaN</td>\n",
       "      <td>NaN</td>\n",
       "      <td>NaN</td>\n",
       "      <td>2.155487</td>\n",
       "      <td>5.142459</td>\n",
       "      <td>NaN</td>\n",
       "      <td>1.083688</td>\n",
       "      <td>NaN</td>\n",
       "      <td>NaN</td>\n",
       "      <td>3.265419</td>\n",
       "      <td>NaN</td>\n",
       "      <td>NaN</td>\n",
       "      <td>NaN</td>\n",
       "      <td>NaN</td>\n",
       "      <td>NaN</td>\n",
       "      <td>NaN</td>\n",
       "      <td>NaN</td>\n",
       "      <td>NaN</td>\n",
       "      <td>NaN</td>\n",
       "      <td>...</td>\n",
       "      <td>NaN</td>\n",
       "      <td>NaN</td>\n",
       "      <td>8.44</td>\n",
       "      <td>NaN</td>\n",
       "      <td>3.875</td>\n",
       "      <td>NaN</td>\n",
       "      <td>NaN</td>\n",
       "      <td>NaN</td>\n",
       "      <td>NaN</td>\n",
       "      <td>NaN</td>\n",
       "      <td>NaN</td>\n",
       "      <td>NaN</td>\n",
       "      <td>8.671104</td>\n",
       "      <td>NaN</td>\n",
       "      <td>NaN</td>\n",
       "      <td>NaN</td>\n",
       "      <td>NaN</td>\n",
       "      <td>NaN</td>\n",
       "      <td>NaN</td>\n",
       "      <td>NaN</td>\n",
       "      <td>NaN</td>\n",
       "      <td>NaN</td>\n",
       "      <td>NaN</td>\n",
       "      <td>NaN</td>\n",
       "      <td>NaN</td>\n",
       "    </tr>\n",
       "    <tr>\n",
       "      <th>2017-01-01</th>\n",
       "      <td>66.653918</td>\n",
       "      <td>53.87</td>\n",
       "      <td>81.62</td>\n",
       "      <td>69.8500</td>\n",
       "      <td>9.00</td>\n",
       "      <td>58.835707</td>\n",
       "      <td>NaN</td>\n",
       "      <td>51.803585</td>\n",
       "      <td>81.6</td>\n",
       "      <td>3.378882</td>\n",
       "      <td>39.797356</td>\n",
       "      <td>37.82</td>\n",
       "      <td>36.522919</td>\n",
       "      <td>99.593649</td>\n",
       "      <td>10.6</td>\n",
       "      <td>167.901180</td>\n",
       "      <td>37.654925</td>\n",
       "      <td>1.03</td>\n",
       "      <td>4.3</td>\n",
       "      <td>NaN</td>\n",
       "      <td>58.65</td>\n",
       "      <td>75.858764</td>\n",
       "      <td>26.50</td>\n",
       "      <td>NaN</td>\n",
       "      <td>NaN</td>\n",
       "      <td>...</td>\n",
       "      <td>16.72</td>\n",
       "      <td>1.9771</td>\n",
       "      <td>NaN</td>\n",
       "      <td>18.2</td>\n",
       "      <td>NaN</td>\n",
       "      <td>120.593382</td>\n",
       "      <td>NaN</td>\n",
       "      <td>10.40</td>\n",
       "      <td>31.40</td>\n",
       "      <td>26.9</td>\n",
       "      <td>NaN</td>\n",
       "      <td>15.641173</td>\n",
       "      <td>12.643875</td>\n",
       "      <td>71.815333</td>\n",
       "      <td>NaN</td>\n",
       "      <td>20.825</td>\n",
       "      <td>NaN</td>\n",
       "      <td>100.1</td>\n",
       "      <td>NaN</td>\n",
       "      <td>1.2165</td>\n",
       "      <td>NaN</td>\n",
       "      <td>7.5931</td>\n",
       "      <td>12.52</td>\n",
       "      <td>25.0</td>\n",
       "      <td>0.01</td>\n",
       "    </tr>\n",
       "    <tr>\n",
       "      <th>2018-01-01</th>\n",
       "      <td>61.800000</td>\n",
       "      <td>46.88</td>\n",
       "      <td>81.63</td>\n",
       "      <td>73.3500</td>\n",
       "      <td>9.81</td>\n",
       "      <td>52.880000</td>\n",
       "      <td>NaN</td>\n",
       "      <td>37.990000</td>\n",
       "      <td>67.9</td>\n",
       "      <td>2.575000</td>\n",
       "      <td>43.740000</td>\n",
       "      <td>46.00</td>\n",
       "      <td>35.250000</td>\n",
       "      <td>135.860000</td>\n",
       "      <td>NaN</td>\n",
       "      <td>185.400000</td>\n",
       "      <td>38.860000</td>\n",
       "      <td>0.71</td>\n",
       "      <td>3.1</td>\n",
       "      <td>NaN</td>\n",
       "      <td>71.45</td>\n",
       "      <td>70.250000</td>\n",
       "      <td>64.98</td>\n",
       "      <td>NaN</td>\n",
       "      <td>NaN</td>\n",
       "      <td>...</td>\n",
       "      <td>10.16</td>\n",
       "      <td>2.2100</td>\n",
       "      <td>NaN</td>\n",
       "      <td>NaN</td>\n",
       "      <td>NaN</td>\n",
       "      <td>115.750000</td>\n",
       "      <td>36.67</td>\n",
       "      <td>4.68</td>\n",
       "      <td>34.91</td>\n",
       "      <td>NaN</td>\n",
       "      <td>NaN</td>\n",
       "      <td>19.450000</td>\n",
       "      <td>11.450000</td>\n",
       "      <td>86.150000</td>\n",
       "      <td>NaN</td>\n",
       "      <td>24.300</td>\n",
       "      <td>26.74</td>\n",
       "      <td>NaN</td>\n",
       "      <td>NaN</td>\n",
       "      <td>1.3800</td>\n",
       "      <td>NaN</td>\n",
       "      <td>15.3400</td>\n",
       "      <td>9.17</td>\n",
       "      <td>NaN</td>\n",
       "      <td>NaN</td>\n",
       "    </tr>\n",
       "  </tbody>\n",
       "</table>\n",
       "<p>4 rows × 11941 columns</p>\n",
       "</div>"
      ],
      "text/plain": [
       "ticker              A     AA   AAAP      AABA   AAC       AADR  AAIT  \\\n",
       "date                                                                   \n",
       "1998-01-01        NaN    NaN    NaN   29.6125   NaN        NaN   NaN   \n",
       "1999-01-01  52.378553    NaN    NaN  108.1750   NaN        NaN   NaN   \n",
       "2017-01-01  66.653918  53.87  81.62   69.8500  9.00  58.835707   NaN   \n",
       "2018-01-01  61.800000  46.88  81.63   73.3500  9.81  52.880000   NaN   \n",
       "\n",
       "ticker            AAL  AAMC      AAME        AAN   AAOI       AAON  \\\n",
       "date                                                                 \n",
       "1998-01-01        NaN   NaN  4.543018   4.199306    NaN   0.701835   \n",
       "1999-01-01        NaN   NaN  2.155487   5.142459    NaN   1.083688   \n",
       "2017-01-01  51.803585  81.6  3.378882  39.797356  37.82  36.522919   \n",
       "2018-01-01  37.990000  67.9  2.575000  43.740000  46.00  35.250000   \n",
       "\n",
       "ticker             AAP  AAPC        AAPL        AAT   AAU  AAV  AAVL   AAWW  \\\n",
       "date                                                                          \n",
       "1998-01-01         NaN   NaN    1.300324        NaN   NaN  NaN   NaN    NaN   \n",
       "1999-01-01         NaN   NaN    3.265419        NaN   NaN  NaN   NaN    NaN   \n",
       "2017-01-01   99.593649  10.6  167.901180  37.654925  1.03  4.3   NaN  58.65   \n",
       "2018-01-01  135.860000   NaN  185.400000  38.860000  0.71  3.1   NaN  71.45   \n",
       "\n",
       "ticker           AAXJ   AAXN  AA_P_B  AA_W  ...    ZOES     ZOM  ZOOM  ZPIN  \\\n",
       "date                                        ...                               \n",
       "1998-01-01        NaN    NaN     NaN   NaN  ...     NaN     NaN  4.00   NaN   \n",
       "1999-01-01        NaN    NaN     NaN   NaN  ...     NaN     NaN  8.44   NaN   \n",
       "2017-01-01  75.858764  26.50     NaN   NaN  ...   16.72  1.9771   NaN  18.2   \n",
       "2018-01-01  70.250000  64.98     NaN   NaN  ...   10.16  2.2100   NaN   NaN   \n",
       "\n",
       "ticker        ZQK        ZROZ     ZS   ZSAN    ZSL  ZSML  ZSPH        ZTO  \\\n",
       "date                                                                        \n",
       "1998-01-01  5.000         NaN    NaN    NaN    NaN   NaN   NaN        NaN   \n",
       "1999-01-01  3.875         NaN    NaN    NaN    NaN   NaN   NaN        NaN   \n",
       "2017-01-01    NaN  120.593382    NaN  10.40  31.40  26.9   NaN  15.641173   \n",
       "2018-01-01    NaN  115.750000  36.67   4.68  34.91   NaN   NaN  19.450000   \n",
       "\n",
       "ticker            ZTR        ZTS  ZU    ZUMZ    ZUO  ZVZZC  ZVZZCNX      ZX  \\\n",
       "date                                                                          \n",
       "1998-01-01  10.714852        NaN NaN     NaN    NaN    NaN      NaN     NaN   \n",
       "1999-01-01   8.671104        NaN NaN     NaN    NaN    NaN      NaN     NaN   \n",
       "2017-01-01  12.643875  71.815333 NaN  20.825    NaN  100.1      NaN  1.2165   \n",
       "2018-01-01  11.450000  86.150000 NaN  24.300  26.74    NaN      NaN  1.3800   \n",
       "\n",
       "ticker      ZXYZ_A     ZYME   ZYNE   ZZK   ZZZ  \n",
       "date                                            \n",
       "1998-01-01     NaN      NaN    NaN   NaN   NaN  \n",
       "1999-01-01     NaN      NaN    NaN   NaN   NaN  \n",
       "2017-01-01     NaN   7.5931  12.52  25.0  0.01  \n",
       "2018-01-01     NaN  15.3400   9.17   NaN   NaN  \n",
       "\n",
       "[4 rows x 11941 columns]"
      ]
     },
     "execution_count": 12,
     "metadata": {},
     "output_type": "execute_result"
    }
   ],
   "source": [
    "pd.concat([pricing_yr.head(2), pricing_yr.tail(2)], axis=0)"
   ]
  },
  {
   "cell_type": "code",
   "execution_count": 13,
   "metadata": {},
   "outputs": [
    {
     "data": {
      "text/html": [
       "<div>\n",
       "<style scoped>\n",
       "    .dataframe tbody tr th:only-of-type {\n",
       "        vertical-align: middle;\n",
       "    }\n",
       "\n",
       "    .dataframe tbody tr th {\n",
       "        vertical-align: top;\n",
       "    }\n",
       "\n",
       "    .dataframe thead th {\n",
       "        text-align: right;\n",
       "    }\n",
       "</style>\n",
       "<table border=\"1\" class=\"dataframe\">\n",
       "  <thead>\n",
       "    <tr style=\"text-align: right;\">\n",
       "      <th></th>\n",
       "      <th>A</th>\n",
       "      <th>AAL</th>\n",
       "      <th>AAP</th>\n",
       "      <th>AAPL</th>\n",
       "      <th>ABBV</th>\n",
       "      <th>ABC</th>\n",
       "      <th>ABT</th>\n",
       "      <th>ACN</th>\n",
       "      <th>ADBE</th>\n",
       "      <th>ADI</th>\n",
       "      <th>ADM</th>\n",
       "      <th>ADP</th>\n",
       "      <th>ADS</th>\n",
       "      <th>ADSK</th>\n",
       "      <th>AEE</th>\n",
       "      <th>AEP</th>\n",
       "      <th>AES</th>\n",
       "      <th>AET</th>\n",
       "      <th>AFL</th>\n",
       "      <th>AGN</th>\n",
       "      <th>AIG</th>\n",
       "      <th>AIV</th>\n",
       "      <th>AIZ</th>\n",
       "      <th>AJG</th>\n",
       "      <th>AKAM</th>\n",
       "      <th>...</th>\n",
       "      <th>WBA</th>\n",
       "      <th>WDC</th>\n",
       "      <th>WEC</th>\n",
       "      <th>WFC</th>\n",
       "      <th>WHR</th>\n",
       "      <th>WM</th>\n",
       "      <th>WMB</th>\n",
       "      <th>WMT</th>\n",
       "      <th>WRK</th>\n",
       "      <th>WU</th>\n",
       "      <th>WY</th>\n",
       "      <th>WYN</th>\n",
       "      <th>WYNN</th>\n",
       "      <th>XEC</th>\n",
       "      <th>XEL</th>\n",
       "      <th>XL</th>\n",
       "      <th>XLNX</th>\n",
       "      <th>XOM</th>\n",
       "      <th>XRAY</th>\n",
       "      <th>XRX</th>\n",
       "      <th>XYL</th>\n",
       "      <th>YUM</th>\n",
       "      <th>ZBH</th>\n",
       "      <th>ZION</th>\n",
       "      <th>ZTS</th>\n",
       "    </tr>\n",
       "    <tr>\n",
       "      <th>date</th>\n",
       "      <th></th>\n",
       "      <th></th>\n",
       "      <th></th>\n",
       "      <th></th>\n",
       "      <th></th>\n",
       "      <th></th>\n",
       "      <th></th>\n",
       "      <th></th>\n",
       "      <th></th>\n",
       "      <th></th>\n",
       "      <th></th>\n",
       "      <th></th>\n",
       "      <th></th>\n",
       "      <th></th>\n",
       "      <th></th>\n",
       "      <th></th>\n",
       "      <th></th>\n",
       "      <th></th>\n",
       "      <th></th>\n",
       "      <th></th>\n",
       "      <th></th>\n",
       "      <th></th>\n",
       "      <th></th>\n",
       "      <th></th>\n",
       "      <th></th>\n",
       "      <th></th>\n",
       "      <th></th>\n",
       "      <th></th>\n",
       "      <th></th>\n",
       "      <th></th>\n",
       "      <th></th>\n",
       "      <th></th>\n",
       "      <th></th>\n",
       "      <th></th>\n",
       "      <th></th>\n",
       "      <th></th>\n",
       "      <th></th>\n",
       "      <th></th>\n",
       "      <th></th>\n",
       "      <th></th>\n",
       "      <th></th>\n",
       "      <th></th>\n",
       "      <th></th>\n",
       "      <th></th>\n",
       "      <th></th>\n",
       "      <th></th>\n",
       "      <th></th>\n",
       "      <th></th>\n",
       "      <th></th>\n",
       "      <th></th>\n",
       "      <th></th>\n",
       "    </tr>\n",
       "  </thead>\n",
       "  <tbody>\n",
       "    <tr>\n",
       "      <th>2011-01-06</th>\n",
       "      <td>57.014</td>\n",
       "      <td>10.822</td>\n",
       "      <td>59.209</td>\n",
       "      <td>42.399</td>\n",
       "      <td>NaN</td>\n",
       "      <td>31.088</td>\n",
       "      <td>19.926</td>\n",
       "      <td>41.270</td>\n",
       "      <td>32.27</td>\n",
       "      <td>30.936</td>\n",
       "      <td>26.230</td>\n",
       "      <td>34.990</td>\n",
       "      <td>70.301</td>\n",
       "      <td>41.26</td>\n",
       "      <td>20.703</td>\n",
       "      <td>26.659</td>\n",
       "      <td>10.986</td>\n",
       "      <td>29.308</td>\n",
       "      <td>23.236</td>\n",
       "      <td>50.648</td>\n",
       "      <td>46.749</td>\n",
       "      <td>20.247</td>\n",
       "      <td>32.972</td>\n",
       "      <td>22.599</td>\n",
       "      <td>48.45</td>\n",
       "      <td>...</td>\n",
       "      <td>35.023</td>\n",
       "      <td>28.571</td>\n",
       "      <td>22.424</td>\n",
       "      <td>26.328</td>\n",
       "      <td>73.779</td>\n",
       "      <td>28.636</td>\n",
       "      <td>14.060</td>\n",
       "      <td>44.446</td>\n",
       "      <td>NaN</td>\n",
       "      <td>15.490</td>\n",
       "      <td>15.583</td>\n",
       "      <td>25.603</td>\n",
       "      <td>85.930</td>\n",
       "      <td>85.815</td>\n",
       "      <td>17.834</td>\n",
       "      <td>19.045</td>\n",
       "      <td>25.095</td>\n",
       "      <td>59.697</td>\n",
       "      <td>33.386</td>\n",
       "      <td>25.945</td>\n",
       "      <td>NaN</td>\n",
       "      <td>30.184</td>\n",
       "      <td>49.601</td>\n",
       "      <td>23.427</td>\n",
       "      <td>NaN</td>\n",
       "    </tr>\n",
       "    <tr>\n",
       "      <th>2011-01-07</th>\n",
       "      <td>57.495</td>\n",
       "      <td>10.976</td>\n",
       "      <td>60.790</td>\n",
       "      <td>42.702</td>\n",
       "      <td>NaN</td>\n",
       "      <td>31.150</td>\n",
       "      <td>20.009</td>\n",
       "      <td>41.338</td>\n",
       "      <td>32.04</td>\n",
       "      <td>30.756</td>\n",
       "      <td>26.445</td>\n",
       "      <td>35.070</td>\n",
       "      <td>70.026</td>\n",
       "      <td>40.76</td>\n",
       "      <td>20.703</td>\n",
       "      <td>26.555</td>\n",
       "      <td>10.986</td>\n",
       "      <td>29.371</td>\n",
       "      <td>23.145</td>\n",
       "      <td>51.440</td>\n",
       "      <td>47.314</td>\n",
       "      <td>20.088</td>\n",
       "      <td>32.596</td>\n",
       "      <td>22.458</td>\n",
       "      <td>48.69</td>\n",
       "      <td>...</td>\n",
       "      <td>34.814</td>\n",
       "      <td>28.589</td>\n",
       "      <td>22.594</td>\n",
       "      <td>25.796</td>\n",
       "      <td>73.468</td>\n",
       "      <td>28.479</td>\n",
       "      <td>14.283</td>\n",
       "      <td>44.545</td>\n",
       "      <td>NaN</td>\n",
       "      <td>15.346</td>\n",
       "      <td>16.011</td>\n",
       "      <td>25.509</td>\n",
       "      <td>88.972</td>\n",
       "      <td>87.296</td>\n",
       "      <td>17.993</td>\n",
       "      <td>19.010</td>\n",
       "      <td>24.954</td>\n",
       "      <td>60.023</td>\n",
       "      <td>33.251</td>\n",
       "      <td>25.583</td>\n",
       "      <td>NaN</td>\n",
       "      <td>30.560</td>\n",
       "      <td>49.592</td>\n",
       "      <td>23.182</td>\n",
       "      <td>NaN</td>\n",
       "    </tr>\n",
       "    <tr>\n",
       "      <th>2016-01-04</th>\n",
       "      <td>130.838</td>\n",
       "      <td>39.933</td>\n",
       "      <td>151.537</td>\n",
       "      <td>100.621</td>\n",
       "      <td>52.526</td>\n",
       "      <td>97.613</td>\n",
       "      <td>40.544</td>\n",
       "      <td>96.984</td>\n",
       "      <td>91.97</td>\n",
       "      <td>51.310</td>\n",
       "      <td>33.183</td>\n",
       "      <td>77.587</td>\n",
       "      <td>267.230</td>\n",
       "      <td>60.31</td>\n",
       "      <td>39.633</td>\n",
       "      <td>53.390</td>\n",
       "      <td>8.493</td>\n",
       "      <td>106.357</td>\n",
       "      <td>27.897</td>\n",
       "      <td>300.779</td>\n",
       "      <td>57.212</td>\n",
       "      <td>36.450</td>\n",
       "      <td>74.077</td>\n",
       "      <td>37.451</td>\n",
       "      <td>52.31</td>\n",
       "      <td>...</td>\n",
       "      <td>79.032</td>\n",
       "      <td>56.158</td>\n",
       "      <td>47.153</td>\n",
       "      <td>49.176</td>\n",
       "      <td>139.143</td>\n",
       "      <td>49.421</td>\n",
       "      <td>22.642</td>\n",
       "      <td>57.521</td>\n",
       "      <td>37.972</td>\n",
       "      <td>16.153</td>\n",
       "      <td>27.113</td>\n",
       "      <td>66.912</td>\n",
       "      <td>65.687</td>\n",
       "      <td>89.186</td>\n",
       "      <td>32.915</td>\n",
       "      <td>36.226</td>\n",
       "      <td>43.194</td>\n",
       "      <td>70.617</td>\n",
       "      <td>58.018</td>\n",
       "      <td>26.056</td>\n",
       "      <td>34.923</td>\n",
       "      <td>49.300</td>\n",
       "      <td>99.714</td>\n",
       "      <td>25.983</td>\n",
       "      <td>46.398</td>\n",
       "    </tr>\n",
       "    <tr>\n",
       "      <th>2016-01-05</th>\n",
       "      <td>131.369</td>\n",
       "      <td>39.552</td>\n",
       "      <td>150.502</td>\n",
       "      <td>98.100</td>\n",
       "      <td>52.307</td>\n",
       "      <td>99.041</td>\n",
       "      <td>40.534</td>\n",
       "      <td>97.489</td>\n",
       "      <td>92.34</td>\n",
       "      <td>50.933</td>\n",
       "      <td>33.553</td>\n",
       "      <td>77.776</td>\n",
       "      <td>269.531</td>\n",
       "      <td>60.39</td>\n",
       "      <td>40.103</td>\n",
       "      <td>53.829</td>\n",
       "      <td>8.611</td>\n",
       "      <td>107.837</td>\n",
       "      <td>27.859</td>\n",
       "      <td>302.012</td>\n",
       "      <td>57.410</td>\n",
       "      <td>37.378</td>\n",
       "      <td>75.313</td>\n",
       "      <td>37.553</td>\n",
       "      <td>52.02</td>\n",
       "      <td>...</td>\n",
       "      <td>76.958</td>\n",
       "      <td>55.916</td>\n",
       "      <td>47.659</td>\n",
       "      <td>49.157</td>\n",
       "      <td>136.146</td>\n",
       "      <td>49.610</td>\n",
       "      <td>22.720</td>\n",
       "      <td>58.887</td>\n",
       "      <td>37.947</td>\n",
       "      <td>16.089</td>\n",
       "      <td>27.177</td>\n",
       "      <td>67.441</td>\n",
       "      <td>66.929</td>\n",
       "      <td>89.761</td>\n",
       "      <td>33.247</td>\n",
       "      <td>36.302</td>\n",
       "      <td>43.836</td>\n",
       "      <td>71.218</td>\n",
       "      <td>59.201</td>\n",
       "      <td>26.005</td>\n",
       "      <td>34.913</td>\n",
       "      <td>49.177</td>\n",
       "      <td>101.790</td>\n",
       "      <td>25.701</td>\n",
       "      <td>47.124</td>\n",
       "    </tr>\n",
       "  </tbody>\n",
       "</table>\n",
       "<p>4 rows × 490 columns</p>\n",
       "</div>"
      ],
      "text/plain": [
       "                  A     AAL      AAP     AAPL    ABBV     ABC     ABT     ACN  \\\n",
       "date                                                                            \n",
       "2011-01-06   57.014  10.822   59.209   42.399     NaN  31.088  19.926  41.270   \n",
       "2011-01-07   57.495  10.976   60.790   42.702     NaN  31.150  20.009  41.338   \n",
       "2016-01-04  130.838  39.933  151.537  100.621  52.526  97.613  40.544  96.984   \n",
       "2016-01-05  131.369  39.552  150.502   98.100  52.307  99.041  40.534  97.489   \n",
       "\n",
       "             ADBE     ADI     ADM     ADP      ADS   ADSK     AEE     AEP  \\\n",
       "date                                                                        \n",
       "2011-01-06  32.27  30.936  26.230  34.990   70.301  41.26  20.703  26.659   \n",
       "2011-01-07  32.04  30.756  26.445  35.070   70.026  40.76  20.703  26.555   \n",
       "2016-01-04  91.97  51.310  33.183  77.587  267.230  60.31  39.633  53.390   \n",
       "2016-01-05  92.34  50.933  33.553  77.776  269.531  60.39  40.103  53.829   \n",
       "\n",
       "               AES      AET     AFL      AGN     AIG     AIV     AIZ     AJG  \\\n",
       "date                                                                           \n",
       "2011-01-06  10.986   29.308  23.236   50.648  46.749  20.247  32.972  22.599   \n",
       "2011-01-07  10.986   29.371  23.145   51.440  47.314  20.088  32.596  22.458   \n",
       "2016-01-04   8.493  106.357  27.897  300.779  57.212  36.450  74.077  37.451   \n",
       "2016-01-05   8.611  107.837  27.859  302.012  57.410  37.378  75.313  37.553   \n",
       "\n",
       "             AKAM   ...       WBA     WDC     WEC     WFC      WHR      WM  \\\n",
       "date                ...                                                      \n",
       "2011-01-06  48.45   ...    35.023  28.571  22.424  26.328   73.779  28.636   \n",
       "2011-01-07  48.69   ...    34.814  28.589  22.594  25.796   73.468  28.479   \n",
       "2016-01-04  52.31   ...    79.032  56.158  47.153  49.176  139.143  49.421   \n",
       "2016-01-05  52.02   ...    76.958  55.916  47.659  49.157  136.146  49.610   \n",
       "\n",
       "               WMB     WMT     WRK      WU      WY     WYN    WYNN     XEC  \\\n",
       "date                                                                         \n",
       "2011-01-06  14.060  44.446     NaN  15.490  15.583  25.603  85.930  85.815   \n",
       "2011-01-07  14.283  44.545     NaN  15.346  16.011  25.509  88.972  87.296   \n",
       "2016-01-04  22.642  57.521  37.972  16.153  27.113  66.912  65.687  89.186   \n",
       "2016-01-05  22.720  58.887  37.947  16.089  27.177  67.441  66.929  89.761   \n",
       "\n",
       "               XEL      XL    XLNX     XOM    XRAY     XRX     XYL     YUM  \\\n",
       "date                                                                         \n",
       "2011-01-06  17.834  19.045  25.095  59.697  33.386  25.945     NaN  30.184   \n",
       "2011-01-07  17.993  19.010  24.954  60.023  33.251  25.583     NaN  30.560   \n",
       "2016-01-04  32.915  36.226  43.194  70.617  58.018  26.056  34.923  49.300   \n",
       "2016-01-05  33.247  36.302  43.836  71.218  59.201  26.005  34.913  49.177   \n",
       "\n",
       "                ZBH    ZION     ZTS  \n",
       "date                                 \n",
       "2011-01-06   49.601  23.427     NaN  \n",
       "2011-01-07   49.592  23.182     NaN  \n",
       "2016-01-04   99.714  25.983  46.398  \n",
       "2016-01-05  101.790  25.701  47.124  \n",
       "\n",
       "[4 rows x 490 columns]"
      ]
     },
     "execution_count": 13,
     "metadata": {},
     "output_type": "execute_result"
    }
   ],
   "source": [
    "# Daily pricing\n",
    "pricing = pd.read_csv(io_utils.interim_path + INFILE4, parse_dates=['date'], index_col='date')\n",
    "\n",
    "pd.concat([pricing.head(2), pricing.tail(2)], axis=0)"
   ]
  },
  {
   "cell_type": "markdown",
   "metadata": {},
   "source": [
    "## Sector Metadata"
   ]
  },
  {
   "cell_type": "code",
   "execution_count": 14,
   "metadata": {},
   "outputs": [],
   "source": [
    "SECTOR_FOLDER = cfg['quantopian']['dataset1']['sector_folder']\n",
    "SECTOR_NAMES = cfg['quantopian']['dataset1']['sector_names']\n",
    "\n",
    "# Specify the bundle path\n",
    "sector_file = os.path.join(io_utils.raw_path, 'market_data',SECTOR_FOLDER, SECTOR_NAMES)"
   ]
  },
  {
   "cell_type": "code",
   "execution_count": 15,
   "metadata": {},
   "outputs": [
    {
     "data": {
      "text/html": [
       "<div>\n",
       "<style scoped>\n",
       "    .dataframe tbody tr th:only-of-type {\n",
       "        vertical-align: middle;\n",
       "    }\n",
       "\n",
       "    .dataframe tbody tr th {\n",
       "        vertical-align: top;\n",
       "    }\n",
       "\n",
       "    .dataframe thead th {\n",
       "        text-align: right;\n",
       "    }\n",
       "</style>\n",
       "<table border=\"1\" class=\"dataframe\">\n",
       "  <thead>\n",
       "    <tr style=\"text-align: right;\">\n",
       "      <th></th>\n",
       "      <th>Sector</th>\n",
       "    </tr>\n",
       "    <tr>\n",
       "      <th>sector_id</th>\n",
       "      <th></th>\n",
       "    </tr>\n",
       "  </thead>\n",
       "  <tbody>\n",
       "    <tr>\n",
       "      <th>0</th>\n",
       "      <td>Healthcare</td>\n",
       "    </tr>\n",
       "    <tr>\n",
       "      <th>1</th>\n",
       "      <td>Technology</td>\n",
       "    </tr>\n",
       "    <tr>\n",
       "      <th>2</th>\n",
       "      <td>Consumer Defensive</td>\n",
       "    </tr>\n",
       "    <tr>\n",
       "      <th>3</th>\n",
       "      <td>Industrials</td>\n",
       "    </tr>\n",
       "    <tr>\n",
       "      <th>4</th>\n",
       "      <td>Utilities</td>\n",
       "    </tr>\n",
       "    <tr>\n",
       "      <th>5</th>\n",
       "      <td>Financial Services</td>\n",
       "    </tr>\n",
       "    <tr>\n",
       "      <th>6</th>\n",
       "      <td>Real Estate</td>\n",
       "    </tr>\n",
       "    <tr>\n",
       "      <th>7</th>\n",
       "      <td>Communication Services</td>\n",
       "    </tr>\n",
       "    <tr>\n",
       "      <th>8</th>\n",
       "      <td>Consumer Cyclical</td>\n",
       "    </tr>\n",
       "    <tr>\n",
       "      <th>9</th>\n",
       "      <td>Energy</td>\n",
       "    </tr>\n",
       "    <tr>\n",
       "      <th>10</th>\n",
       "      <td>Basic Materials</td>\n",
       "    </tr>\n",
       "    <tr>\n",
       "      <th>-1</th>\n",
       "      <td>No sector</td>\n",
       "    </tr>\n",
       "  </tbody>\n",
       "</table>\n",
       "</div>"
      ],
      "text/plain": [
       "                           Sector\n",
       "sector_id                        \n",
       " 0                     Healthcare\n",
       " 1                     Technology\n",
       " 2             Consumer Defensive\n",
       " 3                    Industrials\n",
       " 4                      Utilities\n",
       " 5             Financial Services\n",
       " 6                    Real Estate\n",
       " 7         Communication Services\n",
       " 8              Consumer Cyclical\n",
       " 9                         Energy\n",
       " 10               Basic Materials\n",
       "-1                      No sector"
      ]
     },
     "execution_count": 15,
     "metadata": {},
     "output_type": "execute_result"
    }
   ],
   "source": [
    "sector_names = pd.read_csv(sector_file, usecols=['Sector', 'sector_id'], index_col='sector_id')\n",
    "sector_names.loc[-1, 'Sector'] = 'No sector'\n",
    "sector_names = sector_names.drop_duplicates()\n",
    "\n",
    "sector_names"
   ]
  },
  {
   "cell_type": "code",
   "execution_count": 16,
   "metadata": {},
   "outputs": [
    {
     "data": {
      "text/html": [
       "<div>\n",
       "<style scoped>\n",
       "    .dataframe tbody tr th:only-of-type {\n",
       "        vertical-align: middle;\n",
       "    }\n",
       "\n",
       "    .dataframe tbody tr th {\n",
       "        vertical-align: top;\n",
       "    }\n",
       "\n",
       "    .dataframe thead th {\n",
       "        text-align: right;\n",
       "    }\n",
       "</style>\n",
       "<table border=\"1\" class=\"dataframe\">\n",
       "  <thead>\n",
       "    <tr style=\"text-align: right;\">\n",
       "      <th></th>\n",
       "      <th></th>\n",
       "      <th>sector_code</th>\n",
       "      <th>sector</th>\n",
       "    </tr>\n",
       "    <tr>\n",
       "      <th>date</th>\n",
       "      <th>asset</th>\n",
       "      <th></th>\n",
       "      <th></th>\n",
       "    </tr>\n",
       "  </thead>\n",
       "  <tbody>\n",
       "    <tr>\n",
       "      <th rowspan=\"2\" valign=\"top\">2013-01-03</th>\n",
       "      <th>A</th>\n",
       "      <td>0</td>\n",
       "      <td>Healthcare</td>\n",
       "    </tr>\n",
       "    <tr>\n",
       "      <th>AAL</th>\n",
       "      <td>3</td>\n",
       "      <td>Industrials</td>\n",
       "    </tr>\n",
       "    <tr>\n",
       "      <th rowspan=\"2\" valign=\"top\">2015-12-28</th>\n",
       "      <th>ZION</th>\n",
       "      <td>5</td>\n",
       "      <td>Financial Services</td>\n",
       "    </tr>\n",
       "    <tr>\n",
       "      <th>ZTS</th>\n",
       "      <td>0</td>\n",
       "      <td>Healthcare</td>\n",
       "    </tr>\n",
       "  </tbody>\n",
       "</table>\n",
       "</div>"
      ],
      "text/plain": [
       "                  sector_code              sector\n",
       "date       asset                                 \n",
       "2013-01-03 A                0          Healthcare\n",
       "           AAL              3         Industrials\n",
       "2015-12-28 ZION             5  Financial Services\n",
       "           ZTS              0          Healthcare"
      ]
     },
     "execution_count": 16,
     "metadata": {},
     "output_type": "execute_result"
    }
   ],
   "source": [
    "sector_factor_df = pd.read_csv(io_utils.interim_path + INFILE5, parse_dates=['date'], index_col=[0,1])\n",
    "\n",
    "sector_factor_df = sector_factor_df.reset_index().merge(sector_names, how='left', left_on='sector_code', right_index=True).\\\n",
    "    set_index(keys=['date', 'asset'])[['sector_code', 'Sector']]\n",
    "sector_factor_df.columns = ['sector_code', 'sector']\n",
    "\n",
    "pd.concat([sector_factor_df.head(2), sector_factor_df.tail(2)], axis=0)"
   ]
  },
  {
   "cell_type": "code",
   "execution_count": 17,
   "metadata": {},
   "outputs": [
    {
     "data": {
      "text/html": [
       "<div>\n",
       "<style scoped>\n",
       "    .dataframe tbody tr th:only-of-type {\n",
       "        vertical-align: middle;\n",
       "    }\n",
       "\n",
       "    .dataframe tbody tr th {\n",
       "        vertical-align: top;\n",
       "    }\n",
       "\n",
       "    .dataframe thead th {\n",
       "        text-align: right;\n",
       "    }\n",
       "</style>\n",
       "<table border=\"1\" class=\"dataframe\">\n",
       "  <thead>\n",
       "    <tr style=\"text-align: right;\">\n",
       "      <th></th>\n",
       "      <th>sector_code</th>\n",
       "      <th>sector</th>\n",
       "    </tr>\n",
       "    <tr>\n",
       "      <th>asset</th>\n",
       "      <th></th>\n",
       "      <th></th>\n",
       "    </tr>\n",
       "  </thead>\n",
       "  <tbody>\n",
       "    <tr>\n",
       "      <th>A</th>\n",
       "      <td>0</td>\n",
       "      <td>Healthcare</td>\n",
       "    </tr>\n",
       "    <tr>\n",
       "      <th>AAL</th>\n",
       "      <td>3</td>\n",
       "      <td>Industrials</td>\n",
       "    </tr>\n",
       "    <tr>\n",
       "      <th>HPE</th>\n",
       "      <td>1</td>\n",
       "      <td>Technology</td>\n",
       "    </tr>\n",
       "    <tr>\n",
       "      <th>CSRA</th>\n",
       "      <td>1</td>\n",
       "      <td>Technology</td>\n",
       "    </tr>\n",
       "  </tbody>\n",
       "</table>\n",
       "</div>"
      ],
      "text/plain": [
       "       sector_code       sector\n",
       "asset                          \n",
       "A                0   Healthcare\n",
       "AAL              3  Industrials\n",
       "HPE              1   Technology\n",
       "CSRA             1   Technology"
      ]
     },
     "execution_count": 17,
     "metadata": {},
     "output_type": "execute_result"
    }
   ],
   "source": [
    "# Mapping from asset to sector (no date)\n",
    "sector_to_asset = sector_factor_df.reset_index('asset').drop_duplicates().set_index('asset')\n",
    "\n",
    "pd.concat([sector_to_asset.head(2), sector_to_asset.tail(2)], axis=0)"
   ]
  },
  {
   "cell_type": "markdown",
   "metadata": {},
   "source": [
    "## NLP Alpha Factors"
   ]
  },
  {
   "cell_type": "code",
   "execution_count": 18,
   "metadata": {},
   "outputs": [
    {
     "data": {
      "text/html": [
       "<div>\n",
       "<style scoped>\n",
       "    .dataframe tbody tr th:only-of-type {\n",
       "        vertical-align: middle;\n",
       "    }\n",
       "\n",
       "    .dataframe tbody tr th {\n",
       "        vertical-align: top;\n",
       "    }\n",
       "\n",
       "    .dataframe thead th {\n",
       "        text-align: right;\n",
       "    }\n",
       "</style>\n",
       "<table border=\"1\" class=\"dataframe\">\n",
       "  <thead>\n",
       "    <tr style=\"text-align: right;\">\n",
       "      <th></th>\n",
       "      <th>ticker</th>\n",
       "      <th>date_filling</th>\n",
       "      <th>negative</th>\n",
       "      <th>positive</th>\n",
       "      <th>uncertainty</th>\n",
       "      <th>litigious</th>\n",
       "      <th>constraining</th>\n",
       "      <th>interesting</th>\n",
       "      <th>date</th>\n",
       "    </tr>\n",
       "  </thead>\n",
       "  <tbody>\n",
       "    <tr>\n",
       "      <th>0</th>\n",
       "      <td>AAL</td>\n",
       "      <td>2003-04-15</td>\n",
       "      <td>0.156000</td>\n",
       "      <td>-0.550589</td>\n",
       "      <td>0.523059</td>\n",
       "      <td>-0.954354</td>\n",
       "      <td>-1.624239</td>\n",
       "      <td>1.486592</td>\n",
       "      <td>2003-01-01</td>\n",
       "    </tr>\n",
       "    <tr>\n",
       "      <th>1</th>\n",
       "      <td>AAL</td>\n",
       "      <td>2004-02-27</td>\n",
       "      <td>0.760193</td>\n",
       "      <td>-1.006005</td>\n",
       "      <td>0.696464</td>\n",
       "      <td>-0.268571</td>\n",
       "      <td>-1.042421</td>\n",
       "      <td>1.260921</td>\n",
       "      <td>2004-01-01</td>\n",
       "    </tr>\n",
       "    <tr>\n",
       "      <th>8632</th>\n",
       "      <td>ZTS</td>\n",
       "      <td>2016-02-24</td>\n",
       "      <td>0.919365</td>\n",
       "      <td>-1.020223</td>\n",
       "      <td>-0.694372</td>\n",
       "      <td>-1.206424</td>\n",
       "      <td>-0.329730</td>\n",
       "      <td>0.539205</td>\n",
       "      <td>2016-01-01</td>\n",
       "    </tr>\n",
       "    <tr>\n",
       "      <th>8633</th>\n",
       "      <td>ZTS</td>\n",
       "      <td>2017-02-16</td>\n",
       "      <td>1.069740</td>\n",
       "      <td>-1.556336</td>\n",
       "      <td>-0.606315</td>\n",
       "      <td>-0.227851</td>\n",
       "      <td>1.324624</td>\n",
       "      <td>-0.050204</td>\n",
       "      <td>2017-01-01</td>\n",
       "    </tr>\n",
       "  </tbody>\n",
       "</table>\n",
       "</div>"
      ],
      "text/plain": [
       "     ticker date_filling  negative  positive  uncertainty  litigious  \\\n",
       "0       AAL   2003-04-15  0.156000 -0.550589     0.523059  -0.954354   \n",
       "1       AAL   2004-02-27  0.760193 -1.006005     0.696464  -0.268571   \n",
       "8632    ZTS   2016-02-24  0.919365 -1.020223    -0.694372  -1.206424   \n",
       "8633    ZTS   2017-02-16  1.069740 -1.556336    -0.606315  -0.227851   \n",
       "\n",
       "      constraining  interesting       date  \n",
       "0        -1.624239     1.486592 2003-01-01  \n",
       "1        -1.042421     1.260921 2004-01-01  \n",
       "8632     -0.329730     0.539205 2016-01-01  \n",
       "8633      1.324624    -0.050204 2017-01-01  "
      ]
     },
     "execution_count": 18,
     "metadata": {},
     "output_type": "execute_result"
    }
   ],
   "source": [
    "sent_alphas_lou = pd.read_csv(INPATH3+INFILE6, parse_dates=['date']).rename(columns={'date': 'date_filling'})\n",
    "\n",
    "mask = sent_alphas_lou['date_filling'].between( pd.Timestamp(START_DT), pd.Timestamp(END_DT))\n",
    "sent_alphas_lou = sent_alphas_lou.loc[mask].copy()\n",
    "\n",
    "sent_alphas_lou['date'] = sent_alphas_lou['date_filling'].dt.year.apply(lambda x: dt.datetime(year=x, month=1, day=1))\n",
    "date_filling = sent_alphas_lou['date_filling']\n",
    "sent_alphas_lou['ticker'] = sent_alphas_lou['ticker'].str.upper()\n",
    "\n",
    "pd.concat([sent_alphas_lou.head(2), sent_alphas_lou.tail(2)], axis=0)"
   ]
  },
  {
   "cell_type": "code",
   "execution_count": 19,
   "metadata": {},
   "outputs": [
    {
     "data": {
      "text/html": [
       "<div>\n",
       "<style scoped>\n",
       "    .dataframe tbody tr th:only-of-type {\n",
       "        vertical-align: middle;\n",
       "    }\n",
       "\n",
       "    .dataframe tbody tr th {\n",
       "        vertical-align: top;\n",
       "    }\n",
       "\n",
       "    .dataframe thead th {\n",
       "        text-align: right;\n",
       "    }\n",
       "</style>\n",
       "<table border=\"1\" class=\"dataframe\">\n",
       "  <thead>\n",
       "    <tr style=\"text-align: right;\">\n",
       "      <th></th>\n",
       "      <th>date</th>\n",
       "      <th>ticker</th>\n",
       "      <th>ml_bow_sentiment</th>\n",
       "    </tr>\n",
       "  </thead>\n",
       "  <tbody>\n",
       "    <tr>\n",
       "      <th>0</th>\n",
       "      <td>1998-01-01</td>\n",
       "      <td>ABT</td>\n",
       "      <td>-0.126626</td>\n",
       "    </tr>\n",
       "    <tr>\n",
       "      <th>1</th>\n",
       "      <td>1998-01-01</td>\n",
       "      <td>ADBE</td>\n",
       "      <td>0.904468</td>\n",
       "    </tr>\n",
       "    <tr>\n",
       "      <th>7252</th>\n",
       "      <td>2017-01-01</td>\n",
       "      <td>ZION</td>\n",
       "      <td>-1.370159</td>\n",
       "    </tr>\n",
       "    <tr>\n",
       "      <th>7253</th>\n",
       "      <td>2017-01-01</td>\n",
       "      <td>ZTS</td>\n",
       "      <td>0.015482</td>\n",
       "    </tr>\n",
       "  </tbody>\n",
       "</table>\n",
       "</div>"
      ],
      "text/plain": [
       "           date ticker  ml_bow_sentiment\n",
       "0    1998-01-01    ABT         -0.126626\n",
       "1    1998-01-01   ADBE          0.904468\n",
       "7252 2017-01-01   ZION         -1.370159\n",
       "7253 2017-01-01    ZTS          0.015482"
      ]
     },
     "execution_count": 19,
     "metadata": {},
     "output_type": "execute_result"
    }
   ],
   "source": [
    "sent_alphas_mlbow = pd.read_csv(INPATH3+INFILE7, parse_dates=['date', 'date_filling'])\n",
    "splits = sent_alphas_mlbow.pop('split')\n",
    "sent_alphas_mlbow['ticker'] = sent_alphas_mlbow['ticker'].str.upper()\n",
    "\n",
    "sent_alphas_mlbow_20d_5d = sent_alphas_mlbow[['date_filling', 'ticker', 'sentiment_score_5d', 'sentiment_score_20d']].\\\n",
    "    rename(columns={'sentiment_score_5d': 'ml_bow_sentiment_5d',\n",
    "                   'sentiment_score_20d': 'ml_bow_sentiment_20d'}).dropna().set_index(['date_filling', 'ticker'])\n",
    "\n",
    "sent_alphas_mlbow = sent_alphas_mlbow[['date', 'ticker', 'sentiment_score']].rename(columns={'sentiment_score': 'ml_bow_sentiment'})\n",
    "#sent_alphas_mlbow['ticker'] = sent_alphas_mlbow['ticker'].str.upper()\n",
    "\n",
    "pd.concat([sent_alphas_mlbow.head(2), sent_alphas_mlbow.tail(2)], axis=0)"
   ]
  },
  {
   "cell_type": "code",
   "execution_count": 20,
   "metadata": {},
   "outputs": [
    {
     "data": {
      "text/plain": [
       "((7322,), (7322,))"
      ]
     },
     "execution_count": 20,
     "metadata": {},
     "output_type": "execute_result"
    }
   ],
   "source": [
    "sent_alphas_lou.index.shape, sent_alphas_lou.index.drop_duplicates().shape"
   ]
  },
  {
   "cell_type": "code",
   "execution_count": 21,
   "metadata": {},
   "outputs": [
    {
     "data": {
      "text/plain": [
       "((7254,), (7254,))"
      ]
     },
     "execution_count": 21,
     "metadata": {},
     "output_type": "execute_result"
    }
   ],
   "source": [
    "sent_alphas_mlbow.index.shape, sent_alphas_mlbow.index.drop_duplicates().shape"
   ]
  },
  {
   "cell_type": "code",
   "execution_count": 22,
   "metadata": {},
   "outputs": [],
   "source": [
    "join_cols = ['date', 'ticker']\n",
    "sent_alphas = sent_alphas_lou.merge(sent_alphas_mlbow, how='inner', on=join_cols)\n",
    "sent_alphas['ticker'] = sent_alphas['ticker'].str.upper()\n",
    "sent_alphas = sent_alphas.drop_duplicates(subset=join_cols)\n",
    "\n",
    "sent_alphas_yr = sent_alphas.set_index(join_cols).sort_index()  # duplicated index entries are generated\n",
    "sent_alphas = sent_alphas.set_index(['date_filling', 'ticker']).sort_index()"
   ]
  },
  {
   "cell_type": "code",
   "execution_count": 23,
   "metadata": {},
   "outputs": [
    {
     "data": {
      "text/html": [
       "<div>\n",
       "<style scoped>\n",
       "    .dataframe tbody tr th:only-of-type {\n",
       "        vertical-align: middle;\n",
       "    }\n",
       "\n",
       "    .dataframe tbody tr th {\n",
       "        vertical-align: top;\n",
       "    }\n",
       "\n",
       "    .dataframe thead th {\n",
       "        text-align: right;\n",
       "    }\n",
       "</style>\n",
       "<table border=\"1\" class=\"dataframe\">\n",
       "  <thead>\n",
       "    <tr style=\"text-align: right;\">\n",
       "      <th></th>\n",
       "      <th></th>\n",
       "      <th>negative</th>\n",
       "      <th>positive</th>\n",
       "      <th>uncertainty</th>\n",
       "      <th>litigious</th>\n",
       "      <th>constraining</th>\n",
       "      <th>interesting</th>\n",
       "      <th>date</th>\n",
       "      <th>ml_bow_sentiment</th>\n",
       "    </tr>\n",
       "    <tr>\n",
       "      <th>date_filling</th>\n",
       "      <th>ticker</th>\n",
       "      <th></th>\n",
       "      <th></th>\n",
       "      <th></th>\n",
       "      <th></th>\n",
       "      <th></th>\n",
       "      <th></th>\n",
       "      <th></th>\n",
       "      <th></th>\n",
       "    </tr>\n",
       "  </thead>\n",
       "  <tbody>\n",
       "    <tr>\n",
       "      <th>1998-01-21</th>\n",
       "      <th>ROP</th>\n",
       "      <td>0.202734</td>\n",
       "      <td>-0.255622</td>\n",
       "      <td>0.590575</td>\n",
       "      <td>0.044073</td>\n",
       "      <td>-1.278109</td>\n",
       "      <td>0.520066</td>\n",
       "      <td>1998-01-01</td>\n",
       "      <td>1.103451</td>\n",
       "    </tr>\n",
       "    <tr>\n",
       "      <th>1998-01-23</th>\n",
       "      <th>AMAT</th>\n",
       "      <td>1.189962</td>\n",
       "      <td>-1.683578</td>\n",
       "      <td>1.242852</td>\n",
       "      <td>1.630689</td>\n",
       "      <td>1.260480</td>\n",
       "      <td>-1.331016</td>\n",
       "      <td>1998-01-01</td>\n",
       "      <td>-0.180894</td>\n",
       "    </tr>\n",
       "    <tr>\n",
       "      <th>2017-12-21</th>\n",
       "      <th>A</th>\n",
       "      <td>0.567696</td>\n",
       "      <td>-0.822580</td>\n",
       "      <td>-0.251022</td>\n",
       "      <td>0.544525</td>\n",
       "      <td>-0.668105</td>\n",
       "      <td>-1.602679</td>\n",
       "      <td>2017-01-01</td>\n",
       "      <td>-1.207598</td>\n",
       "    </tr>\n",
       "    <tr>\n",
       "      <th>2017-12-22</th>\n",
       "      <th>COO</th>\n",
       "      <td>-1.185596</td>\n",
       "      <td>0.482735</td>\n",
       "      <td>1.054292</td>\n",
       "      <td>-0.598591</td>\n",
       "      <td>-0.119718</td>\n",
       "      <td>0.583143</td>\n",
       "      <td>2017-01-01</td>\n",
       "      <td>0.510907</td>\n",
       "    </tr>\n",
       "  </tbody>\n",
       "</table>\n",
       "</div>"
      ],
      "text/plain": [
       "                     negative  positive  uncertainty  litigious  constraining  \\\n",
       "date_filling ticker                                                             \n",
       "1998-01-21   ROP     0.202734 -0.255622     0.590575   0.044073     -1.278109   \n",
       "1998-01-23   AMAT    1.189962 -1.683578     1.242852   1.630689      1.260480   \n",
       "2017-12-21   A       0.567696 -0.822580    -0.251022   0.544525     -0.668105   \n",
       "2017-12-22   COO    -1.185596  0.482735     1.054292  -0.598591     -0.119718   \n",
       "\n",
       "                     interesting       date  ml_bow_sentiment  \n",
       "date_filling ticker                                            \n",
       "1998-01-21   ROP        0.520066 1998-01-01          1.103451  \n",
       "1998-01-23   AMAT      -1.331016 1998-01-01         -0.180894  \n",
       "2017-12-21   A         -1.602679 2017-01-01         -1.207598  \n",
       "2017-12-22   COO        0.583143 2017-01-01          0.510907  "
      ]
     },
     "execution_count": 23,
     "metadata": {},
     "output_type": "execute_result"
    }
   ],
   "source": [
    "# loughan and ml-bow (1yr return targets) indexed at date_Filling (match with pricing)\n",
    "pd.concat([sent_alphas.head(2), sent_alphas.tail(2)], axis=0)"
   ]
  },
  {
   "cell_type": "code",
   "execution_count": 24,
   "metadata": {},
   "outputs": [
    {
     "data": {
      "text/html": [
       "<div>\n",
       "<style scoped>\n",
       "    .dataframe tbody tr th:only-of-type {\n",
       "        vertical-align: middle;\n",
       "    }\n",
       "\n",
       "    .dataframe tbody tr th {\n",
       "        vertical-align: top;\n",
       "    }\n",
       "\n",
       "    .dataframe thead th {\n",
       "        text-align: right;\n",
       "    }\n",
       "</style>\n",
       "<table border=\"1\" class=\"dataframe\">\n",
       "  <thead>\n",
       "    <tr style=\"text-align: right;\">\n",
       "      <th></th>\n",
       "      <th></th>\n",
       "      <th>date_filling</th>\n",
       "      <th>negative</th>\n",
       "      <th>positive</th>\n",
       "      <th>uncertainty</th>\n",
       "      <th>litigious</th>\n",
       "      <th>constraining</th>\n",
       "      <th>interesting</th>\n",
       "      <th>ml_bow_sentiment</th>\n",
       "    </tr>\n",
       "    <tr>\n",
       "      <th>date</th>\n",
       "      <th>ticker</th>\n",
       "      <th></th>\n",
       "      <th></th>\n",
       "      <th></th>\n",
       "      <th></th>\n",
       "      <th></th>\n",
       "      <th></th>\n",
       "      <th></th>\n",
       "      <th></th>\n",
       "    </tr>\n",
       "  </thead>\n",
       "  <tbody>\n",
       "    <tr>\n",
       "      <th rowspan=\"2\" valign=\"top\">1998-01-01</th>\n",
       "      <th>ABT</th>\n",
       "      <td>1998-03-09</td>\n",
       "      <td>1.630689</td>\n",
       "      <td>-1.701207</td>\n",
       "      <td>1.295739</td>\n",
       "      <td>0.837381</td>\n",
       "      <td>1.507287</td>\n",
       "      <td>-1.701232</td>\n",
       "      <td>-0.126626</td>\n",
       "    </tr>\n",
       "    <tr>\n",
       "      <th>ADBE</th>\n",
       "      <td>1998-02-17</td>\n",
       "      <td>-0.943155</td>\n",
       "      <td>-0.943156</td>\n",
       "      <td>-0.643462</td>\n",
       "      <td>0.572945</td>\n",
       "      <td>-1.137076</td>\n",
       "      <td>-0.590583</td>\n",
       "      <td>0.904468</td>\n",
       "    </tr>\n",
       "    <tr>\n",
       "      <th rowspan=\"2\" valign=\"top\">2017-01-01</th>\n",
       "      <th>ZION</th>\n",
       "      <td>2017-02-28</td>\n",
       "      <td>0.057928</td>\n",
       "      <td>1.247386</td>\n",
       "      <td>0.490458</td>\n",
       "      <td>-0.490458</td>\n",
       "      <td>0.003862</td>\n",
       "      <td>-1.455928</td>\n",
       "      <td>-1.370159</td>\n",
       "    </tr>\n",
       "    <tr>\n",
       "      <th>ZTS</th>\n",
       "      <td>2017-02-16</td>\n",
       "      <td>1.069740</td>\n",
       "      <td>-1.556336</td>\n",
       "      <td>-0.606315</td>\n",
       "      <td>-0.227851</td>\n",
       "      <td>1.324624</td>\n",
       "      <td>-0.050204</td>\n",
       "      <td>0.015482</td>\n",
       "    </tr>\n",
       "  </tbody>\n",
       "</table>\n",
       "</div>"
      ],
      "text/plain": [
       "                  date_filling  negative  positive  uncertainty  litigious  \\\n",
       "date       ticker                                                            \n",
       "1998-01-01 ABT      1998-03-09  1.630689 -1.701207     1.295739   0.837381   \n",
       "           ADBE     1998-02-17 -0.943155 -0.943156    -0.643462   0.572945   \n",
       "2017-01-01 ZION     2017-02-28  0.057928  1.247386     0.490458  -0.490458   \n",
       "           ZTS      2017-02-16  1.069740 -1.556336    -0.606315  -0.227851   \n",
       "\n",
       "                   constraining  interesting  ml_bow_sentiment  \n",
       "date       ticker                                               \n",
       "1998-01-01 ABT         1.507287    -1.701232         -0.126626  \n",
       "           ADBE       -1.137076    -0.590583          0.904468  \n",
       "2017-01-01 ZION        0.003862    -1.455928         -1.370159  \n",
       "           ZTS         1.324624    -0.050204          0.015482  "
      ]
     },
     "execution_count": 24,
     "metadata": {},
     "output_type": "execute_result"
    }
   ],
   "source": [
    "# loughan and ml-bow (1yr return targets) indexed at yearly freq (match with pricing_yr)\n",
    "pd.concat([sent_alphas_yr.head(2), sent_alphas_yr.tail(2)], axis=0)"
   ]
  },
  {
   "cell_type": "code",
   "execution_count": 25,
   "metadata": {},
   "outputs": [
    {
     "data": {
      "text/html": [
       "<div>\n",
       "<style scoped>\n",
       "    .dataframe tbody tr th:only-of-type {\n",
       "        vertical-align: middle;\n",
       "    }\n",
       "\n",
       "    .dataframe tbody tr th {\n",
       "        vertical-align: top;\n",
       "    }\n",
       "\n",
       "    .dataframe thead th {\n",
       "        text-align: right;\n",
       "    }\n",
       "</style>\n",
       "<table border=\"1\" class=\"dataframe\">\n",
       "  <thead>\n",
       "    <tr style=\"text-align: right;\">\n",
       "      <th></th>\n",
       "      <th></th>\n",
       "      <th>ml_bow_sentiment_5d</th>\n",
       "      <th>ml_bow_sentiment_20d</th>\n",
       "    </tr>\n",
       "    <tr>\n",
       "      <th>date_filling</th>\n",
       "      <th>ticker</th>\n",
       "      <th></th>\n",
       "      <th></th>\n",
       "    </tr>\n",
       "  </thead>\n",
       "  <tbody>\n",
       "    <tr>\n",
       "      <th>2011-12-16</th>\n",
       "      <th>A</th>\n",
       "      <td>0.622294</td>\n",
       "      <td>0.622294</td>\n",
       "    </tr>\n",
       "    <tr>\n",
       "      <th>2011-02-16</th>\n",
       "      <th>AAL</th>\n",
       "      <td>-1.136724</td>\n",
       "      <td>-1.136724</td>\n",
       "    </tr>\n",
       "    <tr>\n",
       "      <th rowspan=\"2\" valign=\"top\">2015-02-27</th>\n",
       "      <th>ZION</th>\n",
       "      <td>0.695164</td>\n",
       "      <td>0.695164</td>\n",
       "    </tr>\n",
       "    <tr>\n",
       "      <th>ZTS</th>\n",
       "      <td>-0.492082</td>\n",
       "      <td>-0.492082</td>\n",
       "    </tr>\n",
       "  </tbody>\n",
       "</table>\n",
       "</div>"
      ],
      "text/plain": [
       "                     ml_bow_sentiment_5d  ml_bow_sentiment_20d\n",
       "date_filling ticker                                           \n",
       "2011-12-16   A                  0.622294              0.622294\n",
       "2011-02-16   AAL               -1.136724             -1.136724\n",
       "2015-02-27   ZION               0.695164              0.695164\n",
       "             ZTS               -0.492082             -0.492082"
      ]
     },
     "execution_count": 25,
     "metadata": {},
     "output_type": "execute_result"
    }
   ],
   "source": [
    "# ml-bow (20d and 5d return targets) indexed at date_filling (match with pricing)\n",
    "pd.concat([sent_alphas_mlbow_20d_5d.head(2), sent_alphas_mlbow_20d_5d.tail(2)], axis=0)"
   ]
  },
  {
   "cell_type": "code",
   "execution_count": 26,
   "metadata": {},
   "outputs": [
    {
     "data": {
      "text/plain": [
       "((7242,), (7242,))"
      ]
     },
     "execution_count": 26,
     "metadata": {},
     "output_type": "execute_result"
    }
   ],
   "source": [
    "sent_alphas.index.shape, sent_alphas.index.drop_duplicates().shape"
   ]
  },
  {
   "cell_type": "markdown",
   "metadata": {},
   "source": [
    "# Create Alpha Factors\n",
    "\n",
    "Clean and Compute Forward Returns"
   ]
  },
  {
   "cell_type": "code",
   "execution_count": 27,
   "metadata": {},
   "outputs": [],
   "source": [
    "import alphalens as al"
   ]
  },
  {
   "cell_type": "code",
   "execution_count": 28,
   "metadata": {},
   "outputs": [],
   "source": [
    "alpha_factors = sentiments + ['ml_bow_sentiment']"
   ]
  },
  {
   "cell_type": "markdown",
   "metadata": {},
   "source": [
    "## Forward Returns"
   ]
  },
  {
   "cell_type": "code",
   "execution_count": 29,
   "metadata": {},
   "outputs": [
    {
     "name": "stdout",
     "output_type": "stream",
     "text": [
      "171.14 173.29 0.012562814070351792\n"
     ]
    }
   ],
   "source": [
    "p0, p1 = pricing.loc['2011-01-28', 'AMZN'], pricing.shift(-20).loc['2011-01-28', 'AMZN']\n",
    "ret = (p1-p0) /p0 \n",
    "print(p0, p1, ret)"
   ]
  },
  {
   "cell_type": "code",
   "execution_count": 30,
   "metadata": {},
   "outputs": [],
   "source": [
    "#np.isclose(ret, fwd_rets_2011.xs(key='AMZN', level='asset')['20D'])"
   ]
  },
  {
   "cell_type": "code",
   "execution_count": 31,
   "metadata": {},
   "outputs": [
    {
     "name": "stdout",
     "output_type": "stream",
     "text": [
      "Dropped 0.0% entries from factor data: 0.0% in forward returns computation and 0.0% in binning phase (set max_loss=0 to see potentially suppressed Exceptions).\n",
      "max_loss is 35.0%, not exceeded: OK!\n",
      "Dropped 73.7% entries from factor data: 70.4% in forward returns computation and 3.3% in binning phase (set max_loss=0 to see potentially suppressed Exceptions).\n",
      "max_loss is 90.0%, not exceeded: OK!\n",
      "Dropped 73.8% entries from factor data: 70.5% in forward returns computation and 3.2% in binning phase (set max_loss=0 to see potentially suppressed Exceptions).\n",
      "max_loss is 90.0%, not exceeded: OK!\n",
      "Dropped 0.0% entries from factor data: 0.0% in forward returns computation and 0.0% in binning phase (set max_loss=0 to see potentially suppressed Exceptions).\n",
      "max_loss is 35.0%, not exceeded: OK!\n",
      "Dropped 73.7% entries from factor data: 70.4% in forward returns computation and 3.3% in binning phase (set max_loss=0 to see potentially suppressed Exceptions).\n",
      "max_loss is 90.0%, not exceeded: OK!\n",
      "Dropped 73.8% entries from factor data: 70.5% in forward returns computation and 3.2% in binning phase (set max_loss=0 to see potentially suppressed Exceptions).\n",
      "max_loss is 90.0%, not exceeded: OK!\n",
      "Dropped 0.0% entries from factor data: 0.0% in forward returns computation and 0.0% in binning phase (set max_loss=0 to see potentially suppressed Exceptions).\n",
      "max_loss is 35.0%, not exceeded: OK!\n",
      "Dropped 73.7% entries from factor data: 70.4% in forward returns computation and 3.3% in binning phase (set max_loss=0 to see potentially suppressed Exceptions).\n",
      "max_loss is 90.0%, not exceeded: OK!\n",
      "Dropped 73.8% entries from factor data: 70.5% in forward returns computation and 3.2% in binning phase (set max_loss=0 to see potentially suppressed Exceptions).\n",
      "max_loss is 90.0%, not exceeded: OK!\n",
      "Dropped 0.0% entries from factor data: 0.0% in forward returns computation and 0.0% in binning phase (set max_loss=0 to see potentially suppressed Exceptions).\n",
      "max_loss is 35.0%, not exceeded: OK!\n",
      "Dropped 73.7% entries from factor data: 70.4% in forward returns computation and 3.3% in binning phase (set max_loss=0 to see potentially suppressed Exceptions).\n",
      "max_loss is 90.0%, not exceeded: OK!\n",
      "Dropped 73.8% entries from factor data: 70.5% in forward returns computation and 3.2% in binning phase (set max_loss=0 to see potentially suppressed Exceptions).\n",
      "max_loss is 90.0%, not exceeded: OK!\n",
      "Dropped 0.0% entries from factor data: 0.0% in forward returns computation and 0.0% in binning phase (set max_loss=0 to see potentially suppressed Exceptions).\n",
      "max_loss is 35.0%, not exceeded: OK!\n",
      "Dropped 73.7% entries from factor data: 70.4% in forward returns computation and 3.3% in binning phase (set max_loss=0 to see potentially suppressed Exceptions).\n",
      "max_loss is 90.0%, not exceeded: OK!\n",
      "Dropped 73.8% entries from factor data: 70.5% in forward returns computation and 3.2% in binning phase (set max_loss=0 to see potentially suppressed Exceptions).\n",
      "max_loss is 90.0%, not exceeded: OK!\n",
      "Dropped 0.0% entries from factor data: 0.0% in forward returns computation and 0.0% in binning phase (set max_loss=0 to see potentially suppressed Exceptions).\n",
      "max_loss is 35.0%, not exceeded: OK!\n",
      "Dropped 73.7% entries from factor data: 70.4% in forward returns computation and 3.3% in binning phase (set max_loss=0 to see potentially suppressed Exceptions).\n",
      "max_loss is 90.0%, not exceeded: OK!\n",
      "Dropped 73.8% entries from factor data: 70.5% in forward returns computation and 3.2% in binning phase (set max_loss=0 to see potentially suppressed Exceptions).\n",
      "max_loss is 90.0%, not exceeded: OK!\n",
      "Dropped 0.0% entries from factor data: 0.0% in forward returns computation and 0.0% in binning phase (set max_loss=0 to see potentially suppressed Exceptions).\n",
      "max_loss is 35.0%, not exceeded: OK!\n",
      "Dropped 73.7% entries from factor data: 70.4% in forward returns computation and 3.3% in binning phase (set max_loss=0 to see potentially suppressed Exceptions).\n",
      "max_loss is 90.0%, not exceeded: OK!\n",
      "Dropped 73.8% entries from factor data: 70.5% in forward returns computation and 3.2% in binning phase (set max_loss=0 to see potentially suppressed Exceptions).\n",
      "max_loss is 90.0%, not exceeded: OK!\n"
     ]
    }
   ],
   "source": [
    "factor_data_yr, factor_data_5d, factor_data_20d = {}, {}, {}\n",
    "skipped_sentiments = []\n",
    "\n",
    "for alpha in alpha_factors:\n",
    "    try:\n",
    "        data_yr = al.utils.get_clean_factor_and_forward_returns(\n",
    "            sent_alphas_yr[alpha], pricing_yr, quantiles=5, bins=None, periods=[1])\n",
    "        \n",
    "        data_5d = al.utils.get_clean_factor_and_forward_returns(\n",
    "            sent_alphas[alpha], pricing, quantiles=5, bins=None, periods=[5],\n",
    "            max_loss=0.9)  #max loss is increase due to factor sparsity\n",
    "            \n",
    "        data_20d = al.utils.get_clean_factor_and_forward_returns(\n",
    "            sent_alphas[alpha], pricing, quantiles=5, bins=None, periods=[20],\n",
    "            max_loss=0.9  #max loss is increase due to factor sparsity\n",
    "        )\n",
    "        factor_data_yr[alpha] = data_yr\n",
    "        factor_data_5d[alpha] = data_5d\n",
    "        factor_data_20d[alpha] = data_20d\n",
    "    except:\n",
    "        skipped_sentiments.append(alpha)\n",
    "\n",
    "if skipped_sentiments:\n",
    "    print('\\nSkipped the following sentiments:\\n{}'.format('\\n'.join(skipped_sentiments)))"
   ]
  },
  {
   "cell_type": "code",
   "execution_count": 32,
   "metadata": {},
   "outputs": [
    {
     "data": {
      "text/html": [
       "<div>\n",
       "<style scoped>\n",
       "    .dataframe tbody tr th:only-of-type {\n",
       "        vertical-align: middle;\n",
       "    }\n",
       "\n",
       "    .dataframe tbody tr th {\n",
       "        vertical-align: top;\n",
       "    }\n",
       "\n",
       "    .dataframe thead th {\n",
       "        text-align: right;\n",
       "    }\n",
       "</style>\n",
       "<table border=\"1\" class=\"dataframe\">\n",
       "  <thead>\n",
       "    <tr style=\"text-align: right;\">\n",
       "      <th></th>\n",
       "      <th></th>\n",
       "      <th>1D</th>\n",
       "      <th>factor</th>\n",
       "      <th>factor_quantile</th>\n",
       "    </tr>\n",
       "    <tr>\n",
       "      <th>date</th>\n",
       "      <th>asset</th>\n",
       "      <th></th>\n",
       "      <th></th>\n",
       "      <th></th>\n",
       "    </tr>\n",
       "  </thead>\n",
       "  <tbody>\n",
       "    <tr>\n",
       "      <th rowspan=\"2\" valign=\"top\">1998-01-01</th>\n",
       "      <th>ABT</th>\n",
       "      <td>-0.254036</td>\n",
       "      <td>-1.701207</td>\n",
       "      <td>1</td>\n",
       "    </tr>\n",
       "    <tr>\n",
       "      <th>ADBE</th>\n",
       "      <td>1.883467</td>\n",
       "      <td>-0.943156</td>\n",
       "      <td>2</td>\n",
       "    </tr>\n",
       "  </tbody>\n",
       "</table>\n",
       "</div>"
      ],
      "text/plain": [
       "                        1D    factor  factor_quantile\n",
       "date       asset                                     \n",
       "1998-01-01 ABT   -0.254036 -1.701207                1\n",
       "           ADBE   1.883467 -0.943156                2"
      ]
     },
     "execution_count": 32,
     "metadata": {},
     "output_type": "execute_result"
    }
   ],
   "source": [
    "factor_data_yr['positive'].head(2)"
   ]
  },
  {
   "cell_type": "code",
   "execution_count": 33,
   "metadata": {},
   "outputs": [
    {
     "data": {
      "text/html": [
       "<div>\n",
       "<style scoped>\n",
       "    .dataframe tbody tr th:only-of-type {\n",
       "        vertical-align: middle;\n",
       "    }\n",
       "\n",
       "    .dataframe tbody tr th {\n",
       "        vertical-align: top;\n",
       "    }\n",
       "\n",
       "    .dataframe thead th {\n",
       "        text-align: right;\n",
       "    }\n",
       "</style>\n",
       "<table border=\"1\" class=\"dataframe\">\n",
       "  <thead>\n",
       "    <tr style=\"text-align: right;\">\n",
       "      <th></th>\n",
       "      <th></th>\n",
       "      <th>5D</th>\n",
       "      <th>factor</th>\n",
       "      <th>factor_quantile</th>\n",
       "    </tr>\n",
       "    <tr>\n",
       "      <th>date</th>\n",
       "      <th>asset</th>\n",
       "      <th></th>\n",
       "      <th></th>\n",
       "      <th></th>\n",
       "    </tr>\n",
       "  </thead>\n",
       "  <tbody>\n",
       "    <tr>\n",
       "      <th rowspan=\"2\" valign=\"top\">2011-01-27</th>\n",
       "      <th>ADBE</th>\n",
       "      <td>-0.009453</td>\n",
       "      <td>-0.198185</td>\n",
       "      <td>5.0</td>\n",
       "    </tr>\n",
       "    <tr>\n",
       "      <th>MKC</th>\n",
       "      <td>-0.010637</td>\n",
       "      <td>-1.560705</td>\n",
       "      <td>1.0</td>\n",
       "    </tr>\n",
       "  </tbody>\n",
       "</table>\n",
       "</div>"
      ],
      "text/plain": [
       "                        5D    factor  factor_quantile\n",
       "date       asset                                     \n",
       "2011-01-27 ADBE  -0.009453 -0.198185              5.0\n",
       "           MKC   -0.010637 -1.560705              1.0"
      ]
     },
     "execution_count": 33,
     "metadata": {},
     "output_type": "execute_result"
    }
   ],
   "source": [
    "factor_data_5d['positive'].head(2)"
   ]
  },
  {
   "cell_type": "code",
   "execution_count": 34,
   "metadata": {},
   "outputs": [
    {
     "data": {
      "text/html": [
       "<div>\n",
       "<style scoped>\n",
       "    .dataframe tbody tr th:only-of-type {\n",
       "        vertical-align: middle;\n",
       "    }\n",
       "\n",
       "    .dataframe tbody tr th {\n",
       "        vertical-align: top;\n",
       "    }\n",
       "\n",
       "    .dataframe thead th {\n",
       "        text-align: right;\n",
       "    }\n",
       "</style>\n",
       "<table border=\"1\" class=\"dataframe\">\n",
       "  <thead>\n",
       "    <tr style=\"text-align: right;\">\n",
       "      <th></th>\n",
       "      <th></th>\n",
       "      <th>20D</th>\n",
       "      <th>factor</th>\n",
       "      <th>factor_quantile</th>\n",
       "    </tr>\n",
       "    <tr>\n",
       "      <th>date</th>\n",
       "      <th>asset</th>\n",
       "      <th></th>\n",
       "      <th></th>\n",
       "      <th></th>\n",
       "    </tr>\n",
       "  </thead>\n",
       "  <tbody>\n",
       "    <tr>\n",
       "      <th rowspan=\"2\" valign=\"top\">2011-01-27</th>\n",
       "      <th>ADBE</th>\n",
       "      <td>0.023043</td>\n",
       "      <td>-0.198185</td>\n",
       "      <td>5.0</td>\n",
       "    </tr>\n",
       "    <tr>\n",
       "      <th>MKC</th>\n",
       "      <td>0.048507</td>\n",
       "      <td>-1.560705</td>\n",
       "      <td>1.0</td>\n",
       "    </tr>\n",
       "  </tbody>\n",
       "</table>\n",
       "</div>"
      ],
      "text/plain": [
       "                       20D    factor  factor_quantile\n",
       "date       asset                                     \n",
       "2011-01-27 ADBE   0.023043 -0.198185              5.0\n",
       "           MKC    0.048507 -1.560705              1.0"
      ]
     },
     "execution_count": 34,
     "metadata": {},
     "output_type": "execute_result"
    }
   ],
   "source": [
    "factor_data_20d['positive'].head(2)"
   ]
  },
  {
   "cell_type": "code",
   "execution_count": 35,
   "metadata": {},
   "outputs": [
    {
     "name": "stdout",
     "output_type": "stream",
     "text": [
      "Dropped 11.1% entries from factor data: 0.0% in forward returns computation and 11.1% in binning phase (set max_loss=0 to see potentially suppressed Exceptions).\n",
      "max_loss is 35.0%, not exceeded: OK!\n",
      "Dropped 11.3% entries from factor data: 0.4% in forward returns computation and 10.9% in binning phase (set max_loss=0 to see potentially suppressed Exceptions).\n",
      "max_loss is 35.0%, not exceeded: OK!\n"
     ]
    }
   ],
   "source": [
    "factor_data_tgt5d_20d = {}\n",
    "skipped_sentiments = []\n",
    "\n",
    "for alpha, tau in zip(sent_alphas_mlbow_20d_5d.columns, [5, 20]):\n",
    "\n",
    "    try:\n",
    "        data_tgt5d_20d = al.utils.get_clean_factor_and_forward_returns(\n",
    "            sent_alphas_mlbow_20d_5d[alpha], pricing, quantiles=5, bins=None, periods=[tau],\n",
    "            max_loss=0.35)  #max loss is increase due to factor sparsity\n",
    "            \n",
    "        factor_data_tgt5d_20d[alpha] = data_tgt5d_20d\n",
    "    except:\n",
    "        skipped_sentiments.append(alpha)\n",
    "\n",
    "if skipped_sentiments:\n",
    "    print('\\nSkipped the following sentiments:\\n{}'.format('\\n'.join(skipped_sentiments)))"
   ]
  },
  {
   "cell_type": "code",
   "execution_count": 36,
   "metadata": {},
   "outputs": [
    {
     "data": {
      "text/html": [
       "<div>\n",
       "<style scoped>\n",
       "    .dataframe tbody tr th:only-of-type {\n",
       "        vertical-align: middle;\n",
       "    }\n",
       "\n",
       "    .dataframe tbody tr th {\n",
       "        vertical-align: top;\n",
       "    }\n",
       "\n",
       "    .dataframe thead th {\n",
       "        text-align: right;\n",
       "    }\n",
       "</style>\n",
       "<table border=\"1\" class=\"dataframe\">\n",
       "  <thead>\n",
       "    <tr style=\"text-align: right;\">\n",
       "      <th></th>\n",
       "      <th></th>\n",
       "      <th>5D</th>\n",
       "      <th>factor</th>\n",
       "      <th>factor_quantile</th>\n",
       "    </tr>\n",
       "    <tr>\n",
       "      <th>date</th>\n",
       "      <th>asset</th>\n",
       "      <th></th>\n",
       "      <th></th>\n",
       "      <th></th>\n",
       "    </tr>\n",
       "  </thead>\n",
       "  <tbody>\n",
       "    <tr>\n",
       "      <th>2011-12-16</th>\n",
       "      <th>A</th>\n",
       "      <td>0.041699</td>\n",
       "      <td>0.622294</td>\n",
       "      <td>1.0</td>\n",
       "    </tr>\n",
       "    <tr>\n",
       "      <th>2011-02-16</th>\n",
       "      <th>AAL</th>\n",
       "      <td>-0.165364</td>\n",
       "      <td>-1.136724</td>\n",
       "      <td>1.0</td>\n",
       "    </tr>\n",
       "  </tbody>\n",
       "</table>\n",
       "</div>"
      ],
      "text/plain": [
       "                        5D    factor  factor_quantile\n",
       "date       asset                                     \n",
       "2011-12-16 A      0.041699  0.622294              1.0\n",
       "2011-02-16 AAL   -0.165364 -1.136724              1.0"
      ]
     },
     "execution_count": 36,
     "metadata": {},
     "output_type": "execute_result"
    }
   ],
   "source": [
    "factor_data_tgt5d_20d['ml_bow_sentiment_5d'].head(2)"
   ]
  },
  {
   "cell_type": "code",
   "execution_count": 37,
   "metadata": {},
   "outputs": [
    {
     "data": {
      "text/html": [
       "<div>\n",
       "<style scoped>\n",
       "    .dataframe tbody tr th:only-of-type {\n",
       "        vertical-align: middle;\n",
       "    }\n",
       "\n",
       "    .dataframe tbody tr th {\n",
       "        vertical-align: top;\n",
       "    }\n",
       "\n",
       "    .dataframe thead th {\n",
       "        text-align: right;\n",
       "    }\n",
       "</style>\n",
       "<table border=\"1\" class=\"dataframe\">\n",
       "  <thead>\n",
       "    <tr style=\"text-align: right;\">\n",
       "      <th></th>\n",
       "      <th></th>\n",
       "      <th>20D</th>\n",
       "      <th>factor</th>\n",
       "      <th>factor_quantile</th>\n",
       "    </tr>\n",
       "    <tr>\n",
       "      <th>date</th>\n",
       "      <th>asset</th>\n",
       "      <th></th>\n",
       "      <th></th>\n",
       "      <th></th>\n",
       "    </tr>\n",
       "  </thead>\n",
       "  <tbody>\n",
       "    <tr>\n",
       "      <th>2011-12-16</th>\n",
       "      <th>A</th>\n",
       "      <td>0.057036</td>\n",
       "      <td>0.622294</td>\n",
       "      <td>1.0</td>\n",
       "    </tr>\n",
       "    <tr>\n",
       "      <th>2011-02-16</th>\n",
       "      <th>AAL</th>\n",
       "      <td>-0.159399</td>\n",
       "      <td>-1.136724</td>\n",
       "      <td>1.0</td>\n",
       "    </tr>\n",
       "  </tbody>\n",
       "</table>\n",
       "</div>"
      ],
      "text/plain": [
       "                       20D    factor  factor_quantile\n",
       "date       asset                                     \n",
       "2011-12-16 A      0.057036  0.622294              1.0\n",
       "2011-02-16 AAL   -0.159399 -1.136724              1.0"
      ]
     },
     "execution_count": 37,
     "metadata": {},
     "output_type": "execute_result"
    }
   ],
   "source": [
    "factor_data_tgt5d_20d['ml_bow_sentiment_20d'].head(2)"
   ]
  },
  {
   "cell_type": "markdown",
   "metadata": {},
   "source": [
    "## Alpha Factors Assessment"
   ]
  },
  {
   "cell_type": "code",
   "execution_count": 38,
   "metadata": {},
   "outputs": [
    {
     "data": {
      "text/plain": [
       "'2013-12-31'"
      ]
     },
     "execution_count": 38,
     "metadata": {},
     "output_type": "execute_result"
    }
   ],
   "source": [
    "train_test_split_yr"
   ]
  },
  {
   "cell_type": "code",
   "execution_count": 39,
   "metadata": {},
   "outputs": [],
   "source": [
    "def split_factor_data_dictionary(factor_data, train_test_split_yr):\n",
    "    \n",
    "    last_train = pd.Timestamp(train_test_split_yr)\n",
    "    first_test = last_train + pd.tseries.offsets.DateOffset(days=1)\n",
    "    \n",
    "    factor_data_train, factor_data_test = {}, {}\n",
    "    for key_sent, val_frets in factor_data.items():\n",
    "        factor_data_cp = factor_data[key_sent].sort_index()\n",
    "        factor_data_train[key_sent] = factor_data_cp.loc[:last_train]\n",
    "        factor_data_test[key_sent] =  factor_data_cp.loc[first_test:]\n",
    "    return factor_data_train, factor_data_test"
   ]
  },
  {
   "cell_type": "code",
   "execution_count": 40,
   "metadata": {},
   "outputs": [],
   "source": [
    "# loughan and ml-bow (1yr return targets) indexed at yearly freq (match with pricing_yr)\n",
    "factor_data_yr_train, factor_data_yr_test = split_factor_data_dictionary(factor_data_yr, train_test_split_yr)\n",
    "\n",
    "# loughan and ml-bow (1yr return targets) indexed at date_filling (match with pricing)\n",
    "factor_data_5d_train, factor_data_5d_test = split_factor_data_dictionary(factor_data_5d, train_test_split_yr)\n",
    "factor_data_20d_train, factor_data_20d_test = split_factor_data_dictionary(factor_data_20d, train_test_split_yr)\n",
    "\n",
    "# ml-bow (20d and 5d return targets) indexed at date_filling (match with pricing)\n",
    "factor_data_tgt5d_20d_train, factor_data_tgt5d_20d_test = split_factor_data_dictionary(factor_data_tgt5d_20d, train_test_split_yr)"
   ]
  },
  {
   "cell_type": "code",
   "execution_count": 41,
   "metadata": {},
   "outputs": [
    {
     "data": {
      "text/plain": [
       "(5472, 3)"
      ]
     },
     "execution_count": 41,
     "metadata": {},
     "output_type": "execute_result"
    }
   ],
   "source": [
    "factor_data_yr_train['positive'].shape"
   ]
  },
  {
   "cell_type": "code",
   "execution_count": 42,
   "metadata": {},
   "outputs": [
    {
     "data": {
      "text/plain": [
       "(1770, 3)"
      ]
     },
     "execution_count": 42,
     "metadata": {},
     "output_type": "execute_result"
    }
   ],
   "source": [
    "factor_data_yr_test['positive'].shape"
   ]
  },
  {
   "cell_type": "code",
   "execution_count": 43,
   "metadata": {},
   "outputs": [
    {
     "data": {
      "text/plain": [
       "dict_keys(['ml_bow_sentiment_20d', 'ml_bow_sentiment_5d'])"
      ]
     },
     "execution_count": 43,
     "metadata": {},
     "output_type": "execute_result"
    }
   ],
   "source": [
    "factor_data_tgt5d_20d_test.keys()"
   ]
  },
  {
   "cell_type": "code",
   "execution_count": 44,
   "metadata": {},
   "outputs": [],
   "source": [
    "%%capture\n",
    "# loughan and ml-bow (1yr return targets) indexed at yearly freq (match with pricing_yr)\n",
    "df_factor_return_yr, df_sharpe_yr, df_rank_ic_yr, df_fra_yr, df_qr_yr = quant_factors.factor_evaluation(\n",
    "    factor_data_yr, factor_names=alpha_factors, frequency=\"yearly\")\n",
    "\n",
    "df_factor_return_yr_train, df_sharpe_yr_train, df_rank_ic_yr_train, df_fra_yr_train, df_qr_yr_train = quant_factors.factor_evaluation(\n",
    "    factor_data_yr_train, factor_names=alpha_factors, frequency=\"yearly\")\n",
    "\n",
    "df_factor_return_yr_test, df_sharpe_yr_test, df_rank_ic_yr_test, df_fra_yr_test, df_qr_yr_test = quant_factors.factor_evaluation(\n",
    "    factor_data_yr_test, factor_names=alpha_factors, frequency=\"yearly\")\n",
    "\n",
    "\n",
    "# loughan and ml-bow (1yr return targets) indexed at date_Filling (match with pricing)\n",
    "df_factor_return_5d, df_sharpe_5d, df_rank_ic_5d, df_fra_5d, df_qr_5d = quant_factors.factor_evaluation(\n",
    "    factor_data_5d_test, factor_names=alpha_factors, frequency=\"daily\")\n",
    "\n",
    "df_factor_return_20d, df_sharpe_20d, df_rank_ic_20d, df_fra_20d, df_qr_20d = quant_factors.factor_evaluation(\n",
    "    factor_data_20d_test, factor_names=alpha_factors, frequency=\"daily\")\n",
    "\n",
    "# ml-bow (20d and 5d return targets) indexed at date_filling (match with pricing)\n",
    "df_factor_return_tgt5d_20d, df_sharpe_tgt5d_20d, df_rank_ic_tgt5d_20d, df_fra_tgt5d_20d, df_qr_tgt5d_20d = quant_factors.factor_evaluation(\n",
    "    factor_data_tgt5d_20d_test, factor_names=['ml_bow_sentiment_5d', 'ml_bow_sentiment_20d'], frequency=\"daily\")"
   ]
  },
  {
   "cell_type": "code",
   "execution_count": 47,
   "metadata": {},
   "outputs": [
    {
     "data": {
      "text/plain": [
       "Index(['ml_bow_sentiment_5d', 'ml_bow_sentiment_20d'], dtype='object')"
      ]
     },
     "execution_count": 47,
     "metadata": {},
     "output_type": "execute_result"
    }
   ],
   "source": [
    "df_factor_return_tgt5d_20d.columns"
   ]
  },
  {
   "cell_type": "code",
   "execution_count": 52,
   "metadata": {},
   "outputs": [],
   "source": [
    "def compute_sharpe_ratio(returns, ann_factor=252):\n",
    "    return  np.sqrt(ann_factor) * returns.mean(axis=0) / returns.std(axis=0)"
   ]
  },
  {
   "cell_type": "code",
   "execution_count": 61,
   "metadata": {},
   "outputs": [],
   "source": [
    "df_sharpe_yr = compute_sharpe_ratio(df_factor_return_yr, ann_factor=1)\n",
    "df_sharpe_yr_test = compute_sharpe_ratio(df_factor_return_yr_test, ann_factor=1)\n",
    "\n",
    "df_sharpe_5d = compute_sharpe_ratio(df_factor_return_5d, ann_factor=52)\n",
    "df_sharpe_20d = compute_sharpe_ratio(df_factor_return_20d, ann_factor=12)\n",
    "\n",
    "df_sharpe_tgt5d_20d = compute_sharpe_ratio(\n",
    "    df_factor_return_tgt5d_20d,\n",
    "    ann_factor=pd.Series(index=['ml_bow_sentiment_5d', 'ml_bow_sentiment_20d'], data=[52, 12])\n",
    ")"
   ]
  },
  {
   "cell_type": "code",
   "execution_count": 63,
   "metadata": {},
   "outputs": [
    {
     "data": {
      "text/plain": [
       "negative           -0.262514\n",
       "positive            0.365283\n",
       "uncertainty        -0.026507\n",
       "litigious          -0.208861\n",
       "constraining       -0.308013\n",
       "interesting         0.126408\n",
       "ml_bow_sentiment    1.007877\n",
       "dtype: float64"
      ]
     },
     "execution_count": 63,
     "metadata": {},
     "output_type": "execute_result"
    }
   ],
   "source": [
    "df_sharpe_yr"
   ]
  },
  {
   "cell_type": "code",
   "execution_count": 64,
   "metadata": {},
   "outputs": [
    {
     "data": {
      "text/plain": [
       "negative           -2.739798\n",
       "positive            2.052068\n",
       "uncertainty         2.942257\n",
       "litigious          -0.497474\n",
       "constraining        1.982728\n",
       "interesting        -0.116877\n",
       "ml_bow_sentiment    0.489141\n",
       "dtype: float64"
      ]
     },
     "execution_count": 64,
     "metadata": {},
     "output_type": "execute_result"
    }
   ],
   "source": [
    "df_sharpe_yr_test"
   ]
  },
  {
   "cell_type": "code",
   "execution_count": 65,
   "metadata": {},
   "outputs": [
    {
     "data": {
      "text/plain": [
       "negative            1.110229\n",
       "positive            0.450325\n",
       "uncertainty        -0.056374\n",
       "litigious          -0.188798\n",
       "constraining        0.446316\n",
       "interesting        -1.379428\n",
       "ml_bow_sentiment   -0.444983\n",
       "dtype: float64"
      ]
     },
     "execution_count": 65,
     "metadata": {},
     "output_type": "execute_result"
    }
   ],
   "source": [
    "df_sharpe_5d"
   ]
  },
  {
   "cell_type": "code",
   "execution_count": 66,
   "metadata": {},
   "outputs": [
    {
     "data": {
      "text/plain": [
       "negative            0.377943\n",
       "positive           -0.418418\n",
       "uncertainty         0.036083\n",
       "litigious           0.321711\n",
       "constraining        0.430720\n",
       "interesting        -0.513233\n",
       "ml_bow_sentiment    0.515896\n",
       "dtype: float64"
      ]
     },
     "execution_count": 66,
     "metadata": {},
     "output_type": "execute_result"
    }
   ],
   "source": [
    "df_sharpe_20d"
   ]
  },
  {
   "cell_type": "code",
   "execution_count": 67,
   "metadata": {},
   "outputs": [
    {
     "data": {
      "text/plain": [
       "ml_bow_sentiment_5d     0.070196\n",
       "ml_bow_sentiment_20d   -0.673950\n",
       "dtype: float64"
      ]
     },
     "execution_count": 67,
     "metadata": {},
     "output_type": "execute_result"
    }
   ],
   "source": [
    "df_sharpe_tgt5d_20d"
   ]
  },
  {
   "cell_type": "markdown",
   "metadata": {},
   "source": [
    "## Sharpe Ratio"
   ]
  },
  {
   "cell_type": "code",
   "execution_count": 72,
   "metadata": {},
   "outputs": [
    {
     "data": {
      "image/png": "[encoded data removed]",
      "text/plain": [
       "<Figure size 1152x432 with 2 Axes>"
      ]
     },
     "metadata": {
      "needs_background": "light"
     },
     "output_type": "display_data"
    }
   ],
   "source": [
    "fig, axs = plt.subplots(1, 2, figsize=(16, 6), sharey=True)\n",
    "\n",
    "plt.suptitle(\"Sharpe Ratio: Sentiment alpha\", y=1.02)\n",
    "ax1 = axs[0]\n",
    "df_sharpe_yr.plot.bar(ax=ax1)\n",
    "ax1.set_title('Rule based (full data)')\n",
    "ax1.axhline(y=1, linestyle='--', color='black')\n",
    "\n",
    "ax2 = axs[1]\n",
    "df_sharpe_yr_test.plot.bar(ax=ax2)\n",
    "ax2.set_title('ML-Based (on test: {})'.format(train_test_split_yr))\n",
    "ax2.axhline(y=1, linestyle='--', color='black')\n",
    "#ax1.set_xticks(rotation=0)\n",
    "plt.show()"
   ]
  },
  {
   "cell_type": "markdown",
   "metadata": {},
   "source": [
    "## Forward Returns"
   ]
  },
  {
   "cell_type": "code",
   "execution_count": 75,
   "metadata": {},
   "outputs": [
    {
     "data": {
      "text/plain": [
       "negative           -2.739798\n",
       "positive            2.052068\n",
       "uncertainty         2.942257\n",
       "litigious          -0.497474\n",
       "constraining        1.982728\n",
       "interesting        -0.116877\n",
       "ml_bow_sentiment    0.489141\n",
       "dtype: float64"
      ]
     },
     "execution_count": 75,
     "metadata": {},
     "output_type": "execute_result"
    }
   ],
   "source": [
    "df_sharpe_yr_test"
   ]
  },
  {
   "cell_type": "code",
   "execution_count": 77,
   "metadata": {},
   "outputs": [
    {
     "data": {
      "image/png": "[encoded data removed]",
      "text/plain": [
       "<Figure size 1152x576 with 1 Axes>"
      ]
     },
     "metadata": {
      "needs_background": "light"
     },
     "output_type": "display_data"
    }
   ],
   "source": [
    "fwd_rets_yr = (1 + df_factor_return_yr_test).cumprod()\n",
    "fwd_rets_yr.iloc[0] = 1\n",
    "fwd_rets_yr.plot( figsize=(16,8))\n",
    "plt.title('Forward (weighted) returns for each sentiment-alpha-factor (on test: {})'.format(train_test_split_yr))\n",
    "plt.axhline(y=1, linestyle='--', color='black', )\n",
    "plt.show()"
   ]
  },
  {
   "cell_type": "markdown",
   "metadata": {},
   "source": [
    "## Information Coefficient"
   ]
  },
  {
   "cell_type": "code",
   "execution_count": 85,
   "metadata": {},
   "outputs": [
    {
     "data": {
      "image/png": "[encoded data removed]",
      "text/plain": [
       "<Figure size 1152x432 with 1 Axes>"
      ]
     },
     "metadata": {
      "needs_background": "light"
     },
     "output_type": "display_data"
    }
   ],
   "source": [
    "df_rank_ic_yr_test.plot(figsize=(16, 6))\n",
    "plt.title('Information Coefficient: Spearman Rank Correlation alpha[t] vs returns[t+1] (on test: {})'.format(train_test_split_yr))\n",
    "plt.axhline(y=0, linestyle='--', color='black', )\n",
    "plt.show()"
   ]
  },
  {
   "cell_type": "code",
   "execution_count": 80,
   "metadata": {},
   "outputs": [
    {
     "data": {
      "text/plain": [
       "negative           -0.045274\n",
       "positive            0.089712\n",
       "uncertainty         0.034298\n",
       "litigious          -0.024697\n",
       "constraining        0.041143\n",
       "interesting        -0.028137\n",
       "ml_bow_sentiment    0.030957\n",
       "dtype: float64"
      ]
     },
     "execution_count": 80,
     "metadata": {},
     "output_type": "execute_result"
    }
   ],
   "source": [
    "df_rank_ic_yr_test.mean(axis=0)"
   ]
  },
  {
   "cell_type": "markdown",
   "metadata": {},
   "source": [
    "## Quantile Analysis"
   ]
  },
  {
   "cell_type": "code",
   "execution_count": 86,
   "metadata": {},
   "outputs": [
    {
     "data": {
      "image/png": "[encoded data removed]",
      "text/plain": [
       "<Figure size 1152x720 with 9 Axes>"
      ]
     },
     "metadata": {
      "needs_background": "light"
     },
     "output_type": "display_data"
    }
   ],
   "source": [
    "axs = df_qr_yr_test.plot.bar(subplots=True, layout=(3,3), legend=False, sharex=True, sharey=True,  figsize=(16, 10))\n",
    "plt.title('Quantile Analysis: Forward Returns Average by sentiment-alpha-factor quantile (on test: {})'.format(train_test_split_yr))\n",
    "\n",
    "for ax in axs[1,:]:\n",
    "    ax.tick_params(labelrotation=0)\n",
    "for ax in axs[:,0]:\n",
    "    ax.set_yticklabels([int(x) for x in ax.get_yticks()*1e4])\n",
    "    ax.set_ylabel(\"(bps)\")\n",
    "plt.show()"
   ]
  },
  {
   "cell_type": "markdown",
   "metadata": {},
   "source": [
    "## Turnover (FRA)"
   ]
  },
  {
   "cell_type": "code",
   "execution_count": 87,
   "metadata": {},
   "outputs": [
    {
     "data": {
      "image/png": "[encoded data removed]",
      "text/plain": [
       "<Figure size 1152x576 with 1 Axes>"
      ]
     },
     "metadata": {
      "needs_background": "light"
     },
     "output_type": "display_data"
    }
   ],
   "source": [
    "df_fra_yr_test.plot(title=\"Factor Rank Autocorrelation\", figsize=(16,8))\n",
    "plt.title('Turnover Analysis: Factor Rank Autocorrelation by each sentiment-alpha-factor (on test: {})'.format(train_test_split_yr))\n",
    "plt.axhline(y=0, linestyle='--', color='black', )\n",
    "plt.show()"
   ]
  },
  {
   "cell_type": "code",
   "execution_count": null,
   "metadata": {},
   "outputs": [],
   "source": []
  }
 ],
 "metadata": {
  "kernelspec": {
   "display_name": "Python 3",
   "language": "python",
   "name": "python3"
  },
  "language_info": {
   "codemirror_mode": {
    "name": "ipython",
    "version": 3
   },
   "file_extension": ".py",
   "mimetype": "text/x-python",
   "name": "python",
   "nbconvert_exporter": "python",
   "pygments_lexer": "ipython3",
   "version": "3.7.7"
  },
  "toc-autonumbering": true
 },
 "nbformat": 4,
 "nbformat_minor": 4
}
